{
 "cells": [
  {
   "cell_type": "code",
   "execution_count": 1,
   "metadata": {},
   "outputs": [],
   "source": [
    "import tensorflow as tf\n",
    "import numpy as np\n",
    "import pickle\n",
    "np.random.seed(7)"
   ]
  },
  {
   "cell_type": "code",
   "execution_count": 2,
   "metadata": {},
   "outputs": [
    {
     "name": "stdout",
     "output_type": "stream",
     "text": [
      "(105000, 24)\n"
     ]
    }
   ],
   "source": [
    "with open ('C:\\\\Users\\\\Wilfred\\\\Desktop\\\\better-of-two\\\\input_layer_4_6_10_3.pickle','rb') as file:\n",
    "    input_data = pickle.load(file)\n",
    "permutation = list(np.random.permutation(input_data.shape[0]))\n",
    "input_data = input_data[permutation,:]\n",
    "print(input_data.shape)\n",
    "x_train = input_data[:100000, :]\n",
    "x_test = input_data[100000:105000, :]\n"
   ]
  },
  {
   "cell_type": "code",
   "execution_count": 3,
   "metadata": {},
   "outputs": [
    {
     "name": "stdout",
     "output_type": "stream",
     "text": [
      "(105000, 12)\n",
      "(105000, 12)\n"
     ]
    }
   ],
   "source": [
    "with open ('C:\\\\Users\\\\Wilfred\\\\Desktop\\\\better-of-two\\\\output_layer_4_6_10_3.pickle','rb') as file:\n",
    "    output_data = pickle.load(file)\n",
    "print(output_data.shape)\n",
    "#output_data = np.transpose(output_data)\n",
    "output_data = output_data[permutation,:]\n",
    "y_train = output_data[:100000, :]\n",
    "y_test = output_data[100000:105000, :]\n",
    "print(output_data.shape)"
   ]
  },
  {
   "cell_type": "code",
   "execution_count": 4,
   "metadata": {},
   "outputs": [
    {
     "name": "stdout",
     "output_type": "stream",
     "text": [
      "Train on 100000 samples, validate on 5000 samples\n",
      "Epoch 1/100\n",
      "100000/100000 - 3s - loss: 0.2757 - accuracy: 0.8891 - val_loss: 0.2218 - val_accuracy: 0.9114\n",
      "Epoch 2/100\n",
      "100000/100000 - 2s - loss: 0.2139 - accuracy: 0.9135 - val_loss: 0.2092 - val_accuracy: 0.9144\n",
      "Epoch 3/100\n",
      "100000/100000 - 2s - loss: 0.2064 - accuracy: 0.9147 - val_loss: 0.2048 - val_accuracy: 0.9141\n",
      "Epoch 4/100\n",
      "100000/100000 - 2s - loss: 0.1991 - accuracy: 0.9151 - val_loss: 0.1944 - val_accuracy: 0.9156\n",
      "Epoch 5/100\n",
      "100000/100000 - 2s - loss: 0.1829 - accuracy: 0.9196 - val_loss: 0.1730 - val_accuracy: 0.9234\n",
      "Epoch 6/100\n",
      "100000/100000 - 2s - loss: 0.1575 - accuracy: 0.9272 - val_loss: 0.1443 - val_accuracy: 0.9308\n",
      "Epoch 7/100\n",
      "100000/100000 - 2s - loss: 0.1351 - accuracy: 0.9354 - val_loss: 0.1299 - val_accuracy: 0.9377\n",
      "Epoch 8/100\n",
      "100000/100000 - 2s - loss: 0.1188 - accuracy: 0.9435 - val_loss: 0.1212 - val_accuracy: 0.9422\n",
      "Epoch 9/100\n",
      "100000/100000 - 2s - loss: 0.1086 - accuracy: 0.9490 - val_loss: 0.1086 - val_accuracy: 0.9490\n",
      "Epoch 10/100\n",
      "100000/100000 - 2s - loss: 0.0970 - accuracy: 0.9554 - val_loss: 0.1026 - val_accuracy: 0.9528\n",
      "Epoch 11/100\n",
      "100000/100000 - 2s - loss: 0.0902 - accuracy: 0.9588 - val_loss: 0.0919 - val_accuracy: 0.9575\n",
      "Epoch 12/100\n",
      "100000/100000 - 2s - loss: 0.0823 - accuracy: 0.9630 - val_loss: 0.0855 - val_accuracy: 0.9616\n",
      "Epoch 13/100\n",
      "100000/100000 - 2s - loss: 0.0747 - accuracy: 0.9670 - val_loss: 0.0812 - val_accuracy: 0.9638\n",
      "Epoch 14/100\n",
      "100000/100000 - 2s - loss: 0.0681 - accuracy: 0.9699 - val_loss: 0.0727 - val_accuracy: 0.9682\n",
      "Epoch 15/100\n",
      "100000/100000 - 2s - loss: 0.0624 - accuracy: 0.9727 - val_loss: 0.0679 - val_accuracy: 0.9700\n",
      "Epoch 16/100\n",
      "100000/100000 - 2s - loss: 0.0574 - accuracy: 0.9750 - val_loss: 0.0667 - val_accuracy: 0.9706\n",
      "Epoch 17/100\n",
      "100000/100000 - 2s - loss: 0.0538 - accuracy: 0.9765 - val_loss: 0.0616 - val_accuracy: 0.9740\n",
      "Epoch 18/100\n",
      "100000/100000 - 2s - loss: 0.0508 - accuracy: 0.9781 - val_loss: 0.0579 - val_accuracy: 0.9745\n",
      "Epoch 19/100\n",
      "100000/100000 - 2s - loss: 0.0500 - accuracy: 0.9784 - val_loss: 0.0593 - val_accuracy: 0.9741\n",
      "Epoch 20/100\n",
      "100000/100000 - 2s - loss: 0.0473 - accuracy: 0.9795 - val_loss: 0.0573 - val_accuracy: 0.9752\n",
      "Epoch 21/100\n",
      "100000/100000 - 2s - loss: 0.0437 - accuracy: 0.9809 - val_loss: 0.0520 - val_accuracy: 0.9776\n",
      "Epoch 22/100\n",
      "100000/100000 - 2s - loss: 0.0413 - accuracy: 0.9822 - val_loss: 0.0560 - val_accuracy: 0.9765\n",
      "Epoch 23/100\n",
      "100000/100000 - 2s - loss: 0.0402 - accuracy: 0.9823 - val_loss: 0.0517 - val_accuracy: 0.9776\n",
      "Epoch 24/100\n",
      "100000/100000 - 2s - loss: 0.0395 - accuracy: 0.9826 - val_loss: 0.0488 - val_accuracy: 0.9792\n",
      "Epoch 25/100\n",
      "100000/100000 - 2s - loss: 0.0373 - accuracy: 0.9833 - val_loss: 0.0474 - val_accuracy: 0.9799\n",
      "Epoch 26/100\n",
      "100000/100000 - 2s - loss: 0.0370 - accuracy: 0.9835 - val_loss: 0.0488 - val_accuracy: 0.9785\n",
      "Epoch 27/100\n",
      "100000/100000 - 2s - loss: 0.0352 - accuracy: 0.9842 - val_loss: 0.0480 - val_accuracy: 0.9788\n",
      "Epoch 28/100\n",
      "100000/100000 - 2s - loss: 0.0364 - accuracy: 0.9838 - val_loss: 0.0455 - val_accuracy: 0.9805\n",
      "Epoch 29/100\n",
      "100000/100000 - 2s - loss: 0.0354 - accuracy: 0.9842 - val_loss: 0.0516 - val_accuracy: 0.9784\n",
      "Epoch 30/100\n",
      "100000/100000 - 2s - loss: 0.0327 - accuracy: 0.9851 - val_loss: 0.0466 - val_accuracy: 0.9798\n",
      "Epoch 31/100\n",
      "100000/100000 - 2s - loss: 0.0342 - accuracy: 0.9845 - val_loss: 0.0532 - val_accuracy: 0.9776\n",
      "Epoch 32/100\n",
      "100000/100000 - 2s - loss: 0.0329 - accuracy: 0.9851 - val_loss: 0.0439 - val_accuracy: 0.9813\n",
      "Epoch 33/100\n",
      "100000/100000 - 2s - loss: 0.0311 - accuracy: 0.9858 - val_loss: 0.0423 - val_accuracy: 0.9815\n",
      "Epoch 34/100\n",
      "100000/100000 - 2s - loss: 0.0329 - accuracy: 0.9852 - val_loss: 0.0444 - val_accuracy: 0.9811\n",
      "Epoch 35/100\n",
      "100000/100000 - 2s - loss: 0.0291 - accuracy: 0.9865 - val_loss: 0.0439 - val_accuracy: 0.9815\n",
      "Epoch 36/100\n",
      "100000/100000 - 2s - loss: 0.0312 - accuracy: 0.9859 - val_loss: 0.0463 - val_accuracy: 0.9808\n",
      "Epoch 37/100\n",
      "100000/100000 - 2s - loss: 0.0313 - accuracy: 0.9858 - val_loss: 0.0513 - val_accuracy: 0.9795\n",
      "Epoch 38/100\n",
      "100000/100000 - 2s - loss: 0.0303 - accuracy: 0.9861 - val_loss: 0.0408 - val_accuracy: 0.9823\n",
      "Epoch 39/100\n",
      "100000/100000 - 2s - loss: 0.0285 - accuracy: 0.9869 - val_loss: 0.0413 - val_accuracy: 0.9831\n",
      "Epoch 40/100\n",
      "100000/100000 - 2s - loss: 0.0284 - accuracy: 0.9870 - val_loss: 0.0438 - val_accuracy: 0.9818\n",
      "Epoch 41/100\n",
      "100000/100000 - 2s - loss: 0.0287 - accuracy: 0.9869 - val_loss: 0.0417 - val_accuracy: 0.9822\n",
      "Epoch 42/100\n",
      "100000/100000 - 2s - loss: 0.0275 - accuracy: 0.9874 - val_loss: 0.0445 - val_accuracy: 0.9818\n",
      "Epoch 43/100\n",
      "100000/100000 - 2s - loss: 0.0271 - accuracy: 0.9876 - val_loss: 0.0436 - val_accuracy: 0.9817\n",
      "Epoch 44/100\n",
      "100000/100000 - 2s - loss: 0.0284 - accuracy: 0.9872 - val_loss: 0.0454 - val_accuracy: 0.9808\n",
      "Epoch 45/100\n",
      "100000/100000 - 2s - loss: 0.0283 - accuracy: 0.9873 - val_loss: 0.0414 - val_accuracy: 0.9819\n",
      "Epoch 46/100\n",
      "100000/100000 - 2s - loss: 0.0270 - accuracy: 0.9877 - val_loss: 0.0406 - val_accuracy: 0.9825\n",
      "Epoch 47/100\n",
      "100000/100000 - 2s - loss: 0.0256 - accuracy: 0.9881 - val_loss: 0.0421 - val_accuracy: 0.9829\n",
      "Epoch 48/100\n",
      "100000/100000 - 2s - loss: 0.0255 - accuracy: 0.9883 - val_loss: 0.0439 - val_accuracy: 0.9824\n",
      "Epoch 49/100\n",
      "100000/100000 - 2s - loss: 0.0283 - accuracy: 0.9872 - val_loss: 0.0392 - val_accuracy: 0.9829\n",
      "Epoch 50/100\n",
      "100000/100000 - 2s - loss: 0.0261 - accuracy: 0.9882 - val_loss: 0.0432 - val_accuracy: 0.9824\n",
      "Epoch 51/100\n",
      "100000/100000 - 2s - loss: 0.0241 - accuracy: 0.9888 - val_loss: 0.0461 - val_accuracy: 0.9818\n",
      "Epoch 52/100\n",
      "100000/100000 - 2s - loss: 0.0286 - accuracy: 0.9873 - val_loss: 0.0437 - val_accuracy: 0.9822\n",
      "Epoch 53/100\n",
      "100000/100000 - 2s - loss: 0.0247 - accuracy: 0.9886 - val_loss: 0.0453 - val_accuracy: 0.9822\n",
      "Epoch 54/100\n",
      "100000/100000 - 2s - loss: 0.0256 - accuracy: 0.9884 - val_loss: 0.0474 - val_accuracy: 0.9823\n",
      "Epoch 55/100\n",
      "100000/100000 - 2s - loss: 0.0249 - accuracy: 0.9886 - val_loss: 0.0437 - val_accuracy: 0.9830\n",
      "Epoch 56/100\n",
      "100000/100000 - 2s - loss: 0.0241 - accuracy: 0.9890 - val_loss: 0.0436 - val_accuracy: 0.9830\n",
      "Epoch 57/100\n",
      "100000/100000 - 2s - loss: 0.0247 - accuracy: 0.9890 - val_loss: 0.0465 - val_accuracy: 0.9818\n",
      "Epoch 58/100\n",
      "100000/100000 - 2s - loss: 0.0252 - accuracy: 0.9887 - val_loss: 0.0424 - val_accuracy: 0.9824\n",
      "Epoch 59/100\n",
      "100000/100000 - 2s - loss: 0.0223 - accuracy: 0.9897 - val_loss: 0.0421 - val_accuracy: 0.9832\n",
      "Epoch 60/100\n",
      "100000/100000 - 2s - loss: 0.0234 - accuracy: 0.9895 - val_loss: 0.0453 - val_accuracy: 0.9827\n",
      "Epoch 61/100\n",
      "100000/100000 - 2s - loss: 0.0241 - accuracy: 0.9892 - val_loss: 0.0469 - val_accuracy: 0.9815\n",
      "Epoch 62/100\n",
      "100000/100000 - 2s - loss: 0.0245 - accuracy: 0.9891 - val_loss: 0.0428 - val_accuracy: 0.9832\n",
      "Epoch 63/100\n",
      "100000/100000 - 2s - loss: 0.0225 - accuracy: 0.9899 - val_loss: 0.0426 - val_accuracy: 0.9835\n",
      "Epoch 64/100\n",
      "100000/100000 - 2s - loss: 0.0234 - accuracy: 0.9896 - val_loss: 0.0462 - val_accuracy: 0.9825\n",
      "Epoch 65/100\n",
      "100000/100000 - 2s - loss: 0.0246 - accuracy: 0.9891 - val_loss: 0.0483 - val_accuracy: 0.9817\n",
      "Epoch 66/100\n",
      "100000/100000 - 2s - loss: 0.0240 - accuracy: 0.9895 - val_loss: 0.0559 - val_accuracy: 0.9800\n",
      "Epoch 67/100\n",
      "100000/100000 - 2s - loss: 0.0236 - accuracy: 0.9895 - val_loss: 0.0426 - val_accuracy: 0.9839\n",
      "Epoch 68/100\n",
      "100000/100000 - 2s - loss: 0.0220 - accuracy: 0.9902 - val_loss: 0.0457 - val_accuracy: 0.9825\n",
      "Epoch 69/100\n",
      "100000/100000 - 2s - loss: 0.0230 - accuracy: 0.9897 - val_loss: 0.0451 - val_accuracy: 0.9835\n",
      "Epoch 70/100\n",
      "100000/100000 - 2s - loss: 0.0219 - accuracy: 0.9902 - val_loss: 0.0439 - val_accuracy: 0.9834\n",
      "Epoch 71/100\n",
      "100000/100000 - 2s - loss: 0.0196 - accuracy: 0.9910 - val_loss: 0.0441 - val_accuracy: 0.9839\n",
      "Epoch 72/100\n",
      "100000/100000 - 2s - loss: 0.0237 - accuracy: 0.9900 - val_loss: 0.0534 - val_accuracy: 0.9807\n",
      "Epoch 73/100\n",
      "100000/100000 - 2s - loss: 0.0230 - accuracy: 0.9900 - val_loss: 0.0470 - val_accuracy: 0.9829\n",
      "Epoch 74/100\n",
      "100000/100000 - 2s - loss: 0.0212 - accuracy: 0.9905 - val_loss: 0.0456 - val_accuracy: 0.9832\n",
      "Epoch 75/100\n",
      "100000/100000 - 2s - loss: 0.0192 - accuracy: 0.9913 - val_loss: 0.0464 - val_accuracy: 0.9828\n",
      "Epoch 76/100\n",
      "100000/100000 - 2s - loss: 0.0215 - accuracy: 0.9906 - val_loss: 0.0490 - val_accuracy: 0.9830\n"
     ]
    },
    {
     "name": "stdout",
     "output_type": "stream",
     "text": [
      "Epoch 77/100\n",
      "100000/100000 - 2s - loss: 0.0227 - accuracy: 0.9902 - val_loss: 0.0481 - val_accuracy: 0.9824\n",
      "Epoch 78/100\n",
      "100000/100000 - 2s - loss: 0.0207 - accuracy: 0.9909 - val_loss: 0.0500 - val_accuracy: 0.9824\n",
      "Epoch 79/100\n",
      "100000/100000 - 2s - loss: 0.0202 - accuracy: 0.9911 - val_loss: 0.0480 - val_accuracy: 0.9834\n",
      "Epoch 80/100\n",
      "100000/100000 - 2s - loss: 0.0219 - accuracy: 0.9906 - val_loss: 0.0500 - val_accuracy: 0.9825\n",
      "Epoch 81/100\n",
      "100000/100000 - 2s - loss: 0.0203 - accuracy: 0.9911 - val_loss: 0.0558 - val_accuracy: 0.9817\n",
      "Epoch 82/100\n",
      "100000/100000 - 2s - loss: 0.0219 - accuracy: 0.9907 - val_loss: 0.0544 - val_accuracy: 0.9807\n",
      "Epoch 83/100\n",
      "100000/100000 - 2s - loss: 0.0210 - accuracy: 0.9908 - val_loss: 0.0486 - val_accuracy: 0.9835\n",
      "Epoch 84/100\n",
      "100000/100000 - 2s - loss: 0.0179 - accuracy: 0.9920 - val_loss: 0.0502 - val_accuracy: 0.9825\n",
      "Epoch 85/100\n",
      "100000/100000 - 2s - loss: 0.0207 - accuracy: 0.9912 - val_loss: 0.0505 - val_accuracy: 0.9825\n",
      "Epoch 86/100\n",
      "100000/100000 - 2s - loss: 0.0183 - accuracy: 0.9920 - val_loss: 0.0487 - val_accuracy: 0.9832\n",
      "Epoch 87/100\n",
      "100000/100000 - 2s - loss: 0.0178 - accuracy: 0.9922 - val_loss: 0.0489 - val_accuracy: 0.9830\n",
      "Epoch 88/100\n",
      "100000/100000 - 2s - loss: 0.0215 - accuracy: 0.9910 - val_loss: 0.0522 - val_accuracy: 0.9814\n",
      "Epoch 89/100\n",
      "100000/100000 - 2s - loss: 0.0188 - accuracy: 0.9918 - val_loss: 0.0521 - val_accuracy: 0.9827\n",
      "Epoch 90/100\n",
      "100000/100000 - 2s - loss: 0.0217 - accuracy: 0.9910 - val_loss: 0.0512 - val_accuracy: 0.9815\n",
      "Epoch 91/100\n",
      "100000/100000 - 2s - loss: 0.0180 - accuracy: 0.9921 - val_loss: 0.0472 - val_accuracy: 0.9837\n",
      "Epoch 92/100\n",
      "100000/100000 - 2s - loss: 0.0154 - accuracy: 0.9930 - val_loss: 0.0557 - val_accuracy: 0.9822\n",
      "Epoch 93/100\n",
      "100000/100000 - 2s - loss: 0.0179 - accuracy: 0.9925 - val_loss: 0.0539 - val_accuracy: 0.9825\n",
      "Epoch 94/100\n",
      "100000/100000 - 2s - loss: 0.0232 - accuracy: 0.9909 - val_loss: 0.0565 - val_accuracy: 0.9808\n",
      "Epoch 95/100\n",
      "100000/100000 - 2s - loss: 0.0202 - accuracy: 0.9916 - val_loss: 0.0502 - val_accuracy: 0.9833\n",
      "Epoch 96/100\n",
      "100000/100000 - 2s - loss: 0.0166 - accuracy: 0.9928 - val_loss: 0.0484 - val_accuracy: 0.9834\n",
      "Epoch 97/100\n",
      "100000/100000 - 2s - loss: 0.0181 - accuracy: 0.9923 - val_loss: 0.0523 - val_accuracy: 0.9832\n",
      "Epoch 98/100\n",
      "100000/100000 - 2s - loss: 0.0171 - accuracy: 0.9928 - val_loss: 0.0579 - val_accuracy: 0.9822\n",
      "Epoch 99/100\n",
      "100000/100000 - 2s - loss: 0.0202 - accuracy: 0.9919 - val_loss: 0.0524 - val_accuracy: 0.9834\n",
      "Epoch 100/100\n",
      "100000/100000 - 2s - loss: 0.0165 - accuracy: 0.9928 - val_loss: 0.0570 - val_accuracy: 0.9824\n"
     ]
    }
   ],
   "source": [
    "model = tf.keras.models.Sequential([\n",
    "    tf.keras.layers.Dense(150, input_shape = [24], activation = 'relu'),\n",
    "    #tf.keras.layers.Dense(200, activation = 'relu'),\n",
    "    tf.keras.layers.Dense(150, activation = 'relu'),\n",
    "    tf.keras.layers.Dense(150, activation = 'relu'),\n",
    "    tf.keras.layers.Dense(150, activation = 'relu'),\n",
    "    tf.keras.layers.Dense(12, activation = 'sigmoid')\n",
    "])\n",
    "adam = tf.keras.optimizers.Adam(lr = 0.005)\n",
    "model.compile(optimizer = adam, loss = 'binary_crossentropy', metrics = ['accuracy'])\n",
    "\n",
    "history = model.fit(x_train, y_train, batch_size = 1024, epochs = 100, verbose = 2, validation_data = (x_test, y_test))\n"
   ]
  },
  {
   "cell_type": "code",
   "execution_count": 6,
   "metadata": {},
   "outputs": [
    {
     "data": {
      "image/png": "[encoded data removed]",
      "text/plain": [
       "<Figure size 432x288 with 1 Axes>"
      ]
     },
     "metadata": {
      "needs_background": "light"
     },
     "output_type": "display_data"
    }
   ],
   "source": [
    "import matplotlib.pyplot as plt\n",
    "plt.figure()\n",
    "acc = history.history['accuracy']\n",
    "loss = history.history['loss']\n",
    "val_acc = history.history['val_accuracy']\n",
    "val_loss = history.history['val_loss']\n",
    "epochs = range(len(acc))\n",
    "plt.plot(epochs, acc, 'r', label = 'Training accuracy')\n",
    "plt.plot(epochs, val_acc, 'b', label = 'Validating accuracy')\n",
    "plt.title('Training and Validating Accuracy')\n",
    "#plt.title('Training Accuracy')\n",
    "plt.legend()\n",
    "plt.show()"
   ]
  },
  {
   "cell_type": "code",
   "execution_count": 8,
   "metadata": {},
   "outputs": [
    {
     "name": "stdout",
     "output_type": "stream",
     "text": [
      "5000/1 - 0s - loss: 0.0630 - accuracy: 0.9720\n"
     ]
    },
    {
     "data": {
      "text/plain": [
       "[0.04715186712741852, 0.9720002]"
      ]
     },
     "execution_count": 8,
     "metadata": {},
     "output_type": "execute_result"
    }
   ],
   "source": [
    "#model.evaluate(x_test, y_test, verbose = 2)"
   ]
  },
  {
   "cell_type": "code",
   "execution_count": 7,
   "metadata": {},
   "outputs": [],
   "source": [
    "model.save('C:\\\\Users\\\\Wilfred\\\\Desktop\\\\weights\\\\Better_of_Two\\\\Better_of_Two_4_6_10_3_model.h5')"
   ]
  },
  {
   "cell_type": "code",
   "execution_count": null,
   "metadata": {},
   "outputs": [],
   "source": []
  }
 ],
 "metadata": {
  "kernelspec": {
   "display_name": "Python 3",
   "language": "python",
   "name": "python3"
  },
  "language_info": {
   "codemirror_mode": {
    "name": "ipython",
    "version": 3
   },
   "file_extension": ".py",
   "mimetype": "text/x-python",
   "name": "python",
   "nbconvert_exporter": "python",
   "pygments_lexer": "ipython3",
   "version": "3.7.5"
  }
 },
 "nbformat": 4,
 "nbformat_minor": 2
}
