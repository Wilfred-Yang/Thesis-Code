{
 "cells": [
  {
   "cell_type": "code",
   "execution_count": 1,
   "metadata": {},
   "outputs": [],
   "source": [
    "import tensorflow as tf\n",
    "import numpy as np\n",
    "import pickle\n",
    "np.random.seed(7)"
   ]
  },
  {
   "cell_type": "code",
   "execution_count": 2,
   "metadata": {},
   "outputs": [
    {
     "name": "stdout",
     "output_type": "stream",
     "text": [
      "(105000, 24)\n"
     ]
    }
   ],
   "source": [
    "with open ('C:\\\\Users\\\\Wilfred\\\\Desktop\\\\better-of-two\\\\input_layer_4_6_12_2.pickle','rb') as file:\n",
    "    input_data = pickle.load(file)\n",
    "permutation = list(np.random.permutation(input_data.shape[0]))\n",
    "input_data = input_data[permutation,:]\n",
    "print(input_data.shape)\n",
    "x_train = input_data[:100000, :]\n",
    "x_test = input_data[100000:105000, :]\n"
   ]
  },
  {
   "cell_type": "code",
   "execution_count": 3,
   "metadata": {},
   "outputs": [
    {
     "name": "stdout",
     "output_type": "stream",
     "text": [
      "(105000, 12)\n",
      "(105000, 12)\n"
     ]
    }
   ],
   "source": [
    "with open ('C:\\\\Users\\\\Wilfred\\\\Desktop\\\\better-of-two\\\\output_layer_4_6_12_2.pickle','rb') as file:\n",
    "    output_data = pickle.load(file)\n",
    "print(output_data.shape)\n",
    "#output_data = np.transpose(output_data)\n",
    "output_data = output_data[permutation,:]\n",
    "y_train = output_data[:100000, :]\n",
    "y_test = output_data[100000:105000, :]\n",
    "print(output_data.shape)"
   ]
  },
  {
   "cell_type": "code",
   "execution_count": 4,
   "metadata": {},
   "outputs": [
    {
     "name": "stdout",
     "output_type": "stream",
     "text": [
      "Train on 100000 samples, validate on 5000 samples\n",
      "Epoch 1/100\n",
      "100000/100000 - 3s - loss: 0.3640 - accuracy: 0.8520 - val_loss: 0.2712 - val_accuracy: 0.8878\n",
      "Epoch 2/100\n",
      "100000/100000 - 2s - loss: 0.2399 - accuracy: 0.8999 - val_loss: 0.2172 - val_accuracy: 0.9085\n",
      "Epoch 3/100\n",
      "100000/100000 - 2s - loss: 0.2093 - accuracy: 0.9109 - val_loss: 0.2023 - val_accuracy: 0.9134\n",
      "Epoch 4/100\n",
      "100000/100000 - 2s - loss: 0.1967 - accuracy: 0.9160 - val_loss: 0.1907 - val_accuracy: 0.9187\n",
      "Epoch 5/100\n",
      "100000/100000 - 2s - loss: 0.1841 - accuracy: 0.9215 - val_loss: 0.1799 - val_accuracy: 0.9237\n",
      "Epoch 6/100\n",
      "100000/100000 - 2s - loss: 0.1678 - accuracy: 0.9281 - val_loss: 0.1611 - val_accuracy: 0.9297\n",
      "Epoch 7/100\n",
      "100000/100000 - 2s - loss: 0.1492 - accuracy: 0.9337 - val_loss: 0.1417 - val_accuracy: 0.9361\n",
      "Epoch 8/100\n",
      "100000/100000 - 2s - loss: 0.1346 - accuracy: 0.9388 - val_loss: 0.1336 - val_accuracy: 0.9395\n",
      "Epoch 9/100\n",
      "100000/100000 - 2s - loss: 0.1233 - accuracy: 0.9434 - val_loss: 0.1228 - val_accuracy: 0.9447\n",
      "Epoch 10/100\n",
      "100000/100000 - 2s - loss: 0.1134 - accuracy: 0.9481 - val_loss: 0.1150 - val_accuracy: 0.9484\n",
      "Epoch 11/100\n",
      "100000/100000 - 1s - loss: 0.1052 - accuracy: 0.9524 - val_loss: 0.1063 - val_accuracy: 0.9522\n",
      "Epoch 12/100\n",
      "100000/100000 - 1s - loss: 0.1005 - accuracy: 0.9551 - val_loss: 0.1004 - val_accuracy: 0.9553\n",
      "Epoch 13/100\n",
      "100000/100000 - 1s - loss: 0.0925 - accuracy: 0.9593 - val_loss: 0.0956 - val_accuracy: 0.9577\n",
      "Epoch 14/100\n",
      "100000/100000 - 2s - loss: 0.0874 - accuracy: 0.9619 - val_loss: 0.0915 - val_accuracy: 0.9601\n",
      "Epoch 15/100\n",
      "100000/100000 - 2s - loss: 0.0828 - accuracy: 0.9643 - val_loss: 0.0878 - val_accuracy: 0.9622\n",
      "Epoch 16/100\n",
      "100000/100000 - 2s - loss: 0.0799 - accuracy: 0.9659 - val_loss: 0.0828 - val_accuracy: 0.9646\n",
      "Epoch 17/100\n",
      "100000/100000 - 2s - loss: 0.0738 - accuracy: 0.9690 - val_loss: 0.0798 - val_accuracy: 0.9662\n",
      "Epoch 18/100\n",
      "100000/100000 - 2s - loss: 0.0720 - accuracy: 0.9697 - val_loss: 0.0781 - val_accuracy: 0.9670\n",
      "Epoch 19/100\n",
      "100000/100000 - 2s - loss: 0.0669 - accuracy: 0.9724 - val_loss: 0.0780 - val_accuracy: 0.9676\n",
      "Epoch 20/100\n",
      "100000/100000 - 2s - loss: 0.0644 - accuracy: 0.9736 - val_loss: 0.0712 - val_accuracy: 0.9704\n",
      "Epoch 21/100\n",
      "100000/100000 - 1s - loss: 0.0607 - accuracy: 0.9752 - val_loss: 0.0692 - val_accuracy: 0.9722\n",
      "Epoch 22/100\n",
      "100000/100000 - 1s - loss: 0.0614 - accuracy: 0.9748 - val_loss: 0.0683 - val_accuracy: 0.9721\n",
      "Epoch 23/100\n",
      "100000/100000 - 2s - loss: 0.0577 - accuracy: 0.9765 - val_loss: 0.0642 - val_accuracy: 0.9741\n",
      "Epoch 24/100\n",
      "100000/100000 - 2s - loss: 0.0554 - accuracy: 0.9778 - val_loss: 0.0638 - val_accuracy: 0.9740\n",
      "Epoch 25/100\n",
      "100000/100000 - 2s - loss: 0.0528 - accuracy: 0.9791 - val_loss: 0.0657 - val_accuracy: 0.9742\n",
      "Epoch 26/100\n",
      "100000/100000 - 2s - loss: 0.0544 - accuracy: 0.9782 - val_loss: 0.0655 - val_accuracy: 0.9742\n",
      "Epoch 27/100\n",
      "100000/100000 - 2s - loss: 0.0497 - accuracy: 0.9804 - val_loss: 0.0568 - val_accuracy: 0.9778\n",
      "Epoch 28/100\n",
      "100000/100000 - 2s - loss: 0.0482 - accuracy: 0.9810 - val_loss: 0.0561 - val_accuracy: 0.9776\n",
      "Epoch 29/100\n",
      "100000/100000 - 2s - loss: 0.0472 - accuracy: 0.9815 - val_loss: 0.0574 - val_accuracy: 0.9790\n",
      "Epoch 30/100\n",
      "100000/100000 - 2s - loss: 0.0456 - accuracy: 0.9822 - val_loss: 0.0551 - val_accuracy: 0.9796\n",
      "Epoch 31/100\n",
      "100000/100000 - 2s - loss: 0.0458 - accuracy: 0.9821 - val_loss: 0.0608 - val_accuracy: 0.9769\n",
      "Epoch 32/100\n",
      "100000/100000 - 2s - loss: 0.0452 - accuracy: 0.9824 - val_loss: 0.0575 - val_accuracy: 0.9784\n",
      "Epoch 33/100\n",
      "100000/100000 - 2s - loss: 0.0423 - accuracy: 0.9838 - val_loss: 0.0529 - val_accuracy: 0.9797\n",
      "Epoch 34/100\n",
      "100000/100000 - 2s - loss: 0.0394 - accuracy: 0.9850 - val_loss: 0.0516 - val_accuracy: 0.9805\n",
      "Epoch 35/100\n",
      "100000/100000 - 2s - loss: 0.0398 - accuracy: 0.9847 - val_loss: 0.0514 - val_accuracy: 0.9810\n",
      "Epoch 36/100\n",
      "100000/100000 - 2s - loss: 0.0402 - accuracy: 0.9847 - val_loss: 0.0548 - val_accuracy: 0.9802\n",
      "Epoch 37/100\n",
      "100000/100000 - 2s - loss: 0.0386 - accuracy: 0.9853 - val_loss: 0.0527 - val_accuracy: 0.9805\n",
      "Epoch 38/100\n",
      "100000/100000 - 2s - loss: 0.0381 - accuracy: 0.9855 - val_loss: 0.0501 - val_accuracy: 0.9817\n",
      "Epoch 39/100\n",
      "100000/100000 - 2s - loss: 0.0359 - accuracy: 0.9863 - val_loss: 0.0500 - val_accuracy: 0.9812\n",
      "Epoch 40/100\n",
      "100000/100000 - 2s - loss: 0.0361 - accuracy: 0.9863 - val_loss: 0.0497 - val_accuracy: 0.9823\n",
      "Epoch 41/100\n",
      "100000/100000 - 2s - loss: 0.0369 - accuracy: 0.9860 - val_loss: 0.0544 - val_accuracy: 0.9806\n",
      "Epoch 42/100\n",
      "100000/100000 - 2s - loss: 0.0359 - accuracy: 0.9865 - val_loss: 0.0481 - val_accuracy: 0.9829\n",
      "Epoch 43/100\n",
      "100000/100000 - 2s - loss: 0.0356 - accuracy: 0.9866 - val_loss: 0.0548 - val_accuracy: 0.9803\n",
      "Epoch 44/100\n",
      "100000/100000 - 2s - loss: 0.0335 - accuracy: 0.9872 - val_loss: 0.0480 - val_accuracy: 0.9837\n",
      "Epoch 45/100\n",
      "100000/100000 - 1s - loss: 0.0329 - accuracy: 0.9876 - val_loss: 0.0498 - val_accuracy: 0.9829\n",
      "Epoch 46/100\n",
      "100000/100000 - 1s - loss: 0.0316 - accuracy: 0.9882 - val_loss: 0.0518 - val_accuracy: 0.9811\n",
      "Epoch 47/100\n",
      "100000/100000 - 2s - loss: 0.0335 - accuracy: 0.9874 - val_loss: 0.0493 - val_accuracy: 0.9829\n",
      "Epoch 48/100\n",
      "100000/100000 - 2s - loss: 0.0321 - accuracy: 0.9880 - val_loss: 0.0507 - val_accuracy: 0.9832\n",
      "Epoch 49/100\n",
      "100000/100000 - 2s - loss: 0.0320 - accuracy: 0.9880 - val_loss: 0.0575 - val_accuracy: 0.9804\n",
      "Epoch 50/100\n",
      "100000/100000 - 1s - loss: 0.0326 - accuracy: 0.9877 - val_loss: 0.0528 - val_accuracy: 0.9825\n",
      "Epoch 51/100\n",
      "100000/100000 - 1s - loss: 0.0313 - accuracy: 0.9883 - val_loss: 0.0445 - val_accuracy: 0.9851\n",
      "Epoch 52/100\n",
      "100000/100000 - 1s - loss: 0.0312 - accuracy: 0.9883 - val_loss: 0.0502 - val_accuracy: 0.9824\n",
      "Epoch 53/100\n",
      "100000/100000 - 1s - loss: 0.0298 - accuracy: 0.9888 - val_loss: 0.0502 - val_accuracy: 0.9822\n",
      "Epoch 54/100\n",
      "100000/100000 - 2s - loss: 0.0292 - accuracy: 0.9892 - val_loss: 0.0505 - val_accuracy: 0.9831\n",
      "Epoch 55/100\n",
      "100000/100000 - 2s - loss: 0.0302 - accuracy: 0.9887 - val_loss: 0.0475 - val_accuracy: 0.9841\n",
      "Epoch 56/100\n",
      "100000/100000 - 2s - loss: 0.0283 - accuracy: 0.9896 - val_loss: 0.0468 - val_accuracy: 0.9838\n",
      "Epoch 57/100\n",
      "100000/100000 - 2s - loss: 0.0273 - accuracy: 0.9900 - val_loss: 0.0488 - val_accuracy: 0.9844\n",
      "Epoch 58/100\n",
      "100000/100000 - 2s - loss: 0.0263 - accuracy: 0.9902 - val_loss: 0.0475 - val_accuracy: 0.9840\n",
      "Epoch 59/100\n",
      "100000/100000 - 2s - loss: 0.0277 - accuracy: 0.9897 - val_loss: 0.0505 - val_accuracy: 0.9832\n",
      "Epoch 60/100\n",
      "100000/100000 - 2s - loss: 0.0304 - accuracy: 0.9888 - val_loss: 0.0481 - val_accuracy: 0.9844\n",
      "Epoch 61/100\n",
      "100000/100000 - 1s - loss: 0.0262 - accuracy: 0.9904 - val_loss: 0.0479 - val_accuracy: 0.9844\n",
      "Epoch 62/100\n",
      "100000/100000 - 2s - loss: 0.0264 - accuracy: 0.9903 - val_loss: 0.0540 - val_accuracy: 0.9823\n",
      "Epoch 63/100\n",
      "100000/100000 - 2s - loss: 0.0262 - accuracy: 0.9904 - val_loss: 0.0470 - val_accuracy: 0.9851\n",
      "Epoch 64/100\n",
      "100000/100000 - 2s - loss: 0.0302 - accuracy: 0.9889 - val_loss: 0.0546 - val_accuracy: 0.9821\n",
      "Epoch 65/100\n",
      "100000/100000 - 2s - loss: 0.0283 - accuracy: 0.9897 - val_loss: 0.0456 - val_accuracy: 0.9858\n",
      "Epoch 66/100\n",
      "100000/100000 - 2s - loss: 0.0258 - accuracy: 0.9906 - val_loss: 0.0476 - val_accuracy: 0.9859\n",
      "Epoch 67/100\n",
      "100000/100000 - 2s - loss: 0.0242 - accuracy: 0.9912 - val_loss: 0.0447 - val_accuracy: 0.9865\n",
      "Epoch 68/100\n",
      "100000/100000 - 2s - loss: 0.0247 - accuracy: 0.9910 - val_loss: 0.0553 - val_accuracy: 0.9817\n",
      "Epoch 69/100\n",
      "100000/100000 - 2s - loss: 0.0242 - accuracy: 0.9912 - val_loss: 0.0518 - val_accuracy: 0.9847\n",
      "Epoch 70/100\n",
      "100000/100000 - 2s - loss: 0.0261 - accuracy: 0.9906 - val_loss: 0.0502 - val_accuracy: 0.9840\n",
      "Epoch 71/100\n",
      "100000/100000 - 2s - loss: 0.0259 - accuracy: 0.9907 - val_loss: 0.0497 - val_accuracy: 0.9844\n",
      "Epoch 72/100\n",
      "100000/100000 - 2s - loss: 0.0250 - accuracy: 0.9909 - val_loss: 0.0508 - val_accuracy: 0.9847\n",
      "Epoch 73/100\n",
      "100000/100000 - 2s - loss: 0.0238 - accuracy: 0.9914 - val_loss: 0.0488 - val_accuracy: 0.9851\n",
      "Epoch 74/100\n",
      "100000/100000 - 2s - loss: 0.0248 - accuracy: 0.9910 - val_loss: 0.0587 - val_accuracy: 0.9825\n",
      "Epoch 75/100\n",
      "100000/100000 - 2s - loss: 0.0300 - accuracy: 0.9892 - val_loss: 0.0520 - val_accuracy: 0.9850\n",
      "Epoch 76/100\n",
      "100000/100000 - 2s - loss: 0.0254 - accuracy: 0.9908 - val_loss: 0.0484 - val_accuracy: 0.9863\n"
     ]
    },
    {
     "name": "stdout",
     "output_type": "stream",
     "text": [
      "Epoch 77/100\n",
      "100000/100000 - 2s - loss: 0.0231 - accuracy: 0.9916 - val_loss: 0.0529 - val_accuracy: 0.9835\n",
      "Epoch 78/100\n",
      "100000/100000 - 2s - loss: 0.0252 - accuracy: 0.9908 - val_loss: 0.0532 - val_accuracy: 0.9840\n",
      "Epoch 79/100\n",
      "100000/100000 - 2s - loss: 0.0225 - accuracy: 0.9920 - val_loss: 0.0489 - val_accuracy: 0.9864\n",
      "Epoch 80/100\n",
      "100000/100000 - 2s - loss: 0.0227 - accuracy: 0.9919 - val_loss: 0.0525 - val_accuracy: 0.9847\n",
      "Epoch 81/100\n",
      "100000/100000 - 2s - loss: 0.0216 - accuracy: 0.9923 - val_loss: 0.0463 - val_accuracy: 0.9863\n",
      "Epoch 82/100\n",
      "100000/100000 - 2s - loss: 0.0212 - accuracy: 0.9924 - val_loss: 0.0529 - val_accuracy: 0.9854\n",
      "Epoch 83/100\n",
      "100000/100000 - 2s - loss: 0.0233 - accuracy: 0.9917 - val_loss: 0.0517 - val_accuracy: 0.9846\n",
      "Epoch 84/100\n",
      "100000/100000 - 2s - loss: 0.0249 - accuracy: 0.9911 - val_loss: 0.0470 - val_accuracy: 0.9863\n",
      "Epoch 85/100\n",
      "100000/100000 - 2s - loss: 0.0216 - accuracy: 0.9922 - val_loss: 0.0515 - val_accuracy: 0.9861\n",
      "Epoch 86/100\n",
      "100000/100000 - 2s - loss: 0.0217 - accuracy: 0.9923 - val_loss: 0.0530 - val_accuracy: 0.9851\n",
      "Epoch 87/100\n",
      "100000/100000 - 2s - loss: 0.0253 - accuracy: 0.9911 - val_loss: 0.0522 - val_accuracy: 0.9847\n",
      "Epoch 88/100\n",
      "100000/100000 - 2s - loss: 0.0234 - accuracy: 0.9916 - val_loss: 0.0540 - val_accuracy: 0.9851\n",
      "Epoch 89/100\n",
      "100000/100000 - 2s - loss: 0.0240 - accuracy: 0.9915 - val_loss: 0.0545 - val_accuracy: 0.9847\n",
      "Epoch 90/100\n",
      "100000/100000 - 2s - loss: 0.0227 - accuracy: 0.9919 - val_loss: 0.0552 - val_accuracy: 0.9849\n",
      "Epoch 91/100\n",
      "100000/100000 - 2s - loss: 0.0211 - accuracy: 0.9926 - val_loss: 0.0499 - val_accuracy: 0.9865\n",
      "Epoch 92/100\n",
      "100000/100000 - 2s - loss: 0.0196 - accuracy: 0.9930 - val_loss: 0.0483 - val_accuracy: 0.9862\n",
      "Epoch 93/100\n",
      "100000/100000 - 2s - loss: 0.0203 - accuracy: 0.9927 - val_loss: 0.0506 - val_accuracy: 0.9864\n",
      "Epoch 94/100\n",
      "100000/100000 - 2s - loss: 0.0197 - accuracy: 0.9930 - val_loss: 0.0555 - val_accuracy: 0.9851\n",
      "Epoch 95/100\n",
      "100000/100000 - 2s - loss: 0.0255 - accuracy: 0.9912 - val_loss: 0.0604 - val_accuracy: 0.9830\n",
      "Epoch 96/100\n",
      "100000/100000 - 2s - loss: 0.0231 - accuracy: 0.9918 - val_loss: 0.0601 - val_accuracy: 0.9841\n",
      "Epoch 97/100\n",
      "100000/100000 - 2s - loss: 0.0214 - accuracy: 0.9923 - val_loss: 0.0503 - val_accuracy: 0.9858\n",
      "Epoch 98/100\n",
      "100000/100000 - 2s - loss: 0.0191 - accuracy: 0.9932 - val_loss: 0.0518 - val_accuracy: 0.9861\n",
      "Epoch 99/100\n",
      "100000/100000 - 2s - loss: 0.0201 - accuracy: 0.9929 - val_loss: 0.0518 - val_accuracy: 0.9870\n",
      "Epoch 100/100\n",
      "100000/100000 - 2s - loss: 0.0201 - accuracy: 0.9929 - val_loss: 0.0510 - val_accuracy: 0.9864\n"
     ]
    }
   ],
   "source": [
    "model = tf.keras.models.Sequential([\n",
    "    tf.keras.layers.Dense(150, input_shape = [24], activation = 'relu'),\n",
    "    #tf.keras.layers.Dense(200, activation = 'relu'),\n",
    "    tf.keras.layers.Dense(150, activation = 'relu'),\n",
    "    tf.keras.layers.Dense(150, activation = 'relu'),\n",
    "    tf.keras.layers.Dense(150, activation = 'relu'),\n",
    "    tf.keras.layers.Dense(12, activation = 'sigmoid')\n",
    "])\n",
    "adam = tf.keras.optimizers.Adam(lr = 0.005)\n",
    "model.compile(optimizer = adam, loss = 'binary_crossentropy', metrics = ['accuracy'])\n",
    "\n",
    "history = model.fit(x_train, y_train, batch_size = 1024, epochs = 100, verbose = 2, validation_data = (x_test, y_test))\n"
   ]
  },
  {
   "cell_type": "code",
   "execution_count": 6,
   "metadata": {},
   "outputs": [
    {
     "data": {
      "image/png": "[encoded data removed]",
      "text/plain": [
       "<Figure size 432x288 with 1 Axes>"
      ]
     },
     "metadata": {
      "needs_background": "light"
     },
     "output_type": "display_data"
    }
   ],
   "source": [
    "import matplotlib.pyplot as plt\n",
    "plt.figure()\n",
    "acc = history.history['accuracy']\n",
    "loss = history.history['loss']\n",
    "val_acc = history.history['val_accuracy']\n",
    "val_loss = history.history['val_loss']\n",
    "epochs = range(len(acc))\n",
    "plt.plot(epochs, acc, 'r', label = 'Training accuracy')\n",
    "plt.plot(epochs, val_acc, 'b', label = 'Validating accuracy')\n",
    "plt.title('Training and Validating Accuracy')\n",
    "#plt.title('Training Accuracy')\n",
    "plt.legend()\n",
    "plt.show()"
   ]
  },
  {
   "cell_type": "code",
   "execution_count": 8,
   "metadata": {},
   "outputs": [
    {
     "name": "stdout",
     "output_type": "stream",
     "text": [
      "5000/1 - 0s - loss: 0.0630 - accuracy: 0.9720\n"
     ]
    },
    {
     "data": {
      "text/plain": [
       "[0.04715186712741852, 0.9720002]"
      ]
     },
     "execution_count": 8,
     "metadata": {},
     "output_type": "execute_result"
    }
   ],
   "source": [
    "#model.evaluate(x_test, y_test, verbose = 2)"
   ]
  },
  {
   "cell_type": "code",
   "execution_count": 7,
   "metadata": {},
   "outputs": [],
   "source": [
    "model.save('C:\\\\Users\\\\Wilfred\\\\Desktop\\\\weights\\\\Better_of_Two\\\\Better_of_Two_4_6_12_2_model.h5')"
   ]
  },
  {
   "cell_type": "code",
   "execution_count": null,
   "metadata": {},
   "outputs": [],
   "source": []
  }
 ],
 "metadata": {
  "kernelspec": {
   "display_name": "Python 3",
   "language": "python",
   "name": "python3"
  },
  "language_info": {
   "codemirror_mode": {
    "name": "ipython",
    "version": 3
   },
   "file_extension": ".py",
   "mimetype": "text/x-python",
   "name": "python",
   "nbconvert_exporter": "python",
   "pygments_lexer": "ipython3",
   "version": "3.7.5"
  }
 },
 "nbformat": 4,
 "nbformat_minor": 2
}
