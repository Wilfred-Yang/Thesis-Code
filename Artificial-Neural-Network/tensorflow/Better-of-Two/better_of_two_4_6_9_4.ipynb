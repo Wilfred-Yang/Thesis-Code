{
 "cells": [
  {
   "cell_type": "code",
   "execution_count": 1,
   "metadata": {},
   "outputs": [],
   "source": [
    "import tensorflow as tf\n",
    "import numpy as np\n",
    "import pickle\n",
    "np.random.seed(7)"
   ]
  },
  {
   "cell_type": "code",
   "execution_count": 2,
   "metadata": {},
   "outputs": [
    {
     "name": "stdout",
     "output_type": "stream",
     "text": [
      "(105000, 24)\n"
     ]
    }
   ],
   "source": [
    "with open ('C:\\\\Users\\\\Wilfred\\\\Desktop\\\\better-of-two\\\\input_layer_4_6_9_4.pickle','rb') as file:\n",
    "    input_data = pickle.load(file)\n",
    "permutation = list(np.random.permutation(input_data.shape[0]))\n",
    "input_data = input_data[permutation,:]\n",
    "print(input_data.shape)\n",
    "x_train = input_data[:100000, :]\n",
    "x_test = input_data[100000:105000, :]\n"
   ]
  },
  {
   "cell_type": "code",
   "execution_count": 3,
   "metadata": {},
   "outputs": [
    {
     "name": "stdout",
     "output_type": "stream",
     "text": [
      "(105000, 12)\n",
      "(105000, 12)\n"
     ]
    }
   ],
   "source": [
    "with open ('C:\\\\Users\\\\Wilfred\\\\Desktop\\\\better-of-two\\\\output_layer_4_6_9_4.pickle','rb') as file:\n",
    "    output_data = pickle.load(file)\n",
    "print(output_data.shape)\n",
    "#output_data = np.transpose(output_data)\n",
    "output_data = output_data[permutation,:]\n",
    "y_train = output_data[:100000, :]\n",
    "y_test = output_data[100000:105000, :]\n",
    "print(output_data.shape)"
   ]
  },
  {
   "cell_type": "code",
   "execution_count": 4,
   "metadata": {},
   "outputs": [
    {
     "name": "stdout",
     "output_type": "stream",
     "text": [
      "Train on 100000 samples, validate on 5000 samples\n",
      "Epoch 1/100\n",
      "100000/100000 - 3s - loss: 0.2321 - accuracy: 0.9057 - val_loss: 0.2038 - val_accuracy: 0.9157\n",
      "Epoch 2/100\n",
      "100000/100000 - 2s - loss: 0.1911 - accuracy: 0.9160 - val_loss: 0.1758 - val_accuracy: 0.9180\n",
      "Epoch 3/100\n",
      "100000/100000 - 2s - loss: 0.1504 - accuracy: 0.9274 - val_loss: 0.1281 - val_accuracy: 0.9395\n",
      "Epoch 4/100\n",
      "100000/100000 - 2s - loss: 0.1125 - accuracy: 0.9471 - val_loss: 0.1043 - val_accuracy: 0.9505\n",
      "Epoch 5/100\n",
      "100000/100000 - 2s - loss: 0.0902 - accuracy: 0.9580 - val_loss: 0.0861 - val_accuracy: 0.9596\n",
      "Epoch 6/100\n",
      "100000/100000 - 2s - loss: 0.0742 - accuracy: 0.9653 - val_loss: 0.0738 - val_accuracy: 0.9646\n",
      "Epoch 7/100\n",
      "100000/100000 - 2s - loss: 0.0631 - accuracy: 0.9703 - val_loss: 0.0653 - val_accuracy: 0.9695\n",
      "Epoch 8/100\n",
      "100000/100000 - 2s - loss: 0.0537 - accuracy: 0.9743 - val_loss: 0.0542 - val_accuracy: 0.9731\n",
      "Epoch 9/100\n",
      "100000/100000 - 2s - loss: 0.0484 - accuracy: 0.9764 - val_loss: 0.0490 - val_accuracy: 0.9753\n",
      "Epoch 10/100\n",
      "100000/100000 - 2s - loss: 0.0445 - accuracy: 0.9778 - val_loss: 0.0489 - val_accuracy: 0.9757\n",
      "Epoch 11/100\n",
      "100000/100000 - 2s - loss: 0.0426 - accuracy: 0.9784 - val_loss: 0.0435 - val_accuracy: 0.9779\n",
      "Epoch 12/100\n",
      "100000/100000 - 2s - loss: 0.0408 - accuracy: 0.9789 - val_loss: 0.0411 - val_accuracy: 0.9789\n",
      "Epoch 13/100\n",
      "100000/100000 - 2s - loss: 0.0386 - accuracy: 0.9798 - val_loss: 0.0431 - val_accuracy: 0.9770\n",
      "Epoch 14/100\n",
      "100000/100000 - 2s - loss: 0.0382 - accuracy: 0.9799 - val_loss: 0.0405 - val_accuracy: 0.9780\n",
      "Epoch 15/100\n",
      "100000/100000 - 2s - loss: 0.0364 - accuracy: 0.9805 - val_loss: 0.0388 - val_accuracy: 0.9793\n",
      "Epoch 16/100\n",
      "100000/100000 - 2s - loss: 0.0362 - accuracy: 0.9805 - val_loss: 0.0371 - val_accuracy: 0.9796\n",
      "Epoch 17/100\n",
      "100000/100000 - 2s - loss: 0.0352 - accuracy: 0.9809 - val_loss: 0.0370 - val_accuracy: 0.9796\n",
      "Epoch 18/100\n",
      "100000/100000 - 2s - loss: 0.0355 - accuracy: 0.9808 - val_loss: 0.0384 - val_accuracy: 0.9782\n",
      "Epoch 19/100\n",
      "100000/100000 - 2s - loss: 0.0349 - accuracy: 0.9809 - val_loss: 0.0383 - val_accuracy: 0.9790\n",
      "Epoch 20/100\n",
      "100000/100000 - 2s - loss: 0.0349 - accuracy: 0.9811 - val_loss: 0.0400 - val_accuracy: 0.9782\n",
      "Epoch 21/100\n",
      "100000/100000 - 2s - loss: 0.0344 - accuracy: 0.9810 - val_loss: 0.0359 - val_accuracy: 0.9796\n",
      "Epoch 22/100\n",
      "100000/100000 - 2s - loss: 0.0325 - accuracy: 0.9820 - val_loss: 0.0357 - val_accuracy: 0.9804\n",
      "Epoch 23/100\n",
      "100000/100000 - 2s - loss: 0.0329 - accuracy: 0.9818 - val_loss: 0.0379 - val_accuracy: 0.9788\n",
      "Epoch 24/100\n",
      "100000/100000 - 2s - loss: 0.0345 - accuracy: 0.9811 - val_loss: 0.0373 - val_accuracy: 0.9790\n",
      "Epoch 25/100\n",
      "100000/100000 - 2s - loss: 0.0330 - accuracy: 0.9818 - val_loss: 0.0362 - val_accuracy: 0.9789\n",
      "Epoch 26/100\n",
      "100000/100000 - 2s - loss: 0.0326 - accuracy: 0.9819 - val_loss: 0.0370 - val_accuracy: 0.9785\n",
      "Epoch 27/100\n",
      "100000/100000 - 2s - loss: 0.0326 - accuracy: 0.9819 - val_loss: 0.0360 - val_accuracy: 0.9802\n",
      "Epoch 28/100\n",
      "100000/100000 - 2s - loss: 0.0318 - accuracy: 0.9823 - val_loss: 0.0396 - val_accuracy: 0.9791\n",
      "Epoch 29/100\n",
      "100000/100000 - 2s - loss: 0.0350 - accuracy: 0.9813 - val_loss: 0.0392 - val_accuracy: 0.9790\n",
      "Epoch 30/100\n",
      "100000/100000 - 2s - loss: 0.0307 - accuracy: 0.9826 - val_loss: 0.0353 - val_accuracy: 0.9796\n",
      "Epoch 31/100\n",
      "100000/100000 - 2s - loss: 0.0311 - accuracy: 0.9827 - val_loss: 0.0366 - val_accuracy: 0.9798\n",
      "Epoch 32/100\n",
      "100000/100000 - 2s - loss: 0.0324 - accuracy: 0.9823 - val_loss: 0.0386 - val_accuracy: 0.9785\n",
      "Epoch 33/100\n",
      "100000/100000 - 2s - loss: 0.0315 - accuracy: 0.9825 - val_loss: 0.0350 - val_accuracy: 0.9793\n",
      "Epoch 34/100\n",
      "100000/100000 - 2s - loss: 0.0317 - accuracy: 0.9825 - val_loss: 0.0347 - val_accuracy: 0.9803\n",
      "Epoch 35/100\n",
      "100000/100000 - 2s - loss: 0.0312 - accuracy: 0.9826 - val_loss: 0.0387 - val_accuracy: 0.9789\n",
      "Epoch 36/100\n",
      "100000/100000 - 2s - loss: 0.0307 - accuracy: 0.9829 - val_loss: 0.0362 - val_accuracy: 0.9792\n",
      "Epoch 37/100\n",
      "100000/100000 - 2s - loss: 0.0298 - accuracy: 0.9834 - val_loss: 0.0349 - val_accuracy: 0.9800\n",
      "Epoch 38/100\n",
      "100000/100000 - 2s - loss: 0.0298 - accuracy: 0.9835 - val_loss: 0.0347 - val_accuracy: 0.9797\n",
      "Epoch 39/100\n",
      "100000/100000 - 2s - loss: 0.0319 - accuracy: 0.9827 - val_loss: 0.0373 - val_accuracy: 0.9794\n",
      "Epoch 40/100\n",
      "100000/100000 - 2s - loss: 0.0302 - accuracy: 0.9833 - val_loss: 0.0351 - val_accuracy: 0.9798\n",
      "Epoch 41/100\n",
      "100000/100000 - 2s - loss: 0.0294 - accuracy: 0.9836 - val_loss: 0.0366 - val_accuracy: 0.9793\n",
      "Epoch 42/100\n",
      "100000/100000 - 2s - loss: 0.0287 - accuracy: 0.9839 - val_loss: 0.0346 - val_accuracy: 0.9801\n",
      "Epoch 43/100\n",
      "100000/100000 - 2s - loss: 0.0305 - accuracy: 0.9834 - val_loss: 0.0369 - val_accuracy: 0.9792\n",
      "Epoch 44/100\n",
      "100000/100000 - 2s - loss: 0.0298 - accuracy: 0.9838 - val_loss: 0.0373 - val_accuracy: 0.9789\n",
      "Epoch 45/100\n",
      "100000/100000 - 2s - loss: 0.0295 - accuracy: 0.9839 - val_loss: 0.0407 - val_accuracy: 0.9787\n",
      "Epoch 46/100\n",
      "100000/100000 - 2s - loss: 0.0335 - accuracy: 0.9824 - val_loss: 0.0389 - val_accuracy: 0.9787\n",
      "Epoch 47/100\n",
      "100000/100000 - 2s - loss: 0.0289 - accuracy: 0.9841 - val_loss: 0.0367 - val_accuracy: 0.9798\n",
      "Epoch 48/100\n",
      "100000/100000 - 2s - loss: 0.0293 - accuracy: 0.9840 - val_loss: 0.0366 - val_accuracy: 0.9790\n",
      "Epoch 49/100\n",
      "100000/100000 - 2s - loss: 0.0293 - accuracy: 0.9841 - val_loss: 0.0385 - val_accuracy: 0.9790\n",
      "Epoch 50/100\n",
      "100000/100000 - 2s - loss: 0.0290 - accuracy: 0.9843 - val_loss: 0.0376 - val_accuracy: 0.9795\n",
      "Epoch 51/100\n",
      "100000/100000 - 2s - loss: 0.0287 - accuracy: 0.9844 - val_loss: 0.0372 - val_accuracy: 0.9794\n",
      "Epoch 52/100\n",
      "100000/100000 - 2s - loss: 0.0287 - accuracy: 0.9845 - val_loss: 0.0410 - val_accuracy: 0.9788\n",
      "Epoch 53/100\n",
      "100000/100000 - 2s - loss: 0.0298 - accuracy: 0.9843 - val_loss: 0.0400 - val_accuracy: 0.9788\n",
      "Epoch 54/100\n",
      "100000/100000 - 2s - loss: 0.0283 - accuracy: 0.9848 - val_loss: 0.0373 - val_accuracy: 0.9799\n",
      "Epoch 55/100\n",
      "100000/100000 - 2s - loss: 0.0268 - accuracy: 0.9854 - val_loss: 0.0389 - val_accuracy: 0.9797\n",
      "Epoch 56/100\n",
      "100000/100000 - 2s - loss: 0.0267 - accuracy: 0.9855 - val_loss: 0.0362 - val_accuracy: 0.9801\n",
      "Epoch 57/100\n",
      "100000/100000 - 2s - loss: 0.0276 - accuracy: 0.9854 - val_loss: 0.0394 - val_accuracy: 0.9793\n",
      "Epoch 58/100\n",
      "100000/100000 - 2s - loss: 0.0285 - accuracy: 0.9851 - val_loss: 0.0429 - val_accuracy: 0.9786\n",
      "Epoch 59/100\n",
      "100000/100000 - 2s - loss: 0.0287 - accuracy: 0.9850 - val_loss: 0.0370 - val_accuracy: 0.9794\n",
      "Epoch 60/100\n",
      "100000/100000 - 2s - loss: 0.0270 - accuracy: 0.9856 - val_loss: 0.0391 - val_accuracy: 0.9796\n",
      "Epoch 61/100\n",
      "100000/100000 - 2s - loss: 0.0284 - accuracy: 0.9852 - val_loss: 0.0420 - val_accuracy: 0.9786\n",
      "Epoch 62/100\n",
      "100000/100000 - 2s - loss: 0.0287 - accuracy: 0.9852 - val_loss: 0.0417 - val_accuracy: 0.9785\n",
      "Epoch 63/100\n",
      "100000/100000 - 2s - loss: 0.0271 - accuracy: 0.9857 - val_loss: 0.0379 - val_accuracy: 0.9794\n",
      "Epoch 64/100\n",
      "100000/100000 - 2s - loss: 0.0252 - accuracy: 0.9867 - val_loss: 0.0383 - val_accuracy: 0.9797\n",
      "Epoch 65/100\n",
      "100000/100000 - 2s - loss: 0.0258 - accuracy: 0.9865 - val_loss: 0.0397 - val_accuracy: 0.9790\n",
      "Epoch 66/100\n",
      "100000/100000 - 2s - loss: 0.0258 - accuracy: 0.9866 - val_loss: 0.0400 - val_accuracy: 0.9793\n",
      "Epoch 67/100\n",
      "100000/100000 - 2s - loss: 0.0268 - accuracy: 0.9864 - val_loss: 0.0390 - val_accuracy: 0.9791\n",
      "Epoch 68/100\n",
      "100000/100000 - 2s - loss: 0.0285 - accuracy: 0.9858 - val_loss: 0.0384 - val_accuracy: 0.9800\n",
      "Epoch 69/100\n",
      "100000/100000 - 2s - loss: 0.0248 - accuracy: 0.9870 - val_loss: 0.0385 - val_accuracy: 0.9795\n",
      "Epoch 70/100\n",
      "100000/100000 - 2s - loss: 0.0243 - accuracy: 0.9874 - val_loss: 0.0405 - val_accuracy: 0.9800\n",
      "Epoch 71/100\n",
      "100000/100000 - 2s - loss: 0.0252 - accuracy: 0.9872 - val_loss: 0.0416 - val_accuracy: 0.9790\n",
      "Epoch 72/100\n",
      "100000/100000 - 2s - loss: 0.0264 - accuracy: 0.9867 - val_loss: 0.0417 - val_accuracy: 0.9791\n",
      "Epoch 73/100\n",
      "100000/100000 - 2s - loss: 0.0239 - accuracy: 0.9877 - val_loss: 0.0424 - val_accuracy: 0.9797\n",
      "Epoch 74/100\n",
      "100000/100000 - 2s - loss: 0.0264 - accuracy: 0.9869 - val_loss: 0.0406 - val_accuracy: 0.9794\n",
      "Epoch 75/100\n",
      "100000/100000 - 2s - loss: 0.0246 - accuracy: 0.9877 - val_loss: 0.0416 - val_accuracy: 0.9804\n",
      "Epoch 76/100\n",
      "100000/100000 - 2s - loss: 0.0235 - accuracy: 0.9881 - val_loss: 0.0441 - val_accuracy: 0.9794\n"
     ]
    },
    {
     "name": "stdout",
     "output_type": "stream",
     "text": [
      "Epoch 77/100\n",
      "100000/100000 - 2s - loss: 0.0250 - accuracy: 0.9876 - val_loss: 0.0428 - val_accuracy: 0.9790\n",
      "Epoch 78/100\n",
      "100000/100000 - 2s - loss: 0.0241 - accuracy: 0.9879 - val_loss: 0.0440 - val_accuracy: 0.9790\n",
      "Epoch 79/100\n",
      "100000/100000 - 2s - loss: 0.0238 - accuracy: 0.9881 - val_loss: 0.0438 - val_accuracy: 0.9800\n",
      "Epoch 80/100\n",
      "100000/100000 - 2s - loss: 0.0251 - accuracy: 0.9879 - val_loss: 0.0476 - val_accuracy: 0.9784\n",
      "Epoch 81/100\n",
      "100000/100000 - 2s - loss: 0.0251 - accuracy: 0.9878 - val_loss: 0.0438 - val_accuracy: 0.9794\n",
      "Epoch 82/100\n",
      "100000/100000 - 2s - loss: 0.0222 - accuracy: 0.9889 - val_loss: 0.0471 - val_accuracy: 0.9792\n",
      "Epoch 83/100\n",
      "100000/100000 - 2s - loss: 0.0237 - accuracy: 0.9885 - val_loss: 0.0444 - val_accuracy: 0.9794\n",
      "Epoch 84/100\n",
      "100000/100000 - 2s - loss: 0.0234 - accuracy: 0.9886 - val_loss: 0.0518 - val_accuracy: 0.9773\n",
      "Epoch 85/100\n",
      "100000/100000 - 2s - loss: 0.0237 - accuracy: 0.9886 - val_loss: 0.0460 - val_accuracy: 0.9787\n",
      "Epoch 86/100\n",
      "100000/100000 - 2s - loss: 0.0220 - accuracy: 0.9891 - val_loss: 0.0456 - val_accuracy: 0.9792\n",
      "Epoch 87/100\n",
      "100000/100000 - 2s - loss: 0.0225 - accuracy: 0.9892 - val_loss: 0.0477 - val_accuracy: 0.9788\n",
      "Epoch 88/100\n",
      "100000/100000 - 2s - loss: 0.0224 - accuracy: 0.9892 - val_loss: 0.0491 - val_accuracy: 0.9784\n",
      "Epoch 89/100\n",
      "100000/100000 - 2s - loss: 0.0222 - accuracy: 0.9894 - val_loss: 0.0468 - val_accuracy: 0.9794\n",
      "Epoch 90/100\n",
      "100000/100000 - 2s - loss: 0.0218 - accuracy: 0.9895 - val_loss: 0.0495 - val_accuracy: 0.9788\n",
      "Epoch 91/100\n",
      "100000/100000 - 2s - loss: 0.0236 - accuracy: 0.9889 - val_loss: 0.0458 - val_accuracy: 0.9795\n",
      "Epoch 92/100\n",
      "100000/100000 - 2s - loss: 0.0212 - accuracy: 0.9898 - val_loss: 0.0475 - val_accuracy: 0.9794\n",
      "Epoch 93/100\n",
      "100000/100000 - 2s - loss: 0.0198 - accuracy: 0.9903 - val_loss: 0.0474 - val_accuracy: 0.9794\n",
      "Epoch 94/100\n",
      "100000/100000 - 2s - loss: 0.0214 - accuracy: 0.9900 - val_loss: 0.0529 - val_accuracy: 0.9791\n",
      "Epoch 95/100\n",
      "100000/100000 - 2s - loss: 0.0207 - accuracy: 0.9902 - val_loss: 0.0506 - val_accuracy: 0.9785\n",
      "Epoch 96/100\n",
      "100000/100000 - 2s - loss: 0.0221 - accuracy: 0.9898 - val_loss: 0.0502 - val_accuracy: 0.9786\n",
      "Epoch 97/100\n",
      "100000/100000 - 2s - loss: 0.0190 - accuracy: 0.9909 - val_loss: 0.0537 - val_accuracy: 0.9786\n",
      "Epoch 98/100\n",
      "100000/100000 - 2s - loss: 0.0200 - accuracy: 0.9907 - val_loss: 0.0548 - val_accuracy: 0.9792\n",
      "Epoch 99/100\n",
      "100000/100000 - 2s - loss: 0.0203 - accuracy: 0.9906 - val_loss: 0.0527 - val_accuracy: 0.9789\n",
      "Epoch 100/100\n",
      "100000/100000 - 2s - loss: 0.0217 - accuracy: 0.9901 - val_loss: 0.0541 - val_accuracy: 0.9783\n"
     ]
    }
   ],
   "source": [
    "model = tf.keras.models.Sequential([\n",
    "    tf.keras.layers.Dense(150, input_shape = [24], activation = 'relu'),\n",
    "    #tf.keras.layers.Dense(200, activation = 'relu'),\n",
    "    tf.keras.layers.Dense(150, activation = 'relu'),\n",
    "    tf.keras.layers.Dense(150, activation = 'relu'),\n",
    "    tf.keras.layers.Dense(150, activation = 'relu'),\n",
    "    tf.keras.layers.Dense(12, activation = 'sigmoid')\n",
    "])\n",
    "adam = tf.keras.optimizers.Adam(lr = 0.005)\n",
    "model.compile(optimizer = adam, loss = 'binary_crossentropy', metrics = ['accuracy'])\n",
    "\n",
    "history = model.fit(x_train, y_train, batch_size = 1024, epochs = 100, verbose = 2, validation_data = (x_test, y_test))\n"
   ]
  },
  {
   "cell_type": "code",
   "execution_count": 6,
   "metadata": {},
   "outputs": [
    {
     "data": {
      "image/png": "[encoded data removed]",
      "text/plain": [
       "<Figure size 432x288 with 1 Axes>"
      ]
     },
     "metadata": {
      "needs_background": "light"
     },
     "output_type": "display_data"
    }
   ],
   "source": [
    "import matplotlib.pyplot as plt\n",
    "plt.figure()\n",
    "acc = history.history['accuracy']\n",
    "loss = history.history['loss']\n",
    "val_acc = history.history['val_accuracy']\n",
    "val_loss = history.history['val_loss']\n",
    "epochs = range(len(acc))\n",
    "plt.plot(epochs, acc, 'r', label = 'Training accuracy')\n",
    "plt.plot(epochs, val_acc, 'b', label = 'Validating accuracy')\n",
    "plt.title('Training and Validating Accuracy')\n",
    "#plt.title('Training Accuracy')\n",
    "plt.legend()\n",
    "plt.show()"
   ]
  },
  {
   "cell_type": "code",
   "execution_count": 8,
   "metadata": {},
   "outputs": [
    {
     "name": "stdout",
     "output_type": "stream",
     "text": [
      "5000/1 - 0s - loss: 0.0630 - accuracy: 0.9720\n"
     ]
    },
    {
     "data": {
      "text/plain": [
       "[0.04715186712741852, 0.9720002]"
      ]
     },
     "execution_count": 8,
     "metadata": {},
     "output_type": "execute_result"
    }
   ],
   "source": [
    "#model.evaluate(x_test, y_test, verbose = 2)"
   ]
  },
  {
   "cell_type": "code",
   "execution_count": 7,
   "metadata": {},
   "outputs": [],
   "source": [
    "model.save('C:\\\\Users\\\\Wilfred\\\\Desktop\\\\weights\\\\Better_of_Two\\\\Better_of_Two_4_6_9_4_model.h5')"
   ]
  },
  {
   "cell_type": "code",
   "execution_count": null,
   "metadata": {},
   "outputs": [],
   "source": []
  }
 ],
 "metadata": {
  "kernelspec": {
   "display_name": "Python 3",
   "language": "python",
   "name": "python3"
  },
  "language_info": {
   "codemirror_mode": {
    "name": "ipython",
    "version": 3
   },
   "file_extension": ".py",
   "mimetype": "text/x-python",
   "name": "python",
   "nbconvert_exporter": "python",
   "pygments_lexer": "ipython3",
   "version": "3.7.5"
  }
 },
 "nbformat": 4,
 "nbformat_minor": 2
}
