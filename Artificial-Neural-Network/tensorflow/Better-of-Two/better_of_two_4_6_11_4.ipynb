{
 "cells": [
  {
   "cell_type": "code",
   "execution_count": 1,
   "metadata": {},
   "outputs": [],
   "source": [
    "import tensorflow as tf\n",
    "import numpy as np\n",
    "import pickle\n",
    "np.random.seed(7)"
   ]
  },
  {
   "cell_type": "code",
   "execution_count": 2,
   "metadata": {},
   "outputs": [
    {
     "name": "stdout",
     "output_type": "stream",
     "text": [
      "(105000, 24)\n"
     ]
    }
   ],
   "source": [
    "with open ('C:\\\\Users\\\\Wilfred\\\\Desktop\\\\better-of-two\\\\input_layer_4_6_11_4.pickle','rb') as file:\n",
    "    input_data = pickle.load(file)\n",
    "permutation = list(np.random.permutation(input_data.shape[0]))\n",
    "input_data = input_data[permutation,:]\n",
    "print(input_data.shape)\n",
    "x_train = input_data[:100000, :]\n",
    "x_test = input_data[100000:105000, :]\n"
   ]
  },
  {
   "cell_type": "code",
   "execution_count": 3,
   "metadata": {},
   "outputs": [
    {
     "name": "stdout",
     "output_type": "stream",
     "text": [
      "(105000, 12)\n",
      "(105000, 12)\n"
     ]
    }
   ],
   "source": [
    "with open ('C:\\\\Users\\\\Wilfred\\\\Desktop\\\\better-of-two\\\\output_layer_4_6_11_4.pickle','rb') as file:\n",
    "    output_data = pickle.load(file)\n",
    "print(output_data.shape)\n",
    "#output_data = np.transpose(output_data)\n",
    "output_data = output_data[permutation,:]\n",
    "y_train = output_data[:100000, :]\n",
    "y_test = output_data[100000:105000, :]\n",
    "print(output_data.shape)"
   ]
  },
  {
   "cell_type": "code",
   "execution_count": 4,
   "metadata": {},
   "outputs": [
    {
     "name": "stdout",
     "output_type": "stream",
     "text": [
      "Train on 100000 samples, validate on 5000 samples\n",
      "Epoch 1/90\n",
      "100000/100000 - 3s - loss: 0.2394 - accuracy: 0.9030 - val_loss: 0.2080 - val_accuracy: 0.9153\n",
      "Epoch 2/90\n",
      "100000/100000 - 2s - loss: 0.2012 - accuracy: 0.9159 - val_loss: 0.1928 - val_accuracy: 0.9165\n",
      "Epoch 3/90\n",
      "100000/100000 - 2s - loss: 0.1799 - accuracy: 0.9202 - val_loss: 0.1681 - val_accuracy: 0.9224\n",
      "Epoch 4/90\n",
      "100000/100000 - 2s - loss: 0.1501 - accuracy: 0.9297 - val_loss: 0.1381 - val_accuracy: 0.9353\n",
      "Epoch 5/90\n",
      "100000/100000 - 2s - loss: 0.1256 - accuracy: 0.9413 - val_loss: 0.1200 - val_accuracy: 0.9442\n",
      "Epoch 6/90\n",
      "100000/100000 - 2s - loss: 0.1066 - accuracy: 0.9515 - val_loss: 0.1058 - val_accuracy: 0.9514\n",
      "Epoch 7/90\n",
      "100000/100000 - 2s - loss: 0.0951 - accuracy: 0.9573 - val_loss: 0.0940 - val_accuracy: 0.9578\n",
      "Epoch 8/90\n",
      "100000/100000 - 2s - loss: 0.0858 - accuracy: 0.9621 - val_loss: 0.0861 - val_accuracy: 0.9625\n",
      "Epoch 9/90\n",
      "100000/100000 - 2s - loss: 0.0761 - accuracy: 0.9672 - val_loss: 0.0824 - val_accuracy: 0.9644\n",
      "Epoch 10/90\n",
      "100000/100000 - 2s - loss: 0.0697 - accuracy: 0.9702 - val_loss: 0.0763 - val_accuracy: 0.9671\n",
      "Epoch 11/90\n",
      "100000/100000 - 2s - loss: 0.0644 - accuracy: 0.9729 - val_loss: 0.0672 - val_accuracy: 0.9714\n",
      "Epoch 12/90\n",
      "100000/100000 - 2s - loss: 0.0594 - accuracy: 0.9750 - val_loss: 0.0667 - val_accuracy: 0.9714\n",
      "Epoch 13/90\n",
      "100000/100000 - 1s - loss: 0.0560 - accuracy: 0.9764 - val_loss: 0.0625 - val_accuracy: 0.9745\n",
      "Epoch 14/90\n",
      "100000/100000 - 1s - loss: 0.0516 - accuracy: 0.9784 - val_loss: 0.0575 - val_accuracy: 0.9758\n",
      "Epoch 15/90\n",
      "100000/100000 - 1s - loss: 0.0490 - accuracy: 0.9793 - val_loss: 0.0582 - val_accuracy: 0.9749\n",
      "Epoch 16/90\n",
      "100000/100000 - 1s - loss: 0.0475 - accuracy: 0.9797 - val_loss: 0.0588 - val_accuracy: 0.9747\n",
      "Epoch 17/90\n",
      "100000/100000 - 1s - loss: 0.0441 - accuracy: 0.9810 - val_loss: 0.0530 - val_accuracy: 0.9776\n",
      "Epoch 18/90\n",
      "100000/100000 - 1s - loss: 0.0426 - accuracy: 0.9817 - val_loss: 0.0544 - val_accuracy: 0.9768\n",
      "Epoch 19/90\n",
      "100000/100000 - 1s - loss: 0.0412 - accuracy: 0.9823 - val_loss: 0.0538 - val_accuracy: 0.9773\n",
      "Epoch 20/90\n",
      "100000/100000 - 1s - loss: 0.0394 - accuracy: 0.9828 - val_loss: 0.0510 - val_accuracy: 0.9786\n",
      "Epoch 21/90\n",
      "100000/100000 - 2s - loss: 0.0394 - accuracy: 0.9826 - val_loss: 0.0490 - val_accuracy: 0.9791\n",
      "Epoch 22/90\n",
      "100000/100000 - 2s - loss: 0.0368 - accuracy: 0.9836 - val_loss: 0.0479 - val_accuracy: 0.9796\n",
      "Epoch 23/90\n",
      "100000/100000 - 1s - loss: 0.0363 - accuracy: 0.9838 - val_loss: 0.0478 - val_accuracy: 0.9796\n",
      "Epoch 24/90\n",
      "100000/100000 - 1s - loss: 0.0352 - accuracy: 0.9843 - val_loss: 0.0471 - val_accuracy: 0.9804\n",
      "Epoch 25/90\n",
      "100000/100000 - 1s - loss: 0.0332 - accuracy: 0.9851 - val_loss: 0.0474 - val_accuracy: 0.9794\n",
      "Epoch 26/90\n",
      "100000/100000 - 2s - loss: 0.0335 - accuracy: 0.9850 - val_loss: 0.0457 - val_accuracy: 0.9811\n",
      "Epoch 27/90\n",
      "100000/100000 - 1s - loss: 0.0319 - accuracy: 0.9856 - val_loss: 0.0465 - val_accuracy: 0.9799\n",
      "Epoch 28/90\n",
      "100000/100000 - 1s - loss: 0.0321 - accuracy: 0.9856 - val_loss: 0.0481 - val_accuracy: 0.9803\n",
      "Epoch 29/90\n",
      "100000/100000 - 1s - loss: 0.0302 - accuracy: 0.9864 - val_loss: 0.0490 - val_accuracy: 0.9804\n",
      "Epoch 30/90\n",
      "100000/100000 - 2s - loss: 0.0306 - accuracy: 0.9863 - val_loss: 0.0438 - val_accuracy: 0.9813\n",
      "Epoch 31/90\n",
      "100000/100000 - 1s - loss: 0.0294 - accuracy: 0.9866 - val_loss: 0.0463 - val_accuracy: 0.9805\n",
      "Epoch 32/90\n",
      "100000/100000 - 2s - loss: 0.0290 - accuracy: 0.9870 - val_loss: 0.0432 - val_accuracy: 0.9823\n",
      "Epoch 33/90\n",
      "100000/100000 - 1s - loss: 0.0285 - accuracy: 0.9870 - val_loss: 0.0469 - val_accuracy: 0.9809\n",
      "Epoch 34/90\n",
      "100000/100000 - 2s - loss: 0.0273 - accuracy: 0.9874 - val_loss: 0.0453 - val_accuracy: 0.9817\n",
      "Epoch 35/90\n",
      "100000/100000 - 2s - loss: 0.0289 - accuracy: 0.9870 - val_loss: 0.0434 - val_accuracy: 0.9822\n",
      "Epoch 36/90\n",
      "100000/100000 - 2s - loss: 0.0277 - accuracy: 0.9874 - val_loss: 0.0442 - val_accuracy: 0.9820\n",
      "Epoch 37/90\n",
      "100000/100000 - 2s - loss: 0.0249 - accuracy: 0.9885 - val_loss: 0.0462 - val_accuracy: 0.9813\n",
      "Epoch 38/90\n",
      "100000/100000 - 2s - loss: 0.0275 - accuracy: 0.9875 - val_loss: 0.0425 - val_accuracy: 0.9825\n",
      "Epoch 39/90\n",
      "100000/100000 - 2s - loss: 0.0258 - accuracy: 0.9880 - val_loss: 0.0455 - val_accuracy: 0.9820\n",
      "Epoch 40/90\n",
      "100000/100000 - 2s - loss: 0.0246 - accuracy: 0.9887 - val_loss: 0.0455 - val_accuracy: 0.9819\n",
      "Epoch 41/90\n",
      "100000/100000 - 2s - loss: 0.0241 - accuracy: 0.9889 - val_loss: 0.0422 - val_accuracy: 0.9828\n",
      "Epoch 42/90\n",
      "100000/100000 - 2s - loss: 0.0244 - accuracy: 0.9887 - val_loss: 0.0458 - val_accuracy: 0.9818\n",
      "Epoch 43/90\n",
      "100000/100000 - 2s - loss: 0.0236 - accuracy: 0.9891 - val_loss: 0.0434 - val_accuracy: 0.9828\n",
      "Epoch 44/90\n",
      "100000/100000 - 2s - loss: 0.0241 - accuracy: 0.9890 - val_loss: 0.0437 - val_accuracy: 0.9823\n",
      "Epoch 45/90\n",
      "100000/100000 - 1s - loss: 0.0253 - accuracy: 0.9885 - val_loss: 0.0458 - val_accuracy: 0.9824\n",
      "Epoch 46/90\n",
      "100000/100000 - 2s - loss: 0.0251 - accuracy: 0.9886 - val_loss: 0.0435 - val_accuracy: 0.9831\n",
      "Epoch 47/90\n",
      "100000/100000 - 1s - loss: 0.0226 - accuracy: 0.9895 - val_loss: 0.0457 - val_accuracy: 0.9827\n",
      "Epoch 48/90\n",
      "100000/100000 - 2s - loss: 0.0234 - accuracy: 0.9894 - val_loss: 0.0449 - val_accuracy: 0.9830\n",
      "Epoch 49/90\n",
      "100000/100000 - 2s - loss: 0.0231 - accuracy: 0.9894 - val_loss: 0.0388 - val_accuracy: 0.9846\n",
      "Epoch 50/90\n",
      "100000/100000 - 2s - loss: 0.0213 - accuracy: 0.9900 - val_loss: 0.0450 - val_accuracy: 0.9831\n",
      "Epoch 51/90\n",
      "100000/100000 - 2s - loss: 0.0227 - accuracy: 0.9896 - val_loss: 0.0435 - val_accuracy: 0.9832\n",
      "Epoch 52/90\n",
      "100000/100000 - 2s - loss: 0.0212 - accuracy: 0.9901 - val_loss: 0.0427 - val_accuracy: 0.9846\n",
      "Epoch 53/90\n",
      "100000/100000 - 2s - loss: 0.0215 - accuracy: 0.9901 - val_loss: 0.0411 - val_accuracy: 0.9843\n",
      "Epoch 54/90\n",
      "100000/100000 - 2s - loss: 0.0228 - accuracy: 0.9897 - val_loss: 0.0418 - val_accuracy: 0.9834\n",
      "Epoch 55/90\n",
      "100000/100000 - 2s - loss: 0.0234 - accuracy: 0.9894 - val_loss: 0.0444 - val_accuracy: 0.9821\n",
      "Epoch 56/90\n",
      "100000/100000 - 2s - loss: 0.0212 - accuracy: 0.9901 - val_loss: 0.0484 - val_accuracy: 0.9833\n",
      "Epoch 57/90\n",
      "100000/100000 - 2s - loss: 0.0207 - accuracy: 0.9905 - val_loss: 0.0440 - val_accuracy: 0.9831\n",
      "Epoch 58/90\n",
      "100000/100000 - 2s - loss: 0.0206 - accuracy: 0.9907 - val_loss: 0.0477 - val_accuracy: 0.9829\n",
      "Epoch 59/90\n",
      "100000/100000 - 2s - loss: 0.0200 - accuracy: 0.9908 - val_loss: 0.0445 - val_accuracy: 0.9841\n",
      "Epoch 60/90\n",
      "100000/100000 - 2s - loss: 0.0226 - accuracy: 0.9900 - val_loss: 0.0430 - val_accuracy: 0.9840\n",
      "Epoch 61/90\n",
      "100000/100000 - 2s - loss: 0.0203 - accuracy: 0.9908 - val_loss: 0.0439 - val_accuracy: 0.9841\n",
      "Epoch 62/90\n",
      "100000/100000 - 2s - loss: 0.0206 - accuracy: 0.9908 - val_loss: 0.0419 - val_accuracy: 0.9842\n",
      "Epoch 63/90\n",
      "100000/100000 - 2s - loss: 0.0194 - accuracy: 0.9911 - val_loss: 0.0451 - val_accuracy: 0.9848\n",
      "Epoch 64/90\n",
      "100000/100000 - 2s - loss: 0.0201 - accuracy: 0.9909 - val_loss: 0.0473 - val_accuracy: 0.9825\n",
      "Epoch 65/90\n",
      "100000/100000 - 2s - loss: 0.0197 - accuracy: 0.9911 - val_loss: 0.0482 - val_accuracy: 0.9832\n",
      "Epoch 66/90\n",
      "100000/100000 - 2s - loss: 0.0184 - accuracy: 0.9917 - val_loss: 0.0475 - val_accuracy: 0.9848\n",
      "Epoch 67/90\n",
      "100000/100000 - 2s - loss: 0.0192 - accuracy: 0.9913 - val_loss: 0.0479 - val_accuracy: 0.9832\n",
      "Epoch 68/90\n",
      "100000/100000 - 2s - loss: 0.0197 - accuracy: 0.9912 - val_loss: 0.0434 - val_accuracy: 0.9839\n",
      "Epoch 69/90\n",
      "100000/100000 - 2s - loss: 0.0205 - accuracy: 0.9909 - val_loss: 0.0440 - val_accuracy: 0.9846\n",
      "Epoch 70/90\n",
      "100000/100000 - 2s - loss: 0.0182 - accuracy: 0.9918 - val_loss: 0.0466 - val_accuracy: 0.9836\n",
      "Epoch 71/90\n",
      "100000/100000 - 2s - loss: 0.0181 - accuracy: 0.9920 - val_loss: 0.0454 - val_accuracy: 0.9845\n",
      "Epoch 72/90\n",
      "100000/100000 - 2s - loss: 0.0176 - accuracy: 0.9922 - val_loss: 0.0463 - val_accuracy: 0.9840\n",
      "Epoch 73/90\n",
      "100000/100000 - 2s - loss: 0.0178 - accuracy: 0.9921 - val_loss: 0.0462 - val_accuracy: 0.9851\n",
      "Epoch 74/90\n",
      "100000/100000 - 2s - loss: 0.0172 - accuracy: 0.9922 - val_loss: 0.0447 - val_accuracy: 0.9849\n",
      "Epoch 75/90\n",
      "100000/100000 - 2s - loss: 0.0182 - accuracy: 0.9921 - val_loss: 0.0476 - val_accuracy: 0.9844\n",
      "Epoch 76/90\n",
      "100000/100000 - 2s - loss: 0.0178 - accuracy: 0.9921 - val_loss: 0.0482 - val_accuracy: 0.9842\n",
      "Epoch 77/90\n",
      "100000/100000 - 2s - loss: 0.0171 - accuracy: 0.9925 - val_loss: 0.0460 - val_accuracy: 0.9850\n"
     ]
    },
    {
     "name": "stdout",
     "output_type": "stream",
     "text": [
      "Epoch 78/90\n",
      "100000/100000 - 2s - loss: 0.0178 - accuracy: 0.9922 - val_loss: 0.0502 - val_accuracy: 0.9830\n",
      "Epoch 79/90\n",
      "100000/100000 - 2s - loss: 0.0182 - accuracy: 0.9922 - val_loss: 0.0447 - val_accuracy: 0.9850\n",
      "Epoch 80/90\n",
      "100000/100000 - 2s - loss: 0.0162 - accuracy: 0.9928 - val_loss: 0.0486 - val_accuracy: 0.9840\n",
      "Epoch 81/90\n",
      "100000/100000 - 2s - loss: 0.0158 - accuracy: 0.9930 - val_loss: 0.0459 - val_accuracy: 0.9848\n",
      "Epoch 82/90\n",
      "100000/100000 - 2s - loss: 0.0175 - accuracy: 0.9925 - val_loss: 0.0522 - val_accuracy: 0.9838\n",
      "Epoch 83/90\n",
      "100000/100000 - 2s - loss: 0.0184 - accuracy: 0.9921 - val_loss: 0.0457 - val_accuracy: 0.9851\n",
      "Epoch 84/90\n",
      "100000/100000 - 2s - loss: 0.0158 - accuracy: 0.9930 - val_loss: 0.0490 - val_accuracy: 0.9840\n",
      "Epoch 85/90\n",
      "100000/100000 - 2s - loss: 0.0207 - accuracy: 0.9916 - val_loss: 0.0487 - val_accuracy: 0.9848\n",
      "Epoch 86/90\n",
      "100000/100000 - 2s - loss: 0.0154 - accuracy: 0.9932 - val_loss: 0.0467 - val_accuracy: 0.9854\n",
      "Epoch 87/90\n",
      "100000/100000 - 2s - loss: 0.0146 - accuracy: 0.9935 - val_loss: 0.0502 - val_accuracy: 0.9848\n",
      "Epoch 88/90\n",
      "100000/100000 - 2s - loss: 0.0155 - accuracy: 0.9933 - val_loss: 0.0519 - val_accuracy: 0.9838\n",
      "Epoch 89/90\n",
      "100000/100000 - 2s - loss: 0.0175 - accuracy: 0.9926 - val_loss: 0.0535 - val_accuracy: 0.9836\n",
      "Epoch 90/90\n",
      "100000/100000 - 2s - loss: 0.0167 - accuracy: 0.9930 - val_loss: 0.0517 - val_accuracy: 0.9841\n"
     ]
    }
   ],
   "source": [
    "model = tf.keras.models.Sequential([\n",
    "    tf.keras.layers.Dense(150, input_shape = [24], activation = 'relu'),\n",
    "    #tf.keras.layers.Dense(200, activation = 'relu'),\n",
    "    tf.keras.layers.Dense(150, activation = 'relu'),\n",
    "    tf.keras.layers.Dense(150, activation = 'relu'),\n",
    "    tf.keras.layers.Dense(150, activation = 'relu'),\n",
    "    tf.keras.layers.Dense(12, activation = 'sigmoid')\n",
    "])\n",
    "adam = tf.keras.optimizers.Adam(lr = 0.005)\n",
    "model.compile(optimizer = adam, loss = 'binary_crossentropy', metrics = ['accuracy'])\n",
    "\n",
    "history = model.fit(x_train, y_train, batch_size = 1024, epochs = 90, verbose = 2, validation_data = (x_test, y_test))\n"
   ]
  },
  {
   "cell_type": "code",
   "execution_count": 6,
   "metadata": {},
   "outputs": [
    {
     "data": {
      "image/png": "[encoded data removed]",
      "text/plain": [
       "<Figure size 432x288 with 1 Axes>"
      ]
     },
     "metadata": {
      "needs_background": "light"
     },
     "output_type": "display_data"
    }
   ],
   "source": [
    "import matplotlib.pyplot as plt\n",
    "plt.figure()\n",
    "acc = history.history['accuracy']\n",
    "loss = history.history['loss']\n",
    "val_acc = history.history['val_accuracy']\n",
    "val_loss = history.history['val_loss']\n",
    "epochs = range(len(acc))\n",
    "plt.plot(epochs, acc, 'r', label = 'Training accuracy')\n",
    "plt.plot(epochs, val_acc, 'b', label = 'Validating accuracy')\n",
    "plt.title('Training and Validating Accuracy')\n",
    "#plt.title('Training Accuracy')\n",
    "plt.legend()\n",
    "plt.show()"
   ]
  },
  {
   "cell_type": "code",
   "execution_count": 8,
   "metadata": {},
   "outputs": [
    {
     "name": "stdout",
     "output_type": "stream",
     "text": [
      "5000/1 - 0s - loss: 0.0630 - accuracy: 0.9720\n"
     ]
    },
    {
     "data": {
      "text/plain": [
       "[0.04715186712741852, 0.9720002]"
      ]
     },
     "execution_count": 8,
     "metadata": {},
     "output_type": "execute_result"
    }
   ],
   "source": [
    "#model.evaluate(x_test, y_test, verbose = 2)"
   ]
  },
  {
   "cell_type": "code",
   "execution_count": 7,
   "metadata": {},
   "outputs": [],
   "source": [
    "model.save('C:\\\\Users\\\\Wilfred\\\\Desktop\\\\weights\\\\Better_of_Two\\\\Better_of_Two_4_6_11_4_model.h5')"
   ]
  },
  {
   "cell_type": "code",
   "execution_count": null,
   "metadata": {},
   "outputs": [],
   "source": []
  }
 ],
 "metadata": {
  "kernelspec": {
   "display_name": "Python 3",
   "language": "python",
   "name": "python3"
  },
  "language_info": {
   "codemirror_mode": {
    "name": "ipython",
    "version": 3
   },
   "file_extension": ".py",
   "mimetype": "text/x-python",
   "name": "python",
   "nbconvert_exporter": "python",
   "pygments_lexer": "ipython3",
   "version": "3.7.5"
  }
 },
 "nbformat": 4,
 "nbformat_minor": 2
}
