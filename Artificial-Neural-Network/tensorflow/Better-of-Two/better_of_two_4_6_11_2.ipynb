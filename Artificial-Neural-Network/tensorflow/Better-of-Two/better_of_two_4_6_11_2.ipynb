{
 "cells": [
  {
   "cell_type": "code",
   "execution_count": 1,
   "metadata": {},
   "outputs": [],
   "source": [
    "import tensorflow as tf\n",
    "import numpy as np\n",
    "import pickle\n",
    "np.random.seed(7)"
   ]
  },
  {
   "cell_type": "code",
   "execution_count": 2,
   "metadata": {},
   "outputs": [
    {
     "name": "stdout",
     "output_type": "stream",
     "text": [
      "(105000, 24)\n"
     ]
    }
   ],
   "source": [
    "with open ('C:\\\\Users\\\\Wilfred\\\\Desktop\\\\better-of-two\\\\input_layer_4_6_11_2.pickle','rb') as file:\n",
    "    input_data = pickle.load(file)\n",
    "permutation = list(np.random.permutation(input_data.shape[0]))\n",
    "input_data = input_data[permutation,:]\n",
    "print(input_data.shape)\n",
    "x_train = input_data[:100000, :]\n",
    "x_test = input_data[100000:105000, :]\n"
   ]
  },
  {
   "cell_type": "code",
   "execution_count": 3,
   "metadata": {},
   "outputs": [
    {
     "name": "stdout",
     "output_type": "stream",
     "text": [
      "(105000, 12)\n",
      "(105000, 12)\n"
     ]
    }
   ],
   "source": [
    "with open ('C:\\\\Users\\\\Wilfred\\\\Desktop\\\\better-of-two\\\\output_layer_4_6_11_2.pickle','rb') as file:\n",
    "    output_data = pickle.load(file)\n",
    "print(output_data.shape)\n",
    "#output_data = np.transpose(output_data)\n",
    "output_data = output_data[permutation,:]\n",
    "y_train = output_data[:100000, :]\n",
    "y_test = output_data[100000:105000, :]\n",
    "print(output_data.shape)"
   ]
  },
  {
   "cell_type": "code",
   "execution_count": 4,
   "metadata": {},
   "outputs": [
    {
     "name": "stdout",
     "output_type": "stream",
     "text": [
      "Train on 100000 samples, validate on 5000 samples\n",
      "Epoch 1/100\n",
      "100000/100000 - 3s - loss: 0.3637 - accuracy: 0.8516 - val_loss: 0.2703 - val_accuracy: 0.8886\n",
      "Epoch 2/100\n",
      "100000/100000 - 2s - loss: 0.2408 - accuracy: 0.9014 - val_loss: 0.2210 - val_accuracy: 0.9093\n",
      "Epoch 3/100\n",
      "100000/100000 - 2s - loss: 0.2137 - accuracy: 0.9107 - val_loss: 0.2078 - val_accuracy: 0.9123\n",
      "Epoch 4/100\n",
      "100000/100000 - 2s - loss: 0.2028 - accuracy: 0.9138 - val_loss: 0.2026 - val_accuracy: 0.9137\n",
      "Epoch 5/100\n",
      "100000/100000 - 2s - loss: 0.1931 - accuracy: 0.9178 - val_loss: 0.1929 - val_accuracy: 0.9178\n",
      "Epoch 6/100\n",
      "100000/100000 - 2s - loss: 0.1819 - accuracy: 0.9229 - val_loss: 0.1769 - val_accuracy: 0.9254\n",
      "Epoch 7/100\n",
      "100000/100000 - 1s - loss: 0.1662 - accuracy: 0.9284 - val_loss: 0.1609 - val_accuracy: 0.9286\n",
      "Epoch 8/100\n",
      "100000/100000 - 2s - loss: 0.1475 - accuracy: 0.9338 - val_loss: 0.1445 - val_accuracy: 0.9339\n",
      "Epoch 9/100\n",
      "100000/100000 - 2s - loss: 0.1331 - accuracy: 0.9384 - val_loss: 0.1286 - val_accuracy: 0.9395\n",
      "Epoch 10/100\n",
      "100000/100000 - 1s - loss: 0.1209 - accuracy: 0.9437 - val_loss: 0.1221 - val_accuracy: 0.9438\n",
      "Epoch 11/100\n",
      "100000/100000 - 1s - loss: 0.1122 - accuracy: 0.9481 - val_loss: 0.1133 - val_accuracy: 0.9476\n",
      "Epoch 12/100\n",
      "100000/100000 - 1s - loss: 0.1040 - accuracy: 0.9523 - val_loss: 0.1079 - val_accuracy: 0.9509\n",
      "Epoch 13/100\n",
      "100000/100000 - 1s - loss: 0.0977 - accuracy: 0.9558 - val_loss: 0.1024 - val_accuracy: 0.9547\n",
      "Epoch 14/100\n",
      "100000/100000 - 1s - loss: 0.0901 - accuracy: 0.9596 - val_loss: 0.0925 - val_accuracy: 0.9594\n",
      "Epoch 15/100\n",
      "100000/100000 - 1s - loss: 0.0841 - accuracy: 0.9628 - val_loss: 0.0929 - val_accuracy: 0.9591\n",
      "Epoch 16/100\n",
      "100000/100000 - 1s - loss: 0.0806 - accuracy: 0.9648 - val_loss: 0.0860 - val_accuracy: 0.9626\n",
      "Epoch 17/100\n",
      "100000/100000 - 1s - loss: 0.0778 - accuracy: 0.9664 - val_loss: 0.0812 - val_accuracy: 0.9663\n",
      "Epoch 18/100\n",
      "100000/100000 - 1s - loss: 0.0703 - accuracy: 0.9701 - val_loss: 0.0799 - val_accuracy: 0.9661\n",
      "Epoch 19/100\n",
      "100000/100000 - 1s - loss: 0.0678 - accuracy: 0.9715 - val_loss: 0.0803 - val_accuracy: 0.9663\n",
      "Epoch 20/100\n",
      "100000/100000 - 1s - loss: 0.0642 - accuracy: 0.9732 - val_loss: 0.0672 - val_accuracy: 0.9728\n",
      "Epoch 21/100\n",
      "100000/100000 - 1s - loss: 0.0613 - accuracy: 0.9747 - val_loss: 0.0669 - val_accuracy: 0.9729\n",
      "Epoch 22/100\n",
      "100000/100000 - 1s - loss: 0.0601 - accuracy: 0.9750 - val_loss: 0.0693 - val_accuracy: 0.9721\n",
      "Epoch 23/100\n",
      "100000/100000 - 1s - loss: 0.0556 - accuracy: 0.9773 - val_loss: 0.0656 - val_accuracy: 0.9732\n",
      "Epoch 24/100\n",
      "100000/100000 - 1s - loss: 0.0528 - accuracy: 0.9787 - val_loss: 0.0598 - val_accuracy: 0.9762\n",
      "Epoch 25/100\n",
      "100000/100000 - 1s - loss: 0.0521 - accuracy: 0.9790 - val_loss: 0.0587 - val_accuracy: 0.9769\n",
      "Epoch 26/100\n",
      "100000/100000 - 1s - loss: 0.0489 - accuracy: 0.9802 - val_loss: 0.0576 - val_accuracy: 0.9784\n",
      "Epoch 27/100\n",
      "100000/100000 - 1s - loss: 0.0477 - accuracy: 0.9809 - val_loss: 0.0587 - val_accuracy: 0.9769\n",
      "Epoch 28/100\n",
      "100000/100000 - 1s - loss: 0.0498 - accuracy: 0.9799 - val_loss: 0.0627 - val_accuracy: 0.9760\n",
      "Epoch 29/100\n",
      "100000/100000 - 1s - loss: 0.0453 - accuracy: 0.9820 - val_loss: 0.0543 - val_accuracy: 0.9791\n",
      "Epoch 30/100\n",
      "100000/100000 - 1s - loss: 0.0429 - accuracy: 0.9830 - val_loss: 0.0524 - val_accuracy: 0.9797\n",
      "Epoch 31/100\n",
      "100000/100000 - 2s - loss: 0.0418 - accuracy: 0.9834 - val_loss: 0.0545 - val_accuracy: 0.9792\n",
      "Epoch 32/100\n",
      "100000/100000 - 2s - loss: 0.0419 - accuracy: 0.9836 - val_loss: 0.0529 - val_accuracy: 0.9801\n",
      "Epoch 33/100\n",
      "100000/100000 - 2s - loss: 0.0386 - accuracy: 0.9847 - val_loss: 0.0504 - val_accuracy: 0.9801\n",
      "Epoch 34/100\n",
      "100000/100000 - 2s - loss: 0.0376 - accuracy: 0.9849 - val_loss: 0.0542 - val_accuracy: 0.9794\n",
      "Epoch 35/100\n",
      "100000/100000 - 2s - loss: 0.0389 - accuracy: 0.9846 - val_loss: 0.0506 - val_accuracy: 0.9815\n",
      "Epoch 36/100\n",
      "100000/100000 - 2s - loss: 0.0363 - accuracy: 0.9856 - val_loss: 0.0578 - val_accuracy: 0.9788\n",
      "Epoch 37/100\n",
      "100000/100000 - 2s - loss: 0.0378 - accuracy: 0.9851 - val_loss: 0.0450 - val_accuracy: 0.9836\n",
      "Epoch 38/100\n",
      "100000/100000 - 1s - loss: 0.0355 - accuracy: 0.9860 - val_loss: 0.0485 - val_accuracy: 0.9822\n",
      "Epoch 39/100\n",
      "100000/100000 - 2s - loss: 0.0338 - accuracy: 0.9867 - val_loss: 0.0465 - val_accuracy: 0.9828\n",
      "Epoch 40/100\n",
      "100000/100000 - 2s - loss: 0.0358 - accuracy: 0.9860 - val_loss: 0.0506 - val_accuracy: 0.9809\n",
      "Epoch 41/100\n",
      "100000/100000 - 2s - loss: 0.0323 - accuracy: 0.9873 - val_loss: 0.0485 - val_accuracy: 0.9817\n",
      "Epoch 42/100\n",
      "100000/100000 - 2s - loss: 0.0329 - accuracy: 0.9871 - val_loss: 0.0481 - val_accuracy: 0.9818\n",
      "Epoch 43/100\n",
      "100000/100000 - 2s - loss: 0.0314 - accuracy: 0.9876 - val_loss: 0.0458 - val_accuracy: 0.9839\n",
      "Epoch 44/100\n",
      "100000/100000 - 1s - loss: 0.0318 - accuracy: 0.9874 - val_loss: 0.0469 - val_accuracy: 0.9829\n",
      "Epoch 45/100\n",
      "100000/100000 - 2s - loss: 0.0303 - accuracy: 0.9880 - val_loss: 0.0482 - val_accuracy: 0.9827\n",
      "Epoch 46/100\n",
      "100000/100000 - 2s - loss: 0.0323 - accuracy: 0.9874 - val_loss: 0.0481 - val_accuracy: 0.9825\n",
      "Epoch 47/100\n",
      "100000/100000 - 1s - loss: 0.0313 - accuracy: 0.9878 - val_loss: 0.0494 - val_accuracy: 0.9817\n",
      "Epoch 48/100\n",
      "100000/100000 - 1s - loss: 0.0309 - accuracy: 0.9879 - val_loss: 0.0421 - val_accuracy: 0.9843\n",
      "Epoch 49/100\n",
      "100000/100000 - 2s - loss: 0.0293 - accuracy: 0.9884 - val_loss: 0.0484 - val_accuracy: 0.9823\n",
      "Epoch 50/100\n",
      "100000/100000 - 1s - loss: 0.0281 - accuracy: 0.9889 - val_loss: 0.0423 - val_accuracy: 0.9851\n",
      "Epoch 51/100\n",
      "100000/100000 - 2s - loss: 0.0276 - accuracy: 0.9890 - val_loss: 0.0425 - val_accuracy: 0.9854\n",
      "Epoch 52/100\n",
      "100000/100000 - 2s - loss: 0.0326 - accuracy: 0.9875 - val_loss: 0.0476 - val_accuracy: 0.9832\n",
      "Epoch 53/100\n",
      "100000/100000 - 2s - loss: 0.0251 - accuracy: 0.9901 - val_loss: 0.0405 - val_accuracy: 0.9859\n",
      "Epoch 54/100\n",
      "100000/100000 - 2s - loss: 0.0245 - accuracy: 0.9902 - val_loss: 0.0448 - val_accuracy: 0.9844\n",
      "Epoch 55/100\n",
      "100000/100000 - 2s - loss: 0.0254 - accuracy: 0.9900 - val_loss: 0.0565 - val_accuracy: 0.9814\n",
      "Epoch 56/100\n",
      "100000/100000 - 2s - loss: 0.0292 - accuracy: 0.9887 - val_loss: 0.0460 - val_accuracy: 0.9837\n",
      "Epoch 57/100\n",
      "100000/100000 - 2s - loss: 0.0251 - accuracy: 0.9902 - val_loss: 0.0405 - val_accuracy: 0.9859\n",
      "Epoch 58/100\n",
      "100000/100000 - 2s - loss: 0.0268 - accuracy: 0.9895 - val_loss: 0.0494 - val_accuracy: 0.9825\n",
      "Epoch 59/100\n",
      "100000/100000 - 2s - loss: 0.0300 - accuracy: 0.9885 - val_loss: 0.0522 - val_accuracy: 0.9823\n",
      "Epoch 60/100\n",
      "100000/100000 - 2s - loss: 0.0253 - accuracy: 0.9901 - val_loss: 0.0484 - val_accuracy: 0.9829\n",
      "Epoch 61/100\n",
      "100000/100000 - 2s - loss: 0.0248 - accuracy: 0.9903 - val_loss: 0.0423 - val_accuracy: 0.9848\n",
      "Epoch 62/100\n",
      "100000/100000 - 2s - loss: 0.0248 - accuracy: 0.9903 - val_loss: 0.0405 - val_accuracy: 0.9859\n",
      "Epoch 63/100\n",
      "100000/100000 - 2s - loss: 0.0235 - accuracy: 0.9908 - val_loss: 0.0407 - val_accuracy: 0.9849\n",
      "Epoch 64/100\n",
      "100000/100000 - 2s - loss: 0.0232 - accuracy: 0.9910 - val_loss: 0.0510 - val_accuracy: 0.9829\n",
      "Epoch 65/100\n",
      "100000/100000 - 2s - loss: 0.0290 - accuracy: 0.9891 - val_loss: 0.0526 - val_accuracy: 0.9812\n",
      "Epoch 66/100\n",
      "100000/100000 - 2s - loss: 0.0256 - accuracy: 0.9901 - val_loss: 0.0445 - val_accuracy: 0.9848\n",
      "Epoch 67/100\n",
      "100000/100000 - 2s - loss: 0.0242 - accuracy: 0.9907 - val_loss: 0.0413 - val_accuracy: 0.9862\n",
      "Epoch 68/100\n",
      "100000/100000 - 2s - loss: 0.0244 - accuracy: 0.9905 - val_loss: 0.0443 - val_accuracy: 0.9848\n",
      "Epoch 69/100\n",
      "100000/100000 - 2s - loss: 0.0265 - accuracy: 0.9898 - val_loss: 0.0426 - val_accuracy: 0.9859\n",
      "Epoch 70/100\n",
      "100000/100000 - 2s - loss: 0.0227 - accuracy: 0.9912 - val_loss: 0.0464 - val_accuracy: 0.9848\n",
      "Epoch 71/100\n",
      "100000/100000 - 2s - loss: 0.0214 - accuracy: 0.9916 - val_loss: 0.0402 - val_accuracy: 0.9865\n",
      "Epoch 72/100\n",
      "100000/100000 - 2s - loss: 0.0223 - accuracy: 0.9914 - val_loss: 0.0450 - val_accuracy: 0.9851\n",
      "Epoch 73/100\n",
      "100000/100000 - 2s - loss: 0.0236 - accuracy: 0.9910 - val_loss: 0.0451 - val_accuracy: 0.9854\n",
      "Epoch 74/100\n",
      "100000/100000 - 2s - loss: 0.0269 - accuracy: 0.9898 - val_loss: 0.0446 - val_accuracy: 0.9846\n",
      "Epoch 75/100\n",
      "100000/100000 - 2s - loss: 0.0199 - accuracy: 0.9922 - val_loss: 0.0398 - val_accuracy: 0.9870\n",
      "Epoch 76/100\n",
      "100000/100000 - 2s - loss: 0.0190 - accuracy: 0.9925 - val_loss: 0.0446 - val_accuracy: 0.9861\n"
     ]
    },
    {
     "name": "stdout",
     "output_type": "stream",
     "text": [
      "Epoch 77/100\n",
      "100000/100000 - 2s - loss: 0.0225 - accuracy: 0.9915 - val_loss: 0.0551 - val_accuracy: 0.9828\n",
      "Epoch 78/100\n",
      "100000/100000 - 2s - loss: 0.0246 - accuracy: 0.9907 - val_loss: 0.0487 - val_accuracy: 0.9844\n",
      "Epoch 79/100\n",
      "100000/100000 - 2s - loss: 0.0218 - accuracy: 0.9917 - val_loss: 0.0435 - val_accuracy: 0.9863\n",
      "Epoch 80/100\n",
      "100000/100000 - 2s - loss: 0.0223 - accuracy: 0.9916 - val_loss: 0.0485 - val_accuracy: 0.9844\n",
      "Epoch 81/100\n",
      "100000/100000 - 2s - loss: 0.0241 - accuracy: 0.9909 - val_loss: 0.0414 - val_accuracy: 0.9868\n",
      "Epoch 82/100\n",
      "100000/100000 - 2s - loss: 0.0184 - accuracy: 0.9928 - val_loss: 0.0450 - val_accuracy: 0.9859\n",
      "Epoch 83/100\n",
      "100000/100000 - 2s - loss: 0.0221 - accuracy: 0.9917 - val_loss: 0.0446 - val_accuracy: 0.9850\n",
      "Epoch 84/100\n",
      "100000/100000 - 2s - loss: 0.0240 - accuracy: 0.9909 - val_loss: 0.0446 - val_accuracy: 0.9855\n",
      "Epoch 85/100\n",
      "100000/100000 - 2s - loss: 0.0195 - accuracy: 0.9925 - val_loss: 0.0422 - val_accuracy: 0.9866\n",
      "Epoch 86/100\n",
      "100000/100000 - 2s - loss: 0.0214 - accuracy: 0.9919 - val_loss: 0.0426 - val_accuracy: 0.9865\n",
      "Epoch 87/100\n",
      "100000/100000 - 2s - loss: 0.0179 - accuracy: 0.9931 - val_loss: 0.0477 - val_accuracy: 0.9852\n",
      "Epoch 88/100\n",
      "100000/100000 - 2s - loss: 0.0231 - accuracy: 0.9915 - val_loss: 0.0436 - val_accuracy: 0.9865\n",
      "Epoch 89/100\n",
      "100000/100000 - 2s - loss: 0.0230 - accuracy: 0.9913 - val_loss: 0.0441 - val_accuracy: 0.9860\n",
      "Epoch 90/100\n",
      "100000/100000 - 2s - loss: 0.0212 - accuracy: 0.9921 - val_loss: 0.0450 - val_accuracy: 0.9860\n",
      "Epoch 91/100\n",
      "100000/100000 - 2s - loss: 0.0195 - accuracy: 0.9926 - val_loss: 0.0490 - val_accuracy: 0.9847\n",
      "Epoch 92/100\n",
      "100000/100000 - 2s - loss: 0.0193 - accuracy: 0.9927 - val_loss: 0.0428 - val_accuracy: 0.9869\n",
      "Epoch 93/100\n",
      "100000/100000 - 2s - loss: 0.0178 - accuracy: 0.9932 - val_loss: 0.0460 - val_accuracy: 0.9867\n",
      "Epoch 94/100\n",
      "100000/100000 - 2s - loss: 0.0170 - accuracy: 0.9935 - val_loss: 0.0464 - val_accuracy: 0.9860\n",
      "Epoch 95/100\n",
      "100000/100000 - 2s - loss: 0.0210 - accuracy: 0.9922 - val_loss: 0.0450 - val_accuracy: 0.9859\n",
      "Epoch 96/100\n",
      "100000/100000 - 2s - loss: 0.0203 - accuracy: 0.9924 - val_loss: 0.0446 - val_accuracy: 0.9866\n",
      "Epoch 97/100\n",
      "100000/100000 - 2s - loss: 0.0198 - accuracy: 0.9926 - val_loss: 0.0509 - val_accuracy: 0.9847\n",
      "Epoch 98/100\n",
      "100000/100000 - 2s - loss: 0.0220 - accuracy: 0.9919 - val_loss: 0.0509 - val_accuracy: 0.9852\n",
      "Epoch 99/100\n",
      "100000/100000 - 2s - loss: 0.0181 - accuracy: 0.9931 - val_loss: 0.0443 - val_accuracy: 0.9877\n",
      "Epoch 100/100\n",
      "100000/100000 - 2s - loss: 0.0178 - accuracy: 0.9932 - val_loss: 0.0440 - val_accuracy: 0.9866\n"
     ]
    }
   ],
   "source": [
    "model = tf.keras.models.Sequential([\n",
    "    tf.keras.layers.Dense(150, input_shape = [24], activation = 'relu'),\n",
    "    #tf.keras.layers.Dense(200, activation = 'relu'),\n",
    "    tf.keras.layers.Dense(150, activation = 'relu'),\n",
    "    tf.keras.layers.Dense(150, activation = 'relu'),\n",
    "    tf.keras.layers.Dense(150, activation = 'relu'),\n",
    "    tf.keras.layers.Dense(12, activation = 'sigmoid')\n",
    "])\n",
    "adam = tf.keras.optimizers.Adam(lr = 0.005)\n",
    "model.compile(optimizer = adam, loss = 'binary_crossentropy', metrics = ['accuracy'])\n",
    "\n",
    "history = model.fit(x_train, y_train, batch_size = 1024, epochs = 100, verbose = 2, validation_data = (x_test, y_test))\n"
   ]
  },
  {
   "cell_type": "code",
   "execution_count": 6,
   "metadata": {},
   "outputs": [
    {
     "data": {
      "image/png": "[encoded data removed]",
      "text/plain": [
       "<Figure size 432x288 with 1 Axes>"
      ]
     },
     "metadata": {
      "needs_background": "light"
     },
     "output_type": "display_data"
    }
   ],
   "source": [
    "import matplotlib.pyplot as plt\n",
    "plt.figure()\n",
    "acc = history.history['accuracy']\n",
    "loss = history.history['loss']\n",
    "val_acc = history.history['val_accuracy']\n",
    "val_loss = history.history['val_loss']\n",
    "epochs = range(len(acc))\n",
    "plt.plot(epochs, acc, 'r', label = 'Training accuracy')\n",
    "plt.plot(epochs, val_acc, 'b', label = 'Validating accuracy')\n",
    "plt.title('Training and Validating Accuracy')\n",
    "#plt.title('Training Accuracy')\n",
    "plt.legend()\n",
    "plt.show()"
   ]
  },
  {
   "cell_type": "code",
   "execution_count": 8,
   "metadata": {},
   "outputs": [
    {
     "name": "stdout",
     "output_type": "stream",
     "text": [
      "5000/1 - 0s - loss: 0.0630 - accuracy: 0.9720\n"
     ]
    },
    {
     "data": {
      "text/plain": [
       "[0.04715186712741852, 0.9720002]"
      ]
     },
     "execution_count": 8,
     "metadata": {},
     "output_type": "execute_result"
    }
   ],
   "source": [
    "#model.evaluate(x_test, y_test, verbose = 2)"
   ]
  },
  {
   "cell_type": "code",
   "execution_count": 7,
   "metadata": {},
   "outputs": [],
   "source": [
    "model.save('C:\\\\Users\\\\Wilfred\\\\Desktop\\\\weights\\\\Better_of_Two\\\\Better_of_Two_4_6_11_2_model.h5')"
   ]
  },
  {
   "cell_type": "code",
   "execution_count": null,
   "metadata": {},
   "outputs": [],
   "source": []
  }
 ],
 "metadata": {
  "kernelspec": {
   "display_name": "Python 3",
   "language": "python",
   "name": "python3"
  },
  "language_info": {
   "codemirror_mode": {
    "name": "ipython",
    "version": 3
   },
   "file_extension": ".py",
   "mimetype": "text/x-python",
   "name": "python",
   "nbconvert_exporter": "python",
   "pygments_lexer": "ipython3",
   "version": "3.7.5"
  }
 },
 "nbformat": 4,
 "nbformat_minor": 2
}
