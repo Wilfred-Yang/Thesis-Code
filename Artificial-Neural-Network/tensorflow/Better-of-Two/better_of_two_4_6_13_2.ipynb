{
 "cells": [
  {
   "cell_type": "code",
   "execution_count": 1,
   "metadata": {},
   "outputs": [],
   "source": [
    "import tensorflow as tf\n",
    "import numpy as np\n",
    "import pickle\n",
    "np.random.seed(7)"
   ]
  },
  {
   "cell_type": "code",
   "execution_count": 2,
   "metadata": {},
   "outputs": [
    {
     "name": "stdout",
     "output_type": "stream",
     "text": [
      "(105000, 24)\n"
     ]
    }
   ],
   "source": [
    "with open ('C:\\\\Users\\\\Wilfred\\\\Desktop\\\\better-of-two\\\\input_layer_4_6_13_2.pickle','rb') as file:\n",
    "    input_data = pickle.load(file)\n",
    "permutation = list(np.random.permutation(input_data.shape[0]))\n",
    "input_data = input_data[permutation,:]\n",
    "print(input_data.shape)\n",
    "x_train = input_data[:100000, :]\n",
    "x_test = input_data[100000:105000, :]\n"
   ]
  },
  {
   "cell_type": "code",
   "execution_count": 3,
   "metadata": {},
   "outputs": [
    {
     "name": "stdout",
     "output_type": "stream",
     "text": [
      "(105000, 12)\n",
      "(105000, 12)\n"
     ]
    }
   ],
   "source": [
    "with open ('C:\\\\Users\\\\Wilfred\\\\Desktop\\\\better-of-two\\\\output_layer_4_6_13_2.pickle','rb') as file:\n",
    "    output_data = pickle.load(file)\n",
    "print(output_data.shape)\n",
    "#output_data = np.transpose(output_data)\n",
    "output_data = output_data[permutation,:]\n",
    "y_train = output_data[:100000, :]\n",
    "y_test = output_data[100000:105000, :]\n",
    "print(output_data.shape)"
   ]
  },
  {
   "cell_type": "code",
   "execution_count": 4,
   "metadata": {},
   "outputs": [
    {
     "name": "stdout",
     "output_type": "stream",
     "text": [
      "Train on 100000 samples, validate on 5000 samples\n",
      "Epoch 1/100\n",
      "100000/100000 - 3s - loss: 0.3934 - accuracy: 0.8401 - val_loss: 0.3041 - val_accuracy: 0.8705\n",
      "Epoch 2/100\n",
      "100000/100000 - 2s - loss: 0.2681 - accuracy: 0.8863 - val_loss: 0.2437 - val_accuracy: 0.8971\n",
      "Epoch 3/100\n",
      "100000/100000 - 2s - loss: 0.2284 - accuracy: 0.9022 - val_loss: 0.2166 - val_accuracy: 0.9073\n",
      "Epoch 4/100\n",
      "100000/100000 - 2s - loss: 0.2096 - accuracy: 0.9093 - val_loss: 0.2091 - val_accuracy: 0.9091\n",
      "Epoch 5/100\n",
      "100000/100000 - 1s - loss: 0.1992 - accuracy: 0.9136 - val_loss: 0.1997 - val_accuracy: 0.9141\n",
      "Epoch 6/100\n",
      "100000/100000 - 1s - loss: 0.1920 - accuracy: 0.9169 - val_loss: 0.1938 - val_accuracy: 0.9179\n",
      "Epoch 7/100\n",
      "100000/100000 - 1s - loss: 0.1804 - accuracy: 0.9228 - val_loss: 0.1787 - val_accuracy: 0.9243\n",
      "Epoch 8/100\n",
      "100000/100000 - 2s - loss: 0.1697 - accuracy: 0.9276 - val_loss: 0.1690 - val_accuracy: 0.9274\n",
      "Epoch 9/100\n",
      "100000/100000 - 2s - loss: 0.1564 - accuracy: 0.9321 - val_loss: 0.1566 - val_accuracy: 0.9316\n",
      "Epoch 10/100\n",
      "100000/100000 - 2s - loss: 0.1435 - accuracy: 0.9364 - val_loss: 0.1500 - val_accuracy: 0.9339\n",
      "Epoch 11/100\n",
      "100000/100000 - 2s - loss: 0.1316 - accuracy: 0.9409 - val_loss: 0.1347 - val_accuracy: 0.9391\n",
      "Epoch 12/100\n",
      "100000/100000 - 2s - loss: 0.1233 - accuracy: 0.9446 - val_loss: 0.1265 - val_accuracy: 0.9437\n",
      "Epoch 13/100\n",
      "100000/100000 - 2s - loss: 0.1148 - accuracy: 0.9486 - val_loss: 0.1192 - val_accuracy: 0.9470\n",
      "Epoch 14/100\n",
      "100000/100000 - 2s - loss: 0.1078 - accuracy: 0.9517 - val_loss: 0.1124 - val_accuracy: 0.9498\n",
      "Epoch 15/100\n",
      "100000/100000 - 2s - loss: 0.1037 - accuracy: 0.9538 - val_loss: 0.1065 - val_accuracy: 0.9539\n",
      "Epoch 16/100\n",
      "100000/100000 - 2s - loss: 0.0980 - accuracy: 0.9570 - val_loss: 0.1027 - val_accuracy: 0.9556\n",
      "Epoch 17/100\n",
      "100000/100000 - 2s - loss: 0.0935 - accuracy: 0.9591 - val_loss: 0.1036 - val_accuracy: 0.9558\n",
      "Epoch 18/100\n",
      "100000/100000 - 2s - loss: 0.0908 - accuracy: 0.9606 - val_loss: 0.0978 - val_accuracy: 0.9590\n",
      "Epoch 19/100\n",
      "100000/100000 - 2s - loss: 0.0844 - accuracy: 0.9640 - val_loss: 0.0939 - val_accuracy: 0.9601\n",
      "Epoch 20/100\n",
      "100000/100000 - 2s - loss: 0.0822 - accuracy: 0.9650 - val_loss: 0.0934 - val_accuracy: 0.9612\n",
      "Epoch 21/100\n",
      "100000/100000 - 2s - loss: 0.0791 - accuracy: 0.9667 - val_loss: 0.0896 - val_accuracy: 0.9625\n",
      "Epoch 22/100\n",
      "100000/100000 - 2s - loss: 0.0774 - accuracy: 0.9674 - val_loss: 0.0879 - val_accuracy: 0.9640\n",
      "Epoch 23/100\n",
      "100000/100000 - 2s - loss: 0.0733 - accuracy: 0.9697 - val_loss: 0.0887 - val_accuracy: 0.9638\n",
      "Epoch 24/100\n",
      "100000/100000 - 2s - loss: 0.0706 - accuracy: 0.9709 - val_loss: 0.0822 - val_accuracy: 0.9665\n",
      "Epoch 25/100\n",
      "100000/100000 - 2s - loss: 0.0688 - accuracy: 0.9718 - val_loss: 0.0779 - val_accuracy: 0.9683\n",
      "Epoch 26/100\n",
      "100000/100000 - 2s - loss: 0.0649 - accuracy: 0.9740 - val_loss: 0.0749 - val_accuracy: 0.9702\n",
      "Epoch 27/100\n",
      "100000/100000 - 2s - loss: 0.0645 - accuracy: 0.9739 - val_loss: 0.0762 - val_accuracy: 0.9698\n",
      "Epoch 28/100\n",
      "100000/100000 - 2s - loss: 0.0637 - accuracy: 0.9744 - val_loss: 0.0760 - val_accuracy: 0.9699\n",
      "Epoch 29/100\n",
      "100000/100000 - 2s - loss: 0.0601 - accuracy: 0.9761 - val_loss: 0.0726 - val_accuracy: 0.9712\n",
      "Epoch 30/100\n",
      "100000/100000 - 2s - loss: 0.0568 - accuracy: 0.9777 - val_loss: 0.0790 - val_accuracy: 0.9706\n",
      "Epoch 31/100\n",
      "100000/100000 - 2s - loss: 0.0577 - accuracy: 0.9773 - val_loss: 0.0728 - val_accuracy: 0.9714\n",
      "Epoch 32/100\n",
      "100000/100000 - 2s - loss: 0.0539 - accuracy: 0.9792 - val_loss: 0.0634 - val_accuracy: 0.9756\n",
      "Epoch 33/100\n",
      "100000/100000 - 2s - loss: 0.0522 - accuracy: 0.9798 - val_loss: 0.0631 - val_accuracy: 0.9760\n",
      "Epoch 34/100\n",
      "100000/100000 - 2s - loss: 0.0509 - accuracy: 0.9804 - val_loss: 0.0743 - val_accuracy: 0.9725\n",
      "Epoch 35/100\n",
      "100000/100000 - 2s - loss: 0.0514 - accuracy: 0.9802 - val_loss: 0.0667 - val_accuracy: 0.9761\n",
      "Epoch 36/100\n",
      "100000/100000 - 2s - loss: 0.0489 - accuracy: 0.9815 - val_loss: 0.0648 - val_accuracy: 0.9766\n",
      "Epoch 37/100\n",
      "100000/100000 - 2s - loss: 0.0476 - accuracy: 0.9820 - val_loss: 0.0612 - val_accuracy: 0.9776\n",
      "Epoch 38/100\n",
      "100000/100000 - 2s - loss: 0.0466 - accuracy: 0.9822 - val_loss: 0.0622 - val_accuracy: 0.9777\n",
      "Epoch 39/100\n",
      "100000/100000 - 2s - loss: 0.0466 - accuracy: 0.9823 - val_loss: 0.0654 - val_accuracy: 0.9763\n",
      "Epoch 40/100\n",
      "100000/100000 - 2s - loss: 0.0449 - accuracy: 0.9831 - val_loss: 0.0599 - val_accuracy: 0.9787\n",
      "Epoch 41/100\n",
      "100000/100000 - 2s - loss: 0.0444 - accuracy: 0.9833 - val_loss: 0.0648 - val_accuracy: 0.9767\n",
      "Epoch 42/100\n",
      "100000/100000 - 2s - loss: 0.0428 - accuracy: 0.9840 - val_loss: 0.0572 - val_accuracy: 0.9797\n",
      "Epoch 43/100\n",
      "100000/100000 - 2s - loss: 0.0405 - accuracy: 0.9850 - val_loss: 0.0581 - val_accuracy: 0.9802\n",
      "Epoch 44/100\n",
      "100000/100000 - 2s - loss: 0.0405 - accuracy: 0.9849 - val_loss: 0.0546 - val_accuracy: 0.9805\n",
      "Epoch 45/100\n",
      "100000/100000 - 2s - loss: 0.0396 - accuracy: 0.9854 - val_loss: 0.0585 - val_accuracy: 0.9787\n",
      "Epoch 46/100\n",
      "100000/100000 - 2s - loss: 0.0422 - accuracy: 0.9843 - val_loss: 0.0568 - val_accuracy: 0.9813\n",
      "Epoch 47/100\n",
      "100000/100000 - 2s - loss: 0.0391 - accuracy: 0.9856 - val_loss: 0.0593 - val_accuracy: 0.9795\n",
      "Epoch 48/100\n",
      "100000/100000 - 2s - loss: 0.0387 - accuracy: 0.9857 - val_loss: 0.0639 - val_accuracy: 0.9782\n",
      "Epoch 49/100\n",
      "100000/100000 - 2s - loss: 0.0398 - accuracy: 0.9853 - val_loss: 0.0531 - val_accuracy: 0.9830\n",
      "Epoch 50/100\n",
      "100000/100000 - 2s - loss: 0.0355 - accuracy: 0.9869 - val_loss: 0.0560 - val_accuracy: 0.9813\n",
      "Epoch 51/100\n",
      "100000/100000 - 2s - loss: 0.0383 - accuracy: 0.9859 - val_loss: 0.0571 - val_accuracy: 0.9812\n",
      "Epoch 52/100\n",
      "100000/100000 - 2s - loss: 0.0378 - accuracy: 0.9861 - val_loss: 0.0577 - val_accuracy: 0.9815\n",
      "Epoch 53/100\n",
      "100000/100000 - 2s - loss: 0.0357 - accuracy: 0.9869 - val_loss: 0.0555 - val_accuracy: 0.9823\n",
      "Epoch 54/100\n",
      "100000/100000 - 2s - loss: 0.0366 - accuracy: 0.9867 - val_loss: 0.0592 - val_accuracy: 0.9803\n",
      "Epoch 55/100\n",
      "100000/100000 - 2s - loss: 0.0336 - accuracy: 0.9878 - val_loss: 0.0571 - val_accuracy: 0.9812\n",
      "Epoch 56/100\n",
      "100000/100000 - 2s - loss: 0.0322 - accuracy: 0.9883 - val_loss: 0.0519 - val_accuracy: 0.9829\n",
      "Epoch 57/100\n",
      "100000/100000 - 2s - loss: 0.0338 - accuracy: 0.9877 - val_loss: 0.0518 - val_accuracy: 0.9834\n",
      "Epoch 58/100\n",
      "100000/100000 - 2s - loss: 0.0354 - accuracy: 0.9873 - val_loss: 0.0569 - val_accuracy: 0.9822\n",
      "Epoch 59/100\n",
      "100000/100000 - 2s - loss: 0.0363 - accuracy: 0.9869 - val_loss: 0.0611 - val_accuracy: 0.9806\n",
      "Epoch 60/100\n",
      "100000/100000 - 2s - loss: 0.0348 - accuracy: 0.9874 - val_loss: 0.0550 - val_accuracy: 0.9819\n",
      "Epoch 61/100\n",
      "100000/100000 - 2s - loss: 0.0318 - accuracy: 0.9885 - val_loss: 0.0573 - val_accuracy: 0.9823\n",
      "Epoch 62/100\n",
      "100000/100000 - 2s - loss: 0.0289 - accuracy: 0.9895 - val_loss: 0.0506 - val_accuracy: 0.9851\n",
      "Epoch 63/100\n",
      "100000/100000 - 2s - loss: 0.0365 - accuracy: 0.9868 - val_loss: 0.0590 - val_accuracy: 0.9819\n",
      "Epoch 64/100\n",
      "100000/100000 - 2s - loss: 0.0294 - accuracy: 0.9893 - val_loss: 0.0567 - val_accuracy: 0.9831\n",
      "Epoch 65/100\n",
      "100000/100000 - 2s - loss: 0.0285 - accuracy: 0.9898 - val_loss: 0.0542 - val_accuracy: 0.9839\n",
      "Epoch 66/100\n",
      "100000/100000 - 2s - loss: 0.0299 - accuracy: 0.9892 - val_loss: 0.0559 - val_accuracy: 0.9826\n",
      "Epoch 67/100\n",
      "100000/100000 - 2s - loss: 0.0311 - accuracy: 0.9888 - val_loss: 0.0622 - val_accuracy: 0.9803\n",
      "Epoch 68/100\n",
      "100000/100000 - 2s - loss: 0.0314 - accuracy: 0.9887 - val_loss: 0.0520 - val_accuracy: 0.9843\n",
      "Epoch 69/100\n",
      "100000/100000 - 2s - loss: 0.0302 - accuracy: 0.9892 - val_loss: 0.0553 - val_accuracy: 0.9841\n",
      "Epoch 70/100\n",
      "100000/100000 - 2s - loss: 0.0296 - accuracy: 0.9894 - val_loss: 0.0523 - val_accuracy: 0.9833\n",
      "Epoch 71/100\n",
      "100000/100000 - 2s - loss: 0.0269 - accuracy: 0.9904 - val_loss: 0.0556 - val_accuracy: 0.9843\n",
      "Epoch 72/100\n",
      "100000/100000 - 2s - loss: 0.0302 - accuracy: 0.9893 - val_loss: 0.0550 - val_accuracy: 0.9835\n",
      "Epoch 73/100\n",
      "100000/100000 - 2s - loss: 0.0301 - accuracy: 0.9893 - val_loss: 0.0600 - val_accuracy: 0.9812\n",
      "Epoch 74/100\n",
      "100000/100000 - 2s - loss: 0.0311 - accuracy: 0.9890 - val_loss: 0.0557 - val_accuracy: 0.9836\n",
      "Epoch 75/100\n",
      "100000/100000 - 2s - loss: 0.0290 - accuracy: 0.9896 - val_loss: 0.0580 - val_accuracy: 0.9837\n",
      "Epoch 76/100\n",
      "100000/100000 - 2s - loss: 0.0253 - accuracy: 0.9910 - val_loss: 0.0579 - val_accuracy: 0.9826\n"
     ]
    },
    {
     "name": "stdout",
     "output_type": "stream",
     "text": [
      "Epoch 77/100\n",
      "100000/100000 - 2s - loss: 0.0270 - accuracy: 0.9903 - val_loss: 0.0545 - val_accuracy: 0.9840\n",
      "Epoch 78/100\n",
      "100000/100000 - 2s - loss: 0.0278 - accuracy: 0.9902 - val_loss: 0.0592 - val_accuracy: 0.9830\n",
      "Epoch 79/100\n",
      "100000/100000 - 2s - loss: 0.0301 - accuracy: 0.9893 - val_loss: 0.0566 - val_accuracy: 0.9846\n",
      "Epoch 80/100\n",
      "100000/100000 - 2s - loss: 0.0297 - accuracy: 0.9895 - val_loss: 0.0585 - val_accuracy: 0.9824\n",
      "Epoch 81/100\n",
      "100000/100000 - 2s - loss: 0.0275 - accuracy: 0.9902 - val_loss: 0.0533 - val_accuracy: 0.9844\n",
      "Epoch 82/100\n",
      "100000/100000 - 2s - loss: 0.0248 - accuracy: 0.9912 - val_loss: 0.0510 - val_accuracy: 0.9853\n",
      "Epoch 83/100\n",
      "100000/100000 - 2s - loss: 0.0258 - accuracy: 0.9909 - val_loss: 0.0518 - val_accuracy: 0.9846\n",
      "Epoch 84/100\n",
      "100000/100000 - 2s - loss: 0.0265 - accuracy: 0.9907 - val_loss: 0.0565 - val_accuracy: 0.9840\n",
      "Epoch 85/100\n",
      "100000/100000 - 2s - loss: 0.0278 - accuracy: 0.9902 - val_loss: 0.0574 - val_accuracy: 0.9834\n",
      "Epoch 86/100\n",
      "100000/100000 - 2s - loss: 0.0252 - accuracy: 0.9911 - val_loss: 0.0544 - val_accuracy: 0.9847\n",
      "Epoch 87/100\n",
      "100000/100000 - 2s - loss: 0.0253 - accuracy: 0.9912 - val_loss: 0.0516 - val_accuracy: 0.9850\n",
      "Epoch 88/100\n",
      "100000/100000 - 2s - loss: 0.0250 - accuracy: 0.9912 - val_loss: 0.0612 - val_accuracy: 0.9833\n",
      "Epoch 89/100\n",
      "100000/100000 - 2s - loss: 0.0265 - accuracy: 0.9908 - val_loss: 0.0555 - val_accuracy: 0.9844\n",
      "Epoch 90/100\n",
      "100000/100000 - 2s - loss: 0.0273 - accuracy: 0.9903 - val_loss: 0.0529 - val_accuracy: 0.9851\n",
      "Epoch 91/100\n",
      "100000/100000 - 2s - loss: 0.0242 - accuracy: 0.9915 - val_loss: 0.0601 - val_accuracy: 0.9836\n",
      "Epoch 92/100\n",
      "100000/100000 - 2s - loss: 0.0235 - accuracy: 0.9918 - val_loss: 0.0616 - val_accuracy: 0.9829\n",
      "Epoch 93/100\n",
      "100000/100000 - 2s - loss: 0.0275 - accuracy: 0.9905 - val_loss: 0.0578 - val_accuracy: 0.9840\n",
      "Epoch 94/100\n",
      "100000/100000 - 2s - loss: 0.0239 - accuracy: 0.9916 - val_loss: 0.0527 - val_accuracy: 0.9858\n",
      "Epoch 95/100\n",
      "100000/100000 - 2s - loss: 0.0223 - accuracy: 0.9922 - val_loss: 0.0542 - val_accuracy: 0.9845\n",
      "Epoch 96/100\n",
      "100000/100000 - 2s - loss: 0.0232 - accuracy: 0.9920 - val_loss: 0.0592 - val_accuracy: 0.9843\n",
      "Epoch 97/100\n",
      "100000/100000 - 2s - loss: 0.0256 - accuracy: 0.9911 - val_loss: 0.0568 - val_accuracy: 0.9840\n",
      "Epoch 98/100\n",
      "100000/100000 - 2s - loss: 0.0227 - accuracy: 0.9920 - val_loss: 0.0557 - val_accuracy: 0.9844\n",
      "Epoch 99/100\n",
      "100000/100000 - 2s - loss: 0.0224 - accuracy: 0.9922 - val_loss: 0.0560 - val_accuracy: 0.9851\n",
      "Epoch 100/100\n",
      "100000/100000 - 2s - loss: 0.0274 - accuracy: 0.9906 - val_loss: 0.0551 - val_accuracy: 0.9843\n"
     ]
    }
   ],
   "source": [
    "model = tf.keras.models.Sequential([\n",
    "    tf.keras.layers.Dense(150, input_shape = [24], activation = 'relu'),\n",
    "    #tf.keras.layers.Dense(200, activation = 'relu'),\n",
    "    tf.keras.layers.Dense(150, activation = 'relu'),\n",
    "    tf.keras.layers.Dense(150, activation = 'relu'),\n",
    "    tf.keras.layers.Dense(150, activation = 'relu'),\n",
    "    tf.keras.layers.Dense(12, activation = 'sigmoid')\n",
    "])\n",
    "adam = tf.keras.optimizers.Adam(lr = 0.005)\n",
    "model.compile(optimizer = adam, loss = 'binary_crossentropy', metrics = ['accuracy'])\n",
    "\n",
    "history = model.fit(x_train, y_train, batch_size = 1024, epochs = 100, verbose = 2, validation_data = (x_test, y_test))\n"
   ]
  },
  {
   "cell_type": "code",
   "execution_count": 6,
   "metadata": {},
   "outputs": [
    {
     "data": {
      "image/png": "[encoded data removed]",
      "text/plain": [
       "<Figure size 432x288 with 1 Axes>"
      ]
     },
     "metadata": {
      "needs_background": "light"
     },
     "output_type": "display_data"
    }
   ],
   "source": [
    "import matplotlib.pyplot as plt\n",
    "plt.figure()\n",
    "acc = history.history['accuracy']\n",
    "loss = history.history['loss']\n",
    "val_acc = history.history['val_accuracy']\n",
    "val_loss = history.history['val_loss']\n",
    "epochs = range(len(acc))\n",
    "plt.plot(epochs, acc, 'r', label = 'Training accuracy')\n",
    "plt.plot(epochs, val_acc, 'b', label = 'Validating accuracy')\n",
    "plt.title('Training and Validating Accuracy')\n",
    "#plt.title('Training Accuracy')\n",
    "plt.legend()\n",
    "plt.show()"
   ]
  },
  {
   "cell_type": "code",
   "execution_count": 8,
   "metadata": {},
   "outputs": [
    {
     "name": "stdout",
     "output_type": "stream",
     "text": [
      "5000/1 - 0s - loss: 0.0630 - accuracy: 0.9720\n"
     ]
    },
    {
     "data": {
      "text/plain": [
       "[0.04715186712741852, 0.9720002]"
      ]
     },
     "execution_count": 8,
     "metadata": {},
     "output_type": "execute_result"
    }
   ],
   "source": [
    "#model.evaluate(x_test, y_test, verbose = 2)"
   ]
  },
  {
   "cell_type": "code",
   "execution_count": 7,
   "metadata": {},
   "outputs": [],
   "source": [
    "model.save('C:\\\\Users\\\\Wilfred\\\\Desktop\\\\weights\\\\Better_of_Two\\\\Better_of_Two_4_6_13_2_model.h5')"
   ]
  },
  {
   "cell_type": "code",
   "execution_count": null,
   "metadata": {},
   "outputs": [],
   "source": []
  }
 ],
 "metadata": {
  "kernelspec": {
   "display_name": "Python 3",
   "language": "python",
   "name": "python3"
  },
  "language_info": {
   "codemirror_mode": {
    "name": "ipython",
    "version": 3
   },
   "file_extension": ".py",
   "mimetype": "text/x-python",
   "name": "python",
   "nbconvert_exporter": "python",
   "pygments_lexer": "ipython3",
   "version": "3.7.5"
  }
 },
 "nbformat": 4,
 "nbformat_minor": 2
}
