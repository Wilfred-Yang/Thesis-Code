{
 "cells": [
  {
   "cell_type": "code",
   "execution_count": 1,
   "metadata": {},
   "outputs": [],
   "source": [
    "import tensorflow as tf\n",
    "import numpy as np\n",
    "import pickle\n",
    "np.random.seed(7)"
   ]
  },
  {
   "cell_type": "code",
   "execution_count": 2,
   "metadata": {},
   "outputs": [
    {
     "name": "stdout",
     "output_type": "stream",
     "text": [
      "(105000, 24)\n"
     ]
    }
   ],
   "source": [
    "with open ('C:\\\\Users\\\\Wilfred\\\\Desktop\\\\better-of-two\\\\input_layer_4_6_10_4.pickle','rb') as file:\n",
    "    input_data = pickle.load(file)\n",
    "permutation = list(np.random.permutation(input_data.shape[0]))\n",
    "input_data = input_data[permutation,:]\n",
    "print(input_data.shape)\n",
    "x_train = input_data[:100000, :]\n",
    "x_test = input_data[100000:105000, :]\n"
   ]
  },
  {
   "cell_type": "code",
   "execution_count": 3,
   "metadata": {},
   "outputs": [
    {
     "name": "stdout",
     "output_type": "stream",
     "text": [
      "(105000, 12)\n",
      "(105000, 12)\n"
     ]
    }
   ],
   "source": [
    "with open ('C:\\\\Users\\\\Wilfred\\\\Desktop\\\\better-of-two\\\\output_layer_4_6_10_4.pickle','rb') as file:\n",
    "    output_data = pickle.load(file)\n",
    "print(output_data.shape)\n",
    "#output_data = np.transpose(output_data)\n",
    "output_data = output_data[permutation,:]\n",
    "y_train = output_data[:100000, :]\n",
    "y_test = output_data[100000:105000, :]\n",
    "print(output_data.shape)"
   ]
  },
  {
   "cell_type": "code",
   "execution_count": 4,
   "metadata": {},
   "outputs": [
    {
     "name": "stdout",
     "output_type": "stream",
     "text": [
      "Train on 100000 samples, validate on 5000 samples\n",
      "Epoch 1/100\n",
      "100000/100000 - 3s - loss: 0.2407 - accuracy: 0.9031 - val_loss: 0.2074 - val_accuracy: 0.9157\n",
      "Epoch 2/100\n",
      "100000/100000 - 2s - loss: 0.1984 - accuracy: 0.9160 - val_loss: 0.1879 - val_accuracy: 0.9167\n",
      "Epoch 3/100\n",
      "100000/100000 - 2s - loss: 0.1706 - accuracy: 0.9212 - val_loss: 0.1529 - val_accuracy: 0.9256\n",
      "Epoch 4/100\n",
      "100000/100000 - 2s - loss: 0.1370 - accuracy: 0.9340 - val_loss: 0.1263 - val_accuracy: 0.9394\n",
      "Epoch 5/100\n",
      "100000/100000 - 2s - loss: 0.1131 - accuracy: 0.9469 - val_loss: 0.1102 - val_accuracy: 0.9477\n",
      "Epoch 6/100\n",
      "100000/100000 - 2s - loss: 0.0947 - accuracy: 0.9565 - val_loss: 0.0910 - val_accuracy: 0.9579\n",
      "Epoch 7/100\n",
      "100000/100000 - 2s - loss: 0.0795 - accuracy: 0.9641 - val_loss: 0.0779 - val_accuracy: 0.9652\n",
      "Epoch 8/100\n",
      "100000/100000 - 2s - loss: 0.0673 - accuracy: 0.9696 - val_loss: 0.0655 - val_accuracy: 0.9703\n",
      "Epoch 9/100\n",
      "100000/100000 - 2s - loss: 0.0592 - accuracy: 0.9733 - val_loss: 0.0611 - val_accuracy: 0.9723\n",
      "Epoch 10/100\n",
      "100000/100000 - 2s - loss: 0.0522 - accuracy: 0.9761 - val_loss: 0.0543 - val_accuracy: 0.9756\n",
      "Epoch 11/100\n",
      "100000/100000 - 2s - loss: 0.0472 - accuracy: 0.9783 - val_loss: 0.0479 - val_accuracy: 0.9783\n",
      "Epoch 12/100\n",
      "100000/100000 - 2s - loss: 0.0437 - accuracy: 0.9796 - val_loss: 0.0479 - val_accuracy: 0.9774\n",
      "Epoch 13/100\n",
      "100000/100000 - 2s - loss: 0.0422 - accuracy: 0.9800 - val_loss: 0.0489 - val_accuracy: 0.9781\n",
      "Epoch 14/100\n",
      "100000/100000 - 2s - loss: 0.0403 - accuracy: 0.9807 - val_loss: 0.0449 - val_accuracy: 0.9784\n",
      "Epoch 15/100\n",
      "100000/100000 - 2s - loss: 0.0377 - accuracy: 0.9818 - val_loss: 0.0468 - val_accuracy: 0.9785\n",
      "Epoch 16/100\n",
      "100000/100000 - 2s - loss: 0.0389 - accuracy: 0.9813 - val_loss: 0.0447 - val_accuracy: 0.9785\n",
      "Epoch 17/100\n",
      "100000/100000 - 2s - loss: 0.0358 - accuracy: 0.9823 - val_loss: 0.0423 - val_accuracy: 0.9797\n",
      "Epoch 18/100\n",
      "100000/100000 - 2s - loss: 0.0357 - accuracy: 0.9824 - val_loss: 0.0434 - val_accuracy: 0.9792\n",
      "Epoch 19/100\n",
      "100000/100000 - 2s - loss: 0.0344 - accuracy: 0.9828 - val_loss: 0.0433 - val_accuracy: 0.9791\n",
      "Epoch 20/100\n",
      "100000/100000 - 2s - loss: 0.0336 - accuracy: 0.9830 - val_loss: 0.0446 - val_accuracy: 0.9794\n",
      "Epoch 21/100\n",
      "100000/100000 - 2s - loss: 0.0326 - accuracy: 0.9835 - val_loss: 0.0408 - val_accuracy: 0.9802\n",
      "Epoch 22/100\n",
      "100000/100000 - 2s - loss: 0.0312 - accuracy: 0.9840 - val_loss: 0.0398 - val_accuracy: 0.9803\n",
      "Epoch 23/100\n",
      "100000/100000 - 2s - loss: 0.0313 - accuracy: 0.9839 - val_loss: 0.0392 - val_accuracy: 0.9812\n",
      "Epoch 24/100\n",
      "100000/100000 - 2s - loss: 0.0315 - accuracy: 0.9839 - val_loss: 0.0394 - val_accuracy: 0.9808\n",
      "Epoch 25/100\n",
      "100000/100000 - 2s - loss: 0.0312 - accuracy: 0.9842 - val_loss: 0.0385 - val_accuracy: 0.9808\n",
      "Epoch 26/100\n",
      "100000/100000 - 2s - loss: 0.0305 - accuracy: 0.9843 - val_loss: 0.0454 - val_accuracy: 0.9786\n",
      "Epoch 27/100\n",
      "100000/100000 - 2s - loss: 0.0305 - accuracy: 0.9843 - val_loss: 0.0383 - val_accuracy: 0.9816\n",
      "Epoch 28/100\n",
      "100000/100000 - 2s - loss: 0.0290 - accuracy: 0.9849 - val_loss: 0.0391 - val_accuracy: 0.9809\n",
      "Epoch 29/100\n",
      "100000/100000 - 2s - loss: 0.0287 - accuracy: 0.9849 - val_loss: 0.0392 - val_accuracy: 0.9810\n",
      "Epoch 30/100\n",
      "100000/100000 - 2s - loss: 0.0284 - accuracy: 0.9850 - val_loss: 0.0375 - val_accuracy: 0.9808\n",
      "Epoch 31/100\n",
      "100000/100000 - 2s - loss: 0.0283 - accuracy: 0.9850 - val_loss: 0.0385 - val_accuracy: 0.9810\n",
      "Epoch 32/100\n",
      "100000/100000 - 2s - loss: 0.0289 - accuracy: 0.9850 - val_loss: 0.0392 - val_accuracy: 0.9809\n",
      "Epoch 33/100\n",
      "100000/100000 - 2s - loss: 0.0279 - accuracy: 0.9853 - val_loss: 0.0392 - val_accuracy: 0.9816\n",
      "Epoch 34/100\n",
      "100000/100000 - 2s - loss: 0.0276 - accuracy: 0.9855 - val_loss: 0.0391 - val_accuracy: 0.9807\n",
      "Epoch 35/100\n",
      "100000/100000 - 2s - loss: 0.0286 - accuracy: 0.9852 - val_loss: 0.0383 - val_accuracy: 0.9811\n",
      "Epoch 36/100\n",
      "100000/100000 - 2s - loss: 0.0269 - accuracy: 0.9857 - val_loss: 0.0383 - val_accuracy: 0.9808\n",
      "Epoch 37/100\n",
      "100000/100000 - 2s - loss: 0.0262 - accuracy: 0.9861 - val_loss: 0.0346 - val_accuracy: 0.9816\n",
      "Epoch 38/100\n",
      "100000/100000 - 2s - loss: 0.0255 - accuracy: 0.9864 - val_loss: 0.0403 - val_accuracy: 0.9816\n",
      "Epoch 39/100\n",
      "100000/100000 - 2s - loss: 0.0262 - accuracy: 0.9862 - val_loss: 0.0396 - val_accuracy: 0.9809\n",
      "Epoch 40/100\n",
      "100000/100000 - 2s - loss: 0.0280 - accuracy: 0.9855 - val_loss: 0.0361 - val_accuracy: 0.9823\n",
      "Epoch 41/100\n",
      "100000/100000 - 2s - loss: 0.0261 - accuracy: 0.9862 - val_loss: 0.0366 - val_accuracy: 0.9818\n",
      "Epoch 42/100\n",
      "100000/100000 - 2s - loss: 0.0251 - accuracy: 0.9865 - val_loss: 0.0382 - val_accuracy: 0.9825\n",
      "Epoch 43/100\n",
      "100000/100000 - 2s - loss: 0.0266 - accuracy: 0.9861 - val_loss: 0.0410 - val_accuracy: 0.9808\n",
      "Epoch 44/100\n",
      "100000/100000 - 2s - loss: 0.0290 - accuracy: 0.9855 - val_loss: 0.0364 - val_accuracy: 0.9819\n",
      "Epoch 45/100\n",
      "100000/100000 - 2s - loss: 0.0253 - accuracy: 0.9867 - val_loss: 0.0407 - val_accuracy: 0.9812\n",
      "Epoch 46/100\n",
      "100000/100000 - 2s - loss: 0.0253 - accuracy: 0.9866 - val_loss: 0.0371 - val_accuracy: 0.9816\n",
      "Epoch 47/100\n",
      "100000/100000 - 2s - loss: 0.0244 - accuracy: 0.9870 - val_loss: 0.0360 - val_accuracy: 0.9819\n",
      "Epoch 48/100\n",
      "100000/100000 - 2s - loss: 0.0287 - accuracy: 0.9858 - val_loss: 0.0370 - val_accuracy: 0.9815\n",
      "Epoch 49/100\n",
      "100000/100000 - 2s - loss: 0.0242 - accuracy: 0.9872 - val_loss: 0.0346 - val_accuracy: 0.9826\n",
      "Epoch 50/100\n",
      "100000/100000 - 2s - loss: 0.0224 - accuracy: 0.9877 - val_loss: 0.0366 - val_accuracy: 0.9830\n",
      "Epoch 51/100\n",
      "100000/100000 - 2s - loss: 0.0267 - accuracy: 0.9864 - val_loss: 0.0368 - val_accuracy: 0.9815\n",
      "Epoch 52/100\n",
      "100000/100000 - 2s - loss: 0.0239 - accuracy: 0.9876 - val_loss: 0.0371 - val_accuracy: 0.9821\n",
      "Epoch 53/100\n",
      "100000/100000 - 2s - loss: 0.0241 - accuracy: 0.9874 - val_loss: 0.0366 - val_accuracy: 0.9827\n",
      "Epoch 54/100\n",
      "100000/100000 - 2s - loss: 0.0268 - accuracy: 0.9867 - val_loss: 0.0360 - val_accuracy: 0.9829\n",
      "Epoch 55/100\n",
      "100000/100000 - 2s - loss: 0.0226 - accuracy: 0.9879 - val_loss: 0.0348 - val_accuracy: 0.9833\n",
      "Epoch 56/100\n",
      "100000/100000 - 2s - loss: 0.0222 - accuracy: 0.9882 - val_loss: 0.0375 - val_accuracy: 0.9824\n",
      "Epoch 57/100\n",
      "100000/100000 - 2s - loss: 0.0237 - accuracy: 0.9877 - val_loss: 0.0429 - val_accuracy: 0.9817\n",
      "Epoch 58/100\n",
      "100000/100000 - 2s - loss: 0.0240 - accuracy: 0.9877 - val_loss: 0.0404 - val_accuracy: 0.9812\n",
      "Epoch 59/100\n",
      "100000/100000 - 2s - loss: 0.0229 - accuracy: 0.9881 - val_loss: 0.0387 - val_accuracy: 0.9819\n",
      "Epoch 60/100\n",
      "100000/100000 - 2s - loss: 0.0262 - accuracy: 0.9871 - val_loss: 0.0433 - val_accuracy: 0.9804\n",
      "Epoch 61/100\n",
      "100000/100000 - 2s - loss: 0.0240 - accuracy: 0.9876 - val_loss: 0.0383 - val_accuracy: 0.9825\n",
      "Epoch 62/100\n",
      "100000/100000 - 2s - loss: 0.0238 - accuracy: 0.9880 - val_loss: 0.0392 - val_accuracy: 0.9817\n",
      "Epoch 63/100\n",
      "100000/100000 - 2s - loss: 0.0222 - accuracy: 0.9885 - val_loss: 0.0373 - val_accuracy: 0.9828\n",
      "Epoch 64/100\n",
      "100000/100000 - 2s - loss: 0.0208 - accuracy: 0.9890 - val_loss: 0.0372 - val_accuracy: 0.9825\n",
      "Epoch 65/100\n",
      "100000/100000 - 2s - loss: 0.0215 - accuracy: 0.9888 - val_loss: 0.0372 - val_accuracy: 0.9829\n",
      "Epoch 66/100\n",
      "100000/100000 - 2s - loss: 0.0220 - accuracy: 0.9887 - val_loss: 0.0398 - val_accuracy: 0.9821\n",
      "Epoch 67/100\n",
      "100000/100000 - 2s - loss: 0.0238 - accuracy: 0.9881 - val_loss: 0.0422 - val_accuracy: 0.9818\n",
      "Epoch 68/100\n",
      "100000/100000 - 2s - loss: 0.0227 - accuracy: 0.9884 - val_loss: 0.0449 - val_accuracy: 0.9811\n",
      "Epoch 69/100\n",
      "100000/100000 - 2s - loss: 0.0237 - accuracy: 0.9882 - val_loss: 0.0393 - val_accuracy: 0.9821\n",
      "Epoch 70/100\n",
      "100000/100000 - 2s - loss: 0.0218 - accuracy: 0.9889 - val_loss: 0.0414 - val_accuracy: 0.9821\n",
      "Epoch 71/100\n",
      "100000/100000 - 2s - loss: 0.0241 - accuracy: 0.9881 - val_loss: 0.0418 - val_accuracy: 0.9818\n",
      "Epoch 72/100\n",
      "100000/100000 - 2s - loss: 0.0208 - accuracy: 0.9894 - val_loss: 0.0415 - val_accuracy: 0.9815\n",
      "Epoch 73/100\n",
      "100000/100000 - 2s - loss: 0.0233 - accuracy: 0.9884 - val_loss: 0.0410 - val_accuracy: 0.9822\n",
      "Epoch 74/100\n",
      "100000/100000 - 2s - loss: 0.0208 - accuracy: 0.9895 - val_loss: 0.0423 - val_accuracy: 0.9824\n",
      "Epoch 75/100\n",
      "100000/100000 - 2s - loss: 0.0212 - accuracy: 0.9894 - val_loss: 0.0419 - val_accuracy: 0.9823\n",
      "Epoch 76/100\n",
      "100000/100000 - 2s - loss: 0.0211 - accuracy: 0.9894 - val_loss: 0.0420 - val_accuracy: 0.9833\n"
     ]
    },
    {
     "name": "stdout",
     "output_type": "stream",
     "text": [
      "Epoch 77/100\n",
      "100000/100000 - 2s - loss: 0.0201 - accuracy: 0.9899 - val_loss: 0.0400 - val_accuracy: 0.9826\n",
      "Epoch 78/100\n",
      "100000/100000 - 2s - loss: 0.0206 - accuracy: 0.9897 - val_loss: 0.0447 - val_accuracy: 0.9821\n",
      "Epoch 79/100\n",
      "100000/100000 - 2s - loss: 0.0211 - accuracy: 0.9896 - val_loss: 0.0424 - val_accuracy: 0.9826\n",
      "Epoch 80/100\n",
      "100000/100000 - 2s - loss: 0.0216 - accuracy: 0.9895 - val_loss: 0.0436 - val_accuracy: 0.9820\n",
      "Epoch 81/100\n",
      "100000/100000 - 2s - loss: 0.0215 - accuracy: 0.9895 - val_loss: 0.0408 - val_accuracy: 0.9824\n",
      "Epoch 82/100\n",
      "100000/100000 - 2s - loss: 0.0205 - accuracy: 0.9900 - val_loss: 0.0443 - val_accuracy: 0.9824\n",
      "Epoch 83/100\n",
      "100000/100000 - 2s - loss: 0.0194 - accuracy: 0.9904 - val_loss: 0.0415 - val_accuracy: 0.9837\n",
      "Epoch 84/100\n",
      "100000/100000 - 2s - loss: 0.0187 - accuracy: 0.9906 - val_loss: 0.0425 - val_accuracy: 0.9833\n",
      "Epoch 85/100\n",
      "100000/100000 - 2s - loss: 0.0187 - accuracy: 0.9906 - val_loss: 0.0427 - val_accuracy: 0.9837\n",
      "Epoch 86/100\n",
      "100000/100000 - 2s - loss: 0.0182 - accuracy: 0.9910 - val_loss: 0.0470 - val_accuracy: 0.9823\n",
      "Epoch 87/100\n",
      "100000/100000 - 2s - loss: 0.0209 - accuracy: 0.9902 - val_loss: 0.0503 - val_accuracy: 0.9814\n",
      "Epoch 88/100\n",
      "100000/100000 - 2s - loss: 0.0209 - accuracy: 0.9901 - val_loss: 0.0463 - val_accuracy: 0.9827\n",
      "Epoch 89/100\n",
      "100000/100000 - 2s - loss: 0.0178 - accuracy: 0.9912 - val_loss: 0.0451 - val_accuracy: 0.9827\n",
      "Epoch 90/100\n",
      "100000/100000 - 2s - loss: 0.0186 - accuracy: 0.9910 - val_loss: 0.0413 - val_accuracy: 0.9830\n",
      "Epoch 91/100\n",
      "100000/100000 - 2s - loss: 0.0215 - accuracy: 0.9903 - val_loss: 0.0505 - val_accuracy: 0.9812\n",
      "Epoch 92/100\n",
      "100000/100000 - 2s - loss: 0.0197 - accuracy: 0.9906 - val_loss: 0.0407 - val_accuracy: 0.9836\n",
      "Epoch 93/100\n",
      "100000/100000 - 2s - loss: 0.0177 - accuracy: 0.9914 - val_loss: 0.0452 - val_accuracy: 0.9836\n",
      "Epoch 94/100\n",
      "100000/100000 - 2s - loss: 0.0173 - accuracy: 0.9915 - val_loss: 0.0483 - val_accuracy: 0.9828\n",
      "Epoch 95/100\n",
      "100000/100000 - 2s - loss: 0.0183 - accuracy: 0.9913 - val_loss: 0.0438 - val_accuracy: 0.9832\n",
      "Epoch 96/100\n",
      "100000/100000 - 2s - loss: 0.0177 - accuracy: 0.9915 - val_loss: 0.0444 - val_accuracy: 0.9835\n",
      "Epoch 97/100\n",
      "100000/100000 - 2s - loss: 0.0173 - accuracy: 0.9917 - val_loss: 0.0507 - val_accuracy: 0.9825\n",
      "Epoch 98/100\n",
      "100000/100000 - 2s - loss: 0.0186 - accuracy: 0.9914 - val_loss: 0.0493 - val_accuracy: 0.9824\n",
      "Epoch 99/100\n",
      "100000/100000 - 2s - loss: 0.0191 - accuracy: 0.9911 - val_loss: 0.0474 - val_accuracy: 0.9824\n",
      "Epoch 100/100\n",
      "100000/100000 - 2s - loss: 0.0182 - accuracy: 0.9914 - val_loss: 0.0494 - val_accuracy: 0.9825\n"
     ]
    }
   ],
   "source": [
    "model = tf.keras.models.Sequential([\n",
    "    tf.keras.layers.Dense(150, input_shape = [24], activation = 'relu'),\n",
    "    #tf.keras.layers.Dense(200, activation = 'relu'),\n",
    "    tf.keras.layers.Dense(150, activation = 'relu'),\n",
    "    tf.keras.layers.Dense(150, activation = 'relu'),\n",
    "    tf.keras.layers.Dense(150, activation = 'relu'),\n",
    "    tf.keras.layers.Dense(12, activation = 'sigmoid')\n",
    "])\n",
    "adam = tf.keras.optimizers.Adam(lr = 0.005)\n",
    "model.compile(optimizer = adam, loss = 'binary_crossentropy', metrics = ['accuracy'])\n",
    "\n",
    "history = model.fit(x_train, y_train, batch_size = 1024, epochs = 100, verbose = 2, validation_data = (x_test, y_test))\n"
   ]
  },
  {
   "cell_type": "code",
   "execution_count": 6,
   "metadata": {},
   "outputs": [
    {
     "data": {
      "image/png": "[encoded data removed]",
      "text/plain": [
       "<Figure size 432x288 with 1 Axes>"
      ]
     },
     "metadata": {
      "needs_background": "light"
     },
     "output_type": "display_data"
    }
   ],
   "source": [
    "import matplotlib.pyplot as plt\n",
    "plt.figure()\n",
    "acc = history.history['accuracy']\n",
    "loss = history.history['loss']\n",
    "val_acc = history.history['val_accuracy']\n",
    "val_loss = history.history['val_loss']\n",
    "epochs = range(len(acc))\n",
    "plt.plot(epochs, acc, 'r', label = 'Training accuracy')\n",
    "plt.plot(epochs, val_acc, 'b', label = 'Validating accuracy')\n",
    "plt.title('Training and Validating Accuracy')\n",
    "#plt.title('Training Accuracy')\n",
    "plt.legend()\n",
    "plt.show()"
   ]
  },
  {
   "cell_type": "code",
   "execution_count": 8,
   "metadata": {},
   "outputs": [
    {
     "name": "stdout",
     "output_type": "stream",
     "text": [
      "5000/1 - 0s - loss: 0.0630 - accuracy: 0.9720\n"
     ]
    },
    {
     "data": {
      "text/plain": [
       "[0.04715186712741852, 0.9720002]"
      ]
     },
     "execution_count": 8,
     "metadata": {},
     "output_type": "execute_result"
    }
   ],
   "source": [
    "#model.evaluate(x_test, y_test, verbose = 2)"
   ]
  },
  {
   "cell_type": "code",
   "execution_count": 7,
   "metadata": {},
   "outputs": [],
   "source": [
    "model.save('C:\\\\Users\\\\Wilfred\\\\Desktop\\\\weights\\\\Better_of_Two\\\\Better_of_Two_4_6_10_4_model.h5')"
   ]
  },
  {
   "cell_type": "code",
   "execution_count": null,
   "metadata": {},
   "outputs": [],
   "source": []
  }
 ],
 "metadata": {
  "kernelspec": {
   "display_name": "Python 3",
   "language": "python",
   "name": "python3"
  },
  "language_info": {
   "codemirror_mode": {
    "name": "ipython",
    "version": 3
   },
   "file_extension": ".py",
   "mimetype": "text/x-python",
   "name": "python",
   "nbconvert_exporter": "python",
   "pygments_lexer": "ipython3",
   "version": "3.7.5"
  }
 },
 "nbformat": 4,
 "nbformat_minor": 2
}
