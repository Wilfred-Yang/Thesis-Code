{
 "cells": [
  {
   "cell_type": "code",
   "execution_count": 1,
   "metadata": {},
   "outputs": [],
   "source": [
    "import tensorflow as tf\n",
    "import numpy as np\n",
    "import pickle\n",
    "np.random.seed(7)"
   ]
  },
  {
   "cell_type": "code",
   "execution_count": 2,
   "metadata": {},
   "outputs": [
    {
     "name": "stdout",
     "output_type": "stream",
     "text": [
      "(105000, 24)\n"
     ]
    }
   ],
   "source": [
    "with open ('C:\\\\Users\\\\Wilfred\\\\Desktop\\\\better-of-two\\\\input_layer_4_6_12_4.pickle','rb') as file:\n",
    "    input_data = pickle.load(file)\n",
    "permutation = list(np.random.permutation(input_data.shape[0]))\n",
    "input_data = input_data[permutation,:]\n",
    "print(input_data.shape)\n",
    "x_train = input_data[:100000, :]\n",
    "x_test = input_data[100000:105000, :]\n"
   ]
  },
  {
   "cell_type": "code",
   "execution_count": 3,
   "metadata": {},
   "outputs": [
    {
     "name": "stdout",
     "output_type": "stream",
     "text": [
      "(105000, 12)\n",
      "(105000, 12)\n"
     ]
    }
   ],
   "source": [
    "with open ('C:\\\\Users\\\\Wilfred\\\\Desktop\\\\better-of-two\\\\output_layer_4_6_12_4.pickle','rb') as file:\n",
    "    output_data = pickle.load(file)\n",
    "print(output_data.shape)\n",
    "#output_data = np.transpose(output_data)\n",
    "output_data = output_data[permutation,:]\n",
    "y_train = output_data[:100000, :]\n",
    "y_test = output_data[100000:105000, :]\n",
    "print(output_data.shape)"
   ]
  },
  {
   "cell_type": "code",
   "execution_count": 4,
   "metadata": {},
   "outputs": [
    {
     "name": "stdout",
     "output_type": "stream",
     "text": [
      "Train on 100000 samples, validate on 5000 samples\n",
      "Epoch 1/100\n",
      "100000/100000 - 3s - loss: 0.2488 - accuracy: 0.8985 - val_loss: 0.2106 - val_accuracy: 0.9144\n",
      "Epoch 2/100\n",
      "100000/100000 - 2s - loss: 0.2042 - accuracy: 0.9147 - val_loss: 0.1975 - val_accuracy: 0.9148\n",
      "Epoch 3/100\n",
      "100000/100000 - 2s - loss: 0.1861 - accuracy: 0.9190 - val_loss: 0.1749 - val_accuracy: 0.9232\n",
      "Epoch 4/100\n",
      "100000/100000 - 2s - loss: 0.1637 - accuracy: 0.9273 - val_loss: 0.1500 - val_accuracy: 0.9324\n",
      "Epoch 5/100\n",
      "100000/100000 - 2s - loss: 0.1432 - accuracy: 0.9344 - val_loss: 0.1314 - val_accuracy: 0.9400\n",
      "Epoch 6/100\n",
      "100000/100000 - 2s - loss: 0.1260 - accuracy: 0.9420 - val_loss: 0.1194 - val_accuracy: 0.9448\n",
      "Epoch 7/100\n",
      "100000/100000 - 2s - loss: 0.1148 - accuracy: 0.9477 - val_loss: 0.1102 - val_accuracy: 0.9493\n",
      "Epoch 8/100\n",
      "100000/100000 - 2s - loss: 0.1044 - accuracy: 0.9532 - val_loss: 0.1065 - val_accuracy: 0.9518\n",
      "Epoch 9/100\n",
      "100000/100000 - 2s - loss: 0.0958 - accuracy: 0.9576 - val_loss: 0.0965 - val_accuracy: 0.9563\n",
      "Epoch 10/100\n",
      "100000/100000 - 2s - loss: 0.0866 - accuracy: 0.9623 - val_loss: 0.0915 - val_accuracy: 0.9588\n",
      "Epoch 11/100\n",
      "100000/100000 - 2s - loss: 0.0796 - accuracy: 0.9659 - val_loss: 0.0860 - val_accuracy: 0.9623\n",
      "Epoch 12/100\n",
      "100000/100000 - 2s - loss: 0.0730 - accuracy: 0.9692 - val_loss: 0.0731 - val_accuracy: 0.9690\n",
      "Epoch 13/100\n",
      "100000/100000 - 2s - loss: 0.0664 - accuracy: 0.9723 - val_loss: 0.0674 - val_accuracy: 0.9716\n",
      "Epoch 14/100\n",
      "100000/100000 - 2s - loss: 0.0605 - accuracy: 0.9751 - val_loss: 0.0700 - val_accuracy: 0.9703\n",
      "Epoch 15/100\n",
      "100000/100000 - 2s - loss: 0.0575 - accuracy: 0.9765 - val_loss: 0.0616 - val_accuracy: 0.9749\n",
      "Epoch 16/100\n",
      "100000/100000 - 2s - loss: 0.0528 - accuracy: 0.9785 - val_loss: 0.0621 - val_accuracy: 0.9740\n",
      "Epoch 17/100\n",
      "100000/100000 - 2s - loss: 0.0512 - accuracy: 0.9792 - val_loss: 0.0564 - val_accuracy: 0.9764\n",
      "Epoch 18/100\n",
      "100000/100000 - 2s - loss: 0.0481 - accuracy: 0.9806 - val_loss: 0.0517 - val_accuracy: 0.9787\n",
      "Epoch 19/100\n",
      "100000/100000 - 2s - loss: 0.0443 - accuracy: 0.9823 - val_loss: 0.0522 - val_accuracy: 0.9783\n",
      "Epoch 20/100\n",
      "100000/100000 - 2s - loss: 0.0430 - accuracy: 0.9828 - val_loss: 0.0529 - val_accuracy: 0.9787\n",
      "Epoch 21/100\n",
      "100000/100000 - 2s - loss: 0.0416 - accuracy: 0.9833 - val_loss: 0.0557 - val_accuracy: 0.9770\n",
      "Epoch 22/100\n",
      "100000/100000 - 2s - loss: 0.0404 - accuracy: 0.9838 - val_loss: 0.0506 - val_accuracy: 0.9795\n",
      "Epoch 23/100\n",
      "100000/100000 - 2s - loss: 0.0377 - accuracy: 0.9850 - val_loss: 0.0528 - val_accuracy: 0.9790\n",
      "Epoch 24/100\n",
      "100000/100000 - 2s - loss: 0.0375 - accuracy: 0.9849 - val_loss: 0.0476 - val_accuracy: 0.9811\n",
      "Epoch 25/100\n",
      "100000/100000 - 2s - loss: 0.0344 - accuracy: 0.9862 - val_loss: 0.0448 - val_accuracy: 0.9823\n",
      "Epoch 26/100\n",
      "100000/100000 - 2s - loss: 0.0346 - accuracy: 0.9862 - val_loss: 0.0487 - val_accuracy: 0.9814\n",
      "Epoch 27/100\n",
      "100000/100000 - 2s - loss: 0.0339 - accuracy: 0.9864 - val_loss: 0.0488 - val_accuracy: 0.9816\n",
      "Epoch 28/100\n",
      "100000/100000 - 2s - loss: 0.0344 - accuracy: 0.9861 - val_loss: 0.0467 - val_accuracy: 0.9814\n",
      "Epoch 29/100\n",
      "100000/100000 - 2s - loss: 0.0313 - accuracy: 0.9873 - val_loss: 0.0451 - val_accuracy: 0.9818\n",
      "Epoch 30/100\n",
      "100000/100000 - 2s - loss: 0.0301 - accuracy: 0.9878 - val_loss: 0.0492 - val_accuracy: 0.9809\n",
      "Epoch 31/100\n",
      "100000/100000 - 2s - loss: 0.0314 - accuracy: 0.9873 - val_loss: 0.0410 - val_accuracy: 0.9843\n",
      "Epoch 32/100\n",
      "100000/100000 - 2s - loss: 0.0286 - accuracy: 0.9885 - val_loss: 0.0441 - val_accuracy: 0.9833\n",
      "Epoch 33/100\n",
      "100000/100000 - 2s - loss: 0.0278 - accuracy: 0.9889 - val_loss: 0.0451 - val_accuracy: 0.9827\n",
      "Epoch 34/100\n",
      "100000/100000 - 2s - loss: 0.0272 - accuracy: 0.9891 - val_loss: 0.0444 - val_accuracy: 0.9835\n",
      "Epoch 35/100\n",
      "100000/100000 - 2s - loss: 0.0284 - accuracy: 0.9887 - val_loss: 0.0415 - val_accuracy: 0.9840\n",
      "Epoch 36/100\n",
      "100000/100000 - 2s - loss: 0.0274 - accuracy: 0.9890 - val_loss: 0.0442 - val_accuracy: 0.9837\n",
      "Epoch 37/100\n",
      "100000/100000 - 2s - loss: 0.0262 - accuracy: 0.9894 - val_loss: 0.0408 - val_accuracy: 0.9844\n",
      "Epoch 38/100\n",
      "100000/100000 - 2s - loss: 0.0238 - accuracy: 0.9903 - val_loss: 0.0406 - val_accuracy: 0.9853\n",
      "Epoch 39/100\n",
      "100000/100000 - 2s - loss: 0.0249 - accuracy: 0.9899 - val_loss: 0.0480 - val_accuracy: 0.9833\n",
      "Epoch 40/100\n",
      "100000/100000 - 2s - loss: 0.0253 - accuracy: 0.9898 - val_loss: 0.0415 - val_accuracy: 0.9843\n",
      "Epoch 41/100\n",
      "100000/100000 - 2s - loss: 0.0243 - accuracy: 0.9903 - val_loss: 0.0478 - val_accuracy: 0.9829\n",
      "Epoch 42/100\n",
      "100000/100000 - 2s - loss: 0.0232 - accuracy: 0.9907 - val_loss: 0.0425 - val_accuracy: 0.9851\n",
      "Epoch 43/100\n",
      "100000/100000 - 2s - loss: 0.0242 - accuracy: 0.9904 - val_loss: 0.0404 - val_accuracy: 0.9851\n",
      "Epoch 44/100\n",
      "100000/100000 - 2s - loss: 0.0238 - accuracy: 0.9904 - val_loss: 0.0444 - val_accuracy: 0.9837\n",
      "Epoch 45/100\n",
      "100000/100000 - 2s - loss: 0.0223 - accuracy: 0.9910 - val_loss: 0.0426 - val_accuracy: 0.9850\n",
      "Epoch 46/100\n",
      "100000/100000 - 2s - loss: 0.0224 - accuracy: 0.9909 - val_loss: 0.0420 - val_accuracy: 0.9852\n",
      "Epoch 47/100\n",
      "100000/100000 - 2s - loss: 0.0210 - accuracy: 0.9916 - val_loss: 0.0405 - val_accuracy: 0.9855\n",
      "Epoch 48/100\n",
      "100000/100000 - 2s - loss: 0.0222 - accuracy: 0.9912 - val_loss: 0.0410 - val_accuracy: 0.9858\n",
      "Epoch 49/100\n",
      "100000/100000 - 2s - loss: 0.0216 - accuracy: 0.9913 - val_loss: 0.0438 - val_accuracy: 0.9841\n",
      "Epoch 50/100\n",
      "100000/100000 - 2s - loss: 0.0209 - accuracy: 0.9916 - val_loss: 0.0403 - val_accuracy: 0.9863\n",
      "Epoch 51/100\n",
      "100000/100000 - 2s - loss: 0.0199 - accuracy: 0.9919 - val_loss: 0.0375 - val_accuracy: 0.9866\n",
      "Epoch 52/100\n",
      "100000/100000 - 2s - loss: 0.0197 - accuracy: 0.9921 - val_loss: 0.0451 - val_accuracy: 0.9844\n",
      "Epoch 53/100\n",
      "100000/100000 - 2s - loss: 0.0213 - accuracy: 0.9915 - val_loss: 0.0448 - val_accuracy: 0.9852\n",
      "Epoch 54/100\n",
      "100000/100000 - 2s - loss: 0.0186 - accuracy: 0.9926 - val_loss: 0.0476 - val_accuracy: 0.9848\n",
      "Epoch 55/100\n",
      "100000/100000 - 2s - loss: 0.0210 - accuracy: 0.9917 - val_loss: 0.0485 - val_accuracy: 0.9851\n",
      "Epoch 56/100\n",
      "100000/100000 - 2s - loss: 0.0198 - accuracy: 0.9921 - val_loss: 0.0429 - val_accuracy: 0.9860\n",
      "Epoch 57/100\n",
      "100000/100000 - 2s - loss: 0.0172 - accuracy: 0.9931 - val_loss: 0.0423 - val_accuracy: 0.9864\n",
      "Epoch 58/100\n",
      "100000/100000 - 2s - loss: 0.0189 - accuracy: 0.9925 - val_loss: 0.0400 - val_accuracy: 0.9866\n",
      "Epoch 59/100\n",
      "100000/100000 - 2s - loss: 0.0195 - accuracy: 0.9924 - val_loss: 0.0495 - val_accuracy: 0.9831\n",
      "Epoch 60/100\n",
      "100000/100000 - 2s - loss: 0.0189 - accuracy: 0.9926 - val_loss: 0.0469 - val_accuracy: 0.9854\n",
      "Epoch 61/100\n",
      "100000/100000 - 2s - loss: 0.0183 - accuracy: 0.9928 - val_loss: 0.0445 - val_accuracy: 0.9866\n",
      "Epoch 62/100\n",
      "100000/100000 - 2s - loss: 0.0174 - accuracy: 0.9931 - val_loss: 0.0454 - val_accuracy: 0.9850\n",
      "Epoch 63/100\n",
      "100000/100000 - 2s - loss: 0.0181 - accuracy: 0.9929 - val_loss: 0.0451 - val_accuracy: 0.9858\n",
      "Epoch 64/100\n",
      "100000/100000 - 2s - loss: 0.0185 - accuracy: 0.9928 - val_loss: 0.0472 - val_accuracy: 0.9858\n",
      "Epoch 65/100\n",
      "100000/100000 - 2s - loss: 0.0183 - accuracy: 0.9928 - val_loss: 0.0414 - val_accuracy: 0.9861\n",
      "Epoch 66/100\n",
      "100000/100000 - 2s - loss: 0.0174 - accuracy: 0.9933 - val_loss: 0.0417 - val_accuracy: 0.9862\n",
      "Epoch 67/100\n",
      "100000/100000 - 2s - loss: 0.0141 - accuracy: 0.9944 - val_loss: 0.0430 - val_accuracy: 0.9857\n",
      "Epoch 68/100\n",
      "100000/100000 - 2s - loss: 0.0192 - accuracy: 0.9926 - val_loss: 0.0495 - val_accuracy: 0.9851\n",
      "Epoch 69/100\n",
      "100000/100000 - 2s - loss: 0.0172 - accuracy: 0.9933 - val_loss: 0.0428 - val_accuracy: 0.9869\n",
      "Epoch 70/100\n",
      "100000/100000 - 2s - loss: 0.0160 - accuracy: 0.9938 - val_loss: 0.0423 - val_accuracy: 0.9872\n",
      "Epoch 71/100\n",
      "100000/100000 - 2s - loss: 0.0172 - accuracy: 0.9934 - val_loss: 0.0482 - val_accuracy: 0.9852\n",
      "Epoch 72/100\n",
      "100000/100000 - 2s - loss: 0.0174 - accuracy: 0.9934 - val_loss: 0.0550 - val_accuracy: 0.9844\n",
      "Epoch 73/100\n",
      "100000/100000 - 2s - loss: 0.0176 - accuracy: 0.9933 - val_loss: 0.0482 - val_accuracy: 0.9855\n",
      "Epoch 74/100\n",
      "100000/100000 - 2s - loss: 0.0149 - accuracy: 0.9943 - val_loss: 0.0429 - val_accuracy: 0.9873\n",
      "Epoch 75/100\n",
      "100000/100000 - 2s - loss: 0.0154 - accuracy: 0.9941 - val_loss: 0.0490 - val_accuracy: 0.9858\n",
      "Epoch 76/100\n",
      "100000/100000 - 2s - loss: 0.0155 - accuracy: 0.9941 - val_loss: 0.0469 - val_accuracy: 0.9863\n"
     ]
    },
    {
     "name": "stdout",
     "output_type": "stream",
     "text": [
      "Epoch 77/100\n",
      "100000/100000 - 2s - loss: 0.0152 - accuracy: 0.9943 - val_loss: 0.0588 - val_accuracy: 0.9846\n",
      "Epoch 78/100\n",
      "100000/100000 - 2s - loss: 0.0179 - accuracy: 0.9932 - val_loss: 0.0480 - val_accuracy: 0.9856\n",
      "Epoch 79/100\n",
      "100000/100000 - 2s - loss: 0.0146 - accuracy: 0.9945 - val_loss: 0.0463 - val_accuracy: 0.9869\n",
      "Epoch 80/100\n",
      "100000/100000 - 2s - loss: 0.0150 - accuracy: 0.9943 - val_loss: 0.0457 - val_accuracy: 0.9867\n",
      "Epoch 81/100\n",
      "100000/100000 - 2s - loss: 0.0148 - accuracy: 0.9946 - val_loss: 0.0481 - val_accuracy: 0.9875\n",
      "Epoch 82/100\n",
      "100000/100000 - 2s - loss: 0.0128 - accuracy: 0.9951 - val_loss: 0.0462 - val_accuracy: 0.9873\n",
      "Epoch 83/100\n",
      "100000/100000 - 2s - loss: 0.0145 - accuracy: 0.9946 - val_loss: 0.0505 - val_accuracy: 0.9859\n",
      "Epoch 84/100\n",
      "100000/100000 - 2s - loss: 0.0149 - accuracy: 0.9944 - val_loss: 0.0513 - val_accuracy: 0.9862\n",
      "Epoch 85/100\n",
      "100000/100000 - 2s - loss: 0.0142 - accuracy: 0.9946 - val_loss: 0.0523 - val_accuracy: 0.9863\n",
      "Epoch 86/100\n",
      "100000/100000 - 2s - loss: 0.0139 - accuracy: 0.9948 - val_loss: 0.0525 - val_accuracy: 0.9863\n",
      "Epoch 87/100\n",
      "100000/100000 - 2s - loss: 0.0139 - accuracy: 0.9948 - val_loss: 0.0464 - val_accuracy: 0.9865\n",
      "Epoch 88/100\n",
      "100000/100000 - 2s - loss: 0.0147 - accuracy: 0.9946 - val_loss: 0.0519 - val_accuracy: 0.9862\n",
      "Epoch 89/100\n",
      "100000/100000 - 2s - loss: 0.0155 - accuracy: 0.9943 - val_loss: 0.0509 - val_accuracy: 0.9864\n",
      "Epoch 90/100\n",
      "100000/100000 - 2s - loss: 0.0128 - accuracy: 0.9952 - val_loss: 0.0482 - val_accuracy: 0.9872\n",
      "Epoch 91/100\n",
      "100000/100000 - 2s - loss: 0.0114 - accuracy: 0.9957 - val_loss: 0.0513 - val_accuracy: 0.9865\n",
      "Epoch 92/100\n",
      "100000/100000 - 2s - loss: 0.0146 - accuracy: 0.9947 - val_loss: 0.0560 - val_accuracy: 0.9857\n",
      "Epoch 93/100\n",
      "100000/100000 - 2s - loss: 0.0142 - accuracy: 0.9948 - val_loss: 0.0523 - val_accuracy: 0.9861\n",
      "Epoch 94/100\n",
      "100000/100000 - 2s - loss: 0.0123 - accuracy: 0.9954 - val_loss: 0.0509 - val_accuracy: 0.9872\n",
      "Epoch 95/100\n",
      "100000/100000 - 2s - loss: 0.0126 - accuracy: 0.9954 - val_loss: 0.0489 - val_accuracy: 0.9869\n",
      "Epoch 96/100\n",
      "100000/100000 - 2s - loss: 0.0135 - accuracy: 0.9952 - val_loss: 0.0504 - val_accuracy: 0.9872\n",
      "Epoch 97/100\n",
      "100000/100000 - 2s - loss: 0.0132 - accuracy: 0.9952 - val_loss: 0.0564 - val_accuracy: 0.9859\n",
      "Epoch 98/100\n",
      "100000/100000 - 2s - loss: 0.0129 - accuracy: 0.9954 - val_loss: 0.0503 - val_accuracy: 0.9875\n",
      "Epoch 99/100\n",
      "100000/100000 - 2s - loss: 0.0107 - accuracy: 0.9961 - val_loss: 0.0542 - val_accuracy: 0.9877\n",
      "Epoch 100/100\n",
      "100000/100000 - 2s - loss: 0.0113 - accuracy: 0.9959 - val_loss: 0.0535 - val_accuracy: 0.9877\n"
     ]
    }
   ],
   "source": [
    "model = tf.keras.models.Sequential([\n",
    "    tf.keras.layers.Dense(150, input_shape = [24], activation = 'relu'),\n",
    "    #tf.keras.layers.Dense(200, activation = 'relu'),\n",
    "    tf.keras.layers.Dense(150, activation = 'relu'),\n",
    "    tf.keras.layers.Dense(150, activation = 'relu'),\n",
    "    tf.keras.layers.Dense(150, activation = 'relu'),\n",
    "    tf.keras.layers.Dense(12, activation = 'sigmoid')\n",
    "])\n",
    "adam = tf.keras.optimizers.Adam(lr = 0.005)\n",
    "model.compile(optimizer = adam, loss = 'binary_crossentropy', metrics = ['accuracy'])\n",
    "\n",
    "history = model.fit(x_train, y_train, batch_size = 1024, epochs = 100, verbose = 2, validation_data = (x_test, y_test))\n"
   ]
  },
  {
   "cell_type": "code",
   "execution_count": 6,
   "metadata": {},
   "outputs": [
    {
     "data": {
      "image/png": "[encoded data removed]",
      "text/plain": [
       "<Figure size 432x288 with 1 Axes>"
      ]
     },
     "metadata": {
      "needs_background": "light"
     },
     "output_type": "display_data"
    }
   ],
   "source": [
    "import matplotlib.pyplot as plt\n",
    "plt.figure()\n",
    "acc = history.history['accuracy']\n",
    "loss = history.history['loss']\n",
    "val_acc = history.history['val_accuracy']\n",
    "val_loss = history.history['val_loss']\n",
    "epochs = range(len(acc))\n",
    "plt.plot(epochs, acc, 'r', label = 'Training accuracy')\n",
    "plt.plot(epochs, val_acc, 'b', label = 'Validating accuracy')\n",
    "plt.title('Training and Validating Accuracy')\n",
    "#plt.title('Training Accuracy')\n",
    "plt.legend()\n",
    "plt.show()"
   ]
  },
  {
   "cell_type": "code",
   "execution_count": 8,
   "metadata": {},
   "outputs": [
    {
     "name": "stdout",
     "output_type": "stream",
     "text": [
      "5000/1 - 0s - loss: 0.0630 - accuracy: 0.9720\n"
     ]
    },
    {
     "data": {
      "text/plain": [
       "[0.04715186712741852, 0.9720002]"
      ]
     },
     "execution_count": 8,
     "metadata": {},
     "output_type": "execute_result"
    }
   ],
   "source": [
    "#model.evaluate(x_test, y_test, verbose = 2)"
   ]
  },
  {
   "cell_type": "code",
   "execution_count": 7,
   "metadata": {},
   "outputs": [],
   "source": [
    "model.save('C:\\\\Users\\\\Wilfred\\\\Desktop\\\\weights\\\\Better_of_Two\\\\Better_of_Two_4_6_12_4_model.h5')"
   ]
  },
  {
   "cell_type": "code",
   "execution_count": null,
   "metadata": {},
   "outputs": [],
   "source": []
  }
 ],
 "metadata": {
  "kernelspec": {
   "display_name": "Python 3",
   "language": "python",
   "name": "python3"
  },
  "language_info": {
   "codemirror_mode": {
    "name": "ipython",
    "version": 3
   },
   "file_extension": ".py",
   "mimetype": "text/x-python",
   "name": "python",
   "nbconvert_exporter": "python",
   "pygments_lexer": "ipython3",
   "version": "3.7.5"
  }
 },
 "nbformat": 4,
 "nbformat_minor": 2
}
