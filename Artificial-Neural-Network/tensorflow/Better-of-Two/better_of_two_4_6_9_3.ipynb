{
 "cells": [
  {
   "cell_type": "code",
   "execution_count": 1,
   "metadata": {},
   "outputs": [],
   "source": [
    "import tensorflow as tf\n",
    "import numpy as np\n",
    "import pickle\n",
    "np.random.seed(7)"
   ]
  },
  {
   "cell_type": "code",
   "execution_count": 2,
   "metadata": {},
   "outputs": [
    {
     "name": "stdout",
     "output_type": "stream",
     "text": [
      "(105000, 24)\n"
     ]
    }
   ],
   "source": [
    "with open ('C:\\\\Users\\\\Wilfred\\\\Desktop\\\\better-of-two\\\\input_layer_4_6_9_3.pickle','rb') as file:\n",
    "    input_data = pickle.load(file)\n",
    "permutation = list(np.random.permutation(input_data.shape[0]))\n",
    "input_data = input_data[permutation,:]\n",
    "print(input_data.shape)\n",
    "x_train = input_data[:100000, :]\n",
    "x_test = input_data[100000:105000, :]\n"
   ]
  },
  {
   "cell_type": "code",
   "execution_count": 3,
   "metadata": {},
   "outputs": [
    {
     "name": "stdout",
     "output_type": "stream",
     "text": [
      "(105000, 12)\n",
      "(105000, 12)\n"
     ]
    }
   ],
   "source": [
    "with open ('C:\\\\Users\\\\Wilfred\\\\Desktop\\\\better-of-two\\\\output_layer_4_6_9_3.pickle','rb') as file:\n",
    "    output_data = pickle.load(file)\n",
    "print(output_data.shape)\n",
    "#output_data = np.transpose(output_data)\n",
    "output_data = output_data[permutation,:]\n",
    "y_train = output_data[:100000, :]\n",
    "y_test = output_data[100000:105000, :]\n",
    "print(output_data.shape)"
   ]
  },
  {
   "cell_type": "code",
   "execution_count": 4,
   "metadata": {},
   "outputs": [
    {
     "name": "stdout",
     "output_type": "stream",
     "text": [
      "Train on 100000 samples, validate on 5000 samples\n",
      "Epoch 1/100\n",
      "100000/100000 - 3s - loss: 0.2623 - accuracy: 0.8949 - val_loss: 0.2166 - val_accuracy: 0.9131\n",
      "Epoch 2/100\n",
      "100000/100000 - 2s - loss: 0.2082 - accuracy: 0.9147 - val_loss: 0.2030 - val_accuracy: 0.9146\n",
      "Epoch 3/100\n",
      "100000/100000 - 2s - loss: 0.1950 - accuracy: 0.9156 - val_loss: 0.1882 - val_accuracy: 0.9159\n",
      "Epoch 4/100\n",
      "100000/100000 - 2s - loss: 0.1768 - accuracy: 0.9192 - val_loss: 0.1654 - val_accuracy: 0.9238\n",
      "Epoch 5/100\n",
      "100000/100000 - 2s - loss: 0.1533 - accuracy: 0.9276 - val_loss: 0.1443 - val_accuracy: 0.9306\n",
      "Epoch 6/100\n",
      "100000/100000 - 2s - loss: 0.1324 - accuracy: 0.9365 - val_loss: 0.1254 - val_accuracy: 0.9402\n",
      "Epoch 7/100\n",
      "100000/100000 - 2s - loss: 0.1170 - accuracy: 0.9447 - val_loss: 0.1148 - val_accuracy: 0.9456\n",
      "Epoch 8/100\n",
      "100000/100000 - 2s - loss: 0.1054 - accuracy: 0.9509 - val_loss: 0.1077 - val_accuracy: 0.9481\n",
      "Epoch 9/100\n",
      "100000/100000 - 2s - loss: 0.0955 - accuracy: 0.9560 - val_loss: 0.0979 - val_accuracy: 0.9548\n",
      "Epoch 10/100\n",
      "100000/100000 - 2s - loss: 0.0886 - accuracy: 0.9594 - val_loss: 0.0935 - val_accuracy: 0.9559\n",
      "Epoch 11/100\n",
      "100000/100000 - 2s - loss: 0.0816 - accuracy: 0.9629 - val_loss: 0.0834 - val_accuracy: 0.9610\n",
      "Epoch 12/100\n",
      "100000/100000 - 2s - loss: 0.0763 - accuracy: 0.9651 - val_loss: 0.0796 - val_accuracy: 0.9629\n",
      "Epoch 13/100\n",
      "100000/100000 - 2s - loss: 0.0709 - accuracy: 0.9676 - val_loss: 0.0770 - val_accuracy: 0.9646\n",
      "Epoch 14/100\n",
      "100000/100000 - 2s - loss: 0.0663 - accuracy: 0.9698 - val_loss: 0.0715 - val_accuracy: 0.9673\n",
      "Epoch 15/100\n",
      "100000/100000 - 2s - loss: 0.0622 - accuracy: 0.9717 - val_loss: 0.0688 - val_accuracy: 0.9686\n",
      "Epoch 16/100\n",
      "100000/100000 - 2s - loss: 0.0583 - accuracy: 0.9736 - val_loss: 0.0638 - val_accuracy: 0.9707\n",
      "Epoch 17/100\n",
      "100000/100000 - 2s - loss: 0.0552 - accuracy: 0.9747 - val_loss: 0.0621 - val_accuracy: 0.9704\n",
      "Epoch 18/100\n",
      "100000/100000 - 2s - loss: 0.0520 - accuracy: 0.9761 - val_loss: 0.0597 - val_accuracy: 0.9730\n",
      "Epoch 19/100\n",
      "100000/100000 - 2s - loss: 0.0496 - accuracy: 0.9773 - val_loss: 0.0584 - val_accuracy: 0.9730\n",
      "Epoch 20/100\n",
      "100000/100000 - 2s - loss: 0.0472 - accuracy: 0.9781 - val_loss: 0.0580 - val_accuracy: 0.9726\n",
      "Epoch 21/100\n",
      "100000/100000 - 2s - loss: 0.0449 - accuracy: 0.9792 - val_loss: 0.0543 - val_accuracy: 0.9745\n",
      "Epoch 22/100\n",
      "100000/100000 - 2s - loss: 0.0428 - accuracy: 0.9802 - val_loss: 0.0537 - val_accuracy: 0.9755\n",
      "Epoch 23/100\n",
      "100000/100000 - 2s - loss: 0.0414 - accuracy: 0.9807 - val_loss: 0.0545 - val_accuracy: 0.9751\n",
      "Epoch 24/100\n",
      "100000/100000 - 2s - loss: 0.0397 - accuracy: 0.9816 - val_loss: 0.0505 - val_accuracy: 0.9770\n",
      "Epoch 25/100\n",
      "100000/100000 - 2s - loss: 0.0382 - accuracy: 0.9822 - val_loss: 0.0519 - val_accuracy: 0.9764\n",
      "Epoch 26/100\n",
      "100000/100000 - 2s - loss: 0.0367 - accuracy: 0.9829 - val_loss: 0.0499 - val_accuracy: 0.9767\n",
      "Epoch 27/100\n",
      "100000/100000 - 2s - loss: 0.0357 - accuracy: 0.9834 - val_loss: 0.0508 - val_accuracy: 0.9764\n",
      "Epoch 28/100\n",
      "100000/100000 - 2s - loss: 0.0349 - accuracy: 0.9837 - val_loss: 0.0494 - val_accuracy: 0.9772\n",
      "Epoch 29/100\n",
      "100000/100000 - 2s - loss: 0.0340 - accuracy: 0.9838 - val_loss: 0.0497 - val_accuracy: 0.9770\n",
      "Epoch 30/100\n",
      "100000/100000 - 2s - loss: 0.0334 - accuracy: 0.9843 - val_loss: 0.0519 - val_accuracy: 0.9763\n",
      "Epoch 31/100\n",
      "100000/100000 - 2s - loss: 0.0329 - accuracy: 0.9845 - val_loss: 0.0484 - val_accuracy: 0.9777\n",
      "Epoch 32/100\n",
      "100000/100000 - 2s - loss: 0.0318 - accuracy: 0.9851 - val_loss: 0.0504 - val_accuracy: 0.9770\n",
      "Epoch 33/100\n",
      "100000/100000 - 2s - loss: 0.0307 - accuracy: 0.9855 - val_loss: 0.0483 - val_accuracy: 0.9784\n",
      "Epoch 34/100\n",
      "100000/100000 - 2s - loss: 0.0307 - accuracy: 0.9857 - val_loss: 0.0486 - val_accuracy: 0.9784\n",
      "Epoch 35/100\n",
      "100000/100000 - 2s - loss: 0.0300 - accuracy: 0.9859 - val_loss: 0.0473 - val_accuracy: 0.9786\n",
      "Epoch 36/100\n",
      "100000/100000 - 2s - loss: 0.0292 - accuracy: 0.9863 - val_loss: 0.0490 - val_accuracy: 0.9788\n",
      "Epoch 37/100\n",
      "100000/100000 - 2s - loss: 0.0290 - accuracy: 0.9863 - val_loss: 0.0485 - val_accuracy: 0.9791\n",
      "Epoch 38/100\n",
      "100000/100000 - 2s - loss: 0.0286 - accuracy: 0.9866 - val_loss: 0.0479 - val_accuracy: 0.9792\n",
      "Epoch 39/100\n",
      "100000/100000 - 2s - loss: 0.0283 - accuracy: 0.9868 - val_loss: 0.0491 - val_accuracy: 0.9786\n",
      "Epoch 40/100\n",
      "100000/100000 - 2s - loss: 0.0276 - accuracy: 0.9870 - val_loss: 0.0484 - val_accuracy: 0.9789\n",
      "Epoch 41/100\n",
      "100000/100000 - 2s - loss: 0.0264 - accuracy: 0.9876 - val_loss: 0.0507 - val_accuracy: 0.9787\n",
      "Epoch 42/100\n",
      "100000/100000 - 2s - loss: 0.0262 - accuracy: 0.9879 - val_loss: 0.0489 - val_accuracy: 0.9789\n",
      "Epoch 43/100\n",
      "100000/100000 - 2s - loss: 0.0268 - accuracy: 0.9877 - val_loss: 0.0492 - val_accuracy: 0.9787\n",
      "Epoch 44/100\n",
      "100000/100000 - 2s - loss: 0.0263 - accuracy: 0.9879 - val_loss: 0.0510 - val_accuracy: 0.9789\n",
      "Epoch 45/100\n",
      "100000/100000 - 2s - loss: 0.0261 - accuracy: 0.9880 - val_loss: 0.0504 - val_accuracy: 0.9786\n",
      "Epoch 46/100\n",
      "100000/100000 - 2s - loss: 0.0247 - accuracy: 0.9886 - val_loss: 0.0498 - val_accuracy: 0.9795\n",
      "Epoch 47/100\n",
      "100000/100000 - 2s - loss: 0.0249 - accuracy: 0.9885 - val_loss: 0.0518 - val_accuracy: 0.9784\n",
      "Epoch 48/100\n",
      "100000/100000 - 2s - loss: 0.0245 - accuracy: 0.9888 - val_loss: 0.0515 - val_accuracy: 0.9791\n",
      "Epoch 49/100\n",
      "100000/100000 - 2s - loss: 0.0233 - accuracy: 0.9893 - val_loss: 0.0498 - val_accuracy: 0.9802\n",
      "Epoch 50/100\n",
      "100000/100000 - 2s - loss: 0.0234 - accuracy: 0.9893 - val_loss: 0.0499 - val_accuracy: 0.9795\n",
      "Epoch 51/100\n",
      "100000/100000 - 2s - loss: 0.0232 - accuracy: 0.9896 - val_loss: 0.0515 - val_accuracy: 0.9790\n",
      "Epoch 52/100\n",
      "100000/100000 - 2s - loss: 0.0227 - accuracy: 0.9897 - val_loss: 0.0518 - val_accuracy: 0.9794\n",
      "Epoch 53/100\n",
      "100000/100000 - 2s - loss: 0.0231 - accuracy: 0.9896 - val_loss: 0.0530 - val_accuracy: 0.9788\n",
      "Epoch 54/100\n",
      "100000/100000 - 2s - loss: 0.0232 - accuracy: 0.9895 - val_loss: 0.0537 - val_accuracy: 0.9786\n",
      "Epoch 55/100\n",
      "100000/100000 - 2s - loss: 0.0225 - accuracy: 0.9899 - val_loss: 0.0506 - val_accuracy: 0.9801\n",
      "Epoch 56/100\n",
      "100000/100000 - 2s - loss: 0.0218 - accuracy: 0.9902 - val_loss: 0.0539 - val_accuracy: 0.9792\n",
      "Epoch 57/100\n",
      "100000/100000 - 2s - loss: 0.0222 - accuracy: 0.9900 - val_loss: 0.0568 - val_accuracy: 0.9792\n",
      "Epoch 58/100\n",
      "100000/100000 - 2s - loss: 0.0213 - accuracy: 0.9905 - val_loss: 0.0555 - val_accuracy: 0.9791\n",
      "Epoch 59/100\n",
      "100000/100000 - 2s - loss: 0.0208 - accuracy: 0.9907 - val_loss: 0.0571 - val_accuracy: 0.9792\n",
      "Epoch 60/100\n",
      "100000/100000 - 2s - loss: 0.0205 - accuracy: 0.9909 - val_loss: 0.0550 - val_accuracy: 0.9801\n",
      "Epoch 61/100\n",
      "100000/100000 - 2s - loss: 0.0197 - accuracy: 0.9912 - val_loss: 0.0585 - val_accuracy: 0.9793\n",
      "Epoch 62/100\n",
      "100000/100000 - 2s - loss: 0.0204 - accuracy: 0.9909 - val_loss: 0.0592 - val_accuracy: 0.9791\n",
      "Epoch 63/100\n",
      "100000/100000 - 2s - loss: 0.0200 - accuracy: 0.9912 - val_loss: 0.0560 - val_accuracy: 0.9796\n",
      "Epoch 64/100\n",
      "100000/100000 - 2s - loss: 0.0199 - accuracy: 0.9913 - val_loss: 0.0578 - val_accuracy: 0.9797\n",
      "Epoch 65/100\n",
      "100000/100000 - 2s - loss: 0.0191 - accuracy: 0.9915 - val_loss: 0.0604 - val_accuracy: 0.9791\n",
      "Epoch 66/100\n",
      "100000/100000 - 2s - loss: 0.0191 - accuracy: 0.9916 - val_loss: 0.0593 - val_accuracy: 0.9794\n",
      "Epoch 67/100\n",
      "100000/100000 - 2s - loss: 0.0193 - accuracy: 0.9916 - val_loss: 0.0628 - val_accuracy: 0.9791\n",
      "Epoch 68/100\n",
      "100000/100000 - 2s - loss: 0.0208 - accuracy: 0.9910 - val_loss: 0.0633 - val_accuracy: 0.9790\n",
      "Epoch 69/100\n",
      "100000/100000 - 2s - loss: 0.0196 - accuracy: 0.9915 - val_loss: 0.0593 - val_accuracy: 0.9797\n",
      "Epoch 70/100\n",
      "100000/100000 - 2s - loss: 0.0190 - accuracy: 0.9917 - val_loss: 0.0597 - val_accuracy: 0.9802\n",
      "Epoch 71/100\n",
      "100000/100000 - 2s - loss: 0.0181 - accuracy: 0.9921 - val_loss: 0.0610 - val_accuracy: 0.9797\n",
      "Epoch 72/100\n",
      "100000/100000 - 2s - loss: 0.0171 - accuracy: 0.9925 - val_loss: 0.0614 - val_accuracy: 0.9792\n",
      "Epoch 73/100\n",
      "100000/100000 - 2s - loss: 0.0181 - accuracy: 0.9923 - val_loss: 0.0624 - val_accuracy: 0.9796\n",
      "Epoch 74/100\n",
      "100000/100000 - 2s - loss: 0.0177 - accuracy: 0.9924 - val_loss: 0.0648 - val_accuracy: 0.9791\n",
      "Epoch 75/100\n",
      "100000/100000 - 2s - loss: 0.0176 - accuracy: 0.9924 - val_loss: 0.0648 - val_accuracy: 0.9797\n",
      "Epoch 76/100\n",
      "100000/100000 - 2s - loss: 0.0167 - accuracy: 0.9929 - val_loss: 0.0668 - val_accuracy: 0.9791\n"
     ]
    },
    {
     "name": "stdout",
     "output_type": "stream",
     "text": [
      "Epoch 77/100\n",
      "100000/100000 - 2s - loss: 0.0187 - accuracy: 0.9921 - val_loss: 0.0630 - val_accuracy: 0.9800\n",
      "Epoch 78/100\n",
      "100000/100000 - 2s - loss: 0.0164 - accuracy: 0.9929 - val_loss: 0.0666 - val_accuracy: 0.9795\n",
      "Epoch 79/100\n",
      "100000/100000 - 2s - loss: 0.0176 - accuracy: 0.9926 - val_loss: 0.0663 - val_accuracy: 0.9797\n",
      "Epoch 80/100\n",
      "100000/100000 - 2s - loss: 0.0183 - accuracy: 0.9923 - val_loss: 0.0653 - val_accuracy: 0.9796\n",
      "Epoch 81/100\n",
      "100000/100000 - 2s - loss: 0.0167 - accuracy: 0.9928 - val_loss: 0.0716 - val_accuracy: 0.9786\n",
      "Epoch 82/100\n",
      "100000/100000 - 2s - loss: 0.0157 - accuracy: 0.9933 - val_loss: 0.0658 - val_accuracy: 0.9797\n",
      "Epoch 83/100\n",
      "100000/100000 - 2s - loss: 0.0143 - accuracy: 0.9940 - val_loss: 0.0690 - val_accuracy: 0.9804\n",
      "Epoch 84/100\n",
      "100000/100000 - 2s - loss: 0.0153 - accuracy: 0.9936 - val_loss: 0.0683 - val_accuracy: 0.9795\n",
      "Epoch 85/100\n",
      "100000/100000 - 2s - loss: 0.0150 - accuracy: 0.9937 - val_loss: 0.0702 - val_accuracy: 0.9801\n",
      "Epoch 86/100\n",
      "100000/100000 - 2s - loss: 0.0151 - accuracy: 0.9937 - val_loss: 0.0676 - val_accuracy: 0.9797\n",
      "Epoch 87/100\n",
      "100000/100000 - 2s - loss: 0.0148 - accuracy: 0.9937 - val_loss: 0.0709 - val_accuracy: 0.9797\n",
      "Epoch 88/100\n",
      "100000/100000 - 2s - loss: 0.0159 - accuracy: 0.9934 - val_loss: 0.0753 - val_accuracy: 0.9792\n",
      "Epoch 89/100\n",
      "100000/100000 - 2s - loss: 0.0161 - accuracy: 0.9934 - val_loss: 0.0741 - val_accuracy: 0.9793\n",
      "Epoch 90/100\n",
      "100000/100000 - 2s - loss: 0.0156 - accuracy: 0.9935 - val_loss: 0.0712 - val_accuracy: 0.9794\n",
      "Epoch 91/100\n",
      "100000/100000 - 2s - loss: 0.0141 - accuracy: 0.9941 - val_loss: 0.0746 - val_accuracy: 0.9802\n",
      "Epoch 92/100\n",
      "100000/100000 - 2s - loss: 0.0149 - accuracy: 0.9938 - val_loss: 0.0730 - val_accuracy: 0.9799\n",
      "Epoch 93/100\n",
      "100000/100000 - 2s - loss: 0.0153 - accuracy: 0.9937 - val_loss: 0.0777 - val_accuracy: 0.9790\n",
      "Epoch 94/100\n",
      "100000/100000 - 2s - loss: 0.0156 - accuracy: 0.9936 - val_loss: 0.0745 - val_accuracy: 0.9800\n",
      "Epoch 95/100\n",
      "100000/100000 - 2s - loss: 0.0145 - accuracy: 0.9940 - val_loss: 0.0776 - val_accuracy: 0.9794\n",
      "Epoch 96/100\n",
      "100000/100000 - 3s - loss: 0.0134 - accuracy: 0.9945 - val_loss: 0.0758 - val_accuracy: 0.9793\n",
      "Epoch 97/100\n",
      "100000/100000 - 2s - loss: 0.0137 - accuracy: 0.9944 - val_loss: 0.0747 - val_accuracy: 0.9799\n",
      "Epoch 98/100\n",
      "100000/100000 - 3s - loss: 0.0142 - accuracy: 0.9942 - val_loss: 0.0781 - val_accuracy: 0.9789\n",
      "Epoch 99/100\n",
      "100000/100000 - 2s - loss: 0.0147 - accuracy: 0.9940 - val_loss: 0.0760 - val_accuracy: 0.9798\n",
      "Epoch 100/100\n",
      "100000/100000 - 2s - loss: 0.0171 - accuracy: 0.9932 - val_loss: 0.0792 - val_accuracy: 0.9794\n"
     ]
    }
   ],
   "source": [
    "model = tf.keras.models.Sequential([\n",
    "    tf.keras.layers.Dense(200, input_shape = [24], activation = 'relu'),\n",
    "    #tf.keras.layers.Dense(200, activation = 'relu'),\n",
    "    #tf.keras.layers.Dense(250, activation = 'relu'),\n",
    "    tf.keras.layers.Dense(200, activation = 'relu'),\n",
    "    tf.keras.layers.Dense(200, activation = 'relu'),\n",
    "    tf.keras.layers.Dense(12, activation = 'sigmoid')\n",
    "])\n",
    "adam = tf.keras.optimizers.Adam(lr = 0.0035)\n",
    "model.compile(optimizer = adam, loss = 'binary_crossentropy', metrics = ['accuracy'])\n",
    "\n",
    "history = model.fit(x_train, y_train, batch_size = 1024, epochs = 100, verbose = 2, validation_data = (x_test, y_test))\n"
   ]
  },
  {
   "cell_type": "code",
   "execution_count": 6,
   "metadata": {},
   "outputs": [
    {
     "data": {
      "image/png": "[encoded data removed]",
      "text/plain": [
       "<Figure size 432x288 with 1 Axes>"
      ]
     },
     "metadata": {
      "needs_background": "light"
     },
     "output_type": "display_data"
    }
   ],
   "source": [
    "import matplotlib.pyplot as plt\n",
    "plt.figure()\n",
    "acc = history.history['accuracy']\n",
    "loss = history.history['loss']\n",
    "val_acc = history.history['val_accuracy']\n",
    "val_loss = history.history['val_loss']\n",
    "epochs = range(len(acc))\n",
    "plt.plot(epochs, acc, 'r', label = 'Training accuracy')\n",
    "plt.plot(epochs, val_acc, 'b', label = 'Validating accuracy')\n",
    "plt.title('Training and Validating Accuracy')\n",
    "#plt.title('Training Accuracy')\n",
    "plt.legend()\n",
    "plt.show()"
   ]
  },
  {
   "cell_type": "code",
   "execution_count": 8,
   "metadata": {},
   "outputs": [
    {
     "name": "stdout",
     "output_type": "stream",
     "text": [
      "5000/1 - 0s - loss: 0.0630 - accuracy: 0.9720\n"
     ]
    },
    {
     "data": {
      "text/plain": [
       "[0.04715186712741852, 0.9720002]"
      ]
     },
     "execution_count": 8,
     "metadata": {},
     "output_type": "execute_result"
    }
   ],
   "source": [
    "#model.evaluate(x_test, y_test, verbose = 2)"
   ]
  },
  {
   "cell_type": "code",
   "execution_count": 7,
   "metadata": {},
   "outputs": [],
   "source": [
    "model.save('C:\\\\Users\\\\Wilfred\\\\Desktop\\\\weights\\\\Better_of_Two\\\\Better_of_Two_4_6_9_3_model.h5')"
   ]
  },
  {
   "cell_type": "code",
   "execution_count": null,
   "metadata": {},
   "outputs": [],
   "source": []
  }
 ],
 "metadata": {
  "kernelspec": {
   "display_name": "Python 3",
   "language": "python",
   "name": "python3"
  },
  "language_info": {
   "codemirror_mode": {
    "name": "ipython",
    "version": 3
   },
   "file_extension": ".py",
   "mimetype": "text/x-python",
   "name": "python",
   "nbconvert_exporter": "python",
   "pygments_lexer": "ipython3",
   "version": "3.7.5"
  }
 },
 "nbformat": 4,
 "nbformat_minor": 2
}
