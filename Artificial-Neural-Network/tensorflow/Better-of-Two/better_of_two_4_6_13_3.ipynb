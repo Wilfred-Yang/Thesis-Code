{
 "cells": [
  {
   "cell_type": "code",
   "execution_count": 1,
   "metadata": {},
   "outputs": [],
   "source": [
    "import tensorflow as tf\n",
    "import numpy as np\n",
    "import pickle\n",
    "np.random.seed(7)"
   ]
  },
  {
   "cell_type": "code",
   "execution_count": 2,
   "metadata": {},
   "outputs": [
    {
     "name": "stdout",
     "output_type": "stream",
     "text": [
      "(105000, 24)\n"
     ]
    }
   ],
   "source": [
    "with open ('C:\\\\Users\\\\Wilfred\\\\Desktop\\\\better-of-two\\\\input_layer_4_6_13_3.pickle','rb') as file:\n",
    "    input_data = pickle.load(file)\n",
    "permutation = list(np.random.permutation(input_data.shape[0]))\n",
    "input_data = input_data[permutation,:]\n",
    "print(input_data.shape)\n",
    "x_train = input_data[:100000, :]\n",
    "x_test = input_data[100000:105000, :]\n"
   ]
  },
  {
   "cell_type": "code",
   "execution_count": 3,
   "metadata": {},
   "outputs": [
    {
     "name": "stdout",
     "output_type": "stream",
     "text": [
      "(105000, 12)\n",
      "(105000, 12)\n"
     ]
    }
   ],
   "source": [
    "with open ('C:\\\\Users\\\\Wilfred\\\\Desktop\\\\better-of-two\\\\output_layer_4_6_13_3.pickle','rb') as file:\n",
    "    output_data = pickle.load(file)\n",
    "print(output_data.shape)\n",
    "#output_data = np.transpose(output_data)\n",
    "output_data = output_data[permutation,:]\n",
    "y_train = output_data[:100000, :]\n",
    "y_test = output_data[100000:105000, :]\n",
    "print(output_data.shape)"
   ]
  },
  {
   "cell_type": "code",
   "execution_count": 4,
   "metadata": {},
   "outputs": [
    {
     "name": "stdout",
     "output_type": "stream",
     "text": [
      "Train on 100000 samples, validate on 5000 samples\n",
      "Epoch 1/100\n",
      "100000/100000 - 3s - loss: 0.3018 - accuracy: 0.8744 - val_loss: 0.2326 - val_accuracy: 0.9049\n",
      "Epoch 2/100\n",
      "100000/100000 - 2s - loss: 0.2205 - accuracy: 0.9079 - val_loss: 0.2186 - val_accuracy: 0.9069\n",
      "Epoch 3/100\n",
      "100000/100000 - 2s - loss: 0.2093 - accuracy: 0.9104 - val_loss: 0.2082 - val_accuracy: 0.9098\n",
      "Epoch 4/100\n",
      "100000/100000 - 2s - loss: 0.1996 - accuracy: 0.9134 - val_loss: 0.1983 - val_accuracy: 0.9138\n",
      "Epoch 5/100\n",
      "100000/100000 - 2s - loss: 0.1898 - accuracy: 0.9185 - val_loss: 0.1853 - val_accuracy: 0.9210\n",
      "Epoch 6/100\n",
      "100000/100000 - 2s - loss: 0.1757 - accuracy: 0.9251 - val_loss: 0.1715 - val_accuracy: 0.9269\n",
      "Epoch 7/100\n",
      "100000/100000 - 2s - loss: 0.1585 - accuracy: 0.9311 - val_loss: 0.1527 - val_accuracy: 0.9331\n",
      "Epoch 8/100\n",
      "100000/100000 - 2s - loss: 0.1413 - accuracy: 0.9360 - val_loss: 0.1432 - val_accuracy: 0.9350\n",
      "Epoch 9/100\n",
      "100000/100000 - 2s - loss: 0.1309 - accuracy: 0.9399 - val_loss: 0.1317 - val_accuracy: 0.9390\n",
      "Epoch 10/100\n",
      "100000/100000 - 2s - loss: 0.1207 - accuracy: 0.9446 - val_loss: 0.1221 - val_accuracy: 0.9438\n",
      "Epoch 11/100\n",
      "100000/100000 - 2s - loss: 0.1136 - accuracy: 0.9483 - val_loss: 0.1192 - val_accuracy: 0.9458\n",
      "Epoch 12/100\n",
      "100000/100000 - 2s - loss: 0.1072 - accuracy: 0.9513 - val_loss: 0.1123 - val_accuracy: 0.9497\n",
      "Epoch 13/100\n",
      "100000/100000 - 2s - loss: 0.1003 - accuracy: 0.9551 - val_loss: 0.1078 - val_accuracy: 0.9515\n",
      "Epoch 14/100\n",
      "100000/100000 - 2s - loss: 0.0959 - accuracy: 0.9578 - val_loss: 0.1035 - val_accuracy: 0.9561\n",
      "Epoch 15/100\n",
      "100000/100000 - 2s - loss: 0.0909 - accuracy: 0.9603 - val_loss: 0.1014 - val_accuracy: 0.9565\n",
      "Epoch 16/100\n",
      "100000/100000 - 2s - loss: 0.0875 - accuracy: 0.9624 - val_loss: 0.0946 - val_accuracy: 0.9591\n",
      "Epoch 17/100\n",
      "100000/100000 - 2s - loss: 0.0835 - accuracy: 0.9644 - val_loss: 0.0931 - val_accuracy: 0.9613\n",
      "Epoch 18/100\n",
      "100000/100000 - 2s - loss: 0.0809 - accuracy: 0.9657 - val_loss: 0.0886 - val_accuracy: 0.9632\n",
      "Epoch 19/100\n",
      "100000/100000 - 2s - loss: 0.0774 - accuracy: 0.9677 - val_loss: 0.0870 - val_accuracy: 0.9641\n",
      "Epoch 20/100\n",
      "100000/100000 - 2s - loss: 0.0739 - accuracy: 0.9693 - val_loss: 0.0888 - val_accuracy: 0.9632\n",
      "Epoch 21/100\n",
      "100000/100000 - 2s - loss: 0.0710 - accuracy: 0.9707 - val_loss: 0.0862 - val_accuracy: 0.9661\n",
      "Epoch 22/100\n",
      "100000/100000 - 2s - loss: 0.0707 - accuracy: 0.9710 - val_loss: 0.0845 - val_accuracy: 0.9657\n",
      "Epoch 23/100\n",
      "100000/100000 - 2s - loss: 0.0686 - accuracy: 0.9718 - val_loss: 0.0819 - val_accuracy: 0.9672\n",
      "Epoch 24/100\n",
      "100000/100000 - 2s - loss: 0.0667 - accuracy: 0.9729 - val_loss: 0.0833 - val_accuracy: 0.9675\n",
      "Epoch 25/100\n",
      "100000/100000 - 2s - loss: 0.0646 - accuracy: 0.9738 - val_loss: 0.0788 - val_accuracy: 0.9695\n",
      "Epoch 26/100\n",
      "100000/100000 - 2s - loss: 0.0627 - accuracy: 0.9748 - val_loss: 0.0784 - val_accuracy: 0.9689\n",
      "Epoch 27/100\n",
      "100000/100000 - 2s - loss: 0.0607 - accuracy: 0.9757 - val_loss: 0.0787 - val_accuracy: 0.9691\n",
      "Epoch 28/100\n",
      "100000/100000 - 2s - loss: 0.0612 - accuracy: 0.9755 - val_loss: 0.0765 - val_accuracy: 0.9708\n",
      "Epoch 29/100\n",
      "100000/100000 - 2s - loss: 0.0573 - accuracy: 0.9773 - val_loss: 0.0785 - val_accuracy: 0.9701\n",
      "Epoch 30/100\n",
      "100000/100000 - 2s - loss: 0.0557 - accuracy: 0.9780 - val_loss: 0.0718 - val_accuracy: 0.9734\n",
      "Epoch 31/100\n",
      "100000/100000 - 2s - loss: 0.0548 - accuracy: 0.9784 - val_loss: 0.0758 - val_accuracy: 0.9710\n",
      "Epoch 32/100\n",
      "100000/100000 - 2s - loss: 0.0533 - accuracy: 0.9791 - val_loss: 0.0691 - val_accuracy: 0.9738\n",
      "Epoch 33/100\n",
      "100000/100000 - 2s - loss: 0.0516 - accuracy: 0.9800 - val_loss: 0.0708 - val_accuracy: 0.9739\n",
      "Epoch 34/100\n",
      "100000/100000 - 2s - loss: 0.0515 - accuracy: 0.9798 - val_loss: 0.0700 - val_accuracy: 0.9760\n",
      "Epoch 35/100\n",
      "100000/100000 - 2s - loss: 0.0497 - accuracy: 0.9808 - val_loss: 0.0685 - val_accuracy: 0.9754\n",
      "Epoch 36/100\n",
      "100000/100000 - 2s - loss: 0.0501 - accuracy: 0.9805 - val_loss: 0.0669 - val_accuracy: 0.9761\n",
      "Epoch 37/100\n",
      "100000/100000 - 2s - loss: 0.0463 - accuracy: 0.9821 - val_loss: 0.0668 - val_accuracy: 0.9762\n",
      "Epoch 38/100\n",
      "100000/100000 - 2s - loss: 0.0466 - accuracy: 0.9818 - val_loss: 0.0709 - val_accuracy: 0.9759\n",
      "Epoch 39/100\n",
      "100000/100000 - 2s - loss: 0.0460 - accuracy: 0.9823 - val_loss: 0.0684 - val_accuracy: 0.9751\n",
      "Epoch 40/100\n",
      "100000/100000 - 2s - loss: 0.0465 - accuracy: 0.9820 - val_loss: 0.0692 - val_accuracy: 0.9756\n",
      "Epoch 41/100\n",
      "100000/100000 - 2s - loss: 0.0432 - accuracy: 0.9836 - val_loss: 0.0677 - val_accuracy: 0.9771\n",
      "Epoch 42/100\n",
      "100000/100000 - 2s - loss: 0.0428 - accuracy: 0.9836 - val_loss: 0.0671 - val_accuracy: 0.9767\n",
      "Epoch 43/100\n",
      "100000/100000 - 2s - loss: 0.0417 - accuracy: 0.9841 - val_loss: 0.0642 - val_accuracy: 0.9779\n",
      "Epoch 44/100\n",
      "100000/100000 - 2s - loss: 0.0437 - accuracy: 0.9834 - val_loss: 0.0660 - val_accuracy: 0.9780\n",
      "Epoch 45/100\n",
      "100000/100000 - 2s - loss: 0.0419 - accuracy: 0.9839 - val_loss: 0.0688 - val_accuracy: 0.9771\n",
      "Epoch 46/100\n",
      "100000/100000 - 2s - loss: 0.0409 - accuracy: 0.9845 - val_loss: 0.0682 - val_accuracy: 0.9774\n",
      "Epoch 47/100\n",
      "100000/100000 - 2s - loss: 0.0405 - accuracy: 0.9846 - val_loss: 0.0636 - val_accuracy: 0.9786\n",
      "Epoch 48/100\n",
      "100000/100000 - 2s - loss: 0.0401 - accuracy: 0.9849 - val_loss: 0.0680 - val_accuracy: 0.9778\n",
      "Epoch 49/100\n",
      "100000/100000 - 2s - loss: 0.0390 - accuracy: 0.9852 - val_loss: 0.0741 - val_accuracy: 0.9752\n",
      "Epoch 50/100\n",
      "100000/100000 - 2s - loss: 0.0394 - accuracy: 0.9851 - val_loss: 0.0637 - val_accuracy: 0.9791\n",
      "Epoch 51/100\n",
      "100000/100000 - 2s - loss: 0.0365 - accuracy: 0.9863 - val_loss: 0.0638 - val_accuracy: 0.9786\n",
      "Epoch 52/100\n",
      "100000/100000 - 2s - loss: 0.0381 - accuracy: 0.9856 - val_loss: 0.0666 - val_accuracy: 0.9783\n",
      "Epoch 53/100\n",
      "100000/100000 - 2s - loss: 0.0354 - accuracy: 0.9866 - val_loss: 0.0654 - val_accuracy: 0.9797\n",
      "Epoch 54/100\n",
      "100000/100000 - 2s - loss: 0.0361 - accuracy: 0.9864 - val_loss: 0.0687 - val_accuracy: 0.9786\n",
      "Epoch 55/100\n",
      "100000/100000 - 2s - loss: 0.0366 - accuracy: 0.9861 - val_loss: 0.0682 - val_accuracy: 0.9788\n",
      "Epoch 56/100\n",
      "100000/100000 - 2s - loss: 0.0351 - accuracy: 0.9868 - val_loss: 0.0671 - val_accuracy: 0.9792\n",
      "Epoch 57/100\n",
      "100000/100000 - 2s - loss: 0.0353 - accuracy: 0.9868 - val_loss: 0.0713 - val_accuracy: 0.9774\n",
      "Epoch 58/100\n",
      "100000/100000 - 2s - loss: 0.0377 - accuracy: 0.9859 - val_loss: 0.0664 - val_accuracy: 0.9785\n",
      "Epoch 59/100\n",
      "100000/100000 - 2s - loss: 0.0332 - accuracy: 0.9875 - val_loss: 0.0680 - val_accuracy: 0.9787\n",
      "Epoch 60/100\n",
      "100000/100000 - 2s - loss: 0.0354 - accuracy: 0.9867 - val_loss: 0.0695 - val_accuracy: 0.9787\n",
      "Epoch 61/100\n",
      "100000/100000 - 2s - loss: 0.0322 - accuracy: 0.9880 - val_loss: 0.0685 - val_accuracy: 0.9787\n",
      "Epoch 62/100\n",
      "100000/100000 - 2s - loss: 0.0354 - accuracy: 0.9869 - val_loss: 0.0698 - val_accuracy: 0.9785\n",
      "Epoch 63/100\n",
      "100000/100000 - 2s - loss: 0.0321 - accuracy: 0.9879 - val_loss: 0.0692 - val_accuracy: 0.9795\n",
      "Epoch 64/100\n",
      "100000/100000 - 2s - loss: 0.0335 - accuracy: 0.9877 - val_loss: 0.0683 - val_accuracy: 0.9796\n",
      "Epoch 65/100\n",
      "100000/100000 - 2s - loss: 0.0327 - accuracy: 0.9878 - val_loss: 0.0721 - val_accuracy: 0.9780\n",
      "Epoch 66/100\n",
      "100000/100000 - 2s - loss: 0.0307 - accuracy: 0.9886 - val_loss: 0.0678 - val_accuracy: 0.9806\n",
      "Epoch 67/100\n",
      "100000/100000 - 2s - loss: 0.0289 - accuracy: 0.9892 - val_loss: 0.0688 - val_accuracy: 0.9796\n",
      "Epoch 68/100\n",
      "100000/100000 - 2s - loss: 0.0317 - accuracy: 0.9881 - val_loss: 0.0691 - val_accuracy: 0.9797\n",
      "Epoch 69/100\n",
      "100000/100000 - 2s - loss: 0.0322 - accuracy: 0.9881 - val_loss: 0.0753 - val_accuracy: 0.9790\n",
      "Epoch 70/100\n",
      "100000/100000 - 2s - loss: 0.0359 - accuracy: 0.9867 - val_loss: 0.0730 - val_accuracy: 0.9791\n",
      "Epoch 71/100\n",
      "100000/100000 - 2s - loss: 0.0281 - accuracy: 0.9895 - val_loss: 0.0646 - val_accuracy: 0.9826\n",
      "Epoch 72/100\n",
      "100000/100000 - 2s - loss: 0.0273 - accuracy: 0.9899 - val_loss: 0.0727 - val_accuracy: 0.9805\n",
      "Epoch 73/100\n",
      "100000/100000 - 2s - loss: 0.0294 - accuracy: 0.9891 - val_loss: 0.0704 - val_accuracy: 0.9804\n",
      "Epoch 74/100\n",
      "100000/100000 - 2s - loss: 0.0313 - accuracy: 0.9884 - val_loss: 0.0705 - val_accuracy: 0.9795\n",
      "Epoch 75/100\n",
      "100000/100000 - 2s - loss: 0.0272 - accuracy: 0.9900 - val_loss: 0.0705 - val_accuracy: 0.9801\n",
      "Epoch 76/100\n",
      "100000/100000 - 2s - loss: 0.0289 - accuracy: 0.9893 - val_loss: 0.0740 - val_accuracy: 0.9793\n"
     ]
    },
    {
     "name": "stdout",
     "output_type": "stream",
     "text": [
      "Epoch 77/100\n",
      "100000/100000 - 2s - loss: 0.0308 - accuracy: 0.9886 - val_loss: 0.0682 - val_accuracy: 0.9801\n",
      "Epoch 78/100\n",
      "100000/100000 - 2s - loss: 0.0284 - accuracy: 0.9896 - val_loss: 0.0772 - val_accuracy: 0.9788\n",
      "Epoch 79/100\n",
      "100000/100000 - 2s - loss: 0.0289 - accuracy: 0.9894 - val_loss: 0.0708 - val_accuracy: 0.9808\n",
      "Epoch 80/100\n",
      "100000/100000 - 2s - loss: 0.0285 - accuracy: 0.9895 - val_loss: 0.0760 - val_accuracy: 0.9795\n",
      "Epoch 81/100\n",
      "100000/100000 - 2s - loss: 0.0310 - accuracy: 0.9887 - val_loss: 0.0797 - val_accuracy: 0.9794\n",
      "Epoch 82/100\n",
      "100000/100000 - 2s - loss: 0.0283 - accuracy: 0.9896 - val_loss: 0.0735 - val_accuracy: 0.9802\n",
      "Epoch 83/100\n",
      "100000/100000 - 2s - loss: 0.0275 - accuracy: 0.9899 - val_loss: 0.0714 - val_accuracy: 0.9804\n",
      "Epoch 84/100\n",
      "100000/100000 - 2s - loss: 0.0272 - accuracy: 0.9899 - val_loss: 0.0750 - val_accuracy: 0.9798\n",
      "Epoch 85/100\n",
      "100000/100000 - 2s - loss: 0.0281 - accuracy: 0.9897 - val_loss: 0.0718 - val_accuracy: 0.9802\n",
      "Epoch 86/100\n",
      "100000/100000 - 2s - loss: 0.0277 - accuracy: 0.9899 - val_loss: 0.0706 - val_accuracy: 0.9822\n",
      "Epoch 87/100\n",
      "100000/100000 - 2s - loss: 0.0258 - accuracy: 0.9905 - val_loss: 0.0793 - val_accuracy: 0.9804\n",
      "Epoch 88/100\n",
      "100000/100000 - 2s - loss: 0.0299 - accuracy: 0.9890 - val_loss: 0.0761 - val_accuracy: 0.9809\n",
      "Epoch 89/100\n",
      "100000/100000 - 2s - loss: 0.0270 - accuracy: 0.9901 - val_loss: 0.0795 - val_accuracy: 0.9803\n",
      "Epoch 90/100\n",
      "100000/100000 - 2s - loss: 0.0245 - accuracy: 0.9910 - val_loss: 0.0737 - val_accuracy: 0.9817\n",
      "Epoch 91/100\n",
      "100000/100000 - 2s - loss: 0.0242 - accuracy: 0.9911 - val_loss: 0.0736 - val_accuracy: 0.9811\n",
      "Epoch 92/100\n",
      "100000/100000 - 2s - loss: 0.0265 - accuracy: 0.9905 - val_loss: 0.0802 - val_accuracy: 0.9800\n",
      "Epoch 93/100\n",
      "100000/100000 - 2s - loss: 0.0297 - accuracy: 0.9893 - val_loss: 0.0822 - val_accuracy: 0.9799\n",
      "Epoch 94/100\n",
      "100000/100000 - 2s - loss: 0.0285 - accuracy: 0.9897 - val_loss: 0.0752 - val_accuracy: 0.9807\n",
      "Epoch 95/100\n",
      "100000/100000 - 2s - loss: 0.0227 - accuracy: 0.9917 - val_loss: 0.0754 - val_accuracy: 0.9816\n",
      "Epoch 96/100\n",
      "100000/100000 - 2s - loss: 0.0228 - accuracy: 0.9917 - val_loss: 0.0778 - val_accuracy: 0.9815\n",
      "Epoch 97/100\n",
      "100000/100000 - 2s - loss: 0.0255 - accuracy: 0.9908 - val_loss: 0.0821 - val_accuracy: 0.9806\n",
      "Epoch 98/100\n",
      "100000/100000 - 2s - loss: 0.0261 - accuracy: 0.9905 - val_loss: 0.0811 - val_accuracy: 0.9807\n",
      "Epoch 99/100\n",
      "100000/100000 - 2s - loss: 0.0251 - accuracy: 0.9909 - val_loss: 0.0813 - val_accuracy: 0.9803\n",
      "Epoch 100/100\n",
      "100000/100000 - 2s - loss: 0.0253 - accuracy: 0.9909 - val_loss: 0.0769 - val_accuracy: 0.9810\n"
     ]
    }
   ],
   "source": [
    "model = tf.keras.models.Sequential([\n",
    "    tf.keras.layers.Dense(150, input_shape = [24], activation = 'relu'),\n",
    "    #tf.keras.layers.Dense(200, activation = 'relu'),\n",
    "    tf.keras.layers.Dense(150, activation = 'relu'),\n",
    "    tf.keras.layers.Dense(150, activation = 'relu'),\n",
    "    tf.keras.layers.Dense(150, activation = 'relu'),\n",
    "    tf.keras.layers.Dense(12, activation = 'sigmoid')\n",
    "])\n",
    "adam = tf.keras.optimizers.Adam(lr = 0.005)\n",
    "model.compile(optimizer = adam, loss = 'binary_crossentropy', metrics = ['accuracy'])\n",
    "\n",
    "history = model.fit(x_train, y_train, batch_size = 1024, epochs = 100, verbose = 2, validation_data = (x_test, y_test))\n"
   ]
  },
  {
   "cell_type": "code",
   "execution_count": 6,
   "metadata": {},
   "outputs": [
    {
     "data": {
      "image/png": "[encoded data removed]",
      "text/plain": [
       "<Figure size 432x288 with 1 Axes>"
      ]
     },
     "metadata": {
      "needs_background": "light"
     },
     "output_type": "display_data"
    }
   ],
   "source": [
    "import matplotlib.pyplot as plt\n",
    "plt.figure()\n",
    "acc = history.history['accuracy']\n",
    "loss = history.history['loss']\n",
    "val_acc = history.history['val_accuracy']\n",
    "val_loss = history.history['val_loss']\n",
    "epochs = range(len(acc))\n",
    "plt.plot(epochs, acc, 'r', label = 'Training accuracy')\n",
    "plt.plot(epochs, val_acc, 'b', label = 'Validating accuracy')\n",
    "plt.title('Training and Validating Accuracy')\n",
    "#plt.title('Training Accuracy')\n",
    "plt.legend()\n",
    "plt.show()"
   ]
  },
  {
   "cell_type": "code",
   "execution_count": 8,
   "metadata": {},
   "outputs": [
    {
     "name": "stdout",
     "output_type": "stream",
     "text": [
      "5000/1 - 0s - loss: 0.0630 - accuracy: 0.9720\n"
     ]
    },
    {
     "data": {
      "text/plain": [
       "[0.04715186712741852, 0.9720002]"
      ]
     },
     "execution_count": 8,
     "metadata": {},
     "output_type": "execute_result"
    }
   ],
   "source": [
    "#model.evaluate(x_test, y_test, verbose = 2)"
   ]
  },
  {
   "cell_type": "code",
   "execution_count": 7,
   "metadata": {},
   "outputs": [],
   "source": [
    "model.save('C:\\\\Users\\\\Wilfred\\\\Desktop\\\\weights\\\\Better_of_Two\\\\Better_of_Two_4_6_13_3_model.h5')"
   ]
  },
  {
   "cell_type": "code",
   "execution_count": null,
   "metadata": {},
   "outputs": [],
   "source": []
  }
 ],
 "metadata": {
  "kernelspec": {
   "display_name": "Python 3",
   "language": "python",
   "name": "python3"
  },
  "language_info": {
   "codemirror_mode": {
    "name": "ipython",
    "version": 3
   },
   "file_extension": ".py",
   "mimetype": "text/x-python",
   "name": "python",
   "nbconvert_exporter": "python",
   "pygments_lexer": "ipython3",
   "version": "3.7.5"
  }
 },
 "nbformat": 4,
 "nbformat_minor": 2
}
