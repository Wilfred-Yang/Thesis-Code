{
 "cells": [
  {
   "cell_type": "code",
   "execution_count": 1,
   "metadata": {},
   "outputs": [],
   "source": [
    "import tensorflow as tf\n",
    "import numpy as np\n",
    "import pickle\n",
    "np.random.seed(7)"
   ]
  },
  {
   "cell_type": "code",
   "execution_count": 2,
   "metadata": {},
   "outputs": [
    {
     "name": "stdout",
     "output_type": "stream",
     "text": [
      "(105000, 24)\n"
     ]
    }
   ],
   "source": [
    "with open ('C:\\\\Users\\\\Wilfred\\\\Desktop\\\\better-of-two\\\\input_layer_4_6_12_3.pickle','rb') as file:\n",
    "    input_data = pickle.load(file)\n",
    "permutation = list(np.random.permutation(input_data.shape[0]))\n",
    "input_data = input_data[permutation,:]\n",
    "print(input_data.shape)\n",
    "x_train = input_data[:100000, :]\n",
    "x_test = input_data[100000:105000, :]\n"
   ]
  },
  {
   "cell_type": "code",
   "execution_count": 3,
   "metadata": {},
   "outputs": [
    {
     "name": "stdout",
     "output_type": "stream",
     "text": [
      "(105000, 12)\n",
      "(105000, 12)\n"
     ]
    }
   ],
   "source": [
    "with open ('C:\\\\Users\\\\Wilfred\\\\Desktop\\\\better-of-two\\\\output_layer_4_6_12_3.pickle','rb') as file:\n",
    "    output_data = pickle.load(file)\n",
    "print(output_data.shape)\n",
    "#output_data = np.transpose(output_data)\n",
    "output_data = output_data[permutation,:]\n",
    "y_train = output_data[:100000, :]\n",
    "y_test = output_data[100000:105000, :]\n",
    "print(output_data.shape)"
   ]
  },
  {
   "cell_type": "code",
   "execution_count": 4,
   "metadata": {},
   "outputs": [
    {
     "name": "stdout",
     "output_type": "stream",
     "text": [
      "Train on 100000 samples, validate on 5000 samples\n",
      "Epoch 1/100\n",
      "100000/100000 - 3s - loss: 0.3013 - accuracy: 0.8756 - val_loss: 0.2300 - val_accuracy: 0.9065\n",
      "Epoch 2/100\n",
      "100000/100000 - 2s - loss: 0.2192 - accuracy: 0.9101 - val_loss: 0.2150 - val_accuracy: 0.9109\n",
      "Epoch 3/100\n",
      "100000/100000 - 2s - loss: 0.2094 - accuracy: 0.9118 - val_loss: 0.2085 - val_accuracy: 0.9117\n",
      "Epoch 4/100\n",
      "100000/100000 - 2s - loss: 0.2011 - accuracy: 0.9135 - val_loss: 0.2013 - val_accuracy: 0.9141\n",
      "Epoch 5/100\n",
      "100000/100000 - 2s - loss: 0.1913 - accuracy: 0.9178 - val_loss: 0.1893 - val_accuracy: 0.9193\n",
      "Epoch 6/100\n",
      "100000/100000 - 2s - loss: 0.1766 - accuracy: 0.9244 - val_loss: 0.1739 - val_accuracy: 0.9254\n",
      "Epoch 7/100\n",
      "100000/100000 - 2s - loss: 0.1575 - accuracy: 0.9305 - val_loss: 0.1491 - val_accuracy: 0.9329\n",
      "Epoch 8/100\n",
      "100000/100000 - 2s - loss: 0.1418 - accuracy: 0.9352 - val_loss: 0.1390 - val_accuracy: 0.9369\n",
      "Epoch 9/100\n",
      "100000/100000 - 2s - loss: 0.1293 - accuracy: 0.9400 - val_loss: 0.1318 - val_accuracy: 0.9389\n",
      "Epoch 10/100\n",
      "100000/100000 - 2s - loss: 0.1201 - accuracy: 0.9443 - val_loss: 0.1221 - val_accuracy: 0.9444\n",
      "Epoch 11/100\n",
      "100000/100000 - 2s - loss: 0.1111 - accuracy: 0.9491 - val_loss: 0.1176 - val_accuracy: 0.9472\n",
      "Epoch 12/100\n",
      "100000/100000 - 2s - loss: 0.1032 - accuracy: 0.9535 - val_loss: 0.1081 - val_accuracy: 0.9515\n",
      "Epoch 13/100\n",
      "100000/100000 - 2s - loss: 0.0956 - accuracy: 0.9578 - val_loss: 0.1065 - val_accuracy: 0.9537\n",
      "Epoch 14/100\n",
      "100000/100000 - 2s - loss: 0.0903 - accuracy: 0.9607 - val_loss: 0.0981 - val_accuracy: 0.9578\n",
      "Epoch 15/100\n",
      "100000/100000 - 2s - loss: 0.0852 - accuracy: 0.9636 - val_loss: 0.0914 - val_accuracy: 0.9620\n",
      "Epoch 16/100\n",
      "100000/100000 - 2s - loss: 0.0813 - accuracy: 0.9657 - val_loss: 0.0917 - val_accuracy: 0.9630\n",
      "Epoch 17/100\n",
      "100000/100000 - 2s - loss: 0.0764 - accuracy: 0.9683 - val_loss: 0.0910 - val_accuracy: 0.9627\n",
      "Epoch 18/100\n",
      "100000/100000 - 2s - loss: 0.0737 - accuracy: 0.9696 - val_loss: 0.0816 - val_accuracy: 0.9673\n",
      "Epoch 19/100\n",
      "100000/100000 - 2s - loss: 0.0692 - accuracy: 0.9718 - val_loss: 0.0880 - val_accuracy: 0.9642\n",
      "Epoch 20/100\n",
      "100000/100000 - 2s - loss: 0.0694 - accuracy: 0.9718 - val_loss: 0.0742 - val_accuracy: 0.9710\n",
      "Epoch 21/100\n",
      "100000/100000 - 2s - loss: 0.0653 - accuracy: 0.9739 - val_loss: 0.0723 - val_accuracy: 0.9723\n",
      "Epoch 22/100\n",
      "100000/100000 - 2s - loss: 0.0624 - accuracy: 0.9752 - val_loss: 0.0769 - val_accuracy: 0.9703\n",
      "Epoch 23/100\n",
      "100000/100000 - 2s - loss: 0.0589 - accuracy: 0.9766 - val_loss: 0.0700 - val_accuracy: 0.9735\n",
      "Epoch 24/100\n",
      "100000/100000 - 2s - loss: 0.0570 - accuracy: 0.9774 - val_loss: 0.0750 - val_accuracy: 0.9711\n",
      "Epoch 25/100\n",
      "100000/100000 - 2s - loss: 0.0552 - accuracy: 0.9785 - val_loss: 0.0685 - val_accuracy: 0.9739\n",
      "Epoch 26/100\n",
      "100000/100000 - 2s - loss: 0.0532 - accuracy: 0.9793 - val_loss: 0.0704 - val_accuracy: 0.9736\n",
      "Epoch 27/100\n",
      "100000/100000 - 2s - loss: 0.0515 - accuracy: 0.9800 - val_loss: 0.0628 - val_accuracy: 0.9773\n",
      "Epoch 28/100\n",
      "100000/100000 - 2s - loss: 0.0470 - accuracy: 0.9818 - val_loss: 0.0651 - val_accuracy: 0.9766\n",
      "Epoch 29/100\n",
      "100000/100000 - 2s - loss: 0.0476 - accuracy: 0.9817 - val_loss: 0.0639 - val_accuracy: 0.9760\n",
      "Epoch 30/100\n",
      "100000/100000 - 2s - loss: 0.0469 - accuracy: 0.9820 - val_loss: 0.0675 - val_accuracy: 0.9749\n",
      "Epoch 31/100\n",
      "100000/100000 - 2s - loss: 0.0450 - accuracy: 0.9827 - val_loss: 0.0621 - val_accuracy: 0.9776\n",
      "Epoch 32/100\n",
      "100000/100000 - 2s - loss: 0.0456 - accuracy: 0.9826 - val_loss: 0.0582 - val_accuracy: 0.9795\n",
      "Epoch 33/100\n",
      "100000/100000 - 2s - loss: 0.0417 - accuracy: 0.9843 - val_loss: 0.0606 - val_accuracy: 0.9785\n",
      "Epoch 34/100\n",
      "100000/100000 - 2s - loss: 0.0409 - accuracy: 0.9844 - val_loss: 0.0602 - val_accuracy: 0.9788\n",
      "Epoch 35/100\n",
      "100000/100000 - 2s - loss: 0.0399 - accuracy: 0.9849 - val_loss: 0.0618 - val_accuracy: 0.9781\n",
      "Epoch 36/100\n",
      "100000/100000 - 2s - loss: 0.0385 - accuracy: 0.9854 - val_loss: 0.0597 - val_accuracy: 0.9798\n",
      "Epoch 37/100\n",
      "100000/100000 - 2s - loss: 0.0369 - accuracy: 0.9861 - val_loss: 0.0630 - val_accuracy: 0.9785\n",
      "Epoch 38/100\n",
      "100000/100000 - 2s - loss: 0.0400 - accuracy: 0.9848 - val_loss: 0.0648 - val_accuracy: 0.9776\n",
      "Epoch 39/100\n",
      "100000/100000 - 2s - loss: 0.0367 - accuracy: 0.9862 - val_loss: 0.0567 - val_accuracy: 0.9807\n",
      "Epoch 40/100\n",
      "100000/100000 - 2s - loss: 0.0351 - accuracy: 0.9868 - val_loss: 0.0597 - val_accuracy: 0.9804\n",
      "Epoch 41/100\n",
      "100000/100000 - 2s - loss: 0.0374 - accuracy: 0.9859 - val_loss: 0.0602 - val_accuracy: 0.9798\n",
      "Epoch 42/100\n",
      "100000/100000 - 2s - loss: 0.0382 - accuracy: 0.9857 - val_loss: 0.0598 - val_accuracy: 0.9796\n",
      "Epoch 43/100\n",
      "100000/100000 - 2s - loss: 0.0344 - accuracy: 0.9870 - val_loss: 0.0560 - val_accuracy: 0.9814\n",
      "Epoch 44/100\n",
      "100000/100000 - 2s - loss: 0.0336 - accuracy: 0.9874 - val_loss: 0.0592 - val_accuracy: 0.9804\n",
      "Epoch 45/100\n",
      "100000/100000 - 2s - loss: 0.0328 - accuracy: 0.9877 - val_loss: 0.0601 - val_accuracy: 0.9801\n",
      "Epoch 46/100\n",
      "100000/100000 - 2s - loss: 0.0326 - accuracy: 0.9878 - val_loss: 0.0550 - val_accuracy: 0.9816\n",
      "Epoch 47/100\n",
      "100000/100000 - 3s - loss: 0.0330 - accuracy: 0.9877 - val_loss: 0.0692 - val_accuracy: 0.9776\n",
      "Epoch 48/100\n",
      "100000/100000 - 2s - loss: 0.0328 - accuracy: 0.9877 - val_loss: 0.0568 - val_accuracy: 0.9811\n",
      "Epoch 49/100\n",
      "100000/100000 - 2s - loss: 0.0292 - accuracy: 0.9892 - val_loss: 0.0573 - val_accuracy: 0.9819\n",
      "Epoch 50/100\n",
      "100000/100000 - 2s - loss: 0.0298 - accuracy: 0.9889 - val_loss: 0.0602 - val_accuracy: 0.9805\n",
      "Epoch 51/100\n",
      "100000/100000 - 2s - loss: 0.0303 - accuracy: 0.9887 - val_loss: 0.0584 - val_accuracy: 0.9810\n",
      "Epoch 52/100\n",
      "100000/100000 - 2s - loss: 0.0298 - accuracy: 0.9888 - val_loss: 0.0579 - val_accuracy: 0.9819\n",
      "Epoch 53/100\n",
      "100000/100000 - 2s - loss: 0.0304 - accuracy: 0.9887 - val_loss: 0.0568 - val_accuracy: 0.9825\n",
      "Epoch 54/100\n",
      "100000/100000 - 2s - loss: 0.0282 - accuracy: 0.9896 - val_loss: 0.0620 - val_accuracy: 0.9809\n",
      "Epoch 55/100\n",
      "100000/100000 - 2s - loss: 0.0316 - accuracy: 0.9884 - val_loss: 0.0561 - val_accuracy: 0.9821\n",
      "Epoch 56/100\n",
      "100000/100000 - 2s - loss: 0.0260 - accuracy: 0.9904 - val_loss: 0.0572 - val_accuracy: 0.9838\n",
      "Epoch 57/100\n",
      "100000/100000 - 2s - loss: 0.0273 - accuracy: 0.9898 - val_loss: 0.0571 - val_accuracy: 0.9833\n",
      "Epoch 58/100\n",
      "100000/100000 - 2s - loss: 0.0268 - accuracy: 0.9900 - val_loss: 0.0682 - val_accuracy: 0.9801\n",
      "Epoch 59/100\n",
      "100000/100000 - 2s - loss: 0.0270 - accuracy: 0.9901 - val_loss: 0.0592 - val_accuracy: 0.9813\n",
      "Epoch 60/100\n",
      "100000/100000 - 2s - loss: 0.0287 - accuracy: 0.9893 - val_loss: 0.0584 - val_accuracy: 0.9822\n",
      "Epoch 61/100\n",
      "100000/100000 - 2s - loss: 0.0265 - accuracy: 0.9902 - val_loss: 0.0607 - val_accuracy: 0.9814\n",
      "Epoch 62/100\n",
      "100000/100000 - 2s - loss: 0.0267 - accuracy: 0.9901 - val_loss: 0.0659 - val_accuracy: 0.9810\n",
      "Epoch 63/100\n",
      "100000/100000 - 2s - loss: 0.0265 - accuracy: 0.9902 - val_loss: 0.0663 - val_accuracy: 0.9822\n",
      "Epoch 64/100\n",
      "100000/100000 - 2s - loss: 0.0273 - accuracy: 0.9901 - val_loss: 0.0624 - val_accuracy: 0.9808\n",
      "Epoch 65/100\n",
      "100000/100000 - 2s - loss: 0.0246 - accuracy: 0.9909 - val_loss: 0.0594 - val_accuracy: 0.9835\n",
      "Epoch 66/100\n",
      "100000/100000 - 2s - loss: 0.0260 - accuracy: 0.9904 - val_loss: 0.0592 - val_accuracy: 0.9814\n",
      "Epoch 67/100\n",
      "100000/100000 - 2s - loss: 0.0252 - accuracy: 0.9908 - val_loss: 0.0638 - val_accuracy: 0.9803\n",
      "Epoch 68/100\n",
      "100000/100000 - 2s - loss: 0.0247 - accuracy: 0.9909 - val_loss: 0.0645 - val_accuracy: 0.9809\n",
      "Epoch 69/100\n",
      "100000/100000 - 2s - loss: 0.0274 - accuracy: 0.9900 - val_loss: 0.0653 - val_accuracy: 0.9819\n",
      "Epoch 70/100\n",
      "100000/100000 - 2s - loss: 0.0257 - accuracy: 0.9907 - val_loss: 0.0674 - val_accuracy: 0.9798\n",
      "Epoch 71/100\n",
      "100000/100000 - 2s - loss: 0.0252 - accuracy: 0.9907 - val_loss: 0.0630 - val_accuracy: 0.9827\n",
      "Epoch 72/100\n",
      "100000/100000 - 2s - loss: 0.0254 - accuracy: 0.9907 - val_loss: 0.0680 - val_accuracy: 0.9803\n",
      "Epoch 73/100\n",
      "100000/100000 - 2s - loss: 0.0239 - accuracy: 0.9913 - val_loss: 0.0593 - val_accuracy: 0.9832\n",
      "Epoch 74/100\n",
      "100000/100000 - 2s - loss: 0.0229 - accuracy: 0.9916 - val_loss: 0.0623 - val_accuracy: 0.9833\n",
      "Epoch 75/100\n",
      "100000/100000 - 2s - loss: 0.0207 - accuracy: 0.9924 - val_loss: 0.0657 - val_accuracy: 0.9826\n",
      "Epoch 76/100\n",
      "100000/100000 - 2s - loss: 0.0242 - accuracy: 0.9913 - val_loss: 0.0755 - val_accuracy: 0.9794\n"
     ]
    },
    {
     "name": "stdout",
     "output_type": "stream",
     "text": [
      "Epoch 77/100\n",
      "100000/100000 - 2s - loss: 0.0220 - accuracy: 0.9920 - val_loss: 0.0705 - val_accuracy: 0.9815\n",
      "Epoch 78/100\n",
      "100000/100000 - 2s - loss: 0.0247 - accuracy: 0.9911 - val_loss: 0.0677 - val_accuracy: 0.9808\n",
      "Epoch 79/100\n",
      "100000/100000 - 2s - loss: 0.0232 - accuracy: 0.9915 - val_loss: 0.0681 - val_accuracy: 0.9822\n",
      "Epoch 80/100\n",
      "100000/100000 - 2s - loss: 0.0225 - accuracy: 0.9919 - val_loss: 0.0705 - val_accuracy: 0.9809\n",
      "Epoch 81/100\n",
      "100000/100000 - 2s - loss: 0.0232 - accuracy: 0.9916 - val_loss: 0.0617 - val_accuracy: 0.9842\n",
      "Epoch 82/100\n",
      "100000/100000 - 2s - loss: 0.0201 - accuracy: 0.9927 - val_loss: 0.0643 - val_accuracy: 0.9823\n",
      "Epoch 83/100\n",
      "100000/100000 - 2s - loss: 0.0210 - accuracy: 0.9923 - val_loss: 0.0662 - val_accuracy: 0.9829\n",
      "Epoch 84/100\n",
      "100000/100000 - 2s - loss: 0.0211 - accuracy: 0.9925 - val_loss: 0.0643 - val_accuracy: 0.9822\n",
      "Epoch 85/100\n",
      "100000/100000 - 2s - loss: 0.0257 - accuracy: 0.9908 - val_loss: 0.0715 - val_accuracy: 0.9809\n",
      "Epoch 86/100\n",
      "100000/100000 - 2s - loss: 0.0211 - accuracy: 0.9923 - val_loss: 0.0684 - val_accuracy: 0.9821\n",
      "Epoch 87/100\n",
      "100000/100000 - 2s - loss: 0.0200 - accuracy: 0.9927 - val_loss: 0.0664 - val_accuracy: 0.9826\n",
      "Epoch 88/100\n",
      "100000/100000 - 2s - loss: 0.0221 - accuracy: 0.9921 - val_loss: 0.0657 - val_accuracy: 0.9831\n",
      "Epoch 89/100\n",
      "100000/100000 - 2s - loss: 0.0227 - accuracy: 0.9920 - val_loss: 0.0661 - val_accuracy: 0.9831\n",
      "Epoch 90/100\n",
      "100000/100000 - 2s - loss: 0.0231 - accuracy: 0.9917 - val_loss: 0.0680 - val_accuracy: 0.9817\n",
      "Epoch 91/100\n",
      "100000/100000 - 2s - loss: 0.0192 - accuracy: 0.9931 - val_loss: 0.0709 - val_accuracy: 0.9816\n",
      "Epoch 92/100\n",
      "100000/100000 - 2s - loss: 0.0205 - accuracy: 0.9927 - val_loss: 0.0687 - val_accuracy: 0.9837\n",
      "Epoch 93/100\n",
      "100000/100000 - 2s - loss: 0.0174 - accuracy: 0.9937 - val_loss: 0.0697 - val_accuracy: 0.9837\n",
      "Epoch 94/100\n",
      "100000/100000 - 2s - loss: 0.0194 - accuracy: 0.9931 - val_loss: 0.0718 - val_accuracy: 0.9824\n",
      "Epoch 95/100\n",
      "100000/100000 - 2s - loss: 0.0233 - accuracy: 0.9917 - val_loss: 0.0692 - val_accuracy: 0.9828\n",
      "Epoch 96/100\n",
      "100000/100000 - 2s - loss: 0.0202 - accuracy: 0.9928 - val_loss: 0.0689 - val_accuracy: 0.9826\n",
      "Epoch 97/100\n",
      "100000/100000 - 2s - loss: 0.0192 - accuracy: 0.9932 - val_loss: 0.0673 - val_accuracy: 0.9832\n",
      "Epoch 98/100\n",
      "100000/100000 - 3s - loss: 0.0180 - accuracy: 0.9936 - val_loss: 0.0736 - val_accuracy: 0.9825\n",
      "Epoch 99/100\n",
      "100000/100000 - 3s - loss: 0.0204 - accuracy: 0.9928 - val_loss: 0.0707 - val_accuracy: 0.9834\n",
      "Epoch 100/100\n",
      "100000/100000 - 2s - loss: 0.0189 - accuracy: 0.9933 - val_loss: 0.0698 - val_accuracy: 0.9830\n"
     ]
    }
   ],
   "source": [
    "model = tf.keras.models.Sequential([\n",
    "    tf.keras.layers.Dense(150, input_shape = [24], activation = 'relu'),\n",
    "    #tf.keras.layers.Dense(200, activation = 'relu'),\n",
    "    tf.keras.layers.Dense(150, activation = 'relu'),\n",
    "    tf.keras.layers.Dense(150, activation = 'relu'),\n",
    "    tf.keras.layers.Dense(150, activation = 'relu'),\n",
    "    tf.keras.layers.Dense(12, activation = 'sigmoid')\n",
    "])\n",
    "adam = tf.keras.optimizers.Adam(lr = 0.005)\n",
    "model.compile(optimizer = adam, loss = 'binary_crossentropy', metrics = ['accuracy'])\n",
    "\n",
    "history = model.fit(x_train, y_train, batch_size = 1024, epochs = 100, verbose = 2, validation_data = (x_test, y_test))\n"
   ]
  },
  {
   "cell_type": "code",
   "execution_count": 6,
   "metadata": {},
   "outputs": [
    {
     "data": {
      "image/png": "[encoded data removed]",
      "text/plain": [
       "<Figure size 432x288 with 1 Axes>"
      ]
     },
     "metadata": {
      "needs_background": "light"
     },
     "output_type": "display_data"
    }
   ],
   "source": [
    "import matplotlib.pyplot as plt\n",
    "plt.figure()\n",
    "acc = history.history['accuracy']\n",
    "loss = history.history['loss']\n",
    "val_acc = history.history['val_accuracy']\n",
    "val_loss = history.history['val_loss']\n",
    "epochs = range(len(acc))\n",
    "plt.plot(epochs, acc, 'r', label = 'Training accuracy')\n",
    "plt.plot(epochs, val_acc, 'b', label = 'Validating accuracy')\n",
    "plt.title('Training and Validating Accuracy')\n",
    "#plt.title('Training Accuracy')\n",
    "plt.legend()\n",
    "plt.show()"
   ]
  },
  {
   "cell_type": "code",
   "execution_count": 8,
   "metadata": {},
   "outputs": [
    {
     "name": "stdout",
     "output_type": "stream",
     "text": [
      "5000/1 - 0s - loss: 0.0630 - accuracy: 0.9720\n"
     ]
    },
    {
     "data": {
      "text/plain": [
       "[0.04715186712741852, 0.9720002]"
      ]
     },
     "execution_count": 8,
     "metadata": {},
     "output_type": "execute_result"
    }
   ],
   "source": [
    "#model.evaluate(x_test, y_test, verbose = 2)"
   ]
  },
  {
   "cell_type": "code",
   "execution_count": 7,
   "metadata": {},
   "outputs": [],
   "source": [
    "model.save('C:\\\\Users\\\\Wilfred\\\\Desktop\\\\weights\\\\Better_of_Two\\\\Better_of_Two_4_6_12_3_model.h5')"
   ]
  },
  {
   "cell_type": "code",
   "execution_count": null,
   "metadata": {},
   "outputs": [],
   "source": []
  }
 ],
 "metadata": {
  "kernelspec": {
   "display_name": "Python 3",
   "language": "python",
   "name": "python3"
  },
  "language_info": {
   "codemirror_mode": {
    "name": "ipython",
    "version": 3
   },
   "file_extension": ".py",
   "mimetype": "text/x-python",
   "name": "python",
   "nbconvert_exporter": "python",
   "pygments_lexer": "ipython3",
   "version": "3.7.5"
  }
 },
 "nbformat": 4,
 "nbformat_minor": 2
}
