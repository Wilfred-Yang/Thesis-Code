{
 "cells": [
  {
   "cell_type": "code",
   "execution_count": 1,
   "metadata": {},
   "outputs": [],
   "source": [
    "import tensorflow as tf\n",
    "import numpy as np\n",
    "import pickle\n",
    "np.random.seed(7)"
   ]
  },
  {
   "cell_type": "code",
   "execution_count": 2,
   "metadata": {},
   "outputs": [
    {
     "name": "stdout",
     "output_type": "stream",
     "text": [
      "(105000, 24)\n"
     ]
    }
   ],
   "source": [
    "with open ('C:\\\\Users\\\\Wilfred\\\\Desktop\\\\better-of-two\\\\input_layer_4_6_11_3.pickle','rb') as file:\n",
    "    input_data = pickle.load(file)\n",
    "permutation = list(np.random.permutation(input_data.shape[0]))\n",
    "input_data = input_data[permutation,:]\n",
    "print(input_data.shape)\n",
    "x_train = input_data[:100000, :]\n",
    "x_test = input_data[100000:105000, :]\n"
   ]
  },
  {
   "cell_type": "code",
   "execution_count": 3,
   "metadata": {},
   "outputs": [
    {
     "name": "stdout",
     "output_type": "stream",
     "text": [
      "(105000, 12)\n",
      "(105000, 12)\n"
     ]
    }
   ],
   "source": [
    "with open ('C:\\\\Users\\\\Wilfred\\\\Desktop\\\\better-of-two\\\\output_layer_4_6_11_3.pickle','rb') as file:\n",
    "    output_data = pickle.load(file)\n",
    "print(output_data.shape)\n",
    "#output_data = np.transpose(output_data)\n",
    "output_data = output_data[permutation,:]\n",
    "y_train = output_data[:100000, :]\n",
    "y_test = output_data[100000:105000, :]\n",
    "print(output_data.shape)"
   ]
  },
  {
   "cell_type": "code",
   "execution_count": 4,
   "metadata": {},
   "outputs": [
    {
     "name": "stdout",
     "output_type": "stream",
     "text": [
      "Train on 100000 samples, validate on 5000 samples\n",
      "Epoch 1/90\n",
      "100000/100000 - 3s - loss: 0.2797 - accuracy: 0.8864 - val_loss: 0.2258 - val_accuracy: 0.9099\n",
      "Epoch 2/90\n",
      "100000/100000 - 2s - loss: 0.2165 - accuracy: 0.9119 - val_loss: 0.2137 - val_accuracy: 0.9126\n",
      "Epoch 3/90\n",
      "100000/100000 - 2s - loss: 0.2067 - accuracy: 0.9134 - val_loss: 0.2066 - val_accuracy: 0.9131\n",
      "Epoch 4/90\n",
      "100000/100000 - 2s - loss: 0.1980 - accuracy: 0.9156 - val_loss: 0.1972 - val_accuracy: 0.9161\n",
      "Epoch 5/90\n",
      "100000/100000 - 2s - loss: 0.1823 - accuracy: 0.9219 - val_loss: 0.1745 - val_accuracy: 0.9254\n",
      "Epoch 6/90\n",
      "100000/100000 - 2s - loss: 0.1608 - accuracy: 0.9290 - val_loss: 0.1556 - val_accuracy: 0.9296\n",
      "Epoch 7/90\n",
      "100000/100000 - 2s - loss: 0.1432 - accuracy: 0.9341 - val_loss: 0.1404 - val_accuracy: 0.9349\n",
      "Epoch 8/90\n",
      "100000/100000 - 2s - loss: 0.1273 - accuracy: 0.9406 - val_loss: 0.1246 - val_accuracy: 0.9420\n",
      "Epoch 9/90\n",
      "100000/100000 - 2s - loss: 0.1160 - accuracy: 0.9459 - val_loss: 0.1214 - val_accuracy: 0.9445\n",
      "Epoch 10/90\n",
      "100000/100000 - 2s - loss: 0.1071 - accuracy: 0.9508 - val_loss: 0.1111 - val_accuracy: 0.9494\n",
      "Epoch 11/90\n",
      "100000/100000 - 2s - loss: 0.0986 - accuracy: 0.9554 - val_loss: 0.1056 - val_accuracy: 0.9529\n",
      "Epoch 12/90\n",
      "100000/100000 - 2s - loss: 0.0903 - accuracy: 0.9598 - val_loss: 0.0993 - val_accuracy: 0.9570\n",
      "Epoch 13/90\n",
      "100000/100000 - 2s - loss: 0.0839 - accuracy: 0.9634 - val_loss: 0.0894 - val_accuracy: 0.9611\n",
      "Epoch 14/90\n",
      "100000/100000 - 2s - loss: 0.0779 - accuracy: 0.9664 - val_loss: 0.0864 - val_accuracy: 0.9628\n",
      "Epoch 15/90\n",
      "100000/100000 - 2s - loss: 0.0738 - accuracy: 0.9684 - val_loss: 0.0828 - val_accuracy: 0.9650\n",
      "Epoch 16/90\n",
      "100000/100000 - 2s - loss: 0.0669 - accuracy: 0.9720 - val_loss: 0.0763 - val_accuracy: 0.9679\n",
      "Epoch 17/90\n",
      "100000/100000 - 2s - loss: 0.0618 - accuracy: 0.9744 - val_loss: 0.0702 - val_accuracy: 0.9724\n",
      "Epoch 18/90\n",
      "100000/100000 - 2s - loss: 0.0597 - accuracy: 0.9755 - val_loss: 0.0686 - val_accuracy: 0.9719\n",
      "Epoch 19/90\n",
      "100000/100000 - 2s - loss: 0.0568 - accuracy: 0.9767 - val_loss: 0.0638 - val_accuracy: 0.9748\n",
      "Epoch 20/90\n",
      "100000/100000 - 2s - loss: 0.0514 - accuracy: 0.9791 - val_loss: 0.0627 - val_accuracy: 0.9748\n",
      "Epoch 21/90\n",
      "100000/100000 - 2s - loss: 0.0495 - accuracy: 0.9797 - val_loss: 0.0610 - val_accuracy: 0.9752\n",
      "Epoch 22/90\n",
      "100000/100000 - 2s - loss: 0.0475 - accuracy: 0.9808 - val_loss: 0.0615 - val_accuracy: 0.9763\n",
      "Epoch 23/90\n",
      "100000/100000 - 2s - loss: 0.0461 - accuracy: 0.9813 - val_loss: 0.0592 - val_accuracy: 0.9774\n",
      "Epoch 24/90\n",
      "100000/100000 - 2s - loss: 0.0434 - accuracy: 0.9824 - val_loss: 0.0586 - val_accuracy: 0.9770\n",
      "Epoch 25/90\n",
      "100000/100000 - 2s - loss: 0.0428 - accuracy: 0.9828 - val_loss: 0.0571 - val_accuracy: 0.9780\n",
      "Epoch 26/90\n",
      "100000/100000 - 2s - loss: 0.0407 - accuracy: 0.9835 - val_loss: 0.0556 - val_accuracy: 0.9788\n",
      "Epoch 27/90\n",
      "100000/100000 - 2s - loss: 0.0399 - accuracy: 0.9838 - val_loss: 0.0581 - val_accuracy: 0.9779\n",
      "Epoch 28/90\n",
      "100000/100000 - 2s - loss: 0.0399 - accuracy: 0.9838 - val_loss: 0.0524 - val_accuracy: 0.9795\n",
      "Epoch 29/90\n",
      "100000/100000 - 2s - loss: 0.0373 - accuracy: 0.9849 - val_loss: 0.0513 - val_accuracy: 0.9806\n",
      "Epoch 30/90\n",
      "100000/100000 - 2s - loss: 0.0376 - accuracy: 0.9848 - val_loss: 0.0555 - val_accuracy: 0.9785\n",
      "Epoch 31/90\n",
      "100000/100000 - 2s - loss: 0.0357 - accuracy: 0.9855 - val_loss: 0.0509 - val_accuracy: 0.9815\n",
      "Epoch 32/90\n",
      "100000/100000 - 2s - loss: 0.0364 - accuracy: 0.9852 - val_loss: 0.0575 - val_accuracy: 0.9779\n",
      "Epoch 33/90\n",
      "100000/100000 - 2s - loss: 0.0352 - accuracy: 0.9857 - val_loss: 0.0530 - val_accuracy: 0.9804\n",
      "Epoch 34/90\n",
      "100000/100000 - 2s - loss: 0.0334 - accuracy: 0.9865 - val_loss: 0.0517 - val_accuracy: 0.9806\n",
      "Epoch 35/90\n",
      "100000/100000 - 2s - loss: 0.0336 - accuracy: 0.9864 - val_loss: 0.0537 - val_accuracy: 0.9803\n",
      "Epoch 36/90\n",
      "100000/100000 - 2s - loss: 0.0329 - accuracy: 0.9868 - val_loss: 0.0500 - val_accuracy: 0.9817\n",
      "Epoch 37/90\n",
      "100000/100000 - 2s - loss: 0.0303 - accuracy: 0.9877 - val_loss: 0.0531 - val_accuracy: 0.9808\n",
      "Epoch 38/90\n",
      "100000/100000 - 2s - loss: 0.0326 - accuracy: 0.9868 - val_loss: 0.0507 - val_accuracy: 0.9812\n",
      "Epoch 39/90\n",
      "100000/100000 - 2s - loss: 0.0308 - accuracy: 0.9876 - val_loss: 0.0499 - val_accuracy: 0.9820\n",
      "Epoch 40/90\n",
      "100000/100000 - 2s - loss: 0.0301 - accuracy: 0.9878 - val_loss: 0.0521 - val_accuracy: 0.9811\n",
      "Epoch 41/90\n",
      "100000/100000 - 2s - loss: 0.0303 - accuracy: 0.9877 - val_loss: 0.0481 - val_accuracy: 0.9823\n",
      "Epoch 42/90\n",
      "100000/100000 - 2s - loss: 0.0303 - accuracy: 0.9878 - val_loss: 0.0548 - val_accuracy: 0.9806\n",
      "Epoch 43/90\n",
      "100000/100000 - 2s - loss: 0.0295 - accuracy: 0.9880 - val_loss: 0.0489 - val_accuracy: 0.9824\n",
      "Epoch 44/90\n",
      "100000/100000 - 2s - loss: 0.0269 - accuracy: 0.9891 - val_loss: 0.0501 - val_accuracy: 0.9820\n",
      "Epoch 45/90\n",
      "100000/100000 - 2s - loss: 0.0288 - accuracy: 0.9884 - val_loss: 0.0491 - val_accuracy: 0.9830\n",
      "Epoch 46/90\n",
      "100000/100000 - 2s - loss: 0.0296 - accuracy: 0.9881 - val_loss: 0.0524 - val_accuracy: 0.9815\n",
      "Epoch 47/90\n",
      "100000/100000 - 2s - loss: 0.0257 - accuracy: 0.9895 - val_loss: 0.0512 - val_accuracy: 0.9830\n",
      "Epoch 48/90\n",
      "100000/100000 - 2s - loss: 0.0264 - accuracy: 0.9893 - val_loss: 0.0580 - val_accuracy: 0.9811\n",
      "Epoch 49/90\n",
      "100000/100000 - 2s - loss: 0.0264 - accuracy: 0.9894 - val_loss: 0.0490 - val_accuracy: 0.9831\n",
      "Epoch 50/90\n",
      "100000/100000 - 2s - loss: 0.0253 - accuracy: 0.9898 - val_loss: 0.0554 - val_accuracy: 0.9816\n",
      "Epoch 51/90\n",
      "100000/100000 - 2s - loss: 0.0285 - accuracy: 0.9887 - val_loss: 0.0479 - val_accuracy: 0.9837\n",
      "Epoch 52/90\n",
      "100000/100000 - 2s - loss: 0.0239 - accuracy: 0.9902 - val_loss: 0.0508 - val_accuracy: 0.9832\n",
      "Epoch 53/90\n",
      "100000/100000 - 2s - loss: 0.0259 - accuracy: 0.9898 - val_loss: 0.0540 - val_accuracy: 0.9822\n",
      "Epoch 54/90\n",
      "100000/100000 - 2s - loss: 0.0255 - accuracy: 0.9898 - val_loss: 0.0502 - val_accuracy: 0.9830\n",
      "Epoch 55/90\n",
      "100000/100000 - 2s - loss: 0.0233 - accuracy: 0.9906 - val_loss: 0.0566 - val_accuracy: 0.9822\n",
      "Epoch 56/90\n",
      "100000/100000 - 2s - loss: 0.0242 - accuracy: 0.9904 - val_loss: 0.0527 - val_accuracy: 0.9834\n",
      "Epoch 57/90\n",
      "100000/100000 - 2s - loss: 0.0259 - accuracy: 0.9897 - val_loss: 0.0569 - val_accuracy: 0.9812\n",
      "Epoch 58/90\n",
      "100000/100000 - 2s - loss: 0.0226 - accuracy: 0.9909 - val_loss: 0.0536 - val_accuracy: 0.9830\n",
      "Epoch 59/90\n",
      "100000/100000 - 2s - loss: 0.0250 - accuracy: 0.9902 - val_loss: 0.0543 - val_accuracy: 0.9819\n",
      "Epoch 60/90\n",
      "100000/100000 - 2s - loss: 0.0231 - accuracy: 0.9909 - val_loss: 0.0513 - val_accuracy: 0.9832\n",
      "Epoch 61/90\n",
      "100000/100000 - 2s - loss: 0.0225 - accuracy: 0.9911 - val_loss: 0.0530 - val_accuracy: 0.9839\n",
      "Epoch 62/90\n",
      "100000/100000 - 2s - loss: 0.0226 - accuracy: 0.9911 - val_loss: 0.0488 - val_accuracy: 0.9840\n",
      "Epoch 63/90\n",
      "100000/100000 - 2s - loss: 0.0210 - accuracy: 0.9916 - val_loss: 0.0533 - val_accuracy: 0.9835\n",
      "Epoch 64/90\n",
      "100000/100000 - 2s - loss: 0.0211 - accuracy: 0.9916 - val_loss: 0.0541 - val_accuracy: 0.9840\n",
      "Epoch 65/90\n",
      "100000/100000 - 2s - loss: 0.0225 - accuracy: 0.9912 - val_loss: 0.0524 - val_accuracy: 0.9830\n",
      "Epoch 66/90\n",
      "100000/100000 - 2s - loss: 0.0213 - accuracy: 0.9916 - val_loss: 0.0558 - val_accuracy: 0.9829\n",
      "Epoch 67/90\n",
      "100000/100000 - 2s - loss: 0.0225 - accuracy: 0.9913 - val_loss: 0.0505 - val_accuracy: 0.9843\n",
      "Epoch 68/90\n",
      "100000/100000 - 2s - loss: 0.0208 - accuracy: 0.9918 - val_loss: 0.0561 - val_accuracy: 0.9838\n",
      "Epoch 69/90\n",
      "100000/100000 - 2s - loss: 0.0221 - accuracy: 0.9915 - val_loss: 0.0540 - val_accuracy: 0.9841\n",
      "Epoch 70/90\n",
      "100000/100000 - 2s - loss: 0.0198 - accuracy: 0.9921 - val_loss: 0.0535 - val_accuracy: 0.9846\n",
      "Epoch 71/90\n",
      "100000/100000 - 2s - loss: 0.0210 - accuracy: 0.9919 - val_loss: 0.0642 - val_accuracy: 0.9810\n",
      "Epoch 72/90\n",
      "100000/100000 - 2s - loss: 0.0205 - accuracy: 0.9920 - val_loss: 0.0619 - val_accuracy: 0.9824\n",
      "Epoch 73/90\n",
      "100000/100000 - 2s - loss: 0.0214 - accuracy: 0.9918 - val_loss: 0.0567 - val_accuracy: 0.9837\n",
      "Epoch 74/90\n",
      "100000/100000 - 2s - loss: 0.0192 - accuracy: 0.9926 - val_loss: 0.0597 - val_accuracy: 0.9834\n",
      "Epoch 75/90\n",
      "100000/100000 - 2s - loss: 0.0204 - accuracy: 0.9920 - val_loss: 0.0599 - val_accuracy: 0.9830\n",
      "Epoch 76/90\n",
      "100000/100000 - 2s - loss: 0.0195 - accuracy: 0.9925 - val_loss: 0.0571 - val_accuracy: 0.9835\n",
      "Epoch 77/90\n",
      "100000/100000 - 2s - loss: 0.0208 - accuracy: 0.9921 - val_loss: 0.0567 - val_accuracy: 0.9841\n"
     ]
    },
    {
     "name": "stdout",
     "output_type": "stream",
     "text": [
      "Epoch 78/90\n",
      "100000/100000 - 2s - loss: 0.0194 - accuracy: 0.9926 - val_loss: 0.0536 - val_accuracy: 0.9851\n",
      "Epoch 79/90\n",
      "100000/100000 - 2s - loss: 0.0185 - accuracy: 0.9929 - val_loss: 0.0590 - val_accuracy: 0.9840\n",
      "Epoch 80/90\n",
      "100000/100000 - 2s - loss: 0.0184 - accuracy: 0.9930 - val_loss: 0.0603 - val_accuracy: 0.9834\n",
      "Epoch 81/90\n",
      "100000/100000 - 2s - loss: 0.0188 - accuracy: 0.9929 - val_loss: 0.0656 - val_accuracy: 0.9832\n",
      "Epoch 82/90\n",
      "100000/100000 - 2s - loss: 0.0201 - accuracy: 0.9924 - val_loss: 0.0590 - val_accuracy: 0.9837\n",
      "Epoch 83/90\n",
      "100000/100000 - 2s - loss: 0.0178 - accuracy: 0.9932 - val_loss: 0.0559 - val_accuracy: 0.9850\n",
      "Epoch 84/90\n",
      "100000/100000 - 2s - loss: 0.0169 - accuracy: 0.9936 - val_loss: 0.0601 - val_accuracy: 0.9845\n",
      "Epoch 85/90\n",
      "100000/100000 - 2s - loss: 0.0181 - accuracy: 0.9933 - val_loss: 0.0659 - val_accuracy: 0.9831\n",
      "Epoch 86/90\n",
      "100000/100000 - 2s - loss: 0.0211 - accuracy: 0.9922 - val_loss: 0.0554 - val_accuracy: 0.9848\n",
      "Epoch 87/90\n",
      "100000/100000 - 2s - loss: 0.0154 - accuracy: 0.9941 - val_loss: 0.0571 - val_accuracy: 0.9851\n",
      "Epoch 88/90\n",
      "100000/100000 - 2s - loss: 0.0203 - accuracy: 0.9926 - val_loss: 0.0648 - val_accuracy: 0.9827\n",
      "Epoch 89/90\n",
      "100000/100000 - 2s - loss: 0.0178 - accuracy: 0.9933 - val_loss: 0.0595 - val_accuracy: 0.9850\n",
      "Epoch 90/90\n",
      "100000/100000 - 2s - loss: 0.0138 - accuracy: 0.9946 - val_loss: 0.0633 - val_accuracy: 0.9845\n"
     ]
    }
   ],
   "source": [
    "model = tf.keras.models.Sequential([\n",
    "    tf.keras.layers.Dense(150, input_shape = [24], activation = 'relu'),\n",
    "    #tf.keras.layers.Dense(200, activation = 'relu'),\n",
    "    tf.keras.layers.Dense(150, activation = 'relu'),\n",
    "    tf.keras.layers.Dense(150, activation = 'relu'),\n",
    "    tf.keras.layers.Dense(150, activation = 'relu'),\n",
    "    tf.keras.layers.Dense(12, activation = 'sigmoid')\n",
    "])\n",
    "adam = tf.keras.optimizers.Adam(lr = 0.005)\n",
    "model.compile(optimizer = adam, loss = 'binary_crossentropy', metrics = ['accuracy'])\n",
    "\n",
    "history = model.fit(x_train, y_train, batch_size = 1024, epochs = 90, verbose = 2, validation_data = (x_test, y_test))\n"
   ]
  },
  {
   "cell_type": "code",
   "execution_count": 6,
   "metadata": {},
   "outputs": [
    {
     "data": {
      "image/png": "[encoded data removed]",
      "text/plain": [
       "<Figure size 432x288 with 1 Axes>"
      ]
     },
     "metadata": {
      "needs_background": "light"
     },
     "output_type": "display_data"
    }
   ],
   "source": [
    "import matplotlib.pyplot as plt\n",
    "plt.figure()\n",
    "acc = history.history['accuracy']\n",
    "loss = history.history['loss']\n",
    "val_acc = history.history['val_accuracy']\n",
    "val_loss = history.history['val_loss']\n",
    "epochs = range(len(acc))\n",
    "plt.plot(epochs, acc, 'r', label = 'Training accuracy')\n",
    "plt.plot(epochs, val_acc, 'b', label = 'Validating accuracy')\n",
    "plt.title('Training and Validating Accuracy')\n",
    "#plt.title('Training Accuracy')\n",
    "plt.legend()\n",
    "plt.show()"
   ]
  },
  {
   "cell_type": "code",
   "execution_count": 8,
   "metadata": {},
   "outputs": [
    {
     "name": "stdout",
     "output_type": "stream",
     "text": [
      "5000/1 - 0s - loss: 0.0630 - accuracy: 0.9720\n"
     ]
    },
    {
     "data": {
      "text/plain": [
       "[0.04715186712741852, 0.9720002]"
      ]
     },
     "execution_count": 8,
     "metadata": {},
     "output_type": "execute_result"
    }
   ],
   "source": [
    "#model.evaluate(x_test, y_test, verbose = 2)"
   ]
  },
  {
   "cell_type": "code",
   "execution_count": 7,
   "metadata": {},
   "outputs": [],
   "source": [
    "model.save('C:\\\\Users\\\\Wilfred\\\\Desktop\\\\weights\\\\Better_of_Two\\\\Better_of_Two_4_6_11_3_model.h5')"
   ]
  },
  {
   "cell_type": "code",
   "execution_count": null,
   "metadata": {},
   "outputs": [],
   "source": []
  }
 ],
 "metadata": {
  "kernelspec": {
   "display_name": "Python 3",
   "language": "python",
   "name": "python3"
  },
  "language_info": {
   "codemirror_mode": {
    "name": "ipython",
    "version": 3
   },
   "file_extension": ".py",
   "mimetype": "text/x-python",
   "name": "python",
   "nbconvert_exporter": "python",
   "pygments_lexer": "ipython3",
   "version": "3.7.5"
  }
 },
 "nbformat": 4,
 "nbformat_minor": 2
}
