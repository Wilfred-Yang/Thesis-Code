{
 "cells": [
  {
   "cell_type": "code",
   "execution_count": 1,
   "metadata": {},
   "outputs": [],
   "source": [
    "import tensorflow as tf\n",
    "import numpy as np\n",
    "import pickle\n",
    "np.random.seed(7)"
   ]
  },
  {
   "cell_type": "code",
   "execution_count": 3,
   "metadata": {},
   "outputs": [
    {
     "name": "stdout",
     "output_type": "stream",
     "text": [
      "(105000, 24)\n"
     ]
    }
   ],
   "source": [
    "with open ('C:\\\\Users\\\\Wilfred\\\\Desktop\\\\better-of-two\\\\input_layer_4_6_9_2.pickle','rb') as file:\n",
    "    input_data = pickle.load(file)\n",
    "permutation = list(np.random.permutation(input_data.shape[0]))\n",
    "input_data = input_data[permutation,:]\n",
    "print(input_data.shape)\n",
    "x_train = input_data[:100000, :]\n",
    "x_test = input_data[100000:105000, :]\n"
   ]
  },
  {
   "cell_type": "code",
   "execution_count": 4,
   "metadata": {},
   "outputs": [
    {
     "name": "stdout",
     "output_type": "stream",
     "text": [
      "(105000, 12)\n",
      "(105000, 12)\n"
     ]
    }
   ],
   "source": [
    "with open ('C:\\\\Users\\\\Wilfred\\\\Desktop\\\\better-of-two\\\\output_layer_4_6_9_2.pickle','rb') as file:\n",
    "    output_data = pickle.load(file)\n",
    "print(output_data.shape)\n",
    "#output_data = np.transpose(output_data)\n",
    "output_data = output_data[permutation,:]\n",
    "y_train = output_data[:100000, :]\n",
    "y_test = output_data[100000:105000, :]\n",
    "print(output_data.shape)"
   ]
  },
  {
   "cell_type": "code",
   "execution_count": 5,
   "metadata": {},
   "outputs": [
    {
     "name": "stdout",
     "output_type": "stream",
     "text": [
      "Train on 100000 samples, validate on 5000 samples\n",
      "Epoch 1/100\n",
      "100000/100000 - 3s - loss: 0.3278 - accuracy: 0.8676 - val_loss: 0.2404 - val_accuracy: 0.9058\n",
      "Epoch 2/100\n",
      "100000/100000 - 2s - loss: 0.2223 - accuracy: 0.9101 - val_loss: 0.2111 - val_accuracy: 0.9134\n",
      "Epoch 3/100\n",
      "100000/100000 - 2s - loss: 0.2015 - accuracy: 0.9148 - val_loss: 0.1998 - val_accuracy: 0.9146\n",
      "Epoch 4/100\n",
      "100000/100000 - 2s - loss: 0.1890 - accuracy: 0.9179 - val_loss: 0.1883 - val_accuracy: 0.9183\n",
      "Epoch 5/100\n",
      "100000/100000 - 2s - loss: 0.1768 - accuracy: 0.9215 - val_loss: 0.1730 - val_accuracy: 0.9221\n",
      "Epoch 6/100\n",
      "100000/100000 - 2s - loss: 0.1608 - accuracy: 0.9260 - val_loss: 0.1592 - val_accuracy: 0.9265\n",
      "Epoch 7/100\n",
      "100000/100000 - 2s - loss: 0.1433 - accuracy: 0.9317 - val_loss: 0.1412 - val_accuracy: 0.9321\n",
      "Epoch 8/100\n",
      "100000/100000 - 2s - loss: 0.1297 - accuracy: 0.9377 - val_loss: 0.1274 - val_accuracy: 0.9393\n",
      "Epoch 9/100\n",
      "100000/100000 - 2s - loss: 0.1181 - accuracy: 0.9435 - val_loss: 0.1186 - val_accuracy: 0.9449\n",
      "Epoch 10/100\n",
      "100000/100000 - 2s - loss: 0.1088 - accuracy: 0.9488 - val_loss: 0.1111 - val_accuracy: 0.9487\n",
      "Epoch 11/100\n",
      "100000/100000 - 2s - loss: 0.1008 - accuracy: 0.9532 - val_loss: 0.1048 - val_accuracy: 0.9523\n",
      "Epoch 12/100\n",
      "100000/100000 - 2s - loss: 0.0933 - accuracy: 0.9573 - val_loss: 0.0959 - val_accuracy: 0.9565\n",
      "Epoch 13/100\n",
      "100000/100000 - 2s - loss: 0.0874 - accuracy: 0.9601 - val_loss: 0.0949 - val_accuracy: 0.9566\n",
      "Epoch 14/100\n",
      "100000/100000 - 2s - loss: 0.0814 - accuracy: 0.9633 - val_loss: 0.0901 - val_accuracy: 0.9587\n",
      "Epoch 15/100\n",
      "100000/100000 - 2s - loss: 0.0771 - accuracy: 0.9653 - val_loss: 0.0823 - val_accuracy: 0.9636\n",
      "Epoch 16/100\n",
      "100000/100000 - 2s - loss: 0.0726 - accuracy: 0.9674 - val_loss: 0.0804 - val_accuracy: 0.9643\n",
      "Epoch 17/100\n",
      "100000/100000 - 2s - loss: 0.0691 - accuracy: 0.9692 - val_loss: 0.0795 - val_accuracy: 0.9651\n",
      "Epoch 18/100\n",
      "100000/100000 - 2s - loss: 0.0657 - accuracy: 0.9707 - val_loss: 0.0748 - val_accuracy: 0.9670\n",
      "Epoch 19/100\n",
      "100000/100000 - 2s - loss: 0.0614 - accuracy: 0.9729 - val_loss: 0.0714 - val_accuracy: 0.9686\n",
      "Epoch 20/100\n",
      "100000/100000 - 2s - loss: 0.0607 - accuracy: 0.9729 - val_loss: 0.0753 - val_accuracy: 0.9662\n",
      "Epoch 21/100\n",
      "100000/100000 - 2s - loss: 0.0575 - accuracy: 0.9746 - val_loss: 0.0683 - val_accuracy: 0.9702\n",
      "Epoch 22/100\n",
      "100000/100000 - 2s - loss: 0.0556 - accuracy: 0.9752 - val_loss: 0.0665 - val_accuracy: 0.9710\n",
      "Epoch 23/100\n",
      "100000/100000 - 2s - loss: 0.0527 - accuracy: 0.9767 - val_loss: 0.0636 - val_accuracy: 0.9718\n",
      "Epoch 24/100\n",
      "100000/100000 - 2s - loss: 0.0504 - accuracy: 0.9777 - val_loss: 0.0636 - val_accuracy: 0.9717\n",
      "Epoch 25/100\n",
      "100000/100000 - 2s - loss: 0.0493 - accuracy: 0.9782 - val_loss: 0.0627 - val_accuracy: 0.9728\n",
      "Epoch 26/100\n",
      "100000/100000 - 2s - loss: 0.0480 - accuracy: 0.9787 - val_loss: 0.0587 - val_accuracy: 0.9740\n",
      "Epoch 27/100\n",
      "100000/100000 - 2s - loss: 0.0451 - accuracy: 0.9800 - val_loss: 0.0608 - val_accuracy: 0.9732\n",
      "Epoch 28/100\n",
      "100000/100000 - 2s - loss: 0.0457 - accuracy: 0.9797 - val_loss: 0.0572 - val_accuracy: 0.9752\n",
      "Epoch 29/100\n",
      "100000/100000 - 2s - loss: 0.0426 - accuracy: 0.9811 - val_loss: 0.0568 - val_accuracy: 0.9760\n",
      "Epoch 30/100\n",
      "100000/100000 - 2s - loss: 0.0424 - accuracy: 0.9811 - val_loss: 0.0564 - val_accuracy: 0.9753\n",
      "Epoch 31/100\n",
      "100000/100000 - 2s - loss: 0.0406 - accuracy: 0.9820 - val_loss: 0.0542 - val_accuracy: 0.9761\n",
      "Epoch 32/100\n",
      "100000/100000 - 2s - loss: 0.0395 - accuracy: 0.9824 - val_loss: 0.0536 - val_accuracy: 0.9765\n",
      "Epoch 33/100\n",
      "100000/100000 - 2s - loss: 0.0384 - accuracy: 0.9830 - val_loss: 0.0546 - val_accuracy: 0.9766\n",
      "Epoch 34/100\n",
      "100000/100000 - 2s - loss: 0.0370 - accuracy: 0.9835 - val_loss: 0.0522 - val_accuracy: 0.9774\n",
      "Epoch 35/100\n",
      "100000/100000 - 2s - loss: 0.0360 - accuracy: 0.9840 - val_loss: 0.0508 - val_accuracy: 0.9773\n",
      "Epoch 36/100\n",
      "100000/100000 - 2s - loss: 0.0359 - accuracy: 0.9840 - val_loss: 0.0513 - val_accuracy: 0.9776\n",
      "Epoch 37/100\n",
      "100000/100000 - 2s - loss: 0.0356 - accuracy: 0.9841 - val_loss: 0.0541 - val_accuracy: 0.9766\n",
      "Epoch 38/100\n",
      "100000/100000 - 2s - loss: 0.0338 - accuracy: 0.9851 - val_loss: 0.0482 - val_accuracy: 0.9791\n",
      "Epoch 39/100\n",
      "100000/100000 - 2s - loss: 0.0323 - accuracy: 0.9856 - val_loss: 0.0523 - val_accuracy: 0.9779\n",
      "Epoch 40/100\n",
      "100000/100000 - 2s - loss: 0.0329 - accuracy: 0.9854 - val_loss: 0.0509 - val_accuracy: 0.9785\n",
      "Epoch 41/100\n",
      "100000/100000 - 2s - loss: 0.0322 - accuracy: 0.9856 - val_loss: 0.0510 - val_accuracy: 0.9782\n",
      "Epoch 42/100\n",
      "100000/100000 - 2s - loss: 0.0316 - accuracy: 0.9860 - val_loss: 0.0472 - val_accuracy: 0.9798\n",
      "Epoch 43/100\n",
      "100000/100000 - 2s - loss: 0.0305 - accuracy: 0.9864 - val_loss: 0.0488 - val_accuracy: 0.9800\n",
      "Epoch 44/100\n",
      "100000/100000 - 2s - loss: 0.0303 - accuracy: 0.9865 - val_loss: 0.0459 - val_accuracy: 0.9804\n",
      "Epoch 45/100\n",
      "100000/100000 - 2s - loss: 0.0293 - accuracy: 0.9869 - val_loss: 0.0482 - val_accuracy: 0.9795\n",
      "Epoch 46/100\n",
      "100000/100000 - 2s - loss: 0.0288 - accuracy: 0.9871 - val_loss: 0.0486 - val_accuracy: 0.9790\n",
      "Epoch 47/100\n",
      "100000/100000 - 2s - loss: 0.0271 - accuracy: 0.9882 - val_loss: 0.0463 - val_accuracy: 0.9813\n",
      "Epoch 48/100\n",
      "100000/100000 - 2s - loss: 0.0271 - accuracy: 0.9880 - val_loss: 0.0470 - val_accuracy: 0.9807\n",
      "Epoch 49/100\n",
      "100000/100000 - 2s - loss: 0.0266 - accuracy: 0.9882 - val_loss: 0.0464 - val_accuracy: 0.9812\n",
      "Epoch 50/100\n",
      "100000/100000 - 2s - loss: 0.0264 - accuracy: 0.9883 - val_loss: 0.0497 - val_accuracy: 0.9799\n",
      "Epoch 51/100\n",
      "100000/100000 - 2s - loss: 0.0265 - accuracy: 0.9882 - val_loss: 0.0459 - val_accuracy: 0.9811\n",
      "Epoch 52/100\n",
      "100000/100000 - 2s - loss: 0.0267 - accuracy: 0.9882 - val_loss: 0.0449 - val_accuracy: 0.9811\n",
      "Epoch 53/100\n",
      "100000/100000 - 2s - loss: 0.0254 - accuracy: 0.9888 - val_loss: 0.0439 - val_accuracy: 0.9824\n",
      "Epoch 54/100\n",
      "100000/100000 - 2s - loss: 0.0243 - accuracy: 0.9894 - val_loss: 0.0447 - val_accuracy: 0.9817\n",
      "Epoch 55/100\n",
      "100000/100000 - 2s - loss: 0.0239 - accuracy: 0.9894 - val_loss: 0.0443 - val_accuracy: 0.9825\n",
      "Epoch 56/100\n",
      "100000/100000 - 2s - loss: 0.0239 - accuracy: 0.9895 - val_loss: 0.0453 - val_accuracy: 0.9815\n",
      "Epoch 57/100\n",
      "100000/100000 - 2s - loss: 0.0236 - accuracy: 0.9897 - val_loss: 0.0464 - val_accuracy: 0.9817\n",
      "Epoch 58/100\n",
      "100000/100000 - 2s - loss: 0.0230 - accuracy: 0.9899 - val_loss: 0.0467 - val_accuracy: 0.9825\n",
      "Epoch 59/100\n",
      "100000/100000 - 2s - loss: 0.0233 - accuracy: 0.9898 - val_loss: 0.0460 - val_accuracy: 0.9827\n",
      "Epoch 60/100\n",
      "100000/100000 - 2s - loss: 0.0237 - accuracy: 0.9896 - val_loss: 0.0498 - val_accuracy: 0.9811\n",
      "Epoch 61/100\n",
      "100000/100000 - 2s - loss: 0.0223 - accuracy: 0.9902 - val_loss: 0.0459 - val_accuracy: 0.9826\n",
      "Epoch 62/100\n",
      "100000/100000 - 2s - loss: 0.0221 - accuracy: 0.9904 - val_loss: 0.0485 - val_accuracy: 0.9819\n",
      "Epoch 63/100\n",
      "100000/100000 - 2s - loss: 0.0237 - accuracy: 0.9897 - val_loss: 0.0485 - val_accuracy: 0.9815\n",
      "Epoch 64/100\n",
      "100000/100000 - 2s - loss: 0.0227 - accuracy: 0.9902 - val_loss: 0.0470 - val_accuracy: 0.9819\n",
      "Epoch 65/100\n",
      "100000/100000 - 2s - loss: 0.0212 - accuracy: 0.9908 - val_loss: 0.0472 - val_accuracy: 0.9828\n",
      "Epoch 66/100\n",
      "100000/100000 - 2s - loss: 0.0203 - accuracy: 0.9912 - val_loss: 0.0459 - val_accuracy: 0.9824\n",
      "Epoch 67/100\n",
      "100000/100000 - 2s - loss: 0.0207 - accuracy: 0.9911 - val_loss: 0.0462 - val_accuracy: 0.9828\n",
      "Epoch 68/100\n",
      "100000/100000 - 2s - loss: 0.0208 - accuracy: 0.9909 - val_loss: 0.0487 - val_accuracy: 0.9824\n",
      "Epoch 69/100\n",
      "100000/100000 - 2s - loss: 0.0200 - accuracy: 0.9914 - val_loss: 0.0475 - val_accuracy: 0.9823\n",
      "Epoch 70/100\n",
      "100000/100000 - 2s - loss: 0.0200 - accuracy: 0.9914 - val_loss: 0.0484 - val_accuracy: 0.9826\n",
      "Epoch 71/100\n",
      "100000/100000 - 2s - loss: 0.0200 - accuracy: 0.9914 - val_loss: 0.0479 - val_accuracy: 0.9829\n",
      "Epoch 72/100\n",
      "100000/100000 - 2s - loss: 0.0211 - accuracy: 0.9910 - val_loss: 0.0515 - val_accuracy: 0.9811\n",
      "Epoch 73/100\n",
      "100000/100000 - 2s - loss: 0.0202 - accuracy: 0.9914 - val_loss: 0.0487 - val_accuracy: 0.9832\n",
      "Epoch 74/100\n",
      "100000/100000 - 2s - loss: 0.0193 - accuracy: 0.9917 - val_loss: 0.0484 - val_accuracy: 0.9829\n",
      "Epoch 75/100\n",
      "100000/100000 - 2s - loss: 0.0202 - accuracy: 0.9914 - val_loss: 0.0468 - val_accuracy: 0.9834\n",
      "Epoch 76/100\n",
      "100000/100000 - 2s - loss: 0.0188 - accuracy: 0.9921 - val_loss: 0.0472 - val_accuracy: 0.9834\n"
     ]
    },
    {
     "name": "stdout",
     "output_type": "stream",
     "text": [
      "Epoch 77/100\n",
      "100000/100000 - 2s - loss: 0.0191 - accuracy: 0.9918 - val_loss: 0.0487 - val_accuracy: 0.9831\n",
      "Epoch 78/100\n",
      "100000/100000 - 2s - loss: 0.0179 - accuracy: 0.9923 - val_loss: 0.0480 - val_accuracy: 0.9831\n",
      "Epoch 79/100\n",
      "100000/100000 - 2s - loss: 0.0180 - accuracy: 0.9924 - val_loss: 0.0491 - val_accuracy: 0.9833\n",
      "Epoch 80/100\n",
      "100000/100000 - 2s - loss: 0.0180 - accuracy: 0.9924 - val_loss: 0.0516 - val_accuracy: 0.9835\n",
      "Epoch 81/100\n",
      "100000/100000 - 2s - loss: 0.0184 - accuracy: 0.9922 - val_loss: 0.0494 - val_accuracy: 0.9831\n",
      "Epoch 82/100\n",
      "100000/100000 - 2s - loss: 0.0193 - accuracy: 0.9918 - val_loss: 0.0505 - val_accuracy: 0.9829\n",
      "Epoch 83/100\n",
      "100000/100000 - 2s - loss: 0.0204 - accuracy: 0.9915 - val_loss: 0.0521 - val_accuracy: 0.9824\n",
      "Epoch 84/100\n",
      "100000/100000 - 2s - loss: 0.0199 - accuracy: 0.9916 - val_loss: 0.0506 - val_accuracy: 0.9828\n",
      "Epoch 85/100\n",
      "100000/100000 - 2s - loss: 0.0170 - accuracy: 0.9928 - val_loss: 0.0501 - val_accuracy: 0.9833\n",
      "Epoch 86/100\n",
      "100000/100000 - 2s - loss: 0.0164 - accuracy: 0.9931 - val_loss: 0.0497 - val_accuracy: 0.9835\n",
      "Epoch 87/100\n",
      "100000/100000 - 2s - loss: 0.0157 - accuracy: 0.9934 - val_loss: 0.0500 - val_accuracy: 0.9835\n",
      "Epoch 88/100\n",
      "100000/100000 - 2s - loss: 0.0174 - accuracy: 0.9927 - val_loss: 0.0531 - val_accuracy: 0.9833\n",
      "Epoch 89/100\n",
      "100000/100000 - 2s - loss: 0.0169 - accuracy: 0.9930 - val_loss: 0.0532 - val_accuracy: 0.9832\n",
      "Epoch 90/100\n",
      "100000/100000 - 2s - loss: 0.0170 - accuracy: 0.9929 - val_loss: 0.0498 - val_accuracy: 0.9838\n",
      "Epoch 91/100\n",
      "100000/100000 - 2s - loss: 0.0160 - accuracy: 0.9933 - val_loss: 0.0518 - val_accuracy: 0.9838\n",
      "Epoch 92/100\n",
      "100000/100000 - 2s - loss: 0.0163 - accuracy: 0.9932 - val_loss: 0.0523 - val_accuracy: 0.9838\n",
      "Epoch 93/100\n",
      "100000/100000 - 2s - loss: 0.0159 - accuracy: 0.9934 - val_loss: 0.0549 - val_accuracy: 0.9825\n",
      "Epoch 94/100\n",
      "100000/100000 - 2s - loss: 0.0151 - accuracy: 0.9938 - val_loss: 0.0552 - val_accuracy: 0.9830\n",
      "Epoch 95/100\n",
      "100000/100000 - 2s - loss: 0.0167 - accuracy: 0.9931 - val_loss: 0.0533 - val_accuracy: 0.9836\n",
      "Epoch 96/100\n",
      "100000/100000 - 2s - loss: 0.0169 - accuracy: 0.9930 - val_loss: 0.0530 - val_accuracy: 0.9830\n",
      "Epoch 97/100\n",
      "100000/100000 - 2s - loss: 0.0173 - accuracy: 0.9929 - val_loss: 0.0566 - val_accuracy: 0.9827\n",
      "Epoch 98/100\n",
      "100000/100000 - 2s - loss: 0.0158 - accuracy: 0.9935 - val_loss: 0.0538 - val_accuracy: 0.9834\n",
      "Epoch 99/100\n",
      "100000/100000 - 2s - loss: 0.0151 - accuracy: 0.9938 - val_loss: 0.0573 - val_accuracy: 0.9830\n",
      "Epoch 100/100\n",
      "100000/100000 - 2s - loss: 0.0149 - accuracy: 0.9939 - val_loss: 0.0575 - val_accuracy: 0.9834\n"
     ]
    }
   ],
   "source": [
    "model = tf.keras.models.Sequential([\n",
    "    tf.keras.layers.Dense(200, input_shape = [24], activation = 'relu'),\n",
    "    #tf.keras.layers.Dense(200, activation = 'relu'),\n",
    "    #tf.keras.layers.Dense(250, activation = 'relu'),\n",
    "    tf.keras.layers.Dense(200, activation = 'relu'),\n",
    "    tf.keras.layers.Dense(200, activation = 'relu'),\n",
    "    tf.keras.layers.Dense(12, activation = 'sigmoid')\n",
    "])\n",
    "adam = tf.keras.optimizers.Adam(lr = 0.0035)\n",
    "model.compile(optimizer = adam, loss = 'binary_crossentropy', metrics = ['accuracy'])\n",
    "\n",
    "history = model.fit(x_train, y_train, batch_size = 1024, epochs = 100, verbose = 2, validation_data = (x_test, y_test))\n"
   ]
  },
  {
   "cell_type": "code",
   "execution_count": 7,
   "metadata": {},
   "outputs": [
    {
     "data": {
      "image/png": "[encoded data removed]",
      "text/plain": [
       "<Figure size 432x288 with 1 Axes>"
      ]
     },
     "metadata": {
      "needs_background": "light"
     },
     "output_type": "display_data"
    }
   ],
   "source": [
    "import matplotlib.pyplot as plt\n",
    "plt.figure()\n",
    "acc = history.history['accuracy']\n",
    "loss = history.history['loss']\n",
    "val_acc = history.history['val_accuracy']\n",
    "val_loss = history.history['val_loss']\n",
    "epochs = range(len(acc))\n",
    "plt.plot(epochs, acc, 'r', label = 'Training accuracy')\n",
    "plt.plot(epochs, val_acc, 'b', label = 'Validating accuracy')\n",
    "plt.title('Training and Validating Accuracy')\n",
    "#plt.title('Training Accuracy')\n",
    "plt.legend()\n",
    "plt.show()"
   ]
  },
  {
   "cell_type": "code",
   "execution_count": 8,
   "metadata": {},
   "outputs": [
    {
     "name": "stdout",
     "output_type": "stream",
     "text": [
      "5000/1 - 0s - loss: 0.0630 - accuracy: 0.9720\n"
     ]
    },
    {
     "data": {
      "text/plain": [
       "[0.04715186712741852, 0.9720002]"
      ]
     },
     "execution_count": 8,
     "metadata": {},
     "output_type": "execute_result"
    }
   ],
   "source": [
    "#model.evaluate(x_test, y_test, verbose = 2)"
   ]
  },
  {
   "cell_type": "code",
   "execution_count": 8,
   "metadata": {},
   "outputs": [],
   "source": [
    "model.save('C:\\\\Users\\\\Wilfred\\\\Desktop\\\\weights\\\\Better_of_Two\\\\Better_of_Two_4_6_9_2_model.h5')"
   ]
  },
  {
   "cell_type": "code",
   "execution_count": null,
   "metadata": {},
   "outputs": [],
   "source": []
  }
 ],
 "metadata": {
  "kernelspec": {
   "display_name": "Python 3",
   "language": "python",
   "name": "python3"
  },
  "language_info": {
   "codemirror_mode": {
    "name": "ipython",
    "version": 3
   },
   "file_extension": ".py",
   "mimetype": "text/x-python",
   "name": "python",
   "nbconvert_exporter": "python",
   "pygments_lexer": "ipython3",
   "version": "3.7.5"
  }
 },
 "nbformat": 4,
 "nbformat_minor": 2
}
