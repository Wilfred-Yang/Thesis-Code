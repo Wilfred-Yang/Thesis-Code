{
 "cells": [
  {
   "cell_type": "code",
   "execution_count": 1,
   "metadata": {},
   "outputs": [],
   "source": [
    "import tensorflow as tf\n",
    "import numpy as np\n",
    "import pickle\n",
    "np.random.seed(7)"
   ]
  },
  {
   "cell_type": "code",
   "execution_count": 2,
   "metadata": {},
   "outputs": [
    {
     "name": "stdout",
     "output_type": "stream",
     "text": [
      "(105000, 24)\n"
     ]
    }
   ],
   "source": [
    "with open ('C:\\\\Users\\\\Wilfred\\\\Desktop\\\\better-of-two\\\\input_layer_4_6_10_2.pickle','rb') as file:\n",
    "    input_data = pickle.load(file)\n",
    "permutation = list(np.random.permutation(input_data.shape[0]))\n",
    "input_data = input_data[permutation,:]\n",
    "print(input_data.shape)\n",
    "x_train = input_data[:100000, :]\n",
    "x_test = input_data[100000:105000, :]\n"
   ]
  },
  {
   "cell_type": "code",
   "execution_count": 3,
   "metadata": {},
   "outputs": [
    {
     "name": "stdout",
     "output_type": "stream",
     "text": [
      "(105000, 12)\n",
      "(105000, 12)\n"
     ]
    }
   ],
   "source": [
    "with open ('C:\\\\Users\\\\Wilfred\\\\Desktop\\\\better-of-two\\\\output_layer_4_6_10_2.pickle','rb') as file:\n",
    "    output_data = pickle.load(file)\n",
    "print(output_data.shape)\n",
    "#output_data = np.transpose(output_data)\n",
    "output_data = output_data[permutation,:]\n",
    "y_train = output_data[:100000, :]\n",
    "y_test = output_data[100000:105000, :]\n",
    "print(output_data.shape)"
   ]
  },
  {
   "cell_type": "code",
   "execution_count": 4,
   "metadata": {},
   "outputs": [
    {
     "name": "stdout",
     "output_type": "stream",
     "text": [
      "Train on 100000 samples, validate on 5000 samples\n",
      "Epoch 1/100\n",
      "100000/100000 - 3s - loss: 0.3519 - accuracy: 0.8580 - val_loss: 0.2564 - val_accuracy: 0.8968\n",
      "Epoch 2/100\n",
      "100000/100000 - 2s - loss: 0.2307 - accuracy: 0.9063 - val_loss: 0.2204 - val_accuracy: 0.9101\n",
      "Epoch 3/100\n",
      "100000/100000 - 2s - loss: 0.2093 - accuracy: 0.9129 - val_loss: 0.2096 - val_accuracy: 0.9125\n",
      "Epoch 4/100\n",
      "100000/100000 - 2s - loss: 0.2008 - accuracy: 0.9147 - val_loss: 0.2002 - val_accuracy: 0.9149\n",
      "Epoch 5/100\n",
      "100000/100000 - 2s - loss: 0.1894 - accuracy: 0.9184 - val_loss: 0.1863 - val_accuracy: 0.9206\n",
      "Epoch 6/100\n",
      "100000/100000 - 2s - loss: 0.1742 - accuracy: 0.9243 - val_loss: 0.1688 - val_accuracy: 0.9259\n",
      "Epoch 7/100\n",
      "100000/100000 - 2s - loss: 0.1519 - accuracy: 0.9306 - val_loss: 0.1435 - val_accuracy: 0.9336\n",
      "Epoch 8/100\n",
      "100000/100000 - 2s - loss: 0.1316 - accuracy: 0.9376 - val_loss: 0.1287 - val_accuracy: 0.9396\n",
      "Epoch 9/100\n",
      "100000/100000 - 2s - loss: 0.1176 - accuracy: 0.9445 - val_loss: 0.1185 - val_accuracy: 0.9438\n",
      "Epoch 10/100\n",
      "100000/100000 - 2s - loss: 0.1066 - accuracy: 0.9501 - val_loss: 0.1109 - val_accuracy: 0.9489\n",
      "Epoch 11/100\n",
      "100000/100000 - 2s - loss: 0.0996 - accuracy: 0.9540 - val_loss: 0.1013 - val_accuracy: 0.9534\n",
      "Epoch 12/100\n",
      "100000/100000 - 2s - loss: 0.0895 - accuracy: 0.9594 - val_loss: 0.0933 - val_accuracy: 0.9586\n",
      "Epoch 13/100\n",
      "100000/100000 - 2s - loss: 0.0838 - accuracy: 0.9623 - val_loss: 0.0924 - val_accuracy: 0.9597\n",
      "Epoch 14/100\n",
      "100000/100000 - 2s - loss: 0.0790 - accuracy: 0.9649 - val_loss: 0.0795 - val_accuracy: 0.9646\n",
      "Epoch 15/100\n",
      "100000/100000 - 2s - loss: 0.0700 - accuracy: 0.9695 - val_loss: 0.0792 - val_accuracy: 0.9652\n",
      "Epoch 16/100\n",
      "100000/100000 - 2s - loss: 0.0652 - accuracy: 0.9719 - val_loss: 0.0721 - val_accuracy: 0.9691\n",
      "Epoch 17/100\n",
      "100000/100000 - 2s - loss: 0.0621 - accuracy: 0.9733 - val_loss: 0.0641 - val_accuracy: 0.9731\n",
      "Epoch 18/100\n",
      "100000/100000 - 2s - loss: 0.0567 - accuracy: 0.9759 - val_loss: 0.0667 - val_accuracy: 0.9722\n",
      "Epoch 19/100\n",
      "100000/100000 - 2s - loss: 0.0531 - accuracy: 0.9774 - val_loss: 0.0681 - val_accuracy: 0.9712\n",
      "Epoch 20/100\n",
      "100000/100000 - 2s - loss: 0.0509 - accuracy: 0.9785 - val_loss: 0.0585 - val_accuracy: 0.9754\n",
      "Epoch 21/100\n",
      "100000/100000 - 2s - loss: 0.0479 - accuracy: 0.9799 - val_loss: 0.0604 - val_accuracy: 0.9753\n",
      "Epoch 22/100\n",
      "100000/100000 - 2s - loss: 0.0462 - accuracy: 0.9804 - val_loss: 0.0563 - val_accuracy: 0.9768\n",
      "Epoch 23/100\n",
      "100000/100000 - 2s - loss: 0.0428 - accuracy: 0.9819 - val_loss: 0.0504 - val_accuracy: 0.9796\n",
      "Epoch 24/100\n",
      "100000/100000 - 2s - loss: 0.0416 - accuracy: 0.9825 - val_loss: 0.0614 - val_accuracy: 0.9759\n",
      "Epoch 25/100\n",
      "100000/100000 - 2s - loss: 0.0414 - accuracy: 0.9826 - val_loss: 0.0509 - val_accuracy: 0.9790\n",
      "Epoch 26/100\n",
      "100000/100000 - 2s - loss: 0.0405 - accuracy: 0.9829 - val_loss: 0.0432 - val_accuracy: 0.9827\n",
      "Epoch 27/100\n",
      "100000/100000 - 2s - loss: 0.0352 - accuracy: 0.9850 - val_loss: 0.0450 - val_accuracy: 0.9816\n",
      "Epoch 28/100\n",
      "100000/100000 - 2s - loss: 0.0333 - accuracy: 0.9858 - val_loss: 0.0462 - val_accuracy: 0.9817\n",
      "Epoch 29/100\n",
      "100000/100000 - 2s - loss: 0.0335 - accuracy: 0.9858 - val_loss: 0.0442 - val_accuracy: 0.9824\n",
      "Epoch 30/100\n",
      "100000/100000 - 2s - loss: 0.0331 - accuracy: 0.9859 - val_loss: 0.0467 - val_accuracy: 0.9809\n",
      "Epoch 31/100\n",
      "100000/100000 - 2s - loss: 0.0331 - accuracy: 0.9858 - val_loss: 0.0402 - val_accuracy: 0.9837\n",
      "Epoch 32/100\n",
      "100000/100000 - 2s - loss: 0.0334 - accuracy: 0.9858 - val_loss: 0.0497 - val_accuracy: 0.9804\n",
      "Epoch 33/100\n",
      "100000/100000 - 2s - loss: 0.0322 - accuracy: 0.9863 - val_loss: 0.0380 - val_accuracy: 0.9842\n",
      "Epoch 34/100\n",
      "100000/100000 - 2s - loss: 0.0286 - accuracy: 0.9877 - val_loss: 0.0471 - val_accuracy: 0.9814\n",
      "Epoch 35/100\n",
      "100000/100000 - 2s - loss: 0.0304 - accuracy: 0.9870 - val_loss: 0.0381 - val_accuracy: 0.9843\n",
      "Epoch 36/100\n",
      "100000/100000 - 2s - loss: 0.0287 - accuracy: 0.9877 - val_loss: 0.0406 - val_accuracy: 0.9838\n",
      "Epoch 37/100\n",
      "100000/100000 - 2s - loss: 0.0288 - accuracy: 0.9877 - val_loss: 0.0420 - val_accuracy: 0.9830\n",
      "Epoch 38/100\n",
      "100000/100000 - 2s - loss: 0.0266 - accuracy: 0.9886 - val_loss: 0.0385 - val_accuracy: 0.9843\n",
      "Epoch 39/100\n",
      "100000/100000 - 2s - loss: 0.0297 - accuracy: 0.9875 - val_loss: 0.0418 - val_accuracy: 0.9836\n",
      "Epoch 40/100\n",
      "100000/100000 - 2s - loss: 0.0265 - accuracy: 0.9886 - val_loss: 0.0387 - val_accuracy: 0.9847\n",
      "Epoch 41/100\n",
      "100000/100000 - 2s - loss: 0.0261 - accuracy: 0.9888 - val_loss: 0.0399 - val_accuracy: 0.9843\n",
      "Epoch 42/100\n",
      "100000/100000 - 2s - loss: 0.0271 - accuracy: 0.9885 - val_loss: 0.0408 - val_accuracy: 0.9841\n",
      "Epoch 43/100\n",
      "100000/100000 - 2s - loss: 0.0277 - accuracy: 0.9882 - val_loss: 0.0387 - val_accuracy: 0.9847\n",
      "Epoch 44/100\n",
      "100000/100000 - 2s - loss: 0.0269 - accuracy: 0.9885 - val_loss: 0.0430 - val_accuracy: 0.9833\n",
      "Epoch 45/100\n",
      "100000/100000 - 2s - loss: 0.0253 - accuracy: 0.9893 - val_loss: 0.0365 - val_accuracy: 0.9858\n",
      "Epoch 46/100\n",
      "100000/100000 - 2s - loss: 0.0246 - accuracy: 0.9894 - val_loss: 0.0382 - val_accuracy: 0.9856\n",
      "Epoch 47/100\n",
      "100000/100000 - 2s - loss: 0.0218 - accuracy: 0.9905 - val_loss: 0.0422 - val_accuracy: 0.9849\n",
      "Epoch 48/100\n",
      "100000/100000 - 2s - loss: 0.0252 - accuracy: 0.9894 - val_loss: 0.0396 - val_accuracy: 0.9857\n",
      "Epoch 49/100\n",
      "100000/100000 - 2s - loss: 0.0235 - accuracy: 0.9900 - val_loss: 0.0385 - val_accuracy: 0.9857\n",
      "Epoch 50/100\n",
      "100000/100000 - 2s - loss: 0.0220 - accuracy: 0.9906 - val_loss: 0.0386 - val_accuracy: 0.9861\n",
      "Epoch 51/100\n",
      "100000/100000 - 2s - loss: 0.0286 - accuracy: 0.9882 - val_loss: 0.0406 - val_accuracy: 0.9846\n",
      "Epoch 52/100\n",
      "100000/100000 - 2s - loss: 0.0222 - accuracy: 0.9904 - val_loss: 0.0368 - val_accuracy: 0.9851\n",
      "Epoch 53/100\n",
      "100000/100000 - 2s - loss: 0.0234 - accuracy: 0.9901 - val_loss: 0.0409 - val_accuracy: 0.9847\n",
      "Epoch 54/100\n",
      "100000/100000 - 2s - loss: 0.0240 - accuracy: 0.9899 - val_loss: 0.0479 - val_accuracy: 0.9834\n",
      "Epoch 55/100\n",
      "100000/100000 - 2s - loss: 0.0257 - accuracy: 0.9894 - val_loss: 0.0446 - val_accuracy: 0.9836\n",
      "Epoch 56/100\n",
      "100000/100000 - 2s - loss: 0.0226 - accuracy: 0.9904 - val_loss: 0.0390 - val_accuracy: 0.9855\n",
      "Epoch 57/100\n",
      "100000/100000 - 2s - loss: 0.0218 - accuracy: 0.9908 - val_loss: 0.0393 - val_accuracy: 0.9853\n",
      "Epoch 58/100\n",
      "100000/100000 - 2s - loss: 0.0200 - accuracy: 0.9915 - val_loss: 0.0348 - val_accuracy: 0.9873\n",
      "Epoch 59/100\n",
      "100000/100000 - 2s - loss: 0.0208 - accuracy: 0.9912 - val_loss: 0.0450 - val_accuracy: 0.9848\n",
      "Epoch 60/100\n",
      "100000/100000 - 2s - loss: 0.0285 - accuracy: 0.9886 - val_loss: 0.0376 - val_accuracy: 0.9860\n",
      "Epoch 61/100\n",
      "100000/100000 - 2s - loss: 0.0188 - accuracy: 0.9919 - val_loss: 0.0354 - val_accuracy: 0.9873\n",
      "Epoch 62/100\n",
      "100000/100000 - 2s - loss: 0.0181 - accuracy: 0.9922 - val_loss: 0.0386 - val_accuracy: 0.9862\n",
      "Epoch 63/100\n",
      "100000/100000 - 2s - loss: 0.0243 - accuracy: 0.9902 - val_loss: 0.0468 - val_accuracy: 0.9837\n",
      "Epoch 64/100\n",
      "100000/100000 - 2s - loss: 0.0242 - accuracy: 0.9902 - val_loss: 0.0426 - val_accuracy: 0.9853\n",
      "Epoch 65/100\n",
      "100000/100000 - 2s - loss: 0.0193 - accuracy: 0.9919 - val_loss: 0.0363 - val_accuracy: 0.9870\n",
      "Epoch 66/100\n",
      "100000/100000 - 2s - loss: 0.0177 - accuracy: 0.9924 - val_loss: 0.0383 - val_accuracy: 0.9869\n",
      "Epoch 67/100\n",
      "100000/100000 - 2s - loss: 0.0198 - accuracy: 0.9918 - val_loss: 0.0404 - val_accuracy: 0.9858\n",
      "Epoch 68/100\n",
      "100000/100000 - 2s - loss: 0.0215 - accuracy: 0.9913 - val_loss: 0.0420 - val_accuracy: 0.9848\n",
      "Epoch 69/100\n",
      "100000/100000 - 2s - loss: 0.0205 - accuracy: 0.9916 - val_loss: 0.0422 - val_accuracy: 0.9862\n",
      "Epoch 70/100\n",
      "100000/100000 - 2s - loss: 0.0184 - accuracy: 0.9923 - val_loss: 0.0436 - val_accuracy: 0.9856\n",
      "Epoch 71/100\n",
      "100000/100000 - 2s - loss: 0.0202 - accuracy: 0.9917 - val_loss: 0.0460 - val_accuracy: 0.9850\n",
      "Epoch 72/100\n",
      "100000/100000 - 2s - loss: 0.0211 - accuracy: 0.9915 - val_loss: 0.0395 - val_accuracy: 0.9863\n",
      "Epoch 73/100\n",
      "100000/100000 - 2s - loss: 0.0190 - accuracy: 0.9921 - val_loss: 0.0410 - val_accuracy: 0.9862\n",
      "Epoch 74/100\n",
      "100000/100000 - 2s - loss: 0.0213 - accuracy: 0.9913 - val_loss: 0.0404 - val_accuracy: 0.9866\n",
      "Epoch 75/100\n",
      "100000/100000 - 2s - loss: 0.0207 - accuracy: 0.9917 - val_loss: 0.0385 - val_accuracy: 0.9875\n",
      "Epoch 76/100\n",
      "100000/100000 - 2s - loss: 0.0171 - accuracy: 0.9928 - val_loss: 0.0392 - val_accuracy: 0.9876\n"
     ]
    },
    {
     "name": "stdout",
     "output_type": "stream",
     "text": [
      "Epoch 77/100\n",
      "100000/100000 - 2s - loss: 0.0178 - accuracy: 0.9927 - val_loss: 0.0393 - val_accuracy: 0.9864\n",
      "Epoch 78/100\n",
      "100000/100000 - 2s - loss: 0.0190 - accuracy: 0.9923 - val_loss: 0.0435 - val_accuracy: 0.9854\n",
      "Epoch 79/100\n",
      "100000/100000 - 2s - loss: 0.0211 - accuracy: 0.9915 - val_loss: 0.0417 - val_accuracy: 0.9861\n",
      "Epoch 80/100\n",
      "100000/100000 - 2s - loss: 0.0226 - accuracy: 0.9911 - val_loss: 0.0422 - val_accuracy: 0.9868\n",
      "Epoch 81/100\n",
      "100000/100000 - 2s - loss: 0.0177 - accuracy: 0.9927 - val_loss: 0.0389 - val_accuracy: 0.9876\n",
      "Epoch 82/100\n",
      "100000/100000 - 2s - loss: 0.0169 - accuracy: 0.9931 - val_loss: 0.0426 - val_accuracy: 0.9874\n",
      "Epoch 83/100\n",
      "100000/100000 - 2s - loss: 0.0145 - accuracy: 0.9939 - val_loss: 0.0397 - val_accuracy: 0.9875\n",
      "Epoch 84/100\n",
      "100000/100000 - 2s - loss: 0.0196 - accuracy: 0.9923 - val_loss: 0.0506 - val_accuracy: 0.9843\n",
      "Epoch 85/100\n",
      "100000/100000 - 2s - loss: 0.0234 - accuracy: 0.9910 - val_loss: 0.0440 - val_accuracy: 0.9867\n",
      "Epoch 86/100\n",
      "100000/100000 - 2s - loss: 0.0174 - accuracy: 0.9930 - val_loss: 0.0386 - val_accuracy: 0.9876\n",
      "Epoch 87/100\n",
      "100000/100000 - 2s - loss: 0.0147 - accuracy: 0.9938 - val_loss: 0.0413 - val_accuracy: 0.9874\n",
      "Epoch 88/100\n",
      "100000/100000 - 2s - loss: 0.0151 - accuracy: 0.9938 - val_loss: 0.0460 - val_accuracy: 0.9866\n",
      "Epoch 89/100\n",
      "100000/100000 - 2s - loss: 0.0201 - accuracy: 0.9922 - val_loss: 0.0460 - val_accuracy: 0.9859\n",
      "Epoch 90/100\n",
      "100000/100000 - 2s - loss: 0.0171 - accuracy: 0.9930 - val_loss: 0.0417 - val_accuracy: 0.9874\n",
      "Epoch 91/100\n",
      "100000/100000 - 2s - loss: 0.0178 - accuracy: 0.9931 - val_loss: 0.0550 - val_accuracy: 0.9845\n",
      "Epoch 92/100\n",
      "100000/100000 - 2s - loss: 0.0184 - accuracy: 0.9928 - val_loss: 0.0446 - val_accuracy: 0.9869\n",
      "Epoch 93/100\n",
      "100000/100000 - 2s - loss: 0.0168 - accuracy: 0.9933 - val_loss: 0.0415 - val_accuracy: 0.9876\n",
      "Epoch 94/100\n",
      "100000/100000 - 2s - loss: 0.0157 - accuracy: 0.9937 - val_loss: 0.0459 - val_accuracy: 0.9866\n",
      "Epoch 95/100\n",
      "100000/100000 - 2s - loss: 0.0148 - accuracy: 0.9940 - val_loss: 0.0464 - val_accuracy: 0.9867\n",
      "Epoch 96/100\n",
      "100000/100000 - 2s - loss: 0.0168 - accuracy: 0.9934 - val_loss: 0.0464 - val_accuracy: 0.9867\n",
      "Epoch 97/100\n",
      "100000/100000 - 2s - loss: 0.0213 - accuracy: 0.9921 - val_loss: 0.0510 - val_accuracy: 0.9849\n",
      "Epoch 98/100\n",
      "100000/100000 - 2s - loss: 0.0187 - accuracy: 0.9926 - val_loss: 0.0478 - val_accuracy: 0.9866\n",
      "Epoch 99/100\n",
      "100000/100000 - 2s - loss: 0.0159 - accuracy: 0.9936 - val_loss: 0.0407 - val_accuracy: 0.9879\n",
      "Epoch 100/100\n",
      "100000/100000 - 2s - loss: 0.0146 - accuracy: 0.9942 - val_loss: 0.0459 - val_accuracy: 0.9866\n"
     ]
    }
   ],
   "source": [
    "model = tf.keras.models.Sequential([\n",
    "    tf.keras.layers.Dense(150, input_shape = [24], activation = 'relu'),\n",
    "    #tf.keras.layers.Dense(200, activation = 'relu'),\n",
    "    tf.keras.layers.Dense(150, activation = 'relu'),\n",
    "    tf.keras.layers.Dense(150, activation = 'relu'),\n",
    "    tf.keras.layers.Dense(150, activation = 'relu'),\n",
    "    tf.keras.layers.Dense(12, activation = 'sigmoid')\n",
    "])\n",
    "adam = tf.keras.optimizers.Adam(lr = 0.005)\n",
    "model.compile(optimizer = adam, loss = 'binary_crossentropy', metrics = ['accuracy'])\n",
    "\n",
    "history = model.fit(x_train, y_train, batch_size = 1024, epochs = 100, verbose = 2, validation_data = (x_test, y_test))\n"
   ]
  },
  {
   "cell_type": "code",
   "execution_count": 6,
   "metadata": {},
   "outputs": [
    {
     "data": {
      "image/png": "[encoded data removed]",
      "text/plain": [
       "<Figure size 432x288 with 1 Axes>"
      ]
     },
     "metadata": {
      "needs_background": "light"
     },
     "output_type": "display_data"
    }
   ],
   "source": [
    "import matplotlib.pyplot as plt\n",
    "plt.figure()\n",
    "acc = history.history['accuracy']\n",
    "loss = history.history['loss']\n",
    "val_acc = history.history['val_accuracy']\n",
    "val_loss = history.history['val_loss']\n",
    "epochs = range(len(acc))\n",
    "plt.plot(epochs, acc, 'r', label = 'Training accuracy')\n",
    "plt.plot(epochs, val_acc, 'b', label = 'Validating accuracy')\n",
    "plt.title('Training and Validating Accuracy')\n",
    "#plt.title('Training Accuracy')\n",
    "plt.legend()\n",
    "plt.show()"
   ]
  },
  {
   "cell_type": "code",
   "execution_count": 8,
   "metadata": {},
   "outputs": [
    {
     "name": "stdout",
     "output_type": "stream",
     "text": [
      "5000/1 - 0s - loss: 0.0630 - accuracy: 0.9720\n"
     ]
    },
    {
     "data": {
      "text/plain": [
       "[0.04715186712741852, 0.9720002]"
      ]
     },
     "execution_count": 8,
     "metadata": {},
     "output_type": "execute_result"
    }
   ],
   "source": [
    "#model.evaluate(x_test, y_test, verbose = 2)"
   ]
  },
  {
   "cell_type": "code",
   "execution_count": 7,
   "metadata": {},
   "outputs": [],
   "source": [
    "model.save('C:\\\\Users\\\\Wilfred\\\\Desktop\\\\weights\\\\Better_of_Two\\\\Better_of_Two_4_6_10_2_model.h5')"
   ]
  },
  {
   "cell_type": "code",
   "execution_count": null,
   "metadata": {},
   "outputs": [],
   "source": []
  }
 ],
 "metadata": {
  "kernelspec": {
   "display_name": "Python 3",
   "language": "python",
   "name": "python3"
  },
  "language_info": {
   "codemirror_mode": {
    "name": "ipython",
    "version": 3
   },
   "file_extension": ".py",
   "mimetype": "text/x-python",
   "name": "python",
   "nbconvert_exporter": "python",
   "pygments_lexer": "ipython3",
   "version": "3.7.5"
  }
 },
 "nbformat": 4,
 "nbformat_minor": 2
}
