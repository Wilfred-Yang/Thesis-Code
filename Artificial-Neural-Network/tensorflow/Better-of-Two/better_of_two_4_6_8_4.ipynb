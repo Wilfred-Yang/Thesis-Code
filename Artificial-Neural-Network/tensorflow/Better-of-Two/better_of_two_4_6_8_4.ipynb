{
 "cells": [
  {
   "cell_type": "code",
   "execution_count": 1,
   "metadata": {},
   "outputs": [],
   "source": [
    "import tensorflow as tf\n",
    "import numpy as np\n",
    "import pickle\n",
    "np.random.seed(7)"
   ]
  },
  {
   "cell_type": "code",
   "execution_count": 2,
   "metadata": {},
   "outputs": [
    {
     "name": "stdout",
     "output_type": "stream",
     "text": [
      "(405000, 24)\n"
     ]
    }
   ],
   "source": [
    "with open ('C:\\\\Users\\\\Wilfred\\\\Desktop\\\\better-of-two\\\\input_layer_4_6_8_4.pickle','rb') as file:\n",
    "    input_data = pickle.load(file)\n",
    "permutation = list(np.random.permutation(input_data.shape[0]))\n",
    "input_data = input_data[permutation,:]\n",
    "print(input_data.shape)\n",
    "x_train = input_data[:200000, :]\n",
    "x_test = input_data[200000:205000, :]\n"
   ]
  },
  {
   "cell_type": "code",
   "execution_count": 3,
   "metadata": {},
   "outputs": [
    {
     "name": "stdout",
     "output_type": "stream",
     "text": [
      "(405000, 12)\n",
      "(405000, 12)\n"
     ]
    }
   ],
   "source": [
    "with open ('C:\\\\Users\\\\Wilfred\\\\Desktop\\\\better-of-two\\\\output_layer_4_6_8_4.pickle','rb') as file:\n",
    "    output_data = pickle.load(file)\n",
    "print(output_data.shape)\n",
    "#output_data = np.transpose(output_data)\n",
    "output_data = output_data[permutation,:]\n",
    "y_train = output_data[:200000, :]\n",
    "y_test = output_data[200000:205000, :]\n",
    "print(output_data.shape)"
   ]
  },
  {
   "cell_type": "code",
   "execution_count": 5,
   "metadata": {},
   "outputs": [
    {
     "name": "stdout",
     "output_type": "stream",
     "text": [
      "Train on 200000 samples, validate on 5000 samples\n",
      "Epoch 1/100\n",
      "200000/200000 - 7s - loss: 0.1963 - accuracy: 0.9127 - val_loss: 0.1555 - val_accuracy: 0.9221\n",
      "Epoch 2/100\n",
      "200000/200000 - 8s - loss: 0.1076 - accuracy: 0.9485 - val_loss: 0.0806 - val_accuracy: 0.9602\n",
      "Epoch 3/100\n",
      "200000/200000 - 8s - loss: 0.0657 - accuracy: 0.9668 - val_loss: 0.0567 - val_accuracy: 0.9713\n",
      "Epoch 4/100\n",
      "200000/200000 - 8s - loss: 0.0534 - accuracy: 0.9715 - val_loss: 0.0498 - val_accuracy: 0.9728\n",
      "Epoch 5/100\n",
      "200000/200000 - 7s - loss: 0.0485 - accuracy: 0.9731 - val_loss: 0.0460 - val_accuracy: 0.9732\n",
      "Epoch 6/100\n",
      "200000/200000 - 7s - loss: 0.0462 - accuracy: 0.9738 - val_loss: 0.0461 - val_accuracy: 0.9739\n",
      "Epoch 7/100\n",
      "200000/200000 - 7s - loss: 0.0453 - accuracy: 0.9739 - val_loss: 0.0450 - val_accuracy: 0.9736\n",
      "Epoch 8/100\n",
      "200000/200000 - 8s - loss: 0.0445 - accuracy: 0.9742 - val_loss: 0.0449 - val_accuracy: 0.9740\n",
      "Epoch 9/100\n",
      "200000/200000 - 9s - loss: 0.0438 - accuracy: 0.9746 - val_loss: 0.0456 - val_accuracy: 0.9742\n",
      "Epoch 10/100\n",
      "200000/200000 - 8s - loss: 0.0438 - accuracy: 0.9744 - val_loss: 0.0440 - val_accuracy: 0.9746\n",
      "Epoch 11/100\n",
      "200000/200000 - 8s - loss: 0.0434 - accuracy: 0.9746 - val_loss: 0.0429 - val_accuracy: 0.9746\n",
      "Epoch 12/100\n",
      "200000/200000 - 8s - loss: 0.0446 - accuracy: 0.9743 - val_loss: 0.0431 - val_accuracy: 0.9749\n",
      "Epoch 13/100\n",
      "200000/200000 - 8s - loss: 0.0427 - accuracy: 0.9749 - val_loss: 0.0432 - val_accuracy: 0.9747\n",
      "Epoch 14/100\n",
      "200000/200000 - 7s - loss: 0.0434 - accuracy: 0.9748 - val_loss: 0.0437 - val_accuracy: 0.9743\n",
      "Epoch 15/100\n",
      "200000/200000 - 7s - loss: 0.0434 - accuracy: 0.9748 - val_loss: 0.0422 - val_accuracy: 0.9748\n",
      "Epoch 16/100\n",
      "200000/200000 - 7s - loss: 0.0418 - accuracy: 0.9753 - val_loss: 0.0425 - val_accuracy: 0.9741\n",
      "Epoch 17/100\n",
      "200000/200000 - 7s - loss: 0.0425 - accuracy: 0.9750 - val_loss: 0.0451 - val_accuracy: 0.9735\n",
      "Epoch 18/100\n",
      "200000/200000 - 8s - loss: 0.0433 - accuracy: 0.9748 - val_loss: 0.0434 - val_accuracy: 0.9742\n",
      "Epoch 19/100\n",
      "200000/200000 - 8s - loss: 0.0421 - accuracy: 0.9752 - val_loss: 0.0434 - val_accuracy: 0.9749\n",
      "Epoch 20/100\n",
      "200000/200000 - 9s - loss: 0.0416 - accuracy: 0.9754 - val_loss: 0.0425 - val_accuracy: 0.9743\n",
      "Epoch 21/100\n",
      "200000/200000 - 9s - loss: 0.0426 - accuracy: 0.9752 - val_loss: 0.0453 - val_accuracy: 0.9746\n",
      "Epoch 22/100\n",
      "200000/200000 - 12s - loss: 0.0423 - accuracy: 0.9752 - val_loss: 0.0453 - val_accuracy: 0.9736\n",
      "Epoch 23/100\n",
      "200000/200000 - 10s - loss: 0.0417 - accuracy: 0.9755 - val_loss: 0.0425 - val_accuracy: 0.9743\n",
      "Epoch 24/100\n",
      "200000/200000 - 9s - loss: 0.0421 - accuracy: 0.9755 - val_loss: 0.0426 - val_accuracy: 0.9751\n",
      "Epoch 25/100\n",
      "200000/200000 - 11s - loss: 0.0420 - accuracy: 0.9755 - val_loss: 0.0435 - val_accuracy: 0.9737\n",
      "Epoch 26/100\n",
      "200000/200000 - 10s - loss: 0.0423 - accuracy: 0.9754 - val_loss: 0.0443 - val_accuracy: 0.9742\n",
      "Epoch 27/100\n",
      "200000/200000 - 9s - loss: 0.0419 - accuracy: 0.9756 - val_loss: 0.0439 - val_accuracy: 0.9744\n",
      "Epoch 28/100\n",
      "200000/200000 - 9s - loss: 0.0416 - accuracy: 0.9756 - val_loss: 0.0437 - val_accuracy: 0.9746\n",
      "Epoch 29/100\n",
      "200000/200000 - 9s - loss: 0.0411 - accuracy: 0.9760 - val_loss: 0.0432 - val_accuracy: 0.9743\n",
      "Epoch 30/100\n",
      "200000/200000 - 9s - loss: 0.0419 - accuracy: 0.9758 - val_loss: 0.0428 - val_accuracy: 0.9743\n",
      "Epoch 31/100\n",
      "200000/200000 - 9s - loss: 0.0424 - accuracy: 0.9755 - val_loss: 0.0433 - val_accuracy: 0.9747\n",
      "Epoch 32/100\n",
      "200000/200000 - 10s - loss: 0.0408 - accuracy: 0.9763 - val_loss: 0.0426 - val_accuracy: 0.9743\n",
      "Epoch 33/100\n",
      "200000/200000 - 9s - loss: 0.0404 - accuracy: 0.9764 - val_loss: 0.0427 - val_accuracy: 0.9744\n",
      "Epoch 34/100\n",
      "200000/200000 - 10s - loss: 0.0403 - accuracy: 0.9766 - val_loss: 0.0440 - val_accuracy: 0.9737\n",
      "Epoch 35/100\n",
      "200000/200000 - 9s - loss: 0.0421 - accuracy: 0.9759 - val_loss: 0.0432 - val_accuracy: 0.9741\n",
      "Epoch 36/100\n",
      "200000/200000 - 8s - loss: 0.0405 - accuracy: 0.9766 - val_loss: 0.0440 - val_accuracy: 0.9746\n",
      "Epoch 37/100\n",
      "200000/200000 - 8s - loss: 0.0413 - accuracy: 0.9763 - val_loss: 0.0445 - val_accuracy: 0.9734\n",
      "Epoch 38/100\n",
      "200000/200000 - 8s - loss: 0.0403 - accuracy: 0.9767 - val_loss: 0.0432 - val_accuracy: 0.9744\n",
      "Epoch 39/100\n",
      "200000/200000 - 8s - loss: 0.0409 - accuracy: 0.9766 - val_loss: 0.0447 - val_accuracy: 0.9740\n",
      "Epoch 40/100\n",
      "200000/200000 - 8s - loss: 0.0399 - accuracy: 0.9771 - val_loss: 0.0439 - val_accuracy: 0.9739\n",
      "Epoch 41/100\n",
      "200000/200000 - 8s - loss: 0.0406 - accuracy: 0.9769 - val_loss: 0.0443 - val_accuracy: 0.9735\n",
      "Epoch 42/100\n",
      "200000/200000 - 8s - loss: 0.0409 - accuracy: 0.9769 - val_loss: 0.0455 - val_accuracy: 0.9738\n",
      "Epoch 43/100\n",
      "200000/200000 - 8s - loss: 0.0400 - accuracy: 0.9773 - val_loss: 0.0439 - val_accuracy: 0.9733\n",
      "Epoch 44/100\n",
      "200000/200000 - 8s - loss: 0.0392 - accuracy: 0.9777 - val_loss: 0.0456 - val_accuracy: 0.9737\n",
      "Epoch 45/100\n",
      "200000/200000 - 9s - loss: 0.0411 - accuracy: 0.9770 - val_loss: 0.0455 - val_accuracy: 0.9730\n",
      "Epoch 46/100\n",
      "200000/200000 - 8s - loss: 0.0403 - accuracy: 0.9773 - val_loss: 0.0439 - val_accuracy: 0.9734\n",
      "Epoch 47/100\n",
      "200000/200000 - 8s - loss: 0.0389 - accuracy: 0.9781 - val_loss: 0.0447 - val_accuracy: 0.9730\n",
      "Epoch 48/100\n",
      "200000/200000 - 8s - loss: 0.0386 - accuracy: 0.9782 - val_loss: 0.0449 - val_accuracy: 0.9730\n",
      "Epoch 49/100\n",
      "200000/200000 - 8s - loss: 0.0382 - accuracy: 0.9786 - val_loss: 0.0450 - val_accuracy: 0.9733\n",
      "Epoch 50/100\n",
      "200000/200000 - 8s - loss: 0.0398 - accuracy: 0.9780 - val_loss: 0.0478 - val_accuracy: 0.9723\n",
      "Epoch 51/100\n",
      "200000/200000 - 8s - loss: 0.0389 - accuracy: 0.9784 - val_loss: 0.0451 - val_accuracy: 0.9737\n",
      "Epoch 52/100\n",
      "200000/200000 - 8s - loss: 0.0382 - accuracy: 0.9790 - val_loss: 0.0446 - val_accuracy: 0.9735\n",
      "Epoch 53/100\n",
      "200000/200000 - 9s - loss: 0.0376 - accuracy: 0.9792 - val_loss: 0.0464 - val_accuracy: 0.9730\n",
      "Epoch 54/100\n",
      "200000/200000 - 9s - loss: 0.0383 - accuracy: 0.9790 - val_loss: 0.0486 - val_accuracy: 0.9728\n",
      "Epoch 55/100\n",
      "200000/200000 - 9s - loss: 0.0382 - accuracy: 0.9792 - val_loss: 0.0468 - val_accuracy: 0.9725\n",
      "Epoch 56/100\n",
      "200000/200000 - 8s - loss: 0.0373 - accuracy: 0.9796 - val_loss: 0.0478 - val_accuracy: 0.9726\n",
      "Epoch 57/100\n",
      "200000/200000 - 11s - loss: 0.0371 - accuracy: 0.9798 - val_loss: 0.0471 - val_accuracy: 0.9726\n",
      "Epoch 58/100\n",
      "200000/200000 - 12s - loss: 0.0365 - accuracy: 0.9802 - val_loss: 0.0497 - val_accuracy: 0.9718\n",
      "Epoch 59/100\n",
      "200000/200000 - 13s - loss: 0.0377 - accuracy: 0.9798 - val_loss: 0.0545 - val_accuracy: 0.9715\n",
      "Epoch 60/100\n",
      "200000/200000 - 12s - loss: 0.0379 - accuracy: 0.9799 - val_loss: 0.0480 - val_accuracy: 0.9724\n",
      "Epoch 61/100\n",
      "200000/200000 - 12s - loss: 0.0354 - accuracy: 0.9810 - val_loss: 0.0498 - val_accuracy: 0.9724\n",
      "Epoch 62/100\n",
      "200000/200000 - 10s - loss: 0.0352 - accuracy: 0.9812 - val_loss: 0.0498 - val_accuracy: 0.9727\n",
      "Epoch 63/100\n",
      "200000/200000 - 8s - loss: 0.0354 - accuracy: 0.9812 - val_loss: 0.0508 - val_accuracy: 0.9722\n",
      "Epoch 64/100\n",
      "200000/200000 - 8s - loss: 0.0357 - accuracy: 0.9812 - val_loss: 0.0505 - val_accuracy: 0.9717\n",
      "Epoch 65/100\n",
      "200000/200000 - 8s - loss: 0.0352 - accuracy: 0.9814 - val_loss: 0.0516 - val_accuracy: 0.9715\n",
      "Epoch 66/100\n",
      "200000/200000 - 8s - loss: 0.0360 - accuracy: 0.9813 - val_loss: 0.0510 - val_accuracy: 0.9725\n",
      "Epoch 67/100\n",
      "200000/200000 - 8s - loss: 0.0340 - accuracy: 0.9821 - val_loss: 0.0506 - val_accuracy: 0.9726\n",
      "Epoch 68/100\n",
      "200000/200000 - 8s - loss: 0.0333 - accuracy: 0.9825 - val_loss: 0.0532 - val_accuracy: 0.9723\n",
      "Epoch 69/100\n",
      "200000/200000 - 8s - loss: 0.0339 - accuracy: 0.9824 - val_loss: 0.0534 - val_accuracy: 0.9728\n",
      "Epoch 70/100\n",
      "200000/200000 - 8s - loss: 0.0329 - accuracy: 0.9829 - val_loss: 0.0542 - val_accuracy: 0.9718\n",
      "Epoch 71/100\n",
      "200000/200000 - 9s - loss: 0.0322 - accuracy: 0.9833 - val_loss: 0.0544 - val_accuracy: 0.9720\n",
      "Epoch 72/100\n",
      "200000/200000 - 8s - loss: 0.0325 - accuracy: 0.9832 - val_loss: 0.0548 - val_accuracy: 0.9724\n",
      "Epoch 73/100\n",
      "200000/200000 - 9s - loss: 0.0330 - accuracy: 0.9832 - val_loss: 0.0562 - val_accuracy: 0.9718\n",
      "Epoch 74/100\n",
      "200000/200000 - 9s - loss: 0.0336 - accuracy: 0.9829 - val_loss: 0.0562 - val_accuracy: 0.9717\n",
      "Epoch 75/100\n",
      "200000/200000 - 8s - loss: 0.0327 - accuracy: 0.9834 - val_loss: 0.0558 - val_accuracy: 0.9726\n",
      "Epoch 76/100\n",
      "200000/200000 - 9s - loss: 0.0317 - accuracy: 0.9839 - val_loss: 0.0534 - val_accuracy: 0.9734\n"
     ]
    },
    {
     "name": "stdout",
     "output_type": "stream",
     "text": [
      "Epoch 77/100\n",
      "200000/200000 - 11s - loss: 0.0307 - accuracy: 0.9844 - val_loss: 0.0572 - val_accuracy: 0.9725\n",
      "Epoch 78/100\n",
      "200000/200000 - 11s - loss: 0.0315 - accuracy: 0.9840 - val_loss: 0.0587 - val_accuracy: 0.9721\n",
      "Epoch 79/100\n",
      "200000/200000 - 10s - loss: 0.0309 - accuracy: 0.9843 - val_loss: 0.0583 - val_accuracy: 0.9725\n",
      "Epoch 80/100\n",
      "200000/200000 - 9s - loss: 0.0298 - accuracy: 0.9850 - val_loss: 0.0613 - val_accuracy: 0.9724\n",
      "Epoch 81/100\n",
      "200000/200000 - 10s - loss: 0.0296 - accuracy: 0.9851 - val_loss: 0.0612 - val_accuracy: 0.9715\n",
      "Epoch 82/100\n",
      "200000/200000 - 10s - loss: 0.0302 - accuracy: 0.9850 - val_loss: 0.0614 - val_accuracy: 0.9724\n",
      "Epoch 83/100\n",
      "200000/200000 - 9s - loss: 0.0288 - accuracy: 0.9856 - val_loss: 0.0635 - val_accuracy: 0.9717\n",
      "Epoch 84/100\n",
      "200000/200000 - 10s - loss: 0.0306 - accuracy: 0.9848 - val_loss: 0.0632 - val_accuracy: 0.9721\n",
      "Epoch 85/100\n",
      "200000/200000 - 10s - loss: 0.0286 - accuracy: 0.9858 - val_loss: 0.0677 - val_accuracy: 0.9716\n",
      "Epoch 86/100\n",
      "200000/200000 - 10s - loss: 0.0281 - accuracy: 0.9861 - val_loss: 0.0642 - val_accuracy: 0.9721\n",
      "Epoch 87/100\n",
      "200000/200000 - 9s - loss: 0.0274 - accuracy: 0.9865 - val_loss: 0.0683 - val_accuracy: 0.9714\n",
      "Epoch 88/100\n",
      "200000/200000 - 10s - loss: 0.0294 - accuracy: 0.9856 - val_loss: 0.0657 - val_accuracy: 0.9718\n",
      "Epoch 89/100\n",
      "200000/200000 - 10s - loss: 0.0272 - accuracy: 0.9865 - val_loss: 0.0710 - val_accuracy: 0.9711\n",
      "Epoch 90/100\n",
      "200000/200000 - 9s - loss: 0.0278 - accuracy: 0.9864 - val_loss: 0.0684 - val_accuracy: 0.9714\n",
      "Epoch 91/100\n",
      "200000/200000 - 9s - loss: 0.0264 - accuracy: 0.9870 - val_loss: 0.0688 - val_accuracy: 0.9722\n",
      "Epoch 92/100\n",
      "200000/200000 - 9s - loss: 0.0264 - accuracy: 0.9871 - val_loss: 0.0714 - val_accuracy: 0.9716\n",
      "Epoch 93/100\n",
      "200000/200000 - 9s - loss: 0.0266 - accuracy: 0.9871 - val_loss: 0.0688 - val_accuracy: 0.9721\n",
      "Epoch 94/100\n",
      "200000/200000 - 10s - loss: 0.0264 - accuracy: 0.9872 - val_loss: 0.0722 - val_accuracy: 0.9715\n",
      "Epoch 95/100\n",
      "200000/200000 - 10s - loss: 0.0282 - accuracy: 0.9866 - val_loss: 0.0693 - val_accuracy: 0.9717\n",
      "Epoch 96/100\n",
      "200000/200000 - 9s - loss: 0.0264 - accuracy: 0.9872 - val_loss: 0.0742 - val_accuracy: 0.9709\n",
      "Epoch 97/100\n",
      "200000/200000 - 10s - loss: 0.0252 - accuracy: 0.9878 - val_loss: 0.0753 - val_accuracy: 0.9718\n",
      "Epoch 98/100\n",
      "200000/200000 - 9s - loss: 0.0248 - accuracy: 0.9881 - val_loss: 0.0773 - val_accuracy: 0.9718\n",
      "Epoch 99/100\n",
      "200000/200000 - 9s - loss: 0.0244 - accuracy: 0.9883 - val_loss: 0.0793 - val_accuracy: 0.9711\n",
      "Epoch 100/100\n",
      "200000/200000 - 9s - loss: 0.0259 - accuracy: 0.9878 - val_loss: 0.0815 - val_accuracy: 0.9706\n"
     ]
    }
   ],
   "source": [
    "model = tf.keras.models.Sequential([\n",
    "    tf.keras.layers.Dense(250, input_shape = [24], activation = 'relu'),\n",
    "    #tf.keras.layers.Dense(200, activation = 'relu'),\n",
    "    tf.keras.layers.Dense(250, activation = 'relu'),\n",
    "    tf.keras.layers.Dense(250, activation = 'relu'),\n",
    "    tf.keras.layers.Dense(250, activation = 'relu'),\n",
    "    tf.keras.layers.Dense(12, activation = 'sigmoid')\n",
    "])\n",
    "adam = tf.keras.optimizers.Adam(lr = 0.0035)\n",
    "model.compile(optimizer = adam, loss = 'binary_crossentropy', metrics = ['accuracy'])\n",
    "\n",
    "history = model.fit(x_train, y_train, batch_size = 1024, epochs = 100, verbose = 2, validation_data = (x_test, y_test))\n"
   ]
  },
  {
   "cell_type": "code",
   "execution_count": 7,
   "metadata": {},
   "outputs": [
    {
     "data": {
      "image/png": "[encoded data removed]",
      "text/plain": [
       "<Figure size 432x288 with 1 Axes>"
      ]
     },
     "metadata": {
      "needs_background": "light"
     },
     "output_type": "display_data"
    }
   ],
   "source": [
    "import matplotlib.pyplot as plt\n",
    "plt.figure()\n",
    "acc = history.history['accuracy']\n",
    "loss = history.history['loss']\n",
    "val_acc = history.history['val_accuracy']\n",
    "val_loss = history.history['val_loss']\n",
    "epochs = range(len(acc))\n",
    "plt.plot(epochs, acc, 'r', label = 'Training accuracy')\n",
    "plt.plot(epochs, val_acc, 'b', label = 'Validating accuracy')\n",
    "plt.title('Training and Validating Accuracy')\n",
    "#plt.title('Training Accuracy')\n",
    "plt.legend()\n",
    "plt.show()"
   ]
  },
  {
   "cell_type": "code",
   "execution_count": 8,
   "metadata": {},
   "outputs": [
    {
     "name": "stdout",
     "output_type": "stream",
     "text": [
      "5000/1 - 0s - loss: 0.0630 - accuracy: 0.9720\n"
     ]
    },
    {
     "data": {
      "text/plain": [
       "[0.04715186712741852, 0.9720002]"
      ]
     },
     "execution_count": 8,
     "metadata": {},
     "output_type": "execute_result"
    }
   ],
   "source": [
    "#model.evaluate(x_test, y_test, verbose = 2)"
   ]
  },
  {
   "cell_type": "code",
   "execution_count": 8,
   "metadata": {},
   "outputs": [],
   "source": [
    "model.save('C:\\\\Users\\\\Wilfred\\\\Desktop\\\\weights\\\\Better_of_Two\\\\Better_of_Two_4_6_8_4_model.h5')"
   ]
  },
  {
   "cell_type": "code",
   "execution_count": null,
   "metadata": {},
   "outputs": [],
   "source": []
  }
 ],
 "metadata": {
  "kernelspec": {
   "display_name": "Python 3",
   "language": "python",
   "name": "python3"
  },
  "language_info": {
   "codemirror_mode": {
    "name": "ipython",
    "version": 3
   },
   "file_extension": ".py",
   "mimetype": "text/x-python",
   "name": "python",
   "nbconvert_exporter": "python",
   "pygments_lexer": "ipython3",
   "version": "3.7.5"
  }
 },
 "nbformat": 4,
 "nbformat_minor": 2
}
