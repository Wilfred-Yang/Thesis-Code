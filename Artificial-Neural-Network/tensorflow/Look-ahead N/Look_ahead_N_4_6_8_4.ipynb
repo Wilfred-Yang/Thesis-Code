{
 "cells": [
  {
   "cell_type": "code",
   "execution_count": 3,
   "metadata": {},
   "outputs": [],
   "source": [
    "import tensorflow as tf\n",
    "import numpy as np\n",
    "import pickle\n",
    "np.random.seed(7)"
   ]
  },
  {
   "cell_type": "code",
   "execution_count": 9,
   "metadata": {},
   "outputs": [
    {
     "name": "stdout",
     "output_type": "stream",
     "text": [
      "(405000, 24)\n"
     ]
    }
   ],
   "source": [
    "with open ('C:\\\\Users\\\\Wilfred\\\\Desktop\\\\Look-ahead-N\\\\input_layer_4_6_8_4.pickle','rb') as file:\n",
    "    input_data = pickle.load(file)\n",
    "permutation = list(np.random.permutation(input_data.shape[0]))\n",
    "input_data = input_data[permutation,:]\n",
    "print(input_data.shape)\n",
    "x_train = input_data[:200000, :]\n",
    "x_test = input_data[200000:205000, :]\n"
   ]
  },
  {
   "cell_type": "code",
   "execution_count": 10,
   "metadata": {},
   "outputs": [
    {
     "name": "stdout",
     "output_type": "stream",
     "text": [
      "(405000, 12)\n"
     ]
    }
   ],
   "source": [
    "with open ('C:\\\\Users\\\\Wilfred\\\\Desktop\\\\Look-ahead-N\\\\output_layer_4_6_8_4.pickle','rb') as file:\n",
    "    output_data = pickle.load(file)\n",
    "output_data = np.transpose(output_data)\n",
    "output_data = output_data[permutation,:]\n",
    "y_train = output_data[:200000, :]\n",
    "y_test = output_data[200000:205000, :]\n",
    "print(output_data.shape)"
   ]
  },
  {
   "cell_type": "code",
   "execution_count": 11,
   "metadata": {},
   "outputs": [
    {
     "name": "stdout",
     "output_type": "stream",
     "text": [
      "Train on 200000 samples, validate on 5000 samples\n",
      "Epoch 1/100\n",
      "200000/200000 - 3s - loss: 0.2108 - accuracy: 0.9083 - val_loss: 0.1538 - val_accuracy: 0.9268\n",
      "Epoch 2/100\n",
      "200000/200000 - 3s - loss: 0.1215 - accuracy: 0.9451 - val_loss: 0.0994 - val_accuracy: 0.9571\n",
      "Epoch 3/100\n",
      "200000/200000 - 2s - loss: 0.0860 - accuracy: 0.9639 - val_loss: 0.0764 - val_accuracy: 0.9685\n",
      "Epoch 4/100\n",
      "200000/200000 - 3s - loss: 0.0675 - accuracy: 0.9724 - val_loss: 0.0619 - val_accuracy: 0.9748\n",
      "Epoch 5/100\n",
      "200000/200000 - 2s - loss: 0.0550 - accuracy: 0.9778 - val_loss: 0.0535 - val_accuracy: 0.9779\n",
      "Epoch 6/100\n",
      "200000/200000 - 2s - loss: 0.0459 - accuracy: 0.9816 - val_loss: 0.0439 - val_accuracy: 0.9824\n",
      "Epoch 7/100\n",
      "200000/200000 - 2s - loss: 0.0390 - accuracy: 0.9846 - val_loss: 0.0380 - val_accuracy: 0.9844\n",
      "Epoch 8/100\n",
      "200000/200000 - 2s - loss: 0.0331 - accuracy: 0.9871 - val_loss: 0.0319 - val_accuracy: 0.9874\n",
      "Epoch 9/100\n",
      "200000/200000 - 2s - loss: 0.0281 - accuracy: 0.9891 - val_loss: 0.0298 - val_accuracy: 0.9880\n",
      "Epoch 10/100\n",
      "200000/200000 - 3s - loss: 0.0242 - accuracy: 0.9908 - val_loss: 0.0259 - val_accuracy: 0.9905\n",
      "Epoch 11/100\n",
      "200000/200000 - 3s - loss: 0.0213 - accuracy: 0.9920 - val_loss: 0.0238 - val_accuracy: 0.9906\n",
      "Epoch 12/100\n",
      "200000/200000 - 3s - loss: 0.0185 - accuracy: 0.9931 - val_loss: 0.0197 - val_accuracy: 0.9927\n",
      "Epoch 13/100\n",
      "200000/200000 - 2s - loss: 0.0172 - accuracy: 0.9936 - val_loss: 0.0180 - val_accuracy: 0.9933\n",
      "Epoch 14/100\n",
      "200000/200000 - 2s - loss: 0.0150 - accuracy: 0.9946 - val_loss: 0.0153 - val_accuracy: 0.9944\n",
      "Epoch 15/100\n",
      "200000/200000 - 2s - loss: 0.0135 - accuracy: 0.9951 - val_loss: 0.0153 - val_accuracy: 0.9944\n",
      "Epoch 16/100\n",
      "200000/200000 - 3s - loss: 0.0124 - accuracy: 0.9955 - val_loss: 0.0141 - val_accuracy: 0.9947\n",
      "Epoch 17/100\n",
      "200000/200000 - 3s - loss: 0.0117 - accuracy: 0.9958 - val_loss: 0.0126 - val_accuracy: 0.9953\n",
      "Epoch 18/100\n",
      "200000/200000 - 3s - loss: 0.0102 - accuracy: 0.9963 - val_loss: 0.0129 - val_accuracy: 0.9951\n",
      "Epoch 19/100\n",
      "200000/200000 - 3s - loss: 0.0096 - accuracy: 0.9965 - val_loss: 0.0120 - val_accuracy: 0.9957\n",
      "Epoch 20/100\n",
      "200000/200000 - 3s - loss: 0.0089 - accuracy: 0.9968 - val_loss: 0.0104 - val_accuracy: 0.9962\n",
      "Epoch 21/100\n",
      "200000/200000 - 2s - loss: 0.0083 - accuracy: 0.9971 - val_loss: 0.0098 - val_accuracy: 0.9964\n",
      "Epoch 22/100\n",
      "200000/200000 - 2s - loss: 0.0081 - accuracy: 0.9971 - val_loss: 0.0102 - val_accuracy: 0.9962\n",
      "Epoch 23/100\n",
      "200000/200000 - 2s - loss: 0.0078 - accuracy: 0.9973 - val_loss: 0.0101 - val_accuracy: 0.9959\n",
      "Epoch 24/100\n",
      "200000/200000 - 2s - loss: 0.0076 - accuracy: 0.9973 - val_loss: 0.0103 - val_accuracy: 0.9964\n",
      "Epoch 25/100\n",
      "200000/200000 - 2s - loss: 0.0067 - accuracy: 0.9976 - val_loss: 0.0082 - val_accuracy: 0.9974\n",
      "Epoch 26/100\n",
      "200000/200000 - 2s - loss: 0.0067 - accuracy: 0.9976 - val_loss: 0.0094 - val_accuracy: 0.9968\n",
      "Epoch 27/100\n",
      "200000/200000 - 2s - loss: 0.0064 - accuracy: 0.9977 - val_loss: 0.0111 - val_accuracy: 0.9960\n",
      "Epoch 28/100\n",
      "200000/200000 - 2s - loss: 0.0064 - accuracy: 0.9977 - val_loss: 0.0104 - val_accuracy: 0.9963\n",
      "Epoch 29/100\n",
      "200000/200000 - 2s - loss: 0.0063 - accuracy: 0.9979 - val_loss: 0.0074 - val_accuracy: 0.9975\n",
      "Epoch 30/100\n",
      "200000/200000 - 2s - loss: 0.0052 - accuracy: 0.9982 - val_loss: 0.0088 - val_accuracy: 0.9973\n",
      "Epoch 31/100\n",
      "200000/200000 - 2s - loss: 0.0054 - accuracy: 0.9981 - val_loss: 0.0100 - val_accuracy: 0.9968\n",
      "Epoch 32/100\n",
      "200000/200000 - 2s - loss: 0.0059 - accuracy: 0.9979 - val_loss: 0.0075 - val_accuracy: 0.9975\n",
      "Epoch 33/100\n",
      "200000/200000 - 2s - loss: 0.0050 - accuracy: 0.9982 - val_loss: 0.0081 - val_accuracy: 0.9973\n",
      "Epoch 34/100\n",
      "200000/200000 - 2s - loss: 0.0058 - accuracy: 0.9980 - val_loss: 0.0083 - val_accuracy: 0.9973\n",
      "Epoch 35/100\n",
      "200000/200000 - 2s - loss: 0.0048 - accuracy: 0.9983 - val_loss: 0.0068 - val_accuracy: 0.9977\n",
      "Epoch 36/100\n",
      "200000/200000 - 2s - loss: 0.0040 - accuracy: 0.9986 - val_loss: 0.0057 - val_accuracy: 0.9982\n",
      "Epoch 37/100\n",
      "200000/200000 - 2s - loss: 0.0046 - accuracy: 0.9984 - val_loss: 0.0079 - val_accuracy: 0.9974\n",
      "Epoch 38/100\n",
      "200000/200000 - 2s - loss: 0.0051 - accuracy: 0.9982 - val_loss: 0.0078 - val_accuracy: 0.9975\n",
      "Epoch 39/100\n",
      "200000/200000 - 2s - loss: 0.0043 - accuracy: 0.9985 - val_loss: 0.0060 - val_accuracy: 0.9981\n",
      "Epoch 40/100\n",
      "200000/200000 - 2s - loss: 0.0048 - accuracy: 0.9983 - val_loss: 0.0074 - val_accuracy: 0.9978\n",
      "Epoch 41/100\n",
      "200000/200000 - 2s - loss: 0.0045 - accuracy: 0.9984 - val_loss: 0.0070 - val_accuracy: 0.9977\n",
      "Epoch 42/100\n",
      "200000/200000 - 2s - loss: 0.0046 - accuracy: 0.9984 - val_loss: 0.0084 - val_accuracy: 0.9975\n",
      "Epoch 43/100\n",
      "200000/200000 - 2s - loss: 0.0042 - accuracy: 0.9986 - val_loss: 0.0061 - val_accuracy: 0.9980\n",
      "Epoch 44/100\n",
      "200000/200000 - 2s - loss: 0.0036 - accuracy: 0.9988 - val_loss: 0.0063 - val_accuracy: 0.9981\n",
      "Epoch 45/100\n",
      "200000/200000 - 2s - loss: 0.0032 - accuracy: 0.9989 - val_loss: 0.0059 - val_accuracy: 0.9982\n",
      "Epoch 46/100\n",
      "200000/200000 - 2s - loss: 0.0043 - accuracy: 0.9985 - val_loss: 0.0070 - val_accuracy: 0.9980\n",
      "Epoch 47/100\n",
      "200000/200000 - 2s - loss: 0.0036 - accuracy: 0.9988 - val_loss: 0.0089 - val_accuracy: 0.9974\n",
      "Epoch 48/100\n",
      "200000/200000 - 2s - loss: 0.0040 - accuracy: 0.9986 - val_loss: 0.0076 - val_accuracy: 0.9975\n",
      "Epoch 49/100\n",
      "200000/200000 - 2s - loss: 0.0042 - accuracy: 0.9986 - val_loss: 0.0085 - val_accuracy: 0.9976\n",
      "Epoch 50/100\n",
      "200000/200000 - 2s - loss: 0.0037 - accuracy: 0.9988 - val_loss: 0.0068 - val_accuracy: 0.9980\n",
      "Epoch 51/100\n",
      "200000/200000 - 2s - loss: 0.0035 - accuracy: 0.9988 - val_loss: 0.0069 - val_accuracy: 0.9978\n",
      "Epoch 52/100\n",
      "200000/200000 - 2s - loss: 0.0034 - accuracy: 0.9989 - val_loss: 0.0061 - val_accuracy: 0.9981\n",
      "Epoch 53/100\n",
      "200000/200000 - 2s - loss: 0.0037 - accuracy: 0.9988 - val_loss: 0.0059 - val_accuracy: 0.9982\n",
      "Epoch 54/100\n",
      "200000/200000 - 2s - loss: 0.0035 - accuracy: 0.9988 - val_loss: 0.0050 - val_accuracy: 0.9985\n",
      "Epoch 55/100\n",
      "200000/200000 - 2s - loss: 0.0028 - accuracy: 0.9991 - val_loss: 0.0047 - val_accuracy: 0.9988\n",
      "Epoch 56/100\n",
      "200000/200000 - 2s - loss: 0.0027 - accuracy: 0.9991 - val_loss: 0.0057 - val_accuracy: 0.9982\n",
      "Epoch 57/100\n",
      "200000/200000 - 2s - loss: 0.0035 - accuracy: 0.9988 - val_loss: 0.0051 - val_accuracy: 0.9983\n",
      "Epoch 58/100\n",
      "200000/200000 - 2s - loss: 0.0035 - accuracy: 0.9988 - val_loss: 0.0068 - val_accuracy: 0.9981\n",
      "Epoch 59/100\n",
      "200000/200000 - 2s - loss: 0.0029 - accuracy: 0.9990 - val_loss: 0.0068 - val_accuracy: 0.9984\n",
      "Epoch 60/100\n",
      "200000/200000 - 3s - loss: 0.0035 - accuracy: 0.9988 - val_loss: 0.0050 - val_accuracy: 0.9986\n",
      "Epoch 61/100\n",
      "200000/200000 - 2s - loss: 0.0042 - accuracy: 0.9987 - val_loss: 0.0064 - val_accuracy: 0.9983\n",
      "Epoch 62/100\n",
      "200000/200000 - 2s - loss: 0.0030 - accuracy: 0.9990 - val_loss: 0.0046 - val_accuracy: 0.9986\n",
      "Epoch 63/100\n",
      "200000/200000 - 2s - loss: 0.0028 - accuracy: 0.9991 - val_loss: 0.0047 - val_accuracy: 0.9987\n",
      "Epoch 64/100\n",
      "200000/200000 - 2s - loss: 0.0033 - accuracy: 0.9990 - val_loss: 0.0044 - val_accuracy: 0.9987\n",
      "Epoch 65/100\n",
      "200000/200000 - 2s - loss: 0.0023 - accuracy: 0.9992 - val_loss: 0.0062 - val_accuracy: 0.9985\n",
      "Epoch 66/100\n",
      "200000/200000 - 2s - loss: 0.0029 - accuracy: 0.9991 - val_loss: 0.0072 - val_accuracy: 0.9981\n",
      "Epoch 67/100\n",
      "200000/200000 - 2s - loss: 0.0028 - accuracy: 0.9991 - val_loss: 0.0052 - val_accuracy: 0.9986\n",
      "Epoch 68/100\n",
      "200000/200000 - 2s - loss: 0.0026 - accuracy: 0.9991 - val_loss: 0.0040 - val_accuracy: 0.9988\n",
      "Epoch 69/100\n",
      "200000/200000 - 2s - loss: 0.0025 - accuracy: 0.9992 - val_loss: 0.0057 - val_accuracy: 0.9984\n",
      "Epoch 70/100\n",
      "200000/200000 - 2s - loss: 0.0026 - accuracy: 0.9992 - val_loss: 0.0064 - val_accuracy: 0.9980\n",
      "Epoch 71/100\n",
      "200000/200000 - 2s - loss: 0.0041 - accuracy: 0.9987 - val_loss: 0.0074 - val_accuracy: 0.9981\n",
      "Epoch 72/100\n",
      "200000/200000 - 2s - loss: 0.0031 - accuracy: 0.9990 - val_loss: 0.0045 - val_accuracy: 0.9988\n",
      "Epoch 73/100\n",
      "200000/200000 - 2s - loss: 0.0022 - accuracy: 0.9993 - val_loss: 0.0049 - val_accuracy: 0.9986\n",
      "Epoch 74/100\n",
      "200000/200000 - 2s - loss: 0.0023 - accuracy: 0.9993 - val_loss: 0.0046 - val_accuracy: 0.9988\n",
      "Epoch 75/100\n",
      "200000/200000 - 2s - loss: 0.0022 - accuracy: 0.9993 - val_loss: 0.0064 - val_accuracy: 0.9985\n",
      "Epoch 76/100\n",
      "200000/200000 - 2s - loss: 0.0026 - accuracy: 0.9992 - val_loss: 0.0046 - val_accuracy: 0.9989\n"
     ]
    },
    {
     "name": "stdout",
     "output_type": "stream",
     "text": [
      "Epoch 77/100\n",
      "200000/200000 - 2s - loss: 0.0021 - accuracy: 0.9993 - val_loss: 0.0066 - val_accuracy: 0.9984\n",
      "Epoch 78/100\n",
      "200000/200000 - 2s - loss: 0.0032 - accuracy: 0.9990 - val_loss: 0.0057 - val_accuracy: 0.9985\n",
      "Epoch 79/100\n",
      "200000/200000 - 2s - loss: 0.0036 - accuracy: 0.9989 - val_loss: 0.0071 - val_accuracy: 0.9985\n",
      "Epoch 80/100\n",
      "200000/200000 - 2s - loss: 0.0029 - accuracy: 0.9991 - val_loss: 0.0052 - val_accuracy: 0.9987\n",
      "Epoch 81/100\n",
      "200000/200000 - 2s - loss: 0.0026 - accuracy: 0.9992 - val_loss: 0.0046 - val_accuracy: 0.9987\n",
      "Epoch 82/100\n",
      "200000/200000 - 2s - loss: 0.0021 - accuracy: 0.9993 - val_loss: 0.0040 - val_accuracy: 0.9990\n",
      "Epoch 83/100\n",
      "200000/200000 - 2s - loss: 0.0032 - accuracy: 0.9991 - val_loss: 0.0061 - val_accuracy: 0.9986\n",
      "Epoch 84/100\n",
      "200000/200000 - 2s - loss: 0.0029 - accuracy: 0.9991 - val_loss: 0.0046 - val_accuracy: 0.9989\n",
      "Epoch 85/100\n",
      "200000/200000 - 2s - loss: 0.0020 - accuracy: 0.9994 - val_loss: 0.0047 - val_accuracy: 0.9988\n",
      "Epoch 86/100\n",
      "200000/200000 - 2s - loss: 0.0022 - accuracy: 0.9994 - val_loss: 0.0051 - val_accuracy: 0.9987\n",
      "Epoch 87/100\n",
      "200000/200000 - 2s - loss: 0.0024 - accuracy: 0.9993 - val_loss: 0.0057 - val_accuracy: 0.9986\n",
      "Epoch 88/100\n",
      "200000/200000 - 2s - loss: 0.0025 - accuracy: 0.9992 - val_loss: 0.0034 - val_accuracy: 0.9990\n",
      "Epoch 89/100\n",
      "200000/200000 - 2s - loss: 0.0028 - accuracy: 0.9992 - val_loss: 0.0051 - val_accuracy: 0.9984\n",
      "Epoch 90/100\n",
      "200000/200000 - 2s - loss: 0.0020 - accuracy: 0.9994 - val_loss: 0.0044 - val_accuracy: 0.9989\n",
      "Epoch 91/100\n",
      "200000/200000 - 2s - loss: 0.0022 - accuracy: 0.9993 - val_loss: 0.0049 - val_accuracy: 0.9989\n",
      "Epoch 92/100\n",
      "200000/200000 - 2s - loss: 0.0022 - accuracy: 0.9993 - val_loss: 0.0041 - val_accuracy: 0.9990\n",
      "Epoch 93/100\n",
      "200000/200000 - 2s - loss: 0.0026 - accuracy: 0.9992 - val_loss: 0.0053 - val_accuracy: 0.9987\n",
      "Epoch 94/100\n",
      "200000/200000 - 2s - loss: 0.0029 - accuracy: 0.9992 - val_loss: 0.0046 - val_accuracy: 0.9987\n",
      "Epoch 95/100\n",
      "200000/200000 - 2s - loss: 0.0018 - accuracy: 0.9994 - val_loss: 0.0038 - val_accuracy: 0.9990\n",
      "Epoch 96/100\n",
      "200000/200000 - 2s - loss: 0.0020 - accuracy: 0.9994 - val_loss: 0.0059 - val_accuracy: 0.9986\n",
      "Epoch 97/100\n",
      "200000/200000 - 2s - loss: 0.0021 - accuracy: 0.9994 - val_loss: 0.0044 - val_accuracy: 0.9987\n",
      "Epoch 98/100\n",
      "200000/200000 - 2s - loss: 0.0020 - accuracy: 0.9994 - val_loss: 0.0061 - val_accuracy: 0.9984\n",
      "Epoch 99/100\n",
      "200000/200000 - 2s - loss: 0.0028 - accuracy: 0.9992 - val_loss: 0.0052 - val_accuracy: 0.9987\n",
      "Epoch 100/100\n",
      "200000/200000 - 2s - loss: 0.0025 - accuracy: 0.9993 - val_loss: 0.0050 - val_accuracy: 0.9989\n"
     ]
    }
   ],
   "source": [
    "model = tf.keras.models.Sequential([\n",
    "    tf.keras.layers.Dense(200, input_shape = [24], activation = 'relu'),\n",
    "    tf.keras.layers.Dense(200, activation = 'relu'),\n",
    "    #tf.keras.layers.Dense(200, activation = 'relu'),\n",
    "    tf.keras.layers.Dense(12, activation = 'sigmoid')\n",
    "])\n",
    "adam = tf.keras.optimizers.Adam(lr = 0.005)\n",
    "model.compile(optimizer = adam, loss = 'binary_crossentropy', metrics = ['accuracy'])\n",
    "\n",
    "history = model.fit(x_train, y_train, batch_size = 1024, epochs = 100, verbose = 2, validation_data = (x_test, y_test))\n"
   ]
  },
  {
   "cell_type": "code",
   "execution_count": 13,
   "metadata": {},
   "outputs": [
    {
     "data": {
      "image/png": "[encoded data removed]",
      "text/plain": [
       "<Figure size 432x288 with 1 Axes>"
      ]
     },
     "metadata": {
      "needs_background": "light"
     },
     "output_type": "display_data"
    }
   ],
   "source": [
    "import matplotlib.pyplot as plt\n",
    "plt.figure()\n",
    "acc = history.history['accuracy']\n",
    "loss = history.history['loss']\n",
    "val_acc = history.history['val_accuracy']\n",
    "val_loss = history.history['val_loss']\n",
    "epochs = range(len(acc))\n",
    "plt.plot(epochs, acc, 'r', label = 'Training accuracy')\n",
    "plt.plot(epochs, val_acc, 'b', label = 'Validating accuracy')\n",
    "plt.title('Training and Validating Accuracy')\n",
    "#plt.title('Training Accuracy')\n",
    "plt.legend()\n",
    "plt.show()"
   ]
  },
  {
   "cell_type": "code",
   "execution_count": 8,
   "metadata": {},
   "outputs": [
    {
     "name": "stdout",
     "output_type": "stream",
     "text": [
      "5000/1 - 0s - loss: 0.0630 - accuracy: 0.9720\n"
     ]
    },
    {
     "data": {
      "text/plain": [
       "[0.04715186712741852, 0.9720002]"
      ]
     },
     "execution_count": 8,
     "metadata": {},
     "output_type": "execute_result"
    }
   ],
   "source": [
    "#model.evaluate(x_test, y_test, verbose = 2)"
   ]
  },
  {
   "cell_type": "code",
   "execution_count": 14,
   "metadata": {},
   "outputs": [],
   "source": [
    "model.save('C:\\\\Users\\\\Wilfred\\\\Desktop\\\\weights\\\\Look_ahead_N\\\\Look_ahead_N_4_6_8_4_model.h5')"
   ]
  },
  {
   "cell_type": "code",
   "execution_count": null,
   "metadata": {},
   "outputs": [],
   "source": []
  }
 ],
 "metadata": {
  "kernelspec": {
   "display_name": "Python 3",
   "language": "python",
   "name": "python3"
  },
  "language_info": {
   "codemirror_mode": {
    "name": "ipython",
    "version": 3
   },
   "file_extension": ".py",
   "mimetype": "text/x-python",
   "name": "python",
   "nbconvert_exporter": "python",
   "pygments_lexer": "ipython3",
   "version": "3.7.5"
  }
 },
 "nbformat": 4,
 "nbformat_minor": 2
}
