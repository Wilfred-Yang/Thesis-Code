{
 "cells": [
  {
   "cell_type": "code",
   "execution_count": 1,
   "metadata": {},
   "outputs": [],
   "source": [
    "import tensorflow as tf\n",
    "import numpy as np\n",
    "import pickle\n",
    "np.random.seed(7)"
   ]
  },
  {
   "cell_type": "code",
   "execution_count": 2,
   "metadata": {},
   "outputs": [
    {
     "name": "stdout",
     "output_type": "stream",
     "text": [
      "(105000, 24)\n"
     ]
    }
   ],
   "source": [
    "with open ('C:\\\\Users\\\\Wilfred\\\\Desktop\\\\Look-ahead-N\\\\input_layer_4_6_10_4.pickle','rb') as file:\n",
    "    input_data = pickle.load(file)\n",
    "permutation = list(np.random.permutation(input_data.shape[0]))\n",
    "input_data = input_data[permutation,:]\n",
    "print(input_data.shape)\n",
    "x_train = input_data[:100000, :]\n",
    "x_test = input_data[100000:105000, :]\n"
   ]
  },
  {
   "cell_type": "code",
   "execution_count": 3,
   "metadata": {},
   "outputs": [
    {
     "name": "stdout",
     "output_type": "stream",
     "text": [
      "(105000, 12)\n"
     ]
    }
   ],
   "source": [
    "with open ('C:\\\\Users\\\\Wilfred\\\\Desktop\\\\Look-ahead-N\\\\output_layer_4_6_10_4.pickle','rb') as file:\n",
    "    output_data = pickle.load(file)\n",
    "output_data = np.transpose(output_data)\n",
    "output_data = output_data[permutation,:]\n",
    "y_train = output_data[:100000, :]\n",
    "y_test = output_data[100000:105000, :]\n",
    "print(output_data.shape)"
   ]
  },
  {
   "cell_type": "code",
   "execution_count": 4,
   "metadata": {},
   "outputs": [
    {
     "name": "stdout",
     "output_type": "stream",
     "text": [
      "Train on 100000 samples, validate on 5000 samples\n",
      "Epoch 1/100\n",
      "100000/100000 - 3s - loss: 0.2885 - accuracy: 0.8856 - val_loss: 0.2553 - val_accuracy: 0.8947\n",
      "Epoch 2/100\n",
      "100000/100000 - 1s - loss: 0.2363 - accuracy: 0.9019 - val_loss: 0.2204 - val_accuracy: 0.9060\n",
      "Epoch 3/100\n",
      "100000/100000 - 2s - loss: 0.1997 - accuracy: 0.9133 - val_loss: 0.1894 - val_accuracy: 0.9163\n",
      "Epoch 4/100\n",
      "100000/100000 - 2s - loss: 0.1688 - accuracy: 0.9239 - val_loss: 0.1646 - val_accuracy: 0.9247\n",
      "Epoch 5/100\n",
      "100000/100000 - 1s - loss: 0.1460 - accuracy: 0.9343 - val_loss: 0.1467 - val_accuracy: 0.9342\n",
      "Epoch 6/100\n",
      "100000/100000 - 1s - loss: 0.1280 - accuracy: 0.9431 - val_loss: 0.1307 - val_accuracy: 0.9427\n",
      "Epoch 7/100\n",
      "100000/100000 - 1s - loss: 0.1145 - accuracy: 0.9503 - val_loss: 0.1197 - val_accuracy: 0.9485\n",
      "Epoch 8/100\n",
      "100000/100000 - 1s - loss: 0.1038 - accuracy: 0.9557 - val_loss: 0.1101 - val_accuracy: 0.9544\n",
      "Epoch 9/100\n",
      "100000/100000 - 1s - loss: 0.0944 - accuracy: 0.9602 - val_loss: 0.1052 - val_accuracy: 0.9561\n",
      "Epoch 10/100\n",
      "100000/100000 - 1s - loss: 0.0867 - accuracy: 0.9640 - val_loss: 0.0946 - val_accuracy: 0.9611\n",
      "Epoch 11/100\n",
      "100000/100000 - 2s - loss: 0.0800 - accuracy: 0.9669 - val_loss: 0.0874 - val_accuracy: 0.9637\n",
      "Epoch 12/100\n",
      "100000/100000 - 2s - loss: 0.0750 - accuracy: 0.9691 - val_loss: 0.0860 - val_accuracy: 0.9649\n",
      "Epoch 13/100\n",
      "100000/100000 - 1s - loss: 0.0690 - accuracy: 0.9719 - val_loss: 0.0883 - val_accuracy: 0.9649\n",
      "Epoch 14/100\n",
      "100000/100000 - 1s - loss: 0.0659 - accuracy: 0.9731 - val_loss: 0.0755 - val_accuracy: 0.9694\n",
      "Epoch 15/100\n",
      "100000/100000 - 1s - loss: 0.0603 - accuracy: 0.9756 - val_loss: 0.0776 - val_accuracy: 0.9692\n",
      "Epoch 16/100\n",
      "100000/100000 - 1s - loss: 0.0562 - accuracy: 0.9773 - val_loss: 0.0703 - val_accuracy: 0.9719\n",
      "Epoch 17/100\n",
      "100000/100000 - 1s - loss: 0.0527 - accuracy: 0.9787 - val_loss: 0.0699 - val_accuracy: 0.9729\n",
      "Epoch 18/100\n",
      "100000/100000 - 1s - loss: 0.0509 - accuracy: 0.9795 - val_loss: 0.0704 - val_accuracy: 0.9727\n",
      "Epoch 19/100\n",
      "100000/100000 - 1s - loss: 0.0490 - accuracy: 0.9804 - val_loss: 0.0628 - val_accuracy: 0.9754\n",
      "Epoch 20/100\n",
      "100000/100000 - 1s - loss: 0.0440 - accuracy: 0.9824 - val_loss: 0.0602 - val_accuracy: 0.9765\n",
      "Epoch 21/100\n",
      "100000/100000 - 1s - loss: 0.0416 - accuracy: 0.9834 - val_loss: 0.0579 - val_accuracy: 0.9773\n",
      "Epoch 22/100\n",
      "100000/100000 - 1s - loss: 0.0415 - accuracy: 0.9834 - val_loss: 0.0577 - val_accuracy: 0.9779\n",
      "Epoch 23/100\n",
      "100000/100000 - 1s - loss: 0.0388 - accuracy: 0.9845 - val_loss: 0.0556 - val_accuracy: 0.9785\n",
      "Epoch 24/100\n",
      "100000/100000 - 1s - loss: 0.0357 - accuracy: 0.9858 - val_loss: 0.0529 - val_accuracy: 0.9802\n",
      "Epoch 25/100\n",
      "100000/100000 - 1s - loss: 0.0379 - accuracy: 0.9849 - val_loss: 0.0538 - val_accuracy: 0.9793\n",
      "Epoch 26/100\n",
      "100000/100000 - 1s - loss: 0.0336 - accuracy: 0.9865 - val_loss: 0.0535 - val_accuracy: 0.9796\n",
      "Epoch 27/100\n",
      "100000/100000 - 1s - loss: 0.0320 - accuracy: 0.9872 - val_loss: 0.0481 - val_accuracy: 0.9811\n",
      "Epoch 28/100\n",
      "100000/100000 - 1s - loss: 0.0322 - accuracy: 0.9872 - val_loss: 0.0542 - val_accuracy: 0.9800\n",
      "Epoch 29/100\n",
      "100000/100000 - 1s - loss: 0.0297 - accuracy: 0.9882 - val_loss: 0.0476 - val_accuracy: 0.9821\n",
      "Epoch 30/100\n",
      "100000/100000 - 2s - loss: 0.0315 - accuracy: 0.9875 - val_loss: 0.0471 - val_accuracy: 0.9819\n",
      "Epoch 31/100\n",
      "100000/100000 - 2s - loss: 0.0285 - accuracy: 0.9886 - val_loss: 0.0449 - val_accuracy: 0.9830\n",
      "Epoch 32/100\n",
      "100000/100000 - 1s - loss: 0.0271 - accuracy: 0.9891 - val_loss: 0.0437 - val_accuracy: 0.9834\n",
      "Epoch 33/100\n",
      "100000/100000 - 1s - loss: 0.0267 - accuracy: 0.9895 - val_loss: 0.0469 - val_accuracy: 0.9826\n",
      "Epoch 34/100\n",
      "100000/100000 - 2s - loss: 0.0257 - accuracy: 0.9899 - val_loss: 0.0454 - val_accuracy: 0.9832\n",
      "Epoch 35/100\n",
      "100000/100000 - 2s - loss: 0.0257 - accuracy: 0.9899 - val_loss: 0.0465 - val_accuracy: 0.9829\n",
      "Epoch 36/100\n",
      "100000/100000 - 2s - loss: 0.0252 - accuracy: 0.9901 - val_loss: 0.0400 - val_accuracy: 0.9843\n",
      "Epoch 37/100\n",
      "100000/100000 - 2s - loss: 0.0239 - accuracy: 0.9906 - val_loss: 0.0437 - val_accuracy: 0.9840\n",
      "Epoch 38/100\n",
      "100000/100000 - 2s - loss: 0.0239 - accuracy: 0.9904 - val_loss: 0.0431 - val_accuracy: 0.9841\n",
      "Epoch 39/100\n",
      "100000/100000 - 2s - loss: 0.0248 - accuracy: 0.9905 - val_loss: 0.0449 - val_accuracy: 0.9836\n",
      "Epoch 40/100\n",
      "100000/100000 - 2s - loss: 0.0221 - accuracy: 0.9913 - val_loss: 0.0424 - val_accuracy: 0.9846\n",
      "Epoch 41/100\n",
      "100000/100000 - 2s - loss: 0.0205 - accuracy: 0.9919 - val_loss: 0.0389 - val_accuracy: 0.9864\n",
      "Epoch 42/100\n",
      "100000/100000 - 2s - loss: 0.0206 - accuracy: 0.9920 - val_loss: 0.0413 - val_accuracy: 0.9853\n",
      "Epoch 43/100\n",
      "100000/100000 - 1s - loss: 0.0192 - accuracy: 0.9924 - val_loss: 0.0389 - val_accuracy: 0.9866\n",
      "Epoch 44/100\n",
      "100000/100000 - 1s - loss: 0.0203 - accuracy: 0.9921 - val_loss: 0.0424 - val_accuracy: 0.9842\n",
      "Epoch 45/100\n",
      "100000/100000 - 1s - loss: 0.0204 - accuracy: 0.9920 - val_loss: 0.0409 - val_accuracy: 0.9851\n",
      "Epoch 46/100\n",
      "100000/100000 - 1s - loss: 0.0178 - accuracy: 0.9929 - val_loss: 0.0354 - val_accuracy: 0.9868\n",
      "Epoch 47/100\n",
      "100000/100000 - 2s - loss: 0.0188 - accuracy: 0.9926 - val_loss: 0.0459 - val_accuracy: 0.9842\n",
      "Epoch 48/100\n",
      "100000/100000 - 1s - loss: 0.0211 - accuracy: 0.9918 - val_loss: 0.0353 - val_accuracy: 0.9870\n",
      "Epoch 49/100\n",
      "100000/100000 - 1s - loss: 0.0173 - accuracy: 0.9933 - val_loss: 0.0378 - val_accuracy: 0.9868\n",
      "Epoch 50/100\n",
      "100000/100000 - 2s - loss: 0.0177 - accuracy: 0.9931 - val_loss: 0.0411 - val_accuracy: 0.9855\n",
      "Epoch 51/100\n",
      "100000/100000 - 2s - loss: 0.0193 - accuracy: 0.9927 - val_loss: 0.0421 - val_accuracy: 0.9854\n",
      "Epoch 52/100\n",
      "100000/100000 - 2s - loss: 0.0187 - accuracy: 0.9929 - val_loss: 0.0348 - val_accuracy: 0.9882\n",
      "Epoch 53/100\n",
      "100000/100000 - 2s - loss: 0.0173 - accuracy: 0.9933 - val_loss: 0.0431 - val_accuracy: 0.9865\n",
      "Epoch 54/100\n",
      "100000/100000 - 2s - loss: 0.0186 - accuracy: 0.9929 - val_loss: 0.0359 - val_accuracy: 0.9872\n",
      "Epoch 55/100\n",
      "100000/100000 - 2s - loss: 0.0181 - accuracy: 0.9931 - val_loss: 0.0370 - val_accuracy: 0.9872\n",
      "Epoch 56/100\n",
      "100000/100000 - 2s - loss: 0.0146 - accuracy: 0.9943 - val_loss: 0.0308 - val_accuracy: 0.9892\n",
      "Epoch 57/100\n",
      "100000/100000 - 2s - loss: 0.0182 - accuracy: 0.9932 - val_loss: 0.0367 - val_accuracy: 0.9874\n",
      "Epoch 58/100\n",
      "100000/100000 - 2s - loss: 0.0164 - accuracy: 0.9938 - val_loss: 0.0334 - val_accuracy: 0.9886\n",
      "Epoch 59/100\n",
      "100000/100000 - 2s - loss: 0.0136 - accuracy: 0.9947 - val_loss: 0.0322 - val_accuracy: 0.9890\n",
      "Epoch 60/100\n",
      "100000/100000 - 1s - loss: 0.0166 - accuracy: 0.9938 - val_loss: 0.0412 - val_accuracy: 0.9863\n",
      "Epoch 61/100\n",
      "100000/100000 - 1s - loss: 0.0169 - accuracy: 0.9936 - val_loss: 0.0354 - val_accuracy: 0.9882\n",
      "Epoch 62/100\n",
      "100000/100000 - 1s - loss: 0.0159 - accuracy: 0.9940 - val_loss: 0.0400 - val_accuracy: 0.9872\n",
      "Epoch 63/100\n",
      "100000/100000 - 1s - loss: 0.0159 - accuracy: 0.9940 - val_loss: 0.0362 - val_accuracy: 0.9883\n",
      "Epoch 64/100\n",
      "100000/100000 - 2s - loss: 0.0139 - accuracy: 0.9948 - val_loss: 0.0369 - val_accuracy: 0.9875\n",
      "Epoch 65/100\n",
      "100000/100000 - 2s - loss: 0.0132 - accuracy: 0.9950 - val_loss: 0.0365 - val_accuracy: 0.9882\n",
      "Epoch 66/100\n",
      "100000/100000 - 1s - loss: 0.0160 - accuracy: 0.9941 - val_loss: 0.0384 - val_accuracy: 0.9876\n",
      "Epoch 67/100\n",
      "100000/100000 - 1s - loss: 0.0168 - accuracy: 0.9938 - val_loss: 0.0366 - val_accuracy: 0.9877\n",
      "Epoch 68/100\n",
      "100000/100000 - 1s - loss: 0.0141 - accuracy: 0.9947 - val_loss: 0.0348 - val_accuracy: 0.9884\n",
      "Epoch 69/100\n",
      "100000/100000 - 2s - loss: 0.0127 - accuracy: 0.9952 - val_loss: 0.0326 - val_accuracy: 0.9889\n",
      "Epoch 70/100\n",
      "100000/100000 - 1s - loss: 0.0152 - accuracy: 0.9945 - val_loss: 0.0347 - val_accuracy: 0.9892\n",
      "Epoch 71/100\n",
      "100000/100000 - 1s - loss: 0.0126 - accuracy: 0.9953 - val_loss: 0.0338 - val_accuracy: 0.9898\n",
      "Epoch 72/100\n",
      "100000/100000 - 1s - loss: 0.0104 - accuracy: 0.9960 - val_loss: 0.0331 - val_accuracy: 0.9900\n",
      "Epoch 73/100\n",
      "100000/100000 - 1s - loss: 0.0158 - accuracy: 0.9943 - val_loss: 0.0321 - val_accuracy: 0.9895\n",
      "Epoch 74/100\n",
      "100000/100000 - 1s - loss: 0.0129 - accuracy: 0.9953 - val_loss: 0.0304 - val_accuracy: 0.9899\n",
      "Epoch 75/100\n",
      "100000/100000 - 1s - loss: 0.0108 - accuracy: 0.9959 - val_loss: 0.0313 - val_accuracy: 0.9902\n",
      "Epoch 76/100\n",
      "100000/100000 - 1s - loss: 0.0109 - accuracy: 0.9958 - val_loss: 0.0351 - val_accuracy: 0.9891\n"
     ]
    },
    {
     "name": "stdout",
     "output_type": "stream",
     "text": [
      "Epoch 77/100\n",
      "100000/100000 - 1s - loss: 0.0121 - accuracy: 0.9956 - val_loss: 0.0473 - val_accuracy: 0.9872\n",
      "Epoch 78/100\n",
      "100000/100000 - 1s - loss: 0.0140 - accuracy: 0.9950 - val_loss: 0.0374 - val_accuracy: 0.9885\n",
      "Epoch 79/100\n",
      "100000/100000 - 1s - loss: 0.0147 - accuracy: 0.9947 - val_loss: 0.0324 - val_accuracy: 0.9894\n",
      "Epoch 80/100\n",
      "100000/100000 - 2s - loss: 0.0111 - accuracy: 0.9958 - val_loss: 0.0304 - val_accuracy: 0.9902\n",
      "Epoch 81/100\n",
      "100000/100000 - 2s - loss: 0.0096 - accuracy: 0.9964 - val_loss: 0.0324 - val_accuracy: 0.9901\n",
      "Epoch 82/100\n",
      "100000/100000 - 1s - loss: 0.0110 - accuracy: 0.9960 - val_loss: 0.0326 - val_accuracy: 0.9900\n",
      "Epoch 83/100\n",
      "100000/100000 - 1s - loss: 0.0123 - accuracy: 0.9956 - val_loss: 0.0328 - val_accuracy: 0.9897\n",
      "Epoch 84/100\n",
      "100000/100000 - 1s - loss: 0.0111 - accuracy: 0.9960 - val_loss: 0.0331 - val_accuracy: 0.9902\n",
      "Epoch 85/100\n",
      "100000/100000 - 1s - loss: 0.0133 - accuracy: 0.9952 - val_loss: 0.0313 - val_accuracy: 0.9902\n",
      "Epoch 86/100\n",
      "100000/100000 - 1s - loss: 0.0146 - accuracy: 0.9949 - val_loss: 0.0338 - val_accuracy: 0.9890\n",
      "Epoch 87/100\n",
      "100000/100000 - 1s - loss: 0.0123 - accuracy: 0.9955 - val_loss: 0.0342 - val_accuracy: 0.9908\n",
      "Epoch 88/100\n",
      "100000/100000 - 1s - loss: 0.0097 - accuracy: 0.9965 - val_loss: 0.0268 - val_accuracy: 0.9914\n",
      "Epoch 89/100\n",
      "100000/100000 - 1s - loss: 0.0070 - accuracy: 0.9974 - val_loss: 0.0317 - val_accuracy: 0.9912\n",
      "Epoch 90/100\n",
      "100000/100000 - 1s - loss: 0.0083 - accuracy: 0.9970 - val_loss: 0.0376 - val_accuracy: 0.9898\n",
      "Epoch 91/100\n",
      "100000/100000 - 1s - loss: 0.0123 - accuracy: 0.9957 - val_loss: 0.0371 - val_accuracy: 0.9894\n",
      "Epoch 92/100\n",
      "100000/100000 - 2s - loss: 0.0117 - accuracy: 0.9958 - val_loss: 0.0375 - val_accuracy: 0.9899\n",
      "Epoch 93/100\n",
      "100000/100000 - 1s - loss: 0.0092 - accuracy: 0.9966 - val_loss: 0.0278 - val_accuracy: 0.9919\n",
      "Epoch 94/100\n",
      "100000/100000 - 1s - loss: 0.0093 - accuracy: 0.9967 - val_loss: 0.0408 - val_accuracy: 0.9888\n",
      "Epoch 95/100\n",
      "100000/100000 - 1s - loss: 0.0152 - accuracy: 0.9949 - val_loss: 0.0374 - val_accuracy: 0.9890\n",
      "Epoch 96/100\n",
      "100000/100000 - 2s - loss: 0.0117 - accuracy: 0.9959 - val_loss: 0.0305 - val_accuracy: 0.9909\n",
      "Epoch 97/100\n",
      "100000/100000 - 2s - loss: 0.0079 - accuracy: 0.9971 - val_loss: 0.0294 - val_accuracy: 0.9917\n",
      "Epoch 98/100\n",
      "100000/100000 - 2s - loss: 0.0096 - accuracy: 0.9967 - val_loss: 0.0401 - val_accuracy: 0.9887\n",
      "Epoch 99/100\n",
      "100000/100000 - 2s - loss: 0.0097 - accuracy: 0.9965 - val_loss: 0.0287 - val_accuracy: 0.9915\n",
      "Epoch 100/100\n",
      "100000/100000 - 1s - loss: 0.0080 - accuracy: 0.9971 - val_loss: 0.0340 - val_accuracy: 0.9906\n"
     ]
    }
   ],
   "source": [
    "model = tf.keras.models.Sequential([\n",
    "    tf.keras.layers.Dense(130, input_shape = [24], activation = 'relu'),\n",
    "    tf.keras.layers.Dense(130, activation = 'relu'),\n",
    "    tf.keras.layers.Dense(130, activation = 'relu'),\n",
    "    tf.keras.layers.Dense(130, activation = 'relu'),\n",
    "    tf.keras.layers.Dense(12, activation = 'sigmoid')\n",
    "])\n",
    "adam = tf.keras.optimizers.Adam(lr = 0.005)\n",
    "model.compile(optimizer = adam, loss = 'binary_crossentropy', metrics = ['accuracy'])\n",
    "\n",
    "history = model.fit(x_train, y_train, batch_size = 1024, epochs = 100, verbose = 2, validation_data = (x_test, y_test))\n"
   ]
  },
  {
   "cell_type": "code",
   "execution_count": 6,
   "metadata": {},
   "outputs": [
    {
     "data": {
      "image/png": "[encoded data removed]",
      "text/plain": [
       "<Figure size 432x288 with 1 Axes>"
      ]
     },
     "metadata": {
      "needs_background": "light"
     },
     "output_type": "display_data"
    }
   ],
   "source": [
    "import matplotlib.pyplot as plt\n",
    "plt.figure()\n",
    "acc = history.history['accuracy']\n",
    "loss = history.history['loss']\n",
    "val_acc = history.history['val_accuracy']\n",
    "val_loss = history.history['val_loss']\n",
    "epochs = range(len(acc))\n",
    "plt.plot(epochs, acc, 'r', label = 'Training accuracy')\n",
    "plt.plot(epochs, val_acc, 'b', label = 'Validating accuracy')\n",
    "plt.title('Training and Validating Accuracy')\n",
    "#plt.title('Training Accuracy')\n",
    "plt.legend()\n",
    "plt.show()"
   ]
  },
  {
   "cell_type": "code",
   "execution_count": 8,
   "metadata": {},
   "outputs": [
    {
     "name": "stdout",
     "output_type": "stream",
     "text": [
      "5000/1 - 0s - loss: 0.0630 - accuracy: 0.9720\n"
     ]
    },
    {
     "data": {
      "text/plain": [
       "[0.04715186712741852, 0.9720002]"
      ]
     },
     "execution_count": 8,
     "metadata": {},
     "output_type": "execute_result"
    }
   ],
   "source": [
    "#model.evaluate(x_test, y_test, verbose = 2)"
   ]
  },
  {
   "cell_type": "code",
   "execution_count": 7,
   "metadata": {},
   "outputs": [],
   "source": [
    "model.save('C:\\\\Users\\\\Wilfred\\\\Desktop\\\\weights\\\\Look_ahead_N\\\\Look_ahead_N_4_6_10_4_model.h5')"
   ]
  },
  {
   "cell_type": "code",
   "execution_count": null,
   "metadata": {},
   "outputs": [],
   "source": []
  }
 ],
 "metadata": {
  "kernelspec": {
   "display_name": "Python 3",
   "language": "python",
   "name": "python3"
  },
  "language_info": {
   "codemirror_mode": {
    "name": "ipython",
    "version": 3
   },
   "file_extension": ".py",
   "mimetype": "text/x-python",
   "name": "python",
   "nbconvert_exporter": "python",
   "pygments_lexer": "ipython3",
   "version": "3.7.5"
  }
 },
 "nbformat": 4,
 "nbformat_minor": 2
}
