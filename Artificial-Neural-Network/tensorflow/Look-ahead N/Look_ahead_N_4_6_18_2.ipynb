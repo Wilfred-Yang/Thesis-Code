{
 "cells": [
  {
   "cell_type": "code",
   "execution_count": 1,
   "metadata": {},
   "outputs": [],
   "source": [
    "import tensorflow as tf\n",
    "import numpy as np\n",
    "import pickle\n",
    "np.random.seed(7)"
   ]
  },
  {
   "cell_type": "code",
   "execution_count": 2,
   "metadata": {},
   "outputs": [
    {
     "name": "stdout",
     "output_type": "stream",
     "text": [
      "(105000, 24)\n"
     ]
    }
   ],
   "source": [
    "with open ('C:\\\\Users\\\\Wilfred\\\\Desktop\\\\Look-ahead-N\\\\input_layer_4_6_18_2.pickle','rb') as file:\n",
    "    input_data = pickle.load(file)\n",
    "permutation = list(np.random.permutation(input_data.shape[0]))\n",
    "input_data = input_data[permutation,:]\n",
    "print(input_data.shape)\n",
    "x_train = input_data[:100000, :]\n",
    "x_test = input_data[100000:105000, :]\n"
   ]
  },
  {
   "cell_type": "code",
   "execution_count": 3,
   "metadata": {},
   "outputs": [
    {
     "name": "stdout",
     "output_type": "stream",
     "text": [
      "(105000, 12)\n"
     ]
    }
   ],
   "source": [
    "with open ('C:\\\\Users\\\\Wilfred\\\\Desktop\\\\Look-ahead-N\\\\output_layer_4_6_18_2.pickle','rb') as file:\n",
    "    output_data = pickle.load(file)\n",
    "output_data = np.transpose(output_data)\n",
    "output_data = output_data[permutation,:]\n",
    "y_train = output_data[:100000, :]\n",
    "y_test = output_data[100000:105000, :]\n",
    "print(output_data.shape)"
   ]
  },
  {
   "cell_type": "code",
   "execution_count": 4,
   "metadata": {},
   "outputs": [
    {
     "name": "stdout",
     "output_type": "stream",
     "text": [
      "Train on 100000 samples, validate on 5000 samples\n",
      "Epoch 1/100\n",
      "100000/100000 - 4s - loss: 0.3942 - accuracy: 0.8331 - val_loss: 0.3174 - val_accuracy: 0.8536\n",
      "Epoch 2/100\n",
      "100000/100000 - 3s - loss: 0.2835 - accuracy: 0.8711 - val_loss: 0.2604 - val_accuracy: 0.8816\n",
      "Epoch 3/100\n",
      "100000/100000 - 3s - loss: 0.2331 - accuracy: 0.8958 - val_loss: 0.2283 - val_accuracy: 0.8968\n",
      "Epoch 4/100\n",
      "100000/100000 - 3s - loss: 0.2061 - accuracy: 0.9081 - val_loss: 0.2010 - val_accuracy: 0.9115\n",
      "Epoch 5/100\n",
      "100000/100000 - 3s - loss: 0.1905 - accuracy: 0.9148 - val_loss: 0.1893 - val_accuracy: 0.9145\n",
      "Epoch 6/100\n",
      "100000/100000 - 3s - loss: 0.1777 - accuracy: 0.9204 - val_loss: 0.1787 - val_accuracy: 0.9201\n",
      "Epoch 7/100\n",
      "100000/100000 - 3s - loss: 0.1677 - accuracy: 0.9245 - val_loss: 0.1773 - val_accuracy: 0.9224\n",
      "Epoch 8/100\n",
      "100000/100000 - 3s - loss: 0.1597 - accuracy: 0.9280 - val_loss: 0.1646 - val_accuracy: 0.9259\n",
      "Epoch 9/100\n",
      "100000/100000 - 3s - loss: 0.1528 - accuracy: 0.9313 - val_loss: 0.1599 - val_accuracy: 0.9286\n",
      "Epoch 10/100\n",
      "100000/100000 - 3s - loss: 0.1429 - accuracy: 0.9356 - val_loss: 0.1453 - val_accuracy: 0.9345\n",
      "Epoch 11/100\n",
      "100000/100000 - 3s - loss: 0.1388 - accuracy: 0.9372 - val_loss: 0.1522 - val_accuracy: 0.9315\n",
      "Epoch 12/100\n",
      "100000/100000 - 3s - loss: 0.1307 - accuracy: 0.9403 - val_loss: 0.1358 - val_accuracy: 0.9377\n",
      "Epoch 13/100\n",
      "100000/100000 - 3s - loss: 0.1261 - accuracy: 0.9423 - val_loss: 0.1307 - val_accuracy: 0.9400\n",
      "Epoch 14/100\n",
      "100000/100000 - 3s - loss: 0.1201 - accuracy: 0.9446 - val_loss: 0.1258 - val_accuracy: 0.9421\n",
      "Epoch 15/100\n",
      "100000/100000 - 3s - loss: 0.1173 - accuracy: 0.9460 - val_loss: 0.1234 - val_accuracy: 0.9423\n",
      "Epoch 16/100\n",
      "100000/100000 - 3s - loss: 0.1102 - accuracy: 0.9491 - val_loss: 0.1171 - val_accuracy: 0.9465\n",
      "Epoch 17/100\n",
      "100000/100000 - 3s - loss: 0.1079 - accuracy: 0.9501 - val_loss: 0.1152 - val_accuracy: 0.9466\n",
      "Epoch 18/100\n",
      "100000/100000 - 3s - loss: 0.1053 - accuracy: 0.9513 - val_loss: 0.1167 - val_accuracy: 0.9474\n",
      "Epoch 19/100\n",
      "100000/100000 - 3s - loss: 0.1034 - accuracy: 0.9522 - val_loss: 0.1174 - val_accuracy: 0.9463\n",
      "Epoch 20/100\n",
      "100000/100000 - 3s - loss: 0.0998 - accuracy: 0.9539 - val_loss: 0.1088 - val_accuracy: 0.9493\n",
      "Epoch 21/100\n",
      "100000/100000 - 3s - loss: 0.0964 - accuracy: 0.9551 - val_loss: 0.1079 - val_accuracy: 0.9509\n",
      "Epoch 22/100\n",
      "100000/100000 - 3s - loss: 0.0940 - accuracy: 0.9564 - val_loss: 0.1162 - val_accuracy: 0.9472\n",
      "Epoch 23/100\n",
      "100000/100000 - 3s - loss: 0.0950 - accuracy: 0.9559 - val_loss: 0.1067 - val_accuracy: 0.9501\n",
      "Epoch 24/100\n",
      "100000/100000 - 3s - loss: 0.0911 - accuracy: 0.9581 - val_loss: 0.1031 - val_accuracy: 0.9525\n",
      "Epoch 25/100\n",
      "100000/100000 - 3s - loss: 0.0897 - accuracy: 0.9587 - val_loss: 0.1033 - val_accuracy: 0.9536\n",
      "Epoch 26/100\n",
      "100000/100000 - 3s - loss: 0.0876 - accuracy: 0.9595 - val_loss: 0.1000 - val_accuracy: 0.9536\n",
      "Epoch 27/100\n",
      "100000/100000 - 3s - loss: 0.0859 - accuracy: 0.9602 - val_loss: 0.1016 - val_accuracy: 0.9533\n",
      "Epoch 28/100\n",
      "100000/100000 - 3s - loss: 0.0839 - accuracy: 0.9612 - val_loss: 0.0984 - val_accuracy: 0.9551\n",
      "Epoch 29/100\n",
      "100000/100000 - 3s - loss: 0.0832 - accuracy: 0.9617 - val_loss: 0.1092 - val_accuracy: 0.9515\n",
      "Epoch 30/100\n",
      "100000/100000 - 3s - loss: 0.0812 - accuracy: 0.9627 - val_loss: 0.0966 - val_accuracy: 0.9568\n",
      "Epoch 31/100\n",
      "100000/100000 - 3s - loss: 0.0806 - accuracy: 0.9631 - val_loss: 0.1009 - val_accuracy: 0.9559\n",
      "Epoch 32/100\n",
      "100000/100000 - 3s - loss: 0.0796 - accuracy: 0.9637 - val_loss: 0.0953 - val_accuracy: 0.9567\n",
      "Epoch 33/100\n",
      "100000/100000 - 3s - loss: 0.0777 - accuracy: 0.9645 - val_loss: 0.0901 - val_accuracy: 0.9595\n",
      "Epoch 34/100\n",
      "100000/100000 - 3s - loss: 0.0780 - accuracy: 0.9646 - val_loss: 0.0962 - val_accuracy: 0.9562\n",
      "Epoch 35/100\n",
      "100000/100000 - 3s - loss: 0.0755 - accuracy: 0.9657 - val_loss: 0.0882 - val_accuracy: 0.9605\n",
      "Epoch 36/100\n",
      "100000/100000 - 3s - loss: 0.0734 - accuracy: 0.9666 - val_loss: 0.0888 - val_accuracy: 0.9606\n",
      "Epoch 37/100\n",
      "100000/100000 - 3s - loss: 0.0725 - accuracy: 0.9673 - val_loss: 0.0949 - val_accuracy: 0.9578\n",
      "Epoch 38/100\n",
      "100000/100000 - 3s - loss: 0.0749 - accuracy: 0.9664 - val_loss: 0.0937 - val_accuracy: 0.9594\n",
      "Epoch 39/100\n",
      "100000/100000 - 3s - loss: 0.0724 - accuracy: 0.9673 - val_loss: 0.0951 - val_accuracy: 0.9576\n",
      "Epoch 40/100\n",
      "100000/100000 - 3s - loss: 0.0707 - accuracy: 0.9684 - val_loss: 0.0912 - val_accuracy: 0.9601\n",
      "Epoch 41/100\n",
      "100000/100000 - 3s - loss: 0.0688 - accuracy: 0.9692 - val_loss: 0.0913 - val_accuracy: 0.9604\n",
      "Epoch 42/100\n",
      "100000/100000 - 3s - loss: 0.0692 - accuracy: 0.9689 - val_loss: 0.0917 - val_accuracy: 0.9601\n",
      "Epoch 43/100\n",
      "100000/100000 - 3s - loss: 0.0692 - accuracy: 0.9691 - val_loss: 0.0915 - val_accuracy: 0.9598\n",
      "Epoch 44/100\n",
      "100000/100000 - 3s - loss: 0.0668 - accuracy: 0.9702 - val_loss: 0.0889 - val_accuracy: 0.9614\n",
      "Epoch 45/100\n",
      "100000/100000 - 3s - loss: 0.0663 - accuracy: 0.9705 - val_loss: 0.0873 - val_accuracy: 0.9611\n",
      "Epoch 46/100\n",
      "100000/100000 - 3s - loss: 0.0665 - accuracy: 0.9706 - val_loss: 0.1013 - val_accuracy: 0.9574\n",
      "Epoch 47/100\n",
      "100000/100000 - 3s - loss: 0.0646 - accuracy: 0.9714 - val_loss: 0.0847 - val_accuracy: 0.9632\n",
      "Epoch 48/100\n",
      "100000/100000 - 3s - loss: 0.0643 - accuracy: 0.9718 - val_loss: 0.0883 - val_accuracy: 0.9617\n",
      "Epoch 49/100\n",
      "100000/100000 - 3s - loss: 0.0621 - accuracy: 0.9726 - val_loss: 0.0843 - val_accuracy: 0.9636\n",
      "Epoch 50/100\n",
      "100000/100000 - 3s - loss: 0.0609 - accuracy: 0.9733 - val_loss: 0.0908 - val_accuracy: 0.9613\n",
      "Epoch 51/100\n",
      "100000/100000 - 3s - loss: 0.0629 - accuracy: 0.9723 - val_loss: 0.0942 - val_accuracy: 0.9616\n",
      "Epoch 52/100\n",
      "100000/100000 - 3s - loss: 0.0607 - accuracy: 0.9733 - val_loss: 0.0985 - val_accuracy: 0.9595\n",
      "Epoch 53/100\n",
      "100000/100000 - 3s - loss: 0.0613 - accuracy: 0.9729 - val_loss: 0.0892 - val_accuracy: 0.9628\n",
      "Epoch 54/100\n",
      "100000/100000 - 3s - loss: 0.0575 - accuracy: 0.9751 - val_loss: 0.0899 - val_accuracy: 0.9616\n",
      "Epoch 55/100\n",
      "100000/100000 - 3s - loss: 0.0573 - accuracy: 0.9751 - val_loss: 0.0872 - val_accuracy: 0.9640\n",
      "Epoch 56/100\n",
      "100000/100000 - 3s - loss: 0.0581 - accuracy: 0.9746 - val_loss: 0.0895 - val_accuracy: 0.9647\n",
      "Epoch 57/100\n",
      "100000/100000 - 3s - loss: 0.0578 - accuracy: 0.9748 - val_loss: 0.0894 - val_accuracy: 0.9632\n",
      "Epoch 58/100\n",
      "100000/100000 - 3s - loss: 0.0573 - accuracy: 0.9751 - val_loss: 0.0871 - val_accuracy: 0.9643\n",
      "Epoch 59/100\n",
      "100000/100000 - 3s - loss: 0.0562 - accuracy: 0.9758 - val_loss: 0.0836 - val_accuracy: 0.9646\n",
      "Epoch 60/100\n",
      "100000/100000 - 3s - loss: 0.0560 - accuracy: 0.9759 - val_loss: 0.0917 - val_accuracy: 0.9628\n",
      "Epoch 61/100\n",
      "100000/100000 - 3s - loss: 0.0558 - accuracy: 0.9758 - val_loss: 0.0856 - val_accuracy: 0.9652\n",
      "Epoch 62/100\n",
      "100000/100000 - 3s - loss: 0.0544 - accuracy: 0.9764 - val_loss: 0.0886 - val_accuracy: 0.9638\n",
      "Epoch 63/100\n",
      "100000/100000 - 3s - loss: 0.0545 - accuracy: 0.9766 - val_loss: 0.0873 - val_accuracy: 0.9647\n",
      "Epoch 64/100\n",
      "100000/100000 - 3s - loss: 0.0544 - accuracy: 0.9767 - val_loss: 0.0845 - val_accuracy: 0.9650\n",
      "Epoch 65/100\n",
      "100000/100000 - 3s - loss: 0.0531 - accuracy: 0.9772 - val_loss: 0.0866 - val_accuracy: 0.9657\n",
      "Epoch 66/100\n",
      "100000/100000 - 4s - loss: 0.0530 - accuracy: 0.9774 - val_loss: 0.0830 - val_accuracy: 0.9656\n",
      "Epoch 67/100\n",
      "100000/100000 - 4s - loss: 0.0524 - accuracy: 0.9778 - val_loss: 0.0908 - val_accuracy: 0.9642\n",
      "Epoch 68/100\n",
      "100000/100000 - 4s - loss: 0.0516 - accuracy: 0.9779 - val_loss: 0.0906 - val_accuracy: 0.9639\n",
      "Epoch 69/100\n",
      "100000/100000 - 5s - loss: 0.0513 - accuracy: 0.9784 - val_loss: 0.0869 - val_accuracy: 0.9651\n",
      "Epoch 70/100\n",
      "100000/100000 - 4s - loss: 0.0503 - accuracy: 0.9785 - val_loss: 0.0845 - val_accuracy: 0.9670\n",
      "Epoch 71/100\n",
      "100000/100000 - 4s - loss: 0.0498 - accuracy: 0.9789 - val_loss: 0.0815 - val_accuracy: 0.9670\n",
      "Epoch 72/100\n",
      "100000/100000 - 4s - loss: 0.0491 - accuracy: 0.9792 - val_loss: 0.0847 - val_accuracy: 0.9662\n",
      "Epoch 73/100\n",
      "100000/100000 - 4s - loss: 0.0491 - accuracy: 0.9793 - val_loss: 0.0892 - val_accuracy: 0.9654\n",
      "Epoch 74/100\n",
      "100000/100000 - 4s - loss: 0.0495 - accuracy: 0.9790 - val_loss: 0.0813 - val_accuracy: 0.9675\n",
      "Epoch 75/100\n",
      "100000/100000 - 4s - loss: 0.0473 - accuracy: 0.9802 - val_loss: 0.0924 - val_accuracy: 0.9646\n",
      "Epoch 76/100\n",
      "100000/100000 - 4s - loss: 0.0516 - accuracy: 0.9782 - val_loss: 0.0858 - val_accuracy: 0.9670\n"
     ]
    },
    {
     "name": "stdout",
     "output_type": "stream",
     "text": [
      "Epoch 77/100\n",
      "100000/100000 - 4s - loss: 0.0467 - accuracy: 0.9802 - val_loss: 0.0842 - val_accuracy: 0.9675\n",
      "Epoch 78/100\n",
      "100000/100000 - 4s - loss: 0.0464 - accuracy: 0.9805 - val_loss: 0.0882 - val_accuracy: 0.9652\n",
      "Epoch 79/100\n",
      "100000/100000 - 4s - loss: 0.0459 - accuracy: 0.9807 - val_loss: 0.0900 - val_accuracy: 0.9649\n",
      "Epoch 80/100\n",
      "100000/100000 - 4s - loss: 0.0482 - accuracy: 0.9799 - val_loss: 0.0891 - val_accuracy: 0.9648\n",
      "Epoch 81/100\n",
      "100000/100000 - 4s - loss: 0.0444 - accuracy: 0.9814 - val_loss: 0.0865 - val_accuracy: 0.9672\n",
      "Epoch 82/100\n",
      "100000/100000 - 3s - loss: 0.0443 - accuracy: 0.9815 - val_loss: 0.0906 - val_accuracy: 0.9672\n",
      "Epoch 83/100\n",
      "100000/100000 - 3s - loss: 0.0459 - accuracy: 0.9809 - val_loss: 0.0831 - val_accuracy: 0.9681\n",
      "Epoch 84/100\n",
      "100000/100000 - 4s - loss: 0.0451 - accuracy: 0.9812 - val_loss: 0.0840 - val_accuracy: 0.9689\n",
      "Epoch 85/100\n",
      "100000/100000 - 4s - loss: 0.0442 - accuracy: 0.9816 - val_loss: 0.0883 - val_accuracy: 0.9676\n",
      "Epoch 86/100\n",
      "100000/100000 - 4s - loss: 0.0443 - accuracy: 0.9816 - val_loss: 0.0853 - val_accuracy: 0.9685\n",
      "Epoch 87/100\n",
      "100000/100000 - 3s - loss: 0.0442 - accuracy: 0.9817 - val_loss: 0.0862 - val_accuracy: 0.9680\n",
      "Epoch 88/100\n",
      "100000/100000 - 3s - loss: 0.0460 - accuracy: 0.9810 - val_loss: 0.0785 - val_accuracy: 0.9695\n",
      "Epoch 89/100\n",
      "100000/100000 - 4s - loss: 0.0445 - accuracy: 0.9816 - val_loss: 0.0867 - val_accuracy: 0.9672\n",
      "Epoch 90/100\n",
      "100000/100000 - 3s - loss: 0.0427 - accuracy: 0.9823 - val_loss: 0.0931 - val_accuracy: 0.9660\n",
      "Epoch 91/100\n",
      "100000/100000 - 3s - loss: 0.0438 - accuracy: 0.9819 - val_loss: 0.0909 - val_accuracy: 0.9671\n",
      "Epoch 92/100\n",
      "100000/100000 - 3s - loss: 0.0420 - accuracy: 0.9827 - val_loss: 0.0872 - val_accuracy: 0.9693\n",
      "Epoch 93/100\n",
      "100000/100000 - 3s - loss: 0.0426 - accuracy: 0.9825 - val_loss: 0.0877 - val_accuracy: 0.9682\n",
      "Epoch 94/100\n",
      "100000/100000 - 3s - loss: 0.0410 - accuracy: 0.9831 - val_loss: 0.0876 - val_accuracy: 0.9681\n",
      "Epoch 95/100\n",
      "100000/100000 - 3s - loss: 0.0428 - accuracy: 0.9824 - val_loss: 0.0893 - val_accuracy: 0.9668\n",
      "Epoch 96/100\n",
      "100000/100000 - 3s - loss: 0.0426 - accuracy: 0.9826 - val_loss: 0.0920 - val_accuracy: 0.9677\n",
      "Epoch 97/100\n",
      "100000/100000 - 3s - loss: 0.0402 - accuracy: 0.9834 - val_loss: 0.0883 - val_accuracy: 0.9667\n",
      "Epoch 98/100\n",
      "100000/100000 - 4s - loss: 0.0411 - accuracy: 0.9829 - val_loss: 0.0889 - val_accuracy: 0.9682\n",
      "Epoch 99/100\n",
      "100000/100000 - 4s - loss: 0.0401 - accuracy: 0.9838 - val_loss: 0.0913 - val_accuracy: 0.9678\n",
      "Epoch 100/100\n",
      "100000/100000 - 4s - loss: 0.0413 - accuracy: 0.9832 - val_loss: 0.0904 - val_accuracy: 0.9674\n"
     ]
    }
   ],
   "source": [
    "model = tf.keras.models.Sequential([\n",
    "    tf.keras.layers.Dense(200, input_shape = [24], activation = 'relu'),\n",
    "    tf.keras.layers.Dense(200, activation = 'relu'),\n",
    "    tf.keras.layers.Dense(200, activation = 'relu'),\n",
    "    tf.keras.layers.Dense(200, activation = 'relu'),\n",
    "    tf.keras.layers.Dense(200, activation = 'relu'),\n",
    "    tf.keras.layers.Dense(12, activation = 'sigmoid')\n",
    "])\n",
    "adam = tf.keras.optimizers.Adam(lr = 0.005)\n",
    "model.compile(optimizer = adam, loss = 'binary_crossentropy', metrics = ['accuracy'])\n",
    "\n",
    "history = model.fit(x_train, y_train, batch_size = 1024, epochs = 100, verbose = 2, validation_data = (x_test, y_test))\n"
   ]
  },
  {
   "cell_type": "code",
   "execution_count": 6,
   "metadata": {},
   "outputs": [
    {
     "data": {
      "image/png": "[encoded data removed]",
      "text/plain": [
       "<Figure size 432x288 with 1 Axes>"
      ]
     },
     "metadata": {
      "needs_background": "light"
     },
     "output_type": "display_data"
    }
   ],
   "source": [
    "import matplotlib.pyplot as plt\n",
    "plt.figure()\n",
    "acc = history.history['accuracy']\n",
    "loss = history.history['loss']\n",
    "val_acc = history.history['val_accuracy']\n",
    "val_loss = history.history['val_loss']\n",
    "epochs = range(len(acc))\n",
    "plt.plot(epochs, acc, 'r', label = 'Training accuracy')\n",
    "plt.plot(epochs, val_acc, 'b', label = 'Validating accuracy')\n",
    "plt.title('Training and Validating Accuracy')\n",
    "#plt.title('Training Accuracy')\n",
    "plt.legend()\n",
    "plt.show()"
   ]
  },
  {
   "cell_type": "code",
   "execution_count": 8,
   "metadata": {},
   "outputs": [
    {
     "name": "stdout",
     "output_type": "stream",
     "text": [
      "5000/1 - 0s - loss: 0.0630 - accuracy: 0.9720\n"
     ]
    },
    {
     "data": {
      "text/plain": [
       "[0.04715186712741852, 0.9720002]"
      ]
     },
     "execution_count": 8,
     "metadata": {},
     "output_type": "execute_result"
    }
   ],
   "source": [
    "#model.evaluate(x_test, y_test, verbose = 2)"
   ]
  },
  {
   "cell_type": "code",
   "execution_count": 7,
   "metadata": {},
   "outputs": [],
   "source": [
    "model.save('C:\\\\Users\\\\Wilfred\\\\Desktop\\\\weights\\\\Look_ahead_N\\\\Look_ahead_N_4_6_18_2_model.h5')"
   ]
  },
  {
   "cell_type": "code",
   "execution_count": 16,
   "metadata": {},
   "outputs": [],
   "source": [
    "#json_string  = model.to_json()\n",
    "#with open(\"C:\\\\Users\\\\Wilfred\\\\Desktop\\\\json_model.json\", \"w\") as json_file:\n",
    "#    json_file.write(json_string)"
   ]
  },
  {
   "cell_type": "code",
   "execution_count": 5,
   "metadata": {},
   "outputs": [],
   "source": [
    "#model.save_weights('C:\\\\Users\\\\Wilfred\\\\Desktop\\\\Look_ahead_N_4_6_15_2_weights.h5')"
   ]
  }
 ],
 "metadata": {
  "kernelspec": {
   "display_name": "Python 3",
   "language": "python",
   "name": "python3"
  },
  "language_info": {
   "codemirror_mode": {
    "name": "ipython",
    "version": 3
   },
   "file_extension": ".py",
   "mimetype": "text/x-python",
   "name": "python",
   "nbconvert_exporter": "python",
   "pygments_lexer": "ipython3",
   "version": "3.7.5"
  }
 },
 "nbformat": 4,
 "nbformat_minor": 2
}
