{
 "cells": [
  {
   "cell_type": "code",
   "execution_count": 2,
   "metadata": {},
   "outputs": [],
   "source": [
    "import tensorflow as tf\n",
    "import numpy as np\n",
    "import pickle\n",
    "np.random.seed(7)"
   ]
  },
  {
   "cell_type": "code",
   "execution_count": 3,
   "metadata": {},
   "outputs": [
    {
     "name": "stdout",
     "output_type": "stream",
     "text": [
      "(105000, 24)\n"
     ]
    }
   ],
   "source": [
    "with open ('C:\\\\Users\\\\Wilfred\\\\Desktop\\\\Look-ahead-N\\\\input_layer_4_6_9_3.pickle','rb') as file:\n",
    "    input_data = pickle.load(file)\n",
    "permutation = list(np.random.permutation(input_data.shape[0]))\n",
    "input_data = input_data[permutation,:]\n",
    "print(input_data.shape)\n",
    "x_train = input_data[:100000, :]\n",
    "x_test = input_data[100000:105000, :]\n"
   ]
  },
  {
   "cell_type": "code",
   "execution_count": 4,
   "metadata": {},
   "outputs": [
    {
     "name": "stdout",
     "output_type": "stream",
     "text": [
      "(105000, 12)\n"
     ]
    }
   ],
   "source": [
    "with open ('C:\\\\Users\\\\Wilfred\\\\Desktop\\\\Look-ahead-N\\\\output_layer_4_6_9_3.pickle','rb') as file:\n",
    "    output_data = pickle.load(file)\n",
    "output_data = np.transpose(output_data)\n",
    "output_data = output_data[permutation,:]\n",
    "y_train = output_data[:100000, :]\n",
    "y_test = output_data[100000:105000, :]\n",
    "print(output_data.shape)"
   ]
  },
  {
   "cell_type": "code",
   "execution_count": 5,
   "metadata": {},
   "outputs": [
    {
     "name": "stdout",
     "output_type": "stream",
     "text": [
      "Train on 100000 samples, validate on 5000 samples\n",
      "Epoch 1/100\n",
      "100000/100000 - 2s - loss: 0.2917 - accuracy: 0.8819 - val_loss: 0.2531 - val_accuracy: 0.8950\n",
      "Epoch 2/100\n",
      "100000/100000 - 1s - loss: 0.2446 - accuracy: 0.8973 - val_loss: 0.2349 - val_accuracy: 0.9011\n",
      "Epoch 3/100\n",
      "100000/100000 - 1s - loss: 0.2224 - accuracy: 0.9052 - val_loss: 0.2114 - val_accuracy: 0.9093\n",
      "Epoch 4/100\n",
      "100000/100000 - 1s - loss: 0.1974 - accuracy: 0.9142 - val_loss: 0.1826 - val_accuracy: 0.9208\n",
      "Epoch 5/100\n",
      "100000/100000 - 1s - loss: 0.1711 - accuracy: 0.9240 - val_loss: 0.1631 - val_accuracy: 0.9271\n",
      "Epoch 6/100\n",
      "100000/100000 - 1s - loss: 0.1504 - accuracy: 0.9321 - val_loss: 0.1444 - val_accuracy: 0.9349\n",
      "Epoch 7/100\n",
      "100000/100000 - 1s - loss: 0.1322 - accuracy: 0.9405 - val_loss: 0.1291 - val_accuracy: 0.9412\n",
      "Epoch 8/100\n",
      "100000/100000 - 2s - loss: 0.1196 - accuracy: 0.9469 - val_loss: 0.1189 - val_accuracy: 0.9476\n",
      "Epoch 9/100\n",
      "100000/100000 - 2s - loss: 0.1081 - accuracy: 0.9528 - val_loss: 0.1088 - val_accuracy: 0.9523\n",
      "Epoch 10/100\n",
      "100000/100000 - 2s - loss: 0.0991 - accuracy: 0.9575 - val_loss: 0.1046 - val_accuracy: 0.9542\n",
      "Epoch 11/100\n",
      "100000/100000 - 2s - loss: 0.0913 - accuracy: 0.9612 - val_loss: 0.0966 - val_accuracy: 0.9582\n",
      "Epoch 12/100\n",
      "100000/100000 - 2s - loss: 0.0839 - accuracy: 0.9650 - val_loss: 0.0903 - val_accuracy: 0.9624\n",
      "Epoch 13/100\n",
      "100000/100000 - 2s - loss: 0.0780 - accuracy: 0.9676 - val_loss: 0.0831 - val_accuracy: 0.9655\n",
      "Epoch 14/100\n",
      "100000/100000 - 1s - loss: 0.0712 - accuracy: 0.9708 - val_loss: 0.0771 - val_accuracy: 0.9676\n",
      "Epoch 15/100\n",
      "100000/100000 - 1s - loss: 0.0670 - accuracy: 0.9728 - val_loss: 0.0742 - val_accuracy: 0.9703\n",
      "Epoch 16/100\n",
      "100000/100000 - 2s - loss: 0.0631 - accuracy: 0.9744 - val_loss: 0.0694 - val_accuracy: 0.9716\n",
      "Epoch 17/100\n",
      "100000/100000 - 1s - loss: 0.0593 - accuracy: 0.9760 - val_loss: 0.0686 - val_accuracy: 0.9731\n",
      "Epoch 18/100\n",
      "100000/100000 - 2s - loss: 0.0549 - accuracy: 0.9781 - val_loss: 0.0649 - val_accuracy: 0.9741\n",
      "Epoch 19/100\n",
      "100000/100000 - 1s - loss: 0.0520 - accuracy: 0.9794 - val_loss: 0.0634 - val_accuracy: 0.9739\n",
      "Epoch 20/100\n",
      "100000/100000 - 2s - loss: 0.0483 - accuracy: 0.9810 - val_loss: 0.0605 - val_accuracy: 0.9760\n",
      "Epoch 21/100\n",
      "100000/100000 - 1s - loss: 0.0452 - accuracy: 0.9823 - val_loss: 0.0552 - val_accuracy: 0.9786\n",
      "Epoch 22/100\n",
      "100000/100000 - 1s - loss: 0.0438 - accuracy: 0.9829 - val_loss: 0.0517 - val_accuracy: 0.9799\n",
      "Epoch 23/100\n",
      "100000/100000 - 2s - loss: 0.0407 - accuracy: 0.9842 - val_loss: 0.0562 - val_accuracy: 0.9785\n",
      "Epoch 24/100\n",
      "100000/100000 - 1s - loss: 0.0387 - accuracy: 0.9850 - val_loss: 0.0488 - val_accuracy: 0.9813\n",
      "Epoch 25/100\n",
      "100000/100000 - 1s - loss: 0.0368 - accuracy: 0.9858 - val_loss: 0.0524 - val_accuracy: 0.9800\n",
      "Epoch 26/100\n",
      "100000/100000 - 1s - loss: 0.0357 - accuracy: 0.9862 - val_loss: 0.0480 - val_accuracy: 0.9816\n",
      "Epoch 27/100\n",
      "100000/100000 - 1s - loss: 0.0333 - accuracy: 0.9871 - val_loss: 0.0478 - val_accuracy: 0.9823\n",
      "Epoch 28/100\n",
      "100000/100000 - 1s - loss: 0.0324 - accuracy: 0.9875 - val_loss: 0.0474 - val_accuracy: 0.9828\n",
      "Epoch 29/100\n",
      "100000/100000 - 1s - loss: 0.0313 - accuracy: 0.9879 - val_loss: 0.0456 - val_accuracy: 0.9830\n",
      "Epoch 30/100\n",
      "100000/100000 - 1s - loss: 0.0300 - accuracy: 0.9884 - val_loss: 0.0449 - val_accuracy: 0.9834\n",
      "Epoch 31/100\n",
      "100000/100000 - 1s - loss: 0.0290 - accuracy: 0.9888 - val_loss: 0.0414 - val_accuracy: 0.9851\n",
      "Epoch 32/100\n",
      "100000/100000 - 1s - loss: 0.0267 - accuracy: 0.9898 - val_loss: 0.0409 - val_accuracy: 0.9848\n",
      "Epoch 33/100\n",
      "100000/100000 - 1s - loss: 0.0262 - accuracy: 0.9900 - val_loss: 0.0404 - val_accuracy: 0.9859\n",
      "Epoch 34/100\n",
      "100000/100000 - 1s - loss: 0.0256 - accuracy: 0.9902 - val_loss: 0.0445 - val_accuracy: 0.9839\n",
      "Epoch 35/100\n",
      "100000/100000 - 1s - loss: 0.0255 - accuracy: 0.9902 - val_loss: 0.0408 - val_accuracy: 0.9853\n",
      "Epoch 36/100\n",
      "100000/100000 - 1s - loss: 0.0247 - accuracy: 0.9906 - val_loss: 0.0408 - val_accuracy: 0.9858\n",
      "Epoch 37/100\n",
      "100000/100000 - 1s - loss: 0.0245 - accuracy: 0.9907 - val_loss: 0.0391 - val_accuracy: 0.9861\n",
      "Epoch 38/100\n",
      "100000/100000 - 1s - loss: 0.0230 - accuracy: 0.9913 - val_loss: 0.0380 - val_accuracy: 0.9865\n",
      "Epoch 39/100\n",
      "100000/100000 - 1s - loss: 0.0238 - accuracy: 0.9909 - val_loss: 0.0404 - val_accuracy: 0.9859\n",
      "Epoch 40/100\n",
      "100000/100000 - 1s - loss: 0.0220 - accuracy: 0.9917 - val_loss: 0.0367 - val_accuracy: 0.9878\n",
      "Epoch 41/100\n",
      "100000/100000 - 1s - loss: 0.0211 - accuracy: 0.9920 - val_loss: 0.0397 - val_accuracy: 0.9864\n",
      "Epoch 42/100\n",
      "100000/100000 - 1s - loss: 0.0202 - accuracy: 0.9925 - val_loss: 0.0340 - val_accuracy: 0.9887\n",
      "Epoch 43/100\n",
      "100000/100000 - 1s - loss: 0.0197 - accuracy: 0.9925 - val_loss: 0.0388 - val_accuracy: 0.9873\n",
      "Epoch 44/100\n",
      "100000/100000 - 1s - loss: 0.0197 - accuracy: 0.9925 - val_loss: 0.0355 - val_accuracy: 0.9883\n",
      "Epoch 45/100\n",
      "100000/100000 - 1s - loss: 0.0195 - accuracy: 0.9927 - val_loss: 0.0381 - val_accuracy: 0.9874\n",
      "Epoch 46/100\n",
      "100000/100000 - 1s - loss: 0.0197 - accuracy: 0.9926 - val_loss: 0.0360 - val_accuracy: 0.9881\n",
      "Epoch 47/100\n",
      "100000/100000 - 1s - loss: 0.0187 - accuracy: 0.9929 - val_loss: 0.0386 - val_accuracy: 0.9876\n",
      "Epoch 48/100\n",
      "100000/100000 - 1s - loss: 0.0184 - accuracy: 0.9931 - val_loss: 0.0385 - val_accuracy: 0.9877\n",
      "Epoch 49/100\n",
      "100000/100000 - 1s - loss: 0.0168 - accuracy: 0.9937 - val_loss: 0.0370 - val_accuracy: 0.9886\n",
      "Epoch 50/100\n",
      "100000/100000 - 1s - loss: 0.0178 - accuracy: 0.9934 - val_loss: 0.0377 - val_accuracy: 0.9883\n",
      "Epoch 51/100\n",
      "100000/100000 - 1s - loss: 0.0171 - accuracy: 0.9937 - val_loss: 0.0360 - val_accuracy: 0.9893\n",
      "Epoch 52/100\n",
      "100000/100000 - 1s - loss: 0.0179 - accuracy: 0.9934 - val_loss: 0.0371 - val_accuracy: 0.9878\n",
      "Epoch 53/100\n",
      "100000/100000 - 1s - loss: 0.0178 - accuracy: 0.9934 - val_loss: 0.0365 - val_accuracy: 0.9891\n",
      "Epoch 54/100\n",
      "100000/100000 - 1s - loss: 0.0162 - accuracy: 0.9940 - val_loss: 0.0335 - val_accuracy: 0.9897\n",
      "Epoch 55/100\n",
      "100000/100000 - 1s - loss: 0.0162 - accuracy: 0.9940 - val_loss: 0.0343 - val_accuracy: 0.9891\n",
      "Epoch 56/100\n",
      "100000/100000 - 1s - loss: 0.0145 - accuracy: 0.9946 - val_loss: 0.0336 - val_accuracy: 0.9897\n",
      "Epoch 57/100\n",
      "100000/100000 - 1s - loss: 0.0154 - accuracy: 0.9943 - val_loss: 0.0353 - val_accuracy: 0.9893\n",
      "Epoch 58/100\n",
      "100000/100000 - 1s - loss: 0.0150 - accuracy: 0.9944 - val_loss: 0.0349 - val_accuracy: 0.9895\n",
      "Epoch 59/100\n",
      "100000/100000 - 1s - loss: 0.0156 - accuracy: 0.9942 - val_loss: 0.0397 - val_accuracy: 0.9883\n",
      "Epoch 60/100\n",
      "100000/100000 - 1s - loss: 0.0161 - accuracy: 0.9942 - val_loss: 0.0365 - val_accuracy: 0.9895\n",
      "Epoch 61/100\n",
      "100000/100000 - 1s - loss: 0.0148 - accuracy: 0.9946 - val_loss: 0.0366 - val_accuracy: 0.9889\n",
      "Epoch 62/100\n",
      "100000/100000 - 1s - loss: 0.0153 - accuracy: 0.9943 - val_loss: 0.0394 - val_accuracy: 0.9887\n",
      "Epoch 63/100\n",
      "100000/100000 - 1s - loss: 0.0159 - accuracy: 0.9942 - val_loss: 0.0351 - val_accuracy: 0.9895\n",
      "Epoch 64/100\n",
      "100000/100000 - 1s - loss: 0.0138 - accuracy: 0.9950 - val_loss: 0.0357 - val_accuracy: 0.9903\n",
      "Epoch 65/100\n",
      "100000/100000 - 1s - loss: 0.0131 - accuracy: 0.9952 - val_loss: 0.0370 - val_accuracy: 0.9897\n",
      "Epoch 66/100\n",
      "100000/100000 - 1s - loss: 0.0130 - accuracy: 0.9952 - val_loss: 0.0372 - val_accuracy: 0.9895\n",
      "Epoch 67/100\n",
      "100000/100000 - 1s - loss: 0.0137 - accuracy: 0.9950 - val_loss: 0.0362 - val_accuracy: 0.9900\n",
      "Epoch 68/100\n",
      "100000/100000 - 1s - loss: 0.0134 - accuracy: 0.9951 - val_loss: 0.0353 - val_accuracy: 0.9899\n",
      "Epoch 69/100\n",
      "100000/100000 - 1s - loss: 0.0131 - accuracy: 0.9953 - val_loss: 0.0354 - val_accuracy: 0.9902\n",
      "Epoch 70/100\n",
      "100000/100000 - 1s - loss: 0.0137 - accuracy: 0.9951 - val_loss: 0.0366 - val_accuracy: 0.9898\n",
      "Epoch 71/100\n",
      "100000/100000 - 1s - loss: 0.0129 - accuracy: 0.9953 - val_loss: 0.0364 - val_accuracy: 0.9902\n",
      "Epoch 72/100\n",
      "100000/100000 - 1s - loss: 0.0116 - accuracy: 0.9957 - val_loss: 0.0340 - val_accuracy: 0.9907\n",
      "Epoch 73/100\n",
      "100000/100000 - 1s - loss: 0.0132 - accuracy: 0.9953 - val_loss: 0.0408 - val_accuracy: 0.9885\n",
      "Epoch 74/100\n",
      "100000/100000 - 1s - loss: 0.0157 - accuracy: 0.9944 - val_loss: 0.0397 - val_accuracy: 0.9894\n",
      "Epoch 75/100\n",
      "100000/100000 - 1s - loss: 0.0143 - accuracy: 0.9949 - val_loss: 0.0342 - val_accuracy: 0.9905\n",
      "Epoch 76/100\n",
      "100000/100000 - 1s - loss: 0.0129 - accuracy: 0.9954 - val_loss: 0.0344 - val_accuracy: 0.9905\n"
     ]
    },
    {
     "name": "stdout",
     "output_type": "stream",
     "text": [
      "Epoch 77/100\n",
      "100000/100000 - 1s - loss: 0.0110 - accuracy: 0.9960 - val_loss: 0.0352 - val_accuracy: 0.9911\n",
      "Epoch 78/100\n",
      "100000/100000 - 1s - loss: 0.0123 - accuracy: 0.9956 - val_loss: 0.0360 - val_accuracy: 0.9903\n",
      "Epoch 79/100\n",
      "100000/100000 - 1s - loss: 0.0108 - accuracy: 0.9961 - val_loss: 0.0353 - val_accuracy: 0.9908\n",
      "Epoch 80/100\n",
      "100000/100000 - 1s - loss: 0.0106 - accuracy: 0.9962 - val_loss: 0.0349 - val_accuracy: 0.9905\n",
      "Epoch 81/100\n",
      "100000/100000 - 1s - loss: 0.0114 - accuracy: 0.9960 - val_loss: 0.0349 - val_accuracy: 0.9908\n",
      "Epoch 82/100\n",
      "100000/100000 - 1s - loss: 0.0119 - accuracy: 0.9957 - val_loss: 0.0378 - val_accuracy: 0.9906\n",
      "Epoch 83/100\n",
      "100000/100000 - 1s - loss: 0.0136 - accuracy: 0.9952 - val_loss: 0.0365 - val_accuracy: 0.9905\n",
      "Epoch 84/100\n",
      "100000/100000 - 1s - loss: 0.0119 - accuracy: 0.9957 - val_loss: 0.0313 - val_accuracy: 0.9915\n",
      "Epoch 85/100\n",
      "100000/100000 - 1s - loss: 0.0114 - accuracy: 0.9959 - val_loss: 0.0342 - val_accuracy: 0.9908\n",
      "Epoch 86/100\n",
      "100000/100000 - 1s - loss: 0.0110 - accuracy: 0.9961 - val_loss: 0.0366 - val_accuracy: 0.9900\n",
      "Epoch 87/100\n",
      "100000/100000 - 1s - loss: 0.0125 - accuracy: 0.9956 - val_loss: 0.0409 - val_accuracy: 0.9897\n",
      "Epoch 88/100\n",
      "100000/100000 - 1s - loss: 0.0136 - accuracy: 0.9953 - val_loss: 0.0384 - val_accuracy: 0.9901\n",
      "Epoch 89/100\n",
      "100000/100000 - 1s - loss: 0.0100 - accuracy: 0.9965 - val_loss: 0.0362 - val_accuracy: 0.9905\n",
      "Epoch 90/100\n",
      "100000/100000 - 1s - loss: 0.0101 - accuracy: 0.9964 - val_loss: 0.0359 - val_accuracy: 0.9910\n",
      "Epoch 91/100\n",
      "100000/100000 - 1s - loss: 0.0112 - accuracy: 0.9961 - val_loss: 0.0356 - val_accuracy: 0.9912\n",
      "Epoch 92/100\n",
      "100000/100000 - 1s - loss: 0.0122 - accuracy: 0.9957 - val_loss: 0.0389 - val_accuracy: 0.9904\n",
      "Epoch 93/100\n",
      "100000/100000 - 1s - loss: 0.0111 - accuracy: 0.9961 - val_loss: 0.0342 - val_accuracy: 0.9909\n",
      "Epoch 94/100\n",
      "100000/100000 - 1s - loss: 0.0098 - accuracy: 0.9965 - val_loss: 0.0350 - val_accuracy: 0.9916\n",
      "Epoch 95/100\n",
      "100000/100000 - 1s - loss: 0.0110 - accuracy: 0.9963 - val_loss: 0.0455 - val_accuracy: 0.9893\n",
      "Epoch 96/100\n",
      "100000/100000 - 1s - loss: 0.0114 - accuracy: 0.9960 - val_loss: 0.0377 - val_accuracy: 0.9907\n",
      "Epoch 97/100\n",
      "100000/100000 - 1s - loss: 0.0097 - accuracy: 0.9965 - val_loss: 0.0357 - val_accuracy: 0.9914\n",
      "Epoch 98/100\n",
      "100000/100000 - 1s - loss: 0.0094 - accuracy: 0.9968 - val_loss: 0.0370 - val_accuracy: 0.9913\n",
      "Epoch 99/100\n",
      "100000/100000 - 1s - loss: 0.0092 - accuracy: 0.9967 - val_loss: 0.0372 - val_accuracy: 0.9916\n",
      "Epoch 100/100\n",
      "100000/100000 - 1s - loss: 0.0094 - accuracy: 0.9968 - val_loss: 0.0388 - val_accuracy: 0.9907\n"
     ]
    }
   ],
   "source": [
    "model = tf.keras.models.Sequential([\n",
    "    tf.keras.layers.Dense(150, input_shape = [24], activation = 'relu'),\n",
    "    tf.keras.layers.Dense(150, activation = 'relu'),\n",
    "    tf.keras.layers.Dense(150, activation = 'relu'),\n",
    "    tf.keras.layers.Dense(12, activation = 'sigmoid')\n",
    "])\n",
    "adam = tf.keras.optimizers.Adam(lr = 0.005)\n",
    "model.compile(optimizer = adam, loss = 'binary_crossentropy', metrics = ['accuracy'])\n",
    "\n",
    "history = model.fit(x_train, y_train, batch_size = 1024, epochs = 100, verbose = 2, validation_data = (x_test, y_test))\n"
   ]
  },
  {
   "cell_type": "code",
   "execution_count": 7,
   "metadata": {},
   "outputs": [
    {
     "data": {
      "image/png": "[encoded data removed]",
      "text/plain": [
       "<Figure size 432x288 with 1 Axes>"
      ]
     },
     "metadata": {
      "needs_background": "light"
     },
     "output_type": "display_data"
    }
   ],
   "source": [
    "import matplotlib.pyplot as plt\n",
    "plt.figure()\n",
    "acc = history.history['accuracy']\n",
    "loss = history.history['loss']\n",
    "val_acc = history.history['val_accuracy']\n",
    "val_loss = history.history['val_loss']\n",
    "epochs = range(len(acc))\n",
    "plt.plot(epochs, acc, 'r', label = 'Training accuracy')\n",
    "plt.plot(epochs, val_acc, 'b', label = 'Validating accuracy')\n",
    "plt.title('Training and Validating Accuracy')\n",
    "#plt.title('Training Accuracy')\n",
    "plt.legend()\n",
    "plt.show()"
   ]
  },
  {
   "cell_type": "code",
   "execution_count": 8,
   "metadata": {},
   "outputs": [
    {
     "name": "stdout",
     "output_type": "stream",
     "text": [
      "5000/1 - 0s - loss: 0.0630 - accuracy: 0.9720\n"
     ]
    },
    {
     "data": {
      "text/plain": [
       "[0.04715186712741852, 0.9720002]"
      ]
     },
     "execution_count": 8,
     "metadata": {},
     "output_type": "execute_result"
    }
   ],
   "source": [
    "#model.evaluate(x_test, y_test, verbose = 2)"
   ]
  },
  {
   "cell_type": "code",
   "execution_count": 8,
   "metadata": {},
   "outputs": [],
   "source": [
    "model.save('C:\\\\Users\\\\Wilfred\\\\Desktop\\\\weights\\\\Look_ahead_N\\\\Look_ahead_N_4_6_9_3_model.h5')"
   ]
  },
  {
   "cell_type": "code",
   "execution_count": null,
   "metadata": {},
   "outputs": [],
   "source": []
  }
 ],
 "metadata": {
  "kernelspec": {
   "display_name": "Python 3",
   "language": "python",
   "name": "python3"
  },
  "language_info": {
   "codemirror_mode": {
    "name": "ipython",
    "version": 3
   },
   "file_extension": ".py",
   "mimetype": "text/x-python",
   "name": "python",
   "nbconvert_exporter": "python",
   "pygments_lexer": "ipython3",
   "version": "3.7.5"
  }
 },
 "nbformat": 4,
 "nbformat_minor": 2
}
