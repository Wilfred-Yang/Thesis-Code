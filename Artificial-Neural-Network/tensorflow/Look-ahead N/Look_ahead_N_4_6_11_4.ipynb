{
 "cells": [
  {
   "cell_type": "code",
   "execution_count": 1,
   "metadata": {},
   "outputs": [],
   "source": [
    "import tensorflow as tf\n",
    "import numpy as np\n",
    "import pickle\n",
    "np.random.seed(7)"
   ]
  },
  {
   "cell_type": "code",
   "execution_count": 2,
   "metadata": {},
   "outputs": [
    {
     "name": "stdout",
     "output_type": "stream",
     "text": [
      "(105000, 24)\n"
     ]
    }
   ],
   "source": [
    "with open ('C:\\\\Users\\\\Wilfred\\\\Desktop\\\\Look-ahead-N\\\\input_layer_4_6_11_4.pickle','rb') as file:\n",
    "    input_data = pickle.load(file)\n",
    "permutation = list(np.random.permutation(input_data.shape[0]))\n",
    "input_data = input_data[permutation,:]\n",
    "print(input_data.shape)\n",
    "x_train = input_data[:100000, :]\n",
    "x_test = input_data[100000:105000, :]\n"
   ]
  },
  {
   "cell_type": "code",
   "execution_count": 3,
   "metadata": {},
   "outputs": [
    {
     "name": "stdout",
     "output_type": "stream",
     "text": [
      "(105000, 12)\n"
     ]
    }
   ],
   "source": [
    "with open ('C:\\\\Users\\\\Wilfred\\\\Desktop\\\\Look-ahead-N\\\\output_layer_4_6_11_4.pickle','rb') as file:\n",
    "    output_data = pickle.load(file)\n",
    "output_data = np.transpose(output_data)\n",
    "output_data = output_data[permutation,:]\n",
    "y_train = output_data[:100000, :]\n",
    "y_test = output_data[100000:105000, :]\n",
    "print(output_data.shape)"
   ]
  },
  {
   "cell_type": "code",
   "execution_count": 4,
   "metadata": {},
   "outputs": [
    {
     "name": "stdout",
     "output_type": "stream",
     "text": [
      "Train on 100000 samples, validate on 5000 samples\n",
      "Epoch 1/100\n",
      "100000/100000 - 3s - loss: 0.2989 - accuracy: 0.8800 - val_loss: 0.2647 - val_accuracy: 0.8927\n",
      "Epoch 2/100\n",
      "100000/100000 - 1s - loss: 0.2551 - accuracy: 0.8944 - val_loss: 0.2440 - val_accuracy: 0.8979\n",
      "Epoch 3/100\n",
      "100000/100000 - 1s - loss: 0.2263 - accuracy: 0.9034 - val_loss: 0.2106 - val_accuracy: 0.9098\n",
      "Epoch 4/100\n",
      "100000/100000 - 1s - loss: 0.1965 - accuracy: 0.9145 - val_loss: 0.1886 - val_accuracy: 0.9166\n",
      "Epoch 5/100\n",
      "100000/100000 - 1s - loss: 0.1745 - accuracy: 0.9222 - val_loss: 0.1714 - val_accuracy: 0.9229\n",
      "Epoch 6/100\n",
      "100000/100000 - 1s - loss: 0.1561 - accuracy: 0.9293 - val_loss: 0.1558 - val_accuracy: 0.9295\n",
      "Epoch 7/100\n",
      "100000/100000 - 1s - loss: 0.1436 - accuracy: 0.9349 - val_loss: 0.1458 - val_accuracy: 0.9336\n",
      "Epoch 8/100\n",
      "100000/100000 - 1s - loss: 0.1327 - accuracy: 0.9402 - val_loss: 0.1372 - val_accuracy: 0.9394\n",
      "Epoch 9/100\n",
      "100000/100000 - 1s - loss: 0.1234 - accuracy: 0.9450 - val_loss: 0.1290 - val_accuracy: 0.9427\n",
      "Epoch 10/100\n",
      "100000/100000 - 1s - loss: 0.1141 - accuracy: 0.9499 - val_loss: 0.1158 - val_accuracy: 0.9494\n",
      "Epoch 11/100\n",
      "100000/100000 - 1s - loss: 0.1075 - accuracy: 0.9530 - val_loss: 0.1129 - val_accuracy: 0.9511\n",
      "Epoch 12/100\n",
      "100000/100000 - 1s - loss: 0.1007 - accuracy: 0.9565 - val_loss: 0.1062 - val_accuracy: 0.9555\n",
      "Epoch 13/100\n",
      "100000/100000 - 1s - loss: 0.0950 - accuracy: 0.9594 - val_loss: 0.1020 - val_accuracy: 0.9561\n",
      "Epoch 14/100\n",
      "100000/100000 - 1s - loss: 0.0906 - accuracy: 0.9614 - val_loss: 0.0959 - val_accuracy: 0.9595\n",
      "Epoch 15/100\n",
      "100000/100000 - 1s - loss: 0.0847 - accuracy: 0.9644 - val_loss: 0.0947 - val_accuracy: 0.9602\n",
      "Epoch 16/100\n",
      "100000/100000 - 1s - loss: 0.0813 - accuracy: 0.9658 - val_loss: 0.0906 - val_accuracy: 0.9622\n",
      "Epoch 17/100\n",
      "100000/100000 - 1s - loss: 0.0758 - accuracy: 0.9681 - val_loss: 0.0856 - val_accuracy: 0.9639\n",
      "Epoch 18/100\n",
      "100000/100000 - 1s - loss: 0.0737 - accuracy: 0.9693 - val_loss: 0.0863 - val_accuracy: 0.9636\n",
      "Epoch 19/100\n",
      "100000/100000 - 1s - loss: 0.0699 - accuracy: 0.9710 - val_loss: 0.0817 - val_accuracy: 0.9665\n",
      "Epoch 20/100\n",
      "100000/100000 - 1s - loss: 0.0663 - accuracy: 0.9727 - val_loss: 0.0810 - val_accuracy: 0.9666\n",
      "Epoch 21/100\n",
      "100000/100000 - 1s - loss: 0.0650 - accuracy: 0.9733 - val_loss: 0.0795 - val_accuracy: 0.9675\n",
      "Epoch 22/100\n",
      "100000/100000 - 1s - loss: 0.0619 - accuracy: 0.9746 - val_loss: 0.0740 - val_accuracy: 0.9692\n",
      "Epoch 23/100\n",
      "100000/100000 - 1s - loss: 0.0593 - accuracy: 0.9760 - val_loss: 0.0758 - val_accuracy: 0.9697\n",
      "Epoch 24/100\n",
      "100000/100000 - 1s - loss: 0.0571 - accuracy: 0.9768 - val_loss: 0.0721 - val_accuracy: 0.9709\n",
      "Epoch 25/100\n",
      "100000/100000 - 1s - loss: 0.0535 - accuracy: 0.9782 - val_loss: 0.0696 - val_accuracy: 0.9723\n",
      "Epoch 26/100\n",
      "100000/100000 - 1s - loss: 0.0523 - accuracy: 0.9787 - val_loss: 0.0691 - val_accuracy: 0.9727\n",
      "Epoch 27/100\n",
      "100000/100000 - 1s - loss: 0.0508 - accuracy: 0.9795 - val_loss: 0.0634 - val_accuracy: 0.9738\n",
      "Epoch 28/100\n",
      "100000/100000 - 1s - loss: 0.0471 - accuracy: 0.9809 - val_loss: 0.0632 - val_accuracy: 0.9748\n",
      "Epoch 29/100\n",
      "100000/100000 - 1s - loss: 0.0471 - accuracy: 0.9809 - val_loss: 0.0622 - val_accuracy: 0.9754\n",
      "Epoch 30/100\n",
      "100000/100000 - 1s - loss: 0.0450 - accuracy: 0.9820 - val_loss: 0.0588 - val_accuracy: 0.9771\n",
      "Epoch 31/100\n",
      "100000/100000 - 1s - loss: 0.0440 - accuracy: 0.9822 - val_loss: 0.0612 - val_accuracy: 0.9754\n",
      "Epoch 32/100\n",
      "100000/100000 - 1s - loss: 0.0433 - accuracy: 0.9826 - val_loss: 0.0639 - val_accuracy: 0.9746\n",
      "Epoch 33/100\n",
      "100000/100000 - 1s - loss: 0.0403 - accuracy: 0.9838 - val_loss: 0.0622 - val_accuracy: 0.9760\n",
      "Epoch 34/100\n",
      "100000/100000 - 1s - loss: 0.0405 - accuracy: 0.9838 - val_loss: 0.0633 - val_accuracy: 0.9756\n",
      "Epoch 35/100\n",
      "100000/100000 - 1s - loss: 0.0391 - accuracy: 0.9844 - val_loss: 0.0559 - val_accuracy: 0.9789\n",
      "Epoch 36/100\n",
      "100000/100000 - 1s - loss: 0.0383 - accuracy: 0.9847 - val_loss: 0.0622 - val_accuracy: 0.9772\n",
      "Epoch 37/100\n",
      "100000/100000 - 1s - loss: 0.0360 - accuracy: 0.9856 - val_loss: 0.0595 - val_accuracy: 0.9772\n",
      "Epoch 38/100\n",
      "100000/100000 - 1s - loss: 0.0354 - accuracy: 0.9859 - val_loss: 0.0568 - val_accuracy: 0.9790\n",
      "Epoch 39/100\n",
      "100000/100000 - 1s - loss: 0.0346 - accuracy: 0.9862 - val_loss: 0.0564 - val_accuracy: 0.9784\n",
      "Epoch 40/100\n",
      "100000/100000 - 1s - loss: 0.0340 - accuracy: 0.9865 - val_loss: 0.0580 - val_accuracy: 0.9781\n",
      "Epoch 41/100\n",
      "100000/100000 - 1s - loss: 0.0330 - accuracy: 0.9871 - val_loss: 0.0556 - val_accuracy: 0.9803\n",
      "Epoch 42/100\n",
      "100000/100000 - 1s - loss: 0.0332 - accuracy: 0.9869 - val_loss: 0.0548 - val_accuracy: 0.9797\n",
      "Epoch 43/100\n",
      "100000/100000 - 1s - loss: 0.0311 - accuracy: 0.9878 - val_loss: 0.0524 - val_accuracy: 0.9800\n",
      "Epoch 44/100\n",
      "100000/100000 - 1s - loss: 0.0302 - accuracy: 0.9880 - val_loss: 0.0560 - val_accuracy: 0.9801\n",
      "Epoch 45/100\n",
      "100000/100000 - 1s - loss: 0.0305 - accuracy: 0.9879 - val_loss: 0.0558 - val_accuracy: 0.9797\n",
      "Epoch 46/100\n",
      "100000/100000 - 1s - loss: 0.0295 - accuracy: 0.9884 - val_loss: 0.0512 - val_accuracy: 0.9812\n",
      "Epoch 47/100\n",
      "100000/100000 - 1s - loss: 0.0290 - accuracy: 0.9886 - val_loss: 0.0527 - val_accuracy: 0.9811\n",
      "Epoch 48/100\n",
      "100000/100000 - 1s - loss: 0.0278 - accuracy: 0.9891 - val_loss: 0.0533 - val_accuracy: 0.9815\n",
      "Epoch 49/100\n",
      "100000/100000 - 1s - loss: 0.0281 - accuracy: 0.9890 - val_loss: 0.0515 - val_accuracy: 0.9817\n",
      "Epoch 50/100\n",
      "100000/100000 - 2s - loss: 0.0280 - accuracy: 0.9890 - val_loss: 0.0538 - val_accuracy: 0.9808\n",
      "Epoch 51/100\n",
      "100000/100000 - 2s - loss: 0.0275 - accuracy: 0.9893 - val_loss: 0.0538 - val_accuracy: 0.9816\n",
      "Epoch 52/100\n",
      "100000/100000 - 1s - loss: 0.0270 - accuracy: 0.9895 - val_loss: 0.0479 - val_accuracy: 0.9828\n",
      "Epoch 53/100\n",
      "100000/100000 - 2s - loss: 0.0270 - accuracy: 0.9897 - val_loss: 0.0469 - val_accuracy: 0.9829\n",
      "Epoch 54/100\n",
      "100000/100000 - 2s - loss: 0.0263 - accuracy: 0.9898 - val_loss: 0.0527 - val_accuracy: 0.9811\n",
      "Epoch 55/100\n",
      "100000/100000 - 1s - loss: 0.0265 - accuracy: 0.9898 - val_loss: 0.0465 - val_accuracy: 0.9834\n",
      "Epoch 56/100\n",
      "100000/100000 - 2s - loss: 0.0248 - accuracy: 0.9903 - val_loss: 0.0469 - val_accuracy: 0.9839\n",
      "Epoch 57/100\n",
      "100000/100000 - 2s - loss: 0.0239 - accuracy: 0.9908 - val_loss: 0.0504 - val_accuracy: 0.9835\n",
      "Epoch 58/100\n",
      "100000/100000 - 2s - loss: 0.0240 - accuracy: 0.9907 - val_loss: 0.0492 - val_accuracy: 0.9834\n",
      "Epoch 59/100\n",
      "100000/100000 - 2s - loss: 0.0224 - accuracy: 0.9913 - val_loss: 0.0460 - val_accuracy: 0.9846\n",
      "Epoch 60/100\n",
      "100000/100000 - 2s - loss: 0.0231 - accuracy: 0.9912 - val_loss: 0.0487 - val_accuracy: 0.9833\n",
      "Epoch 61/100\n",
      "100000/100000 - 1s - loss: 0.0231 - accuracy: 0.9912 - val_loss: 0.0504 - val_accuracy: 0.9835\n",
      "Epoch 62/100\n",
      "100000/100000 - 1s - loss: 0.0250 - accuracy: 0.9904 - val_loss: 0.0463 - val_accuracy: 0.9842\n",
      "Epoch 63/100\n",
      "100000/100000 - 1s - loss: 0.0220 - accuracy: 0.9915 - val_loss: 0.0477 - val_accuracy: 0.9844\n",
      "Epoch 64/100\n",
      "100000/100000 - 1s - loss: 0.0208 - accuracy: 0.9921 - val_loss: 0.0432 - val_accuracy: 0.9855\n",
      "Epoch 65/100\n",
      "100000/100000 - 1s - loss: 0.0207 - accuracy: 0.9921 - val_loss: 0.0481 - val_accuracy: 0.9835\n",
      "Epoch 66/100\n",
      "100000/100000 - 1s - loss: 0.0205 - accuracy: 0.9923 - val_loss: 0.0466 - val_accuracy: 0.9849\n",
      "Epoch 67/100\n",
      "100000/100000 - 2s - loss: 0.0215 - accuracy: 0.9919 - val_loss: 0.0478 - val_accuracy: 0.9842\n",
      "Epoch 68/100\n",
      "100000/100000 - 1s - loss: 0.0227 - accuracy: 0.9914 - val_loss: 0.0498 - val_accuracy: 0.9836\n",
      "Epoch 69/100\n",
      "100000/100000 - 1s - loss: 0.0199 - accuracy: 0.9924 - val_loss: 0.0498 - val_accuracy: 0.9842\n",
      "Epoch 70/100\n",
      "100000/100000 - 1s - loss: 0.0193 - accuracy: 0.9928 - val_loss: 0.0481 - val_accuracy: 0.9846\n",
      "Epoch 71/100\n",
      "100000/100000 - 1s - loss: 0.0198 - accuracy: 0.9926 - val_loss: 0.0472 - val_accuracy: 0.9850\n",
      "Epoch 72/100\n",
      "100000/100000 - 1s - loss: 0.0205 - accuracy: 0.9924 - val_loss: 0.0520 - val_accuracy: 0.9840\n",
      "Epoch 73/100\n",
      "100000/100000 - 2s - loss: 0.0198 - accuracy: 0.9926 - val_loss: 0.0494 - val_accuracy: 0.9845\n",
      "Epoch 74/100\n",
      "100000/100000 - 1s - loss: 0.0197 - accuracy: 0.9926 - val_loss: 0.0488 - val_accuracy: 0.9841\n",
      "Epoch 75/100\n",
      "100000/100000 - 2s - loss: 0.0187 - accuracy: 0.9929 - val_loss: 0.0443 - val_accuracy: 0.9857\n",
      "Epoch 76/100\n",
      "100000/100000 - 2s - loss: 0.0165 - accuracy: 0.9938 - val_loss: 0.0464 - val_accuracy: 0.9850\n"
     ]
    },
    {
     "name": "stdout",
     "output_type": "stream",
     "text": [
      "Epoch 77/100\n",
      "100000/100000 - 2s - loss: 0.0195 - accuracy: 0.9928 - val_loss: 0.0486 - val_accuracy: 0.9846\n",
      "Epoch 78/100\n",
      "100000/100000 - 1s - loss: 0.0182 - accuracy: 0.9932 - val_loss: 0.0467 - val_accuracy: 0.9858\n",
      "Epoch 79/100\n",
      "100000/100000 - 1s - loss: 0.0191 - accuracy: 0.9929 - val_loss: 0.0505 - val_accuracy: 0.9845\n",
      "Epoch 80/100\n",
      "100000/100000 - 1s - loss: 0.0184 - accuracy: 0.9931 - val_loss: 0.0441 - val_accuracy: 0.9864\n",
      "Epoch 81/100\n",
      "100000/100000 - 1s - loss: 0.0186 - accuracy: 0.9932 - val_loss: 0.0501 - val_accuracy: 0.9851\n",
      "Epoch 82/100\n",
      "100000/100000 - 1s - loss: 0.0173 - accuracy: 0.9936 - val_loss: 0.0452 - val_accuracy: 0.9865\n",
      "Epoch 83/100\n",
      "100000/100000 - 1s - loss: 0.0181 - accuracy: 0.9933 - val_loss: 0.0525 - val_accuracy: 0.9841\n",
      "Epoch 84/100\n",
      "100000/100000 - 1s - loss: 0.0189 - accuracy: 0.9931 - val_loss: 0.0462 - val_accuracy: 0.9852\n",
      "Epoch 85/100\n",
      "100000/100000 - 1s - loss: 0.0159 - accuracy: 0.9940 - val_loss: 0.0476 - val_accuracy: 0.9858\n",
      "Epoch 86/100\n",
      "100000/100000 - 2s - loss: 0.0163 - accuracy: 0.9940 - val_loss: 0.0523 - val_accuracy: 0.9846\n",
      "Epoch 87/100\n",
      "100000/100000 - 1s - loss: 0.0184 - accuracy: 0.9933 - val_loss: 0.0434 - val_accuracy: 0.9866\n",
      "Epoch 88/100\n",
      "100000/100000 - 1s - loss: 0.0164 - accuracy: 0.9939 - val_loss: 0.0469 - val_accuracy: 0.9857\n",
      "Epoch 89/100\n",
      "100000/100000 - 1s - loss: 0.0170 - accuracy: 0.9939 - val_loss: 0.0507 - val_accuracy: 0.9854\n",
      "Epoch 90/100\n",
      "100000/100000 - 1s - loss: 0.0182 - accuracy: 0.9934 - val_loss: 0.0483 - val_accuracy: 0.9862\n",
      "Epoch 91/100\n",
      "100000/100000 - 1s - loss: 0.0161 - accuracy: 0.9942 - val_loss: 0.0449 - val_accuracy: 0.9870\n",
      "Epoch 92/100\n",
      "100000/100000 - 2s - loss: 0.0144 - accuracy: 0.9948 - val_loss: 0.0493 - val_accuracy: 0.9865\n",
      "Epoch 93/100\n",
      "100000/100000 - 1s - loss: 0.0190 - accuracy: 0.9932 - val_loss: 0.0481 - val_accuracy: 0.9854\n",
      "Epoch 94/100\n",
      "100000/100000 - 1s - loss: 0.0152 - accuracy: 0.9943 - val_loss: 0.0480 - val_accuracy: 0.9863\n",
      "Epoch 95/100\n",
      "100000/100000 - 1s - loss: 0.0139 - accuracy: 0.9950 - val_loss: 0.0461 - val_accuracy: 0.9864\n",
      "Epoch 96/100\n",
      "100000/100000 - 1s - loss: 0.0139 - accuracy: 0.9949 - val_loss: 0.0447 - val_accuracy: 0.9879\n",
      "Epoch 97/100\n",
      "100000/100000 - 2s - loss: 0.0160 - accuracy: 0.9943 - val_loss: 0.0505 - val_accuracy: 0.9847\n",
      "Epoch 98/100\n",
      "100000/100000 - 1s - loss: 0.0184 - accuracy: 0.9935 - val_loss: 0.0470 - val_accuracy: 0.9860\n",
      "Epoch 99/100\n",
      "100000/100000 - 1s - loss: 0.0140 - accuracy: 0.9948 - val_loss: 0.0505 - val_accuracy: 0.9863\n",
      "Epoch 100/100\n",
      "100000/100000 - 1s - loss: 0.0131 - accuracy: 0.9952 - val_loss: 0.0423 - val_accuracy: 0.9876\n"
     ]
    }
   ],
   "source": [
    "model = tf.keras.models.Sequential([\n",
    "    tf.keras.layers.Dense(130, input_shape = [24], activation = 'relu'),\n",
    "    tf.keras.layers.Dense(130, activation = 'relu'),\n",
    "    tf.keras.layers.Dense(130, activation = 'relu'),\n",
    "    tf.keras.layers.Dense(130, activation = 'relu'),\n",
    "    tf.keras.layers.Dense(12, activation = 'sigmoid')\n",
    "])\n",
    "adam = tf.keras.optimizers.Adam(lr = 0.005)\n",
    "model.compile(optimizer = adam, loss = 'binary_crossentropy', metrics = ['accuracy'])\n",
    "\n",
    "history = model.fit(x_train, y_train, batch_size = 1024, epochs = 100, verbose = 2, validation_data = (x_test, y_test))\n"
   ]
  },
  {
   "cell_type": "code",
   "execution_count": 6,
   "metadata": {},
   "outputs": [
    {
     "data": {
      "image/png": "[encoded data removed]",
      "text/plain": [
       "<Figure size 432x288 with 1 Axes>"
      ]
     },
     "metadata": {
      "needs_background": "light"
     },
     "output_type": "display_data"
    }
   ],
   "source": [
    "import matplotlib.pyplot as plt\n",
    "plt.figure()\n",
    "acc = history.history['accuracy']\n",
    "loss = history.history['loss']\n",
    "val_acc = history.history['val_accuracy']\n",
    "val_loss = history.history['val_loss']\n",
    "epochs = range(len(acc))\n",
    "plt.plot(epochs, acc, 'r', label = 'Training accuracy')\n",
    "plt.plot(epochs, val_acc, 'b', label = 'Validating accuracy')\n",
    "plt.title('Training and Validating Accuracy')\n",
    "#plt.title('Training Accuracy')\n",
    "plt.legend()\n",
    "plt.show()"
   ]
  },
  {
   "cell_type": "code",
   "execution_count": 8,
   "metadata": {},
   "outputs": [
    {
     "name": "stdout",
     "output_type": "stream",
     "text": [
      "5000/1 - 0s - loss: 0.0630 - accuracy: 0.9720\n"
     ]
    },
    {
     "data": {
      "text/plain": [
       "[0.04715186712741852, 0.9720002]"
      ]
     },
     "execution_count": 8,
     "metadata": {},
     "output_type": "execute_result"
    }
   ],
   "source": [
    "#model.evaluate(x_test, y_test, verbose = 2)"
   ]
  },
  {
   "cell_type": "code",
   "execution_count": 7,
   "metadata": {},
   "outputs": [],
   "source": [
    "model.save('C:\\\\Users\\\\Wilfred\\\\Desktop\\\\weights\\\\Look_ahead_N\\\\Look_ahead_N_4_6_11_4_model.h5')"
   ]
  },
  {
   "cell_type": "code",
   "execution_count": null,
   "metadata": {},
   "outputs": [],
   "source": []
  }
 ],
 "metadata": {
  "kernelspec": {
   "display_name": "Python 3",
   "language": "python",
   "name": "python3"
  },
  "language_info": {
   "codemirror_mode": {
    "name": "ipython",
    "version": 3
   },
   "file_extension": ".py",
   "mimetype": "text/x-python",
   "name": "python",
   "nbconvert_exporter": "python",
   "pygments_lexer": "ipython3",
   "version": "3.7.5"
  }
 },
 "nbformat": 4,
 "nbformat_minor": 2
}
