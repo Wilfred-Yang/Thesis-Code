{
 "cells": [
  {
   "cell_type": "code",
   "execution_count": 1,
   "metadata": {},
   "outputs": [],
   "source": [
    "import tensorflow as tf\n",
    "import numpy as np\n",
    "import pickle\n",
    "np.random.seed(7)"
   ]
  },
  {
   "cell_type": "code",
   "execution_count": 2,
   "metadata": {},
   "outputs": [
    {
     "name": "stdout",
     "output_type": "stream",
     "text": [
      "(105000, 24)\n"
     ]
    }
   ],
   "source": [
    "with open ('C:\\\\Users\\\\Wilfred\\\\Desktop\\\\Look-ahead-N\\\\input_layer_4_6_10_3.pickle','rb') as file:\n",
    "    input_data = pickle.load(file)\n",
    "permutation = list(np.random.permutation(input_data.shape[0]))\n",
    "input_data = input_data[permutation,:]\n",
    "print(input_data.shape)\n",
    "x_train = input_data[:100000, :]\n",
    "x_test = input_data[100000:105000, :]\n"
   ]
  },
  {
   "cell_type": "code",
   "execution_count": 3,
   "metadata": {},
   "outputs": [
    {
     "name": "stdout",
     "output_type": "stream",
     "text": [
      "(105000, 12)\n"
     ]
    }
   ],
   "source": [
    "with open ('C:\\\\Users\\\\Wilfred\\\\Desktop\\\\Look-ahead-N\\\\output_layer_4_6_10_3.pickle','rb') as file:\n",
    "    output_data = pickle.load(file)\n",
    "output_data = np.transpose(output_data)\n",
    "output_data = output_data[permutation,:]\n",
    "y_train = output_data[:100000, :]\n",
    "y_test = output_data[100000:105000, :]\n",
    "print(output_data.shape)"
   ]
  },
  {
   "cell_type": "code",
   "execution_count": 4,
   "metadata": {},
   "outputs": [
    {
     "name": "stdout",
     "output_type": "stream",
     "text": [
      "Train on 100000 samples, validate on 5000 samples\n",
      "Epoch 1/100\n",
      "100000/100000 - 2s - loss: 0.3040 - accuracy: 0.8751 - val_loss: 0.2651 - val_accuracy: 0.8906\n",
      "Epoch 2/100\n",
      "100000/100000 - 1s - loss: 0.2538 - accuracy: 0.8939 - val_loss: 0.2471 - val_accuracy: 0.8950\n",
      "Epoch 3/100\n",
      "100000/100000 - 1s - loss: 0.2346 - accuracy: 0.8998 - val_loss: 0.2281 - val_accuracy: 0.9021\n",
      "Epoch 4/100\n",
      "100000/100000 - 1s - loss: 0.2131 - accuracy: 0.9085 - val_loss: 0.2074 - val_accuracy: 0.9112\n",
      "Epoch 5/100\n",
      "100000/100000 - 1s - loss: 0.1936 - accuracy: 0.9168 - val_loss: 0.1917 - val_accuracy: 0.9160\n",
      "Epoch 6/100\n",
      "100000/100000 - 1s - loss: 0.1752 - accuracy: 0.9234 - val_loss: 0.1741 - val_accuracy: 0.9236\n",
      "Epoch 7/100\n",
      "100000/100000 - 1s - loss: 0.1592 - accuracy: 0.9285 - val_loss: 0.1622 - val_accuracy: 0.9271\n",
      "Epoch 8/100\n",
      "100000/100000 - 1s - loss: 0.1461 - accuracy: 0.9337 - val_loss: 0.1482 - val_accuracy: 0.9339\n",
      "Epoch 9/100\n",
      "100000/100000 - 1s - loss: 0.1359 - accuracy: 0.9386 - val_loss: 0.1445 - val_accuracy: 0.9353\n",
      "Epoch 10/100\n",
      "100000/100000 - 1s - loss: 0.1261 - accuracy: 0.9433 - val_loss: 0.1329 - val_accuracy: 0.9404\n",
      "Epoch 11/100\n",
      "100000/100000 - 1s - loss: 0.1187 - accuracy: 0.9470 - val_loss: 0.1271 - val_accuracy: 0.9431\n",
      "Epoch 12/100\n",
      "100000/100000 - 1s - loss: 0.1107 - accuracy: 0.9509 - val_loss: 0.1229 - val_accuracy: 0.9465\n",
      "Epoch 13/100\n",
      "100000/100000 - 1s - loss: 0.1046 - accuracy: 0.9538 - val_loss: 0.1127 - val_accuracy: 0.9498\n",
      "Epoch 14/100\n",
      "100000/100000 - 1s - loss: 0.0984 - accuracy: 0.9571 - val_loss: 0.1080 - val_accuracy: 0.9536\n",
      "Epoch 15/100\n",
      "100000/100000 - 1s - loss: 0.0928 - accuracy: 0.9597 - val_loss: 0.1066 - val_accuracy: 0.9536\n",
      "Epoch 16/100\n",
      "100000/100000 - 1s - loss: 0.0884 - accuracy: 0.9621 - val_loss: 0.0980 - val_accuracy: 0.9579\n",
      "Epoch 17/100\n",
      "100000/100000 - 1s - loss: 0.0843 - accuracy: 0.9637 - val_loss: 0.0965 - val_accuracy: 0.9594\n",
      "Epoch 18/100\n",
      "100000/100000 - 1s - loss: 0.0795 - accuracy: 0.9661 - val_loss: 0.0936 - val_accuracy: 0.9600\n",
      "Epoch 19/100\n",
      "100000/100000 - 1s - loss: 0.0763 - accuracy: 0.9676 - val_loss: 0.0914 - val_accuracy: 0.9618\n",
      "Epoch 20/100\n",
      "100000/100000 - 1s - loss: 0.0724 - accuracy: 0.9693 - val_loss: 0.0864 - val_accuracy: 0.9639\n",
      "Epoch 21/100\n",
      "100000/100000 - 1s - loss: 0.0684 - accuracy: 0.9712 - val_loss: 0.0834 - val_accuracy: 0.9642\n",
      "Epoch 22/100\n",
      "100000/100000 - 1s - loss: 0.0659 - accuracy: 0.9726 - val_loss: 0.0810 - val_accuracy: 0.9666\n",
      "Epoch 23/100\n",
      "100000/100000 - 1s - loss: 0.0632 - accuracy: 0.9736 - val_loss: 0.0779 - val_accuracy: 0.9670\n",
      "Epoch 24/100\n",
      "100000/100000 - 1s - loss: 0.0604 - accuracy: 0.9749 - val_loss: 0.0749 - val_accuracy: 0.9689\n",
      "Epoch 25/100\n",
      "100000/100000 - 1s - loss: 0.0578 - accuracy: 0.9760 - val_loss: 0.0762 - val_accuracy: 0.9679\n",
      "Epoch 26/100\n",
      "100000/100000 - 1s - loss: 0.0566 - accuracy: 0.9765 - val_loss: 0.0727 - val_accuracy: 0.9704\n",
      "Epoch 27/100\n",
      "100000/100000 - 1s - loss: 0.0533 - accuracy: 0.9780 - val_loss: 0.0710 - val_accuracy: 0.9716\n",
      "Epoch 28/100\n",
      "100000/100000 - 1s - loss: 0.0517 - accuracy: 0.9787 - val_loss: 0.0669 - val_accuracy: 0.9734\n",
      "Epoch 29/100\n",
      "100000/100000 - 1s - loss: 0.0501 - accuracy: 0.9795 - val_loss: 0.0694 - val_accuracy: 0.9717\n",
      "Epoch 30/100\n",
      "100000/100000 - 1s - loss: 0.0489 - accuracy: 0.9800 - val_loss: 0.0684 - val_accuracy: 0.9716\n",
      "Epoch 31/100\n",
      "100000/100000 - 1s - loss: 0.0469 - accuracy: 0.9808 - val_loss: 0.0654 - val_accuracy: 0.9746\n",
      "Epoch 32/100\n",
      "100000/100000 - 1s - loss: 0.0444 - accuracy: 0.9821 - val_loss: 0.0635 - val_accuracy: 0.9747\n",
      "Epoch 33/100\n",
      "100000/100000 - 1s - loss: 0.0431 - accuracy: 0.9827 - val_loss: 0.0643 - val_accuracy: 0.9749\n",
      "Epoch 34/100\n",
      "100000/100000 - 1s - loss: 0.0439 - accuracy: 0.9823 - val_loss: 0.0640 - val_accuracy: 0.9750\n",
      "Epoch 35/100\n",
      "100000/100000 - 1s - loss: 0.0425 - accuracy: 0.9829 - val_loss: 0.0673 - val_accuracy: 0.9740\n",
      "Epoch 36/100\n",
      "100000/100000 - 1s - loss: 0.0408 - accuracy: 0.9836 - val_loss: 0.0629 - val_accuracy: 0.9755\n",
      "Epoch 37/100\n",
      "100000/100000 - 1s - loss: 0.0394 - accuracy: 0.9842 - val_loss: 0.0602 - val_accuracy: 0.9769\n",
      "Epoch 38/100\n",
      "100000/100000 - 1s - loss: 0.0382 - accuracy: 0.9847 - val_loss: 0.0621 - val_accuracy: 0.9760\n",
      "Epoch 39/100\n",
      "100000/100000 - 1s - loss: 0.0374 - accuracy: 0.9851 - val_loss: 0.0597 - val_accuracy: 0.9771\n",
      "Epoch 40/100\n",
      "100000/100000 - 1s - loss: 0.0362 - accuracy: 0.9855 - val_loss: 0.0584 - val_accuracy: 0.9772\n",
      "Epoch 41/100\n",
      "100000/100000 - 1s - loss: 0.0360 - accuracy: 0.9857 - val_loss: 0.0571 - val_accuracy: 0.9779\n",
      "Epoch 42/100\n",
      "100000/100000 - 1s - loss: 0.0347 - accuracy: 0.9862 - val_loss: 0.0575 - val_accuracy: 0.9790\n",
      "Epoch 43/100\n",
      "100000/100000 - 1s - loss: 0.0336 - accuracy: 0.9866 - val_loss: 0.0563 - val_accuracy: 0.9786\n",
      "Epoch 44/100\n",
      "100000/100000 - 1s - loss: 0.0342 - accuracy: 0.9865 - val_loss: 0.0582 - val_accuracy: 0.9790\n",
      "Epoch 45/100\n",
      "100000/100000 - 1s - loss: 0.0324 - accuracy: 0.9872 - val_loss: 0.0548 - val_accuracy: 0.9791\n",
      "Epoch 46/100\n",
      "100000/100000 - 1s - loss: 0.0324 - accuracy: 0.9873 - val_loss: 0.0590 - val_accuracy: 0.9788\n",
      "Epoch 47/100\n",
      "100000/100000 - 1s - loss: 0.0314 - accuracy: 0.9876 - val_loss: 0.0555 - val_accuracy: 0.9798\n",
      "Epoch 48/100\n",
      "100000/100000 - 1s - loss: 0.0295 - accuracy: 0.9884 - val_loss: 0.0519 - val_accuracy: 0.9810\n",
      "Epoch 49/100\n",
      "100000/100000 - 1s - loss: 0.0284 - accuracy: 0.9889 - val_loss: 0.0541 - val_accuracy: 0.9801\n",
      "Epoch 50/100\n",
      "100000/100000 - 1s - loss: 0.0305 - accuracy: 0.9880 - val_loss: 0.0546 - val_accuracy: 0.9803\n",
      "Epoch 51/100\n",
      "100000/100000 - 1s - loss: 0.0293 - accuracy: 0.9886 - val_loss: 0.0543 - val_accuracy: 0.9805\n",
      "Epoch 52/100\n",
      "100000/100000 - 1s - loss: 0.0288 - accuracy: 0.9887 - val_loss: 0.0544 - val_accuracy: 0.9805\n",
      "Epoch 53/100\n",
      "100000/100000 - 1s - loss: 0.0281 - accuracy: 0.9890 - val_loss: 0.0513 - val_accuracy: 0.9823\n",
      "Epoch 54/100\n",
      "100000/100000 - 1s - loss: 0.0278 - accuracy: 0.9892 - val_loss: 0.0536 - val_accuracy: 0.9812\n",
      "Epoch 55/100\n",
      "100000/100000 - 1s - loss: 0.0272 - accuracy: 0.9894 - val_loss: 0.0515 - val_accuracy: 0.9812\n",
      "Epoch 56/100\n",
      "100000/100000 - 1s - loss: 0.0262 - accuracy: 0.9898 - val_loss: 0.0513 - val_accuracy: 0.9823\n",
      "Epoch 57/100\n",
      "100000/100000 - 1s - loss: 0.0258 - accuracy: 0.9900 - val_loss: 0.0498 - val_accuracy: 0.9830\n",
      "Epoch 58/100\n",
      "100000/100000 - 1s - loss: 0.0249 - accuracy: 0.9903 - val_loss: 0.0509 - val_accuracy: 0.9823\n",
      "Epoch 59/100\n",
      "100000/100000 - 1s - loss: 0.0269 - accuracy: 0.9897 - val_loss: 0.0554 - val_accuracy: 0.9815\n",
      "Epoch 60/100\n",
      "100000/100000 - 1s - loss: 0.0265 - accuracy: 0.9897 - val_loss: 0.0502 - val_accuracy: 0.9833\n",
      "Epoch 61/100\n",
      "100000/100000 - 1s - loss: 0.0244 - accuracy: 0.9906 - val_loss: 0.0491 - val_accuracy: 0.9833\n",
      "Epoch 62/100\n",
      "100000/100000 - 1s - loss: 0.0249 - accuracy: 0.9904 - val_loss: 0.0502 - val_accuracy: 0.9821\n",
      "Epoch 63/100\n",
      "100000/100000 - 1s - loss: 0.0229 - accuracy: 0.9912 - val_loss: 0.0518 - val_accuracy: 0.9830\n",
      "Epoch 64/100\n",
      "100000/100000 - 1s - loss: 0.0233 - accuracy: 0.9910 - val_loss: 0.0467 - val_accuracy: 0.9836\n",
      "Epoch 65/100\n",
      "100000/100000 - 1s - loss: 0.0231 - accuracy: 0.9911 - val_loss: 0.0514 - val_accuracy: 0.9823\n",
      "Epoch 66/100\n",
      "100000/100000 - 1s - loss: 0.0225 - accuracy: 0.9913 - val_loss: 0.0525 - val_accuracy: 0.9823\n",
      "Epoch 67/100\n",
      "100000/100000 - 1s - loss: 0.0226 - accuracy: 0.9913 - val_loss: 0.0518 - val_accuracy: 0.9826\n",
      "Epoch 68/100\n",
      "100000/100000 - 1s - loss: 0.0221 - accuracy: 0.9916 - val_loss: 0.0489 - val_accuracy: 0.9834\n",
      "Epoch 69/100\n",
      "100000/100000 - 1s - loss: 0.0219 - accuracy: 0.9916 - val_loss: 0.0529 - val_accuracy: 0.9835\n",
      "Epoch 70/100\n",
      "100000/100000 - 1s - loss: 0.0218 - accuracy: 0.9917 - val_loss: 0.0519 - val_accuracy: 0.9834\n",
      "Epoch 71/100\n",
      "100000/100000 - 1s - loss: 0.0217 - accuracy: 0.9917 - val_loss: 0.0490 - val_accuracy: 0.9844\n",
      "Epoch 72/100\n",
      "100000/100000 - 1s - loss: 0.0200 - accuracy: 0.9924 - val_loss: 0.0500 - val_accuracy: 0.9845\n",
      "Epoch 73/100\n",
      "100000/100000 - 1s - loss: 0.0229 - accuracy: 0.9913 - val_loss: 0.0517 - val_accuracy: 0.9834\n",
      "Epoch 74/100\n",
      "100000/100000 - 1s - loss: 0.0215 - accuracy: 0.9917 - val_loss: 0.0529 - val_accuracy: 0.9834\n",
      "Epoch 75/100\n",
      "100000/100000 - 1s - loss: 0.0222 - accuracy: 0.9916 - val_loss: 0.0498 - val_accuracy: 0.9845\n",
      "Epoch 76/100\n",
      "100000/100000 - 1s - loss: 0.0209 - accuracy: 0.9920 - val_loss: 0.0494 - val_accuracy: 0.9850\n"
     ]
    },
    {
     "name": "stdout",
     "output_type": "stream",
     "text": [
      "Epoch 77/100\n",
      "100000/100000 - 1s - loss: 0.0194 - accuracy: 0.9926 - val_loss: 0.0499 - val_accuracy: 0.9845\n",
      "Epoch 78/100\n",
      "100000/100000 - 1s - loss: 0.0186 - accuracy: 0.9930 - val_loss: 0.0497 - val_accuracy: 0.9844\n",
      "Epoch 79/100\n",
      "100000/100000 - 1s - loss: 0.0186 - accuracy: 0.9929 - val_loss: 0.0476 - val_accuracy: 0.9850\n",
      "Epoch 80/100\n",
      "100000/100000 - 1s - loss: 0.0181 - accuracy: 0.9932 - val_loss: 0.0480 - val_accuracy: 0.9856\n",
      "Epoch 81/100\n",
      "100000/100000 - 1s - loss: 0.0188 - accuracy: 0.9929 - val_loss: 0.0539 - val_accuracy: 0.9848\n",
      "Epoch 82/100\n",
      "100000/100000 - 1s - loss: 0.0187 - accuracy: 0.9929 - val_loss: 0.0518 - val_accuracy: 0.9846\n",
      "Epoch 83/100\n",
      "100000/100000 - 1s - loss: 0.0201 - accuracy: 0.9926 - val_loss: 0.0492 - val_accuracy: 0.9848\n",
      "Epoch 84/100\n",
      "100000/100000 - 1s - loss: 0.0219 - accuracy: 0.9917 - val_loss: 0.0502 - val_accuracy: 0.9850\n",
      "Epoch 85/100\n",
      "100000/100000 - 1s - loss: 0.0187 - accuracy: 0.9930 - val_loss: 0.0510 - val_accuracy: 0.9851\n",
      "Epoch 86/100\n",
      "100000/100000 - 1s - loss: 0.0186 - accuracy: 0.9930 - val_loss: 0.0487 - val_accuracy: 0.9855\n",
      "Epoch 87/100\n",
      "100000/100000 - 1s - loss: 0.0188 - accuracy: 0.9930 - val_loss: 0.0475 - val_accuracy: 0.9861\n",
      "Epoch 88/100\n",
      "100000/100000 - 1s - loss: 0.0178 - accuracy: 0.9934 - val_loss: 0.0518 - val_accuracy: 0.9849\n",
      "Epoch 89/100\n",
      "100000/100000 - 1s - loss: 0.0175 - accuracy: 0.9935 - val_loss: 0.0487 - val_accuracy: 0.9857\n",
      "Epoch 90/100\n",
      "100000/100000 - 1s - loss: 0.0188 - accuracy: 0.9930 - val_loss: 0.0506 - val_accuracy: 0.9851\n",
      "Epoch 91/100\n",
      "100000/100000 - 1s - loss: 0.0186 - accuracy: 0.9932 - val_loss: 0.0455 - val_accuracy: 0.9866\n",
      "Epoch 92/100\n",
      "100000/100000 - 1s - loss: 0.0174 - accuracy: 0.9935 - val_loss: 0.0487 - val_accuracy: 0.9859\n",
      "Epoch 93/100\n",
      "100000/100000 - 1s - loss: 0.0171 - accuracy: 0.9936 - val_loss: 0.0492 - val_accuracy: 0.9858\n",
      "Epoch 94/100\n",
      "100000/100000 - 1s - loss: 0.0163 - accuracy: 0.9939 - val_loss: 0.0481 - val_accuracy: 0.9866\n",
      "Epoch 95/100\n",
      "100000/100000 - 1s - loss: 0.0164 - accuracy: 0.9938 - val_loss: 0.0493 - val_accuracy: 0.9861\n",
      "Epoch 96/100\n",
      "100000/100000 - 1s - loss: 0.0162 - accuracy: 0.9940 - val_loss: 0.0554 - val_accuracy: 0.9851\n",
      "Epoch 97/100\n",
      "100000/100000 - 1s - loss: 0.0179 - accuracy: 0.9934 - val_loss: 0.0536 - val_accuracy: 0.9850\n",
      "Epoch 98/100\n",
      "100000/100000 - 1s - loss: 0.0169 - accuracy: 0.9938 - val_loss: 0.0540 - val_accuracy: 0.9848\n",
      "Epoch 99/100\n",
      "100000/100000 - 1s - loss: 0.0172 - accuracy: 0.9937 - val_loss: 0.0534 - val_accuracy: 0.9851\n",
      "Epoch 100/100\n",
      "100000/100000 - 1s - loss: 0.0185 - accuracy: 0.9933 - val_loss: 0.0467 - val_accuracy: 0.9862\n"
     ]
    }
   ],
   "source": [
    "model = tf.keras.models.Sequential([\n",
    "    tf.keras.layers.Dense(150, input_shape = [24], activation = 'relu'),\n",
    "    tf.keras.layers.Dense(150, activation = 'relu'),\n",
    "    tf.keras.layers.Dense(150, activation = 'relu'),\n",
    "    tf.keras.layers.Dense(12, activation = 'sigmoid')\n",
    "])\n",
    "adam = tf.keras.optimizers.Adam(lr = 0.005)\n",
    "model.compile(optimizer = adam, loss = 'binary_crossentropy', metrics = ['accuracy'])\n",
    "\n",
    "history = model.fit(x_train, y_train, batch_size = 1024, epochs = 100, verbose = 2, validation_data = (x_test, y_test))\n"
   ]
  },
  {
   "cell_type": "code",
   "execution_count": 6,
   "metadata": {},
   "outputs": [
    {
     "data": {
      "image/png": "[encoded data removed]",
      "text/plain": [
       "<Figure size 432x288 with 1 Axes>"
      ]
     },
     "metadata": {
      "needs_background": "light"
     },
     "output_type": "display_data"
    }
   ],
   "source": [
    "import matplotlib.pyplot as plt\n",
    "plt.figure()\n",
    "acc = history.history['accuracy']\n",
    "loss = history.history['loss']\n",
    "val_acc = history.history['val_accuracy']\n",
    "val_loss = history.history['val_loss']\n",
    "epochs = range(len(acc))\n",
    "plt.plot(epochs, acc, 'r', label = 'Training accuracy')\n",
    "plt.plot(epochs, val_acc, 'b', label = 'Validating accuracy')\n",
    "plt.title('Training and Validating Accuracy')\n",
    "#plt.title('Training Accuracy')\n",
    "plt.legend()\n",
    "plt.show()"
   ]
  },
  {
   "cell_type": "code",
   "execution_count": 8,
   "metadata": {},
   "outputs": [
    {
     "name": "stdout",
     "output_type": "stream",
     "text": [
      "5000/1 - 0s - loss: 0.0630 - accuracy: 0.9720\n"
     ]
    },
    {
     "data": {
      "text/plain": [
       "[0.04715186712741852, 0.9720002]"
      ]
     },
     "execution_count": 8,
     "metadata": {},
     "output_type": "execute_result"
    }
   ],
   "source": [
    "#model.evaluate(x_test, y_test, verbose = 2)"
   ]
  },
  {
   "cell_type": "code",
   "execution_count": 8,
   "metadata": {},
   "outputs": [],
   "source": [
    "model.save('C:\\\\Users\\\\Wilfred\\\\Desktop\\\\weights\\\\Look_ahead_N\\\\Look_ahead_N_4_6_10_3_model.h5')"
   ]
  },
  {
   "cell_type": "code",
   "execution_count": null,
   "metadata": {},
   "outputs": [],
   "source": []
  }
 ],
 "metadata": {
  "kernelspec": {
   "display_name": "Python 3",
   "language": "python",
   "name": "python3"
  },
  "language_info": {
   "codemirror_mode": {
    "name": "ipython",
    "version": 3
   },
   "file_extension": ".py",
   "mimetype": "text/x-python",
   "name": "python",
   "nbconvert_exporter": "python",
   "pygments_lexer": "ipython3",
   "version": "3.7.5"
  }
 },
 "nbformat": 4,
 "nbformat_minor": 2
}
