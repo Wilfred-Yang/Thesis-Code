{
 "cells": [
  {
   "cell_type": "code",
   "execution_count": 4,
   "metadata": {},
   "outputs": [],
   "source": [
    "import tensorflow as tf\n",
    "import numpy as np\n",
    "import pickle\n"
   ]
  },
  {
   "cell_type": "code",
   "execution_count": 6,
   "metadata": {},
   "outputs": [
    {
     "name": "stdout",
     "output_type": "stream",
     "text": [
      "(205000, 24)\n"
     ]
    }
   ],
   "source": [
    "with open ('C:\\\\Users\\\\Wilfred\\\\Desktop\\\\Look-ahead-N\\\\input_layer_4_6_8_2.pickle','rb') as file:\n",
    "    input_data = pickle.load(file)\n",
    "print(input_data.shape)\n",
    "\n",
    "x_train = input_data[:200000, :]\n",
    "x_test = input_data[200000:205000, :]\n"
   ]
  },
  {
   "cell_type": "code",
   "execution_count": 7,
   "metadata": {},
   "outputs": [
    {
     "name": "stdout",
     "output_type": "stream",
     "text": [
      "(205000, 12)\n"
     ]
    }
   ],
   "source": [
    "with open ('C:\\\\Users\\\\Wilfred\\\\Desktop\\\\Look-ahead-N\\\\output_layer_4_6_8_2.pickle','rb') as file:\n",
    "    output_data = pickle.load(file)\n",
    "output_data = np.transpose(output_data)\n",
    "y_train = output_data[:200000, :]\n",
    "y_test = output_data[200000:205000, :]\n",
    "print(output_data.shape)"
   ]
  },
  {
   "cell_type": "code",
   "execution_count": 9,
   "metadata": {},
   "outputs": [
    {
     "name": "stdout",
     "output_type": "stream",
     "text": [
      "Train on 200000 samples, validate on 5000 samples\n",
      "Epoch 1/100\n",
      "200000/200000 - 3s - loss: 0.2849 - accuracy: 0.8806 - val_loss: 0.2361 - val_accuracy: 0.8984\n",
      "Epoch 2/100\n",
      "200000/200000 - 2s - loss: 0.2128 - accuracy: 0.9061 - val_loss: 0.1934 - val_accuracy: 0.9128\n",
      "Epoch 3/100\n",
      "200000/200000 - 2s - loss: 0.1713 - accuracy: 0.9207 - val_loss: 0.1552 - val_accuracy: 0.9265\n",
      "Epoch 4/100\n",
      "200000/200000 - 3s - loss: 0.1417 - accuracy: 0.9335 - val_loss: 0.1324 - val_accuracy: 0.9390\n",
      "Epoch 5/100\n",
      "200000/200000 - 3s - loss: 0.1208 - accuracy: 0.9451 - val_loss: 0.1118 - val_accuracy: 0.9496\n",
      "Epoch 6/100\n",
      "200000/200000 - 3s - loss: 0.1051 - accuracy: 0.9540 - val_loss: 0.0995 - val_accuracy: 0.9568\n",
      "Epoch 7/100\n",
      "200000/200000 - 3s - loss: 0.0936 - accuracy: 0.9602 - val_loss: 0.0913 - val_accuracy: 0.9616\n",
      "Epoch 8/100\n",
      "200000/200000 - 3s - loss: 0.0849 - accuracy: 0.9646 - val_loss: 0.0829 - val_accuracy: 0.9652\n",
      "Epoch 9/100\n",
      "200000/200000 - 3s - loss: 0.0773 - accuracy: 0.9683 - val_loss: 0.0777 - val_accuracy: 0.9684\n",
      "Epoch 10/100\n",
      "200000/200000 - 3s - loss: 0.0714 - accuracy: 0.9711 - val_loss: 0.0729 - val_accuracy: 0.9708\n",
      "Epoch 11/100\n",
      "200000/200000 - 3s - loss: 0.0663 - accuracy: 0.9734 - val_loss: 0.0661 - val_accuracy: 0.9735\n",
      "Epoch 12/100\n",
      "200000/200000 - 3s - loss: 0.0622 - accuracy: 0.9752 - val_loss: 0.0663 - val_accuracy: 0.9735\n",
      "Epoch 13/100\n",
      "200000/200000 - 3s - loss: 0.0589 - accuracy: 0.9767 - val_loss: 0.0600 - val_accuracy: 0.9763\n",
      "Epoch 14/100\n",
      "200000/200000 - 3s - loss: 0.0559 - accuracy: 0.9780 - val_loss: 0.0608 - val_accuracy: 0.9762\n",
      "Epoch 15/100\n",
      "200000/200000 - 3s - loss: 0.0530 - accuracy: 0.9794 - val_loss: 0.0577 - val_accuracy: 0.9776\n",
      "Epoch 16/100\n",
      "200000/200000 - 3s - loss: 0.0508 - accuracy: 0.9804 - val_loss: 0.0556 - val_accuracy: 0.9788\n",
      "Epoch 17/100\n",
      "200000/200000 - 3s - loss: 0.0482 - accuracy: 0.9815 - val_loss: 0.0525 - val_accuracy: 0.9798\n",
      "Epoch 18/100\n",
      "200000/200000 - 3s - loss: 0.0463 - accuracy: 0.9822 - val_loss: 0.0523 - val_accuracy: 0.9802\n",
      "Epoch 19/100\n",
      "200000/200000 - 3s - loss: 0.0444 - accuracy: 0.9831 - val_loss: 0.0474 - val_accuracy: 0.9824\n",
      "Epoch 20/100\n",
      "200000/200000 - 3s - loss: 0.0426 - accuracy: 0.9839 - val_loss: 0.0470 - val_accuracy: 0.9825\n",
      "Epoch 21/100\n",
      "200000/200000 - 3s - loss: 0.0414 - accuracy: 0.9843 - val_loss: 0.0470 - val_accuracy: 0.9827\n",
      "Epoch 22/100\n",
      "200000/200000 - 3s - loss: 0.0402 - accuracy: 0.9849 - val_loss: 0.0453 - val_accuracy: 0.9831\n",
      "Epoch 23/100\n",
      "200000/200000 - 3s - loss: 0.0389 - accuracy: 0.9854 - val_loss: 0.0426 - val_accuracy: 0.9847\n",
      "Epoch 24/100\n",
      "200000/200000 - 3s - loss: 0.0377 - accuracy: 0.9860 - val_loss: 0.0419 - val_accuracy: 0.9853\n",
      "Epoch 25/100\n",
      "200000/200000 - 3s - loss: 0.0364 - accuracy: 0.9864 - val_loss: 0.0426 - val_accuracy: 0.9842\n",
      "Epoch 26/100\n",
      "200000/200000 - 3s - loss: 0.0352 - accuracy: 0.9869 - val_loss: 0.0393 - val_accuracy: 0.9853\n",
      "Epoch 27/100\n",
      "200000/200000 - 3s - loss: 0.0343 - accuracy: 0.9872 - val_loss: 0.0401 - val_accuracy: 0.9852\n",
      "Epoch 28/100\n",
      "200000/200000 - 3s - loss: 0.0336 - accuracy: 0.9876 - val_loss: 0.0378 - val_accuracy: 0.9860\n",
      "Epoch 29/100\n",
      "200000/200000 - 3s - loss: 0.0324 - accuracy: 0.9881 - val_loss: 0.0364 - val_accuracy: 0.9863\n",
      "Epoch 30/100\n",
      "200000/200000 - 3s - loss: 0.0320 - accuracy: 0.9883 - val_loss: 0.0370 - val_accuracy: 0.9866\n",
      "Epoch 31/100\n",
      "200000/200000 - 3s - loss: 0.0313 - accuracy: 0.9885 - val_loss: 0.0358 - val_accuracy: 0.9865\n",
      "Epoch 32/100\n",
      "200000/200000 - 3s - loss: 0.0302 - accuracy: 0.9889 - val_loss: 0.0376 - val_accuracy: 0.9861\n",
      "Epoch 33/100\n",
      "200000/200000 - 3s - loss: 0.0295 - accuracy: 0.9892 - val_loss: 0.0352 - val_accuracy: 0.9872\n",
      "Epoch 34/100\n",
      "200000/200000 - 3s - loss: 0.0293 - accuracy: 0.9892 - val_loss: 0.0361 - val_accuracy: 0.9871\n",
      "Epoch 35/100\n",
      "200000/200000 - 3s - loss: 0.0287 - accuracy: 0.9895 - val_loss: 0.0339 - val_accuracy: 0.9879\n",
      "Epoch 36/100\n",
      "200000/200000 - 3s - loss: 0.0279 - accuracy: 0.9897 - val_loss: 0.0350 - val_accuracy: 0.9874\n",
      "Epoch 37/100\n",
      "200000/200000 - 3s - loss: 0.0277 - accuracy: 0.9899 - val_loss: 0.0333 - val_accuracy: 0.9882\n",
      "Epoch 38/100\n",
      "200000/200000 - 3s - loss: 0.0272 - accuracy: 0.9901 - val_loss: 0.0332 - val_accuracy: 0.9880\n",
      "Epoch 39/100\n",
      "200000/200000 - 3s - loss: 0.0267 - accuracy: 0.9903 - val_loss: 0.0327 - val_accuracy: 0.9883\n",
      "Epoch 40/100\n",
      "200000/200000 - 3s - loss: 0.0259 - accuracy: 0.9906 - val_loss: 0.0320 - val_accuracy: 0.9885\n",
      "Epoch 41/100\n",
      "200000/200000 - 3s - loss: 0.0256 - accuracy: 0.9907 - val_loss: 0.0342 - val_accuracy: 0.9880\n",
      "Epoch 42/100\n",
      "200000/200000 - 3s - loss: 0.0249 - accuracy: 0.9910 - val_loss: 0.0320 - val_accuracy: 0.9879\n",
      "Epoch 43/100\n",
      "200000/200000 - 3s - loss: 0.0249 - accuracy: 0.9910 - val_loss: 0.0308 - val_accuracy: 0.9889\n",
      "Epoch 44/100\n",
      "200000/200000 - 3s - loss: 0.0245 - accuracy: 0.9911 - val_loss: 0.0335 - val_accuracy: 0.9879\n",
      "Epoch 45/100\n",
      "200000/200000 - 3s - loss: 0.0240 - accuracy: 0.9913 - val_loss: 0.0309 - val_accuracy: 0.9890\n",
      "Epoch 46/100\n",
      "200000/200000 - 3s - loss: 0.0238 - accuracy: 0.9914 - val_loss: 0.0324 - val_accuracy: 0.9881\n",
      "Epoch 47/100\n",
      "200000/200000 - 3s - loss: 0.0234 - accuracy: 0.9916 - val_loss: 0.0305 - val_accuracy: 0.9893\n",
      "Epoch 48/100\n",
      "200000/200000 - 3s - loss: 0.0232 - accuracy: 0.9917 - val_loss: 0.0334 - val_accuracy: 0.9880\n",
      "Epoch 49/100\n",
      "200000/200000 - 3s - loss: 0.0231 - accuracy: 0.9918 - val_loss: 0.0310 - val_accuracy: 0.9889\n",
      "Epoch 50/100\n",
      "200000/200000 - 3s - loss: 0.0227 - accuracy: 0.9919 - val_loss: 0.0285 - val_accuracy: 0.9898\n",
      "Epoch 51/100\n",
      "200000/200000 - 3s - loss: 0.0221 - accuracy: 0.9921 - val_loss: 0.0310 - val_accuracy: 0.9894\n",
      "Epoch 52/100\n",
      "200000/200000 - 3s - loss: 0.0223 - accuracy: 0.9920 - val_loss: 0.0272 - val_accuracy: 0.9901\n",
      "Epoch 53/100\n",
      "200000/200000 - 3s - loss: 0.0215 - accuracy: 0.9923 - val_loss: 0.0287 - val_accuracy: 0.9900\n",
      "Epoch 54/100\n",
      "200000/200000 - 3s - loss: 0.0211 - accuracy: 0.9925 - val_loss: 0.0282 - val_accuracy: 0.9900\n",
      "Epoch 55/100\n",
      "200000/200000 - 3s - loss: 0.0207 - accuracy: 0.9926 - val_loss: 0.0271 - val_accuracy: 0.9905\n",
      "Epoch 56/100\n",
      "200000/200000 - 3s - loss: 0.0211 - accuracy: 0.9925 - val_loss: 0.0290 - val_accuracy: 0.9898\n",
      "Epoch 57/100\n",
      "200000/200000 - 3s - loss: 0.0209 - accuracy: 0.9925 - val_loss: 0.0266 - val_accuracy: 0.9906\n",
      "Epoch 58/100\n",
      "200000/200000 - 3s - loss: 0.0205 - accuracy: 0.9927 - val_loss: 0.0272 - val_accuracy: 0.9901\n",
      "Epoch 59/100\n",
      "200000/200000 - 3s - loss: 0.0207 - accuracy: 0.9927 - val_loss: 0.0254 - val_accuracy: 0.9913\n",
      "Epoch 60/100\n",
      "200000/200000 - 3s - loss: 0.0198 - accuracy: 0.9930 - val_loss: 0.0292 - val_accuracy: 0.9906\n",
      "Epoch 61/100\n",
      "200000/200000 - 3s - loss: 0.0200 - accuracy: 0.9929 - val_loss: 0.0267 - val_accuracy: 0.9903\n",
      "Epoch 62/100\n",
      "200000/200000 - 3s - loss: 0.0196 - accuracy: 0.9931 - val_loss: 0.0271 - val_accuracy: 0.9908\n",
      "Epoch 63/100\n",
      "200000/200000 - 3s - loss: 0.0197 - accuracy: 0.9931 - val_loss: 0.0248 - val_accuracy: 0.9913\n",
      "Epoch 64/100\n",
      "200000/200000 - 2s - loss: 0.0188 - accuracy: 0.9934 - val_loss: 0.0253 - val_accuracy: 0.9911\n",
      "Epoch 65/100\n",
      "200000/200000 - 2s - loss: 0.0192 - accuracy: 0.9932 - val_loss: 0.0242 - val_accuracy: 0.9916\n",
      "Epoch 66/100\n",
      "200000/200000 - 2s - loss: 0.0186 - accuracy: 0.9935 - val_loss: 0.0252 - val_accuracy: 0.9906\n",
      "Epoch 67/100\n",
      "200000/200000 - 2s - loss: 0.0190 - accuracy: 0.9934 - val_loss: 0.0251 - val_accuracy: 0.9907\n",
      "Epoch 68/100\n",
      "200000/200000 - 2s - loss: 0.0179 - accuracy: 0.9937 - val_loss: 0.0243 - val_accuracy: 0.9914\n",
      "Epoch 69/100\n",
      "200000/200000 - 2s - loss: 0.0182 - accuracy: 0.9936 - val_loss: 0.0252 - val_accuracy: 0.9914\n",
      "Epoch 70/100\n",
      "200000/200000 - 2s - loss: 0.0185 - accuracy: 0.9935 - val_loss: 0.0273 - val_accuracy: 0.9905\n",
      "Epoch 71/100\n",
      "200000/200000 - 2s - loss: 0.0188 - accuracy: 0.9934 - val_loss: 0.0257 - val_accuracy: 0.9913\n",
      "Epoch 72/100\n",
      "200000/200000 - 2s - loss: 0.0184 - accuracy: 0.9936 - val_loss: 0.0263 - val_accuracy: 0.9910\n",
      "Epoch 73/100\n",
      "200000/200000 - 2s - loss: 0.0173 - accuracy: 0.9939 - val_loss: 0.0257 - val_accuracy: 0.9912\n",
      "Epoch 74/100\n",
      "200000/200000 - 2s - loss: 0.0179 - accuracy: 0.9937 - val_loss: 0.0247 - val_accuracy: 0.9917\n",
      "Epoch 75/100\n",
      "200000/200000 - 2s - loss: 0.0174 - accuracy: 0.9939 - val_loss: 0.0267 - val_accuracy: 0.9912\n",
      "Epoch 76/100\n",
      "200000/200000 - 2s - loss: 0.0169 - accuracy: 0.9941 - val_loss: 0.0245 - val_accuracy: 0.9915\n"
     ]
    },
    {
     "name": "stdout",
     "output_type": "stream",
     "text": [
      "Epoch 77/100\n",
      "200000/200000 - 2s - loss: 0.0172 - accuracy: 0.9940 - val_loss: 0.0251 - val_accuracy: 0.9912\n",
      "Epoch 78/100\n",
      "200000/200000 - 2s - loss: 0.0167 - accuracy: 0.9942 - val_loss: 0.0236 - val_accuracy: 0.9917\n",
      "Epoch 79/100\n",
      "200000/200000 - 2s - loss: 0.0171 - accuracy: 0.9940 - val_loss: 0.0259 - val_accuracy: 0.9915\n",
      "Epoch 80/100\n",
      "200000/200000 - 2s - loss: 0.0168 - accuracy: 0.9941 - val_loss: 0.0242 - val_accuracy: 0.9923\n",
      "Epoch 81/100\n",
      "200000/200000 - 2s - loss: 0.0165 - accuracy: 0.9943 - val_loss: 0.0246 - val_accuracy: 0.9921\n",
      "Epoch 82/100\n",
      "200000/200000 - 2s - loss: 0.0171 - accuracy: 0.9941 - val_loss: 0.0250 - val_accuracy: 0.9920\n",
      "Epoch 83/100\n",
      "200000/200000 - 2s - loss: 0.0169 - accuracy: 0.9941 - val_loss: 0.0244 - val_accuracy: 0.9920\n",
      "Epoch 84/100\n",
      "200000/200000 - 2s - loss: 0.0157 - accuracy: 0.9945 - val_loss: 0.0212 - val_accuracy: 0.9931\n",
      "Epoch 85/100\n",
      "200000/200000 - 2s - loss: 0.0155 - accuracy: 0.9946 - val_loss: 0.0232 - val_accuracy: 0.9924\n",
      "Epoch 86/100\n",
      "200000/200000 - 2s - loss: 0.0162 - accuracy: 0.9944 - val_loss: 0.0257 - val_accuracy: 0.9919\n",
      "Epoch 87/100\n",
      "200000/200000 - 2s - loss: 0.0164 - accuracy: 0.9943 - val_loss: 0.0259 - val_accuracy: 0.9918\n",
      "Epoch 88/100\n",
      "200000/200000 - 2s - loss: 0.0159 - accuracy: 0.9945 - val_loss: 0.0236 - val_accuracy: 0.9923\n",
      "Epoch 89/100\n",
      "200000/200000 - 2s - loss: 0.0155 - accuracy: 0.9947 - val_loss: 0.0243 - val_accuracy: 0.9924\n",
      "Epoch 90/100\n",
      "200000/200000 - 2s - loss: 0.0156 - accuracy: 0.9947 - val_loss: 0.0243 - val_accuracy: 0.9922\n",
      "Epoch 91/100\n",
      "200000/200000 - 2s - loss: 0.0164 - accuracy: 0.9944 - val_loss: 0.0240 - val_accuracy: 0.9925\n",
      "Epoch 92/100\n",
      "200000/200000 - 2s - loss: 0.0158 - accuracy: 0.9945 - val_loss: 0.0224 - val_accuracy: 0.9924\n",
      "Epoch 93/100\n",
      "200000/200000 - 2s - loss: 0.0150 - accuracy: 0.9948 - val_loss: 0.0234 - val_accuracy: 0.9923\n",
      "Epoch 94/100\n",
      "200000/200000 - 2s - loss: 0.0149 - accuracy: 0.9949 - val_loss: 0.0219 - val_accuracy: 0.9930\n",
      "Epoch 95/100\n",
      "200000/200000 - 2s - loss: 0.0151 - accuracy: 0.9948 - val_loss: 0.0233 - val_accuracy: 0.9927\n",
      "Epoch 96/100\n",
      "200000/200000 - 2s - loss: 0.0155 - accuracy: 0.9947 - val_loss: 0.0251 - val_accuracy: 0.9919\n",
      "Epoch 97/100\n",
      "200000/200000 - 2s - loss: 0.0155 - accuracy: 0.9947 - val_loss: 0.0231 - val_accuracy: 0.9923\n",
      "Epoch 98/100\n",
      "200000/200000 - 2s - loss: 0.0148 - accuracy: 0.9949 - val_loss: 0.0229 - val_accuracy: 0.9929\n",
      "Epoch 99/100\n",
      "200000/200000 - 2s - loss: 0.0144 - accuracy: 0.9950 - val_loss: 0.0226 - val_accuracy: 0.9927\n",
      "Epoch 100/100\n",
      "200000/200000 - 2s - loss: 0.0150 - accuracy: 0.9948 - val_loss: 0.0238 - val_accuracy: 0.9924\n"
     ]
    }
   ],
   "source": [
    "model = tf.keras.models.Sequential([\n",
    "    tf.keras.layers.Dense(200, input_shape = [24], activation = 'relu'),\n",
    "    tf.keras.layers.Dense(200, activation = 'relu'),\n",
    "    #tf.keras.layers.Dense(200, activation = 'relu'),\n",
    "    tf.keras.layers.Dense(12, activation = 'sigmoid')\n",
    "])\n",
    "adam = tf.keras.optimizers.Adam(lr = 0.005)\n",
    "model.compile(optimizer = adam, loss = 'binary_crossentropy', metrics = ['accuracy'])\n",
    "\n",
    "history = model.fit(x_train, y_train, batch_size = 1024, epochs = 100, verbose = 2, validation_data = (x_test, y_test))\n"
   ]
  },
  {
   "cell_type": "code",
   "execution_count": 11,
   "metadata": {},
   "outputs": [
    {
     "data": {
      "image/png": "[encoded data removed]",
      "text/plain": [
       "<Figure size 432x288 with 1 Axes>"
      ]
     },
     "metadata": {
      "needs_background": "light"
     },
     "output_type": "display_data"
    }
   ],
   "source": [
    "import matplotlib.pyplot as plt\n",
    "plt.figure()\n",
    "acc = history.history['accuracy']\n",
    "loss = history.history['loss']\n",
    "val_acc = history.history['val_accuracy']\n",
    "val_loss = history.history['val_loss']\n",
    "epochs = range(len(acc))\n",
    "plt.plot(epochs, acc, 'r', label = 'Training accuracy')\n",
    "plt.plot(epochs, val_acc, 'b', label = 'Validating accuracy')\n",
    "plt.title('Training and Validating Accuracy')\n",
    "#plt.title('Training Accuracy')\n",
    "plt.legend()\n",
    "plt.show()"
   ]
  },
  {
   "cell_type": "code",
   "execution_count": 8,
   "metadata": {},
   "outputs": [
    {
     "name": "stdout",
     "output_type": "stream",
     "text": [
      "5000/1 - 0s - loss: 0.0630 - accuracy: 0.9720\n"
     ]
    },
    {
     "data": {
      "text/plain": [
       "[0.04715186712741852, 0.9720002]"
      ]
     },
     "execution_count": 8,
     "metadata": {},
     "output_type": "execute_result"
    }
   ],
   "source": [
    "#model.evaluate(x_test, y_test, verbose = 2)"
   ]
  },
  {
   "cell_type": "code",
   "execution_count": 12,
   "metadata": {},
   "outputs": [],
   "source": [
    "model.save('C:\\\\Users\\\\Wilfred\\\\Desktop\\\\weights\\\\Look_ahead_N\\\\Look_ahead_N_4_6_8_2_model.h5')"
   ]
  },
  {
   "cell_type": "code",
   "execution_count": null,
   "metadata": {},
   "outputs": [],
   "source": []
  }
 ],
 "metadata": {
  "kernelspec": {
   "display_name": "Python 3",
   "language": "python",
   "name": "python3"
  },
  "language_info": {
   "codemirror_mode": {
    "name": "ipython",
    "version": 3
   },
   "file_extension": ".py",
   "mimetype": "text/x-python",
   "name": "python",
   "nbconvert_exporter": "python",
   "pygments_lexer": "ipython3",
   "version": "3.7.5"
  }
 },
 "nbformat": 4,
 "nbformat_minor": 2
}
