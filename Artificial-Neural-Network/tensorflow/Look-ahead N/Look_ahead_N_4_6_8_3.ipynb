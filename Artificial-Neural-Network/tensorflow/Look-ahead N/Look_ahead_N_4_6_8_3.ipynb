{
 "cells": [
  {
   "cell_type": "code",
   "execution_count": 1,
   "metadata": {},
   "outputs": [],
   "source": [
    "import tensorflow as tf\n",
    "import numpy as np\n",
    "import pickle"
   ]
  },
  {
   "cell_type": "code",
   "execution_count": 2,
   "metadata": {},
   "outputs": [
    {
     "name": "stdout",
     "output_type": "stream",
     "text": [
      "(5775840, 24)\n"
     ]
    }
   ],
   "source": [
    "with open ('C:\\\\Users\\\\Wilfred\\\\Desktop\\\\Look-ahead-N\\\\input_layer_4_6_8_3.pickle','rb') as file:\n",
    "    input_data = pickle.load(file)\n",
    "print(input_data.shape)\n",
    "\n",
    "x_train = input_data[:5770840,:]\n",
    "x_test = input_data[5770840:, :]\n"
   ]
  },
  {
   "cell_type": "code",
   "execution_count": 4,
   "metadata": {},
   "outputs": [
    {
     "name": "stdout",
     "output_type": "stream",
     "text": [
      "(5775840, 12)\n"
     ]
    }
   ],
   "source": [
    "with open ('C:\\\\Users\\\\Wilfred\\\\Desktop\\\\Look-ahead-N\\\\output_layer_4_6_8_3.pickle','rb') as file:\n",
    "    output_data = pickle.load(file)\n",
    "output_data = np.transpose(output_data)\n",
    "y_train = output_data[:5770840,:]\n",
    "y_test = output_data[5770840:, :]\n",
    "print(output_data.shape)"
   ]
  },
  {
   "cell_type": "code",
   "execution_count": 9,
   "metadata": {},
   "outputs": [
    {
     "name": "stdout",
     "output_type": "stream",
     "text": [
      "Train on 5770840 samples, validate on 5000 samples\n",
      "Epoch 1/20\n",
      "5770840/5770840 - 110s - loss: 0.1369 - accuracy: 0.9385 - val_loss: 0.0520 - val_accuracy: 0.9812\n",
      "Epoch 2/20\n",
      "5770840/5770840 - 101s - loss: 0.0621 - accuracy: 0.9741 - val_loss: 0.0380 - val_accuracy: 0.9846\n",
      "Epoch 3/20\n",
      "5770840/5770840 - 108s - loss: 0.0419 - accuracy: 0.9833 - val_loss: 0.0311 - val_accuracy: 0.9877\n",
      "Epoch 4/20\n",
      "5770840/5770840 - 111s - loss: 0.0303 - accuracy: 0.9883 - val_loss: 0.0341 - val_accuracy: 0.9865\n",
      "Epoch 5/20\n",
      "5770840/5770840 - 102s - loss: 0.0231 - accuracy: 0.9912 - val_loss: 0.0296 - val_accuracy: 0.9891\n",
      "Epoch 6/20\n",
      "5770840/5770840 - 100s - loss: 0.0184 - accuracy: 0.9931 - val_loss: 0.0216 - val_accuracy: 0.9908\n",
      "Epoch 7/20\n",
      "5770840/5770840 - 106s - loss: 0.0152 - accuracy: 0.9944 - val_loss: 0.0141 - val_accuracy: 0.9940\n",
      "Epoch 8/20\n",
      "5770840/5770840 - 106s - loss: 0.0127 - accuracy: 0.9953 - val_loss: 0.0154 - val_accuracy: 0.9939\n",
      "Epoch 9/20\n",
      "5770840/5770840 - 99s - loss: 0.0110 - accuracy: 0.9960 - val_loss: 0.0144 - val_accuracy: 0.9948\n",
      "Epoch 10/20\n",
      "5770840/5770840 - 104s - loss: 0.0096 - accuracy: 0.9965 - val_loss: 0.0126 - val_accuracy: 0.9952\n",
      "Epoch 11/20\n",
      "5770840/5770840 - 110s - loss: 0.0085 - accuracy: 0.9969 - val_loss: 0.0084 - val_accuracy: 0.9967\n",
      "Epoch 12/20\n",
      "5770840/5770840 - 110s - loss: 0.0076 - accuracy: 0.9972 - val_loss: 0.0097 - val_accuracy: 0.9964\n",
      "Epoch 13/20\n",
      "5770840/5770840 - 111s - loss: 0.0069 - accuracy: 0.9975 - val_loss: 0.0095 - val_accuracy: 0.9966\n",
      "Epoch 14/20\n",
      "5770840/5770840 - 110s - loss: 0.0064 - accuracy: 0.9977 - val_loss: 0.0154 - val_accuracy: 0.9944\n",
      "Epoch 15/20\n",
      "5770840/5770840 - 99s - loss: 0.0058 - accuracy: 0.9979 - val_loss: 0.0127 - val_accuracy: 0.9960\n",
      "Epoch 16/20\n",
      "5770840/5770840 - 104s - loss: 0.0054 - accuracy: 0.9981 - val_loss: 0.0058 - val_accuracy: 0.9980\n",
      "Epoch 17/20\n",
      "5770840/5770840 - 111s - loss: 0.0051 - accuracy: 0.9982 - val_loss: 0.0115 - val_accuracy: 0.9963\n",
      "Epoch 18/20\n",
      "5770840/5770840 - 107s - loss: 0.0048 - accuracy: 0.9983 - val_loss: 0.0077 - val_accuracy: 0.9970\n",
      "Epoch 19/20\n",
      "5770840/5770840 - 79s - loss: 0.0045 - accuracy: 0.9984 - val_loss: 0.0074 - val_accuracy: 0.9973\n",
      "Epoch 20/20\n",
      "5770840/5770840 - 74s - loss: 0.0042 - accuracy: 0.9985 - val_loss: 0.0080 - val_accuracy: 0.9971\n"
     ]
    }
   ],
   "source": [
    "model = tf.keras.models.Sequential([\n",
    "    tf.keras.layers.Dense(200, input_shape = [24], activation = 'relu'),\n",
    "    tf.keras.layers.Dense(200, activation = 'relu'),\n",
    "    #tf.keras.layers.Dense(200, activation = 'relu'),\n",
    "    tf.keras.layers.Dense(12, activation = 'sigmoid')\n",
    "])\n",
    "\n",
    "model.compile(optimizer = 'adam', loss = 'binary_crossentropy', metrics = ['accuracy'])\n",
    "\n",
    "history = model.fit(x_train, y_train, batch_size = 1024, epochs = 20, verbose = 2, validation_data = (x_test, y_test))\n"
   ]
  },
  {
   "cell_type": "code",
   "execution_count": 12,
   "metadata": {},
   "outputs": [
    {
     "data": {
      "image/png": "[encoded data removed]",
      "text/plain": [
       "<Figure size 432x288 with 1 Axes>"
      ]
     },
     "metadata": {
      "needs_background": "light"
     },
     "output_type": "display_data"
    }
   ],
   "source": [
    "import matplotlib.pyplot as plt\n",
    "plt.figure()\n",
    "acc = history.history['accuracy']\n",
    "loss = history.history['loss']\n",
    "#val_acc = history.history['val_accuracy']\n",
    "#val_loss = history.history['val_loss']\n",
    "\n",
    "epochs = range(len(acc))\n",
    "plt.plot(epochs, acc, 'r', label = 'Training accuracy')\n",
    "#plt.plot(epochs, val_acc, 'b', label = 'Validating accuracy')\n",
    "plt.title('Training and Validating Accuracy')\n",
    "plt.legend()\n",
    "plt.show()"
   ]
  },
  {
   "cell_type": "code",
   "execution_count": 8,
   "metadata": {},
   "outputs": [
    {
     "name": "stdout",
     "output_type": "stream",
     "text": [
      "5000/1 - 0s - loss: 0.0630 - accuracy: 0.9720\n"
     ]
    },
    {
     "data": {
      "text/plain": [
       "[0.04715186712741852, 0.9720002]"
      ]
     },
     "execution_count": 8,
     "metadata": {},
     "output_type": "execute_result"
    }
   ],
   "source": [
    "#model.evaluate(x_test, y_test, verbose = 2)"
   ]
  },
  {
   "cell_type": "code",
   "execution_count": 13,
   "metadata": {},
   "outputs": [],
   "source": [
    "model.save('C:\\\\Users\\\\Wilfred\\\\Desktop\\\\weights\\\\Look_ahead_N\\\\Look_ahead_N_4_6_8_3_model.h5')"
   ]
  },
  {
   "cell_type": "code",
   "execution_count": null,
   "metadata": {},
   "outputs": [],
   "source": []
  }
 ],
 "metadata": {
  "kernelspec": {
   "display_name": "Python 3",
   "language": "python",
   "name": "python3"
  },
  "language_info": {
   "codemirror_mode": {
    "name": "ipython",
    "version": 3
   },
   "file_extension": ".py",
   "mimetype": "text/x-python",
   "name": "python",
   "nbconvert_exporter": "python",
   "pygments_lexer": "ipython3",
   "version": "3.7.5"
  }
 },
 "nbformat": 4,
 "nbformat_minor": 2
}
