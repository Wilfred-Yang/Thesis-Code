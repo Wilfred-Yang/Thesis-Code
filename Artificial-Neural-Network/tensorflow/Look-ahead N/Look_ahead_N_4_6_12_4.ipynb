{
 "cells": [
  {
   "cell_type": "code",
   "execution_count": 7,
   "metadata": {},
   "outputs": [],
   "source": [
    "import tensorflow as tf\n",
    "import numpy as np\n",
    "import pickle\n",
    "np.random.seed(7)"
   ]
  },
  {
   "cell_type": "code",
   "execution_count": 8,
   "metadata": {},
   "outputs": [
    {
     "name": "stdout",
     "output_type": "stream",
     "text": [
      "(105000, 24)\n"
     ]
    }
   ],
   "source": [
    "with open ('C:\\\\Users\\\\Wilfred\\\\Desktop\\\\Look-ahead-N\\\\input_layer_4_6_12_4.pickle','rb') as file:\n",
    "    input_data = pickle.load(file)\n",
    "permutation = list(np.random.permutation(input_data.shape[0]))\n",
    "input_data = input_data[permutation,:]\n",
    "print(input_data.shape)\n",
    "x_train = input_data[:100000, :]\n",
    "x_test = input_data[100000:105000, :]\n"
   ]
  },
  {
   "cell_type": "code",
   "execution_count": 9,
   "metadata": {},
   "outputs": [
    {
     "name": "stdout",
     "output_type": "stream",
     "text": [
      "(105000, 12)\n"
     ]
    }
   ],
   "source": [
    "with open ('C:\\\\Users\\\\Wilfred\\\\Desktop\\\\Look-ahead-N\\\\output_layer_4_6_12_4.pickle','rb') as file:\n",
    "    output_data = pickle.load(file)\n",
    "output_data = np.transpose(output_data)\n",
    "output_data = output_data[permutation,:]\n",
    "y_train = output_data[:100000, :]\n",
    "y_test = output_data[100000:105000, :]\n",
    "print(output_data.shape)"
   ]
  },
  {
   "cell_type": "code",
   "execution_count": 10,
   "metadata": {},
   "outputs": [
    {
     "name": "stdout",
     "output_type": "stream",
     "text": [
      "Train on 100000 samples, validate on 5000 samples\n",
      "Epoch 1/100\n",
      "100000/100000 - 3s - loss: 0.2931 - accuracy: 0.8821 - val_loss: 0.2582 - val_accuracy: 0.8929\n",
      "Epoch 2/100\n",
      "100000/100000 - 2s - loss: 0.2446 - accuracy: 0.8971 - val_loss: 0.2251 - val_accuracy: 0.9058\n",
      "Epoch 3/100\n",
      "100000/100000 - 2s - loss: 0.2114 - accuracy: 0.9093 - val_loss: 0.1947 - val_accuracy: 0.9160\n",
      "Epoch 4/100\n",
      "100000/100000 - 2s - loss: 0.1830 - accuracy: 0.9190 - val_loss: 0.1729 - val_accuracy: 0.9238\n",
      "Epoch 5/100\n",
      "100000/100000 - 2s - loss: 0.1639 - accuracy: 0.9257 - val_loss: 0.1589 - val_accuracy: 0.9280\n",
      "Epoch 6/100\n",
      "100000/100000 - 2s - loss: 0.1516 - accuracy: 0.9311 - val_loss: 0.1508 - val_accuracy: 0.9326\n",
      "Epoch 7/100\n",
      "100000/100000 - 2s - loss: 0.1399 - accuracy: 0.9366 - val_loss: 0.1415 - val_accuracy: 0.9358\n",
      "Epoch 8/100\n",
      "100000/100000 - 2s - loss: 0.1298 - accuracy: 0.9414 - val_loss: 0.1320 - val_accuracy: 0.9407\n",
      "Epoch 9/100\n",
      "100000/100000 - 2s - loss: 0.1222 - accuracy: 0.9453 - val_loss: 0.1233 - val_accuracy: 0.9451\n",
      "Epoch 10/100\n",
      "100000/100000 - 2s - loss: 0.1138 - accuracy: 0.9497 - val_loss: 0.1225 - val_accuracy: 0.9455\n",
      "Epoch 11/100\n",
      "100000/100000 - 2s - loss: 0.1065 - accuracy: 0.9533 - val_loss: 0.1102 - val_accuracy: 0.9516\n",
      "Epoch 12/100\n",
      "100000/100000 - 2s - loss: 0.1006 - accuracy: 0.9562 - val_loss: 0.1072 - val_accuracy: 0.9542\n",
      "Epoch 13/100\n",
      "100000/100000 - 2s - loss: 0.0935 - accuracy: 0.9599 - val_loss: 0.1082 - val_accuracy: 0.9534\n",
      "Epoch 14/100\n",
      "100000/100000 - 2s - loss: 0.0887 - accuracy: 0.9620 - val_loss: 0.0992 - val_accuracy: 0.9582\n",
      "Epoch 15/100\n",
      "100000/100000 - 2s - loss: 0.0854 - accuracy: 0.9637 - val_loss: 0.1022 - val_accuracy: 0.9572\n",
      "Epoch 16/100\n",
      "100000/100000 - 2s - loss: 0.0802 - accuracy: 0.9662 - val_loss: 0.0950 - val_accuracy: 0.9600\n",
      "Epoch 17/100\n",
      "100000/100000 - 2s - loss: 0.0744 - accuracy: 0.9687 - val_loss: 0.0912 - val_accuracy: 0.9621\n",
      "Epoch 18/100\n",
      "100000/100000 - 2s - loss: 0.0727 - accuracy: 0.9697 - val_loss: 0.0918 - val_accuracy: 0.9625\n",
      "Epoch 19/100\n",
      "100000/100000 - 2s - loss: 0.0686 - accuracy: 0.9714 - val_loss: 0.0837 - val_accuracy: 0.9654\n",
      "Epoch 20/100\n",
      "100000/100000 - 2s - loss: 0.0661 - accuracy: 0.9727 - val_loss: 0.0868 - val_accuracy: 0.9644\n",
      "Epoch 21/100\n",
      "100000/100000 - 2s - loss: 0.0637 - accuracy: 0.9737 - val_loss: 0.0832 - val_accuracy: 0.9675\n",
      "Epoch 22/100\n",
      "100000/100000 - 2s - loss: 0.0613 - accuracy: 0.9749 - val_loss: 0.0810 - val_accuracy: 0.9673\n",
      "Epoch 23/100\n",
      "100000/100000 - 2s - loss: 0.0589 - accuracy: 0.9760 - val_loss: 0.0770 - val_accuracy: 0.9693\n",
      "Epoch 24/100\n",
      "100000/100000 - 2s - loss: 0.0561 - accuracy: 0.9773 - val_loss: 0.0806 - val_accuracy: 0.9677\n",
      "Epoch 25/100\n",
      "100000/100000 - 2s - loss: 0.0540 - accuracy: 0.9781 - val_loss: 0.0743 - val_accuracy: 0.9707\n",
      "Epoch 26/100\n",
      "100000/100000 - 2s - loss: 0.0517 - accuracy: 0.9793 - val_loss: 0.0742 - val_accuracy: 0.9710\n",
      "Epoch 27/100\n",
      "100000/100000 - 2s - loss: 0.0509 - accuracy: 0.9793 - val_loss: 0.0712 - val_accuracy: 0.9721\n",
      "Epoch 28/100\n",
      "100000/100000 - 2s - loss: 0.0475 - accuracy: 0.9810 - val_loss: 0.0790 - val_accuracy: 0.9705\n",
      "Epoch 29/100\n",
      "100000/100000 - 2s - loss: 0.0466 - accuracy: 0.9812 - val_loss: 0.0715 - val_accuracy: 0.9731\n",
      "Epoch 30/100\n",
      "100000/100000 - 2s - loss: 0.0454 - accuracy: 0.9818 - val_loss: 0.0719 - val_accuracy: 0.9726\n",
      "Epoch 31/100\n",
      "100000/100000 - 2s - loss: 0.0441 - accuracy: 0.9825 - val_loss: 0.0682 - val_accuracy: 0.9744\n",
      "Epoch 32/100\n",
      "100000/100000 - 2s - loss: 0.0415 - accuracy: 0.9836 - val_loss: 0.0731 - val_accuracy: 0.9734\n",
      "Epoch 33/100\n",
      "100000/100000 - 2s - loss: 0.0425 - accuracy: 0.9832 - val_loss: 0.0729 - val_accuracy: 0.9729\n",
      "Epoch 34/100\n",
      "100000/100000 - 2s - loss: 0.0393 - accuracy: 0.9844 - val_loss: 0.0698 - val_accuracy: 0.9756\n",
      "Epoch 35/100\n",
      "100000/100000 - 2s - loss: 0.0396 - accuracy: 0.9845 - val_loss: 0.0717 - val_accuracy: 0.9747\n",
      "Epoch 36/100\n",
      "100000/100000 - 2s - loss: 0.0364 - accuracy: 0.9858 - val_loss: 0.0652 - val_accuracy: 0.9762\n",
      "Epoch 37/100\n",
      "100000/100000 - 2s - loss: 0.0354 - accuracy: 0.9861 - val_loss: 0.0726 - val_accuracy: 0.9738\n",
      "Epoch 38/100\n",
      "100000/100000 - 2s - loss: 0.0367 - accuracy: 0.9857 - val_loss: 0.0672 - val_accuracy: 0.9751\n",
      "Epoch 39/100\n",
      "100000/100000 - 2s - loss: 0.0349 - accuracy: 0.9864 - val_loss: 0.0658 - val_accuracy: 0.9765\n",
      "Epoch 40/100\n",
      "100000/100000 - 2s - loss: 0.0354 - accuracy: 0.9861 - val_loss: 0.0698 - val_accuracy: 0.9753\n",
      "Epoch 41/100\n",
      "100000/100000 - 2s - loss: 0.0337 - accuracy: 0.9868 - val_loss: 0.0720 - val_accuracy: 0.9751\n",
      "Epoch 42/100\n",
      "100000/100000 - 2s - loss: 0.0317 - accuracy: 0.9878 - val_loss: 0.0656 - val_accuracy: 0.9780\n",
      "Epoch 43/100\n",
      "100000/100000 - 2s - loss: 0.0327 - accuracy: 0.9873 - val_loss: 0.0667 - val_accuracy: 0.9776\n",
      "Epoch 44/100\n",
      "100000/100000 - 2s - loss: 0.0317 - accuracy: 0.9878 - val_loss: 0.0749 - val_accuracy: 0.9750\n",
      "Epoch 45/100\n",
      "100000/100000 - 2s - loss: 0.0318 - accuracy: 0.9878 - val_loss: 0.0632 - val_accuracy: 0.9780\n",
      "Epoch 46/100\n",
      "100000/100000 - 2s - loss: 0.0291 - accuracy: 0.9887 - val_loss: 0.0678 - val_accuracy: 0.9773\n",
      "Epoch 47/100\n",
      "100000/100000 - 2s - loss: 0.0285 - accuracy: 0.9891 - val_loss: 0.0668 - val_accuracy: 0.9776\n",
      "Epoch 48/100\n",
      "100000/100000 - 2s - loss: 0.0291 - accuracy: 0.9888 - val_loss: 0.0670 - val_accuracy: 0.9774\n",
      "Epoch 49/100\n",
      "100000/100000 - 2s - loss: 0.0282 - accuracy: 0.9892 - val_loss: 0.0603 - val_accuracy: 0.9801\n",
      "Epoch 50/100\n",
      "100000/100000 - 2s - loss: 0.0267 - accuracy: 0.9898 - val_loss: 0.0711 - val_accuracy: 0.9771\n",
      "Epoch 51/100\n",
      "100000/100000 - 2s - loss: 0.0296 - accuracy: 0.9887 - val_loss: 0.0695 - val_accuracy: 0.9774\n",
      "Epoch 52/100\n",
      "100000/100000 - 2s - loss: 0.0277 - accuracy: 0.9894 - val_loss: 0.0703 - val_accuracy: 0.9776\n",
      "Epoch 53/100\n",
      "100000/100000 - 2s - loss: 0.0239 - accuracy: 0.9908 - val_loss: 0.0651 - val_accuracy: 0.9800\n",
      "Epoch 54/100\n",
      "100000/100000 - 2s - loss: 0.0234 - accuracy: 0.9911 - val_loss: 0.0684 - val_accuracy: 0.9786\n",
      "Epoch 55/100\n",
      "100000/100000 - 2s - loss: 0.0262 - accuracy: 0.9901 - val_loss: 0.0668 - val_accuracy: 0.9791\n",
      "Epoch 56/100\n",
      "100000/100000 - 2s - loss: 0.0263 - accuracy: 0.9900 - val_loss: 0.0680 - val_accuracy: 0.9786\n",
      "Epoch 57/100\n",
      "100000/100000 - 2s - loss: 0.0272 - accuracy: 0.9897 - val_loss: 0.0629 - val_accuracy: 0.9802\n",
      "Epoch 58/100\n",
      "100000/100000 - 2s - loss: 0.0247 - accuracy: 0.9906 - val_loss: 0.0630 - val_accuracy: 0.9809\n",
      "Epoch 59/100\n",
      "100000/100000 - 2s - loss: 0.0236 - accuracy: 0.9911 - val_loss: 0.0684 - val_accuracy: 0.9793\n",
      "Epoch 60/100\n",
      "100000/100000 - 2s - loss: 0.0235 - accuracy: 0.9911 - val_loss: 0.0698 - val_accuracy: 0.9798\n",
      "Epoch 61/100\n",
      "100000/100000 - 2s - loss: 0.0238 - accuracy: 0.9911 - val_loss: 0.0680 - val_accuracy: 0.9795\n",
      "Epoch 62/100\n",
      "100000/100000 - 2s - loss: 0.0240 - accuracy: 0.9912 - val_loss: 0.0684 - val_accuracy: 0.9798\n",
      "Epoch 63/100\n",
      "100000/100000 - 2s - loss: 0.0214 - accuracy: 0.9921 - val_loss: 0.0662 - val_accuracy: 0.9801\n",
      "Epoch 64/100\n",
      "100000/100000 - 2s - loss: 0.0190 - accuracy: 0.9929 - val_loss: 0.0695 - val_accuracy: 0.9800\n",
      "Epoch 65/100\n",
      "100000/100000 - 2s - loss: 0.0221 - accuracy: 0.9919 - val_loss: 0.0630 - val_accuracy: 0.9815\n",
      "Epoch 66/100\n",
      "100000/100000 - 2s - loss: 0.0204 - accuracy: 0.9924 - val_loss: 0.0707 - val_accuracy: 0.9807\n",
      "Epoch 67/100\n",
      "100000/100000 - 2s - loss: 0.0203 - accuracy: 0.9924 - val_loss: 0.0698 - val_accuracy: 0.9804\n",
      "Epoch 68/100\n",
      "100000/100000 - 2s - loss: 0.0229 - accuracy: 0.9916 - val_loss: 0.0723 - val_accuracy: 0.9795\n",
      "Epoch 69/100\n",
      "100000/100000 - 2s - loss: 0.0210 - accuracy: 0.9923 - val_loss: 0.0700 - val_accuracy: 0.9811\n",
      "Epoch 70/100\n",
      "100000/100000 - 2s - loss: 0.0207 - accuracy: 0.9923 - val_loss: 0.0697 - val_accuracy: 0.9804\n",
      "Epoch 71/100\n",
      "100000/100000 - 2s - loss: 0.0213 - accuracy: 0.9921 - val_loss: 0.0671 - val_accuracy: 0.9808\n",
      "Epoch 72/100\n",
      "100000/100000 - 2s - loss: 0.0217 - accuracy: 0.9919 - val_loss: 0.0728 - val_accuracy: 0.9808\n",
      "Epoch 73/100\n",
      "100000/100000 - 2s - loss: 0.0194 - accuracy: 0.9928 - val_loss: 0.0708 - val_accuracy: 0.9814\n",
      "Epoch 74/100\n",
      "100000/100000 - 2s - loss: 0.0199 - accuracy: 0.9927 - val_loss: 0.0723 - val_accuracy: 0.9804\n",
      "Epoch 75/100\n",
      "100000/100000 - 2s - loss: 0.0206 - accuracy: 0.9924 - val_loss: 0.0677 - val_accuracy: 0.9808\n",
      "Epoch 76/100\n",
      "100000/100000 - 2s - loss: 0.0192 - accuracy: 0.9931 - val_loss: 0.0721 - val_accuracy: 0.9806\n"
     ]
    },
    {
     "name": "stdout",
     "output_type": "stream",
     "text": [
      "Epoch 77/100\n",
      "100000/100000 - 2s - loss: 0.0197 - accuracy: 0.9928 - val_loss: 0.0657 - val_accuracy: 0.9825\n",
      "Epoch 78/100\n",
      "100000/100000 - 2s - loss: 0.0169 - accuracy: 0.9938 - val_loss: 0.0748 - val_accuracy: 0.9804\n",
      "Epoch 79/100\n",
      "100000/100000 - 2s - loss: 0.0187 - accuracy: 0.9932 - val_loss: 0.0689 - val_accuracy: 0.9826\n",
      "Epoch 80/100\n",
      "100000/100000 - 2s - loss: 0.0177 - accuracy: 0.9935 - val_loss: 0.0745 - val_accuracy: 0.9812\n",
      "Epoch 81/100\n",
      "100000/100000 - 2s - loss: 0.0185 - accuracy: 0.9934 - val_loss: 0.0703 - val_accuracy: 0.9814\n",
      "Epoch 82/100\n",
      "100000/100000 - 2s - loss: 0.0157 - accuracy: 0.9943 - val_loss: 0.0718 - val_accuracy: 0.9819\n",
      "Epoch 83/100\n",
      "100000/100000 - 2s - loss: 0.0202 - accuracy: 0.9928 - val_loss: 0.0707 - val_accuracy: 0.9811\n",
      "Epoch 84/100\n",
      "100000/100000 - 2s - loss: 0.0194 - accuracy: 0.9930 - val_loss: 0.0705 - val_accuracy: 0.9815\n",
      "Epoch 85/100\n",
      "100000/100000 - 2s - loss: 0.0144 - accuracy: 0.9947 - val_loss: 0.0702 - val_accuracy: 0.9824\n",
      "Epoch 86/100\n",
      "100000/100000 - 2s - loss: 0.0180 - accuracy: 0.9935 - val_loss: 0.0736 - val_accuracy: 0.9815\n",
      "Epoch 87/100\n",
      "100000/100000 - 2s - loss: 0.0189 - accuracy: 0.9934 - val_loss: 0.0667 - val_accuracy: 0.9826\n",
      "Epoch 88/100\n",
      "100000/100000 - 2s - loss: 0.0180 - accuracy: 0.9936 - val_loss: 0.0628 - val_accuracy: 0.9838\n",
      "Epoch 89/100\n",
      "100000/100000 - 2s - loss: 0.0150 - accuracy: 0.9945 - val_loss: 0.0716 - val_accuracy: 0.9815\n",
      "Epoch 90/100\n",
      "100000/100000 - 3s - loss: 0.0158 - accuracy: 0.9943 - val_loss: 0.0769 - val_accuracy: 0.9805\n",
      "Epoch 91/100\n",
      "100000/100000 - 3s - loss: 0.0196 - accuracy: 0.9932 - val_loss: 0.0721 - val_accuracy: 0.9815\n",
      "Epoch 92/100\n",
      "100000/100000 - 2s - loss: 0.0167 - accuracy: 0.9940 - val_loss: 0.0727 - val_accuracy: 0.9820\n",
      "Epoch 93/100\n",
      "100000/100000 - 2s - loss: 0.0153 - accuracy: 0.9945 - val_loss: 0.0693 - val_accuracy: 0.9819\n",
      "Epoch 94/100\n",
      "100000/100000 - 2s - loss: 0.0155 - accuracy: 0.9945 - val_loss: 0.0676 - val_accuracy: 0.9826\n",
      "Epoch 95/100\n",
      "100000/100000 - 2s - loss: 0.0181 - accuracy: 0.9937 - val_loss: 0.0765 - val_accuracy: 0.9809\n",
      "Epoch 96/100\n",
      "100000/100000 - 2s - loss: 0.0177 - accuracy: 0.9938 - val_loss: 0.0631 - val_accuracy: 0.9832\n",
      "Epoch 97/100\n",
      "100000/100000 - 2s - loss: 0.0167 - accuracy: 0.9942 - val_loss: 0.0714 - val_accuracy: 0.9819\n",
      "Epoch 98/100\n",
      "100000/100000 - 2s - loss: 0.0154 - accuracy: 0.9945 - val_loss: 0.0668 - val_accuracy: 0.9833\n",
      "Epoch 99/100\n",
      "100000/100000 - 2s - loss: 0.0155 - accuracy: 0.9946 - val_loss: 0.0656 - val_accuracy: 0.9830\n",
      "Epoch 100/100\n",
      "100000/100000 - 2s - loss: 0.0157 - accuracy: 0.9944 - val_loss: 0.0643 - val_accuracy: 0.9829\n"
     ]
    }
   ],
   "source": [
    "model = tf.keras.models.Sequential([\n",
    "    tf.keras.layers.Dense(180, input_shape = [24], activation = 'relu'),\n",
    "    tf.keras.layers.Dense(180, activation = 'relu'),\n",
    "    tf.keras.layers.Dense(180, activation = 'relu'),\n",
    "    tf.keras.layers.Dense(180, activation = 'relu'),\n",
    "    tf.keras.layers.Dense(12, activation = 'sigmoid')\n",
    "])\n",
    "adam = tf.keras.optimizers.Adam(lr = 0.005)\n",
    "model.compile(optimizer = adam, loss = 'binary_crossentropy', metrics = ['accuracy'])\n",
    "\n",
    "history = model.fit(x_train, y_train, batch_size = 1024, epochs = 100, verbose = 2, validation_data = (x_test, y_test))\n"
   ]
  },
  {
   "cell_type": "code",
   "execution_count": 11,
   "metadata": {},
   "outputs": [
    {
     "data": {
      "image/png": "[encoded data removed]",
      "text/plain": [
       "<Figure size 432x288 with 1 Axes>"
      ]
     },
     "metadata": {
      "needs_background": "light"
     },
     "output_type": "display_data"
    }
   ],
   "source": [
    "import matplotlib.pyplot as plt\n",
    "plt.figure()\n",
    "acc = history.history['accuracy']\n",
    "loss = history.history['loss']\n",
    "val_acc = history.history['val_accuracy']\n",
    "val_loss = history.history['val_loss']\n",
    "epochs = range(len(acc))\n",
    "plt.plot(epochs, acc, 'r', label = 'Training accuracy')\n",
    "plt.plot(epochs, val_acc, 'b', label = 'Validating accuracy')\n",
    "plt.title('Training and Validating Accuracy')\n",
    "#plt.title('Training Accuracy')\n",
    "plt.legend()\n",
    "plt.show()"
   ]
  },
  {
   "cell_type": "code",
   "execution_count": 8,
   "metadata": {},
   "outputs": [
    {
     "name": "stdout",
     "output_type": "stream",
     "text": [
      "5000/1 - 0s - loss: 0.0630 - accuracy: 0.9720\n"
     ]
    },
    {
     "data": {
      "text/plain": [
       "[0.04715186712741852, 0.9720002]"
      ]
     },
     "execution_count": 8,
     "metadata": {},
     "output_type": "execute_result"
    }
   ],
   "source": [
    "#model.evaluate(x_test, y_test, verbose = 2)"
   ]
  },
  {
   "cell_type": "code",
   "execution_count": 12,
   "metadata": {},
   "outputs": [],
   "source": [
    "model.save('C:\\\\Users\\\\Wilfred\\\\Desktop\\\\weights\\\\Look_ahead_N\\\\Look_ahead_N_4_6_12_4_model.h5')"
   ]
  },
  {
   "cell_type": "code",
   "execution_count": null,
   "metadata": {},
   "outputs": [],
   "source": []
  }
 ],
 "metadata": {
  "kernelspec": {
   "display_name": "Python 3",
   "language": "python",
   "name": "python3"
  },
  "language_info": {
   "codemirror_mode": {
    "name": "ipython",
    "version": 3
   },
   "file_extension": ".py",
   "mimetype": "text/x-python",
   "name": "python",
   "nbconvert_exporter": "python",
   "pygments_lexer": "ipython3",
   "version": "3.7.5"
  }
 },
 "nbformat": 4,
 "nbformat_minor": 2
}
