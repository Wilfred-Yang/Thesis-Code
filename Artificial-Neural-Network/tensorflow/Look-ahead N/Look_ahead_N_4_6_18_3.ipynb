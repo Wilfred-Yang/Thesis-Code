{
 "cells": [
  {
   "cell_type": "code",
   "execution_count": 1,
   "metadata": {},
   "outputs": [],
   "source": [
    "import tensorflow as tf\n",
    "import numpy as np\n",
    "import pickle\n",
    "np.random.seed(7)"
   ]
  },
  {
   "cell_type": "code",
   "execution_count": 2,
   "metadata": {},
   "outputs": [
    {
     "name": "stdout",
     "output_type": "stream",
     "text": [
      "(105000, 24)\n"
     ]
    }
   ],
   "source": [
    "with open ('C:\\\\Users\\\\Wilfred\\\\Desktop\\\\Look-ahead-N\\\\input_layer_4_6_18_3.pickle','rb') as file:\n",
    "    input_data = pickle.load(file)\n",
    "permutation = list(np.random.permutation(input_data.shape[0]))\n",
    "input_data = input_data[permutation,:]\n",
    "print(input_data.shape)\n",
    "x_train = input_data[:100000, :]\n",
    "x_test = input_data[100000:105000, :]\n"
   ]
  },
  {
   "cell_type": "code",
   "execution_count": 3,
   "metadata": {},
   "outputs": [
    {
     "name": "stdout",
     "output_type": "stream",
     "text": [
      "(105000, 12)\n"
     ]
    }
   ],
   "source": [
    "with open ('C:\\\\Users\\\\Wilfred\\\\Desktop\\\\Look-ahead-N\\\\output_layer_4_6_18_3.pickle','rb') as file:\n",
    "    output_data = pickle.load(file)\n",
    "output_data = np.transpose(output_data)\n",
    "output_data = output_data[permutation,:]\n",
    "y_train = output_data[:100000, :]\n",
    "y_test = output_data[100000:105000, :]\n",
    "print(output_data.shape)"
   ]
  },
  {
   "cell_type": "code",
   "execution_count": 4,
   "metadata": {},
   "outputs": [
    {
     "name": "stdout",
     "output_type": "stream",
     "text": [
      "Train on 100000 samples, validate on 5000 samples\n",
      "Epoch 1/100\n",
      "100000/100000 - 5s - loss: 0.3462 - accuracy: 0.8466 - val_loss: 0.2711 - val_accuracy: 0.8757\n",
      "Epoch 2/100\n",
      "100000/100000 - 4s - loss: 0.2405 - accuracy: 0.8897 - val_loss: 0.2256 - val_accuracy: 0.8973\n",
      "Epoch 3/100\n",
      "100000/100000 - 3s - loss: 0.2146 - accuracy: 0.9021 - val_loss: 0.2101 - val_accuracy: 0.9043\n",
      "Epoch 4/100\n",
      "100000/100000 - 4s - loss: 0.2023 - accuracy: 0.9091 - val_loss: 0.2005 - val_accuracy: 0.9105\n",
      "Epoch 5/100\n",
      "100000/100000 - 4s - loss: 0.1922 - accuracy: 0.9146 - val_loss: 0.1966 - val_accuracy: 0.9128\n",
      "Epoch 6/100\n",
      "100000/100000 - 4s - loss: 0.1823 - accuracy: 0.9197 - val_loss: 0.1863 - val_accuracy: 0.9181\n",
      "Epoch 7/100\n",
      "100000/100000 - 4s - loss: 0.1761 - accuracy: 0.9226 - val_loss: 0.1824 - val_accuracy: 0.9204\n",
      "Epoch 8/100\n",
      "100000/100000 - 3s - loss: 0.1678 - accuracy: 0.9268 - val_loss: 0.1676 - val_accuracy: 0.9272\n",
      "Epoch 9/100\n",
      "100000/100000 - 3s - loss: 0.1548 - accuracy: 0.9323 - val_loss: 0.1582 - val_accuracy: 0.9313\n",
      "Epoch 10/100\n",
      "100000/100000 - 3s - loss: 0.1482 - accuracy: 0.9350 - val_loss: 0.1553 - val_accuracy: 0.9317\n",
      "Epoch 11/100\n",
      "100000/100000 - 3s - loss: 0.1402 - accuracy: 0.9379 - val_loss: 0.1492 - val_accuracy: 0.9352\n",
      "Epoch 12/100\n",
      "100000/100000 - 3s - loss: 0.1343 - accuracy: 0.9402 - val_loss: 0.1442 - val_accuracy: 0.9377\n",
      "Epoch 13/100\n",
      "100000/100000 - 3s - loss: 0.1284 - accuracy: 0.9425 - val_loss: 0.1386 - val_accuracy: 0.9390\n",
      "Epoch 14/100\n",
      "100000/100000 - 3s - loss: 0.1238 - accuracy: 0.9443 - val_loss: 0.1360 - val_accuracy: 0.9391\n",
      "Epoch 15/100\n",
      "100000/100000 - 3s - loss: 0.1195 - accuracy: 0.9461 - val_loss: 0.1299 - val_accuracy: 0.9427\n",
      "Epoch 16/100\n",
      "100000/100000 - 3s - loss: 0.1166 - accuracy: 0.9473 - val_loss: 0.1292 - val_accuracy: 0.9425\n",
      "Epoch 17/100\n",
      "100000/100000 - 3s - loss: 0.1125 - accuracy: 0.9491 - val_loss: 0.1289 - val_accuracy: 0.9425\n",
      "Epoch 18/100\n",
      "100000/100000 - 3s - loss: 0.1103 - accuracy: 0.9500 - val_loss: 0.1230 - val_accuracy: 0.9452\n",
      "Epoch 19/100\n",
      "100000/100000 - 3s - loss: 0.1088 - accuracy: 0.9504 - val_loss: 0.1171 - val_accuracy: 0.9471\n",
      "Epoch 20/100\n",
      "100000/100000 - 3s - loss: 0.1040 - accuracy: 0.9525 - val_loss: 0.1210 - val_accuracy: 0.9456\n",
      "Epoch 21/100\n",
      "100000/100000 - 3s - loss: 0.1002 - accuracy: 0.9540 - val_loss: 0.1194 - val_accuracy: 0.9467\n",
      "Epoch 22/100\n",
      "100000/100000 - 3s - loss: 0.1002 - accuracy: 0.9542 - val_loss: 0.1168 - val_accuracy: 0.9482\n",
      "Epoch 23/100\n",
      "100000/100000 - 3s - loss: 0.0984 - accuracy: 0.9550 - val_loss: 0.1124 - val_accuracy: 0.9488\n",
      "Epoch 24/100\n",
      "100000/100000 - 3s - loss: 0.0970 - accuracy: 0.9558 - val_loss: 0.1153 - val_accuracy: 0.9478\n",
      "Epoch 25/100\n",
      "100000/100000 - 3s - loss: 0.0946 - accuracy: 0.9568 - val_loss: 0.1134 - val_accuracy: 0.9482\n",
      "Epoch 26/100\n",
      "100000/100000 - 3s - loss: 0.0939 - accuracy: 0.9569 - val_loss: 0.1129 - val_accuracy: 0.9501\n",
      "Epoch 27/100\n",
      "100000/100000 - 3s - loss: 0.0900 - accuracy: 0.9588 - val_loss: 0.1122 - val_accuracy: 0.9492\n",
      "Epoch 28/100\n",
      "100000/100000 - 3s - loss: 0.0890 - accuracy: 0.9594 - val_loss: 0.1057 - val_accuracy: 0.9534\n",
      "Epoch 29/100\n",
      "100000/100000 - 3s - loss: 0.0886 - accuracy: 0.9596 - val_loss: 0.1110 - val_accuracy: 0.9504\n",
      "Epoch 30/100\n",
      "100000/100000 - 3s - loss: 0.0874 - accuracy: 0.9600 - val_loss: 0.1124 - val_accuracy: 0.9498\n",
      "Epoch 31/100\n",
      "100000/100000 - 3s - loss: 0.0855 - accuracy: 0.9612 - val_loss: 0.1019 - val_accuracy: 0.9537\n",
      "Epoch 32/100\n",
      "100000/100000 - 3s - loss: 0.0827 - accuracy: 0.9624 - val_loss: 0.1073 - val_accuracy: 0.9512\n",
      "Epoch 33/100\n",
      "100000/100000 - 3s - loss: 0.0836 - accuracy: 0.9621 - val_loss: 0.1101 - val_accuracy: 0.9517\n",
      "Epoch 34/100\n",
      "100000/100000 - 3s - loss: 0.0810 - accuracy: 0.9633 - val_loss: 0.1021 - val_accuracy: 0.9548\n",
      "Epoch 35/100\n",
      "100000/100000 - 3s - loss: 0.0790 - accuracy: 0.9644 - val_loss: 0.1028 - val_accuracy: 0.9544\n",
      "Epoch 36/100\n",
      "100000/100000 - 3s - loss: 0.0790 - accuracy: 0.9642 - val_loss: 0.1013 - val_accuracy: 0.9557\n",
      "Epoch 37/100\n",
      "100000/100000 - 3s - loss: 0.0789 - accuracy: 0.9645 - val_loss: 0.0979 - val_accuracy: 0.9568\n",
      "Epoch 38/100\n",
      "100000/100000 - 3s - loss: 0.0782 - accuracy: 0.9650 - val_loss: 0.1055 - val_accuracy: 0.9524\n",
      "Epoch 39/100\n",
      "100000/100000 - 3s - loss: 0.0755 - accuracy: 0.9662 - val_loss: 0.1038 - val_accuracy: 0.9547\n",
      "Epoch 40/100\n",
      "100000/100000 - 3s - loss: 0.0750 - accuracy: 0.9666 - val_loss: 0.1004 - val_accuracy: 0.9561\n",
      "Epoch 41/100\n",
      "100000/100000 - 3s - loss: 0.0735 - accuracy: 0.9674 - val_loss: 0.1062 - val_accuracy: 0.9542\n",
      "Epoch 42/100\n",
      "100000/100000 - 3s - loss: 0.0728 - accuracy: 0.9677 - val_loss: 0.0977 - val_accuracy: 0.9564\n",
      "Epoch 43/100\n",
      "100000/100000 - 3s - loss: 0.0725 - accuracy: 0.9676 - val_loss: 0.1081 - val_accuracy: 0.9542\n",
      "Epoch 44/100\n",
      "100000/100000 - 3s - loss: 0.0714 - accuracy: 0.9682 - val_loss: 0.1038 - val_accuracy: 0.9563\n",
      "Epoch 45/100\n",
      "100000/100000 - 3s - loss: 0.0699 - accuracy: 0.9688 - val_loss: 0.0953 - val_accuracy: 0.9579\n",
      "Epoch 46/100\n",
      "100000/100000 - 3s - loss: 0.0710 - accuracy: 0.9684 - val_loss: 0.0987 - val_accuracy: 0.9584\n",
      "Epoch 47/100\n",
      "100000/100000 - 4s - loss: 0.0694 - accuracy: 0.9695 - val_loss: 0.1003 - val_accuracy: 0.9574\n",
      "Epoch 48/100\n",
      "100000/100000 - 3s - loss: 0.0701 - accuracy: 0.9692 - val_loss: 0.1005 - val_accuracy: 0.9571\n",
      "Epoch 49/100\n",
      "100000/100000 - 3s - loss: 0.0675 - accuracy: 0.9705 - val_loss: 0.1003 - val_accuracy: 0.9576\n",
      "Epoch 50/100\n",
      "100000/100000 - 3s - loss: 0.0664 - accuracy: 0.9709 - val_loss: 0.0992 - val_accuracy: 0.9580\n",
      "Epoch 51/100\n",
      "100000/100000 - 3s - loss: 0.0649 - accuracy: 0.9717 - val_loss: 0.0956 - val_accuracy: 0.9592\n",
      "Epoch 52/100\n",
      "100000/100000 - 3s - loss: 0.0648 - accuracy: 0.9716 - val_loss: 0.0986 - val_accuracy: 0.9591\n",
      "Epoch 53/100\n",
      "100000/100000 - 3s - loss: 0.0649 - accuracy: 0.9718 - val_loss: 0.1037 - val_accuracy: 0.9557\n",
      "Epoch 54/100\n",
      "100000/100000 - 3s - loss: 0.0650 - accuracy: 0.9717 - val_loss: 0.1082 - val_accuracy: 0.9560\n",
      "Epoch 55/100\n",
      "100000/100000 - 3s - loss: 0.0633 - accuracy: 0.9725 - val_loss: 0.1077 - val_accuracy: 0.9561\n",
      "Epoch 56/100\n",
      "100000/100000 - 3s - loss: 0.0637 - accuracy: 0.9725 - val_loss: 0.1000 - val_accuracy: 0.9586\n",
      "Epoch 57/100\n",
      "100000/100000 - 3s - loss: 0.0610 - accuracy: 0.9737 - val_loss: 0.0982 - val_accuracy: 0.9587\n",
      "Epoch 58/100\n",
      "100000/100000 - 3s - loss: 0.0611 - accuracy: 0.9735 - val_loss: 0.0982 - val_accuracy: 0.9590\n",
      "Epoch 59/100\n",
      "100000/100000 - 3s - loss: 0.0615 - accuracy: 0.9736 - val_loss: 0.0946 - val_accuracy: 0.9614\n",
      "Epoch 60/100\n",
      "100000/100000 - 3s - loss: 0.0594 - accuracy: 0.9744 - val_loss: 0.1001 - val_accuracy: 0.9594\n",
      "Epoch 61/100\n",
      "100000/100000 - 3s - loss: 0.0606 - accuracy: 0.9738 - val_loss: 0.1034 - val_accuracy: 0.9581\n",
      "Epoch 62/100\n",
      "100000/100000 - 3s - loss: 0.0590 - accuracy: 0.9746 - val_loss: 0.0994 - val_accuracy: 0.9608\n",
      "Epoch 63/100\n",
      "100000/100000 - 4s - loss: 0.0572 - accuracy: 0.9754 - val_loss: 0.0996 - val_accuracy: 0.9603\n",
      "Epoch 64/100\n",
      "100000/100000 - 4s - loss: 0.0569 - accuracy: 0.9758 - val_loss: 0.0985 - val_accuracy: 0.9611\n",
      "Epoch 65/100\n",
      "100000/100000 - 4s - loss: 0.0571 - accuracy: 0.9758 - val_loss: 0.1019 - val_accuracy: 0.9598\n",
      "Epoch 66/100\n",
      "100000/100000 - 4s - loss: 0.0569 - accuracy: 0.9759 - val_loss: 0.0977 - val_accuracy: 0.9614\n",
      "Epoch 67/100\n",
      "100000/100000 - 4s - loss: 0.0581 - accuracy: 0.9753 - val_loss: 0.0979 - val_accuracy: 0.9612\n",
      "Epoch 68/100\n",
      "100000/100000 - 4s - loss: 0.0555 - accuracy: 0.9764 - val_loss: 0.0974 - val_accuracy: 0.9616\n",
      "Epoch 69/100\n",
      "100000/100000 - 4s - loss: 0.0546 - accuracy: 0.9770 - val_loss: 0.0965 - val_accuracy: 0.9615\n",
      "Epoch 70/100\n",
      "100000/100000 - 4s - loss: 0.0560 - accuracy: 0.9763 - val_loss: 0.1015 - val_accuracy: 0.9611\n",
      "Epoch 71/100\n",
      "100000/100000 - 4s - loss: 0.0539 - accuracy: 0.9773 - val_loss: 0.0958 - val_accuracy: 0.9628\n",
      "Epoch 72/100\n",
      "100000/100000 - 4s - loss: 0.0545 - accuracy: 0.9772 - val_loss: 0.1001 - val_accuracy: 0.9613\n",
      "Epoch 73/100\n",
      "100000/100000 - 4s - loss: 0.0555 - accuracy: 0.9768 - val_loss: 0.1015 - val_accuracy: 0.9600\n",
      "Epoch 74/100\n",
      "100000/100000 - 4s - loss: 0.0519 - accuracy: 0.9782 - val_loss: 0.0980 - val_accuracy: 0.9614\n",
      "Epoch 75/100\n",
      "100000/100000 - 4s - loss: 0.0521 - accuracy: 0.9782 - val_loss: 0.1014 - val_accuracy: 0.9606\n",
      "Epoch 76/100\n",
      "100000/100000 - 4s - loss: 0.0526 - accuracy: 0.9780 - val_loss: 0.1047 - val_accuracy: 0.9604\n"
     ]
    },
    {
     "name": "stdout",
     "output_type": "stream",
     "text": [
      "Epoch 77/100\n",
      "100000/100000 - 4s - loss: 0.0523 - accuracy: 0.9780 - val_loss: 0.0992 - val_accuracy: 0.9640\n",
      "Epoch 78/100\n",
      "100000/100000 - 4s - loss: 0.0504 - accuracy: 0.9789 - val_loss: 0.0981 - val_accuracy: 0.9631\n",
      "Epoch 79/100\n",
      "100000/100000 - 3s - loss: 0.0517 - accuracy: 0.9785 - val_loss: 0.0952 - val_accuracy: 0.9625\n",
      "Epoch 80/100\n",
      "100000/100000 - 4s - loss: 0.0504 - accuracy: 0.9792 - val_loss: 0.1026 - val_accuracy: 0.9609\n",
      "Epoch 81/100\n",
      "100000/100000 - 3s - loss: 0.0490 - accuracy: 0.9796 - val_loss: 0.0986 - val_accuracy: 0.9626\n",
      "Epoch 82/100\n",
      "100000/100000 - 3s - loss: 0.0501 - accuracy: 0.9792 - val_loss: 0.1055 - val_accuracy: 0.9609\n",
      "Epoch 83/100\n",
      "100000/100000 - 3s - loss: 0.0478 - accuracy: 0.9803 - val_loss: 0.1043 - val_accuracy: 0.9620\n",
      "Epoch 84/100\n",
      "100000/100000 - 3s - loss: 0.0495 - accuracy: 0.9795 - val_loss: 0.0969 - val_accuracy: 0.9649\n",
      "Epoch 85/100\n",
      "100000/100000 - 3s - loss: 0.0492 - accuracy: 0.9799 - val_loss: 0.0985 - val_accuracy: 0.9633\n",
      "Epoch 86/100\n",
      "100000/100000 - 3s - loss: 0.0479 - accuracy: 0.9804 - val_loss: 0.0990 - val_accuracy: 0.9638\n",
      "Epoch 87/100\n",
      "100000/100000 - 3s - loss: 0.0461 - accuracy: 0.9811 - val_loss: 0.1031 - val_accuracy: 0.9622\n",
      "Epoch 88/100\n",
      "100000/100000 - 3s - loss: 0.0481 - accuracy: 0.9802 - val_loss: 0.0992 - val_accuracy: 0.9639\n",
      "Epoch 89/100\n",
      "100000/100000 - 3s - loss: 0.0450 - accuracy: 0.9814 - val_loss: 0.1027 - val_accuracy: 0.9638\n",
      "Epoch 90/100\n",
      "100000/100000 - 3s - loss: 0.0477 - accuracy: 0.9804 - val_loss: 0.0975 - val_accuracy: 0.9640\n",
      "Epoch 91/100\n",
      "100000/100000 - 3s - loss: 0.0461 - accuracy: 0.9811 - val_loss: 0.1041 - val_accuracy: 0.9616\n",
      "Epoch 92/100\n",
      "100000/100000 - 3s - loss: 0.0464 - accuracy: 0.9810 - val_loss: 0.0963 - val_accuracy: 0.9640\n",
      "Epoch 93/100\n",
      "100000/100000 - 3s - loss: 0.0449 - accuracy: 0.9817 - val_loss: 0.1003 - val_accuracy: 0.9642\n",
      "Epoch 94/100\n",
      "100000/100000 - 3s - loss: 0.0442 - accuracy: 0.9820 - val_loss: 0.1026 - val_accuracy: 0.9645\n",
      "Epoch 95/100\n",
      "100000/100000 - 3s - loss: 0.0449 - accuracy: 0.9818 - val_loss: 0.1076 - val_accuracy: 0.9645\n",
      "Epoch 96/100\n",
      "100000/100000 - 3s - loss: 0.0444 - accuracy: 0.9819 - val_loss: 0.1020 - val_accuracy: 0.9640\n",
      "Epoch 97/100\n",
      "100000/100000 - 3s - loss: 0.0451 - accuracy: 0.9818 - val_loss: 0.1009 - val_accuracy: 0.9639\n",
      "Epoch 98/100\n",
      "100000/100000 - 3s - loss: 0.0432 - accuracy: 0.9824 - val_loss: 0.1059 - val_accuracy: 0.9636\n",
      "Epoch 99/100\n",
      "100000/100000 - 3s - loss: 0.0449 - accuracy: 0.9818 - val_loss: 0.1107 - val_accuracy: 0.9618\n",
      "Epoch 100/100\n",
      "100000/100000 - 3s - loss: 0.0421 - accuracy: 0.9831 - val_loss: 0.1055 - val_accuracy: 0.9641\n"
     ]
    }
   ],
   "source": [
    "model = tf.keras.models.Sequential([\n",
    "    tf.keras.layers.Dense(200, input_shape = [24], activation = 'relu'),\n",
    "    tf.keras.layers.Dense(200, activation = 'relu'),\n",
    "    tf.keras.layers.Dense(200, activation = 'relu'),\n",
    "    tf.keras.layers.Dense(200, activation = 'relu'),\n",
    "    tf.keras.layers.Dense(200, activation = 'relu'),\n",
    "    tf.keras.layers.Dense(12, activation = 'sigmoid')\n",
    "])\n",
    "adam = tf.keras.optimizers.Adam(lr = 0.005)\n",
    "model.compile(optimizer = adam, loss = 'binary_crossentropy', metrics = ['accuracy'])\n",
    "\n",
    "history = model.fit(x_train, y_train, batch_size = 1024, epochs = 100, verbose = 2, validation_data = (x_test, y_test))\n"
   ]
  },
  {
   "cell_type": "code",
   "execution_count": 6,
   "metadata": {},
   "outputs": [
    {
     "data": {
      "image/png": "[encoded data removed]",
      "text/plain": [
       "<Figure size 432x288 with 1 Axes>"
      ]
     },
     "metadata": {
      "needs_background": "light"
     },
     "output_type": "display_data"
    }
   ],
   "source": [
    "import matplotlib.pyplot as plt\n",
    "plt.figure()\n",
    "acc = history.history['accuracy']\n",
    "loss = history.history['loss']\n",
    "val_acc = history.history['val_accuracy']\n",
    "val_loss = history.history['val_loss']\n",
    "epochs = range(len(acc))\n",
    "plt.plot(epochs, acc, 'r', label = 'Training accuracy')\n",
    "plt.plot(epochs, val_acc, 'b', label = 'Validating accuracy')\n",
    "plt.title('Training and Validating Accuracy')\n",
    "#plt.title('Training Accuracy')\n",
    "plt.legend()\n",
    "plt.show()"
   ]
  },
  {
   "cell_type": "code",
   "execution_count": 8,
   "metadata": {},
   "outputs": [
    {
     "name": "stdout",
     "output_type": "stream",
     "text": [
      "5000/1 - 0s - loss: 0.0630 - accuracy: 0.9720\n"
     ]
    },
    {
     "data": {
      "text/plain": [
       "[0.04715186712741852, 0.9720002]"
      ]
     },
     "execution_count": 8,
     "metadata": {},
     "output_type": "execute_result"
    }
   ],
   "source": [
    "#model.evaluate(x_test, y_test, verbose = 2)"
   ]
  },
  {
   "cell_type": "code",
   "execution_count": 7,
   "metadata": {},
   "outputs": [],
   "source": [
    "model.save('C:\\\\Users\\\\Wilfred\\\\Desktop\\\\weights\\\\Look_ahead_N\\\\Look_ahead_N_4_6_18_3_model.h5')"
   ]
  },
  {
   "cell_type": "code",
   "execution_count": 16,
   "metadata": {},
   "outputs": [],
   "source": [
    "#json_string  = model.to_json()\n",
    "#with open(\"C:\\\\Users\\\\Wilfred\\\\Desktop\\\\json_model.json\", \"w\") as json_file:\n",
    "#    json_file.write(json_string)"
   ]
  },
  {
   "cell_type": "code",
   "execution_count": 5,
   "metadata": {},
   "outputs": [],
   "source": [
    "#model.save_weights('C:\\\\Users\\\\Wilfred\\\\Desktop\\\\Look_ahead_N_4_6_15_2_weights.h5')"
   ]
  }
 ],
 "metadata": {
  "kernelspec": {
   "display_name": "Python 3",
   "language": "python",
   "name": "python3"
  },
  "language_info": {
   "codemirror_mode": {
    "name": "ipython",
    "version": 3
   },
   "file_extension": ".py",
   "mimetype": "text/x-python",
   "name": "python",
   "nbconvert_exporter": "python",
   "pygments_lexer": "ipython3",
   "version": "3.7.5"
  }
 },
 "nbformat": 4,
 "nbformat_minor": 2
}
