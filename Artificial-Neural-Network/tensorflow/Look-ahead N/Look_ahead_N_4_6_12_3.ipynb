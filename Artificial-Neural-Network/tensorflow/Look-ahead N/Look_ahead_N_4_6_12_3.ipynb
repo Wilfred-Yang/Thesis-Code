{
 "cells": [
  {
   "cell_type": "code",
   "execution_count": 1,
   "metadata": {},
   "outputs": [],
   "source": [
    "import tensorflow as tf\n",
    "import numpy as np\n",
    "import pickle\n",
    "np.random.seed(7)"
   ]
  },
  {
   "cell_type": "code",
   "execution_count": 2,
   "metadata": {},
   "outputs": [
    {
     "name": "stdout",
     "output_type": "stream",
     "text": [
      "(105000, 24)\n"
     ]
    }
   ],
   "source": [
    "with open ('C:\\\\Users\\\\Wilfred\\\\Desktop\\\\Look-ahead-N\\\\input_layer_4_6_12_3.pickle','rb') as file:\n",
    "    input_data = pickle.load(file)\n",
    "permutation = list(np.random.permutation(input_data.shape[0]))\n",
    "input_data = input_data[permutation,:]\n",
    "print(input_data.shape)\n",
    "x_train = input_data[:100000, :]\n",
    "x_test = input_data[100000:105000, :]\n"
   ]
  },
  {
   "cell_type": "code",
   "execution_count": 3,
   "metadata": {},
   "outputs": [
    {
     "name": "stdout",
     "output_type": "stream",
     "text": [
      "(105000, 12)\n"
     ]
    }
   ],
   "source": [
    "with open ('C:\\\\Users\\\\Wilfred\\\\Desktop\\\\Look-ahead-N\\\\output_layer_4_6_12_3.pickle','rb') as file:\n",
    "    output_data = pickle.load(file)\n",
    "output_data = np.transpose(output_data)\n",
    "output_data = output_data[permutation,:]\n",
    "y_train = output_data[:100000, :]\n",
    "y_test = output_data[100000:105000, :]\n",
    "print(output_data.shape)"
   ]
  },
  {
   "cell_type": "code",
   "execution_count": 5,
   "metadata": {},
   "outputs": [
    {
     "name": "stdout",
     "output_type": "stream",
     "text": [
      "Train on 100000 samples, validate on 5000 samples\n",
      "Epoch 1/100\n",
      "100000/100000 - 3s - loss: 0.3198 - accuracy: 0.8679 - val_loss: 0.2683 - val_accuracy: 0.8867\n",
      "Epoch 2/100\n",
      "100000/100000 - 2s - loss: 0.2591 - accuracy: 0.8894 - val_loss: 0.2519 - val_accuracy: 0.8912\n",
      "Epoch 3/100\n",
      "100000/100000 - 3s - loss: 0.2405 - accuracy: 0.8958 - val_loss: 0.2389 - val_accuracy: 0.8971\n",
      "Epoch 4/100\n",
      "100000/100000 - 3s - loss: 0.2183 - accuracy: 0.9062 - val_loss: 0.2144 - val_accuracy: 0.9083\n",
      "Epoch 5/100\n",
      "100000/100000 - 3s - loss: 0.1976 - accuracy: 0.9149 - val_loss: 0.1988 - val_accuracy: 0.9135\n",
      "Epoch 6/100\n",
      "100000/100000 - 3s - loss: 0.1835 - accuracy: 0.9196 - val_loss: 0.1831 - val_accuracy: 0.9187\n",
      "Epoch 7/100\n",
      "100000/100000 - 3s - loss: 0.1679 - accuracy: 0.9243 - val_loss: 0.1703 - val_accuracy: 0.9238\n",
      "Epoch 8/100\n",
      "100000/100000 - 3s - loss: 0.1583 - accuracy: 0.9279 - val_loss: 0.1609 - val_accuracy: 0.9261\n",
      "Epoch 9/100\n",
      "100000/100000 - 2s - loss: 0.1485 - accuracy: 0.9317 - val_loss: 0.1538 - val_accuracy: 0.9282\n",
      "Epoch 10/100\n",
      "100000/100000 - 2s - loss: 0.1405 - accuracy: 0.9351 - val_loss: 0.1489 - val_accuracy: 0.9317\n",
      "Epoch 11/100\n",
      "100000/100000 - 3s - loss: 0.1324 - accuracy: 0.9390 - val_loss: 0.1461 - val_accuracy: 0.9328\n",
      "Epoch 12/100\n",
      "100000/100000 - 3s - loss: 0.1261 - accuracy: 0.9425 - val_loss: 0.1383 - val_accuracy: 0.9364\n",
      "Epoch 13/100\n",
      "100000/100000 - 3s - loss: 0.1192 - accuracy: 0.9457 - val_loss: 0.1386 - val_accuracy: 0.9391\n",
      "Epoch 14/100\n",
      "100000/100000 - 3s - loss: 0.1140 - accuracy: 0.9485 - val_loss: 0.1260 - val_accuracy: 0.9429\n",
      "Epoch 15/100\n",
      "100000/100000 - 2s - loss: 0.1085 - accuracy: 0.9511 - val_loss: 0.1239 - val_accuracy: 0.9444\n",
      "Epoch 16/100\n",
      "100000/100000 - 2s - loss: 0.1031 - accuracy: 0.9542 - val_loss: 0.1179 - val_accuracy: 0.9481\n",
      "Epoch 17/100\n",
      "100000/100000 - 3s - loss: 0.0980 - accuracy: 0.9567 - val_loss: 0.1149 - val_accuracy: 0.9489\n",
      "Epoch 18/100\n",
      "100000/100000 - 3s - loss: 0.0944 - accuracy: 0.9587 - val_loss: 0.1109 - val_accuracy: 0.9517\n",
      "Epoch 19/100\n",
      "100000/100000 - 3s - loss: 0.0894 - accuracy: 0.9609 - val_loss: 0.1089 - val_accuracy: 0.9519\n",
      "Epoch 20/100\n",
      "100000/100000 - 3s - loss: 0.0872 - accuracy: 0.9623 - val_loss: 0.1067 - val_accuracy: 0.9540\n",
      "Epoch 21/100\n",
      "100000/100000 - 3s - loss: 0.0839 - accuracy: 0.9637 - val_loss: 0.1024 - val_accuracy: 0.9564\n",
      "Epoch 22/100\n",
      "100000/100000 - 2s - loss: 0.0798 - accuracy: 0.9661 - val_loss: 0.1020 - val_accuracy: 0.9568\n",
      "Epoch 23/100\n",
      "100000/100000 - 2s - loss: 0.0770 - accuracy: 0.9673 - val_loss: 0.1026 - val_accuracy: 0.9569\n",
      "Epoch 24/100\n",
      "100000/100000 - 2s - loss: 0.0754 - accuracy: 0.9681 - val_loss: 0.1015 - val_accuracy: 0.9577\n",
      "Epoch 25/100\n",
      "100000/100000 - 3s - loss: 0.0713 - accuracy: 0.9702 - val_loss: 0.0996 - val_accuracy: 0.9587\n",
      "Epoch 26/100\n",
      "100000/100000 - 3s - loss: 0.0692 - accuracy: 0.9711 - val_loss: 0.0988 - val_accuracy: 0.9590\n",
      "Epoch 27/100\n",
      "100000/100000 - 2s - loss: 0.0679 - accuracy: 0.9717 - val_loss: 0.0943 - val_accuracy: 0.9625\n",
      "Epoch 28/100\n",
      "100000/100000 - 2s - loss: 0.0627 - accuracy: 0.9740 - val_loss: 0.0898 - val_accuracy: 0.9639\n",
      "Epoch 29/100\n",
      "100000/100000 - 2s - loss: 0.0627 - accuracy: 0.9740 - val_loss: 0.0917 - val_accuracy: 0.9618\n",
      "Epoch 30/100\n",
      "100000/100000 - 3s - loss: 0.0616 - accuracy: 0.9746 - val_loss: 0.0947 - val_accuracy: 0.9621\n",
      "Epoch 31/100\n",
      "100000/100000 - 2s - loss: 0.0586 - accuracy: 0.9759 - val_loss: 0.0934 - val_accuracy: 0.9631\n",
      "Epoch 32/100\n",
      "100000/100000 - 2s - loss: 0.0590 - accuracy: 0.9758 - val_loss: 0.0866 - val_accuracy: 0.9662\n",
      "Epoch 33/100\n",
      "100000/100000 - 2s - loss: 0.0549 - accuracy: 0.9776 - val_loss: 0.0878 - val_accuracy: 0.9664\n",
      "Epoch 34/100\n",
      "100000/100000 - 2s - loss: 0.0536 - accuracy: 0.9783 - val_loss: 0.0882 - val_accuracy: 0.9653\n",
      "Epoch 35/100\n",
      "100000/100000 - 3s - loss: 0.0526 - accuracy: 0.9788 - val_loss: 0.0865 - val_accuracy: 0.9664\n",
      "Epoch 36/100\n",
      "100000/100000 - 3s - loss: 0.0520 - accuracy: 0.9790 - val_loss: 0.0864 - val_accuracy: 0.9674\n",
      "Epoch 37/100\n",
      "100000/100000 - 2s - loss: 0.0497 - accuracy: 0.9799 - val_loss: 0.0863 - val_accuracy: 0.9679\n",
      "Epoch 38/100\n",
      "100000/100000 - 2s - loss: 0.0478 - accuracy: 0.9808 - val_loss: 0.0835 - val_accuracy: 0.9690\n",
      "Epoch 39/100\n",
      "100000/100000 - 2s - loss: 0.0476 - accuracy: 0.9808 - val_loss: 0.0854 - val_accuracy: 0.9692\n",
      "Epoch 40/100\n",
      "100000/100000 - 2s - loss: 0.0456 - accuracy: 0.9817 - val_loss: 0.0826 - val_accuracy: 0.9693\n",
      "Epoch 41/100\n",
      "100000/100000 - 3s - loss: 0.0473 - accuracy: 0.9810 - val_loss: 0.0866 - val_accuracy: 0.9682\n",
      "Epoch 42/100\n",
      "100000/100000 - 2s - loss: 0.0450 - accuracy: 0.9821 - val_loss: 0.0817 - val_accuracy: 0.9699\n",
      "Epoch 43/100\n",
      "100000/100000 - 2s - loss: 0.0447 - accuracy: 0.9823 - val_loss: 0.0843 - val_accuracy: 0.9690\n",
      "Epoch 44/100\n",
      "100000/100000 - 3s - loss: 0.0432 - accuracy: 0.9828 - val_loss: 0.0798 - val_accuracy: 0.9713\n",
      "Epoch 45/100\n",
      "100000/100000 - 3s - loss: 0.0406 - accuracy: 0.9839 - val_loss: 0.0788 - val_accuracy: 0.9714\n",
      "Epoch 46/100\n",
      "100000/100000 - 3s - loss: 0.0401 - accuracy: 0.9842 - val_loss: 0.0812 - val_accuracy: 0.9717\n",
      "Epoch 47/100\n",
      "100000/100000 - 3s - loss: 0.0391 - accuracy: 0.9846 - val_loss: 0.0785 - val_accuracy: 0.9719\n",
      "Epoch 48/100\n",
      "100000/100000 - 3s - loss: 0.0409 - accuracy: 0.9839 - val_loss: 0.0853 - val_accuracy: 0.9712\n",
      "Epoch 49/100\n",
      "100000/100000 - 3s - loss: 0.0376 - accuracy: 0.9851 - val_loss: 0.0765 - val_accuracy: 0.9730\n",
      "Epoch 50/100\n",
      "100000/100000 - 3s - loss: 0.0389 - accuracy: 0.9847 - val_loss: 0.0778 - val_accuracy: 0.9727\n",
      "Epoch 51/100\n",
      "100000/100000 - 3s - loss: 0.0358 - accuracy: 0.9860 - val_loss: 0.0761 - val_accuracy: 0.9732\n",
      "Epoch 52/100\n",
      "100000/100000 - 3s - loss: 0.0357 - accuracy: 0.9860 - val_loss: 0.0825 - val_accuracy: 0.9719\n",
      "Epoch 53/100\n",
      "100000/100000 - 3s - loss: 0.0363 - accuracy: 0.9859 - val_loss: 0.0794 - val_accuracy: 0.9732\n",
      "Epoch 54/100\n",
      "100000/100000 - 3s - loss: 0.0367 - accuracy: 0.9859 - val_loss: 0.0814 - val_accuracy: 0.9717\n",
      "Epoch 55/100\n",
      "100000/100000 - 3s - loss: 0.0353 - accuracy: 0.9862 - val_loss: 0.0777 - val_accuracy: 0.9738\n",
      "Epoch 56/100\n",
      "100000/100000 - 3s - loss: 0.0336 - accuracy: 0.9868 - val_loss: 0.0745 - val_accuracy: 0.9749\n",
      "Epoch 57/100\n",
      "100000/100000 - 3s - loss: 0.0331 - accuracy: 0.9872 - val_loss: 0.0717 - val_accuracy: 0.9751\n",
      "Epoch 58/100\n",
      "100000/100000 - 3s - loss: 0.0346 - accuracy: 0.9867 - val_loss: 0.0810 - val_accuracy: 0.9733\n",
      "Epoch 59/100\n",
      "100000/100000 - 3s - loss: 0.0323 - accuracy: 0.9875 - val_loss: 0.0757 - val_accuracy: 0.9743\n",
      "Epoch 60/100\n",
      "100000/100000 - 3s - loss: 0.0312 - accuracy: 0.9879 - val_loss: 0.0777 - val_accuracy: 0.9752\n",
      "Epoch 61/100\n",
      "100000/100000 - 3s - loss: 0.0324 - accuracy: 0.9877 - val_loss: 0.0746 - val_accuracy: 0.9753\n",
      "Epoch 62/100\n",
      "100000/100000 - 3s - loss: 0.0332 - accuracy: 0.9872 - val_loss: 0.0797 - val_accuracy: 0.9740\n",
      "Epoch 63/100\n",
      "100000/100000 - 3s - loss: 0.0315 - accuracy: 0.9879 - val_loss: 0.0769 - val_accuracy: 0.9754\n",
      "Epoch 64/100\n",
      "100000/100000 - 3s - loss: 0.0297 - accuracy: 0.9885 - val_loss: 0.0779 - val_accuracy: 0.9751\n",
      "Epoch 65/100\n",
      "100000/100000 - 3s - loss: 0.0312 - accuracy: 0.9882 - val_loss: 0.0770 - val_accuracy: 0.9754\n",
      "Epoch 66/100\n",
      "100000/100000 - 3s - loss: 0.0292 - accuracy: 0.9888 - val_loss: 0.0763 - val_accuracy: 0.9759\n",
      "Epoch 67/100\n",
      "100000/100000 - 3s - loss: 0.0296 - accuracy: 0.9885 - val_loss: 0.0754 - val_accuracy: 0.9761\n",
      "Epoch 68/100\n",
      "100000/100000 - 3s - loss: 0.0294 - accuracy: 0.9888 - val_loss: 0.0754 - val_accuracy: 0.9764\n",
      "Epoch 69/100\n",
      "100000/100000 - 3s - loss: 0.0295 - accuracy: 0.9888 - val_loss: 0.0704 - val_accuracy: 0.9772\n",
      "Epoch 70/100\n",
      "100000/100000 - 3s - loss: 0.0269 - accuracy: 0.9897 - val_loss: 0.0809 - val_accuracy: 0.9765\n",
      "Epoch 71/100\n",
      "100000/100000 - 3s - loss: 0.0275 - accuracy: 0.9896 - val_loss: 0.0765 - val_accuracy: 0.9756\n",
      "Epoch 72/100\n",
      "100000/100000 - 3s - loss: 0.0266 - accuracy: 0.9900 - val_loss: 0.0736 - val_accuracy: 0.9774\n",
      "Epoch 73/100\n",
      "100000/100000 - 3s - loss: 0.0273 - accuracy: 0.9897 - val_loss: 0.0804 - val_accuracy: 0.9765\n",
      "Epoch 74/100\n",
      "100000/100000 - 3s - loss: 0.0302 - accuracy: 0.9887 - val_loss: 0.0741 - val_accuracy: 0.9767\n",
      "Epoch 75/100\n",
      "100000/100000 - 3s - loss: 0.0268 - accuracy: 0.9899 - val_loss: 0.0774 - val_accuracy: 0.9765\n",
      "Epoch 76/100\n",
      "100000/100000 - 3s - loss: 0.0282 - accuracy: 0.9895 - val_loss: 0.0776 - val_accuracy: 0.9769\n"
     ]
    },
    {
     "name": "stdout",
     "output_type": "stream",
     "text": [
      "Epoch 77/100\n",
      "100000/100000 - 3s - loss: 0.0250 - accuracy: 0.9906 - val_loss: 0.0712 - val_accuracy: 0.9777\n",
      "Epoch 78/100\n",
      "100000/100000 - 3s - loss: 0.0272 - accuracy: 0.9898 - val_loss: 0.0777 - val_accuracy: 0.9763\n",
      "Epoch 79/100\n",
      "100000/100000 - 3s - loss: 0.0239 - accuracy: 0.9911 - val_loss: 0.0771 - val_accuracy: 0.9786\n",
      "Epoch 80/100\n",
      "100000/100000 - 3s - loss: 0.0235 - accuracy: 0.9913 - val_loss: 0.0719 - val_accuracy: 0.9782\n",
      "Epoch 81/100\n",
      "100000/100000 - 3s - loss: 0.0242 - accuracy: 0.9909 - val_loss: 0.0796 - val_accuracy: 0.9767\n",
      "Epoch 82/100\n",
      "100000/100000 - 3s - loss: 0.0257 - accuracy: 0.9904 - val_loss: 0.0824 - val_accuracy: 0.9764\n",
      "Epoch 83/100\n",
      "100000/100000 - 3s - loss: 0.0277 - accuracy: 0.9899 - val_loss: 0.0760 - val_accuracy: 0.9776\n",
      "Epoch 84/100\n",
      "100000/100000 - 3s - loss: 0.0260 - accuracy: 0.9903 - val_loss: 0.0764 - val_accuracy: 0.9777\n",
      "Epoch 85/100\n",
      "100000/100000 - 3s - loss: 0.0212 - accuracy: 0.9921 - val_loss: 0.0757 - val_accuracy: 0.9789\n",
      "Epoch 86/100\n",
      "100000/100000 - 3s - loss: 0.0225 - accuracy: 0.9917 - val_loss: 0.0724 - val_accuracy: 0.9786\n",
      "Epoch 87/100\n",
      "100000/100000 - 3s - loss: 0.0244 - accuracy: 0.9910 - val_loss: 0.0786 - val_accuracy: 0.9782\n",
      "Epoch 88/100\n",
      "100000/100000 - 3s - loss: 0.0255 - accuracy: 0.9906 - val_loss: 0.0824 - val_accuracy: 0.9770\n",
      "Epoch 89/100\n",
      "100000/100000 - 3s - loss: 0.0243 - accuracy: 0.9912 - val_loss: 0.0761 - val_accuracy: 0.9783\n",
      "Epoch 90/100\n",
      "100000/100000 - 3s - loss: 0.0230 - accuracy: 0.9916 - val_loss: 0.0766 - val_accuracy: 0.9784\n",
      "Epoch 91/100\n",
      "100000/100000 - 3s - loss: 0.0223 - accuracy: 0.9918 - val_loss: 0.0762 - val_accuracy: 0.9788\n",
      "Epoch 92/100\n",
      "100000/100000 - 3s - loss: 0.0253 - accuracy: 0.9908 - val_loss: 0.0748 - val_accuracy: 0.9785\n",
      "Epoch 93/100\n",
      "100000/100000 - 3s - loss: 0.0214 - accuracy: 0.9923 - val_loss: 0.0754 - val_accuracy: 0.9792\n",
      "Epoch 94/100\n",
      "100000/100000 - 3s - loss: 0.0209 - accuracy: 0.9923 - val_loss: 0.0792 - val_accuracy: 0.9787\n",
      "Epoch 95/100\n",
      "100000/100000 - 3s - loss: 0.0228 - accuracy: 0.9918 - val_loss: 0.0797 - val_accuracy: 0.9791\n",
      "Epoch 96/100\n",
      "100000/100000 - 3s - loss: 0.0248 - accuracy: 0.9910 - val_loss: 0.0822 - val_accuracy: 0.9780\n",
      "Epoch 97/100\n",
      "100000/100000 - 3s - loss: 0.0227 - accuracy: 0.9917 - val_loss: 0.0736 - val_accuracy: 0.9790\n",
      "Epoch 98/100\n",
      "100000/100000 - 3s - loss: 0.0208 - accuracy: 0.9924 - val_loss: 0.0795 - val_accuracy: 0.9789\n",
      "Epoch 99/100\n",
      "100000/100000 - 3s - loss: 0.0217 - accuracy: 0.9920 - val_loss: 0.0782 - val_accuracy: 0.9784\n",
      "Epoch 100/100\n",
      "100000/100000 - 3s - loss: 0.0221 - accuracy: 0.9920 - val_loss: 0.0751 - val_accuracy: 0.9800\n"
     ]
    }
   ],
   "source": [
    "model = tf.keras.models.Sequential([\n",
    "    tf.keras.layers.Dense(180, input_shape = [24], activation = 'relu'),\n",
    "    tf.keras.layers.Dense(180, activation = 'relu'),\n",
    "    tf.keras.layers.Dense(180, activation = 'relu'),\n",
    "    tf.keras.layers.Dense(180, activation = 'relu'),\n",
    "    tf.keras.layers.Dense(12, activation = 'sigmoid')\n",
    "])\n",
    "adam = tf.keras.optimizers.Adam(lr = 0.005)\n",
    "model.compile(optimizer = adam, loss = 'binary_crossentropy', metrics = ['accuracy'])\n",
    "\n",
    "history = model.fit(x_train, y_train, batch_size = 1024, epochs = 100, verbose = 2, validation_data = (x_test, y_test))\n"
   ]
  },
  {
   "cell_type": "code",
   "execution_count": 7,
   "metadata": {},
   "outputs": [
    {
     "data": {
      "image/png": "[encoded data removed]",
      "text/plain": [
       "<Figure size 432x288 with 1 Axes>"
      ]
     },
     "metadata": {
      "needs_background": "light"
     },
     "output_type": "display_data"
    }
   ],
   "source": [
    "import matplotlib.pyplot as plt\n",
    "plt.figure()\n",
    "acc = history.history['accuracy']\n",
    "loss = history.history['loss']\n",
    "val_acc = history.history['val_accuracy']\n",
    "val_loss = history.history['val_loss']\n",
    "epochs = range(len(acc))\n",
    "plt.plot(epochs, acc, 'r', label = 'Training accuracy')\n",
    "plt.plot(epochs, val_acc, 'b', label = 'Validating accuracy')\n",
    "plt.title('Training and Validating Accuracy')\n",
    "#plt.title('Training Accuracy')\n",
    "plt.legend()\n",
    "plt.show()"
   ]
  },
  {
   "cell_type": "code",
   "execution_count": 8,
   "metadata": {},
   "outputs": [
    {
     "name": "stdout",
     "output_type": "stream",
     "text": [
      "5000/1 - 0s - loss: 0.0630 - accuracy: 0.9720\n"
     ]
    },
    {
     "data": {
      "text/plain": [
       "[0.04715186712741852, 0.9720002]"
      ]
     },
     "execution_count": 8,
     "metadata": {},
     "output_type": "execute_result"
    }
   ],
   "source": [
    "#model.evaluate(x_test, y_test, verbose = 2)"
   ]
  },
  {
   "cell_type": "code",
   "execution_count": 8,
   "metadata": {},
   "outputs": [],
   "source": [
    "model.save('C:\\\\Users\\\\Wilfred\\\\Desktop\\\\weights\\\\Look_ahead_N\\\\Look_ahead_N_4_6_12_3_model.h5')"
   ]
  },
  {
   "cell_type": "code",
   "execution_count": null,
   "metadata": {},
   "outputs": [],
   "source": []
  }
 ],
 "metadata": {
  "kernelspec": {
   "display_name": "Python 3",
   "language": "python",
   "name": "python3"
  },
  "language_info": {
   "codemirror_mode": {
    "name": "ipython",
    "version": 3
   },
   "file_extension": ".py",
   "mimetype": "text/x-python",
   "name": "python",
   "nbconvert_exporter": "python",
   "pygments_lexer": "ipython3",
   "version": "3.7.5"
  }
 },
 "nbformat": 4,
 "nbformat_minor": 2
}
