{
 "cells": [
  {
   "cell_type": "code",
   "execution_count": 2,
   "metadata": {},
   "outputs": [],
   "source": [
    "import tensorflow as tf\n",
    "import numpy as np\n",
    "import pickle\n",
    "np.random.seed(7)"
   ]
  },
  {
   "cell_type": "code",
   "execution_count": 7,
   "metadata": {},
   "outputs": [
    {
     "name": "stdout",
     "output_type": "stream",
     "text": [
      "(105000, 24)\n"
     ]
    }
   ],
   "source": [
    "with open ('C:\\\\Users\\\\Wilfred\\\\Desktop\\\\Look-ahead-N\\\\input_layer_4_6_9_2.pickle','rb') as file:\n",
    "    input_data = pickle.load(file)\n",
    "permutation = list(np.random.permutation(input_data.shape[0]))\n",
    "input_data = input_data[permutation,:]\n",
    "print(input_data.shape)\n",
    "x_train = input_data[:100000, :]\n",
    "x_test = input_data[100000:105000, :]\n"
   ]
  },
  {
   "cell_type": "code",
   "execution_count": 8,
   "metadata": {},
   "outputs": [
    {
     "name": "stdout",
     "output_type": "stream",
     "text": [
      "(105000, 12)\n"
     ]
    }
   ],
   "source": [
    "with open ('C:\\\\Users\\\\Wilfred\\\\Desktop\\\\Look-ahead-N\\\\output_layer_4_6_9_2.pickle','rb') as file:\n",
    "    output_data = pickle.load(file)\n",
    "output_data = np.transpose(output_data)\n",
    "output_data = output_data[permutation,:]\n",
    "y_train = output_data[:100000, :]\n",
    "y_test = output_data[100000:105000, :]\n",
    "print(output_data.shape)"
   ]
  },
  {
   "cell_type": "code",
   "execution_count": 9,
   "metadata": {},
   "outputs": [
    {
     "name": "stdout",
     "output_type": "stream",
     "text": [
      "Train on 100000 samples, validate on 5000 samples\n",
      "Epoch 1/100\n",
      "100000/100000 - 2s - loss: 0.3303 - accuracy: 0.8643 - val_loss: 0.2701 - val_accuracy: 0.8879\n",
      "Epoch 2/100\n",
      "100000/100000 - 1s - loss: 0.2536 - accuracy: 0.8928 - val_loss: 0.2440 - val_accuracy: 0.8949\n",
      "Epoch 3/100\n",
      "100000/100000 - 1s - loss: 0.2289 - accuracy: 0.9010 - val_loss: 0.2248 - val_accuracy: 0.9031\n",
      "Epoch 4/100\n",
      "100000/100000 - 1s - loss: 0.2037 - accuracy: 0.9107 - val_loss: 0.1976 - val_accuracy: 0.9107\n",
      "Epoch 5/100\n",
      "100000/100000 - 1s - loss: 0.1790 - accuracy: 0.9187 - val_loss: 0.1712 - val_accuracy: 0.9200\n",
      "Epoch 6/100\n",
      "100000/100000 - 1s - loss: 0.1586 - accuracy: 0.9263 - val_loss: 0.1590 - val_accuracy: 0.9246\n",
      "Epoch 7/100\n",
      "100000/100000 - 1s - loss: 0.1430 - accuracy: 0.9334 - val_loss: 0.1406 - val_accuracy: 0.9338\n",
      "Epoch 8/100\n",
      "100000/100000 - 1s - loss: 0.1302 - accuracy: 0.9399 - val_loss: 0.1336 - val_accuracy: 0.9384\n",
      "Epoch 9/100\n",
      "100000/100000 - 1s - loss: 0.1207 - accuracy: 0.9448 - val_loss: 0.1229 - val_accuracy: 0.9433\n",
      "Epoch 10/100\n",
      "100000/100000 - 1s - loss: 0.1125 - accuracy: 0.9493 - val_loss: 0.1177 - val_accuracy: 0.9467\n",
      "Epoch 11/100\n",
      "100000/100000 - 1s - loss: 0.1048 - accuracy: 0.9533 - val_loss: 0.1091 - val_accuracy: 0.9509\n",
      "Epoch 12/100\n",
      "100000/100000 - 1s - loss: 0.0988 - accuracy: 0.9564 - val_loss: 0.1063 - val_accuracy: 0.9524\n",
      "Epoch 13/100\n",
      "100000/100000 - 1s - loss: 0.0935 - accuracy: 0.9593 - val_loss: 0.0996 - val_accuracy: 0.9569\n",
      "Epoch 14/100\n",
      "100000/100000 - 1s - loss: 0.0877 - accuracy: 0.9621 - val_loss: 0.0970 - val_accuracy: 0.9583\n",
      "Epoch 15/100\n",
      "100000/100000 - 1s - loss: 0.0836 - accuracy: 0.9642 - val_loss: 0.0913 - val_accuracy: 0.9601\n",
      "Epoch 16/100\n",
      "100000/100000 - 1s - loss: 0.0789 - accuracy: 0.9667 - val_loss: 0.0877 - val_accuracy: 0.9624\n",
      "Epoch 17/100\n",
      "100000/100000 - 1s - loss: 0.0745 - accuracy: 0.9687 - val_loss: 0.0820 - val_accuracy: 0.9653\n",
      "Epoch 18/100\n",
      "100000/100000 - 1s - loss: 0.0713 - accuracy: 0.9704 - val_loss: 0.0778 - val_accuracy: 0.9670\n",
      "Epoch 19/100\n",
      "100000/100000 - 1s - loss: 0.0669 - accuracy: 0.9724 - val_loss: 0.0775 - val_accuracy: 0.9681\n",
      "Epoch 20/100\n",
      "100000/100000 - 1s - loss: 0.0638 - accuracy: 0.9741 - val_loss: 0.0736 - val_accuracy: 0.9701\n",
      "Epoch 21/100\n",
      "100000/100000 - 1s - loss: 0.0615 - accuracy: 0.9750 - val_loss: 0.0707 - val_accuracy: 0.9708\n",
      "Epoch 22/100\n",
      "100000/100000 - 1s - loss: 0.0584 - accuracy: 0.9765 - val_loss: 0.0689 - val_accuracy: 0.9718\n",
      "Epoch 23/100\n",
      "100000/100000 - 1s - loss: 0.0553 - accuracy: 0.9778 - val_loss: 0.0655 - val_accuracy: 0.9741\n",
      "Epoch 24/100\n",
      "100000/100000 - 1s - loss: 0.0537 - accuracy: 0.9785 - val_loss: 0.0653 - val_accuracy: 0.9744\n",
      "Epoch 25/100\n",
      "100000/100000 - 1s - loss: 0.0503 - accuracy: 0.9799 - val_loss: 0.0654 - val_accuracy: 0.9737\n",
      "Epoch 26/100\n",
      "100000/100000 - 1s - loss: 0.0488 - accuracy: 0.9806 - val_loss: 0.0603 - val_accuracy: 0.9760\n",
      "Epoch 27/100\n",
      "100000/100000 - 1s - loss: 0.0467 - accuracy: 0.9815 - val_loss: 0.0591 - val_accuracy: 0.9771\n",
      "Epoch 28/100\n",
      "100000/100000 - 1s - loss: 0.0456 - accuracy: 0.9819 - val_loss: 0.0601 - val_accuracy: 0.9773\n",
      "Epoch 29/100\n",
      "100000/100000 - 1s - loss: 0.0442 - accuracy: 0.9824 - val_loss: 0.0614 - val_accuracy: 0.9764\n",
      "Epoch 30/100\n",
      "100000/100000 - 1s - loss: 0.0419 - accuracy: 0.9836 - val_loss: 0.0596 - val_accuracy: 0.9774\n",
      "Epoch 31/100\n",
      "100000/100000 - 1s - loss: 0.0402 - accuracy: 0.9843 - val_loss: 0.0568 - val_accuracy: 0.9792\n",
      "Epoch 32/100\n",
      "100000/100000 - 1s - loss: 0.0400 - accuracy: 0.9845 - val_loss: 0.0570 - val_accuracy: 0.9786\n",
      "Epoch 33/100\n",
      "100000/100000 - 1s - loss: 0.0402 - accuracy: 0.9843 - val_loss: 0.0606 - val_accuracy: 0.9767\n",
      "Epoch 34/100\n",
      "100000/100000 - 1s - loss: 0.0370 - accuracy: 0.9856 - val_loss: 0.0550 - val_accuracy: 0.9789\n",
      "Epoch 35/100\n",
      "100000/100000 - 1s - loss: 0.0363 - accuracy: 0.9860 - val_loss: 0.0547 - val_accuracy: 0.9789\n",
      "Epoch 36/100\n",
      "100000/100000 - 1s - loss: 0.0347 - accuracy: 0.9867 - val_loss: 0.0521 - val_accuracy: 0.9811\n",
      "Epoch 37/100\n",
      "100000/100000 - 1s - loss: 0.0337 - accuracy: 0.9870 - val_loss: 0.0538 - val_accuracy: 0.9808\n",
      "Epoch 38/100\n",
      "100000/100000 - 1s - loss: 0.0330 - accuracy: 0.9873 - val_loss: 0.0539 - val_accuracy: 0.9802\n",
      "Epoch 39/100\n",
      "100000/100000 - 1s - loss: 0.0327 - accuracy: 0.9875 - val_loss: 0.0515 - val_accuracy: 0.9814\n",
      "Epoch 40/100\n",
      "100000/100000 - 1s - loss: 0.0315 - accuracy: 0.9880 - val_loss: 0.0515 - val_accuracy: 0.9817\n",
      "Epoch 41/100\n",
      "100000/100000 - 1s - loss: 0.0305 - accuracy: 0.9884 - val_loss: 0.0483 - val_accuracy: 0.9821\n",
      "Epoch 42/100\n",
      "100000/100000 - 1s - loss: 0.0301 - accuracy: 0.9886 - val_loss: 0.0491 - val_accuracy: 0.9827\n",
      "Epoch 43/100\n",
      "100000/100000 - 1s - loss: 0.0296 - accuracy: 0.9888 - val_loss: 0.0491 - val_accuracy: 0.9831\n",
      "Epoch 44/100\n",
      "100000/100000 - 1s - loss: 0.0282 - accuracy: 0.9893 - val_loss: 0.0467 - val_accuracy: 0.9843\n",
      "Epoch 45/100\n",
      "100000/100000 - 1s - loss: 0.0271 - accuracy: 0.9898 - val_loss: 0.0455 - val_accuracy: 0.9844\n",
      "Epoch 46/100\n",
      "100000/100000 - 1s - loss: 0.0276 - accuracy: 0.9896 - val_loss: 0.0491 - val_accuracy: 0.9828\n",
      "Epoch 47/100\n",
      "100000/100000 - 1s - loss: 0.0283 - accuracy: 0.9893 - val_loss: 0.0487 - val_accuracy: 0.9838\n",
      "Epoch 48/100\n",
      "100000/100000 - 1s - loss: 0.0279 - accuracy: 0.9894 - val_loss: 0.0501 - val_accuracy: 0.9838\n",
      "Epoch 49/100\n",
      "100000/100000 - 1s - loss: 0.0257 - accuracy: 0.9904 - val_loss: 0.0444 - val_accuracy: 0.9849\n",
      "Epoch 50/100\n",
      "100000/100000 - 1s - loss: 0.0248 - accuracy: 0.9907 - val_loss: 0.0501 - val_accuracy: 0.9830\n",
      "Epoch 51/100\n",
      "100000/100000 - 1s - loss: 0.0255 - accuracy: 0.9904 - val_loss: 0.0448 - val_accuracy: 0.9840\n",
      "Epoch 52/100\n",
      "100000/100000 - 1s - loss: 0.0237 - accuracy: 0.9911 - val_loss: 0.0460 - val_accuracy: 0.9843\n",
      "Epoch 53/100\n",
      "100000/100000 - 1s - loss: 0.0235 - accuracy: 0.9912 - val_loss: 0.0464 - val_accuracy: 0.9851\n",
      "Epoch 54/100\n",
      "100000/100000 - 1s - loss: 0.0235 - accuracy: 0.9912 - val_loss: 0.0471 - val_accuracy: 0.9847\n",
      "Epoch 55/100\n",
      "100000/100000 - 1s - loss: 0.0236 - accuracy: 0.9912 - val_loss: 0.0475 - val_accuracy: 0.9846\n",
      "Epoch 56/100\n",
      "100000/100000 - 1s - loss: 0.0241 - accuracy: 0.9909 - val_loss: 0.0461 - val_accuracy: 0.9849\n",
      "Epoch 57/100\n",
      "100000/100000 - 1s - loss: 0.0221 - accuracy: 0.9918 - val_loss: 0.0457 - val_accuracy: 0.9848\n",
      "Epoch 58/100\n",
      "100000/100000 - 1s - loss: 0.0219 - accuracy: 0.9919 - val_loss: 0.0431 - val_accuracy: 0.9861\n",
      "Epoch 59/100\n",
      "100000/100000 - 1s - loss: 0.0204 - accuracy: 0.9925 - val_loss: 0.0463 - val_accuracy: 0.9854\n",
      "Epoch 60/100\n",
      "100000/100000 - 1s - loss: 0.0211 - accuracy: 0.9922 - val_loss: 0.0487 - val_accuracy: 0.9845\n",
      "Epoch 61/100\n",
      "100000/100000 - 1s - loss: 0.0216 - accuracy: 0.9921 - val_loss: 0.0431 - val_accuracy: 0.9857\n",
      "Epoch 62/100\n",
      "100000/100000 - 1s - loss: 0.0215 - accuracy: 0.9920 - val_loss: 0.0433 - val_accuracy: 0.9857\n",
      "Epoch 63/100\n",
      "100000/100000 - 1s - loss: 0.0212 - accuracy: 0.9923 - val_loss: 0.0487 - val_accuracy: 0.9850\n",
      "Epoch 64/100\n",
      "100000/100000 - 1s - loss: 0.0220 - accuracy: 0.9920 - val_loss: 0.0412 - val_accuracy: 0.9864\n",
      "Epoch 65/100\n",
      "100000/100000 - 1s - loss: 0.0198 - accuracy: 0.9928 - val_loss: 0.0405 - val_accuracy: 0.9869\n",
      "Epoch 66/100\n",
      "100000/100000 - 1s - loss: 0.0196 - accuracy: 0.9927 - val_loss: 0.0421 - val_accuracy: 0.9867\n",
      "Epoch 67/100\n",
      "100000/100000 - 1s - loss: 0.0216 - accuracy: 0.9921 - val_loss: 0.0458 - val_accuracy: 0.9860\n",
      "Epoch 68/100\n",
      "100000/100000 - 1s - loss: 0.0193 - accuracy: 0.9929 - val_loss: 0.0444 - val_accuracy: 0.9867\n",
      "Epoch 69/100\n",
      "100000/100000 - 1s - loss: 0.0190 - accuracy: 0.9930 - val_loss: 0.0400 - val_accuracy: 0.9876\n",
      "Epoch 70/100\n",
      "100000/100000 - 1s - loss: 0.0185 - accuracy: 0.9933 - val_loss: 0.0428 - val_accuracy: 0.9874\n",
      "Epoch 71/100\n",
      "100000/100000 - 1s - loss: 0.0194 - accuracy: 0.9929 - val_loss: 0.0431 - val_accuracy: 0.9868\n",
      "Epoch 72/100\n",
      "100000/100000 - 1s - loss: 0.0191 - accuracy: 0.9930 - val_loss: 0.0429 - val_accuracy: 0.9869\n",
      "Epoch 73/100\n",
      "100000/100000 - 1s - loss: 0.0187 - accuracy: 0.9931 - val_loss: 0.0445 - val_accuracy: 0.9865\n",
      "Epoch 74/100\n",
      "100000/100000 - 1s - loss: 0.0165 - accuracy: 0.9940 - val_loss: 0.0421 - val_accuracy: 0.9877\n",
      "Epoch 75/100\n",
      "100000/100000 - 1s - loss: 0.0176 - accuracy: 0.9936 - val_loss: 0.0402 - val_accuracy: 0.9876\n",
      "Epoch 76/100\n",
      "100000/100000 - 1s - loss: 0.0175 - accuracy: 0.9935 - val_loss: 0.0407 - val_accuracy: 0.9878\n"
     ]
    },
    {
     "name": "stdout",
     "output_type": "stream",
     "text": [
      "Epoch 77/100\n",
      "100000/100000 - 1s - loss: 0.0157 - accuracy: 0.9943 - val_loss: 0.0403 - val_accuracy: 0.9876\n",
      "Epoch 78/100\n",
      "100000/100000 - 1s - loss: 0.0158 - accuracy: 0.9942 - val_loss: 0.0404 - val_accuracy: 0.9879\n",
      "Epoch 79/100\n",
      "100000/100000 - 1s - loss: 0.0172 - accuracy: 0.9938 - val_loss: 0.0416 - val_accuracy: 0.9882\n",
      "Epoch 80/100\n",
      "100000/100000 - 1s - loss: 0.0200 - accuracy: 0.9929 - val_loss: 0.0432 - val_accuracy: 0.9870\n",
      "Epoch 81/100\n",
      "100000/100000 - 1s - loss: 0.0185 - accuracy: 0.9933 - val_loss: 0.0428 - val_accuracy: 0.9873\n",
      "Epoch 82/100\n",
      "100000/100000 - 1s - loss: 0.0164 - accuracy: 0.9941 - val_loss: 0.0386 - val_accuracy: 0.9879\n",
      "Epoch 83/100\n",
      "100000/100000 - 1s - loss: 0.0152 - accuracy: 0.9944 - val_loss: 0.0375 - val_accuracy: 0.9896\n",
      "Epoch 84/100\n",
      "100000/100000 - 1s - loss: 0.0146 - accuracy: 0.9947 - val_loss: 0.0406 - val_accuracy: 0.9884\n",
      "Epoch 85/100\n",
      "100000/100000 - 1s - loss: 0.0163 - accuracy: 0.9942 - val_loss: 0.0434 - val_accuracy: 0.9876\n",
      "Epoch 86/100\n",
      "100000/100000 - 1s - loss: 0.0154 - accuracy: 0.9944 - val_loss: 0.0388 - val_accuracy: 0.9886\n",
      "Epoch 87/100\n",
      "100000/100000 - 1s - loss: 0.0151 - accuracy: 0.9946 - val_loss: 0.0393 - val_accuracy: 0.9891\n",
      "Epoch 88/100\n",
      "100000/100000 - 1s - loss: 0.0165 - accuracy: 0.9942 - val_loss: 0.0439 - val_accuracy: 0.9873\n",
      "Epoch 89/100\n",
      "100000/100000 - 1s - loss: 0.0164 - accuracy: 0.9942 - val_loss: 0.0411 - val_accuracy: 0.9880\n",
      "Epoch 90/100\n",
      "100000/100000 - 1s - loss: 0.0161 - accuracy: 0.9943 - val_loss: 0.0401 - val_accuracy: 0.9885\n",
      "Epoch 91/100\n",
      "100000/100000 - 1s - loss: 0.0147 - accuracy: 0.9947 - val_loss: 0.0358 - val_accuracy: 0.9894\n",
      "Epoch 92/100\n",
      "100000/100000 - 1s - loss: 0.0145 - accuracy: 0.9949 - val_loss: 0.0333 - val_accuracy: 0.9894\n",
      "Epoch 93/100\n",
      "100000/100000 - 1s - loss: 0.0132 - accuracy: 0.9953 - val_loss: 0.0420 - val_accuracy: 0.9884\n",
      "Epoch 94/100\n",
      "100000/100000 - 1s - loss: 0.0143 - accuracy: 0.9949 - val_loss: 0.0379 - val_accuracy: 0.9898\n",
      "Epoch 95/100\n",
      "100000/100000 - 1s - loss: 0.0149 - accuracy: 0.9947 - val_loss: 0.0395 - val_accuracy: 0.9887\n",
      "Epoch 96/100\n",
      "100000/100000 - 1s - loss: 0.0160 - accuracy: 0.9943 - val_loss: 0.0417 - val_accuracy: 0.9882\n",
      "Epoch 97/100\n",
      "100000/100000 - 1s - loss: 0.0154 - accuracy: 0.9946 - val_loss: 0.0355 - val_accuracy: 0.9895\n",
      "Epoch 98/100\n",
      "100000/100000 - 1s - loss: 0.0139 - accuracy: 0.9951 - val_loss: 0.0396 - val_accuracy: 0.9892\n",
      "Epoch 99/100\n",
      "100000/100000 - 1s - loss: 0.0149 - accuracy: 0.9947 - val_loss: 0.0375 - val_accuracy: 0.9893\n",
      "Epoch 100/100\n",
      "100000/100000 - 1s - loss: 0.0133 - accuracy: 0.9952 - val_loss: 0.0380 - val_accuracy: 0.9896\n"
     ]
    }
   ],
   "source": [
    "model = tf.keras.models.Sequential([\n",
    "    tf.keras.layers.Dense(150, input_shape = [24], activation = 'relu'),\n",
    "    tf.keras.layers.Dense(150, activation = 'relu'),\n",
    "    tf.keras.layers.Dense(150, activation = 'relu'),\n",
    "    tf.keras.layers.Dense(12, activation = 'sigmoid')\n",
    "])\n",
    "adam = tf.keras.optimizers.Adam(lr = 0.005)\n",
    "model.compile(optimizer = adam, loss = 'binary_crossentropy', metrics = ['accuracy'])\n",
    "\n",
    "history = model.fit(x_train, y_train, batch_size = 1024, epochs = 100, verbose = 2, validation_data = (x_test, y_test))\n"
   ]
  },
  {
   "cell_type": "code",
   "execution_count": 11,
   "metadata": {},
   "outputs": [
    {
     "data": {
      "image/png": "[encoded data removed]",
      "text/plain": [
       "<Figure size 432x288 with 1 Axes>"
      ]
     },
     "metadata": {
      "needs_background": "light"
     },
     "output_type": "display_data"
    }
   ],
   "source": [
    "import matplotlib.pyplot as plt\n",
    "plt.figure()\n",
    "acc = history.history['accuracy']\n",
    "loss = history.history['loss']\n",
    "val_acc = history.history['val_accuracy']\n",
    "val_loss = history.history['val_loss']\n",
    "epochs = range(len(acc))\n",
    "plt.plot(epochs, acc, 'r', label = 'Training accuracy')\n",
    "plt.plot(epochs, val_acc, 'b', label = 'Validating accuracy')\n",
    "plt.title('Training and Validating Accuracy')\n",
    "#plt.title('Training Accuracy')\n",
    "plt.legend()\n",
    "plt.show()"
   ]
  },
  {
   "cell_type": "code",
   "execution_count": 8,
   "metadata": {},
   "outputs": [
    {
     "name": "stdout",
     "output_type": "stream",
     "text": [
      "5000/1 - 0s - loss: 0.0630 - accuracy: 0.9720\n"
     ]
    },
    {
     "data": {
      "text/plain": [
       "[0.04715186712741852, 0.9720002]"
      ]
     },
     "execution_count": 8,
     "metadata": {},
     "output_type": "execute_result"
    }
   ],
   "source": [
    "#model.evaluate(x_test, y_test, verbose = 2)"
   ]
  },
  {
   "cell_type": "code",
   "execution_count": 12,
   "metadata": {},
   "outputs": [],
   "source": [
    "model.save('C:\\\\Users\\\\Wilfred\\\\Desktop\\\\weights\\\\Look_ahead_N\\\\Look_ahead_N_4_6_9_2_model.h5')"
   ]
  },
  {
   "cell_type": "code",
   "execution_count": null,
   "metadata": {},
   "outputs": [],
   "source": []
  }
 ],
 "metadata": {
  "kernelspec": {
   "display_name": "Python 3",
   "language": "python",
   "name": "python3"
  },
  "language_info": {
   "codemirror_mode": {
    "name": "ipython",
    "version": 3
   },
   "file_extension": ".py",
   "mimetype": "text/x-python",
   "name": "python",
   "nbconvert_exporter": "python",
   "pygments_lexer": "ipython3",
   "version": "3.7.5"
  }
 },
 "nbformat": 4,
 "nbformat_minor": 2
}
