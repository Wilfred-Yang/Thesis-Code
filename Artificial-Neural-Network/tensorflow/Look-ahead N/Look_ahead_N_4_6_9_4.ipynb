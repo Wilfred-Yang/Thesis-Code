{
 "cells": [
  {
   "cell_type": "code",
   "execution_count": 1,
   "metadata": {},
   "outputs": [],
   "source": [
    "import tensorflow as tf\n",
    "import numpy as np\n",
    "import pickle\n",
    "np.random.seed(7)"
   ]
  },
  {
   "cell_type": "code",
   "execution_count": 2,
   "metadata": {},
   "outputs": [
    {
     "name": "stdout",
     "output_type": "stream",
     "text": [
      "(105000, 24)\n"
     ]
    }
   ],
   "source": [
    "with open ('C:\\\\Users\\\\Wilfred\\\\Desktop\\\\Look-ahead-N\\\\input_layer_4_6_9_4.pickle','rb') as file:\n",
    "    input_data = pickle.load(file)\n",
    "permutation = list(np.random.permutation(input_data.shape[0]))\n",
    "input_data = input_data[permutation,:]\n",
    "print(input_data.shape)\n",
    "x_train = input_data[:100000, :]\n",
    "x_test = input_data[100000:105000, :]\n"
   ]
  },
  {
   "cell_type": "code",
   "execution_count": 3,
   "metadata": {},
   "outputs": [
    {
     "name": "stdout",
     "output_type": "stream",
     "text": [
      "(105000, 12)\n"
     ]
    }
   ],
   "source": [
    "with open ('C:\\\\Users\\\\Wilfred\\\\Desktop\\\\Look-ahead-N\\\\output_layer_4_6_9_4.pickle','rb') as file:\n",
    "    output_data = pickle.load(file)\n",
    "output_data = np.transpose(output_data)\n",
    "output_data = output_data[permutation,:]\n",
    "y_train = output_data[:100000, :]\n",
    "y_test = output_data[100000:105000, :]\n",
    "print(output_data.shape)"
   ]
  },
  {
   "cell_type": "code",
   "execution_count": 4,
   "metadata": {},
   "outputs": [
    {
     "name": "stdout",
     "output_type": "stream",
     "text": [
      "Train on 100000 samples, validate on 5000 samples\n",
      "Epoch 1/100\n",
      "100000/100000 - 2s - loss: 0.2657 - accuracy: 0.8938 - val_loss: 0.2296 - val_accuracy: 0.9053\n",
      "Epoch 2/100\n",
      "100000/100000 - 1s - loss: 0.2040 - accuracy: 0.9124 - val_loss: 0.1786 - val_accuracy: 0.9196\n",
      "Epoch 3/100\n",
      "100000/100000 - 1s - loss: 0.1579 - accuracy: 0.9283 - val_loss: 0.1414 - val_accuracy: 0.9371\n",
      "Epoch 4/100\n",
      "100000/100000 - 1s - loss: 0.1275 - accuracy: 0.9427 - val_loss: 0.1197 - val_accuracy: 0.9473\n",
      "Epoch 5/100\n",
      "100000/100000 - 1s - loss: 0.1100 - accuracy: 0.9518 - val_loss: 0.1043 - val_accuracy: 0.9553\n",
      "Epoch 6/100\n",
      "100000/100000 - 1s - loss: 0.0955 - accuracy: 0.9591 - val_loss: 0.0952 - val_accuracy: 0.9586\n",
      "Epoch 7/100\n",
      "100000/100000 - 1s - loss: 0.0840 - accuracy: 0.9646 - val_loss: 0.0844 - val_accuracy: 0.9641\n",
      "Epoch 8/100\n",
      "100000/100000 - 1s - loss: 0.0760 - accuracy: 0.9685 - val_loss: 0.0766 - val_accuracy: 0.9681\n",
      "Epoch 9/100\n",
      "100000/100000 - 1s - loss: 0.0676 - accuracy: 0.9723 - val_loss: 0.0698 - val_accuracy: 0.9717\n",
      "Epoch 10/100\n",
      "100000/100000 - 1s - loss: 0.0598 - accuracy: 0.9759 - val_loss: 0.0642 - val_accuracy: 0.9733\n",
      "Epoch 11/100\n",
      "100000/100000 - 1s - loss: 0.0548 - accuracy: 0.9781 - val_loss: 0.0581 - val_accuracy: 0.9761\n",
      "Epoch 12/100\n",
      "100000/100000 - 1s - loss: 0.0502 - accuracy: 0.9799 - val_loss: 0.0589 - val_accuracy: 0.9757\n",
      "Epoch 13/100\n",
      "100000/100000 - 1s - loss: 0.0459 - accuracy: 0.9816 - val_loss: 0.0496 - val_accuracy: 0.9801\n",
      "Epoch 14/100\n",
      "100000/100000 - 1s - loss: 0.0423 - accuracy: 0.9831 - val_loss: 0.0480 - val_accuracy: 0.9812\n",
      "Epoch 15/100\n",
      "100000/100000 - 1s - loss: 0.0388 - accuracy: 0.9847 - val_loss: 0.0435 - val_accuracy: 0.9833\n",
      "Epoch 16/100\n",
      "100000/100000 - 1s - loss: 0.0362 - accuracy: 0.9857 - val_loss: 0.0424 - val_accuracy: 0.9833\n",
      "Epoch 17/100\n",
      "100000/100000 - 1s - loss: 0.0343 - accuracy: 0.9865 - val_loss: 0.0383 - val_accuracy: 0.9851\n",
      "Epoch 18/100\n",
      "100000/100000 - 1s - loss: 0.0311 - accuracy: 0.9877 - val_loss: 0.0387 - val_accuracy: 0.9854\n",
      "Epoch 19/100\n",
      "100000/100000 - 1s - loss: 0.0296 - accuracy: 0.9883 - val_loss: 0.0365 - val_accuracy: 0.9858\n",
      "Epoch 20/100\n",
      "100000/100000 - 1s - loss: 0.0286 - accuracy: 0.9888 - val_loss: 0.0341 - val_accuracy: 0.9869\n",
      "Epoch 21/100\n",
      "100000/100000 - 1s - loss: 0.0264 - accuracy: 0.9897 - val_loss: 0.0357 - val_accuracy: 0.9863\n",
      "Epoch 22/100\n",
      "100000/100000 - 1s - loss: 0.0260 - accuracy: 0.9898 - val_loss: 0.0369 - val_accuracy: 0.9866\n",
      "Epoch 23/100\n",
      "100000/100000 - 1s - loss: 0.0245 - accuracy: 0.9905 - val_loss: 0.0330 - val_accuracy: 0.9870\n",
      "Epoch 24/100\n",
      "100000/100000 - 2s - loss: 0.0223 - accuracy: 0.9913 - val_loss: 0.0305 - val_accuracy: 0.9884\n",
      "Epoch 25/100\n",
      "100000/100000 - 2s - loss: 0.0227 - accuracy: 0.9911 - val_loss: 0.0339 - val_accuracy: 0.9868\n",
      "Epoch 26/100\n",
      "100000/100000 - 2s - loss: 0.0209 - accuracy: 0.9919 - val_loss: 0.0302 - val_accuracy: 0.9886\n",
      "Epoch 27/100\n",
      "100000/100000 - 2s - loss: 0.0196 - accuracy: 0.9924 - val_loss: 0.0287 - val_accuracy: 0.9892\n",
      "Epoch 28/100\n",
      "100000/100000 - 2s - loss: 0.0188 - accuracy: 0.9926 - val_loss: 0.0270 - val_accuracy: 0.9900\n",
      "Epoch 29/100\n",
      "100000/100000 - 1s - loss: 0.0184 - accuracy: 0.9928 - val_loss: 0.0262 - val_accuracy: 0.9902\n",
      "Epoch 30/100\n",
      "100000/100000 - 1s - loss: 0.0174 - accuracy: 0.9932 - val_loss: 0.0265 - val_accuracy: 0.9903\n",
      "Epoch 31/100\n",
      "100000/100000 - 2s - loss: 0.0172 - accuracy: 0.9933 - val_loss: 0.0290 - val_accuracy: 0.9902\n",
      "Epoch 32/100\n",
      "100000/100000 - 2s - loss: 0.0157 - accuracy: 0.9939 - val_loss: 0.0264 - val_accuracy: 0.9903\n",
      "Epoch 33/100\n",
      "100000/100000 - 2s - loss: 0.0159 - accuracy: 0.9939 - val_loss: 0.0280 - val_accuracy: 0.9896\n",
      "Epoch 34/100\n",
      "100000/100000 - 1s - loss: 0.0157 - accuracy: 0.9940 - val_loss: 0.0232 - val_accuracy: 0.9918\n",
      "Epoch 35/100\n",
      "100000/100000 - 1s - loss: 0.0154 - accuracy: 0.9941 - val_loss: 0.0260 - val_accuracy: 0.9909\n",
      "Epoch 36/100\n",
      "100000/100000 - 1s - loss: 0.0140 - accuracy: 0.9946 - val_loss: 0.0248 - val_accuracy: 0.9910\n",
      "Epoch 37/100\n",
      "100000/100000 - 1s - loss: 0.0140 - accuracy: 0.9946 - val_loss: 0.0239 - val_accuracy: 0.9913\n",
      "Epoch 38/100\n",
      "100000/100000 - 1s - loss: 0.0135 - accuracy: 0.9948 - val_loss: 0.0241 - val_accuracy: 0.9913\n",
      "Epoch 39/100\n",
      "100000/100000 - 2s - loss: 0.0131 - accuracy: 0.9950 - val_loss: 0.0238 - val_accuracy: 0.9917\n",
      "Epoch 40/100\n",
      "100000/100000 - 1s - loss: 0.0129 - accuracy: 0.9950 - val_loss: 0.0248 - val_accuracy: 0.9913\n",
      "Epoch 41/100\n",
      "100000/100000 - 1s - loss: 0.0125 - accuracy: 0.9952 - val_loss: 0.0268 - val_accuracy: 0.9907\n",
      "Epoch 42/100\n",
      "100000/100000 - 1s - loss: 0.0128 - accuracy: 0.9952 - val_loss: 0.0223 - val_accuracy: 0.9915\n",
      "Epoch 43/100\n",
      "100000/100000 - 1s - loss: 0.0133 - accuracy: 0.9949 - val_loss: 0.0236 - val_accuracy: 0.9918\n",
      "Epoch 44/100\n",
      "100000/100000 - 1s - loss: 0.0123 - accuracy: 0.9954 - val_loss: 0.0219 - val_accuracy: 0.9924\n",
      "Epoch 45/100\n",
      "100000/100000 - 2s - loss: 0.0109 - accuracy: 0.9959 - val_loss: 0.0232 - val_accuracy: 0.9920\n",
      "Epoch 46/100\n",
      "100000/100000 - 2s - loss: 0.0130 - accuracy: 0.9952 - val_loss: 0.0243 - val_accuracy: 0.9917\n",
      "Epoch 47/100\n",
      "100000/100000 - 1s - loss: 0.0117 - accuracy: 0.9955 - val_loss: 0.0252 - val_accuracy: 0.9918\n",
      "Epoch 48/100\n",
      "100000/100000 - 2s - loss: 0.0109 - accuracy: 0.9959 - val_loss: 0.0223 - val_accuracy: 0.9922\n",
      "Epoch 49/100\n",
      "100000/100000 - 1s - loss: 0.0092 - accuracy: 0.9965 - val_loss: 0.0236 - val_accuracy: 0.9926\n",
      "Epoch 50/100\n",
      "100000/100000 - 1s - loss: 0.0089 - accuracy: 0.9966 - val_loss: 0.0232 - val_accuracy: 0.9923\n",
      "Epoch 51/100\n",
      "100000/100000 - 1s - loss: 0.0112 - accuracy: 0.9958 - val_loss: 0.0278 - val_accuracy: 0.9909\n",
      "Epoch 52/100\n",
      "100000/100000 - 1s - loss: 0.0118 - accuracy: 0.9957 - val_loss: 0.0242 - val_accuracy: 0.9921\n",
      "Epoch 53/100\n",
      "100000/100000 - 1s - loss: 0.0104 - accuracy: 0.9962 - val_loss: 0.0232 - val_accuracy: 0.9923\n",
      "Epoch 54/100\n",
      "100000/100000 - 1s - loss: 0.0106 - accuracy: 0.9961 - val_loss: 0.0204 - val_accuracy: 0.9931\n",
      "Epoch 55/100\n",
      "100000/100000 - 1s - loss: 0.0105 - accuracy: 0.9962 - val_loss: 0.0298 - val_accuracy: 0.9909\n",
      "Epoch 56/100\n",
      "100000/100000 - 1s - loss: 0.0106 - accuracy: 0.9960 - val_loss: 0.0233 - val_accuracy: 0.9923\n",
      "Epoch 57/100\n",
      "100000/100000 - 1s - loss: 0.0084 - accuracy: 0.9969 - val_loss: 0.0220 - val_accuracy: 0.9930\n",
      "Epoch 58/100\n",
      "100000/100000 - 1s - loss: 0.0082 - accuracy: 0.9970 - val_loss: 0.0216 - val_accuracy: 0.9927\n",
      "Epoch 59/100\n",
      "100000/100000 - 1s - loss: 0.0079 - accuracy: 0.9971 - val_loss: 0.0232 - val_accuracy: 0.9927\n",
      "Epoch 60/100\n",
      "100000/100000 - 1s - loss: 0.0091 - accuracy: 0.9966 - val_loss: 0.0251 - val_accuracy: 0.9921\n",
      "Epoch 61/100\n",
      "100000/100000 - 1s - loss: 0.0120 - accuracy: 0.9958 - val_loss: 0.0260 - val_accuracy: 0.9914\n",
      "Epoch 62/100\n",
      "100000/100000 - 1s - loss: 0.0102 - accuracy: 0.9963 - val_loss: 0.0258 - val_accuracy: 0.9922\n",
      "Epoch 63/100\n",
      "100000/100000 - 1s - loss: 0.0079 - accuracy: 0.9970 - val_loss: 0.0228 - val_accuracy: 0.9930\n",
      "Epoch 64/100\n",
      "100000/100000 - 1s - loss: 0.0090 - accuracy: 0.9967 - val_loss: 0.0244 - val_accuracy: 0.9927\n",
      "Epoch 65/100\n",
      "100000/100000 - 1s - loss: 0.0088 - accuracy: 0.9968 - val_loss: 0.0223 - val_accuracy: 0.9932\n",
      "Epoch 66/100\n",
      "100000/100000 - 1s - loss: 0.0083 - accuracy: 0.9970 - val_loss: 0.0222 - val_accuracy: 0.9930\n",
      "Epoch 67/100\n",
      "100000/100000 - 1s - loss: 0.0076 - accuracy: 0.9972 - val_loss: 0.0212 - val_accuracy: 0.9937\n",
      "Epoch 68/100\n",
      "100000/100000 - 2s - loss: 0.0073 - accuracy: 0.9973 - val_loss: 0.0205 - val_accuracy: 0.9933\n",
      "Epoch 69/100\n",
      "100000/100000 - 2s - loss: 0.0079 - accuracy: 0.9972 - val_loss: 0.0243 - val_accuracy: 0.9930\n",
      "Epoch 70/100\n",
      "100000/100000 - 1s - loss: 0.0089 - accuracy: 0.9968 - val_loss: 0.0247 - val_accuracy: 0.9925\n",
      "Epoch 71/100\n",
      "100000/100000 - 1s - loss: 0.0089 - accuracy: 0.9968 - val_loss: 0.0270 - val_accuracy: 0.9924\n",
      "Epoch 72/100\n",
      "100000/100000 - 1s - loss: 0.0083 - accuracy: 0.9971 - val_loss: 0.0205 - val_accuracy: 0.9935\n",
      "Epoch 73/100\n",
      "100000/100000 - 1s - loss: 0.0068 - accuracy: 0.9975 - val_loss: 0.0263 - val_accuracy: 0.9925\n",
      "Epoch 74/100\n",
      "100000/100000 - 1s - loss: 0.0077 - accuracy: 0.9973 - val_loss: 0.0263 - val_accuracy: 0.9921\n",
      "Epoch 75/100\n",
      "100000/100000 - 1s - loss: 0.0075 - accuracy: 0.9973 - val_loss: 0.0236 - val_accuracy: 0.9930\n",
      "Epoch 76/100\n",
      "100000/100000 - 2s - loss: 0.0093 - accuracy: 0.9967 - val_loss: 0.0305 - val_accuracy: 0.9919\n"
     ]
    },
    {
     "name": "stdout",
     "output_type": "stream",
     "text": [
      "Epoch 77/100\n",
      "100000/100000 - 1s - loss: 0.0093 - accuracy: 0.9967 - val_loss: 0.0236 - val_accuracy: 0.9932\n",
      "Epoch 78/100\n",
      "100000/100000 - 1s - loss: 0.0069 - accuracy: 0.9976 - val_loss: 0.0215 - val_accuracy: 0.9936\n",
      "Epoch 79/100\n",
      "100000/100000 - 1s - loss: 0.0055 - accuracy: 0.9981 - val_loss: 0.0200 - val_accuracy: 0.9941\n",
      "Epoch 80/100\n",
      "100000/100000 - 1s - loss: 0.0054 - accuracy: 0.9981 - val_loss: 0.0211 - val_accuracy: 0.9936\n",
      "Epoch 81/100\n",
      "100000/100000 - 1s - loss: 0.0059 - accuracy: 0.9979 - val_loss: 0.0253 - val_accuracy: 0.9925\n",
      "Epoch 82/100\n",
      "100000/100000 - 1s - loss: 0.0089 - accuracy: 0.9969 - val_loss: 0.0260 - val_accuracy: 0.9928\n",
      "Epoch 83/100\n",
      "100000/100000 - 1s - loss: 0.0104 - accuracy: 0.9966 - val_loss: 0.0295 - val_accuracy: 0.9921\n",
      "Epoch 84/100\n",
      "100000/100000 - 1s - loss: 0.0081 - accuracy: 0.9972 - val_loss: 0.0241 - val_accuracy: 0.9928\n",
      "Epoch 85/100\n",
      "100000/100000 - 1s - loss: 0.0071 - accuracy: 0.9975 - val_loss: 0.0214 - val_accuracy: 0.9938\n",
      "Epoch 86/100\n",
      "100000/100000 - 1s - loss: 0.0047 - accuracy: 0.9983 - val_loss: 0.0226 - val_accuracy: 0.9939\n",
      "Epoch 87/100\n",
      "100000/100000 - 1s - loss: 0.0043 - accuracy: 0.9984 - val_loss: 0.0227 - val_accuracy: 0.9938\n",
      "Epoch 88/100\n",
      "100000/100000 - 1s - loss: 0.0061 - accuracy: 0.9979 - val_loss: 0.0238 - val_accuracy: 0.9935\n",
      "Epoch 89/100\n",
      "100000/100000 - 1s - loss: 0.0078 - accuracy: 0.9974 - val_loss: 0.0248 - val_accuracy: 0.9934\n",
      "Epoch 90/100\n",
      "100000/100000 - 1s - loss: 0.0084 - accuracy: 0.9972 - val_loss: 0.0260 - val_accuracy: 0.9930\n",
      "Epoch 91/100\n",
      "100000/100000 - 1s - loss: 0.0075 - accuracy: 0.9974 - val_loss: 0.0228 - val_accuracy: 0.9941\n",
      "Epoch 92/100\n",
      "100000/100000 - 1s - loss: 0.0053 - accuracy: 0.9981 - val_loss: 0.0192 - val_accuracy: 0.9944\n",
      "Epoch 93/100\n",
      "100000/100000 - 1s - loss: 0.0051 - accuracy: 0.9982 - val_loss: 0.0196 - val_accuracy: 0.9944\n",
      "Epoch 94/100\n",
      "100000/100000 - 1s - loss: 0.0079 - accuracy: 0.9974 - val_loss: 0.0300 - val_accuracy: 0.9922\n",
      "Epoch 95/100\n",
      "100000/100000 - 1s - loss: 0.0102 - accuracy: 0.9967 - val_loss: 0.0324 - val_accuracy: 0.9924\n",
      "Epoch 96/100\n",
      "100000/100000 - 1s - loss: 0.0092 - accuracy: 0.9969 - val_loss: 0.0241 - val_accuracy: 0.9939\n",
      "Epoch 97/100\n",
      "100000/100000 - 1s - loss: 0.0037 - accuracy: 0.9987 - val_loss: 0.0194 - val_accuracy: 0.9948\n",
      "Epoch 98/100\n",
      "100000/100000 - 1s - loss: 0.0029 - accuracy: 0.9990 - val_loss: 0.0203 - val_accuracy: 0.9944\n",
      "Epoch 99/100\n",
      "100000/100000 - 1s - loss: 0.0037 - accuracy: 0.9987 - val_loss: 0.0223 - val_accuracy: 0.9944\n",
      "Epoch 100/100\n",
      "100000/100000 - 2s - loss: 0.0059 - accuracy: 0.9980 - val_loss: 0.0318 - val_accuracy: 0.9930\n"
     ]
    }
   ],
   "source": [
    "model = tf.keras.models.Sequential([\n",
    "    tf.keras.layers.Dense(150, input_shape = [24], activation = 'relu'),\n",
    "    tf.keras.layers.Dense(150, activation = 'relu'),\n",
    "    tf.keras.layers.Dense(150, activation = 'relu'),\n",
    "    tf.keras.layers.Dense(12, activation = 'sigmoid')\n",
    "])\n",
    "adam = tf.keras.optimizers.Adam(lr = 0.005)\n",
    "model.compile(optimizer = adam, loss = 'binary_crossentropy', metrics = ['accuracy'])\n",
    "\n",
    "history = model.fit(x_train, y_train, batch_size = 1024, epochs = 100, verbose = 2, validation_data = (x_test, y_test))\n"
   ]
  },
  {
   "cell_type": "code",
   "execution_count": 6,
   "metadata": {},
   "outputs": [
    {
     "data": {
      "image/png": "[encoded data removed]",
      "text/plain": [
       "<Figure size 432x288 with 1 Axes>"
      ]
     },
     "metadata": {
      "needs_background": "light"
     },
     "output_type": "display_data"
    }
   ],
   "source": [
    "import matplotlib.pyplot as plt\n",
    "plt.figure()\n",
    "acc = history.history['accuracy']\n",
    "loss = history.history['loss']\n",
    "val_acc = history.history['val_accuracy']\n",
    "val_loss = history.history['val_loss']\n",
    "epochs = range(len(acc))\n",
    "plt.plot(epochs, acc, 'r', label = 'Training accuracy')\n",
    "plt.plot(epochs, val_acc, 'b', label = 'Validating accuracy')\n",
    "plt.title('Training and Validating Accuracy')\n",
    "#plt.title('Training Accuracy')\n",
    "plt.legend()\n",
    "plt.show()"
   ]
  },
  {
   "cell_type": "code",
   "execution_count": 8,
   "metadata": {},
   "outputs": [
    {
     "name": "stdout",
     "output_type": "stream",
     "text": [
      "5000/1 - 0s - loss: 0.0630 - accuracy: 0.9720\n"
     ]
    },
    {
     "data": {
      "text/plain": [
       "[0.04715186712741852, 0.9720002]"
      ]
     },
     "execution_count": 8,
     "metadata": {},
     "output_type": "execute_result"
    }
   ],
   "source": [
    "#model.evaluate(x_test, y_test, verbose = 2)"
   ]
  },
  {
   "cell_type": "code",
   "execution_count": 7,
   "metadata": {},
   "outputs": [],
   "source": [
    "model.save('C:\\\\Users\\\\Wilfred\\\\Desktop\\\\weights\\\\Look_ahead_N\\\\Look_ahead_N_4_6_9_4_model.h5')"
   ]
  },
  {
   "cell_type": "code",
   "execution_count": null,
   "metadata": {},
   "outputs": [],
   "source": []
  }
 ],
 "metadata": {
  "kernelspec": {
   "display_name": "Python 3",
   "language": "python",
   "name": "python3"
  },
  "language_info": {
   "codemirror_mode": {
    "name": "ipython",
    "version": 3
   },
   "file_extension": ".py",
   "mimetype": "text/x-python",
   "name": "python",
   "nbconvert_exporter": "python",
   "pygments_lexer": "ipython3",
   "version": "3.7.5"
  }
 },
 "nbformat": 4,
 "nbformat_minor": 2
}
