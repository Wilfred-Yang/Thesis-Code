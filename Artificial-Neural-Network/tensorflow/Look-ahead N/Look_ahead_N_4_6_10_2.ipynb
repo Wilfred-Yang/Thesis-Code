{
 "cells": [
  {
   "cell_type": "code",
   "execution_count": 8,
   "metadata": {},
   "outputs": [],
   "source": [
    "import tensorflow as tf\n",
    "import numpy as np\n",
    "import pickle\n",
    "np.random.seed(7)"
   ]
  },
  {
   "cell_type": "code",
   "execution_count": 9,
   "metadata": {},
   "outputs": [
    {
     "name": "stdout",
     "output_type": "stream",
     "text": [
      "(105000, 24)\n"
     ]
    }
   ],
   "source": [
    "with open ('C:\\\\Users\\\\Wilfred\\\\Desktop\\\\Look-ahead-N\\\\input_layer_4_6_10_2.pickle','rb') as file:\n",
    "    input_data = pickle.load(file)\n",
    "permutation = list(np.random.permutation(input_data.shape[0]))\n",
    "input_data = input_data[permutation,:]\n",
    "print(input_data.shape)\n",
    "x_train = input_data[:100000, :]\n",
    "x_test = input_data[100000:105000, :]\n"
   ]
  },
  {
   "cell_type": "code",
   "execution_count": 10,
   "metadata": {},
   "outputs": [
    {
     "name": "stdout",
     "output_type": "stream",
     "text": [
      "(105000, 12)\n"
     ]
    }
   ],
   "source": [
    "with open ('C:\\\\Users\\\\Wilfred\\\\Desktop\\\\Look-ahead-N\\\\output_layer_4_6_10_2.pickle','rb') as file:\n",
    "    output_data = pickle.load(file)\n",
    "output_data = np.transpose(output_data)\n",
    "output_data = output_data[permutation,:]\n",
    "y_train = output_data[:100000, :]\n",
    "y_test = output_data[100000:105000, :]\n",
    "print(output_data.shape)"
   ]
  },
  {
   "cell_type": "code",
   "execution_count": 11,
   "metadata": {},
   "outputs": [
    {
     "name": "stdout",
     "output_type": "stream",
     "text": [
      "Train on 100000 samples, validate on 5000 samples\n",
      "Epoch 1/100\n",
      "100000/100000 - 2s - loss: 0.3470 - accuracy: 0.8575 - val_loss: 0.2815 - val_accuracy: 0.8826\n",
      "Epoch 2/100\n",
      "100000/100000 - 1s - loss: 0.2630 - accuracy: 0.8885 - val_loss: 0.2520 - val_accuracy: 0.8912\n",
      "Epoch 3/100\n",
      "100000/100000 - 1s - loss: 0.2381 - accuracy: 0.8969 - val_loss: 0.2376 - val_accuracy: 0.8975\n",
      "Epoch 4/100\n",
      "100000/100000 - 1s - loss: 0.2187 - accuracy: 0.9051 - val_loss: 0.2117 - val_accuracy: 0.9081\n",
      "Epoch 5/100\n",
      "100000/100000 - 1s - loss: 0.1994 - accuracy: 0.9126 - val_loss: 0.1948 - val_accuracy: 0.9138\n",
      "Epoch 6/100\n",
      "100000/100000 - 1s - loss: 0.1822 - accuracy: 0.9186 - val_loss: 0.1795 - val_accuracy: 0.9192\n",
      "Epoch 7/100\n",
      "100000/100000 - 1s - loss: 0.1665 - accuracy: 0.9240 - val_loss: 0.1641 - val_accuracy: 0.9238\n",
      "Epoch 8/100\n",
      "100000/100000 - 1s - loss: 0.1542 - accuracy: 0.9285 - val_loss: 0.1584 - val_accuracy: 0.9263\n",
      "Epoch 9/100\n",
      "100000/100000 - 1s - loss: 0.1464 - accuracy: 0.9318 - val_loss: 0.1494 - val_accuracy: 0.9304\n",
      "Epoch 10/100\n",
      "100000/100000 - 1s - loss: 0.1378 - accuracy: 0.9359 - val_loss: 0.1424 - val_accuracy: 0.9329\n",
      "Epoch 11/100\n",
      "100000/100000 - 1s - loss: 0.1316 - accuracy: 0.9387 - val_loss: 0.1343 - val_accuracy: 0.9362\n",
      "Epoch 12/100\n",
      "100000/100000 - 1s - loss: 0.1249 - accuracy: 0.9421 - val_loss: 0.1323 - val_accuracy: 0.9390\n",
      "Epoch 13/100\n",
      "100000/100000 - 1s - loss: 0.1206 - accuracy: 0.9443 - val_loss: 0.1295 - val_accuracy: 0.9404\n",
      "Epoch 14/100\n",
      "100000/100000 - 1s - loss: 0.1164 - accuracy: 0.9465 - val_loss: 0.1232 - val_accuracy: 0.9441\n",
      "Epoch 15/100\n",
      "100000/100000 - 1s - loss: 0.1106 - accuracy: 0.9497 - val_loss: 0.1194 - val_accuracy: 0.9458\n",
      "Epoch 16/100\n",
      "100000/100000 - 1s - loss: 0.1063 - accuracy: 0.9520 - val_loss: 0.1154 - val_accuracy: 0.9472\n",
      "Epoch 17/100\n",
      "100000/100000 - 1s - loss: 0.1027 - accuracy: 0.9541 - val_loss: 0.1117 - val_accuracy: 0.9492\n",
      "Epoch 18/100\n",
      "100000/100000 - 1s - loss: 0.0991 - accuracy: 0.9561 - val_loss: 0.1082 - val_accuracy: 0.9515\n",
      "Epoch 19/100\n",
      "100000/100000 - 1s - loss: 0.0962 - accuracy: 0.9577 - val_loss: 0.1126 - val_accuracy: 0.9496\n",
      "Epoch 20/100\n",
      "100000/100000 - 1s - loss: 0.0936 - accuracy: 0.9591 - val_loss: 0.1045 - val_accuracy: 0.9544\n",
      "Epoch 21/100\n",
      "100000/100000 - 1s - loss: 0.0906 - accuracy: 0.9605 - val_loss: 0.1018 - val_accuracy: 0.9558\n",
      "Epoch 22/100\n",
      "100000/100000 - 1s - loss: 0.0869 - accuracy: 0.9624 - val_loss: 0.0980 - val_accuracy: 0.9573\n",
      "Epoch 23/100\n",
      "100000/100000 - 1s - loss: 0.0839 - accuracy: 0.9638 - val_loss: 0.0966 - val_accuracy: 0.9591\n",
      "Epoch 24/100\n",
      "100000/100000 - 1s - loss: 0.0809 - accuracy: 0.9654 - val_loss: 0.0942 - val_accuracy: 0.9588\n",
      "Epoch 25/100\n",
      "100000/100000 - 2s - loss: 0.0785 - accuracy: 0.9664 - val_loss: 0.0887 - val_accuracy: 0.9626\n",
      "Epoch 26/100\n",
      "100000/100000 - 1s - loss: 0.0759 - accuracy: 0.9678 - val_loss: 0.0910 - val_accuracy: 0.9618\n",
      "Epoch 27/100\n",
      "100000/100000 - 1s - loss: 0.0737 - accuracy: 0.9690 - val_loss: 0.0908 - val_accuracy: 0.9619\n",
      "Epoch 28/100\n",
      "100000/100000 - 1s - loss: 0.0724 - accuracy: 0.9695 - val_loss: 0.0882 - val_accuracy: 0.9637\n",
      "Epoch 29/100\n",
      "100000/100000 - 1s - loss: 0.0700 - accuracy: 0.9708 - val_loss: 0.0860 - val_accuracy: 0.9638\n",
      "Epoch 30/100\n",
      "100000/100000 - 1s - loss: 0.0694 - accuracy: 0.9710 - val_loss: 0.0864 - val_accuracy: 0.9634\n",
      "Epoch 31/100\n",
      "100000/100000 - 1s - loss: 0.0668 - accuracy: 0.9723 - val_loss: 0.0818 - val_accuracy: 0.9658\n",
      "Epoch 32/100\n",
      "100000/100000 - 1s - loss: 0.0653 - accuracy: 0.9729 - val_loss: 0.0819 - val_accuracy: 0.9659\n",
      "Epoch 33/100\n",
      "100000/100000 - 1s - loss: 0.0635 - accuracy: 0.9738 - val_loss: 0.0819 - val_accuracy: 0.9668\n",
      "Epoch 34/100\n",
      "100000/100000 - 2s - loss: 0.0623 - accuracy: 0.9745 - val_loss: 0.0788 - val_accuracy: 0.9679\n",
      "Epoch 35/100\n",
      "100000/100000 - 1s - loss: 0.0611 - accuracy: 0.9750 - val_loss: 0.0774 - val_accuracy: 0.9684\n",
      "Epoch 36/100\n",
      "100000/100000 - 1s - loss: 0.0590 - accuracy: 0.9758 - val_loss: 0.0784 - val_accuracy: 0.9688\n",
      "Epoch 37/100\n",
      "100000/100000 - 1s - loss: 0.0574 - accuracy: 0.9765 - val_loss: 0.0747 - val_accuracy: 0.9700\n",
      "Epoch 38/100\n",
      "100000/100000 - 1s - loss: 0.0571 - accuracy: 0.9767 - val_loss: 0.0741 - val_accuracy: 0.9695\n",
      "Epoch 39/100\n",
      "100000/100000 - 1s - loss: 0.0549 - accuracy: 0.9775 - val_loss: 0.0712 - val_accuracy: 0.9716\n",
      "Epoch 40/100\n",
      "100000/100000 - 1s - loss: 0.0532 - accuracy: 0.9784 - val_loss: 0.0753 - val_accuracy: 0.9699\n",
      "Epoch 41/100\n",
      "100000/100000 - 1s - loss: 0.0533 - accuracy: 0.9784 - val_loss: 0.0740 - val_accuracy: 0.9709\n",
      "Epoch 42/100\n",
      "100000/100000 - 1s - loss: 0.0531 - accuracy: 0.9784 - val_loss: 0.0763 - val_accuracy: 0.9698\n",
      "Epoch 43/100\n",
      "100000/100000 - 1s - loss: 0.0509 - accuracy: 0.9794 - val_loss: 0.0701 - val_accuracy: 0.9723\n",
      "Epoch 44/100\n",
      "100000/100000 - 1s - loss: 0.0490 - accuracy: 0.9803 - val_loss: 0.0708 - val_accuracy: 0.9724\n",
      "Epoch 45/100\n",
      "100000/100000 - 1s - loss: 0.0489 - accuracy: 0.9804 - val_loss: 0.0688 - val_accuracy: 0.9733\n",
      "Epoch 46/100\n",
      "100000/100000 - 1s - loss: 0.0475 - accuracy: 0.9809 - val_loss: 0.0665 - val_accuracy: 0.9743\n",
      "Epoch 47/100\n",
      "100000/100000 - 1s - loss: 0.0473 - accuracy: 0.9810 - val_loss: 0.0667 - val_accuracy: 0.9747\n",
      "Epoch 48/100\n",
      "100000/100000 - 2s - loss: 0.0452 - accuracy: 0.9819 - val_loss: 0.0655 - val_accuracy: 0.9749\n",
      "Epoch 49/100\n",
      "100000/100000 - 2s - loss: 0.0451 - accuracy: 0.9819 - val_loss: 0.0650 - val_accuracy: 0.9752\n",
      "Epoch 50/100\n",
      "100000/100000 - 2s - loss: 0.0441 - accuracy: 0.9823 - val_loss: 0.0644 - val_accuracy: 0.9757\n",
      "Epoch 51/100\n",
      "100000/100000 - 2s - loss: 0.0439 - accuracy: 0.9825 - val_loss: 0.0648 - val_accuracy: 0.9761\n",
      "Epoch 52/100\n",
      "100000/100000 - 2s - loss: 0.0431 - accuracy: 0.9828 - val_loss: 0.0699 - val_accuracy: 0.9733\n",
      "Epoch 53/100\n",
      "100000/100000 - 1s - loss: 0.0415 - accuracy: 0.9835 - val_loss: 0.0636 - val_accuracy: 0.9759\n",
      "Epoch 54/100\n",
      "100000/100000 - 1s - loss: 0.0406 - accuracy: 0.9839 - val_loss: 0.0632 - val_accuracy: 0.9762\n",
      "Epoch 55/100\n",
      "100000/100000 - 1s - loss: 0.0410 - accuracy: 0.9837 - val_loss: 0.0637 - val_accuracy: 0.9763\n",
      "Epoch 56/100\n",
      "100000/100000 - 1s - loss: 0.0396 - accuracy: 0.9844 - val_loss: 0.0665 - val_accuracy: 0.9759\n",
      "Epoch 57/100\n",
      "100000/100000 - 1s - loss: 0.0401 - accuracy: 0.9841 - val_loss: 0.0638 - val_accuracy: 0.9762\n",
      "Epoch 58/100\n",
      "100000/100000 - 1s - loss: 0.0388 - accuracy: 0.9846 - val_loss: 0.0629 - val_accuracy: 0.9771\n",
      "Epoch 59/100\n",
      "100000/100000 - 1s - loss: 0.0379 - accuracy: 0.9851 - val_loss: 0.0610 - val_accuracy: 0.9776\n",
      "Epoch 60/100\n",
      "100000/100000 - 1s - loss: 0.0374 - accuracy: 0.9852 - val_loss: 0.0584 - val_accuracy: 0.9789\n",
      "Epoch 61/100\n",
      "100000/100000 - 1s - loss: 0.0364 - accuracy: 0.9857 - val_loss: 0.0588 - val_accuracy: 0.9787\n",
      "Epoch 62/100\n",
      "100000/100000 - 1s - loss: 0.0356 - accuracy: 0.9859 - val_loss: 0.0604 - val_accuracy: 0.9778\n",
      "Epoch 63/100\n",
      "100000/100000 - 1s - loss: 0.0354 - accuracy: 0.9862 - val_loss: 0.0627 - val_accuracy: 0.9781\n",
      "Epoch 64/100\n",
      "100000/100000 - 1s - loss: 0.0361 - accuracy: 0.9858 - val_loss: 0.0596 - val_accuracy: 0.9784\n",
      "Epoch 65/100\n",
      "100000/100000 - 1s - loss: 0.0346 - accuracy: 0.9864 - val_loss: 0.0612 - val_accuracy: 0.9786\n",
      "Epoch 66/100\n",
      "100000/100000 - 1s - loss: 0.0349 - accuracy: 0.9865 - val_loss: 0.0593 - val_accuracy: 0.9788\n",
      "Epoch 67/100\n",
      "100000/100000 - 1s - loss: 0.0328 - accuracy: 0.9872 - val_loss: 0.0585 - val_accuracy: 0.9790\n",
      "Epoch 68/100\n",
      "100000/100000 - 1s - loss: 0.0334 - accuracy: 0.9869 - val_loss: 0.0609 - val_accuracy: 0.9790\n",
      "Epoch 69/100\n",
      "100000/100000 - 1s - loss: 0.0341 - accuracy: 0.9867 - val_loss: 0.0565 - val_accuracy: 0.9797\n",
      "Epoch 70/100\n",
      "100000/100000 - 1s - loss: 0.0322 - accuracy: 0.9875 - val_loss: 0.0602 - val_accuracy: 0.9796\n",
      "Epoch 71/100\n",
      "100000/100000 - 1s - loss: 0.0319 - accuracy: 0.9876 - val_loss: 0.0599 - val_accuracy: 0.9794\n",
      "Epoch 72/100\n",
      "100000/100000 - 1s - loss: 0.0309 - accuracy: 0.9879 - val_loss: 0.0585 - val_accuracy: 0.9797\n",
      "Epoch 73/100\n",
      "100000/100000 - 1s - loss: 0.0315 - accuracy: 0.9877 - val_loss: 0.0628 - val_accuracy: 0.9782\n",
      "Epoch 74/100\n",
      "100000/100000 - 1s - loss: 0.0315 - accuracy: 0.9877 - val_loss: 0.0581 - val_accuracy: 0.9798\n",
      "Epoch 75/100\n",
      "100000/100000 - 1s - loss: 0.0318 - accuracy: 0.9877 - val_loss: 0.0578 - val_accuracy: 0.9801\n",
      "Epoch 76/100\n",
      "100000/100000 - 1s - loss: 0.0309 - accuracy: 0.9881 - val_loss: 0.0578 - val_accuracy: 0.9803\n"
     ]
    },
    {
     "name": "stdout",
     "output_type": "stream",
     "text": [
      "Epoch 77/100\n",
      "100000/100000 - 1s - loss: 0.0310 - accuracy: 0.9880 - val_loss: 0.0556 - val_accuracy: 0.9808\n",
      "Epoch 78/100\n",
      "100000/100000 - 1s - loss: 0.0284 - accuracy: 0.9890 - val_loss: 0.0559 - val_accuracy: 0.9804\n",
      "Epoch 79/100\n",
      "100000/100000 - 1s - loss: 0.0283 - accuracy: 0.9891 - val_loss: 0.0565 - val_accuracy: 0.9803\n",
      "Epoch 80/100\n",
      "100000/100000 - 1s - loss: 0.0280 - accuracy: 0.9892 - val_loss: 0.0592 - val_accuracy: 0.9804\n",
      "Epoch 81/100\n",
      "100000/100000 - 1s - loss: 0.0302 - accuracy: 0.9884 - val_loss: 0.0584 - val_accuracy: 0.9803\n",
      "Epoch 82/100\n",
      "100000/100000 - 1s - loss: 0.0293 - accuracy: 0.9888 - val_loss: 0.0536 - val_accuracy: 0.9821\n",
      "Epoch 83/100\n",
      "100000/100000 - 1s - loss: 0.0276 - accuracy: 0.9893 - val_loss: 0.0613 - val_accuracy: 0.9800\n",
      "Epoch 84/100\n",
      "100000/100000 - 1s - loss: 0.0281 - accuracy: 0.9893 - val_loss: 0.0577 - val_accuracy: 0.9811\n",
      "Epoch 85/100\n",
      "100000/100000 - 1s - loss: 0.0287 - accuracy: 0.9891 - val_loss: 0.0545 - val_accuracy: 0.9817\n",
      "Epoch 86/100\n",
      "100000/100000 - 1s - loss: 0.0270 - accuracy: 0.9895 - val_loss: 0.0626 - val_accuracy: 0.9811\n",
      "Epoch 87/100\n",
      "100000/100000 - 1s - loss: 0.0266 - accuracy: 0.9899 - val_loss: 0.0524 - val_accuracy: 0.9827\n",
      "Epoch 88/100\n",
      "100000/100000 - 2s - loss: 0.0257 - accuracy: 0.9902 - val_loss: 0.0544 - val_accuracy: 0.9819\n",
      "Epoch 89/100\n",
      "100000/100000 - 1s - loss: 0.0261 - accuracy: 0.9900 - val_loss: 0.0547 - val_accuracy: 0.9815\n",
      "Epoch 90/100\n",
      "100000/100000 - 1s - loss: 0.0270 - accuracy: 0.9897 - val_loss: 0.0547 - val_accuracy: 0.9826\n",
      "Epoch 91/100\n",
      "100000/100000 - 1s - loss: 0.0259 - accuracy: 0.9902 - val_loss: 0.0607 - val_accuracy: 0.9812\n",
      "Epoch 92/100\n",
      "100000/100000 - 1s - loss: 0.0265 - accuracy: 0.9899 - val_loss: 0.0543 - val_accuracy: 0.9830\n",
      "Epoch 93/100\n",
      "100000/100000 - 1s - loss: 0.0246 - accuracy: 0.9907 - val_loss: 0.0530 - val_accuracy: 0.9833\n",
      "Epoch 94/100\n",
      "100000/100000 - 1s - loss: 0.0255 - accuracy: 0.9903 - val_loss: 0.0569 - val_accuracy: 0.9830\n",
      "Epoch 95/100\n",
      "100000/100000 - 1s - loss: 0.0247 - accuracy: 0.9905 - val_loss: 0.0525 - val_accuracy: 0.9834\n",
      "Epoch 96/100\n",
      "100000/100000 - 1s - loss: 0.0244 - accuracy: 0.9907 - val_loss: 0.0556 - val_accuracy: 0.9822\n",
      "Epoch 97/100\n",
      "100000/100000 - 1s - loss: 0.0237 - accuracy: 0.9909 - val_loss: 0.0550 - val_accuracy: 0.9833\n",
      "Epoch 98/100\n",
      "100000/100000 - 1s - loss: 0.0244 - accuracy: 0.9909 - val_loss: 0.0526 - val_accuracy: 0.9837\n",
      "Epoch 99/100\n",
      "100000/100000 - 1s - loss: 0.0242 - accuracy: 0.9909 - val_loss: 0.0531 - val_accuracy: 0.9836\n",
      "Epoch 100/100\n",
      "100000/100000 - 1s - loss: 0.0245 - accuracy: 0.9908 - val_loss: 0.0563 - val_accuracy: 0.9833\n"
     ]
    }
   ],
   "source": [
    "model = tf.keras.models.Sequential([\n",
    "    tf.keras.layers.Dense(150, input_shape = [24], activation = 'relu'),\n",
    "    tf.keras.layers.Dense(150, activation = 'relu'),\n",
    "    tf.keras.layers.Dense(150, activation = 'relu'),\n",
    "    tf.keras.layers.Dense(12, activation = 'sigmoid')\n",
    "])\n",
    "adam = tf.keras.optimizers.Adam(lr = 0.005)\n",
    "model.compile(optimizer = adam, loss = 'binary_crossentropy', metrics = ['accuracy'])\n",
    "\n",
    "history = model.fit(x_train, y_train, batch_size = 1024, epochs = 100, verbose = 2, validation_data = (x_test, y_test))\n"
   ]
  },
  {
   "cell_type": "code",
   "execution_count": 12,
   "metadata": {},
   "outputs": [
    {
     "data": {
      "image/png": "[encoded data removed]",
      "text/plain": [
       "<Figure size 432x288 with 1 Axes>"
      ]
     },
     "metadata": {
      "needs_background": "light"
     },
     "output_type": "display_data"
    }
   ],
   "source": [
    "import matplotlib.pyplot as plt\n",
    "plt.figure()\n",
    "acc = history.history['accuracy']\n",
    "loss = history.history['loss']\n",
    "val_acc = history.history['val_accuracy']\n",
    "val_loss = history.history['val_loss']\n",
    "epochs = range(len(acc))\n",
    "plt.plot(epochs, acc, 'r', label = 'Training accuracy')\n",
    "plt.plot(epochs, val_acc, 'b', label = 'Validating accuracy')\n",
    "plt.title('Training and Validating Accuracy')\n",
    "#plt.title('Training Accuracy')\n",
    "plt.legend()\n",
    "plt.show()"
   ]
  },
  {
   "cell_type": "code",
   "execution_count": 8,
   "metadata": {},
   "outputs": [
    {
     "name": "stdout",
     "output_type": "stream",
     "text": [
      "5000/1 - 0s - loss: 0.0630 - accuracy: 0.9720\n"
     ]
    },
    {
     "data": {
      "text/plain": [
       "[0.04715186712741852, 0.9720002]"
      ]
     },
     "execution_count": 8,
     "metadata": {},
     "output_type": "execute_result"
    }
   ],
   "source": [
    "#model.evaluate(x_test, y_test, verbose = 2)"
   ]
  },
  {
   "cell_type": "code",
   "execution_count": 13,
   "metadata": {},
   "outputs": [],
   "source": [
    "model.save('C:\\\\Users\\\\Wilfred\\\\Desktop\\\\weights\\\\Look_ahead_N\\\\Look_ahead_N_4_6_10_2_model.h5')"
   ]
  },
  {
   "cell_type": "code",
   "execution_count": null,
   "metadata": {},
   "outputs": [],
   "source": []
  }
 ],
 "metadata": {
  "kernelspec": {
   "display_name": "Python 3",
   "language": "python",
   "name": "python3"
  },
  "language_info": {
   "codemirror_mode": {
    "name": "ipython",
    "version": 3
   },
   "file_extension": ".py",
   "mimetype": "text/x-python",
   "name": "python",
   "nbconvert_exporter": "python",
   "pygments_lexer": "ipython3",
   "version": "3.7.5"
  }
 },
 "nbformat": 4,
 "nbformat_minor": 2
}
