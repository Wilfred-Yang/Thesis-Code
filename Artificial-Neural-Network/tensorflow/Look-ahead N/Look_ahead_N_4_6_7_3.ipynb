{
 "cells": [
  {
   "cell_type": "code",
   "execution_count": 1,
   "metadata": {},
   "outputs": [],
   "source": [
    "import tensorflow as tf\n",
    "import numpy as np\n",
    "import pickle\n"
   ]
  },
  {
   "cell_type": "code",
   "execution_count": 4,
   "metadata": {},
   "outputs": [
    {
     "name": "stdout",
     "output_type": "stream",
     "text": [
      "(453600, 24)\n"
     ]
    }
   ],
   "source": [
    "with open ('C:\\\\Users\\\\Wilfred\\\\Desktop\\\\Look-ahead-N\\\\input_layer_4_6_7_3.pickle','rb') as file:\n",
    "    input_data = pickle.load(file)\n",
    "print(input_data.shape)\n",
    "\n",
    "x_train = input_data[:453600, :]\n",
    "#x_test = input_data[971320:976320, :]\n"
   ]
  },
  {
   "cell_type": "code",
   "execution_count": 5,
   "metadata": {},
   "outputs": [
    {
     "name": "stdout",
     "output_type": "stream",
     "text": [
      "(453600, 12)\n"
     ]
    }
   ],
   "source": [
    "with open ('C:\\\\Users\\\\Wilfred\\\\Desktop\\\\Look-ahead-N\\\\output_layer_4_6_7_3.pickle','rb') as file:\n",
    "    output_data = pickle.load(file)\n",
    "output_data = np.transpose(output_data)\n",
    "y_train = output_data[:453600, :]\n",
    "#y_test = output_data[971320:976320, :]\n",
    "print(output_data.shape)"
   ]
  },
  {
   "cell_type": "code",
   "execution_count": 7,
   "metadata": {},
   "outputs": [
    {
     "name": "stdout",
     "output_type": "stream",
     "text": [
      "Train on 453600 samples\n",
      "Epoch 1/15\n",
      "453600/453600 - 6s - loss: 0.1814 - accuracy: 0.9169\n",
      "Epoch 2/15\n",
      "453600/453600 - 6s - loss: 0.0936 - accuracy: 0.9583\n",
      "Epoch 3/15\n",
      "453600/453600 - 6s - loss: 0.0569 - accuracy: 0.9765\n",
      "Epoch 4/15\n",
      "453600/453600 - 6s - loss: 0.0403 - accuracy: 0.9840\n",
      "Epoch 5/15\n",
      "453600/453600 - 6s - loss: 0.0302 - accuracy: 0.9883\n",
      "Epoch 6/15\n",
      "453600/453600 - 7s - loss: 0.0234 - accuracy: 0.9911\n",
      "Epoch 7/15\n",
      "453600/453600 - 7s - loss: 0.0185 - accuracy: 0.9931\n",
      "Epoch 8/15\n",
      "453600/453600 - 7s - loss: 0.0150 - accuracy: 0.9944\n",
      "Epoch 9/15\n",
      "453600/453600 - 7s - loss: 0.0123 - accuracy: 0.9954\n",
      "Epoch 10/15\n",
      "453600/453600 - 7s - loss: 0.0107 - accuracy: 0.9961\n",
      "Epoch 11/15\n",
      "453600/453600 - 7s - loss: 0.0094 - accuracy: 0.9966\n",
      "Epoch 12/15\n",
      "453600/453600 - 7s - loss: 0.0081 - accuracy: 0.9971\n",
      "Epoch 13/15\n",
      "453600/453600 - 7s - loss: 0.0074 - accuracy: 0.9973\n",
      "Epoch 14/15\n",
      "453600/453600 - 7s - loss: 0.0069 - accuracy: 0.9975\n",
      "Epoch 15/15\n",
      "453600/453600 - 7s - loss: 0.0059 - accuracy: 0.9979\n"
     ]
    }
   ],
   "source": [
    "model = tf.keras.models.Sequential([\n",
    "    tf.keras.layers.Dense(200, input_shape = [24], activation = 'relu'),\n",
    "    tf.keras.layers.Dense(200, activation = 'relu'),\n",
    "    #tf.keras.layers.Dense(200, activation = 'relu'),\n",
    "    tf.keras.layers.Dense(12, activation = 'sigmoid')\n",
    "])\n",
    "adam = tf.keras.optimizers.Adam(lr = 0.005)\n",
    "model.compile(optimizer = adam, loss = 'binary_crossentropy', metrics = ['accuracy'])\n",
    "\n",
    "history = model.fit(x_train, y_train, batch_size = 1024, epochs = 15, verbose = 2)#, validation_data = (x_test, y_test))\n"
   ]
  },
  {
   "cell_type": "code",
   "execution_count": 9,
   "metadata": {},
   "outputs": [
    {
     "data": {
      "image/png": "[encoded data removed]",
      "text/plain": [
       "<Figure size 432x288 with 1 Axes>"
      ]
     },
     "metadata": {
      "needs_background": "light"
     },
     "output_type": "display_data"
    }
   ],
   "source": [
    "import matplotlib.pyplot as plt\n",
    "plt.figure()\n",
    "acc = history.history['accuracy']\n",
    "loss = history.history['loss']\n",
    "#val_acc = history.history['val_accuracy']\n",
    "#val_loss = history.history['val_loss']\n",
    "epochs = range(len(acc))\n",
    "plt.plot(epochs, acc, 'r', label = 'Training accuracy')\n",
    "#plt.plot(epochs, val_acc, 'b', label = 'Validating accuracy')\n",
    "#plt.title('Training and Validating Accuracy')\n",
    "plt.title('Training Accuracy')\n",
    "plt.legend()\n",
    "plt.show()"
   ]
  },
  {
   "cell_type": "code",
   "execution_count": 8,
   "metadata": {},
   "outputs": [
    {
     "name": "stdout",
     "output_type": "stream",
     "text": [
      "5000/1 - 0s - loss: 0.0630 - accuracy: 0.9720\n"
     ]
    },
    {
     "data": {
      "text/plain": [
       "[0.04715186712741852, 0.9720002]"
      ]
     },
     "execution_count": 8,
     "metadata": {},
     "output_type": "execute_result"
    }
   ],
   "source": [
    "#model.evaluate(x_test, y_test, verbose = 2)"
   ]
  },
  {
   "cell_type": "code",
   "execution_count": 10,
   "metadata": {},
   "outputs": [],
   "source": [
    "model.save('C:\\\\Users\\\\Wilfred\\\\Desktop\\\\weights\\\\Look_ahead_N\\\\Look_ahead_N_4_6_7_3_model.h5')"
   ]
  },
  {
   "cell_type": "code",
   "execution_count": null,
   "metadata": {},
   "outputs": [],
   "source": []
  }
 ],
 "metadata": {
  "kernelspec": {
   "display_name": "Python 3",
   "language": "python",
   "name": "python3"
  },
  "language_info": {
   "codemirror_mode": {
    "name": "ipython",
    "version": 3
   },
   "file_extension": ".py",
   "mimetype": "text/x-python",
   "name": "python",
   "nbconvert_exporter": "python",
   "pygments_lexer": "ipython3",
   "version": "3.7.5"
  }
 },
 "nbformat": 4,
 "nbformat_minor": 2
}
