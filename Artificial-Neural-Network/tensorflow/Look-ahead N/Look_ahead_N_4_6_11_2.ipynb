{
 "cells": [
  {
   "cell_type": "code",
   "execution_count": 1,
   "metadata": {},
   "outputs": [],
   "source": [
    "import tensorflow as tf\n",
    "import numpy as np\n",
    "import pickle\n",
    "np.random.seed(7)"
   ]
  },
  {
   "cell_type": "code",
   "execution_count": 2,
   "metadata": {},
   "outputs": [
    {
     "name": "stdout",
     "output_type": "stream",
     "text": [
      "(105000, 24)\n"
     ]
    }
   ],
   "source": [
    "with open ('C:\\\\Users\\\\Wilfred\\\\Desktop\\\\Look-ahead-N\\\\input_layer_4_6_11_2.pickle','rb') as file:\n",
    "    input_data = pickle.load(file)\n",
    "permutation = list(np.random.permutation(input_data.shape[0]))\n",
    "input_data = input_data[permutation,:]\n",
    "print(input_data.shape)\n",
    "x_train = input_data[:100000, :]\n",
    "x_test = input_data[100000:105000, :]\n"
   ]
  },
  {
   "cell_type": "code",
   "execution_count": 3,
   "metadata": {},
   "outputs": [
    {
     "name": "stdout",
     "output_type": "stream",
     "text": [
      "(105000, 12)\n"
     ]
    }
   ],
   "source": [
    "with open ('C:\\\\Users\\\\Wilfred\\\\Desktop\\\\Look-ahead-N\\\\output_layer_4_6_11_2.pickle','rb') as file:\n",
    "    output_data = pickle.load(file)\n",
    "output_data = np.transpose(output_data)\n",
    "output_data = output_data[permutation,:]\n",
    "y_train = output_data[:100000, :]\n",
    "y_test = output_data[100000:105000, :]\n",
    "print(output_data.shape)"
   ]
  },
  {
   "cell_type": "code",
   "execution_count": 4,
   "metadata": {},
   "outputs": [
    {
     "name": "stdout",
     "output_type": "stream",
     "text": [
      "Train on 100000 samples, validate on 5000 samples\n",
      "Epoch 1/100\n",
      "100000/100000 - 3s - loss: 0.3483 - accuracy: 0.8552 - val_loss: 0.2844 - val_accuracy: 0.8787\n",
      "Epoch 2/100\n",
      "100000/100000 - 2s - loss: 0.2665 - accuracy: 0.8856 - val_loss: 0.2534 - val_accuracy: 0.8900\n",
      "Epoch 3/100\n",
      "100000/100000 - 1s - loss: 0.2414 - accuracy: 0.8947 - val_loss: 0.2397 - val_accuracy: 0.8955\n",
      "Epoch 4/100\n",
      "100000/100000 - 2s - loss: 0.2195 - accuracy: 0.9050 - val_loss: 0.2094 - val_accuracy: 0.9074\n",
      "Epoch 5/100\n",
      "100000/100000 - 2s - loss: 0.1961 - accuracy: 0.9137 - val_loss: 0.1952 - val_accuracy: 0.9131\n",
      "Epoch 6/100\n",
      "100000/100000 - 2s - loss: 0.1784 - accuracy: 0.9191 - val_loss: 0.1792 - val_accuracy: 0.9183\n",
      "Epoch 7/100\n",
      "100000/100000 - 2s - loss: 0.1651 - accuracy: 0.9236 - val_loss: 0.1648 - val_accuracy: 0.9234\n",
      "Epoch 8/100\n",
      "100000/100000 - 2s - loss: 0.1549 - accuracy: 0.9276 - val_loss: 0.1616 - val_accuracy: 0.9246\n",
      "Epoch 9/100\n",
      "100000/100000 - 2s - loss: 0.1457 - accuracy: 0.9315 - val_loss: 0.1523 - val_accuracy: 0.9277\n",
      "Epoch 10/100\n",
      "100000/100000 - 2s - loss: 0.1392 - accuracy: 0.9347 - val_loss: 0.1421 - val_accuracy: 0.9320\n",
      "Epoch 11/100\n",
      "100000/100000 - 2s - loss: 0.1333 - accuracy: 0.9374 - val_loss: 0.1445 - val_accuracy: 0.9313\n",
      "Epoch 12/100\n",
      "100000/100000 - 2s - loss: 0.1276 - accuracy: 0.9403 - val_loss: 0.1320 - val_accuracy: 0.9377\n",
      "Epoch 13/100\n",
      "100000/100000 - 2s - loss: 0.1214 - accuracy: 0.9434 - val_loss: 0.1296 - val_accuracy: 0.9402\n",
      "Epoch 14/100\n",
      "100000/100000 - 1s - loss: 0.1177 - accuracy: 0.9455 - val_loss: 0.1274 - val_accuracy: 0.9403\n",
      "Epoch 15/100\n",
      "100000/100000 - 1s - loss: 0.1151 - accuracy: 0.9470 - val_loss: 0.1258 - val_accuracy: 0.9423\n",
      "Epoch 16/100\n",
      "100000/100000 - 1s - loss: 0.1107 - accuracy: 0.9493 - val_loss: 0.1190 - val_accuracy: 0.9452\n",
      "Epoch 17/100\n",
      "100000/100000 - 1s - loss: 0.1060 - accuracy: 0.9520 - val_loss: 0.1186 - val_accuracy: 0.9456\n",
      "Epoch 18/100\n",
      "100000/100000 - 1s - loss: 0.1020 - accuracy: 0.9539 - val_loss: 0.1152 - val_accuracy: 0.9485\n",
      "Epoch 19/100\n",
      "100000/100000 - 1s - loss: 0.0993 - accuracy: 0.9553 - val_loss: 0.1151 - val_accuracy: 0.9486\n",
      "Epoch 20/100\n",
      "100000/100000 - 1s - loss: 0.0965 - accuracy: 0.9571 - val_loss: 0.1096 - val_accuracy: 0.9512\n",
      "Epoch 21/100\n",
      "100000/100000 - 1s - loss: 0.0938 - accuracy: 0.9583 - val_loss: 0.1052 - val_accuracy: 0.9537\n",
      "Epoch 22/100\n",
      "100000/100000 - 1s - loss: 0.0921 - accuracy: 0.9593 - val_loss: 0.1023 - val_accuracy: 0.9553\n",
      "Epoch 23/100\n",
      "100000/100000 - 1s - loss: 0.0891 - accuracy: 0.9609 - val_loss: 0.1050 - val_accuracy: 0.9545\n",
      "Epoch 24/100\n",
      "100000/100000 - 1s - loss: 0.0877 - accuracy: 0.9615 - val_loss: 0.1000 - val_accuracy: 0.9564\n",
      "Epoch 25/100\n",
      "100000/100000 - 1s - loss: 0.0848 - accuracy: 0.9631 - val_loss: 0.0995 - val_accuracy: 0.9566\n",
      "Epoch 26/100\n",
      "100000/100000 - 1s - loss: 0.0819 - accuracy: 0.9645 - val_loss: 0.0965 - val_accuracy: 0.9586\n",
      "Epoch 27/100\n",
      "100000/100000 - 1s - loss: 0.0800 - accuracy: 0.9654 - val_loss: 0.0956 - val_accuracy: 0.9593\n",
      "Epoch 28/100\n",
      "100000/100000 - 1s - loss: 0.0783 - accuracy: 0.9663 - val_loss: 0.0935 - val_accuracy: 0.9614\n",
      "Epoch 29/100\n",
      "100000/100000 - 1s - loss: 0.0751 - accuracy: 0.9680 - val_loss: 0.0933 - val_accuracy: 0.9612\n",
      "Epoch 30/100\n",
      "100000/100000 - 1s - loss: 0.0734 - accuracy: 0.9689 - val_loss: 0.0887 - val_accuracy: 0.9632\n",
      "Epoch 31/100\n",
      "100000/100000 - 1s - loss: 0.0714 - accuracy: 0.9699 - val_loss: 0.0898 - val_accuracy: 0.9628\n",
      "Epoch 32/100\n",
      "100000/100000 - 1s - loss: 0.0702 - accuracy: 0.9704 - val_loss: 0.0852 - val_accuracy: 0.9644\n",
      "Epoch 33/100\n",
      "100000/100000 - 1s - loss: 0.0691 - accuracy: 0.9709 - val_loss: 0.0868 - val_accuracy: 0.9638\n",
      "Epoch 34/100\n",
      "100000/100000 - 1s - loss: 0.0670 - accuracy: 0.9718 - val_loss: 0.0862 - val_accuracy: 0.9643\n",
      "Epoch 35/100\n",
      "100000/100000 - 1s - loss: 0.0649 - accuracy: 0.9730 - val_loss: 0.0839 - val_accuracy: 0.9663\n",
      "Epoch 36/100\n",
      "100000/100000 - 1s - loss: 0.0645 - accuracy: 0.9731 - val_loss: 0.0860 - val_accuracy: 0.9652\n",
      "Epoch 37/100\n",
      "100000/100000 - 1s - loss: 0.0632 - accuracy: 0.9738 - val_loss: 0.0809 - val_accuracy: 0.9670\n",
      "Epoch 38/100\n",
      "100000/100000 - 1s - loss: 0.0616 - accuracy: 0.9744 - val_loss: 0.0845 - val_accuracy: 0.9661\n",
      "Epoch 39/100\n",
      "100000/100000 - 1s - loss: 0.0609 - accuracy: 0.9749 - val_loss: 0.0789 - val_accuracy: 0.9680\n",
      "Epoch 40/100\n",
      "100000/100000 - 1s - loss: 0.0588 - accuracy: 0.9759 - val_loss: 0.0833 - val_accuracy: 0.9654\n",
      "Epoch 41/100\n",
      "100000/100000 - 1s - loss: 0.0578 - accuracy: 0.9762 - val_loss: 0.0746 - val_accuracy: 0.9701\n",
      "Epoch 42/100\n",
      "100000/100000 - 1s - loss: 0.0559 - accuracy: 0.9769 - val_loss: 0.0739 - val_accuracy: 0.9712\n",
      "Epoch 43/100\n",
      "100000/100000 - 1s - loss: 0.0545 - accuracy: 0.9777 - val_loss: 0.0841 - val_accuracy: 0.9661\n",
      "Epoch 44/100\n",
      "100000/100000 - 1s - loss: 0.0539 - accuracy: 0.9781 - val_loss: 0.0719 - val_accuracy: 0.9717\n",
      "Epoch 45/100\n",
      "100000/100000 - 1s - loss: 0.0516 - accuracy: 0.9791 - val_loss: 0.0786 - val_accuracy: 0.9688\n",
      "Epoch 46/100\n",
      "100000/100000 - 1s - loss: 0.0529 - accuracy: 0.9786 - val_loss: 0.0718 - val_accuracy: 0.9708\n",
      "Epoch 47/100\n",
      "100000/100000 - 1s - loss: 0.0502 - accuracy: 0.9798 - val_loss: 0.0715 - val_accuracy: 0.9720\n",
      "Epoch 48/100\n",
      "100000/100000 - 1s - loss: 0.0500 - accuracy: 0.9799 - val_loss: 0.0700 - val_accuracy: 0.9724\n",
      "Epoch 49/100\n",
      "100000/100000 - 1s - loss: 0.0482 - accuracy: 0.9806 - val_loss: 0.0713 - val_accuracy: 0.9720\n",
      "Epoch 50/100\n",
      "100000/100000 - 1s - loss: 0.0463 - accuracy: 0.9815 - val_loss: 0.0691 - val_accuracy: 0.9735\n",
      "Epoch 51/100\n",
      "100000/100000 - 1s - loss: 0.0472 - accuracy: 0.9811 - val_loss: 0.0695 - val_accuracy: 0.9729\n",
      "Epoch 52/100\n",
      "100000/100000 - 2s - loss: 0.0461 - accuracy: 0.9816 - val_loss: 0.0672 - val_accuracy: 0.9734\n",
      "Epoch 53/100\n",
      "100000/100000 - 2s - loss: 0.0452 - accuracy: 0.9820 - val_loss: 0.0671 - val_accuracy: 0.9746\n",
      "Epoch 54/100\n",
      "100000/100000 - 1s - loss: 0.0448 - accuracy: 0.9821 - val_loss: 0.0715 - val_accuracy: 0.9730\n",
      "Epoch 55/100\n",
      "100000/100000 - 1s - loss: 0.0433 - accuracy: 0.9828 - val_loss: 0.0716 - val_accuracy: 0.9736\n",
      "Epoch 56/100\n",
      "100000/100000 - 2s - loss: 0.0438 - accuracy: 0.9827 - val_loss: 0.0665 - val_accuracy: 0.9746\n",
      "Epoch 57/100\n",
      "100000/100000 - 2s - loss: 0.0426 - accuracy: 0.9831 - val_loss: 0.0619 - val_accuracy: 0.9767\n",
      "Epoch 58/100\n",
      "100000/100000 - 1s - loss: 0.0403 - accuracy: 0.9840 - val_loss: 0.0670 - val_accuracy: 0.9751\n",
      "Epoch 59/100\n",
      "100000/100000 - 2s - loss: 0.0420 - accuracy: 0.9834 - val_loss: 0.0649 - val_accuracy: 0.9761\n",
      "Epoch 60/100\n",
      "100000/100000 - 2s - loss: 0.0383 - accuracy: 0.9850 - val_loss: 0.0625 - val_accuracy: 0.9771\n",
      "Epoch 61/100\n",
      "100000/100000 - 1s - loss: 0.0400 - accuracy: 0.9844 - val_loss: 0.0691 - val_accuracy: 0.9742\n",
      "Epoch 62/100\n",
      "100000/100000 - 2s - loss: 0.0385 - accuracy: 0.9848 - val_loss: 0.0603 - val_accuracy: 0.9773\n",
      "Epoch 63/100\n",
      "100000/100000 - 1s - loss: 0.0385 - accuracy: 0.9849 - val_loss: 0.0589 - val_accuracy: 0.9788\n",
      "Epoch 64/100\n",
      "100000/100000 - 1s - loss: 0.0399 - accuracy: 0.9843 - val_loss: 0.0547 - val_accuracy: 0.9790\n",
      "Epoch 65/100\n",
      "100000/100000 - 1s - loss: 0.0366 - accuracy: 0.9858 - val_loss: 0.0624 - val_accuracy: 0.9767\n",
      "Epoch 66/100\n",
      "100000/100000 - 1s - loss: 0.0368 - accuracy: 0.9856 - val_loss: 0.0576 - val_accuracy: 0.9791\n",
      "Epoch 67/100\n",
      "100000/100000 - 2s - loss: 0.0353 - accuracy: 0.9863 - val_loss: 0.0581 - val_accuracy: 0.9792\n",
      "Epoch 68/100\n",
      "100000/100000 - 1s - loss: 0.0352 - accuracy: 0.9863 - val_loss: 0.0558 - val_accuracy: 0.9798\n",
      "Epoch 69/100\n",
      "100000/100000 - 1s - loss: 0.0345 - accuracy: 0.9867 - val_loss: 0.0545 - val_accuracy: 0.9803\n",
      "Epoch 70/100\n",
      "100000/100000 - 1s - loss: 0.0349 - accuracy: 0.9865 - val_loss: 0.0564 - val_accuracy: 0.9795\n",
      "Epoch 71/100\n",
      "100000/100000 - 1s - loss: 0.0345 - accuracy: 0.9867 - val_loss: 0.0503 - val_accuracy: 0.9819\n",
      "Epoch 72/100\n",
      "100000/100000 - 1s - loss: 0.0323 - accuracy: 0.9875 - val_loss: 0.0553 - val_accuracy: 0.9806\n",
      "Epoch 73/100\n",
      "100000/100000 - 1s - loss: 0.0337 - accuracy: 0.9870 - val_loss: 0.0573 - val_accuracy: 0.9800\n",
      "Epoch 74/100\n",
      "100000/100000 - 1s - loss: 0.0323 - accuracy: 0.9876 - val_loss: 0.0542 - val_accuracy: 0.9803\n",
      "Epoch 75/100\n",
      "100000/100000 - 1s - loss: 0.0320 - accuracy: 0.9877 - val_loss: 0.0547 - val_accuracy: 0.9800\n",
      "Epoch 76/100\n",
      "100000/100000 - 1s - loss: 0.0320 - accuracy: 0.9877 - val_loss: 0.0496 - val_accuracy: 0.9817\n"
     ]
    },
    {
     "name": "stdout",
     "output_type": "stream",
     "text": [
      "Epoch 77/100\n",
      "100000/100000 - 1s - loss: 0.0312 - accuracy: 0.9880 - val_loss: 0.0563 - val_accuracy: 0.9798\n",
      "Epoch 78/100\n",
      "100000/100000 - 1s - loss: 0.0302 - accuracy: 0.9885 - val_loss: 0.0528 - val_accuracy: 0.9816\n",
      "Epoch 79/100\n",
      "100000/100000 - 1s - loss: 0.0292 - accuracy: 0.9888 - val_loss: 0.0539 - val_accuracy: 0.9809\n",
      "Epoch 80/100\n",
      "100000/100000 - 1s - loss: 0.0309 - accuracy: 0.9883 - val_loss: 0.0539 - val_accuracy: 0.9814\n",
      "Epoch 81/100\n",
      "100000/100000 - 1s - loss: 0.0337 - accuracy: 0.9872 - val_loss: 0.0552 - val_accuracy: 0.9799\n",
      "Epoch 82/100\n",
      "100000/100000 - 1s - loss: 0.0312 - accuracy: 0.9882 - val_loss: 0.0493 - val_accuracy: 0.9828\n",
      "Epoch 83/100\n",
      "100000/100000 - 1s - loss: 0.0284 - accuracy: 0.9892 - val_loss: 0.0511 - val_accuracy: 0.9824\n",
      "Epoch 84/100\n",
      "100000/100000 - 1s - loss: 0.0295 - accuracy: 0.9889 - val_loss: 0.0502 - val_accuracy: 0.9827\n",
      "Epoch 85/100\n",
      "100000/100000 - 1s - loss: 0.0302 - accuracy: 0.9886 - val_loss: 0.0447 - val_accuracy: 0.9840\n",
      "Epoch 86/100\n",
      "100000/100000 - 1s - loss: 0.0266 - accuracy: 0.9900 - val_loss: 0.0518 - val_accuracy: 0.9833\n",
      "Epoch 87/100\n",
      "100000/100000 - 1s - loss: 0.0307 - accuracy: 0.9883 - val_loss: 0.0534 - val_accuracy: 0.9819\n",
      "Epoch 88/100\n",
      "100000/100000 - 1s - loss: 0.0273 - accuracy: 0.9898 - val_loss: 0.0478 - val_accuracy: 0.9838\n",
      "Epoch 89/100\n",
      "100000/100000 - 1s - loss: 0.0265 - accuracy: 0.9901 - val_loss: 0.0445 - val_accuracy: 0.9839\n",
      "Epoch 90/100\n",
      "100000/100000 - 1s - loss: 0.0265 - accuracy: 0.9901 - val_loss: 0.0450 - val_accuracy: 0.9842\n",
      "Epoch 91/100\n",
      "100000/100000 - 1s - loss: 0.0273 - accuracy: 0.9898 - val_loss: 0.0462 - val_accuracy: 0.9843\n",
      "Epoch 92/100\n",
      "100000/100000 - 1s - loss: 0.0253 - accuracy: 0.9904 - val_loss: 0.0478 - val_accuracy: 0.9841\n",
      "Epoch 93/100\n",
      "100000/100000 - 1s - loss: 0.0253 - accuracy: 0.9905 - val_loss: 0.0464 - val_accuracy: 0.9842\n",
      "Epoch 94/100\n",
      "100000/100000 - 1s - loss: 0.0253 - accuracy: 0.9906 - val_loss: 0.0521 - val_accuracy: 0.9823\n",
      "Epoch 95/100\n",
      "100000/100000 - 1s - loss: 0.0258 - accuracy: 0.9903 - val_loss: 0.0428 - val_accuracy: 0.9852\n",
      "Epoch 96/100\n",
      "100000/100000 - 1s - loss: 0.0246 - accuracy: 0.9908 - val_loss: 0.0474 - val_accuracy: 0.9841\n",
      "Epoch 97/100\n",
      "100000/100000 - 1s - loss: 0.0283 - accuracy: 0.9895 - val_loss: 0.0475 - val_accuracy: 0.9831\n",
      "Epoch 98/100\n",
      "100000/100000 - 1s - loss: 0.0259 - accuracy: 0.9904 - val_loss: 0.0484 - val_accuracy: 0.9836\n",
      "Epoch 99/100\n",
      "100000/100000 - 1s - loss: 0.0250 - accuracy: 0.9907 - val_loss: 0.0426 - val_accuracy: 0.9852\n",
      "Epoch 100/100\n",
      "100000/100000 - 1s - loss: 0.0249 - accuracy: 0.9908 - val_loss: 0.0462 - val_accuracy: 0.9849\n"
     ]
    }
   ],
   "source": [
    "model = tf.keras.models.Sequential([\n",
    "    tf.keras.layers.Dense(130, input_shape = [24], activation = 'relu'),\n",
    "    tf.keras.layers.Dense(130, activation = 'relu'),\n",
    "    tf.keras.layers.Dense(130, activation = 'relu'),\n",
    "    tf.keras.layers.Dense(130, activation = 'relu'),\n",
    "    tf.keras.layers.Dense(12, activation = 'sigmoid')\n",
    "])\n",
    "adam = tf.keras.optimizers.Adam(lr = 0.005)\n",
    "model.compile(optimizer = adam, loss = 'binary_crossentropy', metrics = ['accuracy'])\n",
    "\n",
    "history = model.fit(x_train, y_train, batch_size = 1024, epochs = 100, verbose = 2, validation_data = (x_test, y_test))\n"
   ]
  },
  {
   "cell_type": "code",
   "execution_count": 6,
   "metadata": {},
   "outputs": [
    {
     "data": {
      "image/png": "[encoded data removed]",
      "text/plain": [
       "<Figure size 432x288 with 1 Axes>"
      ]
     },
     "metadata": {
      "needs_background": "light"
     },
     "output_type": "display_data"
    }
   ],
   "source": [
    "import matplotlib.pyplot as plt\n",
    "plt.figure()\n",
    "acc = history.history['accuracy']\n",
    "loss = history.history['loss']\n",
    "val_acc = history.history['val_accuracy']\n",
    "val_loss = history.history['val_loss']\n",
    "epochs = range(len(acc))\n",
    "plt.plot(epochs, acc, 'r', label = 'Training accuracy')\n",
    "plt.plot(epochs, val_acc, 'b', label = 'Validating accuracy')\n",
    "plt.title('Training and Validating Accuracy')\n",
    "#plt.title('Training Accuracy')\n",
    "plt.legend()\n",
    "plt.show()"
   ]
  },
  {
   "cell_type": "code",
   "execution_count": 8,
   "metadata": {},
   "outputs": [
    {
     "name": "stdout",
     "output_type": "stream",
     "text": [
      "5000/1 - 0s - loss: 0.0630 - accuracy: 0.9720\n"
     ]
    },
    {
     "data": {
      "text/plain": [
       "[0.04715186712741852, 0.9720002]"
      ]
     },
     "execution_count": 8,
     "metadata": {},
     "output_type": "execute_result"
    }
   ],
   "source": [
    "#model.evaluate(x_test, y_test, verbose = 2)"
   ]
  },
  {
   "cell_type": "code",
   "execution_count": 7,
   "metadata": {},
   "outputs": [],
   "source": [
    "model.save('C:\\\\Users\\\\Wilfred\\\\Desktop\\\\weights\\\\Look_ahead_N\\\\Look_ahead_N_4_6_11_2_model.h5')"
   ]
  },
  {
   "cell_type": "code",
   "execution_count": null,
   "metadata": {},
   "outputs": [],
   "source": []
  }
 ],
 "metadata": {
  "kernelspec": {
   "display_name": "Python 3",
   "language": "python",
   "name": "python3"
  },
  "language_info": {
   "codemirror_mode": {
    "name": "ipython",
    "version": 3
   },
   "file_extension": ".py",
   "mimetype": "text/x-python",
   "name": "python",
   "nbconvert_exporter": "python",
   "pygments_lexer": "ipython3",
   "version": "3.7.5"
  }
 },
 "nbformat": 4,
 "nbformat_minor": 2
}
