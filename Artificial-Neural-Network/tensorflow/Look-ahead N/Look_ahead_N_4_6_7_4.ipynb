{
 "cells": [
  {
   "cell_type": "code",
   "execution_count": 1,
   "metadata": {},
   "outputs": [],
   "source": [
    "import tensorflow as tf\n",
    "import numpy as np\n",
    "import pickle\n"
   ]
  },
  {
   "cell_type": "code",
   "execution_count": 3,
   "metadata": {},
   "outputs": [
    {
     "name": "stdout",
     "output_type": "stream",
     "text": [
      "(151200, 24)\n"
     ]
    }
   ],
   "source": [
    "with open ('C:\\\\Users\\\\Wilfred\\\\Desktop\\\\Look-ahead-N\\\\input_layer_4_6_7_4.pickle','rb') as file:\n",
    "    input_data = pickle.load(file)\n",
    "print(input_data.shape)\n",
    "\n",
    "x_train = input_data[:151200, :]\n",
    "#x_test = input_data[971320:976320, :]\n"
   ]
  },
  {
   "cell_type": "code",
   "execution_count": 4,
   "metadata": {},
   "outputs": [
    {
     "name": "stdout",
     "output_type": "stream",
     "text": [
      "(151200, 12)\n"
     ]
    }
   ],
   "source": [
    "with open ('C:\\\\Users\\\\Wilfred\\\\Desktop\\\\Look-ahead-N\\\\output_layer_4_6_7_4.pickle','rb') as file:\n",
    "    output_data = pickle.load(file)\n",
    "output_data = np.transpose(output_data)\n",
    "y_train = output_data[:151200, :]\n",
    "#y_test = output_data[971320:976320, :]\n",
    "print(output_data.shape)"
   ]
  },
  {
   "cell_type": "code",
   "execution_count": 6,
   "metadata": {},
   "outputs": [
    {
     "name": "stdout",
     "output_type": "stream",
     "text": [
      "Train on 151200 samples\n",
      "Epoch 1/50\n",
      "151200/151200 - 2s - loss: 0.1978 - accuracy: 0.9072\n",
      "Epoch 2/50\n",
      "151200/151200 - 2s - loss: 0.1228 - accuracy: 0.9403\n",
      "Epoch 3/50\n",
      "151200/151200 - 2s - loss: 0.0796 - accuracy: 0.9651\n",
      "Epoch 4/50\n",
      "151200/151200 - 2s - loss: 0.0567 - accuracy: 0.9763\n",
      "Epoch 5/50\n",
      "151200/151200 - 2s - loss: 0.0426 - accuracy: 0.9829\n",
      "Epoch 6/50\n",
      "151200/151200 - 2s - loss: 0.0326 - accuracy: 0.9875\n",
      "Epoch 7/50\n",
      "151200/151200 - 2s - loss: 0.0258 - accuracy: 0.9903\n",
      "Epoch 8/50\n",
      "151200/151200 - 2s - loss: 0.0204 - accuracy: 0.9927\n",
      "Epoch 9/50\n",
      "151200/151200 - 2s - loss: 0.0171 - accuracy: 0.9939\n",
      "Epoch 10/50\n",
      "151200/151200 - 2s - loss: 0.0133 - accuracy: 0.9955\n",
      "Epoch 11/50\n",
      "151200/151200 - 2s - loss: 0.0112 - accuracy: 0.9963\n",
      "Epoch 12/50\n",
      "151200/151200 - 2s - loss: 0.0089 - accuracy: 0.9972\n",
      "Epoch 13/50\n",
      "151200/151200 - 2s - loss: 0.0076 - accuracy: 0.9976\n",
      "Epoch 14/50\n",
      "151200/151200 - 2s - loss: 0.0064 - accuracy: 0.9980\n",
      "Epoch 15/50\n",
      "151200/151200 - 2s - loss: 0.0054 - accuracy: 0.9983\n",
      "Epoch 16/50\n",
      "151200/151200 - 2s - loss: 0.0051 - accuracy: 0.9984\n",
      "Epoch 17/50\n",
      "151200/151200 - 2s - loss: 0.0043 - accuracy: 0.9987\n",
      "Epoch 18/50\n",
      "151200/151200 - 2s - loss: 0.0038 - accuracy: 0.9989\n",
      "Epoch 19/50\n",
      "151200/151200 - 2s - loss: 0.0032 - accuracy: 0.9991\n",
      "Epoch 20/50\n",
      "151200/151200 - 2s - loss: 0.0041 - accuracy: 0.9987\n",
      "Epoch 21/50\n",
      "151200/151200 - 2s - loss: 0.0040 - accuracy: 0.9987\n",
      "Epoch 22/50\n",
      "151200/151200 - 2s - loss: 0.0043 - accuracy: 0.9986\n",
      "Epoch 23/50\n",
      "151200/151200 - 2s - loss: 0.0038 - accuracy: 0.9987\n",
      "Epoch 24/50\n",
      "151200/151200 - 2s - loss: 0.0027 - accuracy: 0.9992\n",
      "Epoch 25/50\n",
      "151200/151200 - 2s - loss: 0.0013 - accuracy: 0.9997\n",
      "Epoch 26/50\n",
      "151200/151200 - 2s - loss: 7.0198e-04 - accuracy: 0.9999\n",
      "Epoch 27/50\n",
      "151200/151200 - 2s - loss: 5.4358e-04 - accuracy: 0.9999\n",
      "Epoch 28/50\n",
      "151200/151200 - 2s - loss: 0.0037 - accuracy: 0.9988\n",
      "Epoch 29/50\n",
      "151200/151200 - 2s - loss: 0.0081 - accuracy: 0.9972\n",
      "Epoch 30/50\n",
      "151200/151200 - 2s - loss: 0.0034 - accuracy: 0.9988\n",
      "Epoch 31/50\n",
      "151200/151200 - 2s - loss: 0.0017 - accuracy: 0.9995\n",
      "Epoch 32/50\n",
      "151200/151200 - 2s - loss: 4.3238e-04 - accuracy: 0.9999\n",
      "Epoch 33/50\n",
      "151200/151200 - 2s - loss: 2.4592e-04 - accuracy: 1.0000\n",
      "Epoch 34/50\n",
      "151200/151200 - 2s - loss: 1.5601e-04 - accuracy: 1.0000\n",
      "Epoch 35/50\n",
      "151200/151200 - 2s - loss: 1.1394e-04 - accuracy: 1.0000\n",
      "Epoch 36/50\n",
      "151200/151200 - 2s - loss: 9.5281e-05 - accuracy: 1.0000\n",
      "Epoch 37/50\n",
      "151200/151200 - 2s - loss: 8.4707e-05 - accuracy: 1.0000\n",
      "Epoch 38/50\n",
      "151200/151200 - 2s - loss: 7.8189e-05 - accuracy: 1.0000\n",
      "Epoch 39/50\n",
      "151200/151200 - 2s - loss: 7.3715e-05 - accuracy: 1.0000\n",
      "Epoch 40/50\n",
      "151200/151200 - 2s - loss: 6.7663e-05 - accuracy: 1.0000\n",
      "Epoch 41/50\n",
      "151200/151200 - 2s - loss: 6.7228e-05 - accuracy: 1.0000\n",
      "Epoch 42/50\n",
      "151200/151200 - 2s - loss: 5.8759e-05 - accuracy: 1.0000\n",
      "Epoch 43/50\n",
      "151200/151200 - 2s - loss: 5.4775e-05 - accuracy: 1.0000\n",
      "Epoch 44/50\n",
      "151200/151200 - 2s - loss: 5.0766e-05 - accuracy: 1.0000\n",
      "Epoch 45/50\n",
      "151200/151200 - 2s - loss: 4.7907e-05 - accuracy: 1.0000\n",
      "Epoch 46/50\n",
      "151200/151200 - 2s - loss: 0.0019 - accuracy: 0.9995\n",
      "Epoch 47/50\n",
      "151200/151200 - 2s - loss: 0.0212 - accuracy: 0.9943\n",
      "Epoch 48/50\n",
      "151200/151200 - 2s - loss: 0.0017 - accuracy: 0.9995\n",
      "Epoch 49/50\n",
      "151200/151200 - 2s - loss: 4.5096e-04 - accuracy: 0.9999\n",
      "Epoch 50/50\n",
      "151200/151200 - 2s - loss: 2.1012e-04 - accuracy: 1.0000\n"
     ]
    }
   ],
   "source": [
    "model = tf.keras.models.Sequential([\n",
    "    tf.keras.layers.Dense(200, input_shape = [24], activation = 'relu'),\n",
    "    tf.keras.layers.Dense(200, activation = 'relu'),\n",
    "    #tf.keras.layers.Dense(200, activation = 'relu'),\n",
    "    tf.keras.layers.Dense(12, activation = 'sigmoid')\n",
    "])\n",
    "adam = tf.keras.optimizers.Adam(lr = 0.005)\n",
    "model.compile(optimizer = adam, loss = 'binary_crossentropy', metrics = ['accuracy'])\n",
    "\n",
    "history = model.fit(x_train, y_train, batch_size = 1024, epochs = 50, verbose = 2)#, validation_data = (x_test, y_test))\n"
   ]
  },
  {
   "cell_type": "code",
   "execution_count": 8,
   "metadata": {},
   "outputs": [
    {
     "data": {
      "image/png": "[encoded data removed]",
      "text/plain": [
       "<Figure size 432x288 with 1 Axes>"
      ]
     },
     "metadata": {
      "needs_background": "light"
     },
     "output_type": "display_data"
    }
   ],
   "source": [
    "import matplotlib.pyplot as plt\n",
    "plt.figure()\n",
    "acc = history.history['accuracy']\n",
    "loss = history.history['loss']\n",
    "#val_acc = history.history['val_accuracy']\n",
    "#val_loss = history.history['val_loss']\n",
    "epochs = range(len(acc))\n",
    "plt.plot(epochs, acc, 'r', label = 'Training accuracy')\n",
    "#plt.plot(epochs, val_acc, 'b', label = 'Validating accuracy')\n",
    "#plt.title('Training and Validating Accuracy')\n",
    "plt.title('Training Accuracy')\n",
    "plt.legend()\n",
    "plt.show()"
   ]
  },
  {
   "cell_type": "code",
   "execution_count": 8,
   "metadata": {},
   "outputs": [
    {
     "name": "stdout",
     "output_type": "stream",
     "text": [
      "5000/1 - 0s - loss: 0.0630 - accuracy: 0.9720\n"
     ]
    },
    {
     "data": {
      "text/plain": [
       "[0.04715186712741852, 0.9720002]"
      ]
     },
     "execution_count": 8,
     "metadata": {},
     "output_type": "execute_result"
    }
   ],
   "source": [
    "#model.evaluate(x_test, y_test, verbose = 2)"
   ]
  },
  {
   "cell_type": "code",
   "execution_count": 9,
   "metadata": {},
   "outputs": [],
   "source": [
    "model.save('C:\\\\Users\\\\Wilfred\\\\Desktop\\\\weights\\\\Look_ahead_N\\\\Look_ahead_N_4_6_7_4_model.h5')"
   ]
  },
  {
   "cell_type": "code",
   "execution_count": null,
   "metadata": {},
   "outputs": [],
   "source": []
  }
 ],
 "metadata": {
  "kernelspec": {
   "display_name": "Python 3",
   "language": "python",
   "name": "python3"
  },
  "language_info": {
   "codemirror_mode": {
    "name": "ipython",
    "version": 3
   },
   "file_extension": ".py",
   "mimetype": "text/x-python",
   "name": "python",
   "nbconvert_exporter": "python",
   "pygments_lexer": "ipython3",
   "version": "3.7.5"
  }
 },
 "nbformat": 4,
 "nbformat_minor": 2
}
