{
 "cells": [
  {
   "cell_type": "code",
   "execution_count": 1,
   "metadata": {},
   "outputs": [],
   "source": [
    "import tensorflow as tf\n",
    "import numpy as np\n",
    "import pickle\n",
    "np.random.seed(7)"
   ]
  },
  {
   "cell_type": "code",
   "execution_count": 2,
   "metadata": {},
   "outputs": [
    {
     "name": "stdout",
     "output_type": "stream",
     "text": [
      "(105000, 24)\n"
     ]
    }
   ],
   "source": [
    "with open ('C:\\\\Users\\\\Wilfred\\\\Desktop\\\\Look-ahead-N\\\\input_layer_4_6_18_4.pickle','rb') as file:\n",
    "    input_data = pickle.load(file)\n",
    "permutation = list(np.random.permutation(input_data.shape[0]))\n",
    "input_data = input_data[permutation,:]\n",
    "print(input_data.shape)\n",
    "x_train = input_data[:100000, :]\n",
    "x_test = input_data[100000:105000, :]\n"
   ]
  },
  {
   "cell_type": "code",
   "execution_count": 3,
   "metadata": {},
   "outputs": [
    {
     "name": "stdout",
     "output_type": "stream",
     "text": [
      "(105000, 12)\n"
     ]
    }
   ],
   "source": [
    "with open ('C:\\\\Users\\\\Wilfred\\\\Desktop\\\\Look-ahead-N\\\\output_layer_4_6_18_4.pickle','rb') as file:\n",
    "    output_data = pickle.load(file)\n",
    "output_data = np.transpose(output_data)\n",
    "output_data = output_data[permutation,:]\n",
    "y_train = output_data[:100000, :]\n",
    "y_test = output_data[100000:105000, :]\n",
    "print(output_data.shape)"
   ]
  },
  {
   "cell_type": "code",
   "execution_count": 4,
   "metadata": {},
   "outputs": [
    {
     "name": "stdout",
     "output_type": "stream",
     "text": [
      "Train on 100000 samples, validate on 5000 samples\n",
      "Epoch 1/100\n",
      "100000/100000 - 5s - loss: 0.2917 - accuracy: 0.8742 - val_loss: 0.2451 - val_accuracy: 0.8899\n",
      "Epoch 2/100\n",
      "100000/100000 - 4s - loss: 0.2285 - accuracy: 0.8978 - val_loss: 0.2224 - val_accuracy: 0.9013\n",
      "Epoch 3/100\n",
      "100000/100000 - 3s - loss: 0.2126 - accuracy: 0.9055 - val_loss: 0.2123 - val_accuracy: 0.9088\n",
      "Epoch 4/100\n",
      "100000/100000 - 3s - loss: 0.2015 - accuracy: 0.9117 - val_loss: 0.1999 - val_accuracy: 0.9122\n",
      "Epoch 5/100\n",
      "100000/100000 - 3s - loss: 0.1874 - accuracy: 0.9184 - val_loss: 0.1910 - val_accuracy: 0.9164\n",
      "Epoch 6/100\n",
      "100000/100000 - 3s - loss: 0.1792 - accuracy: 0.9227 - val_loss: 0.1779 - val_accuracy: 0.9241\n",
      "Epoch 7/100\n",
      "100000/100000 - 3s - loss: 0.1658 - accuracy: 0.9285 - val_loss: 0.1699 - val_accuracy: 0.9272\n",
      "Epoch 8/100\n",
      "100000/100000 - 3s - loss: 0.1569 - accuracy: 0.9320 - val_loss: 0.1606 - val_accuracy: 0.9314\n",
      "Epoch 9/100\n",
      "100000/100000 - 3s - loss: 0.1475 - accuracy: 0.9353 - val_loss: 0.1501 - val_accuracy: 0.9351\n",
      "Epoch 10/100\n",
      "100000/100000 - 3s - loss: 0.1387 - accuracy: 0.9387 - val_loss: 0.1468 - val_accuracy: 0.9343\n",
      "Epoch 11/100\n",
      "100000/100000 - 3s - loss: 0.1327 - accuracy: 0.9410 - val_loss: 0.1439 - val_accuracy: 0.9364\n",
      "Epoch 12/100\n",
      "100000/100000 - 3s - loss: 0.1262 - accuracy: 0.9435 - val_loss: 0.1329 - val_accuracy: 0.9403\n",
      "Epoch 13/100\n",
      "100000/100000 - 3s - loss: 0.1196 - accuracy: 0.9466 - val_loss: 0.1354 - val_accuracy: 0.9391\n",
      "Epoch 14/100\n",
      "100000/100000 - 3s - loss: 0.1173 - accuracy: 0.9477 - val_loss: 0.1261 - val_accuracy: 0.9436\n",
      "Epoch 15/100\n",
      "100000/100000 - 3s - loss: 0.1148 - accuracy: 0.9490 - val_loss: 0.1275 - val_accuracy: 0.9438\n",
      "Epoch 16/100\n",
      "100000/100000 - 3s - loss: 0.1097 - accuracy: 0.9512 - val_loss: 0.1225 - val_accuracy: 0.9456\n",
      "Epoch 17/100\n",
      "100000/100000 - 3s - loss: 0.1063 - accuracy: 0.9527 - val_loss: 0.1193 - val_accuracy: 0.9471\n",
      "Epoch 18/100\n",
      "100000/100000 - 3s - loss: 0.1042 - accuracy: 0.9537 - val_loss: 0.1154 - val_accuracy: 0.9490\n",
      "Epoch 19/100\n",
      "100000/100000 - 3s - loss: 0.1013 - accuracy: 0.9551 - val_loss: 0.1153 - val_accuracy: 0.9495\n",
      "Epoch 20/100\n",
      "100000/100000 - 3s - loss: 0.0991 - accuracy: 0.9564 - val_loss: 0.1159 - val_accuracy: 0.9494\n",
      "Epoch 21/100\n",
      "100000/100000 - 3s - loss: 0.0965 - accuracy: 0.9575 - val_loss: 0.1213 - val_accuracy: 0.9484\n",
      "Epoch 22/100\n",
      "100000/100000 - 4s - loss: 0.0940 - accuracy: 0.9588 - val_loss: 0.1178 - val_accuracy: 0.9488\n",
      "Epoch 23/100\n",
      "100000/100000 - 3s - loss: 0.0921 - accuracy: 0.9599 - val_loss: 0.1160 - val_accuracy: 0.9507\n",
      "Epoch 24/100\n",
      "100000/100000 - 3s - loss: 0.0909 - accuracy: 0.9603 - val_loss: 0.1093 - val_accuracy: 0.9529\n",
      "Epoch 25/100\n",
      "100000/100000 - 3s - loss: 0.0890 - accuracy: 0.9613 - val_loss: 0.1124 - val_accuracy: 0.9517\n",
      "Epoch 26/100\n",
      "100000/100000 - 4s - loss: 0.0850 - accuracy: 0.9630 - val_loss: 0.1076 - val_accuracy: 0.9543\n",
      "Epoch 27/100\n",
      "100000/100000 - 4s - loss: 0.0839 - accuracy: 0.9634 - val_loss: 0.1073 - val_accuracy: 0.9536\n",
      "Epoch 28/100\n",
      "100000/100000 - 4s - loss: 0.0832 - accuracy: 0.9639 - val_loss: 0.1085 - val_accuracy: 0.9535\n",
      "Epoch 29/100\n",
      "100000/100000 - 4s - loss: 0.0818 - accuracy: 0.9646 - val_loss: 0.1150 - val_accuracy: 0.9525\n",
      "Epoch 30/100\n",
      "100000/100000 - 3s - loss: 0.0793 - accuracy: 0.9656 - val_loss: 0.1107 - val_accuracy: 0.9537\n",
      "Epoch 31/100\n",
      "100000/100000 - 3s - loss: 0.0771 - accuracy: 0.9669 - val_loss: 0.1127 - val_accuracy: 0.9537\n",
      "Epoch 32/100\n",
      "100000/100000 - 3s - loss: 0.0770 - accuracy: 0.9669 - val_loss: 0.1057 - val_accuracy: 0.9542\n",
      "Epoch 33/100\n",
      "100000/100000 - 3s - loss: 0.0739 - accuracy: 0.9683 - val_loss: 0.1132 - val_accuracy: 0.9534\n",
      "Epoch 34/100\n",
      "100000/100000 - 3s - loss: 0.0732 - accuracy: 0.9686 - val_loss: 0.1074 - val_accuracy: 0.9552\n",
      "Epoch 35/100\n",
      "100000/100000 - 3s - loss: 0.0717 - accuracy: 0.9693 - val_loss: 0.1046 - val_accuracy: 0.9562\n",
      "Epoch 36/100\n",
      "100000/100000 - 4s - loss: 0.0701 - accuracy: 0.9702 - val_loss: 0.1094 - val_accuracy: 0.9563\n",
      "Epoch 37/100\n",
      "100000/100000 - 3s - loss: 0.0700 - accuracy: 0.9703 - val_loss: 0.1061 - val_accuracy: 0.9571\n",
      "Epoch 38/100\n",
      "100000/100000 - 3s - loss: 0.0682 - accuracy: 0.9710 - val_loss: 0.1037 - val_accuracy: 0.9574\n",
      "Epoch 39/100\n",
      "100000/100000 - 3s - loss: 0.0655 - accuracy: 0.9722 - val_loss: 0.1068 - val_accuracy: 0.9565\n",
      "Epoch 40/100\n",
      "100000/100000 - 3s - loss: 0.0654 - accuracy: 0.9724 - val_loss: 0.1064 - val_accuracy: 0.9571\n",
      "Epoch 41/100\n",
      "100000/100000 - 3s - loss: 0.0661 - accuracy: 0.9720 - val_loss: 0.1032 - val_accuracy: 0.9588\n",
      "Epoch 42/100\n",
      "100000/100000 - 3s - loss: 0.0650 - accuracy: 0.9726 - val_loss: 0.1072 - val_accuracy: 0.9578\n",
      "Epoch 43/100\n",
      "100000/100000 - 3s - loss: 0.0629 - accuracy: 0.9735 - val_loss: 0.1045 - val_accuracy: 0.9585\n",
      "Epoch 44/100\n",
      "100000/100000 - 3s - loss: 0.0619 - accuracy: 0.9741 - val_loss: 0.1054 - val_accuracy: 0.9599\n",
      "Epoch 45/100\n",
      "100000/100000 - 3s - loss: 0.0587 - accuracy: 0.9755 - val_loss: 0.1043 - val_accuracy: 0.9589\n",
      "Epoch 46/100\n",
      "100000/100000 - 3s - loss: 0.0619 - accuracy: 0.9741 - val_loss: 0.1095 - val_accuracy: 0.9584\n",
      "Epoch 47/100\n",
      "100000/100000 - 3s - loss: 0.0589 - accuracy: 0.9755 - val_loss: 0.1040 - val_accuracy: 0.9594\n",
      "Epoch 48/100\n",
      "100000/100000 - 3s - loss: 0.0566 - accuracy: 0.9763 - val_loss: 0.1081 - val_accuracy: 0.9579\n",
      "Epoch 49/100\n",
      "100000/100000 - 3s - loss: 0.0561 - accuracy: 0.9768 - val_loss: 0.1105 - val_accuracy: 0.9599\n",
      "Epoch 50/100\n",
      "100000/100000 - 3s - loss: 0.0552 - accuracy: 0.9772 - val_loss: 0.1069 - val_accuracy: 0.9590\n",
      "Epoch 51/100\n",
      "100000/100000 - 3s - loss: 0.0538 - accuracy: 0.9779 - val_loss: 0.1179 - val_accuracy: 0.9566\n",
      "Epoch 52/100\n",
      "100000/100000 - 3s - loss: 0.0552 - accuracy: 0.9772 - val_loss: 0.1072 - val_accuracy: 0.9599\n",
      "Epoch 53/100\n",
      "100000/100000 - 3s - loss: 0.0554 - accuracy: 0.9772 - val_loss: 0.1085 - val_accuracy: 0.9597\n",
      "Epoch 54/100\n",
      "100000/100000 - 3s - loss: 0.0529 - accuracy: 0.9782 - val_loss: 0.1099 - val_accuracy: 0.9605\n",
      "Epoch 55/100\n",
      "100000/100000 - 3s - loss: 0.0520 - accuracy: 0.9786 - val_loss: 0.1154 - val_accuracy: 0.9594\n",
      "Epoch 56/100\n",
      "100000/100000 - 3s - loss: 0.0508 - accuracy: 0.9792 - val_loss: 0.1115 - val_accuracy: 0.9591\n",
      "Epoch 57/100\n",
      "100000/100000 - 3s - loss: 0.0509 - accuracy: 0.9792 - val_loss: 0.1087 - val_accuracy: 0.9600\n",
      "Epoch 58/100\n",
      "100000/100000 - 3s - loss: 0.0505 - accuracy: 0.9794 - val_loss: 0.1096 - val_accuracy: 0.9593\n",
      "Epoch 59/100\n",
      "100000/100000 - 3s - loss: 0.0498 - accuracy: 0.9795 - val_loss: 0.1078 - val_accuracy: 0.9628\n",
      "Epoch 60/100\n",
      "100000/100000 - 3s - loss: 0.0481 - accuracy: 0.9805 - val_loss: 0.1159 - val_accuracy: 0.9594\n",
      "Epoch 61/100\n",
      "100000/100000 - 3s - loss: 0.0485 - accuracy: 0.9803 - val_loss: 0.1135 - val_accuracy: 0.9608\n",
      "Epoch 62/100\n",
      "100000/100000 - 3s - loss: 0.0465 - accuracy: 0.9813 - val_loss: 0.1086 - val_accuracy: 0.9623\n",
      "Epoch 63/100\n",
      "100000/100000 - 3s - loss: 0.0488 - accuracy: 0.9803 - val_loss: 0.1091 - val_accuracy: 0.9610\n",
      "Epoch 64/100\n",
      "100000/100000 - 3s - loss: 0.0440 - accuracy: 0.9822 - val_loss: 0.1141 - val_accuracy: 0.9626\n",
      "Epoch 65/100\n",
      "100000/100000 - 3s - loss: 0.0462 - accuracy: 0.9815 - val_loss: 0.1144 - val_accuracy: 0.9622\n",
      "Epoch 66/100\n",
      "100000/100000 - 3s - loss: 0.0449 - accuracy: 0.9819 - val_loss: 0.1079 - val_accuracy: 0.9622\n",
      "Epoch 67/100\n",
      "100000/100000 - 3s - loss: 0.0452 - accuracy: 0.9820 - val_loss: 0.1160 - val_accuracy: 0.9612\n",
      "Epoch 68/100\n",
      "100000/100000 - 3s - loss: 0.0436 - accuracy: 0.9827 - val_loss: 0.1130 - val_accuracy: 0.9625\n",
      "Epoch 69/100\n",
      "100000/100000 - 3s - loss: 0.0449 - accuracy: 0.9822 - val_loss: 0.1199 - val_accuracy: 0.9594\n",
      "Epoch 70/100\n",
      "100000/100000 - 3s - loss: 0.0436 - accuracy: 0.9824 - val_loss: 0.1142 - val_accuracy: 0.9615\n",
      "Epoch 71/100\n",
      "100000/100000 - 3s - loss: 0.0440 - accuracy: 0.9825 - val_loss: 0.1107 - val_accuracy: 0.9621\n",
      "Epoch 72/100\n",
      "100000/100000 - 3s - loss: 0.0420 - accuracy: 0.9833 - val_loss: 0.1179 - val_accuracy: 0.9610\n",
      "Epoch 73/100\n",
      "100000/100000 - 3s - loss: 0.0411 - accuracy: 0.9837 - val_loss: 0.1228 - val_accuracy: 0.9619\n",
      "Epoch 74/100\n",
      "100000/100000 - 3s - loss: 0.0416 - accuracy: 0.9836 - val_loss: 0.1176 - val_accuracy: 0.9625\n",
      "Epoch 75/100\n",
      "100000/100000 - 3s - loss: 0.0405 - accuracy: 0.9839 - val_loss: 0.1259 - val_accuracy: 0.9613\n",
      "Epoch 76/100\n",
      "100000/100000 - 3s - loss: 0.0429 - accuracy: 0.9829 - val_loss: 0.1197 - val_accuracy: 0.9603\n"
     ]
    },
    {
     "name": "stdout",
     "output_type": "stream",
     "text": [
      "Epoch 77/100\n",
      "100000/100000 - 3s - loss: 0.0399 - accuracy: 0.9841 - val_loss: 0.1277 - val_accuracy: 0.9603\n",
      "Epoch 78/100\n",
      "100000/100000 - 3s - loss: 0.0411 - accuracy: 0.9839 - val_loss: 0.1205 - val_accuracy: 0.9629\n",
      "Epoch 79/100\n",
      "100000/100000 - 3s - loss: 0.0389 - accuracy: 0.9846 - val_loss: 0.1242 - val_accuracy: 0.9629\n",
      "Epoch 80/100\n",
      "100000/100000 - 3s - loss: 0.0416 - accuracy: 0.9837 - val_loss: 0.1201 - val_accuracy: 0.9613\n",
      "Epoch 81/100\n",
      "100000/100000 - 3s - loss: 0.0390 - accuracy: 0.9847 - val_loss: 0.1154 - val_accuracy: 0.9638\n",
      "Epoch 82/100\n",
      "100000/100000 - 3s - loss: 0.0399 - accuracy: 0.9844 - val_loss: 0.1172 - val_accuracy: 0.9632\n",
      "Epoch 83/100\n",
      "100000/100000 - 3s - loss: 0.0372 - accuracy: 0.9854 - val_loss: 0.1201 - val_accuracy: 0.9624\n",
      "Epoch 84/100\n",
      "100000/100000 - 3s - loss: 0.0370 - accuracy: 0.9855 - val_loss: 0.1219 - val_accuracy: 0.9626\n",
      "Epoch 85/100\n",
      "100000/100000 - 3s - loss: 0.0379 - accuracy: 0.9852 - val_loss: 0.1173 - val_accuracy: 0.9637\n",
      "Epoch 86/100\n",
      "100000/100000 - 3s - loss: 0.0362 - accuracy: 0.9857 - val_loss: 0.1249 - val_accuracy: 0.9632\n",
      "Epoch 87/100\n",
      "100000/100000 - 3s - loss: 0.0380 - accuracy: 0.9852 - val_loss: 0.1208 - val_accuracy: 0.9628\n",
      "Epoch 88/100\n",
      "100000/100000 - 3s - loss: 0.0384 - accuracy: 0.9852 - val_loss: 0.1270 - val_accuracy: 0.9616\n",
      "Epoch 89/100\n",
      "100000/100000 - 3s - loss: 0.0367 - accuracy: 0.9858 - val_loss: 0.1378 - val_accuracy: 0.9598\n",
      "Epoch 90/100\n",
      "100000/100000 - 3s - loss: 0.0367 - accuracy: 0.9858 - val_loss: 0.1282 - val_accuracy: 0.9633\n",
      "Epoch 91/100\n",
      "100000/100000 - 3s - loss: 0.0374 - accuracy: 0.9854 - val_loss: 0.1284 - val_accuracy: 0.9636\n",
      "Epoch 92/100\n",
      "100000/100000 - 3s - loss: 0.0343 - accuracy: 0.9867 - val_loss: 0.1253 - val_accuracy: 0.9629\n",
      "Epoch 93/100\n",
      "100000/100000 - 3s - loss: 0.0354 - accuracy: 0.9864 - val_loss: 0.1240 - val_accuracy: 0.9632\n",
      "Epoch 94/100\n",
      "100000/100000 - 3s - loss: 0.0350 - accuracy: 0.9867 - val_loss: 0.1329 - val_accuracy: 0.9618\n",
      "Epoch 95/100\n",
      "100000/100000 - 3s - loss: 0.0339 - accuracy: 0.9868 - val_loss: 0.1350 - val_accuracy: 0.9628\n",
      "Epoch 96/100\n",
      "100000/100000 - 3s - loss: 0.0380 - accuracy: 0.9852 - val_loss: 0.1273 - val_accuracy: 0.9630\n",
      "Epoch 97/100\n",
      "100000/100000 - 3s - loss: 0.0353 - accuracy: 0.9863 - val_loss: 0.1210 - val_accuracy: 0.9641\n",
      "Epoch 98/100\n",
      "100000/100000 - 3s - loss: 0.0329 - accuracy: 0.9873 - val_loss: 0.1328 - val_accuracy: 0.9632\n",
      "Epoch 99/100\n",
      "100000/100000 - 3s - loss: 0.0360 - accuracy: 0.9863 - val_loss: 0.1247 - val_accuracy: 0.9621\n",
      "Epoch 100/100\n",
      "100000/100000 - 3s - loss: 0.0330 - accuracy: 0.9874 - val_loss: 0.1260 - val_accuracy: 0.9638\n"
     ]
    }
   ],
   "source": [
    "model = tf.keras.models.Sequential([\n",
    "    tf.keras.layers.Dense(200, input_shape = [24], activation = 'relu'),\n",
    "    tf.keras.layers.Dense(200, activation = 'relu'),\n",
    "    tf.keras.layers.Dense(200, activation = 'relu'),\n",
    "    tf.keras.layers.Dense(200, activation = 'relu'),\n",
    "    tf.keras.layers.Dense(200, activation = 'relu'),\n",
    "    tf.keras.layers.Dense(12, activation = 'sigmoid')\n",
    "])\n",
    "adam = tf.keras.optimizers.Adam(lr = 0.005)\n",
    "model.compile(optimizer = adam, loss = 'binary_crossentropy', metrics = ['accuracy'])\n",
    "\n",
    "history = model.fit(x_train, y_train, batch_size = 1024, epochs = 100, verbose = 2, validation_data = (x_test, y_test))\n"
   ]
  },
  {
   "cell_type": "code",
   "execution_count": 6,
   "metadata": {},
   "outputs": [
    {
     "data": {
      "image/png": "[encoded data removed]",
      "text/plain": [
       "<Figure size 432x288 with 1 Axes>"
      ]
     },
     "metadata": {
      "needs_background": "light"
     },
     "output_type": "display_data"
    }
   ],
   "source": [
    "import matplotlib.pyplot as plt\n",
    "plt.figure()\n",
    "acc = history.history['accuracy']\n",
    "loss = history.history['loss']\n",
    "val_acc = history.history['val_accuracy']\n",
    "val_loss = history.history['val_loss']\n",
    "epochs = range(len(acc))\n",
    "plt.plot(epochs, acc, 'r', label = 'Training accuracy')\n",
    "plt.plot(epochs, val_acc, 'b', label = 'Validating accuracy')\n",
    "plt.title('Training and Validating Accuracy')\n",
    "#plt.title('Training Accuracy')\n",
    "plt.legend()\n",
    "plt.show()"
   ]
  },
  {
   "cell_type": "code",
   "execution_count": 8,
   "metadata": {},
   "outputs": [
    {
     "name": "stdout",
     "output_type": "stream",
     "text": [
      "5000/1 - 0s - loss: 0.0630 - accuracy: 0.9720\n"
     ]
    },
    {
     "data": {
      "text/plain": [
       "[0.04715186712741852, 0.9720002]"
      ]
     },
     "execution_count": 8,
     "metadata": {},
     "output_type": "execute_result"
    }
   ],
   "source": [
    "#model.evaluate(x_test, y_test, verbose = 2)"
   ]
  },
  {
   "cell_type": "code",
   "execution_count": 7,
   "metadata": {},
   "outputs": [],
   "source": [
    "model.save('C:\\\\Users\\\\Wilfred\\\\Desktop\\\\weights\\\\Look_ahead_N\\\\Look_ahead_N_4_6_18_4_model.h5')"
   ]
  },
  {
   "cell_type": "code",
   "execution_count": 16,
   "metadata": {},
   "outputs": [],
   "source": [
    "#json_string  = model.to_json()\n",
    "#with open(\"C:\\\\Users\\\\Wilfred\\\\Desktop\\\\json_model.json\", \"w\") as json_file:\n",
    "#    json_file.write(json_string)"
   ]
  },
  {
   "cell_type": "code",
   "execution_count": 5,
   "metadata": {},
   "outputs": [],
   "source": [
    "#model.save_weights('C:\\\\Users\\\\Wilfred\\\\Desktop\\\\Look_ahead_N_4_6_15_2_weights.h5')"
   ]
  }
 ],
 "metadata": {
  "kernelspec": {
   "display_name": "Python 3",
   "language": "python",
   "name": "python3"
  },
  "language_info": {
   "codemirror_mode": {
    "name": "ipython",
    "version": 3
   },
   "file_extension": ".py",
   "mimetype": "text/x-python",
   "name": "python",
   "nbconvert_exporter": "python",
   "pygments_lexer": "ipython3",
   "version": "3.7.5"
  }
 },
 "nbformat": 4,
 "nbformat_minor": 2
}
