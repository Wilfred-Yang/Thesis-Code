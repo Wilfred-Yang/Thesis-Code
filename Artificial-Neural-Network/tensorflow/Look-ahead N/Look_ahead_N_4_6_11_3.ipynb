{
 "cells": [
  {
   "cell_type": "code",
   "execution_count": 5,
   "metadata": {},
   "outputs": [],
   "source": [
    "import tensorflow as tf\n",
    "import numpy as np\n",
    "import pickle\n",
    "np.random.seed(7)"
   ]
  },
  {
   "cell_type": "code",
   "execution_count": 6,
   "metadata": {},
   "outputs": [
    {
     "name": "stdout",
     "output_type": "stream",
     "text": [
      "(105000, 24)\n"
     ]
    }
   ],
   "source": [
    "with open ('C:\\\\Users\\\\Wilfred\\\\Desktop\\\\Look-ahead-N\\\\input_layer_4_6_11_3.pickle','rb') as file:\n",
    "    input_data = pickle.load(file)\n",
    "permutation = list(np.random.permutation(input_data.shape[0]))\n",
    "input_data = input_data[permutation,:]\n",
    "print(input_data.shape)\n",
    "x_train = input_data[:100000, :]\n",
    "x_test = input_data[100000:105000, :]\n"
   ]
  },
  {
   "cell_type": "code",
   "execution_count": 7,
   "metadata": {},
   "outputs": [
    {
     "name": "stdout",
     "output_type": "stream",
     "text": [
      "(105000, 12)\n"
     ]
    }
   ],
   "source": [
    "with open ('C:\\\\Users\\\\Wilfred\\\\Desktop\\\\Look-ahead-N\\\\output_layer_4_6_11_3.pickle','rb') as file:\n",
    "    output_data = pickle.load(file)\n",
    "output_data = np.transpose(output_data)\n",
    "output_data = output_data[permutation,:]\n",
    "y_train = output_data[:100000, :]\n",
    "y_test = output_data[100000:105000, :]\n",
    "print(output_data.shape)"
   ]
  },
  {
   "cell_type": "code",
   "execution_count": 8,
   "metadata": {},
   "outputs": [
    {
     "name": "stdout",
     "output_type": "stream",
     "text": [
      "Train on 100000 samples, validate on 5000 samples\n",
      "Epoch 1/100\n",
      "100000/100000 - 2s - loss: 0.3104 - accuracy: 0.8719 - val_loss: 0.2730 - val_accuracy: 0.8876\n",
      "Epoch 2/100\n",
      "100000/100000 - 1s - loss: 0.2607 - accuracy: 0.8902 - val_loss: 0.2551 - val_accuracy: 0.8924\n",
      "Epoch 3/100\n",
      "100000/100000 - 1s - loss: 0.2406 - accuracy: 0.8967 - val_loss: 0.2318 - val_accuracy: 0.9015\n",
      "Epoch 4/100\n",
      "100000/100000 - 1s - loss: 0.2169 - accuracy: 0.9074 - val_loss: 0.2104 - val_accuracy: 0.9113\n",
      "Epoch 5/100\n",
      "100000/100000 - 1s - loss: 0.1960 - accuracy: 0.9159 - val_loss: 0.1938 - val_accuracy: 0.9173\n",
      "Epoch 6/100\n",
      "100000/100000 - 1s - loss: 0.1794 - accuracy: 0.9213 - val_loss: 0.1759 - val_accuracy: 0.9219\n",
      "Epoch 7/100\n",
      "100000/100000 - 1s - loss: 0.1665 - accuracy: 0.9254 - val_loss: 0.1659 - val_accuracy: 0.9250\n",
      "Epoch 8/100\n",
      "100000/100000 - 1s - loss: 0.1538 - accuracy: 0.9298 - val_loss: 0.1595 - val_accuracy: 0.9268\n",
      "Epoch 9/100\n",
      "100000/100000 - 1s - loss: 0.1442 - accuracy: 0.9338 - val_loss: 0.1484 - val_accuracy: 0.9317\n",
      "Epoch 10/100\n",
      "100000/100000 - 1s - loss: 0.1352 - accuracy: 0.9381 - val_loss: 0.1381 - val_accuracy: 0.9366\n",
      "Epoch 11/100\n",
      "100000/100000 - 1s - loss: 0.1265 - accuracy: 0.9424 - val_loss: 0.1344 - val_accuracy: 0.9378\n",
      "Epoch 12/100\n",
      "100000/100000 - 1s - loss: 0.1191 - accuracy: 0.9462 - val_loss: 0.1257 - val_accuracy: 0.9423\n",
      "Epoch 13/100\n",
      "100000/100000 - 1s - loss: 0.1131 - accuracy: 0.9490 - val_loss: 0.1217 - val_accuracy: 0.9453\n",
      "Epoch 14/100\n",
      "100000/100000 - 1s - loss: 0.1072 - accuracy: 0.9519 - val_loss: 0.1168 - val_accuracy: 0.9484\n",
      "Epoch 15/100\n",
      "100000/100000 - 1s - loss: 0.1011 - accuracy: 0.9551 - val_loss: 0.1092 - val_accuracy: 0.9518\n",
      "Epoch 16/100\n",
      "100000/100000 - 1s - loss: 0.0960 - accuracy: 0.9577 - val_loss: 0.1022 - val_accuracy: 0.9546\n",
      "Epoch 17/100\n",
      "100000/100000 - 1s - loss: 0.0915 - accuracy: 0.9599 - val_loss: 0.0990 - val_accuracy: 0.9568\n",
      "Epoch 18/100\n",
      "100000/100000 - 1s - loss: 0.0864 - accuracy: 0.9624 - val_loss: 0.0968 - val_accuracy: 0.9588\n",
      "Epoch 19/100\n",
      "100000/100000 - 1s - loss: 0.0815 - accuracy: 0.9648 - val_loss: 0.0955 - val_accuracy: 0.9589\n",
      "Epoch 20/100\n",
      "100000/100000 - 1s - loss: 0.0788 - accuracy: 0.9662 - val_loss: 0.0906 - val_accuracy: 0.9615\n",
      "Epoch 21/100\n",
      "100000/100000 - 1s - loss: 0.0743 - accuracy: 0.9684 - val_loss: 0.0888 - val_accuracy: 0.9618\n",
      "Epoch 22/100\n",
      "100000/100000 - 1s - loss: 0.0711 - accuracy: 0.9699 - val_loss: 0.0885 - val_accuracy: 0.9625\n",
      "Epoch 23/100\n",
      "100000/100000 - 1s - loss: 0.0684 - accuracy: 0.9713 - val_loss: 0.0858 - val_accuracy: 0.9647\n",
      "Epoch 24/100\n",
      "100000/100000 - 1s - loss: 0.0666 - accuracy: 0.9723 - val_loss: 0.0812 - val_accuracy: 0.9657\n",
      "Epoch 25/100\n",
      "100000/100000 - 1s - loss: 0.0629 - accuracy: 0.9740 - val_loss: 0.0843 - val_accuracy: 0.9656\n",
      "Epoch 26/100\n",
      "100000/100000 - 1s - loss: 0.0598 - accuracy: 0.9754 - val_loss: 0.0802 - val_accuracy: 0.9674\n",
      "Epoch 27/100\n",
      "100000/100000 - 1s - loss: 0.0591 - accuracy: 0.9758 - val_loss: 0.0751 - val_accuracy: 0.9684\n",
      "Epoch 28/100\n",
      "100000/100000 - 1s - loss: 0.0565 - accuracy: 0.9768 - val_loss: 0.0750 - val_accuracy: 0.9700\n",
      "Epoch 29/100\n",
      "100000/100000 - 1s - loss: 0.0545 - accuracy: 0.9777 - val_loss: 0.0722 - val_accuracy: 0.9712\n",
      "Epoch 30/100\n",
      "100000/100000 - 1s - loss: 0.0533 - accuracy: 0.9783 - val_loss: 0.0685 - val_accuracy: 0.9732\n",
      "Epoch 31/100\n",
      "100000/100000 - 1s - loss: 0.0507 - accuracy: 0.9795 - val_loss: 0.0684 - val_accuracy: 0.9727\n",
      "Epoch 32/100\n",
      "100000/100000 - 1s - loss: 0.0488 - accuracy: 0.9802 - val_loss: 0.0656 - val_accuracy: 0.9747\n",
      "Epoch 33/100\n",
      "100000/100000 - 1s - loss: 0.0477 - accuracy: 0.9809 - val_loss: 0.0720 - val_accuracy: 0.9717\n",
      "Epoch 34/100\n",
      "100000/100000 - 1s - loss: 0.0469 - accuracy: 0.9811 - val_loss: 0.0701 - val_accuracy: 0.9729\n",
      "Epoch 35/100\n",
      "100000/100000 - 1s - loss: 0.0447 - accuracy: 0.9820 - val_loss: 0.0655 - val_accuracy: 0.9745\n",
      "Epoch 36/100\n",
      "100000/100000 - 1s - loss: 0.0450 - accuracy: 0.9822 - val_loss: 0.0622 - val_accuracy: 0.9754\n",
      "Epoch 37/100\n",
      "100000/100000 - 1s - loss: 0.0416 - accuracy: 0.9836 - val_loss: 0.0602 - val_accuracy: 0.9771\n",
      "Epoch 38/100\n",
      "100000/100000 - 1s - loss: 0.0420 - accuracy: 0.9833 - val_loss: 0.0623 - val_accuracy: 0.9765\n",
      "Epoch 39/100\n",
      "100000/100000 - 1s - loss: 0.0406 - accuracy: 0.9839 - val_loss: 0.0608 - val_accuracy: 0.9769\n",
      "Epoch 40/100\n",
      "100000/100000 - 1s - loss: 0.0395 - accuracy: 0.9844 - val_loss: 0.0623 - val_accuracy: 0.9773\n",
      "Epoch 41/100\n",
      "100000/100000 - 1s - loss: 0.0390 - accuracy: 0.9847 - val_loss: 0.0660 - val_accuracy: 0.9756\n",
      "Epoch 42/100\n",
      "100000/100000 - 1s - loss: 0.0359 - accuracy: 0.9859 - val_loss: 0.0596 - val_accuracy: 0.9778\n",
      "Epoch 43/100\n",
      "100000/100000 - 1s - loss: 0.0350 - accuracy: 0.9863 - val_loss: 0.0628 - val_accuracy: 0.9775\n",
      "Epoch 44/100\n",
      "100000/100000 - 1s - loss: 0.0358 - accuracy: 0.9859 - val_loss: 0.0615 - val_accuracy: 0.9780\n",
      "Epoch 45/100\n",
      "100000/100000 - 1s - loss: 0.0334 - accuracy: 0.9869 - val_loss: 0.0575 - val_accuracy: 0.9784\n",
      "Epoch 46/100\n",
      "100000/100000 - 1s - loss: 0.0327 - accuracy: 0.9874 - val_loss: 0.0577 - val_accuracy: 0.9786\n",
      "Epoch 47/100\n",
      "100000/100000 - 1s - loss: 0.0325 - accuracy: 0.9875 - val_loss: 0.0566 - val_accuracy: 0.9792\n",
      "Epoch 48/100\n",
      "100000/100000 - 1s - loss: 0.0342 - accuracy: 0.9869 - val_loss: 0.0560 - val_accuracy: 0.9792\n",
      "Epoch 49/100\n",
      "100000/100000 - 1s - loss: 0.0341 - accuracy: 0.9869 - val_loss: 0.0572 - val_accuracy: 0.9789\n",
      "Epoch 50/100\n",
      "100000/100000 - 1s - loss: 0.0318 - accuracy: 0.9878 - val_loss: 0.0544 - val_accuracy: 0.9801\n",
      "Epoch 51/100\n",
      "100000/100000 - 1s - loss: 0.0300 - accuracy: 0.9885 - val_loss: 0.0542 - val_accuracy: 0.9806\n",
      "Epoch 52/100\n",
      "100000/100000 - 1s - loss: 0.0302 - accuracy: 0.9885 - val_loss: 0.0540 - val_accuracy: 0.9810\n",
      "Epoch 53/100\n",
      "100000/100000 - 1s - loss: 0.0310 - accuracy: 0.9882 - val_loss: 0.0559 - val_accuracy: 0.9807\n",
      "Epoch 54/100\n",
      "100000/100000 - 1s - loss: 0.0287 - accuracy: 0.9891 - val_loss: 0.0572 - val_accuracy: 0.9797\n",
      "Epoch 55/100\n",
      "100000/100000 - 1s - loss: 0.0286 - accuracy: 0.9891 - val_loss: 0.0570 - val_accuracy: 0.9809\n",
      "Epoch 56/100\n",
      "100000/100000 - 1s - loss: 0.0273 - accuracy: 0.9895 - val_loss: 0.0522 - val_accuracy: 0.9818\n",
      "Epoch 57/100\n",
      "100000/100000 - 1s - loss: 0.0287 - accuracy: 0.9891 - val_loss: 0.0564 - val_accuracy: 0.9809\n",
      "Epoch 58/100\n",
      "100000/100000 - 1s - loss: 0.0296 - accuracy: 0.9889 - val_loss: 0.0519 - val_accuracy: 0.9822\n",
      "Epoch 59/100\n",
      "100000/100000 - 1s - loss: 0.0271 - accuracy: 0.9899 - val_loss: 0.0548 - val_accuracy: 0.9822\n",
      "Epoch 60/100\n",
      "100000/100000 - 1s - loss: 0.0266 - accuracy: 0.9898 - val_loss: 0.0591 - val_accuracy: 0.9801\n",
      "Epoch 61/100\n",
      "100000/100000 - 1s - loss: 0.0272 - accuracy: 0.9898 - val_loss: 0.0562 - val_accuracy: 0.9820\n",
      "Epoch 62/100\n",
      "100000/100000 - 1s - loss: 0.0238 - accuracy: 0.9911 - val_loss: 0.0509 - val_accuracy: 0.9828\n",
      "Epoch 63/100\n",
      "100000/100000 - 1s - loss: 0.0278 - accuracy: 0.9896 - val_loss: 0.0546 - val_accuracy: 0.9812\n",
      "Epoch 64/100\n",
      "100000/100000 - 1s - loss: 0.0272 - accuracy: 0.9898 - val_loss: 0.0523 - val_accuracy: 0.9831\n",
      "Epoch 65/100\n",
      "100000/100000 - 1s - loss: 0.0234 - accuracy: 0.9913 - val_loss: 0.0548 - val_accuracy: 0.9821\n",
      "Epoch 66/100\n",
      "100000/100000 - 1s - loss: 0.0252 - accuracy: 0.9906 - val_loss: 0.0517 - val_accuracy: 0.9832\n",
      "Epoch 67/100\n",
      "100000/100000 - 2s - loss: 0.0236 - accuracy: 0.9912 - val_loss: 0.0470 - val_accuracy: 0.9848\n",
      "Epoch 68/100\n",
      "100000/100000 - 1s - loss: 0.0228 - accuracy: 0.9915 - val_loss: 0.0563 - val_accuracy: 0.9826\n",
      "Epoch 69/100\n",
      "100000/100000 - 1s - loss: 0.0237 - accuracy: 0.9912 - val_loss: 0.0486 - val_accuracy: 0.9838\n",
      "Epoch 70/100\n",
      "100000/100000 - 1s - loss: 0.0241 - accuracy: 0.9910 - val_loss: 0.0476 - val_accuracy: 0.9845\n",
      "Epoch 71/100\n",
      "100000/100000 - 1s - loss: 0.0225 - accuracy: 0.9916 - val_loss: 0.0516 - val_accuracy: 0.9842\n",
      "Epoch 72/100\n",
      "100000/100000 - 1s - loss: 0.0235 - accuracy: 0.9912 - val_loss: 0.0554 - val_accuracy: 0.9826\n",
      "Epoch 73/100\n",
      "100000/100000 - 1s - loss: 0.0239 - accuracy: 0.9912 - val_loss: 0.0489 - val_accuracy: 0.9845\n",
      "Epoch 74/100\n",
      "100000/100000 - 1s - loss: 0.0238 - accuracy: 0.9912 - val_loss: 0.0549 - val_accuracy: 0.9834\n",
      "Epoch 75/100\n",
      "100000/100000 - 1s - loss: 0.0219 - accuracy: 0.9919 - val_loss: 0.0525 - val_accuracy: 0.9839\n",
      "Epoch 76/100\n",
      "100000/100000 - 1s - loss: 0.0233 - accuracy: 0.9915 - val_loss: 0.0471 - val_accuracy: 0.9853\n"
     ]
    },
    {
     "name": "stdout",
     "output_type": "stream",
     "text": [
      "Epoch 77/100\n",
      "100000/100000 - 1s - loss: 0.0228 - accuracy: 0.9916 - val_loss: 0.0484 - val_accuracy: 0.9844\n",
      "Epoch 78/100\n",
      "100000/100000 - 1s - loss: 0.0203 - accuracy: 0.9924 - val_loss: 0.0455 - val_accuracy: 0.9857\n",
      "Epoch 79/100\n",
      "100000/100000 - 1s - loss: 0.0212 - accuracy: 0.9922 - val_loss: 0.0527 - val_accuracy: 0.9832\n",
      "Epoch 80/100\n",
      "100000/100000 - 1s - loss: 0.0237 - accuracy: 0.9914 - val_loss: 0.0512 - val_accuracy: 0.9845\n",
      "Epoch 81/100\n",
      "100000/100000 - 1s - loss: 0.0208 - accuracy: 0.9923 - val_loss: 0.0525 - val_accuracy: 0.9843\n",
      "Epoch 82/100\n",
      "100000/100000 - 1s - loss: 0.0207 - accuracy: 0.9924 - val_loss: 0.0466 - val_accuracy: 0.9864\n",
      "Epoch 83/100\n",
      "100000/100000 - 1s - loss: 0.0201 - accuracy: 0.9928 - val_loss: 0.0499 - val_accuracy: 0.9847\n",
      "Epoch 84/100\n",
      "100000/100000 - 1s - loss: 0.0187 - accuracy: 0.9932 - val_loss: 0.0520 - val_accuracy: 0.9842\n",
      "Epoch 85/100\n",
      "100000/100000 - 1s - loss: 0.0206 - accuracy: 0.9925 - val_loss: 0.0536 - val_accuracy: 0.9841\n",
      "Epoch 86/100\n",
      "100000/100000 - 1s - loss: 0.0226 - accuracy: 0.9919 - val_loss: 0.0541 - val_accuracy: 0.9838\n",
      "Epoch 87/100\n",
      "100000/100000 - 1s - loss: 0.0215 - accuracy: 0.9923 - val_loss: 0.0477 - val_accuracy: 0.9849\n",
      "Epoch 88/100\n",
      "100000/100000 - 1s - loss: 0.0186 - accuracy: 0.9932 - val_loss: 0.0459 - val_accuracy: 0.9856\n",
      "Epoch 89/100\n",
      "100000/100000 - 1s - loss: 0.0210 - accuracy: 0.9925 - val_loss: 0.0503 - val_accuracy: 0.9846\n",
      "Epoch 90/100\n",
      "100000/100000 - 1s - loss: 0.0199 - accuracy: 0.9928 - val_loss: 0.0455 - val_accuracy: 0.9860\n",
      "Epoch 91/100\n",
      "100000/100000 - 1s - loss: 0.0198 - accuracy: 0.9929 - val_loss: 0.0478 - val_accuracy: 0.9851\n",
      "Epoch 92/100\n",
      "100000/100000 - 1s - loss: 0.0177 - accuracy: 0.9936 - val_loss: 0.0471 - val_accuracy: 0.9859\n",
      "Epoch 93/100\n",
      "100000/100000 - 1s - loss: 0.0193 - accuracy: 0.9931 - val_loss: 0.0491 - val_accuracy: 0.9857\n",
      "Epoch 94/100\n",
      "100000/100000 - 1s - loss: 0.0209 - accuracy: 0.9926 - val_loss: 0.0558 - val_accuracy: 0.9842\n",
      "Epoch 95/100\n",
      "100000/100000 - 1s - loss: 0.0190 - accuracy: 0.9931 - val_loss: 0.0445 - val_accuracy: 0.9865\n",
      "Epoch 96/100\n",
      "100000/100000 - 1s - loss: 0.0158 - accuracy: 0.9942 - val_loss: 0.0484 - val_accuracy: 0.9864\n",
      "Epoch 97/100\n",
      "100000/100000 - 1s - loss: 0.0164 - accuracy: 0.9939 - val_loss: 0.0458 - val_accuracy: 0.9873\n",
      "Epoch 98/100\n",
      "100000/100000 - 1s - loss: 0.0192 - accuracy: 0.9932 - val_loss: 0.0473 - val_accuracy: 0.9858\n",
      "Epoch 99/100\n",
      "100000/100000 - 1s - loss: 0.0192 - accuracy: 0.9931 - val_loss: 0.0572 - val_accuracy: 0.9835\n",
      "Epoch 100/100\n",
      "100000/100000 - 1s - loss: 0.0215 - accuracy: 0.9925 - val_loss: 0.0484 - val_accuracy: 0.9856\n"
     ]
    }
   ],
   "source": [
    "model = tf.keras.models.Sequential([\n",
    "    tf.keras.layers.Dense(130, input_shape = [24], activation = 'relu'),\n",
    "    tf.keras.layers.Dense(130, activation = 'relu'),\n",
    "    tf.keras.layers.Dense(130, activation = 'relu'),\n",
    "    tf.keras.layers.Dense(130, activation = 'relu'),\n",
    "    tf.keras.layers.Dense(12, activation = 'sigmoid')\n",
    "])\n",
    "adam = tf.keras.optimizers.Adam(lr = 0.005)\n",
    "model.compile(optimizer = adam, loss = 'binary_crossentropy', metrics = ['accuracy'])\n",
    "\n",
    "history = model.fit(x_train, y_train, batch_size = 1024, epochs = 100, verbose = 2, validation_data = (x_test, y_test))\n"
   ]
  },
  {
   "cell_type": "code",
   "execution_count": 10,
   "metadata": {},
   "outputs": [
    {
     "data": {
      "image/png": "[encoded data removed]",
      "text/plain": [
       "<Figure size 432x288 with 1 Axes>"
      ]
     },
     "metadata": {
      "needs_background": "light"
     },
     "output_type": "display_data"
    }
   ],
   "source": [
    "import matplotlib.pyplot as plt\n",
    "plt.figure()\n",
    "acc = history.history['accuracy']\n",
    "loss = history.history['loss']\n",
    "val_acc = history.history['val_accuracy']\n",
    "val_loss = history.history['val_loss']\n",
    "epochs = range(len(acc))\n",
    "plt.plot(epochs, acc, 'r', label = 'Training accuracy')\n",
    "plt.plot(epochs, val_acc, 'b', label = 'Validating accuracy')\n",
    "plt.title('Training and Validating Accuracy')\n",
    "#plt.title('Training Accuracy')\n",
    "plt.legend()\n",
    "plt.show()"
   ]
  },
  {
   "cell_type": "code",
   "execution_count": 8,
   "metadata": {},
   "outputs": [
    {
     "name": "stdout",
     "output_type": "stream",
     "text": [
      "5000/1 - 0s - loss: 0.0630 - accuracy: 0.9720\n"
     ]
    },
    {
     "data": {
      "text/plain": [
       "[0.04715186712741852, 0.9720002]"
      ]
     },
     "execution_count": 8,
     "metadata": {},
     "output_type": "execute_result"
    }
   ],
   "source": [
    "#model.evaluate(x_test, y_test, verbose = 2)"
   ]
  },
  {
   "cell_type": "code",
   "execution_count": 11,
   "metadata": {},
   "outputs": [],
   "source": [
    "model.save('C:\\\\Users\\\\Wilfred\\\\Desktop\\\\weights\\\\Look_ahead_N\\\\Look_ahead_N_4_6_11_3_model.h5')"
   ]
  },
  {
   "cell_type": "code",
   "execution_count": null,
   "metadata": {},
   "outputs": [],
   "source": []
  }
 ],
 "metadata": {
  "kernelspec": {
   "display_name": "Python 3",
   "language": "python",
   "name": "python3"
  },
  "language_info": {
   "codemirror_mode": {
    "name": "ipython",
    "version": 3
   },
   "file_extension": ".py",
   "mimetype": "text/x-python",
   "name": "python",
   "nbconvert_exporter": "python",
   "pygments_lexer": "ipython3",
   "version": "3.7.5"
  }
 },
 "nbformat": 4,
 "nbformat_minor": 2
}
