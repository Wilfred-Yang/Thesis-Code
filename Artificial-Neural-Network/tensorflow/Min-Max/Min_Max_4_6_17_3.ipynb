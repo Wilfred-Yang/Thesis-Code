{
 "cells": [
  {
   "cell_type": "code",
   "execution_count": 1,
   "metadata": {},
   "outputs": [],
   "source": [
    "import tensorflow as tf\n",
    "import numpy as np\n",
    "import pickle"
   ]
  },
  {
   "cell_type": "code",
   "execution_count": 2,
   "metadata": {},
   "outputs": [
    {
     "name": "stdout",
     "output_type": "stream",
     "text": [
      "(105000, 24)\n"
     ]
    }
   ],
   "source": [
    "with open ('C:\\\\Users\\\\Wilfred\\\\Desktop\\\\Min-Max\\\\input_layer_4_6_17_3.pickle','rb') as file:\n",
    "    input_data = pickle.load(file)\n",
    "print(input_data.shape)\n",
    "permutation = list(np.random.permutation(input_data.shape[0]))\n",
    "input_data = input_data[permutation, :]\n",
    "x_train = input_data[:100000,:]\n",
    "x_valid = input_data[100000:102500, :]\n",
    "x_test = input_data[102500:,:]\n",
    "\n"
   ]
  },
  {
   "cell_type": "code",
   "execution_count": 3,
   "metadata": {},
   "outputs": [
    {
     "name": "stdout",
     "output_type": "stream",
     "text": [
      "(105000, 12)\n"
     ]
    }
   ],
   "source": [
    "with open ('C:\\\\Users\\\\Wilfred\\\\Desktop\\\\Min-Max\\\\output_layer_4_6_17_3.pickle','rb') as file:\n",
    "    output_data = pickle.load(file)\n",
    "    \n",
    "output_data = np.transpose(output_data)\n",
    "output_data = output_data[permutation, :]\n",
    "y_train = output_data[:100000,:]\n",
    "y_valid = output_data[100000:102500, :]\n",
    "y_test = output_data[102500:,:]\n",
    "print(output_data.shape)"
   ]
  },
  {
   "cell_type": "code",
   "execution_count": 4,
   "metadata": {},
   "outputs": [
    {
     "name": "stdout",
     "output_type": "stream",
     "text": [
      "Train on 100000 samples, validate on 2500 samples\n",
      "Epoch 1/100\n",
      "100000/100000 - 3s - loss: 0.3347 - accuracy: 0.8526 - val_loss: 0.2387 - val_accuracy: 0.8878\n",
      "Epoch 2/100\n",
      "100000/100000 - 2s - loss: 0.2094 - accuracy: 0.9013 - val_loss: 0.1869 - val_accuracy: 0.9104\n",
      "Epoch 3/100\n",
      "100000/100000 - 1s - loss: 0.1802 - accuracy: 0.9130 - val_loss: 0.1674 - val_accuracy: 0.9183\n",
      "Epoch 4/100\n",
      "100000/100000 - 1s - loss: 0.1667 - accuracy: 0.9187 - val_loss: 0.1606 - val_accuracy: 0.9219\n",
      "Epoch 5/100\n",
      "100000/100000 - 2s - loss: 0.1584 - accuracy: 0.9229 - val_loss: 0.1547 - val_accuracy: 0.9244\n",
      "Epoch 6/100\n",
      "100000/100000 - 2s - loss: 0.1517 - accuracy: 0.9262 - val_loss: 0.1514 - val_accuracy: 0.9264\n",
      "Epoch 7/100\n",
      "100000/100000 - 2s - loss: 0.1495 - accuracy: 0.9273 - val_loss: 0.1473 - val_accuracy: 0.9284\n",
      "Epoch 8/100\n",
      "100000/100000 - 2s - loss: 0.1447 - accuracy: 0.9301 - val_loss: 0.1437 - val_accuracy: 0.9296\n",
      "Epoch 9/100\n",
      "100000/100000 - 1s - loss: 0.1487 - accuracy: 0.9292 - val_loss: 0.1463 - val_accuracy: 0.9295\n",
      "Epoch 10/100\n",
      "100000/100000 - 2s - loss: 0.1406 - accuracy: 0.9329 - val_loss: 0.1435 - val_accuracy: 0.9329\n",
      "Epoch 11/100\n",
      "100000/100000 - 1s - loss: 0.1373 - accuracy: 0.9349 - val_loss: 0.1364 - val_accuracy: 0.9354\n",
      "Epoch 12/100\n",
      "100000/100000 - 2s - loss: 0.1338 - accuracy: 0.9366 - val_loss: 0.1331 - val_accuracy: 0.9362\n",
      "Epoch 13/100\n",
      "100000/100000 - 2s - loss: 0.1303 - accuracy: 0.9387 - val_loss: 0.1286 - val_accuracy: 0.9388\n",
      "Epoch 14/100\n",
      "100000/100000 - 2s - loss: 0.1247 - accuracy: 0.9414 - val_loss: 0.1241 - val_accuracy: 0.9409\n",
      "Epoch 15/100\n",
      "100000/100000 - 2s - loss: 0.1200 - accuracy: 0.9438 - val_loss: 0.1177 - val_accuracy: 0.9456\n",
      "Epoch 16/100\n",
      "100000/100000 - 2s - loss: 0.1115 - accuracy: 0.9475 - val_loss: 0.1062 - val_accuracy: 0.9504\n",
      "Epoch 17/100\n",
      "100000/100000 - 2s - loss: 0.1044 - accuracy: 0.9509 - val_loss: 0.1037 - val_accuracy: 0.9506\n",
      "Epoch 18/100\n",
      "100000/100000 - 2s - loss: 0.0961 - accuracy: 0.9545 - val_loss: 0.0931 - val_accuracy: 0.9566\n",
      "Epoch 19/100\n",
      "100000/100000 - 2s - loss: 0.0888 - accuracy: 0.9580 - val_loss: 0.0893 - val_accuracy: 0.9574\n",
      "Epoch 20/100\n",
      "100000/100000 - 2s - loss: 0.0842 - accuracy: 0.9603 - val_loss: 0.0867 - val_accuracy: 0.9592\n",
      "Epoch 21/100\n",
      "100000/100000 - 2s - loss: 0.0799 - accuracy: 0.9623 - val_loss: 0.0817 - val_accuracy: 0.9623\n",
      "Epoch 22/100\n",
      "100000/100000 - 2s - loss: 0.0744 - accuracy: 0.9653 - val_loss: 0.0827 - val_accuracy: 0.9620\n",
      "Epoch 23/100\n",
      "100000/100000 - 2s - loss: 0.0715 - accuracy: 0.9667 - val_loss: 0.0752 - val_accuracy: 0.9650\n",
      "Epoch 24/100\n",
      "100000/100000 - 2s - loss: 0.0687 - accuracy: 0.9680 - val_loss: 0.0749 - val_accuracy: 0.9656\n",
      "Epoch 25/100\n",
      "100000/100000 - 2s - loss: 0.0651 - accuracy: 0.9699 - val_loss: 0.0748 - val_accuracy: 0.9656\n",
      "Epoch 26/100\n",
      "100000/100000 - 2s - loss: 0.0630 - accuracy: 0.9710 - val_loss: 0.0717 - val_accuracy: 0.9656\n",
      "Epoch 27/100\n",
      "100000/100000 - 1s - loss: 0.0594 - accuracy: 0.9727 - val_loss: 0.0660 - val_accuracy: 0.9695\n",
      "Epoch 28/100\n",
      "100000/100000 - 2s - loss: 0.0573 - accuracy: 0.9740 - val_loss: 0.0627 - val_accuracy: 0.9706\n",
      "Epoch 29/100\n",
      "100000/100000 - 1s - loss: 0.0550 - accuracy: 0.9751 - val_loss: 0.0618 - val_accuracy: 0.9713\n",
      "Epoch 30/100\n",
      "100000/100000 - 2s - loss: 0.0524 - accuracy: 0.9764 - val_loss: 0.0638 - val_accuracy: 0.9715\n",
      "Epoch 31/100\n",
      "100000/100000 - 1s - loss: 0.0508 - accuracy: 0.9772 - val_loss: 0.0619 - val_accuracy: 0.9725\n",
      "Epoch 32/100\n",
      "100000/100000 - 2s - loss: 0.0487 - accuracy: 0.9781 - val_loss: 0.0570 - val_accuracy: 0.9748\n",
      "Epoch 33/100\n",
      "100000/100000 - 2s - loss: 0.0473 - accuracy: 0.9788 - val_loss: 0.0580 - val_accuracy: 0.9754\n",
      "Epoch 34/100\n",
      "100000/100000 - 2s - loss: 0.0448 - accuracy: 0.9801 - val_loss: 0.0586 - val_accuracy: 0.9737\n",
      "Epoch 35/100\n",
      "100000/100000 - 1s - loss: 0.0427 - accuracy: 0.9812 - val_loss: 0.0598 - val_accuracy: 0.9733\n",
      "Epoch 36/100\n",
      "100000/100000 - 1s - loss: 0.0444 - accuracy: 0.9805 - val_loss: 0.0502 - val_accuracy: 0.9776\n",
      "Epoch 37/100\n",
      "100000/100000 - 1s - loss: 0.0423 - accuracy: 0.9815 - val_loss: 0.0528 - val_accuracy: 0.9766\n",
      "Epoch 38/100\n",
      "100000/100000 - 2s - loss: 0.0388 - accuracy: 0.9832 - val_loss: 0.0497 - val_accuracy: 0.9785\n",
      "Epoch 39/100\n",
      "100000/100000 - 2s - loss: 0.0370 - accuracy: 0.9840 - val_loss: 0.0476 - val_accuracy: 0.9798\n",
      "Epoch 40/100\n",
      "100000/100000 - 2s - loss: 0.0372 - accuracy: 0.9838 - val_loss: 0.0466 - val_accuracy: 0.9800\n",
      "Epoch 41/100\n",
      "100000/100000 - 2s - loss: 0.0358 - accuracy: 0.9846 - val_loss: 0.0470 - val_accuracy: 0.9797\n",
      "Epoch 42/100\n",
      "100000/100000 - 2s - loss: 0.0356 - accuracy: 0.9847 - val_loss: 0.0460 - val_accuracy: 0.9810\n",
      "Epoch 43/100\n",
      "100000/100000 - 1s - loss: 0.0329 - accuracy: 0.9860 - val_loss: 0.0477 - val_accuracy: 0.9794\n",
      "Epoch 44/100\n",
      "100000/100000 - 2s - loss: 0.0324 - accuracy: 0.9862 - val_loss: 0.0437 - val_accuracy: 0.9812\n",
      "Epoch 45/100\n",
      "100000/100000 - 2s - loss: 0.0313 - accuracy: 0.9867 - val_loss: 0.0445 - val_accuracy: 0.9808\n",
      "Epoch 46/100\n",
      "100000/100000 - 2s - loss: 0.0323 - accuracy: 0.9864 - val_loss: 0.0481 - val_accuracy: 0.9804\n",
      "Epoch 47/100\n",
      "100000/100000 - 1s - loss: 0.0315 - accuracy: 0.9867 - val_loss: 0.0429 - val_accuracy: 0.9832\n",
      "Epoch 48/100\n",
      "100000/100000 - 2s - loss: 0.0300 - accuracy: 0.9874 - val_loss: 0.0399 - val_accuracy: 0.9837\n",
      "Epoch 49/100\n",
      "100000/100000 - 1s - loss: 0.0286 - accuracy: 0.9880 - val_loss: 0.0475 - val_accuracy: 0.9802\n",
      "Epoch 50/100\n",
      "100000/100000 - 1s - loss: 0.0312 - accuracy: 0.9870 - val_loss: 0.0441 - val_accuracy: 0.9810\n",
      "Epoch 51/100\n",
      "100000/100000 - 1s - loss: 0.0270 - accuracy: 0.9887 - val_loss: 0.0440 - val_accuracy: 0.9816\n",
      "Epoch 52/100\n",
      "100000/100000 - 1s - loss: 0.0283 - accuracy: 0.9883 - val_loss: 0.0435 - val_accuracy: 0.9821\n",
      "Epoch 53/100\n",
      "100000/100000 - 2s - loss: 0.0269 - accuracy: 0.9888 - val_loss: 0.0401 - val_accuracy: 0.9832\n",
      "Epoch 54/100\n",
      "100000/100000 - 2s - loss: 0.0262 - accuracy: 0.9893 - val_loss: 0.0389 - val_accuracy: 0.9845\n",
      "Epoch 55/100\n",
      "100000/100000 - 2s - loss: 0.0249 - accuracy: 0.9897 - val_loss: 0.0390 - val_accuracy: 0.9836\n",
      "Epoch 56/100\n",
      "100000/100000 - 2s - loss: 0.0251 - accuracy: 0.9896 - val_loss: 0.0469 - val_accuracy: 0.9826\n",
      "Epoch 57/100\n",
      "100000/100000 - 2s - loss: 0.0259 - accuracy: 0.9895 - val_loss: 0.0465 - val_accuracy: 0.9820\n",
      "Epoch 58/100\n",
      "100000/100000 - 2s - loss: 0.0227 - accuracy: 0.9908 - val_loss: 0.0351 - val_accuracy: 0.9863\n",
      "Epoch 59/100\n",
      "100000/100000 - 2s - loss: 0.0214 - accuracy: 0.9913 - val_loss: 0.0468 - val_accuracy: 0.9822\n",
      "Epoch 60/100\n",
      "100000/100000 - 2s - loss: 0.0259 - accuracy: 0.9894 - val_loss: 0.0475 - val_accuracy: 0.9813\n",
      "Epoch 61/100\n",
      "100000/100000 - 2s - loss: 0.0236 - accuracy: 0.9903 - val_loss: 0.0380 - val_accuracy: 0.9858\n",
      "Epoch 62/100\n",
      "100000/100000 - 2s - loss: 0.0222 - accuracy: 0.9910 - val_loss: 0.0363 - val_accuracy: 0.9861\n",
      "Epoch 63/100\n",
      "100000/100000 - 1s - loss: 0.0213 - accuracy: 0.9914 - val_loss: 0.0349 - val_accuracy: 0.9863\n",
      "Epoch 64/100\n",
      "100000/100000 - 2s - loss: 0.0193 - accuracy: 0.9923 - val_loss: 0.0370 - val_accuracy: 0.9859\n",
      "Epoch 65/100\n",
      "100000/100000 - 2s - loss: 0.0222 - accuracy: 0.9913 - val_loss: 0.0436 - val_accuracy: 0.9845\n",
      "Epoch 66/100\n",
      "100000/100000 - 2s - loss: 0.0215 - accuracy: 0.9914 - val_loss: 0.0409 - val_accuracy: 0.9843\n",
      "Epoch 67/100\n",
      "100000/100000 - 2s - loss: 0.0252 - accuracy: 0.9900 - val_loss: 0.0390 - val_accuracy: 0.9856\n",
      "Epoch 68/100\n",
      "100000/100000 - 2s - loss: 0.0221 - accuracy: 0.9911 - val_loss: 0.0366 - val_accuracy: 0.9860\n",
      "Epoch 69/100\n",
      "100000/100000 - 2s - loss: 0.0180 - accuracy: 0.9928 - val_loss: 0.0354 - val_accuracy: 0.9863\n",
      "Epoch 70/100\n",
      "100000/100000 - 2s - loss: 0.0193 - accuracy: 0.9924 - val_loss: 0.0398 - val_accuracy: 0.9845\n",
      "Epoch 71/100\n",
      "100000/100000 - 2s - loss: 0.0191 - accuracy: 0.9925 - val_loss: 0.0340 - val_accuracy: 0.9873\n",
      "Epoch 72/100\n",
      "100000/100000 - 2s - loss: 0.0167 - accuracy: 0.9934 - val_loss: 0.0379 - val_accuracy: 0.9864\n",
      "Epoch 73/100\n",
      "100000/100000 - 1s - loss: 0.0190 - accuracy: 0.9925 - val_loss: 0.0364 - val_accuracy: 0.9866\n",
      "Epoch 74/100\n",
      "100000/100000 - 2s - loss: 0.0193 - accuracy: 0.9924 - val_loss: 0.0336 - val_accuracy: 0.9875\n",
      "Epoch 75/100\n",
      "100000/100000 - 1s - loss: 0.0182 - accuracy: 0.9928 - val_loss: 0.0361 - val_accuracy: 0.9868\n",
      "Epoch 76/100\n",
      "100000/100000 - 1s - loss: 0.0199 - accuracy: 0.9921 - val_loss: 0.0403 - val_accuracy: 0.9860\n"
     ]
    },
    {
     "name": "stdout",
     "output_type": "stream",
     "text": [
      "Epoch 77/100\n",
      "100000/100000 - 2s - loss: 0.0204 - accuracy: 0.9919 - val_loss: 0.0348 - val_accuracy: 0.9882\n",
      "Epoch 78/100\n",
      "100000/100000 - 1s - loss: 0.0187 - accuracy: 0.9927 - val_loss: 0.0344 - val_accuracy: 0.9877\n",
      "Epoch 79/100\n",
      "100000/100000 - 1s - loss: 0.0172 - accuracy: 0.9931 - val_loss: 0.0358 - val_accuracy: 0.9869\n",
      "Epoch 80/100\n",
      "100000/100000 - 1s - loss: 0.0163 - accuracy: 0.9936 - val_loss: 0.0323 - val_accuracy: 0.9877\n",
      "Epoch 81/100\n",
      "100000/100000 - 2s - loss: 0.0163 - accuracy: 0.9935 - val_loss: 0.0333 - val_accuracy: 0.9874\n",
      "Epoch 82/100\n",
      "100000/100000 - 1s - loss: 0.0161 - accuracy: 0.9938 - val_loss: 0.0357 - val_accuracy: 0.9880\n",
      "Epoch 83/100\n",
      "100000/100000 - 1s - loss: 0.0151 - accuracy: 0.9940 - val_loss: 0.0389 - val_accuracy: 0.9871\n",
      "Epoch 84/100\n",
      "100000/100000 - 1s - loss: 0.0177 - accuracy: 0.9931 - val_loss: 0.0371 - val_accuracy: 0.9872\n",
      "Epoch 85/100\n",
      "100000/100000 - 1s - loss: 0.0185 - accuracy: 0.9929 - val_loss: 0.0414 - val_accuracy: 0.9865\n",
      "Epoch 86/100\n",
      "100000/100000 - 1s - loss: 0.0163 - accuracy: 0.9936 - val_loss: 0.0355 - val_accuracy: 0.9874\n",
      "Epoch 87/100\n",
      "100000/100000 - 1s - loss: 0.0160 - accuracy: 0.9939 - val_loss: 0.0321 - val_accuracy: 0.9881\n",
      "Epoch 88/100\n",
      "100000/100000 - 1s - loss: 0.0133 - accuracy: 0.9949 - val_loss: 0.0337 - val_accuracy: 0.9884\n",
      "Epoch 89/100\n",
      "100000/100000 - 1s - loss: 0.0145 - accuracy: 0.9944 - val_loss: 0.0406 - val_accuracy: 0.9857\n",
      "Epoch 90/100\n",
      "100000/100000 - 1s - loss: 0.0182 - accuracy: 0.9931 - val_loss: 0.0354 - val_accuracy: 0.9880\n",
      "Epoch 91/100\n",
      "100000/100000 - 1s - loss: 0.0147 - accuracy: 0.9943 - val_loss: 0.0363 - val_accuracy: 0.9877\n",
      "Epoch 92/100\n",
      "100000/100000 - 1s - loss: 0.0165 - accuracy: 0.9937 - val_loss: 0.0371 - val_accuracy: 0.9868\n",
      "Epoch 93/100\n",
      "100000/100000 - 1s - loss: 0.0164 - accuracy: 0.9938 - val_loss: 0.0353 - val_accuracy: 0.9880\n",
      "Epoch 94/100\n",
      "100000/100000 - 1s - loss: 0.0148 - accuracy: 0.9942 - val_loss: 0.0344 - val_accuracy: 0.9888\n",
      "Epoch 95/100\n",
      "100000/100000 - 1s - loss: 0.0142 - accuracy: 0.9945 - val_loss: 0.0300 - val_accuracy: 0.9898\n",
      "Epoch 96/100\n",
      "100000/100000 - 1s - loss: 0.0124 - accuracy: 0.9952 - val_loss: 0.0346 - val_accuracy: 0.9890\n",
      "Epoch 97/100\n",
      "100000/100000 - 1s - loss: 0.0136 - accuracy: 0.9949 - val_loss: 0.0329 - val_accuracy: 0.9894\n",
      "Epoch 98/100\n",
      "100000/100000 - 1s - loss: 0.0186 - accuracy: 0.9932 - val_loss: 0.0431 - val_accuracy: 0.9866\n",
      "Epoch 99/100\n",
      "100000/100000 - 1s - loss: 0.0150 - accuracy: 0.9943 - val_loss: 0.0355 - val_accuracy: 0.9878\n",
      "Epoch 100/100\n",
      "100000/100000 - 1s - loss: 0.0137 - accuracy: 0.9948 - val_loss: 0.0330 - val_accuracy: 0.9886\n"
     ]
    }
   ],
   "source": [
    "model = tf.keras.models.Sequential([\n",
    "    tf.keras.layers.Dense(150,input_shape = [24], activation = 'relu'),\n",
    "    tf.keras.layers.Dense(150, activation = 'relu'),\n",
    "    tf.keras.layers.Dense(150, activation = 'relu'),\n",
    "    tf.keras.layers.Dense(150, activation = 'relu'),\n",
    "    tf.keras.layers.Dense(12, activation = 'sigmoid')\n",
    "])\n",
    "adam = tf.keras.optimizers.Adam(lr = 0.0035)\n",
    "model.compile(optimizer = adam, loss = 'binary_crossentropy', metrics = ['accuracy'])\n",
    "\n",
    "history = model.fit(x_train, y_train, batch_size = 1024, epochs = 100, verbose = 2,validation_data = (x_valid, y_valid))\n"
   ]
  },
  {
   "cell_type": "code",
   "execution_count": 6,
   "metadata": {},
   "outputs": [
    {
     "data": {
      "image/png": "[encoded data removed]",
      "text/plain": [
       "<Figure size 432x288 with 1 Axes>"
      ]
     },
     "metadata": {
      "needs_background": "light"
     },
     "output_type": "display_data"
    }
   ],
   "source": [
    "import matplotlib.pyplot as plt\n",
    "plt.figure()\n",
    "acc = history.history['accuracy']\n",
    "loss = history.history['loss']\n",
    "val_acc = history.history['val_accuracy']\n",
    "val_loss = history.history['val_loss']\n",
    "\n",
    "epochs = range(len(acc))\n",
    "plt.plot(epochs, acc, 'r', label = 'Training accuracy')\n",
    "plt.plot(epochs, val_acc, 'b', label = 'Validating accuracy')\n",
    "plt.title('Training and Validating Accuracy')\n",
    "plt.legend()\n",
    "plt.show()"
   ]
  },
  {
   "cell_type": "code",
   "execution_count": 8,
   "metadata": {},
   "outputs": [],
   "source": [
    "predict = model.predict(x_test)"
   ]
  },
  {
   "cell_type": "code",
   "execution_count": 9,
   "metadata": {},
   "outputs": [
    {
     "name": "stdout",
     "output_type": "stream",
     "text": [
      "(2500, 12)\n"
     ]
    }
   ],
   "source": [
    "print(predict.shape)"
   ]
  },
  {
   "cell_type": "code",
   "execution_count": 7,
   "metadata": {},
   "outputs": [
    {
     "name": "stdout",
     "output_type": "stream",
     "text": [
      "2500/1 - 0s - loss: 0.0157 - accuracy: 0.9900\n"
     ]
    },
    {
     "data": {
      "text/plain": [
       "[0.02902057208903134, 0.9900333]"
      ]
     },
     "execution_count": 7,
     "metadata": {},
     "output_type": "execute_result"
    }
   ],
   "source": [
    "model.evaluate(x_test, y_test, verbose = 2)"
   ]
  },
  {
   "cell_type": "code",
   "execution_count": 8,
   "metadata": {},
   "outputs": [],
   "source": [
    "model.save('C:\\\\Users\\\\Wilfred\\\\Desktop\\\\weights\\\\Min_Max\\\\Min_Max_4_6_17_3_model.h5')"
   ]
  },
  {
   "cell_type": "code",
   "execution_count": null,
   "metadata": {},
   "outputs": [],
   "source": []
  }
 ],
 "metadata": {
  "kernelspec": {
   "display_name": "Python 3",
   "language": "python",
   "name": "python3"
  },
  "language_info": {
   "codemirror_mode": {
    "name": "ipython",
    "version": 3
   },
   "file_extension": ".py",
   "mimetype": "text/x-python",
   "name": "python",
   "nbconvert_exporter": "python",
   "pygments_lexer": "ipython3",
   "version": "3.7.5"
  }
 },
 "nbformat": 4,
 "nbformat_minor": 2
}
