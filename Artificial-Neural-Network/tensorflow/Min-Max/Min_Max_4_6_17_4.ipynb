{
 "cells": [
  {
   "cell_type": "code",
   "execution_count": 1,
   "metadata": {},
   "outputs": [],
   "source": [
    "import tensorflow as tf\n",
    "import numpy as np\n",
    "import pickle"
   ]
  },
  {
   "cell_type": "code",
   "execution_count": 2,
   "metadata": {},
   "outputs": [
    {
     "name": "stdout",
     "output_type": "stream",
     "text": [
      "(105000, 24)\n"
     ]
    }
   ],
   "source": [
    "with open ('C:\\\\Users\\\\Wilfred\\\\Desktop\\\\Min-Max\\\\input_layer_4_6_17_4.pickle','rb') as file:\n",
    "    input_data = pickle.load(file)\n",
    "print(input_data.shape)\n",
    "permutation = list(np.random.permutation(input_data.shape[0]))\n",
    "input_data = input_data[permutation, :]\n",
    "x_train = input_data[:100000,:]\n",
    "x_valid = input_data[100000:102500, :]\n",
    "x_test = input_data[102500:,:]\n",
    "\n"
   ]
  },
  {
   "cell_type": "code",
   "execution_count": 3,
   "metadata": {},
   "outputs": [
    {
     "name": "stdout",
     "output_type": "stream",
     "text": [
      "(105000, 12)\n"
     ]
    }
   ],
   "source": [
    "with open ('C:\\\\Users\\\\Wilfred\\\\Desktop\\\\Min-Max\\\\output_layer_4_6_17_4.pickle','rb') as file:\n",
    "    output_data = pickle.load(file)\n",
    "    \n",
    "output_data = np.transpose(output_data)\n",
    "output_data = output_data[permutation, :]\n",
    "y_train = output_data[:100000,:]\n",
    "y_valid = output_data[100000:102500, :]\n",
    "y_test = output_data[102500:,:]\n",
    "print(output_data.shape)"
   ]
  },
  {
   "cell_type": "code",
   "execution_count": 4,
   "metadata": {},
   "outputs": [
    {
     "name": "stdout",
     "output_type": "stream",
     "text": [
      "Train on 100000 samples, validate on 2500 samples\n",
      "Epoch 1/100\n",
      "100000/100000 - 3s - loss: 0.2594 - accuracy: 0.8850 - val_loss: 0.1983 - val_accuracy: 0.9076\n",
      "Epoch 2/100\n",
      "100000/100000 - 2s - loss: 0.1859 - accuracy: 0.9120 - val_loss: 0.1807 - val_accuracy: 0.9125\n",
      "Epoch 3/100\n",
      "100000/100000 - 2s - loss: 0.1732 - accuracy: 0.9163 - val_loss: 0.1677 - val_accuracy: 0.9192\n",
      "Epoch 4/100\n",
      "100000/100000 - 2s - loss: 0.1643 - accuracy: 0.9204 - val_loss: 0.1661 - val_accuracy: 0.9202\n",
      "Epoch 5/100\n",
      "100000/100000 - 2s - loss: 0.1579 - accuracy: 0.9241 - val_loss: 0.1597 - val_accuracy: 0.9225\n",
      "Epoch 6/100\n",
      "100000/100000 - 1s - loss: 0.1520 - accuracy: 0.9275 - val_loss: 0.1547 - val_accuracy: 0.9262\n",
      "Epoch 7/100\n",
      "100000/100000 - 2s - loss: 0.1467 - accuracy: 0.9307 - val_loss: 0.1545 - val_accuracy: 0.9265\n",
      "Epoch 8/100\n",
      "100000/100000 - 2s - loss: 0.1413 - accuracy: 0.9337 - val_loss: 0.1454 - val_accuracy: 0.9307\n",
      "Epoch 9/100\n",
      "100000/100000 - 2s - loss: 0.1335 - accuracy: 0.9379 - val_loss: 0.1399 - val_accuracy: 0.9343\n",
      "Epoch 10/100\n",
      "100000/100000 - 2s - loss: 0.1268 - accuracy: 0.9412 - val_loss: 0.1316 - val_accuracy: 0.9387\n",
      "Epoch 11/100\n",
      "100000/100000 - 2s - loss: 0.1200 - accuracy: 0.9444 - val_loss: 0.1280 - val_accuracy: 0.9396\n",
      "Epoch 12/100\n",
      "100000/100000 - 3s - loss: 0.1106 - accuracy: 0.9483 - val_loss: 0.1139 - val_accuracy: 0.9448\n",
      "Epoch 13/100\n",
      "100000/100000 - 3s - loss: 0.1018 - accuracy: 0.9519 - val_loss: 0.1033 - val_accuracy: 0.9499\n",
      "Epoch 14/100\n",
      "100000/100000 - 3s - loss: 0.0942 - accuracy: 0.9553 - val_loss: 0.0961 - val_accuracy: 0.9538\n",
      "Epoch 15/100\n",
      "100000/100000 - 2s - loss: 0.0877 - accuracy: 0.9584 - val_loss: 0.0944 - val_accuracy: 0.9537\n",
      "Epoch 16/100\n",
      "100000/100000 - 2s - loss: 0.0819 - accuracy: 0.9612 - val_loss: 0.0865 - val_accuracy: 0.9591\n",
      "Epoch 17/100\n",
      "100000/100000 - 3s - loss: 0.0784 - accuracy: 0.9630 - val_loss: 0.0834 - val_accuracy: 0.9599\n",
      "Epoch 18/100\n",
      "100000/100000 - 2s - loss: 0.0733 - accuracy: 0.9656 - val_loss: 0.0820 - val_accuracy: 0.9618\n",
      "Epoch 19/100\n",
      "100000/100000 - 2s - loss: 0.0684 - accuracy: 0.9682 - val_loss: 0.0760 - val_accuracy: 0.9653\n",
      "Epoch 20/100\n",
      "100000/100000 - 2s - loss: 0.0661 - accuracy: 0.9695 - val_loss: 0.0710 - val_accuracy: 0.9671\n",
      "Epoch 21/100\n",
      "100000/100000 - 2s - loss: 0.0620 - accuracy: 0.9716 - val_loss: 0.0684 - val_accuracy: 0.9682\n",
      "Epoch 22/100\n",
      "100000/100000 - 2s - loss: 0.0595 - accuracy: 0.9731 - val_loss: 0.0641 - val_accuracy: 0.9708\n",
      "Epoch 23/100\n",
      "100000/100000 - 2s - loss: 0.0572 - accuracy: 0.9743 - val_loss: 0.0643 - val_accuracy: 0.9703\n",
      "Epoch 24/100\n",
      "100000/100000 - 2s - loss: 0.0553 - accuracy: 0.9751 - val_loss: 0.0637 - val_accuracy: 0.9708\n",
      "Epoch 25/100\n",
      "100000/100000 - 2s - loss: 0.0530 - accuracy: 0.9763 - val_loss: 0.0670 - val_accuracy: 0.9688\n",
      "Epoch 26/100\n",
      "100000/100000 - 2s - loss: 0.0500 - accuracy: 0.9779 - val_loss: 0.0563 - val_accuracy: 0.9747\n",
      "Epoch 27/100\n",
      "100000/100000 - 2s - loss: 0.0466 - accuracy: 0.9794 - val_loss: 0.0539 - val_accuracy: 0.9759\n",
      "Epoch 28/100\n",
      "100000/100000 - 2s - loss: 0.0462 - accuracy: 0.9798 - val_loss: 0.0544 - val_accuracy: 0.9752\n",
      "Epoch 29/100\n",
      "100000/100000 - 2s - loss: 0.0444 - accuracy: 0.9806 - val_loss: 0.0554 - val_accuracy: 0.9757\n",
      "Epoch 30/100\n",
      "100000/100000 - 2s - loss: 0.0433 - accuracy: 0.9812 - val_loss: 0.0506 - val_accuracy: 0.9775\n",
      "Epoch 31/100\n",
      "100000/100000 - 2s - loss: 0.0416 - accuracy: 0.9820 - val_loss: 0.0541 - val_accuracy: 0.9773\n",
      "Epoch 32/100\n",
      "100000/100000 - 2s - loss: 0.0404 - accuracy: 0.9826 - val_loss: 0.0516 - val_accuracy: 0.9779\n",
      "Epoch 33/100\n",
      "100000/100000 - 2s - loss: 0.0380 - accuracy: 0.9838 - val_loss: 0.0495 - val_accuracy: 0.9786\n",
      "Epoch 34/100\n",
      "100000/100000 - 2s - loss: 0.0373 - accuracy: 0.9841 - val_loss: 0.0527 - val_accuracy: 0.9777\n",
      "Epoch 35/100\n",
      "100000/100000 - 3s - loss: 0.0363 - accuracy: 0.9846 - val_loss: 0.0541 - val_accuracy: 0.9775\n",
      "Epoch 36/100\n",
      "100000/100000 - 3s - loss: 0.0346 - accuracy: 0.9854 - val_loss: 0.0476 - val_accuracy: 0.9807\n",
      "Epoch 37/100\n",
      "100000/100000 - 2s - loss: 0.0326 - accuracy: 0.9863 - val_loss: 0.0472 - val_accuracy: 0.9798\n",
      "Epoch 38/100\n",
      "100000/100000 - 2s - loss: 0.0334 - accuracy: 0.9861 - val_loss: 0.0495 - val_accuracy: 0.9800\n",
      "Epoch 39/100\n",
      "100000/100000 - 2s - loss: 0.0311 - accuracy: 0.9870 - val_loss: 0.0477 - val_accuracy: 0.9807\n",
      "Epoch 40/100\n",
      "100000/100000 - 2s - loss: 0.0283 - accuracy: 0.9884 - val_loss: 0.0412 - val_accuracy: 0.9826\n",
      "Epoch 41/100\n",
      "100000/100000 - 2s - loss: 0.0291 - accuracy: 0.9880 - val_loss: 0.0405 - val_accuracy: 0.9834\n",
      "Epoch 42/100\n",
      "100000/100000 - 2s - loss: 0.0283 - accuracy: 0.9883 - val_loss: 0.0370 - val_accuracy: 0.9848\n",
      "Epoch 43/100\n",
      "100000/100000 - 2s - loss: 0.0267 - accuracy: 0.9890 - val_loss: 0.0445 - val_accuracy: 0.9821\n",
      "Epoch 44/100\n",
      "100000/100000 - 2s - loss: 0.0275 - accuracy: 0.9887 - val_loss: 0.0436 - val_accuracy: 0.9833\n",
      "Epoch 45/100\n",
      "100000/100000 - 2s - loss: 0.0242 - accuracy: 0.9902 - val_loss: 0.0392 - val_accuracy: 0.9847\n",
      "Epoch 46/100\n",
      "100000/100000 - 2s - loss: 0.0252 - accuracy: 0.9897 - val_loss: 0.0463 - val_accuracy: 0.9825\n",
      "Epoch 47/100\n",
      "100000/100000 - 2s - loss: 0.0246 - accuracy: 0.9900 - val_loss: 0.0360 - val_accuracy: 0.9859\n",
      "Epoch 48/100\n",
      "100000/100000 - 2s - loss: 0.0227 - accuracy: 0.9908 - val_loss: 0.0324 - val_accuracy: 0.9873\n",
      "Epoch 49/100\n",
      "100000/100000 - 2s - loss: 0.0233 - accuracy: 0.9906 - val_loss: 0.0401 - val_accuracy: 0.9849\n",
      "Epoch 50/100\n",
      "100000/100000 - 2s - loss: 0.0220 - accuracy: 0.9910 - val_loss: 0.0381 - val_accuracy: 0.9849\n",
      "Epoch 51/100\n",
      "100000/100000 - 2s - loss: 0.0214 - accuracy: 0.9915 - val_loss: 0.0387 - val_accuracy: 0.9840\n",
      "Epoch 52/100\n",
      "100000/100000 - 2s - loss: 0.0215 - accuracy: 0.9914 - val_loss: 0.0471 - val_accuracy: 0.9831\n",
      "Epoch 53/100\n",
      "100000/100000 - 2s - loss: 0.0211 - accuracy: 0.9916 - val_loss: 0.0363 - val_accuracy: 0.9864\n",
      "Epoch 54/100\n",
      "100000/100000 - 2s - loss: 0.0184 - accuracy: 0.9928 - val_loss: 0.0377 - val_accuracy: 0.9856\n",
      "Epoch 55/100\n",
      "100000/100000 - 2s - loss: 0.0181 - accuracy: 0.9929 - val_loss: 0.0370 - val_accuracy: 0.9863\n",
      "Epoch 56/100\n",
      "100000/100000 - 2s - loss: 0.0182 - accuracy: 0.9929 - val_loss: 0.0335 - val_accuracy: 0.9881\n",
      "Epoch 57/100\n",
      "100000/100000 - 2s - loss: 0.0198 - accuracy: 0.9922 - val_loss: 0.0328 - val_accuracy: 0.9880\n",
      "Epoch 58/100\n",
      "100000/100000 - 2s - loss: 0.0169 - accuracy: 0.9934 - val_loss: 0.0336 - val_accuracy: 0.9877\n",
      "Epoch 59/100\n",
      "100000/100000 - 2s - loss: 0.0190 - accuracy: 0.9927 - val_loss: 0.0382 - val_accuracy: 0.9855\n",
      "Epoch 60/100\n",
      "100000/100000 - 2s - loss: 0.0174 - accuracy: 0.9932 - val_loss: 0.0342 - val_accuracy: 0.9874\n",
      "Epoch 61/100\n",
      "100000/100000 - 2s - loss: 0.0190 - accuracy: 0.9927 - val_loss: 0.0308 - val_accuracy: 0.9879\n",
      "Epoch 62/100\n",
      "100000/100000 - 2s - loss: 0.0147 - accuracy: 0.9944 - val_loss: 0.0312 - val_accuracy: 0.9886\n",
      "Epoch 63/100\n",
      "100000/100000 - 2s - loss: 0.0149 - accuracy: 0.9943 - val_loss: 0.0319 - val_accuracy: 0.9885\n",
      "Epoch 64/100\n",
      "100000/100000 - 2s - loss: 0.0167 - accuracy: 0.9936 - val_loss: 0.0365 - val_accuracy: 0.9868\n",
      "Epoch 65/100\n",
      "100000/100000 - 2s - loss: 0.0162 - accuracy: 0.9937 - val_loss: 0.0345 - val_accuracy: 0.9875\n",
      "Epoch 66/100\n",
      "100000/100000 - 2s - loss: 0.0142 - accuracy: 0.9946 - val_loss: 0.0300 - val_accuracy: 0.9896\n",
      "Epoch 67/100\n",
      "100000/100000 - 2s - loss: 0.0152 - accuracy: 0.9942 - val_loss: 0.0309 - val_accuracy: 0.9899\n",
      "Epoch 68/100\n",
      "100000/100000 - 2s - loss: 0.0140 - accuracy: 0.9947 - val_loss: 0.0298 - val_accuracy: 0.9902\n",
      "Epoch 69/100\n",
      "100000/100000 - 2s - loss: 0.0157 - accuracy: 0.9940 - val_loss: 0.0287 - val_accuracy: 0.9897\n",
      "Epoch 70/100\n",
      "100000/100000 - 2s - loss: 0.0184 - accuracy: 0.9931 - val_loss: 0.0342 - val_accuracy: 0.9880\n",
      "Epoch 71/100\n",
      "100000/100000 - 2s - loss: 0.0134 - accuracy: 0.9949 - val_loss: 0.0287 - val_accuracy: 0.9898\n",
      "Epoch 72/100\n",
      "100000/100000 - 2s - loss: 0.0127 - accuracy: 0.9952 - val_loss: 0.0370 - val_accuracy: 0.9878\n",
      "Epoch 73/100\n",
      "100000/100000 - 2s - loss: 0.0200 - accuracy: 0.9926 - val_loss: 0.0291 - val_accuracy: 0.9898\n",
      "Epoch 74/100\n",
      "100000/100000 - 2s - loss: 0.0124 - accuracy: 0.9953 - val_loss: 0.0281 - val_accuracy: 0.9908\n",
      "Epoch 75/100\n",
      "100000/100000 - 2s - loss: 0.0116 - accuracy: 0.9957 - val_loss: 0.0307 - val_accuracy: 0.9899\n",
      "Epoch 76/100\n",
      "100000/100000 - 2s - loss: 0.0122 - accuracy: 0.9954 - val_loss: 0.0336 - val_accuracy: 0.9888\n"
     ]
    },
    {
     "name": "stdout",
     "output_type": "stream",
     "text": [
      "Epoch 77/100\n",
      "100000/100000 - 2s - loss: 0.0148 - accuracy: 0.9945 - val_loss: 0.0324 - val_accuracy: 0.9891\n",
      "Epoch 78/100\n",
      "100000/100000 - 2s - loss: 0.0147 - accuracy: 0.9944 - val_loss: 0.0283 - val_accuracy: 0.9906\n",
      "Epoch 79/100\n",
      "100000/100000 - 2s - loss: 0.0116 - accuracy: 0.9957 - val_loss: 0.0411 - val_accuracy: 0.9875\n",
      "Epoch 80/100\n",
      "100000/100000 - 2s - loss: 0.0131 - accuracy: 0.9952 - val_loss: 0.0259 - val_accuracy: 0.9911\n",
      "Epoch 81/100\n",
      "100000/100000 - 2s - loss: 0.0121 - accuracy: 0.9954 - val_loss: 0.0329 - val_accuracy: 0.9891\n",
      "Epoch 82/100\n",
      "100000/100000 - 2s - loss: 0.0117 - accuracy: 0.9957 - val_loss: 0.0343 - val_accuracy: 0.9893\n",
      "Epoch 83/100\n",
      "100000/100000 - 2s - loss: 0.0122 - accuracy: 0.9954 - val_loss: 0.0313 - val_accuracy: 0.9904\n",
      "Epoch 84/100\n",
      "100000/100000 - 2s - loss: 0.0106 - accuracy: 0.9961 - val_loss: 0.0273 - val_accuracy: 0.9909\n",
      "Epoch 85/100\n",
      "100000/100000 - 2s - loss: 0.0109 - accuracy: 0.9959 - val_loss: 0.0317 - val_accuracy: 0.9901\n",
      "Epoch 86/100\n",
      "100000/100000 - 2s - loss: 0.0133 - accuracy: 0.9952 - val_loss: 0.0352 - val_accuracy: 0.9885\n",
      "Epoch 87/100\n",
      "100000/100000 - 2s - loss: 0.0148 - accuracy: 0.9946 - val_loss: 0.0266 - val_accuracy: 0.9913\n",
      "Epoch 88/100\n",
      "100000/100000 - 2s - loss: 0.0083 - accuracy: 0.9970 - val_loss: 0.0229 - val_accuracy: 0.9926\n",
      "Epoch 89/100\n",
      "100000/100000 - 2s - loss: 0.0086 - accuracy: 0.9968 - val_loss: 0.0280 - val_accuracy: 0.9917\n",
      "Epoch 90/100\n",
      "100000/100000 - 2s - loss: 0.0146 - accuracy: 0.9949 - val_loss: 0.0357 - val_accuracy: 0.9878\n",
      "Epoch 91/100\n",
      "100000/100000 - 2s - loss: 0.0140 - accuracy: 0.9949 - val_loss: 0.0281 - val_accuracy: 0.9902\n",
      "Epoch 92/100\n",
      "100000/100000 - 2s - loss: 0.0095 - accuracy: 0.9965 - val_loss: 0.0283 - val_accuracy: 0.9913\n",
      "Epoch 93/100\n",
      "100000/100000 - 2s - loss: 0.0092 - accuracy: 0.9967 - val_loss: 0.0275 - val_accuracy: 0.9918\n",
      "Epoch 94/100\n",
      "100000/100000 - 2s - loss: 0.0116 - accuracy: 0.9958 - val_loss: 0.0318 - val_accuracy: 0.9915\n",
      "Epoch 95/100\n",
      "100000/100000 - 2s - loss: 0.0116 - accuracy: 0.9959 - val_loss: 0.0373 - val_accuracy: 0.9895\n",
      "Epoch 96/100\n",
      "100000/100000 - 2s - loss: 0.0151 - accuracy: 0.9947 - val_loss: 0.0262 - val_accuracy: 0.9910\n",
      "Epoch 97/100\n",
      "100000/100000 - 2s - loss: 0.0096 - accuracy: 0.9964 - val_loss: 0.0250 - val_accuracy: 0.9922\n",
      "Epoch 98/100\n",
      "100000/100000 - 2s - loss: 0.0095 - accuracy: 0.9966 - val_loss: 0.0249 - val_accuracy: 0.9923\n",
      "Epoch 99/100\n",
      "100000/100000 - 2s - loss: 0.0109 - accuracy: 0.9960 - val_loss: 0.0274 - val_accuracy: 0.9909\n",
      "Epoch 100/100\n",
      "100000/100000 - 2s - loss: 0.0118 - accuracy: 0.9958 - val_loss: 0.0276 - val_accuracy: 0.9913\n"
     ]
    }
   ],
   "source": [
    "model = tf.keras.models.Sequential([\n",
    "    tf.keras.layers.Dense(150,input_shape = [24], activation = 'relu'),\n",
    "    tf.keras.layers.Dense(150, activation = 'relu'),\n",
    "    tf.keras.layers.Dense(150, activation = 'relu'),\n",
    "    tf.keras.layers.Dense(150, activation = 'relu'),\n",
    "    tf.keras.layers.Dense(12, activation = 'sigmoid')\n",
    "])\n",
    "adam = tf.keras.optimizers.Adam(lr = 0.0035)\n",
    "model.compile(optimizer = adam, loss = 'binary_crossentropy', metrics = ['accuracy'])\n",
    "\n",
    "history = model.fit(x_train, y_train, batch_size = 1024, epochs = 100, verbose = 2,validation_data = (x_valid, y_valid))\n"
   ]
  },
  {
   "cell_type": "code",
   "execution_count": 6,
   "metadata": {},
   "outputs": [
    {
     "data": {
      "image/png": "[encoded data removed]",
      "text/plain": [
       "<Figure size 432x288 with 1 Axes>"
      ]
     },
     "metadata": {
      "needs_background": "light"
     },
     "output_type": "display_data"
    }
   ],
   "source": [
    "import matplotlib.pyplot as plt\n",
    "plt.figure()\n",
    "acc = history.history['accuracy']\n",
    "loss = history.history['loss']\n",
    "val_acc = history.history['val_accuracy']\n",
    "val_loss = history.history['val_loss']\n",
    "\n",
    "epochs = range(len(acc))\n",
    "plt.plot(epochs, acc, 'r', label = 'Training accuracy')\n",
    "plt.plot(epochs, val_acc, 'b', label = 'Validating accuracy')\n",
    "plt.title('Training and Validating Accuracy')\n",
    "plt.legend()\n",
    "plt.show()"
   ]
  },
  {
   "cell_type": "code",
   "execution_count": 8,
   "metadata": {},
   "outputs": [],
   "source": [
    "predict = model.predict(x_test)"
   ]
  },
  {
   "cell_type": "code",
   "execution_count": 9,
   "metadata": {},
   "outputs": [
    {
     "name": "stdout",
     "output_type": "stream",
     "text": [
      "(2500, 12)\n"
     ]
    }
   ],
   "source": [
    "print(predict.shape)"
   ]
  },
  {
   "cell_type": "code",
   "execution_count": 7,
   "metadata": {},
   "outputs": [
    {
     "name": "stdout",
     "output_type": "stream",
     "text": [
      "2500/1 - 0s - loss: 0.0183 - accuracy: 0.9925\n"
     ]
    },
    {
     "data": {
      "text/plain": [
       "[0.023297416199743747, 0.9925332]"
      ]
     },
     "execution_count": 7,
     "metadata": {},
     "output_type": "execute_result"
    }
   ],
   "source": [
    "model.evaluate(x_test, y_test, verbose = 2)"
   ]
  },
  {
   "cell_type": "code",
   "execution_count": 8,
   "metadata": {},
   "outputs": [],
   "source": [
    "model.save('C:\\\\Users\\\\Wilfred\\\\Desktop\\\\weights\\\\Min_Max\\\\Min_Max_4_6_17_4_model.h5')"
   ]
  },
  {
   "cell_type": "code",
   "execution_count": null,
   "metadata": {},
   "outputs": [],
   "source": []
  }
 ],
 "metadata": {
  "kernelspec": {
   "display_name": "Python 3",
   "language": "python",
   "name": "python3"
  },
  "language_info": {
   "codemirror_mode": {
    "name": "ipython",
    "version": 3
   },
   "file_extension": ".py",
   "mimetype": "text/x-python",
   "name": "python",
   "nbconvert_exporter": "python",
   "pygments_lexer": "ipython3",
   "version": "3.7.5"
  }
 },
 "nbformat": 4,
 "nbformat_minor": 2
}
