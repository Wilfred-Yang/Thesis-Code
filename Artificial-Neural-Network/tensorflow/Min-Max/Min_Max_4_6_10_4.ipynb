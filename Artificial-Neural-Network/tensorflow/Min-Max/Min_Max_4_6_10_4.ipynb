{
 "cells": [
  {
   "cell_type": "code",
   "execution_count": 1,
   "metadata": {},
   "outputs": [],
   "source": [
    "import tensorflow as tf\n",
    "import numpy as np\n",
    "import pickle"
   ]
  },
  {
   "cell_type": "code",
   "execution_count": 2,
   "metadata": {},
   "outputs": [
    {
     "name": "stdout",
     "output_type": "stream",
     "text": [
      "(105000, 24)\n"
     ]
    }
   ],
   "source": [
    "with open ('C:\\\\Users\\\\Wilfred\\\\Desktop\\\\Min-Max\\\\input_layer_4_6_10_4.pickle','rb') as file:\n",
    "    input_data = pickle.load(file)\n",
    "print(input_data.shape)\n",
    "x_train = input_data[:100000,:]\n",
    "x_test = input_data[100000:,:]"
   ]
  },
  {
   "cell_type": "code",
   "execution_count": 3,
   "metadata": {},
   "outputs": [
    {
     "name": "stdout",
     "output_type": "stream",
     "text": [
      "(12, 105000)\n"
     ]
    }
   ],
   "source": [
    "with open ('C:\\\\Users\\\\Wilfred\\\\Desktop\\\\Min-Max\\\\output_layer_4_6_10_4.pickle','rb') as file:\n",
    "    output_data = pickle.load(file)\n",
    "print(output_data.shape)\n",
    "output_data = np.transpose(output_data)\n",
    "y_train = output_data[:100000,:]\n",
    "y_test = output_data[100000:,:]"
   ]
  },
  {
   "cell_type": "code",
   "execution_count": 4,
   "metadata": {},
   "outputs": [
    {
     "name": "stdout",
     "output_type": "stream",
     "text": [
      "Train on 100000 samples, validate on 5000 samples\n",
      "Epoch 1/100\n",
      "100000/100000 - 2s - loss: 0.2756 - accuracy: 0.8876 - val_loss: 0.2171 - val_accuracy: 0.9135\n",
      "Epoch 2/100\n",
      "100000/100000 - 2s - loss: 0.2103 - accuracy: 0.9143 - val_loss: 0.2063 - val_accuracy: 0.9149\n",
      "Epoch 3/100\n",
      "100000/100000 - 1s - loss: 0.2017 - accuracy: 0.9149 - val_loss: 0.1997 - val_accuracy: 0.9143\n",
      "Epoch 4/100\n",
      "100000/100000 - 1s - loss: 0.1925 - accuracy: 0.9153 - val_loss: 0.1892 - val_accuracy: 0.9169\n",
      "Epoch 5/100\n",
      "100000/100000 - 2s - loss: 0.1798 - accuracy: 0.9184 - val_loss: 0.1753 - val_accuracy: 0.9199\n",
      "Epoch 6/100\n",
      "100000/100000 - 2s - loss: 0.1651 - accuracy: 0.9232 - val_loss: 0.1620 - val_accuracy: 0.9243\n",
      "Epoch 7/100\n",
      "100000/100000 - 2s - loss: 0.1516 - accuracy: 0.9281 - val_loss: 0.1493 - val_accuracy: 0.9275\n",
      "Epoch 8/100\n",
      "100000/100000 - 1s - loss: 0.1410 - accuracy: 0.9331 - val_loss: 0.1401 - val_accuracy: 0.9333\n",
      "Epoch 9/100\n",
      "100000/100000 - 1s - loss: 0.1345 - accuracy: 0.9365 - val_loss: 0.1363 - val_accuracy: 0.9358\n",
      "Epoch 10/100\n",
      "100000/100000 - 1s - loss: 0.1293 - accuracy: 0.9398 - val_loss: 0.1308 - val_accuracy: 0.9401\n",
      "Epoch 11/100\n",
      "100000/100000 - 1s - loss: 0.1257 - accuracy: 0.9421 - val_loss: 0.1292 - val_accuracy: 0.9397\n",
      "Epoch 12/100\n",
      "100000/100000 - 1s - loss: 0.1222 - accuracy: 0.9443 - val_loss: 0.1277 - val_accuracy: 0.9411\n",
      "Epoch 13/100\n",
      "100000/100000 - 1s - loss: 0.1200 - accuracy: 0.9454 - val_loss: 0.1269 - val_accuracy: 0.9423\n",
      "Epoch 14/100\n",
      "100000/100000 - 1s - loss: 0.1172 - accuracy: 0.9471 - val_loss: 0.1219 - val_accuracy: 0.9446\n",
      "Epoch 15/100\n",
      "100000/100000 - 1s - loss: 0.1145 - accuracy: 0.9487 - val_loss: 0.1207 - val_accuracy: 0.9460\n",
      "Epoch 16/100\n",
      "100000/100000 - 1s - loss: 0.1125 - accuracy: 0.9496 - val_loss: 0.1176 - val_accuracy: 0.9467\n",
      "Epoch 17/100\n",
      "100000/100000 - 1s - loss: 0.1101 - accuracy: 0.9510 - val_loss: 0.1158 - val_accuracy: 0.9481\n",
      "Epoch 18/100\n",
      "100000/100000 - 1s - loss: 0.1087 - accuracy: 0.9515 - val_loss: 0.1135 - val_accuracy: 0.9488\n",
      "Epoch 19/100\n",
      "100000/100000 - 1s - loss: 0.1066 - accuracy: 0.9528 - val_loss: 0.1133 - val_accuracy: 0.9486\n",
      "Epoch 20/100\n",
      "100000/100000 - 1s - loss: 0.1046 - accuracy: 0.9533 - val_loss: 0.1098 - val_accuracy: 0.9505\n",
      "Epoch 21/100\n",
      "100000/100000 - 1s - loss: 0.1027 - accuracy: 0.9544 - val_loss: 0.1120 - val_accuracy: 0.9492\n",
      "Epoch 22/100\n",
      "100000/100000 - 1s - loss: 0.1016 - accuracy: 0.9547 - val_loss: 0.1068 - val_accuracy: 0.9526\n",
      "Epoch 23/100\n",
      "100000/100000 - 1s - loss: 0.0995 - accuracy: 0.9558 - val_loss: 0.1051 - val_accuracy: 0.9531\n",
      "Epoch 24/100\n",
      "100000/100000 - 1s - loss: 0.0967 - accuracy: 0.9571 - val_loss: 0.1036 - val_accuracy: 0.9538\n",
      "Epoch 25/100\n",
      "100000/100000 - 1s - loss: 0.0951 - accuracy: 0.9578 - val_loss: 0.1008 - val_accuracy: 0.9546\n",
      "Epoch 26/100\n",
      "100000/100000 - 1s - loss: 0.0935 - accuracy: 0.9585 - val_loss: 0.0999 - val_accuracy: 0.9544\n",
      "Epoch 27/100\n",
      "100000/100000 - 1s - loss: 0.0913 - accuracy: 0.9595 - val_loss: 0.0990 - val_accuracy: 0.9559\n",
      "Epoch 28/100\n",
      "100000/100000 - 1s - loss: 0.0894 - accuracy: 0.9602 - val_loss: 0.0961 - val_accuracy: 0.9570\n",
      "Epoch 29/100\n",
      "100000/100000 - 1s - loss: 0.0879 - accuracy: 0.9608 - val_loss: 0.0953 - val_accuracy: 0.9568\n",
      "Epoch 30/100\n",
      "100000/100000 - 1s - loss: 0.0862 - accuracy: 0.9615 - val_loss: 0.0924 - val_accuracy: 0.9582\n",
      "Epoch 31/100\n",
      "100000/100000 - 1s - loss: 0.0846 - accuracy: 0.9622 - val_loss: 0.0929 - val_accuracy: 0.9576\n",
      "Epoch 32/100\n",
      "100000/100000 - 1s - loss: 0.0828 - accuracy: 0.9629 - val_loss: 0.0896 - val_accuracy: 0.9603\n",
      "Epoch 33/100\n",
      "100000/100000 - 1s - loss: 0.0819 - accuracy: 0.9634 - val_loss: 0.0888 - val_accuracy: 0.9597\n",
      "Epoch 34/100\n",
      "100000/100000 - 1s - loss: 0.0802 - accuracy: 0.9641 - val_loss: 0.0877 - val_accuracy: 0.9608\n",
      "Epoch 35/100\n",
      "100000/100000 - 1s - loss: 0.0788 - accuracy: 0.9647 - val_loss: 0.0860 - val_accuracy: 0.9617\n",
      "Epoch 36/100\n",
      "100000/100000 - 1s - loss: 0.0772 - accuracy: 0.9654 - val_loss: 0.0843 - val_accuracy: 0.9629\n",
      "Epoch 37/100\n",
      "100000/100000 - 1s - loss: 0.0759 - accuracy: 0.9659 - val_loss: 0.0836 - val_accuracy: 0.9622\n",
      "Epoch 38/100\n",
      "100000/100000 - 1s - loss: 0.0751 - accuracy: 0.9663 - val_loss: 0.0835 - val_accuracy: 0.9626\n",
      "Epoch 39/100\n",
      "100000/100000 - 1s - loss: 0.0739 - accuracy: 0.9668 - val_loss: 0.0824 - val_accuracy: 0.9632\n",
      "Epoch 40/100\n",
      "100000/100000 - 1s - loss: 0.0721 - accuracy: 0.9678 - val_loss: 0.0814 - val_accuracy: 0.9627\n",
      "Epoch 41/100\n",
      "100000/100000 - 1s - loss: 0.0711 - accuracy: 0.9682 - val_loss: 0.0825 - val_accuracy: 0.9625\n",
      "Epoch 42/100\n",
      "100000/100000 - 1s - loss: 0.0696 - accuracy: 0.9689 - val_loss: 0.0789 - val_accuracy: 0.9648\n",
      "Epoch 43/100\n",
      "100000/100000 - 1s - loss: 0.0689 - accuracy: 0.9693 - val_loss: 0.0807 - val_accuracy: 0.9638\n",
      "Epoch 44/100\n",
      "100000/100000 - 1s - loss: 0.0679 - accuracy: 0.9697 - val_loss: 0.0778 - val_accuracy: 0.9657\n",
      "Epoch 45/100\n",
      "100000/100000 - 1s - loss: 0.0673 - accuracy: 0.9700 - val_loss: 0.0772 - val_accuracy: 0.9655\n",
      "Epoch 46/100\n",
      "100000/100000 - 1s - loss: 0.0659 - accuracy: 0.9705 - val_loss: 0.0762 - val_accuracy: 0.9663\n",
      "Epoch 47/100\n",
      "100000/100000 - 1s - loss: 0.0652 - accuracy: 0.9709 - val_loss: 0.0780 - val_accuracy: 0.9658\n",
      "Epoch 48/100\n",
      "100000/100000 - 1s - loss: 0.0641 - accuracy: 0.9715 - val_loss: 0.0736 - val_accuracy: 0.9671\n",
      "Epoch 49/100\n",
      "100000/100000 - 1s - loss: 0.0631 - accuracy: 0.9719 - val_loss: 0.0758 - val_accuracy: 0.9657\n",
      "Epoch 50/100\n",
      "100000/100000 - 1s - loss: 0.0627 - accuracy: 0.9720 - val_loss: 0.0758 - val_accuracy: 0.9660\n",
      "Epoch 51/100\n",
      "100000/100000 - 1s - loss: 0.0616 - accuracy: 0.9728 - val_loss: 0.0724 - val_accuracy: 0.9674\n",
      "Epoch 52/100\n",
      "100000/100000 - 1s - loss: 0.0610 - accuracy: 0.9729 - val_loss: 0.0736 - val_accuracy: 0.9675\n",
      "Epoch 53/100\n",
      "100000/100000 - 1s - loss: 0.0606 - accuracy: 0.9730 - val_loss: 0.0734 - val_accuracy: 0.9678\n",
      "Epoch 54/100\n",
      "100000/100000 - 1s - loss: 0.0600 - accuracy: 0.9733 - val_loss: 0.0721 - val_accuracy: 0.9686\n",
      "Epoch 55/100\n",
      "100000/100000 - 1s - loss: 0.0592 - accuracy: 0.9737 - val_loss: 0.0705 - val_accuracy: 0.9689\n",
      "Epoch 56/100\n",
      "100000/100000 - 1s - loss: 0.0586 - accuracy: 0.9740 - val_loss: 0.0722 - val_accuracy: 0.9674\n",
      "Epoch 57/100\n",
      "100000/100000 - 1s - loss: 0.0577 - accuracy: 0.9743 - val_loss: 0.0700 - val_accuracy: 0.9689\n",
      "Epoch 58/100\n",
      "100000/100000 - 1s - loss: 0.0567 - accuracy: 0.9747 - val_loss: 0.0701 - val_accuracy: 0.9688\n",
      "Epoch 59/100\n",
      "100000/100000 - 1s - loss: 0.0566 - accuracy: 0.9747 - val_loss: 0.0688 - val_accuracy: 0.9691\n",
      "Epoch 60/100\n",
      "100000/100000 - 1s - loss: 0.0565 - accuracy: 0.9748 - val_loss: 0.0715 - val_accuracy: 0.9677\n",
      "Epoch 61/100\n",
      "100000/100000 - 1s - loss: 0.0557 - accuracy: 0.9752 - val_loss: 0.0684 - val_accuracy: 0.9694\n",
      "Epoch 62/100\n",
      "100000/100000 - 1s - loss: 0.0552 - accuracy: 0.9754 - val_loss: 0.0690 - val_accuracy: 0.9690\n",
      "Epoch 63/100\n",
      "100000/100000 - 1s - loss: 0.0545 - accuracy: 0.9758 - val_loss: 0.0687 - val_accuracy: 0.9695\n",
      "Epoch 64/100\n",
      "100000/100000 - 1s - loss: 0.0539 - accuracy: 0.9760 - val_loss: 0.0671 - val_accuracy: 0.9699\n",
      "Epoch 65/100\n",
      "100000/100000 - 1s - loss: 0.0532 - accuracy: 0.9762 - val_loss: 0.0670 - val_accuracy: 0.9698\n",
      "Epoch 66/100\n",
      "100000/100000 - 1s - loss: 0.0526 - accuracy: 0.9765 - val_loss: 0.0666 - val_accuracy: 0.9701\n",
      "Epoch 67/100\n",
      "100000/100000 - 1s - loss: 0.0523 - accuracy: 0.9767 - val_loss: 0.0658 - val_accuracy: 0.9707\n",
      "Epoch 68/100\n",
      "100000/100000 - 1s - loss: 0.0524 - accuracy: 0.9766 - val_loss: 0.0657 - val_accuracy: 0.9710\n",
      "Epoch 69/100\n",
      "100000/100000 - 1s - loss: 0.0512 - accuracy: 0.9771 - val_loss: 0.0665 - val_accuracy: 0.9704\n",
      "Epoch 70/100\n",
      "100000/100000 - 1s - loss: 0.0511 - accuracy: 0.9771 - val_loss: 0.0657 - val_accuracy: 0.9701\n",
      "Epoch 71/100\n",
      "100000/100000 - 1s - loss: 0.0508 - accuracy: 0.9772 - val_loss: 0.0645 - val_accuracy: 0.9716\n",
      "Epoch 72/100\n",
      "100000/100000 - 1s - loss: 0.0506 - accuracy: 0.9774 - val_loss: 0.0658 - val_accuracy: 0.9706\n",
      "Epoch 73/100\n",
      "100000/100000 - 1s - loss: 0.0496 - accuracy: 0.9779 - val_loss: 0.0674 - val_accuracy: 0.9704\n",
      "Epoch 74/100\n",
      "100000/100000 - 1s - loss: 0.0497 - accuracy: 0.9777 - val_loss: 0.0645 - val_accuracy: 0.9710\n",
      "Epoch 75/100\n",
      "100000/100000 - 1s - loss: 0.0488 - accuracy: 0.9783 - val_loss: 0.0637 - val_accuracy: 0.9720\n",
      "Epoch 76/100\n",
      "100000/100000 - 1s - loss: 0.0486 - accuracy: 0.9782 - val_loss: 0.0637 - val_accuracy: 0.9712\n"
     ]
    },
    {
     "name": "stdout",
     "output_type": "stream",
     "text": [
      "Epoch 77/100\n",
      "100000/100000 - 1s - loss: 0.0482 - accuracy: 0.9784 - val_loss: 0.0659 - val_accuracy: 0.9705\n",
      "Epoch 78/100\n",
      "100000/100000 - 1s - loss: 0.0481 - accuracy: 0.9786 - val_loss: 0.0642 - val_accuracy: 0.9714\n",
      "Epoch 79/100\n",
      "100000/100000 - 1s - loss: 0.0477 - accuracy: 0.9786 - val_loss: 0.0650 - val_accuracy: 0.9710\n",
      "Epoch 80/100\n",
      "100000/100000 - 1s - loss: 0.0471 - accuracy: 0.9789 - val_loss: 0.0640 - val_accuracy: 0.9714\n",
      "Epoch 81/100\n",
      "100000/100000 - 1s - loss: 0.0475 - accuracy: 0.9787 - val_loss: 0.0657 - val_accuracy: 0.9706\n",
      "Epoch 82/100\n",
      "100000/100000 - 1s - loss: 0.0467 - accuracy: 0.9790 - val_loss: 0.0610 - val_accuracy: 0.9721\n",
      "Epoch 83/100\n",
      "100000/100000 - 1s - loss: 0.0463 - accuracy: 0.9793 - val_loss: 0.0652 - val_accuracy: 0.9707\n",
      "Epoch 84/100\n",
      "100000/100000 - 1s - loss: 0.0463 - accuracy: 0.9792 - val_loss: 0.0648 - val_accuracy: 0.9715\n",
      "Epoch 85/100\n",
      "100000/100000 - 1s - loss: 0.0459 - accuracy: 0.9795 - val_loss: 0.0612 - val_accuracy: 0.9728\n",
      "Epoch 86/100\n",
      "100000/100000 - 1s - loss: 0.0446 - accuracy: 0.9800 - val_loss: 0.0609 - val_accuracy: 0.9725\n",
      "Epoch 87/100\n",
      "100000/100000 - 1s - loss: 0.0449 - accuracy: 0.9799 - val_loss: 0.0620 - val_accuracy: 0.9722\n",
      "Epoch 88/100\n",
      "100000/100000 - 1s - loss: 0.0445 - accuracy: 0.9800 - val_loss: 0.0622 - val_accuracy: 0.9723\n",
      "Epoch 89/100\n",
      "100000/100000 - 2s - loss: 0.0443 - accuracy: 0.9801 - val_loss: 0.0611 - val_accuracy: 0.9727\n",
      "Epoch 90/100\n",
      "100000/100000 - 1s - loss: 0.0437 - accuracy: 0.9805 - val_loss: 0.0609 - val_accuracy: 0.9733\n",
      "Epoch 91/100\n",
      "100000/100000 - 1s - loss: 0.0432 - accuracy: 0.9807 - val_loss: 0.0598 - val_accuracy: 0.9732\n",
      "Epoch 92/100\n",
      "100000/100000 - 1s - loss: 0.0426 - accuracy: 0.9809 - val_loss: 0.0618 - val_accuracy: 0.9726\n",
      "Epoch 93/100\n",
      "100000/100000 - 1s - loss: 0.0428 - accuracy: 0.9809 - val_loss: 0.0600 - val_accuracy: 0.9731\n",
      "Epoch 94/100\n",
      "100000/100000 - 1s - loss: 0.0424 - accuracy: 0.9810 - val_loss: 0.0600 - val_accuracy: 0.9736\n",
      "Epoch 95/100\n",
      "100000/100000 - 1s - loss: 0.0423 - accuracy: 0.9810 - val_loss: 0.0598 - val_accuracy: 0.9739\n",
      "Epoch 96/100\n",
      "100000/100000 - 1s - loss: 0.0417 - accuracy: 0.9813 - val_loss: 0.0592 - val_accuracy: 0.9736\n",
      "Epoch 97/100\n",
      "100000/100000 - 1s - loss: 0.0413 - accuracy: 0.9815 - val_loss: 0.0598 - val_accuracy: 0.9736\n",
      "Epoch 98/100\n",
      "100000/100000 - 1s - loss: 0.0407 - accuracy: 0.9817 - val_loss: 0.0587 - val_accuracy: 0.9739\n",
      "Epoch 99/100\n",
      "100000/100000 - 1s - loss: 0.0403 - accuracy: 0.9819 - val_loss: 0.0579 - val_accuracy: 0.9737\n",
      "Epoch 100/100\n",
      "100000/100000 - 1s - loss: 0.0402 - accuracy: 0.9820 - val_loss: 0.0612 - val_accuracy: 0.9728\n"
     ]
    }
   ],
   "source": [
    "model = tf.keras.models.Sequential([\n",
    "    tf.keras.layers.Dense(150,input_shape = [24], activation = 'relu'),\n",
    "    tf.keras.layers.Dense(150, activation = 'relu'),\n",
    "    tf.keras.layers.Dense(150, activation = 'relu'),\n",
    "    tf.keras.layers.Dense(12, activation = 'sigmoid')\n",
    "])\n",
    "\n",
    "model.compile(optimizer = 'adam', loss = 'binary_crossentropy', metrics = ['accuracy'])\n",
    "\n",
    "history = model.fit(x_train, y_train, batch_size = 1024, epochs = 100, verbose = 2,validation_data = (x_test, y_test))\n"
   ]
  },
  {
   "cell_type": "code",
   "execution_count": 6,
   "metadata": {},
   "outputs": [
    {
     "data": {
      "text/plain": [
       "<matplotlib.legend.Legend at 0x1f57b76ee88>"
      ]
     },
     "execution_count": 6,
     "metadata": {},
     "output_type": "execute_result"
    },
    {
     "data": {
      "image/png": "[encoded data removed]",
      "text/plain": [
       "<Figure size 432x288 with 1 Axes>"
      ]
     },
     "metadata": {
      "needs_background": "light"
     },
     "output_type": "display_data"
    }
   ],
   "source": [
    "import matplotlib.pyplot as plt\n",
    "plt.figure()\n",
    "acc = history.history['accuracy']\n",
    "loss = history.history['loss']\n",
    "val_acc = history.history['val_accuracy']\n",
    "val_loss = history.history['val_loss']\n",
    "\n",
    "epochs = range(len(acc))\n",
    "plt.plot(epochs, acc, 'r', label = 'Training accuracy')\n",
    "plt.plot(epochs, val_acc, 'b', label = 'Validating accuracy')\n",
    "plt.title('Training and Validating Accuracy')\n",
    "plt.legend()"
   ]
  },
  {
   "cell_type": "code",
   "execution_count": 7,
   "metadata": {},
   "outputs": [],
   "source": [
    "model.save('C:\\\\Users\\\\Wilfred\\\\Desktop\\\\weights\\\\Min_Max\\\\Min_Max_4_6_10_4_model.h5')"
   ]
  },
  {
   "cell_type": "code",
   "execution_count": null,
   "metadata": {},
   "outputs": [],
   "source": []
  }
 ],
 "metadata": {
  "kernelspec": {
   "display_name": "Python 3",
   "language": "python",
   "name": "python3"
  },
  "language_info": {
   "codemirror_mode": {
    "name": "ipython",
    "version": 3
   },
   "file_extension": ".py",
   "mimetype": "text/x-python",
   "name": "python",
   "nbconvert_exporter": "python",
   "pygments_lexer": "ipython3",
   "version": "3.7.5"
  }
 },
 "nbformat": 4,
 "nbformat_minor": 2
}
