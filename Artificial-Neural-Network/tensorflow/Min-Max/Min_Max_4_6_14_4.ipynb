{
 "cells": [
  {
   "cell_type": "code",
   "execution_count": 1,
   "metadata": {},
   "outputs": [],
   "source": [
    "import tensorflow as tf\n",
    "import numpy as np\n",
    "import pickle"
   ]
  },
  {
   "cell_type": "code",
   "execution_count": 2,
   "metadata": {},
   "outputs": [
    {
     "name": "stdout",
     "output_type": "stream",
     "text": [
      "(105000, 24)\n"
     ]
    }
   ],
   "source": [
    "with open ('C:\\\\Users\\\\Wilfred\\\\Desktop\\\\Min-Max\\\\input_layer_4_6_14_4.pickle','rb') as file:\n",
    "    input_data = pickle.load(file)\n",
    "print(input_data.shape)\n",
    "permutation = list(np.random.permutation(input_data.shape[0]))\n",
    "input_data = input_data[permutation, :]\n",
    "x_train = input_data[:100000,:]\n",
    "x_valid = input_data[100000:102500, :]\n",
    "x_test = input_data[102500:,:]\n",
    "\n"
   ]
  },
  {
   "cell_type": "code",
   "execution_count": 3,
   "metadata": {},
   "outputs": [
    {
     "name": "stdout",
     "output_type": "stream",
     "text": [
      "(105000, 12)\n"
     ]
    }
   ],
   "source": [
    "with open ('C:\\\\Users\\\\Wilfred\\\\Desktop\\\\Min-Max\\\\output_layer_4_6_14_4.pickle','rb') as file:\n",
    "    output_data = pickle.load(file)\n",
    "    \n",
    "output_data = np.transpose(output_data)\n",
    "output_data = output_data[permutation, :]\n",
    "y_train = output_data[:100000,:]\n",
    "y_valid = output_data[100000:102500, :]\n",
    "y_test = output_data[102500:,:]\n",
    "print(output_data.shape)"
   ]
  },
  {
   "cell_type": "code",
   "execution_count": 4,
   "metadata": {},
   "outputs": [
    {
     "name": "stdout",
     "output_type": "stream",
     "text": [
      "Train on 100000 samples, validate on 2500 samples\n",
      "Epoch 1/40\n",
      "100000/100000 - 5s - loss: 0.2546 - accuracy: 0.8967 - val_loss: 0.2030 - val_accuracy: 0.9136\n",
      "Epoch 2/40\n",
      "100000/100000 - 5s - loss: 0.1908 - accuracy: 0.9153 - val_loss: 0.1839 - val_accuracy: 0.9175\n",
      "Epoch 3/40\n",
      "100000/100000 - 5s - loss: 0.1768 - accuracy: 0.9202 - val_loss: 0.1722 - val_accuracy: 0.9224\n",
      "Epoch 4/40\n",
      "100000/100000 - 4s - loss: 0.1627 - accuracy: 0.9269 - val_loss: 0.1561 - val_accuracy: 0.9293\n",
      "Epoch 5/40\n",
      "100000/100000 - 4s - loss: 0.1482 - accuracy: 0.9330 - val_loss: 0.1468 - val_accuracy: 0.9324\n",
      "Epoch 6/40\n",
      "100000/100000 - 4s - loss: 0.1330 - accuracy: 0.9386 - val_loss: 0.1266 - val_accuracy: 0.9395\n",
      "Epoch 7/40\n",
      "100000/100000 - 4s - loss: 0.1194 - accuracy: 0.9438 - val_loss: 0.1150 - val_accuracy: 0.9448\n",
      "Epoch 8/40\n",
      "100000/100000 - 4s - loss: 0.1075 - accuracy: 0.9493 - val_loss: 0.1063 - val_accuracy: 0.9500\n",
      "Epoch 9/40\n",
      "100000/100000 - 3s - loss: 0.0960 - accuracy: 0.9549 - val_loss: 0.0995 - val_accuracy: 0.9524\n",
      "Epoch 10/40\n",
      "100000/100000 - 4s - loss: 0.0874 - accuracy: 0.9593 - val_loss: 0.0926 - val_accuracy: 0.9561\n",
      "Epoch 11/40\n",
      "100000/100000 - 4s - loss: 0.0796 - accuracy: 0.9634 - val_loss: 0.0835 - val_accuracy: 0.9601\n",
      "Epoch 12/40\n",
      "100000/100000 - 3s - loss: 0.0733 - accuracy: 0.9668 - val_loss: 0.0791 - val_accuracy: 0.9634\n",
      "Epoch 13/40\n",
      "100000/100000 - 3s - loss: 0.0683 - accuracy: 0.9694 - val_loss: 0.0744 - val_accuracy: 0.9662\n",
      "Epoch 14/40\n",
      "100000/100000 - 3s - loss: 0.0644 - accuracy: 0.9712 - val_loss: 0.0777 - val_accuracy: 0.9644\n",
      "Epoch 15/40\n",
      "100000/100000 - 3s - loss: 0.0596 - accuracy: 0.9737 - val_loss: 0.0638 - val_accuracy: 0.9711\n",
      "Epoch 16/40\n",
      "100000/100000 - 4s - loss: 0.0545 - accuracy: 0.9763 - val_loss: 0.0641 - val_accuracy: 0.9715\n",
      "Epoch 17/40\n",
      "100000/100000 - 3s - loss: 0.0517 - accuracy: 0.9776 - val_loss: 0.0637 - val_accuracy: 0.9726\n",
      "Epoch 18/40\n",
      "100000/100000 - 3s - loss: 0.0504 - accuracy: 0.9783 - val_loss: 0.0578 - val_accuracy: 0.9750\n",
      "Epoch 19/40\n",
      "100000/100000 - 3s - loss: 0.0453 - accuracy: 0.9806 - val_loss: 0.0607 - val_accuracy: 0.9740\n",
      "Epoch 20/40\n",
      "100000/100000 - 3s - loss: 0.0433 - accuracy: 0.9816 - val_loss: 0.0573 - val_accuracy: 0.9753\n",
      "Epoch 21/40\n",
      "100000/100000 - 3s - loss: 0.0406 - accuracy: 0.9829 - val_loss: 0.0544 - val_accuracy: 0.9766\n",
      "Epoch 22/40\n",
      "100000/100000 - 3s - loss: 0.0380 - accuracy: 0.9841 - val_loss: 0.0532 - val_accuracy: 0.9771\n",
      "Epoch 23/40\n",
      "100000/100000 - 4s - loss: 0.0364 - accuracy: 0.9847 - val_loss: 0.0521 - val_accuracy: 0.9791\n",
      "Epoch 24/40\n",
      "100000/100000 - 4s - loss: 0.0341 - accuracy: 0.9859 - val_loss: 0.0485 - val_accuracy: 0.9800\n",
      "Epoch 25/40\n",
      "100000/100000 - 4s - loss: 0.0323 - accuracy: 0.9867 - val_loss: 0.0474 - val_accuracy: 0.9802\n",
      "Epoch 26/40\n",
      "100000/100000 - 3s - loss: 0.0303 - accuracy: 0.9876 - val_loss: 0.0508 - val_accuracy: 0.9791\n",
      "Epoch 27/40\n",
      "100000/100000 - 4s - loss: 0.0298 - accuracy: 0.9878 - val_loss: 0.0462 - val_accuracy: 0.9818\n",
      "Epoch 28/40\n",
      "100000/100000 - 4s - loss: 0.0281 - accuracy: 0.9886 - val_loss: 0.0445 - val_accuracy: 0.9824\n",
      "Epoch 29/40\n",
      "100000/100000 - 4s - loss: 0.0251 - accuracy: 0.9900 - val_loss: 0.0450 - val_accuracy: 0.9819\n",
      "Epoch 30/40\n",
      "100000/100000 - 4s - loss: 0.0263 - accuracy: 0.9894 - val_loss: 0.0441 - val_accuracy: 0.9825\n",
      "Epoch 31/40\n",
      "100000/100000 - 4s - loss: 0.0242 - accuracy: 0.9903 - val_loss: 0.0395 - val_accuracy: 0.9845\n",
      "Epoch 32/40\n",
      "100000/100000 - 5s - loss: 0.0228 - accuracy: 0.9910 - val_loss: 0.0434 - val_accuracy: 0.9831\n",
      "Epoch 33/40\n",
      "100000/100000 - 4s - loss: 0.0231 - accuracy: 0.9908 - val_loss: 0.0459 - val_accuracy: 0.9833\n",
      "Epoch 34/40\n",
      "100000/100000 - 4s - loss: 0.0231 - accuracy: 0.9908 - val_loss: 0.0425 - val_accuracy: 0.9841\n",
      "Epoch 35/40\n",
      "100000/100000 - 4s - loss: 0.0219 - accuracy: 0.9914 - val_loss: 0.0455 - val_accuracy: 0.9829\n",
      "Epoch 36/40\n",
      "100000/100000 - 4s - loss: 0.0207 - accuracy: 0.9918 - val_loss: 0.0399 - val_accuracy: 0.9849\n",
      "Epoch 37/40\n",
      "100000/100000 - 4s - loss: 0.0204 - accuracy: 0.9920 - val_loss: 0.0438 - val_accuracy: 0.9838\n",
      "Epoch 38/40\n",
      "100000/100000 - 4s - loss: 0.0183 - accuracy: 0.9928 - val_loss: 0.0429 - val_accuracy: 0.9854\n",
      "Epoch 39/40\n",
      "100000/100000 - 4s - loss: 0.0201 - accuracy: 0.9921 - val_loss: 0.0435 - val_accuracy: 0.9855\n",
      "Epoch 40/40\n",
      "100000/100000 - 4s - loss: 0.0209 - accuracy: 0.9918 - val_loss: 0.0425 - val_accuracy: 0.9851\n"
     ]
    }
   ],
   "source": [
    "model = tf.keras.models.Sequential([\n",
    "    tf.keras.layers.Dense(300,input_shape = [24], activation = 'relu'),\n",
    "    tf.keras.layers.Dense(300, activation = 'relu'),\n",
    "    tf.keras.layers.Dense(300, activation = 'relu'),\n",
    "    tf.keras.layers.Dense(12, activation = 'sigmoid')\n",
    "])\n",
    "adam = tf.keras.optimizers.Adam(lr = 0.005)\n",
    "model.compile(optimizer = adam, loss = 'binary_crossentropy', metrics = ['accuracy'])\n",
    "\n",
    "history = model.fit(x_train, y_train, batch_size = 1024, epochs = 40, verbose = 2,validation_data = (x_valid, y_valid))\n"
   ]
  },
  {
   "cell_type": "code",
   "execution_count": 6,
   "metadata": {},
   "outputs": [
    {
     "data": {
      "image/png": "[encoded data removed]",
      "text/plain": [
       "<Figure size 432x288 with 1 Axes>"
      ]
     },
     "metadata": {
      "needs_background": "light"
     },
     "output_type": "display_data"
    }
   ],
   "source": [
    "import matplotlib.pyplot as plt\n",
    "plt.figure()\n",
    "acc = history.history['accuracy']\n",
    "loss = history.history['loss']\n",
    "val_acc = history.history['val_accuracy']\n",
    "val_loss = history.history['val_loss']\n",
    "\n",
    "epochs = range(len(acc))\n",
    "plt.plot(epochs, acc, 'r', label = 'Training accuracy')\n",
    "plt.plot(epochs, val_acc, 'b', label = 'Validating accuracy')\n",
    "plt.title('Training and Validating Accuracy')\n",
    "plt.legend()\n",
    "plt.show()"
   ]
  },
  {
   "cell_type": "code",
   "execution_count": 7,
   "metadata": {},
   "outputs": [
    {
     "name": "stdout",
     "output_type": "stream",
     "text": [
      "2500/1 - 0s - loss: 0.0187 - accuracy: 0.9870\n"
     ]
    },
    {
     "data": {
      "text/plain": [
       "[0.03699243982294574, 0.9869668]"
      ]
     },
     "execution_count": 7,
     "metadata": {},
     "output_type": "execute_result"
    }
   ],
   "source": [
    "model.evaluate(x_test, y_test, verbose = 2)"
   ]
  },
  {
   "cell_type": "code",
   "execution_count": 8,
   "metadata": {},
   "outputs": [],
   "source": [
    "model.save('C:\\\\Users\\\\Wilfred\\\\Desktop\\\\weights\\\\Min_Max\\\\Min_Max_4_6_14_4_model.h5')"
   ]
  },
  {
   "cell_type": "code",
   "execution_count": null,
   "metadata": {},
   "outputs": [],
   "source": []
  }
 ],
 "metadata": {
  "kernelspec": {
   "display_name": "Python 3",
   "language": "python",
   "name": "python3"
  },
  "language_info": {
   "codemirror_mode": {
    "name": "ipython",
    "version": 3
   },
   "file_extension": ".py",
   "mimetype": "text/x-python",
   "name": "python",
   "nbconvert_exporter": "python",
   "pygments_lexer": "ipython3",
   "version": "3.7.5"
  }
 },
 "nbformat": 4,
 "nbformat_minor": 2
}
