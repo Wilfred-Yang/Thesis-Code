{
 "cells": [
  {
   "cell_type": "code",
   "execution_count": 1,
   "metadata": {},
   "outputs": [],
   "source": [
    "import tensorflow as tf\n",
    "import numpy as np\n",
    "import pickle"
   ]
  },
  {
   "cell_type": "code",
   "execution_count": 2,
   "metadata": {},
   "outputs": [
    {
     "name": "stdout",
     "output_type": "stream",
     "text": [
      "(105000, 24)\n"
     ]
    }
   ],
   "source": [
    "with open ('C:\\\\Users\\\\Wilfred\\\\Desktop\\\\Min-Max\\\\input_layer_4_6_10_3.pickle','rb') as file:\n",
    "    input_data = pickle.load(file)\n",
    "print(input_data.shape)\n",
    "x_train = input_data[:100000,:]\n",
    "x_test = input_data[100000:,:]"
   ]
  },
  {
   "cell_type": "code",
   "execution_count": 3,
   "metadata": {},
   "outputs": [
    {
     "name": "stdout",
     "output_type": "stream",
     "text": [
      "(12, 105000)\n"
     ]
    }
   ],
   "source": [
    "with open ('C:\\\\Users\\\\Wilfred\\\\Desktop\\\\Min-Max\\\\output_layer_4_6_10_3.pickle','rb') as file:\n",
    "    output_data = pickle.load(file)\n",
    "print(output_data.shape)\n",
    "output_data = np.transpose(output_data)\n",
    "y_train = output_data[:100000,:]\n",
    "y_test = output_data[100000:,:]"
   ]
  },
  {
   "cell_type": "code",
   "execution_count": 4,
   "metadata": {},
   "outputs": [
    {
     "name": "stdout",
     "output_type": "stream",
     "text": [
      "Train on 100000 samples, validate on 5000 samples\n",
      "Epoch 1/100\n",
      "100000/100000 - 2s - loss: 0.3362 - accuracy: 0.8602 - val_loss: 0.2644 - val_accuracy: 0.8946\n",
      "Epoch 2/100\n",
      "100000/100000 - 2s - loss: 0.2449 - accuracy: 0.9019 - val_loss: 0.2298 - val_accuracy: 0.9080\n",
      "Epoch 3/100\n",
      "100000/100000 - 1s - loss: 0.2224 - accuracy: 0.9102 - val_loss: 0.2175 - val_accuracy: 0.9125\n",
      "Epoch 4/100\n",
      "100000/100000 - 1s - loss: 0.2123 - accuracy: 0.9134 - val_loss: 0.2101 - val_accuracy: 0.9146\n",
      "Epoch 5/100\n",
      "100000/100000 - 1s - loss: 0.2057 - accuracy: 0.9148 - val_loss: 0.2053 - val_accuracy: 0.9153\n",
      "Epoch 6/100\n",
      "100000/100000 - 1s - loss: 0.2010 - accuracy: 0.9155 - val_loss: 0.2005 - val_accuracy: 0.9157\n",
      "Epoch 7/100\n",
      "100000/100000 - 1s - loss: 0.1966 - accuracy: 0.9160 - val_loss: 0.1971 - val_accuracy: 0.9161\n",
      "Epoch 8/100\n",
      "100000/100000 - 1s - loss: 0.1918 - accuracy: 0.9167 - val_loss: 0.1924 - val_accuracy: 0.9164\n",
      "Epoch 9/100\n",
      "100000/100000 - 1s - loss: 0.1867 - accuracy: 0.9176 - val_loss: 0.1881 - val_accuracy: 0.9166\n",
      "Epoch 10/100\n",
      "100000/100000 - 1s - loss: 0.1818 - accuracy: 0.9192 - val_loss: 0.1830 - val_accuracy: 0.9189\n",
      "Epoch 11/100\n",
      "100000/100000 - 1s - loss: 0.1774 - accuracy: 0.9205 - val_loss: 0.1799 - val_accuracy: 0.9196\n",
      "Epoch 12/100\n",
      "100000/100000 - 1s - loss: 0.1716 - accuracy: 0.9224 - val_loss: 0.1756 - val_accuracy: 0.9216\n",
      "Epoch 13/100\n",
      "100000/100000 - 1s - loss: 0.1667 - accuracy: 0.9241 - val_loss: 0.1695 - val_accuracy: 0.9229\n",
      "Epoch 14/100\n",
      "100000/100000 - 1s - loss: 0.1618 - accuracy: 0.9258 - val_loss: 0.1644 - val_accuracy: 0.9246\n",
      "Epoch 15/100\n",
      "100000/100000 - 1s - loss: 0.1568 - accuracy: 0.9275 - val_loss: 0.1602 - val_accuracy: 0.9257\n",
      "Epoch 16/100\n",
      "100000/100000 - 1s - loss: 0.1515 - accuracy: 0.9292 - val_loss: 0.1563 - val_accuracy: 0.9277\n",
      "Epoch 17/100\n",
      "100000/100000 - 1s - loss: 0.1474 - accuracy: 0.9307 - val_loss: 0.1514 - val_accuracy: 0.9287\n",
      "Epoch 18/100\n",
      "100000/100000 - 1s - loss: 0.1430 - accuracy: 0.9325 - val_loss: 0.1502 - val_accuracy: 0.9290\n",
      "Epoch 19/100\n",
      "100000/100000 - 1s - loss: 0.1382 - accuracy: 0.9346 - val_loss: 0.1426 - val_accuracy: 0.9326\n",
      "Epoch 20/100\n",
      "100000/100000 - 1s - loss: 0.1340 - accuracy: 0.9365 - val_loss: 0.1394 - val_accuracy: 0.9340\n",
      "Epoch 21/100\n",
      "100000/100000 - 1s - loss: 0.1301 - accuracy: 0.9382 - val_loss: 0.1353 - val_accuracy: 0.9350\n",
      "Epoch 22/100\n",
      "100000/100000 - 1s - loss: 0.1263 - accuracy: 0.9399 - val_loss: 0.1323 - val_accuracy: 0.9368\n",
      "Epoch 23/100\n",
      "100000/100000 - 1s - loss: 0.1231 - accuracy: 0.9414 - val_loss: 0.1296 - val_accuracy: 0.9374\n",
      "Epoch 24/100\n",
      "100000/100000 - 1s - loss: 0.1206 - accuracy: 0.9428 - val_loss: 0.1264 - val_accuracy: 0.9384\n",
      "Epoch 25/100\n",
      "100000/100000 - 1s - loss: 0.1170 - accuracy: 0.9445 - val_loss: 0.1255 - val_accuracy: 0.9395\n",
      "Epoch 26/100\n",
      "100000/100000 - 1s - loss: 0.1143 - accuracy: 0.9459 - val_loss: 0.1218 - val_accuracy: 0.9409\n",
      "Epoch 27/100\n",
      "100000/100000 - 1s - loss: 0.1119 - accuracy: 0.9472 - val_loss: 0.1192 - val_accuracy: 0.9426\n",
      "Epoch 28/100\n",
      "100000/100000 - 1s - loss: 0.1096 - accuracy: 0.9485 - val_loss: 0.1197 - val_accuracy: 0.9434\n",
      "Epoch 29/100\n",
      "100000/100000 - 1s - loss: 0.1076 - accuracy: 0.9494 - val_loss: 0.1159 - val_accuracy: 0.9443\n",
      "Epoch 30/100\n",
      "100000/100000 - 1s - loss: 0.1052 - accuracy: 0.9509 - val_loss: 0.1147 - val_accuracy: 0.9450\n",
      "Epoch 31/100\n",
      "100000/100000 - 1s - loss: 0.1038 - accuracy: 0.9515 - val_loss: 0.1133 - val_accuracy: 0.9461\n",
      "Epoch 32/100\n",
      "100000/100000 - 1s - loss: 0.1016 - accuracy: 0.9527 - val_loss: 0.1114 - val_accuracy: 0.9465\n",
      "Epoch 33/100\n",
      "100000/100000 - 1s - loss: 0.0998 - accuracy: 0.9538 - val_loss: 0.1088 - val_accuracy: 0.9494\n",
      "Epoch 34/100\n",
      "100000/100000 - 1s - loss: 0.0984 - accuracy: 0.9544 - val_loss: 0.1084 - val_accuracy: 0.9477\n",
      "Epoch 35/100\n",
      "100000/100000 - 1s - loss: 0.0969 - accuracy: 0.9554 - val_loss: 0.1073 - val_accuracy: 0.9488\n",
      "Epoch 36/100\n",
      "100000/100000 - 1s - loss: 0.0956 - accuracy: 0.9560 - val_loss: 0.1058 - val_accuracy: 0.9495\n",
      "Epoch 37/100\n",
      "100000/100000 - 1s - loss: 0.0939 - accuracy: 0.9570 - val_loss: 0.1045 - val_accuracy: 0.9512\n",
      "Epoch 38/100\n",
      "100000/100000 - 1s - loss: 0.0925 - accuracy: 0.9577 - val_loss: 0.1020 - val_accuracy: 0.9520\n",
      "Epoch 39/100\n",
      "100000/100000 - 1s - loss: 0.0907 - accuracy: 0.9588 - val_loss: 0.1026 - val_accuracy: 0.9524\n",
      "Epoch 40/100\n",
      "100000/100000 - 1s - loss: 0.0896 - accuracy: 0.9594 - val_loss: 0.1006 - val_accuracy: 0.9531\n",
      "Epoch 41/100\n",
      "100000/100000 - 1s - loss: 0.0885 - accuracy: 0.9601 - val_loss: 0.1000 - val_accuracy: 0.9531\n",
      "Epoch 42/100\n",
      "100000/100000 - 1s - loss: 0.0872 - accuracy: 0.9606 - val_loss: 0.0973 - val_accuracy: 0.9551\n",
      "Epoch 43/100\n",
      "100000/100000 - 1s - loss: 0.0856 - accuracy: 0.9617 - val_loss: 0.0964 - val_accuracy: 0.9558\n",
      "Epoch 44/100\n",
      "100000/100000 - 1s - loss: 0.0846 - accuracy: 0.9620 - val_loss: 0.0952 - val_accuracy: 0.9562\n",
      "Epoch 45/100\n",
      "100000/100000 - 1s - loss: 0.0836 - accuracy: 0.9627 - val_loss: 0.0941 - val_accuracy: 0.9573\n",
      "Epoch 46/100\n",
      "100000/100000 - 1s - loss: 0.0821 - accuracy: 0.9634 - val_loss: 0.0943 - val_accuracy: 0.9568\n",
      "Epoch 47/100\n",
      "100000/100000 - 1s - loss: 0.0811 - accuracy: 0.9639 - val_loss: 0.0919 - val_accuracy: 0.9588\n",
      "Epoch 48/100\n",
      "100000/100000 - 1s - loss: 0.0799 - accuracy: 0.9646 - val_loss: 0.0908 - val_accuracy: 0.9589\n",
      "Epoch 49/100\n",
      "100000/100000 - 1s - loss: 0.0788 - accuracy: 0.9652 - val_loss: 0.0896 - val_accuracy: 0.9600\n",
      "Epoch 50/100\n",
      "100000/100000 - 1s - loss: 0.0782 - accuracy: 0.9655 - val_loss: 0.0897 - val_accuracy: 0.9593\n",
      "Epoch 51/100\n",
      "100000/100000 - 1s - loss: 0.0768 - accuracy: 0.9662 - val_loss: 0.0896 - val_accuracy: 0.9596\n",
      "Epoch 52/100\n",
      "100000/100000 - 1s - loss: 0.0760 - accuracy: 0.9668 - val_loss: 0.0873 - val_accuracy: 0.9606\n",
      "Epoch 53/100\n",
      "100000/100000 - 1s - loss: 0.0753 - accuracy: 0.9670 - val_loss: 0.0863 - val_accuracy: 0.9618\n",
      "Epoch 54/100\n",
      "100000/100000 - 1s - loss: 0.0739 - accuracy: 0.9677 - val_loss: 0.0865 - val_accuracy: 0.9603\n",
      "Epoch 55/100\n",
      "100000/100000 - 1s - loss: 0.0735 - accuracy: 0.9678 - val_loss: 0.0869 - val_accuracy: 0.9609\n",
      "Epoch 56/100\n",
      "100000/100000 - 1s - loss: 0.0726 - accuracy: 0.9684 - val_loss: 0.0846 - val_accuracy: 0.9621\n",
      "Epoch 57/100\n",
      "100000/100000 - 1s - loss: 0.0715 - accuracy: 0.9690 - val_loss: 0.0850 - val_accuracy: 0.9623\n",
      "Epoch 58/100\n",
      "100000/100000 - 1s - loss: 0.0705 - accuracy: 0.9695 - val_loss: 0.0844 - val_accuracy: 0.9622\n",
      "Epoch 59/100\n",
      "100000/100000 - 1s - loss: 0.0700 - accuracy: 0.9696 - val_loss: 0.0836 - val_accuracy: 0.9625\n",
      "Epoch 60/100\n",
      "100000/100000 - 1s - loss: 0.0698 - accuracy: 0.9696 - val_loss: 0.0831 - val_accuracy: 0.9625\n",
      "Epoch 61/100\n",
      "100000/100000 - 1s - loss: 0.0682 - accuracy: 0.9705 - val_loss: 0.0832 - val_accuracy: 0.9631\n",
      "Epoch 62/100\n",
      "100000/100000 - 1s - loss: 0.0678 - accuracy: 0.9708 - val_loss: 0.0835 - val_accuracy: 0.9626\n",
      "Epoch 63/100\n",
      "100000/100000 - 1s - loss: 0.0675 - accuracy: 0.9708 - val_loss: 0.0819 - val_accuracy: 0.9633\n",
      "Epoch 64/100\n",
      "100000/100000 - 1s - loss: 0.0661 - accuracy: 0.9715 - val_loss: 0.0814 - val_accuracy: 0.9639\n",
      "Epoch 65/100\n",
      "100000/100000 - 1s - loss: 0.0658 - accuracy: 0.9717 - val_loss: 0.0804 - val_accuracy: 0.9643\n",
      "Epoch 66/100\n",
      "100000/100000 - 1s - loss: 0.0649 - accuracy: 0.9719 - val_loss: 0.0801 - val_accuracy: 0.9643\n",
      "Epoch 67/100\n",
      "100000/100000 - 1s - loss: 0.0647 - accuracy: 0.9722 - val_loss: 0.0814 - val_accuracy: 0.9642\n",
      "Epoch 68/100\n",
      "100000/100000 - 1s - loss: 0.0639 - accuracy: 0.9726 - val_loss: 0.0788 - val_accuracy: 0.9643\n",
      "Epoch 69/100\n",
      "100000/100000 - 1s - loss: 0.0636 - accuracy: 0.9725 - val_loss: 0.0789 - val_accuracy: 0.9648\n",
      "Epoch 70/100\n",
      "100000/100000 - 1s - loss: 0.0625 - accuracy: 0.9733 - val_loss: 0.0802 - val_accuracy: 0.9642\n",
      "Epoch 71/100\n",
      "100000/100000 - 1s - loss: 0.0623 - accuracy: 0.9732 - val_loss: 0.0778 - val_accuracy: 0.9661\n",
      "Epoch 72/100\n",
      "100000/100000 - 1s - loss: 0.0615 - accuracy: 0.9736 - val_loss: 0.0769 - val_accuracy: 0.9660\n",
      "Epoch 73/100\n",
      "100000/100000 - 1s - loss: 0.0613 - accuracy: 0.9736 - val_loss: 0.0772 - val_accuracy: 0.9658\n",
      "Epoch 74/100\n",
      "100000/100000 - 1s - loss: 0.0605 - accuracy: 0.9740 - val_loss: 0.0765 - val_accuracy: 0.9663\n",
      "Epoch 75/100\n",
      "100000/100000 - 1s - loss: 0.0599 - accuracy: 0.9743 - val_loss: 0.0772 - val_accuracy: 0.9658\n",
      "Epoch 76/100\n",
      "100000/100000 - 1s - loss: 0.0600 - accuracy: 0.9742 - val_loss: 0.0759 - val_accuracy: 0.9663\n"
     ]
    },
    {
     "name": "stdout",
     "output_type": "stream",
     "text": [
      "Epoch 77/100\n",
      "100000/100000 - 1s - loss: 0.0590 - accuracy: 0.9747 - val_loss: 0.0760 - val_accuracy: 0.9665\n",
      "Epoch 78/100\n",
      "100000/100000 - 1s - loss: 0.0582 - accuracy: 0.9751 - val_loss: 0.0754 - val_accuracy: 0.9676\n",
      "Epoch 79/100\n",
      "100000/100000 - 1s - loss: 0.0582 - accuracy: 0.9749 - val_loss: 0.0781 - val_accuracy: 0.9650\n",
      "Epoch 80/100\n",
      "100000/100000 - 1s - loss: 0.0576 - accuracy: 0.9754 - val_loss: 0.0748 - val_accuracy: 0.9669\n",
      "Epoch 81/100\n",
      "100000/100000 - 1s - loss: 0.0569 - accuracy: 0.9756 - val_loss: 0.0751 - val_accuracy: 0.9666\n",
      "Epoch 82/100\n",
      "100000/100000 - 1s - loss: 0.0564 - accuracy: 0.9759 - val_loss: 0.0752 - val_accuracy: 0.9674\n",
      "Epoch 83/100\n",
      "100000/100000 - 1s - loss: 0.0560 - accuracy: 0.9760 - val_loss: 0.0764 - val_accuracy: 0.9669\n",
      "Epoch 84/100\n",
      "100000/100000 - 1s - loss: 0.0555 - accuracy: 0.9762 - val_loss: 0.0746 - val_accuracy: 0.9670\n",
      "Epoch 85/100\n",
      "100000/100000 - 1s - loss: 0.0552 - accuracy: 0.9763 - val_loss: 0.0748 - val_accuracy: 0.9672\n",
      "Epoch 86/100\n",
      "100000/100000 - 1s - loss: 0.0547 - accuracy: 0.9767 - val_loss: 0.0737 - val_accuracy: 0.9678\n",
      "Epoch 87/100\n",
      "100000/100000 - 1s - loss: 0.0547 - accuracy: 0.9766 - val_loss: 0.0760 - val_accuracy: 0.9672\n",
      "Epoch 88/100\n",
      "100000/100000 - 1s - loss: 0.0543 - accuracy: 0.9768 - val_loss: 0.0721 - val_accuracy: 0.9682\n",
      "Epoch 89/100\n",
      "100000/100000 - 1s - loss: 0.0539 - accuracy: 0.9769 - val_loss: 0.0733 - val_accuracy: 0.9679\n",
      "Epoch 90/100\n",
      "100000/100000 - 1s - loss: 0.0531 - accuracy: 0.9774 - val_loss: 0.0727 - val_accuracy: 0.9683\n",
      "Epoch 91/100\n",
      "100000/100000 - 1s - loss: 0.0525 - accuracy: 0.9777 - val_loss: 0.0735 - val_accuracy: 0.9682\n",
      "Epoch 92/100\n",
      "100000/100000 - 1s - loss: 0.0521 - accuracy: 0.9778 - val_loss: 0.0730 - val_accuracy: 0.9677\n",
      "Epoch 93/100\n",
      "100000/100000 - 1s - loss: 0.0519 - accuracy: 0.9778 - val_loss: 0.0732 - val_accuracy: 0.9686\n",
      "Epoch 94/100\n",
      "100000/100000 - 1s - loss: 0.0515 - accuracy: 0.9780 - val_loss: 0.0727 - val_accuracy: 0.9684\n",
      "Epoch 95/100\n",
      "100000/100000 - 1s - loss: 0.0512 - accuracy: 0.9781 - val_loss: 0.0723 - val_accuracy: 0.9689\n",
      "Epoch 96/100\n",
      "100000/100000 - 1s - loss: 0.0504 - accuracy: 0.9785 - val_loss: 0.0727 - val_accuracy: 0.9680\n",
      "Epoch 97/100\n",
      "100000/100000 - 1s - loss: 0.0503 - accuracy: 0.9785 - val_loss: 0.0733 - val_accuracy: 0.9682\n",
      "Epoch 98/100\n",
      "100000/100000 - 1s - loss: 0.0503 - accuracy: 0.9785 - val_loss: 0.0724 - val_accuracy: 0.9679\n",
      "Epoch 99/100\n",
      "100000/100000 - 1s - loss: 0.0494 - accuracy: 0.9790 - val_loss: 0.0729 - val_accuracy: 0.9689\n",
      "Epoch 100/100\n",
      "100000/100000 - 1s - loss: 0.0499 - accuracy: 0.9786 - val_loss: 0.0722 - val_accuracy: 0.9696\n"
     ]
    }
   ],
   "source": [
    "model = tf.keras.models.Sequential([\n",
    "    tf.keras.layers.Dense(150,input_shape = [24], activation = 'relu'),\n",
    "    tf.keras.layers.Dense(150, activation = 'relu'),\n",
    "    tf.keras.layers.Dense(150, activation = 'relu'),\n",
    "    tf.keras.layers.Dense(12, activation = 'sigmoid')\n",
    "])\n",
    "\n",
    "model.compile(optimizer = 'adam', loss = 'binary_crossentropy', metrics = ['accuracy'])\n",
    "\n",
    "history = model.fit(x_train, y_train, batch_size = 1024, epochs = 100, verbose = 2,validation_data = (x_test, y_test))\n"
   ]
  },
  {
   "cell_type": "code",
   "execution_count": 6,
   "metadata": {},
   "outputs": [
    {
     "data": {
      "text/plain": [
       "<matplotlib.legend.Legend at 0x1eca55a4fc8>"
      ]
     },
     "execution_count": 6,
     "metadata": {},
     "output_type": "execute_result"
    },
    {
     "data": {
      "image/png": "[encoded data removed]",
      "text/plain": [
       "<Figure size 432x288 with 1 Axes>"
      ]
     },
     "metadata": {
      "needs_background": "light"
     },
     "output_type": "display_data"
    }
   ],
   "source": [
    "import matplotlib.pyplot as plt\n",
    "plt.figure()\n",
    "acc = history.history['accuracy']\n",
    "loss = history.history['loss']\n",
    "val_acc = history.history['val_accuracy']\n",
    "val_loss = history.history['val_loss']\n",
    "\n",
    "epochs = range(len(acc))\n",
    "plt.plot(epochs, acc, 'r', label = 'Training accuracy')\n",
    "plt.plot(epochs, val_acc, 'b', label = 'Validating accuracy')\n",
    "plt.title('Training and Validating Accuracy')\n",
    "plt.legend()"
   ]
  },
  {
   "cell_type": "code",
   "execution_count": 7,
   "metadata": {},
   "outputs": [],
   "source": [
    "model.save('C:\\\\Users\\\\Wilfred\\\\Desktop\\\\weights\\\\Min_Max\\\\Min_Max_4_6_10_3_model.h5')"
   ]
  },
  {
   "cell_type": "code",
   "execution_count": null,
   "metadata": {},
   "outputs": [],
   "source": []
  }
 ],
 "metadata": {
  "kernelspec": {
   "display_name": "Python 3",
   "language": "python",
   "name": "python3"
  },
  "language_info": {
   "codemirror_mode": {
    "name": "ipython",
    "version": 3
   },
   "file_extension": ".py",
   "mimetype": "text/x-python",
   "name": "python",
   "nbconvert_exporter": "python",
   "pygments_lexer": "ipython3",
   "version": "3.7.5"
  }
 },
 "nbformat": 4,
 "nbformat_minor": 2
}
