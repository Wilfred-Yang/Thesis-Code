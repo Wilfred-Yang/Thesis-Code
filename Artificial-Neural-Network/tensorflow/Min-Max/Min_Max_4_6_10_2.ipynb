{
 "cells": [
  {
   "cell_type": "code",
   "execution_count": 1,
   "metadata": {},
   "outputs": [],
   "source": [
    "import tensorflow as tf\n",
    "import numpy as np\n",
    "import pickle"
   ]
  },
  {
   "cell_type": "code",
   "execution_count": 2,
   "metadata": {},
   "outputs": [
    {
     "name": "stdout",
     "output_type": "stream",
     "text": [
      "(105000, 24)\n"
     ]
    }
   ],
   "source": [
    "with open ('C:\\\\Users\\\\Wilfred\\\\Desktop\\\\Min-Max\\\\input_layer_4_6_10_2.pickle','rb') as file:\n",
    "    input_data = pickle.load(file)\n",
    "print(input_data.shape)\n",
    "x_train = input_data[:100000,:]\n",
    "x_test = input_data[100000:,:]"
   ]
  },
  {
   "cell_type": "code",
   "execution_count": 3,
   "metadata": {},
   "outputs": [
    {
     "name": "stdout",
     "output_type": "stream",
     "text": [
      "(12, 105000)\n"
     ]
    }
   ],
   "source": [
    "with open ('C:\\\\Users\\\\Wilfred\\\\Desktop\\\\Min-Max\\\\output_layer_4_6_10_2.pickle','rb') as file:\n",
    "    output_data = pickle.load(file)\n",
    "print(output_data.shape)\n",
    "output_data = np.transpose(output_data)\n",
    "y_train = output_data[:100000,:]\n",
    "y_test = output_data[100000:,:]"
   ]
  },
  {
   "cell_type": "code",
   "execution_count": 4,
   "metadata": {},
   "outputs": [
    {
     "name": "stdout",
     "output_type": "stream",
     "text": [
      "Train on 100000 samples, validate on 5000 samples\n",
      "Epoch 1/100\n",
      "100000/100000 - 2s - loss: 0.4034 - accuracy: 0.8367 - val_loss: 0.3329 - val_accuracy: 0.8641\n",
      "Epoch 2/100\n",
      "100000/100000 - 1s - loss: 0.2880 - accuracy: 0.8833 - val_loss: 0.2631 - val_accuracy: 0.8937\n",
      "Epoch 3/100\n",
      "100000/100000 - 1s - loss: 0.2482 - accuracy: 0.8989 - val_loss: 0.2389 - val_accuracy: 0.9024\n",
      "Epoch 4/100\n",
      "100000/100000 - 1s - loss: 0.2287 - accuracy: 0.9059 - val_loss: 0.2244 - val_accuracy: 0.9068\n",
      "Epoch 5/100\n",
      "100000/100000 - 1s - loss: 0.2158 - accuracy: 0.9101 - val_loss: 0.2118 - val_accuracy: 0.9107\n",
      "Epoch 6/100\n",
      "100000/100000 - 1s - loss: 0.2060 - accuracy: 0.9129 - val_loss: 0.2044 - val_accuracy: 0.9127\n",
      "Epoch 7/100\n",
      "100000/100000 - 1s - loss: 0.1992 - accuracy: 0.9148 - val_loss: 0.1979 - val_accuracy: 0.9149\n",
      "Epoch 8/100\n",
      "100000/100000 - 1s - loss: 0.1935 - accuracy: 0.9162 - val_loss: 0.1942 - val_accuracy: 0.9157\n",
      "Epoch 9/100\n",
      "100000/100000 - 1s - loss: 0.1892 - accuracy: 0.9174 - val_loss: 0.1898 - val_accuracy: 0.9168\n",
      "Epoch 10/100\n",
      "100000/100000 - 1s - loss: 0.1851 - accuracy: 0.9185 - val_loss: 0.1852 - val_accuracy: 0.9177\n",
      "Epoch 11/100\n",
      "100000/100000 - 1s - loss: 0.1813 - accuracy: 0.9198 - val_loss: 0.1828 - val_accuracy: 0.9187\n",
      "Epoch 12/100\n",
      "100000/100000 - 1s - loss: 0.1786 - accuracy: 0.9204 - val_loss: 0.1823 - val_accuracy: 0.9181\n",
      "Epoch 13/100\n",
      "100000/100000 - 1s - loss: 0.1748 - accuracy: 0.9217 - val_loss: 0.1772 - val_accuracy: 0.9197\n",
      "Epoch 14/100\n",
      "100000/100000 - 1s - loss: 0.1719 - accuracy: 0.9226 - val_loss: 0.1753 - val_accuracy: 0.9205\n",
      "Epoch 15/100\n",
      "100000/100000 - 1s - loss: 0.1681 - accuracy: 0.9238 - val_loss: 0.1711 - val_accuracy: 0.9221\n",
      "Epoch 16/100\n",
      "100000/100000 - 1s - loss: 0.1641 - accuracy: 0.9251 - val_loss: 0.1668 - val_accuracy: 0.9238\n",
      "Epoch 17/100\n",
      "100000/100000 - 1s - loss: 0.1606 - accuracy: 0.9262 - val_loss: 0.1635 - val_accuracy: 0.9251\n",
      "Epoch 18/100\n",
      "100000/100000 - 1s - loss: 0.1567 - accuracy: 0.9277 - val_loss: 0.1594 - val_accuracy: 0.9268\n",
      "Epoch 19/100\n",
      "100000/100000 - 1s - loss: 0.1526 - accuracy: 0.9290 - val_loss: 0.1566 - val_accuracy: 0.9274\n",
      "Epoch 20/100\n",
      "100000/100000 - 1s - loss: 0.1486 - accuracy: 0.9306 - val_loss: 0.1530 - val_accuracy: 0.9284\n",
      "Epoch 21/100\n",
      "100000/100000 - 1s - loss: 0.1446 - accuracy: 0.9320 - val_loss: 0.1486 - val_accuracy: 0.9297\n",
      "Epoch 22/100\n",
      "100000/100000 - 1s - loss: 0.1410 - accuracy: 0.9333 - val_loss: 0.1439 - val_accuracy: 0.9317\n",
      "Epoch 23/100\n",
      "100000/100000 - 1s - loss: 0.1370 - accuracy: 0.9349 - val_loss: 0.1446 - val_accuracy: 0.9311\n",
      "Epoch 24/100\n",
      "100000/100000 - 1s - loss: 0.1336 - accuracy: 0.9362 - val_loss: 0.1386 - val_accuracy: 0.9328\n",
      "Epoch 25/100\n",
      "100000/100000 - 1s - loss: 0.1302 - accuracy: 0.9376 - val_loss: 0.1351 - val_accuracy: 0.9354\n",
      "Epoch 26/100\n",
      "100000/100000 - 1s - loss: 0.1270 - accuracy: 0.9389 - val_loss: 0.1327 - val_accuracy: 0.9360\n",
      "Epoch 27/100\n",
      "100000/100000 - 1s - loss: 0.1244 - accuracy: 0.9404 - val_loss: 0.1296 - val_accuracy: 0.9376\n",
      "Epoch 28/100\n",
      "100000/100000 - 1s - loss: 0.1210 - accuracy: 0.9416 - val_loss: 0.1262 - val_accuracy: 0.9384\n",
      "Epoch 29/100\n",
      "100000/100000 - 1s - loss: 0.1190 - accuracy: 0.9426 - val_loss: 0.1265 - val_accuracy: 0.9385\n",
      "Epoch 30/100\n",
      "100000/100000 - 1s - loss: 0.1160 - accuracy: 0.9441 - val_loss: 0.1219 - val_accuracy: 0.9409\n",
      "Epoch 31/100\n",
      "100000/100000 - 1s - loss: 0.1134 - accuracy: 0.9454 - val_loss: 0.1204 - val_accuracy: 0.9416\n",
      "Epoch 32/100\n",
      "100000/100000 - 1s - loss: 0.1115 - accuracy: 0.9463 - val_loss: 0.1193 - val_accuracy: 0.9415\n",
      "Epoch 33/100\n",
      "100000/100000 - 1s - loss: 0.1091 - accuracy: 0.9475 - val_loss: 0.1175 - val_accuracy: 0.9431\n",
      "Epoch 34/100\n",
      "100000/100000 - 1s - loss: 0.1076 - accuracy: 0.9484 - val_loss: 0.1155 - val_accuracy: 0.9434\n",
      "Epoch 35/100\n",
      "100000/100000 - 1s - loss: 0.1055 - accuracy: 0.9494 - val_loss: 0.1137 - val_accuracy: 0.9449\n",
      "Epoch 36/100\n",
      "100000/100000 - 1s - loss: 0.1033 - accuracy: 0.9505 - val_loss: 0.1134 - val_accuracy: 0.9448\n",
      "Epoch 37/100\n",
      "100000/100000 - 1s - loss: 0.1019 - accuracy: 0.9514 - val_loss: 0.1094 - val_accuracy: 0.9466\n",
      "Epoch 38/100\n",
      "100000/100000 - 1s - loss: 0.0999 - accuracy: 0.9524 - val_loss: 0.1084 - val_accuracy: 0.9475\n",
      "Epoch 39/100\n",
      "100000/100000 - 1s - loss: 0.0983 - accuracy: 0.9533 - val_loss: 0.1067 - val_accuracy: 0.9484\n",
      "Epoch 40/100\n",
      "100000/100000 - 1s - loss: 0.0966 - accuracy: 0.9544 - val_loss: 0.1045 - val_accuracy: 0.9500\n",
      "Epoch 41/100\n",
      "100000/100000 - 1s - loss: 0.0956 - accuracy: 0.9550 - val_loss: 0.1074 - val_accuracy: 0.9477\n",
      "Epoch 42/100\n",
      "100000/100000 - 1s - loss: 0.0939 - accuracy: 0.9558 - val_loss: 0.1023 - val_accuracy: 0.9512\n",
      "Epoch 43/100\n",
      "100000/100000 - 1s - loss: 0.0923 - accuracy: 0.9568 - val_loss: 0.0997 - val_accuracy: 0.9525\n",
      "Epoch 44/100\n",
      "100000/100000 - 1s - loss: 0.0911 - accuracy: 0.9575 - val_loss: 0.1000 - val_accuracy: 0.9523\n",
      "Epoch 45/100\n",
      "100000/100000 - 1s - loss: 0.0889 - accuracy: 0.9587 - val_loss: 0.0966 - val_accuracy: 0.9539\n",
      "Epoch 46/100\n",
      "100000/100000 - 1s - loss: 0.0879 - accuracy: 0.9592 - val_loss: 0.0963 - val_accuracy: 0.9549\n",
      "Epoch 47/100\n",
      "100000/100000 - 1s - loss: 0.0868 - accuracy: 0.9599 - val_loss: 0.0943 - val_accuracy: 0.9557\n",
      "Epoch 48/100\n",
      "100000/100000 - 1s - loss: 0.0854 - accuracy: 0.9606 - val_loss: 0.0931 - val_accuracy: 0.9568\n",
      "Epoch 49/100\n",
      "100000/100000 - 1s - loss: 0.0841 - accuracy: 0.9615 - val_loss: 0.0958 - val_accuracy: 0.9547\n",
      "Epoch 50/100\n",
      "100000/100000 - 1s - loss: 0.0831 - accuracy: 0.9621 - val_loss: 0.0904 - val_accuracy: 0.9582\n",
      "Epoch 51/100\n",
      "100000/100000 - 1s - loss: 0.0815 - accuracy: 0.9630 - val_loss: 0.0901 - val_accuracy: 0.9581\n",
      "Epoch 52/100\n",
      "100000/100000 - 1s - loss: 0.0799 - accuracy: 0.9639 - val_loss: 0.0898 - val_accuracy: 0.9591\n",
      "Epoch 53/100\n",
      "100000/100000 - 1s - loss: 0.0797 - accuracy: 0.9640 - val_loss: 0.0899 - val_accuracy: 0.9582\n",
      "Epoch 54/100\n",
      "100000/100000 - 1s - loss: 0.0786 - accuracy: 0.9647 - val_loss: 0.0868 - val_accuracy: 0.9604\n",
      "Epoch 55/100\n",
      "100000/100000 - 1s - loss: 0.0768 - accuracy: 0.9659 - val_loss: 0.0864 - val_accuracy: 0.9605\n",
      "Epoch 56/100\n",
      "100000/100000 - 1s - loss: 0.0761 - accuracy: 0.9661 - val_loss: 0.0849 - val_accuracy: 0.9609\n",
      "Epoch 57/100\n",
      "100000/100000 - 1s - loss: 0.0747 - accuracy: 0.9668 - val_loss: 0.0843 - val_accuracy: 0.9605\n",
      "Epoch 58/100\n",
      "100000/100000 - 1s - loss: 0.0738 - accuracy: 0.9673 - val_loss: 0.0837 - val_accuracy: 0.9619\n",
      "Epoch 59/100\n",
      "100000/100000 - 1s - loss: 0.0725 - accuracy: 0.9681 - val_loss: 0.0821 - val_accuracy: 0.9622\n",
      "Epoch 60/100\n",
      "100000/100000 - 1s - loss: 0.0714 - accuracy: 0.9686 - val_loss: 0.0815 - val_accuracy: 0.9626\n",
      "Epoch 61/100\n",
      "100000/100000 - 1s - loss: 0.0706 - accuracy: 0.9690 - val_loss: 0.0819 - val_accuracy: 0.9634\n",
      "Epoch 62/100\n",
      "100000/100000 - 1s - loss: 0.0699 - accuracy: 0.9694 - val_loss: 0.0841 - val_accuracy: 0.9616\n",
      "Epoch 63/100\n",
      "100000/100000 - 1s - loss: 0.0698 - accuracy: 0.9694 - val_loss: 0.0796 - val_accuracy: 0.9645\n",
      "Epoch 64/100\n",
      "100000/100000 - 1s - loss: 0.0677 - accuracy: 0.9707 - val_loss: 0.0791 - val_accuracy: 0.9636\n",
      "Epoch 65/100\n",
      "100000/100000 - 1s - loss: 0.0673 - accuracy: 0.9707 - val_loss: 0.0783 - val_accuracy: 0.9645\n",
      "Epoch 66/100\n",
      "100000/100000 - 1s - loss: 0.0661 - accuracy: 0.9712 - val_loss: 0.0792 - val_accuracy: 0.9642\n",
      "Epoch 67/100\n",
      "100000/100000 - 1s - loss: 0.0659 - accuracy: 0.9714 - val_loss: 0.0769 - val_accuracy: 0.9649\n",
      "Epoch 68/100\n",
      "100000/100000 - 1s - loss: 0.0647 - accuracy: 0.9719 - val_loss: 0.0783 - val_accuracy: 0.9645\n",
      "Epoch 69/100\n",
      "100000/100000 - 1s - loss: 0.0636 - accuracy: 0.9725 - val_loss: 0.0756 - val_accuracy: 0.9665\n",
      "Epoch 70/100\n",
      "100000/100000 - 1s - loss: 0.0630 - accuracy: 0.9728 - val_loss: 0.0750 - val_accuracy: 0.9665\n",
      "Epoch 71/100\n",
      "100000/100000 - 1s - loss: 0.0625 - accuracy: 0.9732 - val_loss: 0.0740 - val_accuracy: 0.9671\n",
      "Epoch 72/100\n",
      "100000/100000 - 1s - loss: 0.0618 - accuracy: 0.9735 - val_loss: 0.0731 - val_accuracy: 0.9677\n",
      "Epoch 73/100\n",
      "100000/100000 - 1s - loss: 0.0610 - accuracy: 0.9737 - val_loss: 0.0730 - val_accuracy: 0.9674\n",
      "Epoch 74/100\n",
      "100000/100000 - 1s - loss: 0.0603 - accuracy: 0.9740 - val_loss: 0.0734 - val_accuracy: 0.9681\n",
      "Epoch 75/100\n",
      "100000/100000 - 1s - loss: 0.0605 - accuracy: 0.9738 - val_loss: 0.0715 - val_accuracy: 0.9679\n",
      "Epoch 76/100\n",
      "100000/100000 - 1s - loss: 0.0589 - accuracy: 0.9748 - val_loss: 0.0718 - val_accuracy: 0.9673\n"
     ]
    },
    {
     "name": "stdout",
     "output_type": "stream",
     "text": [
      "Epoch 77/100\n",
      "100000/100000 - 1s - loss: 0.0584 - accuracy: 0.9749 - val_loss: 0.0720 - val_accuracy: 0.9676\n",
      "Epoch 78/100\n",
      "100000/100000 - 1s - loss: 0.0579 - accuracy: 0.9752 - val_loss: 0.0684 - val_accuracy: 0.9697\n",
      "Epoch 79/100\n",
      "100000/100000 - 1s - loss: 0.0569 - accuracy: 0.9756 - val_loss: 0.0691 - val_accuracy: 0.9696\n",
      "Epoch 80/100\n",
      "100000/100000 - 1s - loss: 0.0559 - accuracy: 0.9761 - val_loss: 0.0680 - val_accuracy: 0.9701\n",
      "Epoch 81/100\n",
      "100000/100000 - 1s - loss: 0.0559 - accuracy: 0.9761 - val_loss: 0.0691 - val_accuracy: 0.9690\n",
      "Epoch 82/100\n",
      "100000/100000 - 1s - loss: 0.0557 - accuracy: 0.9762 - val_loss: 0.0672 - val_accuracy: 0.9706\n",
      "Epoch 83/100\n",
      "100000/100000 - 1s - loss: 0.0544 - accuracy: 0.9767 - val_loss: 0.0676 - val_accuracy: 0.9707\n",
      "Epoch 84/100\n",
      "100000/100000 - 1s - loss: 0.0541 - accuracy: 0.9770 - val_loss: 0.0673 - val_accuracy: 0.9704\n",
      "Epoch 85/100\n",
      "100000/100000 - 1s - loss: 0.0537 - accuracy: 0.9771 - val_loss: 0.0660 - val_accuracy: 0.9714\n",
      "Epoch 86/100\n",
      "100000/100000 - 1s - loss: 0.0525 - accuracy: 0.9776 - val_loss: 0.0655 - val_accuracy: 0.9715\n",
      "Epoch 87/100\n",
      "100000/100000 - 1s - loss: 0.0521 - accuracy: 0.9778 - val_loss: 0.0658 - val_accuracy: 0.9714\n",
      "Epoch 88/100\n",
      "100000/100000 - 1s - loss: 0.0518 - accuracy: 0.9780 - val_loss: 0.0661 - val_accuracy: 0.9713\n",
      "Epoch 89/100\n",
      "100000/100000 - 1s - loss: 0.0515 - accuracy: 0.9780 - val_loss: 0.0644 - val_accuracy: 0.9710\n",
      "Epoch 90/100\n",
      "100000/100000 - 1s - loss: 0.0505 - accuracy: 0.9784 - val_loss: 0.0656 - val_accuracy: 0.9723\n",
      "Epoch 91/100\n",
      "100000/100000 - 1s - loss: 0.0507 - accuracy: 0.9784 - val_loss: 0.0664 - val_accuracy: 0.9711\n",
      "Epoch 92/100\n",
      "100000/100000 - 1s - loss: 0.0501 - accuracy: 0.9787 - val_loss: 0.0641 - val_accuracy: 0.9727\n",
      "Epoch 93/100\n",
      "100000/100000 - 1s - loss: 0.0491 - accuracy: 0.9792 - val_loss: 0.0632 - val_accuracy: 0.9723\n",
      "Epoch 94/100\n",
      "100000/100000 - 1s - loss: 0.0486 - accuracy: 0.9793 - val_loss: 0.0627 - val_accuracy: 0.9728\n",
      "Epoch 95/100\n",
      "100000/100000 - 1s - loss: 0.0484 - accuracy: 0.9795 - val_loss: 0.0624 - val_accuracy: 0.9723\n",
      "Epoch 96/100\n",
      "100000/100000 - 1s - loss: 0.0479 - accuracy: 0.9797 - val_loss: 0.0631 - val_accuracy: 0.9724\n",
      "Epoch 97/100\n",
      "100000/100000 - 1s - loss: 0.0474 - accuracy: 0.9798 - val_loss: 0.0610 - val_accuracy: 0.9739\n",
      "Epoch 98/100\n",
      "100000/100000 - 1s - loss: 0.0468 - accuracy: 0.9801 - val_loss: 0.0618 - val_accuracy: 0.9726\n",
      "Epoch 99/100\n",
      "100000/100000 - 1s - loss: 0.0464 - accuracy: 0.9803 - val_loss: 0.0598 - val_accuracy: 0.9738\n",
      "Epoch 100/100\n",
      "100000/100000 - 1s - loss: 0.0455 - accuracy: 0.9809 - val_loss: 0.0597 - val_accuracy: 0.9738\n"
     ]
    }
   ],
   "source": [
    "model = tf.keras.models.Sequential([\n",
    "    tf.keras.layers.Dense(150,input_shape = [24], activation = 'relu'),\n",
    "    tf.keras.layers.Dense(150, activation = 'relu'),\n",
    "    tf.keras.layers.Dense(150, activation = 'relu'),\n",
    "    tf.keras.layers.Dense(12, activation = 'sigmoid')\n",
    "])\n",
    "\n",
    "model.compile(optimizer = 'adam', loss = 'binary_crossentropy', metrics = ['accuracy'])\n",
    "\n",
    "history = model.fit(x_train, y_train, batch_size = 1024, epochs = 100, verbose = 2,validation_data = (x_test, y_test))\n"
   ]
  },
  {
   "cell_type": "code",
   "execution_count": 6,
   "metadata": {},
   "outputs": [
    {
     "data": {
      "text/plain": [
       "<matplotlib.legend.Legend at 0x2aa6d430c08>"
      ]
     },
     "execution_count": 6,
     "metadata": {},
     "output_type": "execute_result"
    },
    {
     "data": {
      "image/png": "[encoded data removed]",
      "text/plain": [
       "<Figure size 432x288 with 1 Axes>"
      ]
     },
     "metadata": {
      "needs_background": "light"
     },
     "output_type": "display_data"
    }
   ],
   "source": [
    "import matplotlib.pyplot as plt\n",
    "plt.figure()\n",
    "acc = history.history['accuracy']\n",
    "loss = history.history['loss']\n",
    "val_acc = history.history['val_accuracy']\n",
    "val_loss = history.history['val_loss']\n",
    "\n",
    "epochs = range(len(acc))\n",
    "plt.plot(epochs, acc, 'r', label = 'Training accuracy')\n",
    "plt.plot(epochs, val_acc, 'b', label = 'Validating accuracy')\n",
    "plt.title('Training and Validating Accuracy')\n",
    "plt.legend()"
   ]
  },
  {
   "cell_type": "code",
   "execution_count": 7,
   "metadata": {},
   "outputs": [],
   "source": [
    "model.save('C:\\\\Users\\\\Wilfred\\\\Desktop\\\\weights\\\\Min_Max\\\\Min_Max_4_6_10_2_model.h5')"
   ]
  },
  {
   "cell_type": "code",
   "execution_count": null,
   "metadata": {},
   "outputs": [],
   "source": []
  }
 ],
 "metadata": {
  "kernelspec": {
   "display_name": "Python 3",
   "language": "python",
   "name": "python3"
  },
  "language_info": {
   "codemirror_mode": {
    "name": "ipython",
    "version": 3
   },
   "file_extension": ".py",
   "mimetype": "text/x-python",
   "name": "python",
   "nbconvert_exporter": "python",
   "pygments_lexer": "ipython3",
   "version": "3.7.5"
  }
 },
 "nbformat": 4,
 "nbformat_minor": 2
}
