{
 "cells": [
  {
   "cell_type": "code",
   "execution_count": 1,
   "metadata": {},
   "outputs": [],
   "source": [
    "import tensorflow as tf\n",
    "import numpy as np\n",
    "import pickle"
   ]
  },
  {
   "cell_type": "code",
   "execution_count": 2,
   "metadata": {},
   "outputs": [
    {
     "name": "stdout",
     "output_type": "stream",
     "text": [
      "(105000, 24)\n"
     ]
    }
   ],
   "source": [
    "with open ('C:\\\\Users\\\\Wilfred\\\\Desktop\\\\Min-Max\\\\input_layer_4_6_15_4.pickle','rb') as file:\n",
    "    input_data = pickle.load(file)\n",
    "print(input_data.shape)\n",
    "permutation = list(np.random.permutation(input_data.shape[0]))\n",
    "input_data = input_data[permutation, :]\n",
    "x_train = input_data[:100000,:]\n",
    "x_valid = input_data[100000:102500, :]\n",
    "x_test = input_data[102500:,:]\n",
    "\n"
   ]
  },
  {
   "cell_type": "code",
   "execution_count": 3,
   "metadata": {},
   "outputs": [
    {
     "name": "stdout",
     "output_type": "stream",
     "text": [
      "(105000, 12)\n"
     ]
    }
   ],
   "source": [
    "with open ('C:\\\\Users\\\\Wilfred\\\\Desktop\\\\Min-Max\\\\output_layer_4_6_15_4.pickle','rb') as file:\n",
    "    output_data = pickle.load(file)\n",
    "    \n",
    "output_data = np.transpose(output_data)\n",
    "output_data = output_data[permutation, :]\n",
    "y_train = output_data[:100000,:]\n",
    "y_valid = output_data[100000:102500, :]\n",
    "y_test = output_data[102500:,:]\n",
    "print(output_data.shape)"
   ]
  },
  {
   "cell_type": "code",
   "execution_count": 4,
   "metadata": {},
   "outputs": [
    {
     "name": "stdout",
     "output_type": "stream",
     "text": [
      "Train on 100000 samples, validate on 2500 samples\n",
      "Epoch 1/50\n",
      "100000/100000 - 5s - loss: 0.2562 - accuracy: 0.8939 - val_loss: 0.2011 - val_accuracy: 0.9111\n",
      "Epoch 2/50\n",
      "100000/100000 - 5s - loss: 0.1898 - accuracy: 0.9147 - val_loss: 0.1800 - val_accuracy: 0.9181\n",
      "Epoch 3/50\n",
      "100000/100000 - 4s - loss: 0.1744 - accuracy: 0.9199 - val_loss: 0.1685 - val_accuracy: 0.9241\n",
      "Epoch 4/50\n",
      "100000/100000 - 4s - loss: 0.1629 - accuracy: 0.9257 - val_loss: 0.1547 - val_accuracy: 0.9304\n",
      "Epoch 5/50\n",
      "100000/100000 - 4s - loss: 0.1495 - accuracy: 0.9322 - val_loss: 0.1450 - val_accuracy: 0.9343\n",
      "Epoch 6/50\n",
      "100000/100000 - 4s - loss: 0.1361 - accuracy: 0.9379 - val_loss: 0.1307 - val_accuracy: 0.9398\n",
      "Epoch 7/50\n",
      "100000/100000 - 4s - loss: 0.1231 - accuracy: 0.9429 - val_loss: 0.1175 - val_accuracy: 0.9451\n",
      "Epoch 8/50\n",
      "100000/100000 - 5s - loss: 0.1112 - accuracy: 0.9478 - val_loss: 0.1104 - val_accuracy: 0.9483\n",
      "Epoch 9/50\n",
      "100000/100000 - 4s - loss: 0.1012 - accuracy: 0.9521 - val_loss: 0.1020 - val_accuracy: 0.9522\n",
      "Epoch 10/50\n",
      "100000/100000 - 4s - loss: 0.0923 - accuracy: 0.9564 - val_loss: 0.0923 - val_accuracy: 0.9556\n",
      "Epoch 11/50\n",
      "100000/100000 - 3s - loss: 0.0839 - accuracy: 0.9607 - val_loss: 0.0863 - val_accuracy: 0.9604\n",
      "Epoch 12/50\n",
      "100000/100000 - 4s - loss: 0.0786 - accuracy: 0.9633 - val_loss: 0.0821 - val_accuracy: 0.9607\n",
      "Epoch 13/50\n",
      "100000/100000 - 4s - loss: 0.0735 - accuracy: 0.9661 - val_loss: 0.0779 - val_accuracy: 0.9649\n",
      "Epoch 14/50\n",
      "100000/100000 - 4s - loss: 0.0687 - accuracy: 0.9688 - val_loss: 0.0729 - val_accuracy: 0.9666\n",
      "Epoch 15/50\n",
      "100000/100000 - 4s - loss: 0.0640 - accuracy: 0.9710 - val_loss: 0.0731 - val_accuracy: 0.9668\n",
      "Epoch 16/50\n",
      "100000/100000 - 4s - loss: 0.0606 - accuracy: 0.9727 - val_loss: 0.0724 - val_accuracy: 0.9685\n",
      "Epoch 17/50\n",
      "100000/100000 - 4s - loss: 0.0569 - accuracy: 0.9746 - val_loss: 0.0651 - val_accuracy: 0.9712\n",
      "Epoch 18/50\n",
      "100000/100000 - 4s - loss: 0.0545 - accuracy: 0.9758 - val_loss: 0.0631 - val_accuracy: 0.9723\n",
      "Epoch 19/50\n",
      "100000/100000 - 4s - loss: 0.0510 - accuracy: 0.9776 - val_loss: 0.0602 - val_accuracy: 0.9733\n",
      "Epoch 20/50\n",
      "100000/100000 - 4s - loss: 0.0493 - accuracy: 0.9784 - val_loss: 0.0606 - val_accuracy: 0.9729\n",
      "Epoch 21/50\n",
      "100000/100000 - 4s - loss: 0.0464 - accuracy: 0.9799 - val_loss: 0.0575 - val_accuracy: 0.9747\n",
      "Epoch 22/50\n",
      "100000/100000 - 4s - loss: 0.0441 - accuracy: 0.9810 - val_loss: 0.0533 - val_accuracy: 0.9773\n",
      "Epoch 23/50\n",
      "100000/100000 - 4s - loss: 0.0418 - accuracy: 0.9821 - val_loss: 0.0551 - val_accuracy: 0.9772\n",
      "Epoch 24/50\n",
      "100000/100000 - 4s - loss: 0.0395 - accuracy: 0.9832 - val_loss: 0.0497 - val_accuracy: 0.9783\n",
      "Epoch 25/50\n",
      "100000/100000 - 4s - loss: 0.0383 - accuracy: 0.9837 - val_loss: 0.0487 - val_accuracy: 0.9800\n",
      "Epoch 26/50\n",
      "100000/100000 - 4s - loss: 0.0351 - accuracy: 0.9853 - val_loss: 0.0491 - val_accuracy: 0.9795\n",
      "Epoch 27/50\n",
      "100000/100000 - 4s - loss: 0.0339 - accuracy: 0.9858 - val_loss: 0.0476 - val_accuracy: 0.9805\n",
      "Epoch 28/50\n",
      "100000/100000 - 4s - loss: 0.0328 - accuracy: 0.9863 - val_loss: 0.0447 - val_accuracy: 0.9816\n",
      "Epoch 29/50\n",
      "100000/100000 - 3s - loss: 0.0313 - accuracy: 0.9871 - val_loss: 0.0456 - val_accuracy: 0.9819\n",
      "Epoch 30/50\n",
      "100000/100000 - 3s - loss: 0.0306 - accuracy: 0.9873 - val_loss: 0.0480 - val_accuracy: 0.9807\n",
      "Epoch 31/50\n",
      "100000/100000 - 3s - loss: 0.0296 - accuracy: 0.9878 - val_loss: 0.0421 - val_accuracy: 0.9834\n",
      "Epoch 32/50\n",
      "100000/100000 - 4s - loss: 0.0273 - accuracy: 0.9888 - val_loss: 0.0447 - val_accuracy: 0.9822\n",
      "Epoch 33/50\n",
      "100000/100000 - 4s - loss: 0.0264 - accuracy: 0.9892 - val_loss: 0.0405 - val_accuracy: 0.9843\n",
      "Epoch 34/50\n",
      "100000/100000 - 4s - loss: 0.0250 - accuracy: 0.9900 - val_loss: 0.0443 - val_accuracy: 0.9824\n",
      "Epoch 35/50\n",
      "100000/100000 - 3s - loss: 0.0245 - accuracy: 0.9901 - val_loss: 0.0413 - val_accuracy: 0.9841\n",
      "Epoch 36/50\n",
      "100000/100000 - 4s - loss: 0.0246 - accuracy: 0.9901 - val_loss: 0.0408 - val_accuracy: 0.9837\n",
      "Epoch 37/50\n",
      "100000/100000 - 4s - loss: 0.0237 - accuracy: 0.9904 - val_loss: 0.0430 - val_accuracy: 0.9839\n",
      "Epoch 38/50\n",
      "100000/100000 - 3s - loss: 0.0240 - accuracy: 0.9904 - val_loss: 0.0417 - val_accuracy: 0.9841\n",
      "Epoch 39/50\n",
      "100000/100000 - 4s - loss: 0.0207 - accuracy: 0.9918 - val_loss: 0.0391 - val_accuracy: 0.9859\n",
      "Epoch 40/50\n",
      "100000/100000 - 4s - loss: 0.0205 - accuracy: 0.9918 - val_loss: 0.0412 - val_accuracy: 0.9849\n",
      "Epoch 41/50\n",
      "100000/100000 - 4s - loss: 0.0197 - accuracy: 0.9922 - val_loss: 0.0411 - val_accuracy: 0.9850\n",
      "Epoch 42/50\n",
      "100000/100000 - 4s - loss: 0.0196 - accuracy: 0.9922 - val_loss: 0.0431 - val_accuracy: 0.9853\n",
      "Epoch 43/50\n",
      "100000/100000 - 4s - loss: 0.0226 - accuracy: 0.9911 - val_loss: 0.0388 - val_accuracy: 0.9852\n",
      "Epoch 44/50\n",
      "100000/100000 - 4s - loss: 0.0190 - accuracy: 0.9925 - val_loss: 0.0356 - val_accuracy: 0.9874\n",
      "Epoch 45/50\n",
      "100000/100000 - 4s - loss: 0.0172 - accuracy: 0.9934 - val_loss: 0.0423 - val_accuracy: 0.9848\n",
      "Epoch 46/50\n",
      "100000/100000 - 4s - loss: 0.0194 - accuracy: 0.9924 - val_loss: 0.0450 - val_accuracy: 0.9846\n",
      "Epoch 47/50\n",
      "100000/100000 - 4s - loss: 0.0168 - accuracy: 0.9935 - val_loss: 0.0420 - val_accuracy: 0.9857\n",
      "Epoch 48/50\n",
      "100000/100000 - 4s - loss: 0.0199 - accuracy: 0.9923 - val_loss: 0.0436 - val_accuracy: 0.9852\n",
      "Epoch 49/50\n",
      "100000/100000 - 4s - loss: 0.0181 - accuracy: 0.9930 - val_loss: 0.0442 - val_accuracy: 0.9863\n",
      "Epoch 50/50\n",
      "100000/100000 - 4s - loss: 0.0157 - accuracy: 0.9940 - val_loss: 0.0412 - val_accuracy: 0.9872\n"
     ]
    }
   ],
   "source": [
    "model = tf.keras.models.Sequential([\n",
    "    tf.keras.layers.Dense(300,input_shape = [24], activation = 'relu'),\n",
    "    tf.keras.layers.Dense(300, activation = 'relu'),\n",
    "    tf.keras.layers.Dense(300, activation = 'relu'),\n",
    "    tf.keras.layers.Dense(12, activation = 'sigmoid')\n",
    "])\n",
    "adam = tf.keras.optimizers.Adam(lr = 0.005)\n",
    "model.compile(optimizer = adam, loss = 'binary_crossentropy', metrics = ['accuracy'])\n",
    "\n",
    "history = model.fit(x_train, y_train, batch_size = 1024, epochs = 50, verbose = 2,validation_data = (x_valid, y_valid))\n"
   ]
  },
  {
   "cell_type": "code",
   "execution_count": 5,
   "metadata": {},
   "outputs": [
    {
     "data": {
      "text/plain": [
       "<Figure size 640x480 with 1 Axes>"
      ]
     },
     "metadata": {},
     "output_type": "display_data"
    }
   ],
   "source": [
    "import matplotlib.pyplot as plt\n",
    "plt.figure()\n",
    "acc = history.history['accuracy']\n",
    "loss = history.history['loss']\n",
    "val_acc = history.history['val_accuracy']\n",
    "val_loss = history.history['val_loss']\n",
    "\n",
    "epochs = range(len(acc))\n",
    "plt.plot(epochs, acc, 'r', label = 'Training accuracy')\n",
    "plt.plot(epochs, val_acc, 'b', label = 'Validating accuracy')\n",
    "plt.title('Training and Validating Accuracy')\n",
    "plt.legend()\n",
    "plt.show()"
   ]
  },
  {
   "cell_type": "code",
   "execution_count": 5,
   "metadata": {},
   "outputs": [
    {
     "name": "stdout",
     "output_type": "stream",
     "text": [
      "2500/1 - 0s - loss: 0.0240 - accuracy: 0.9866\n"
     ]
    },
    {
     "data": {
      "text/plain": [
       "[0.04380663121044636, 0.9866334]"
      ]
     },
     "execution_count": 5,
     "metadata": {},
     "output_type": "execute_result"
    }
   ],
   "source": [
    "model.evaluate(x_test, y_test, verbose = 2)"
   ]
  },
  {
   "cell_type": "code",
   "execution_count": 6,
   "metadata": {},
   "outputs": [],
   "source": [
    "model.save('C:\\\\Users\\\\Wilfred\\\\Desktop\\\\weights\\\\Min_Max\\\\Min_Max_4_6_15_4_model.h5')"
   ]
  },
  {
   "cell_type": "code",
   "execution_count": null,
   "metadata": {},
   "outputs": [],
   "source": []
  }
 ],
 "metadata": {
  "kernelspec": {
   "display_name": "Python 3",
   "language": "python",
   "name": "python3"
  },
  "language_info": {
   "codemirror_mode": {
    "name": "ipython",
    "version": 3
   },
   "file_extension": ".py",
   "mimetype": "text/x-python",
   "name": "python",
   "nbconvert_exporter": "python",
   "pygments_lexer": "ipython3",
   "version": "3.7.5"
  }
 },
 "nbformat": 4,
 "nbformat_minor": 2
}
