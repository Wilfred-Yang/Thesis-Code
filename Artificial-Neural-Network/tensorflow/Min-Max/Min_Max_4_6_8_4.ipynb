{
 "cells": [
  {
   "cell_type": "code",
   "execution_count": 1,
   "metadata": {},
   "outputs": [],
   "source": [
    "import tensorflow as tf\n",
    "import numpy as np\n",
    "import pickle"
   ]
  },
  {
   "cell_type": "code",
   "execution_count": 3,
   "metadata": {},
   "outputs": [
    {
     "name": "stdout",
     "output_type": "stream",
     "text": [
      "(405000, 24)\n"
     ]
    }
   ],
   "source": [
    "with open ('C:\\\\Users\\\\Wilfred\\\\Desktop\\\\Min-Max\\\\input_layer_4_6_8_4.pickle','rb') as file:\n",
    "    input_data = pickle.load(file)\n",
    "print(input_data.shape)\n",
    "\n",
    "x_train = input_data[:400000,:]\n",
    "#x_valid = input_data[5765840:5771840,:]\n",
    "x_test = input_data[400000:, :]\n",
    "#(5775840, 24)"
   ]
  },
  {
   "cell_type": "code",
   "execution_count": 4,
   "metadata": {},
   "outputs": [
    {
     "name": "stdout",
     "output_type": "stream",
     "text": [
      "(405000, 12)\n"
     ]
    }
   ],
   "source": [
    "with open ('C:\\\\Users\\\\Wilfred\\\\Desktop\\\\Min-Max\\\\output_layer_4_6_8_4.pickle','rb') as file:\n",
    "    output_data = pickle.load(file)\n",
    "output_data = np.transpose(output_data)\n",
    "y_train = output_data[:400000,:]\n",
    "#y_valid = output_data[5765840:5771840,:]\n",
    "#y_test = output_data[5771840:,:]\n",
    "y_test = output_data[400000:, :]\n",
    "print(output_data.shape)"
   ]
  },
  {
   "cell_type": "code",
   "execution_count": 6,
   "metadata": {},
   "outputs": [
    {
     "name": "stdout",
     "output_type": "stream",
     "text": [
      "Train on 400000 samples, validate on 5000 samples\n",
      "Epoch 1/100\n",
      "400000/400000 - 6s - loss: 0.2087 - accuracy: 0.9094 - val_loss: 0.1759 - val_accuracy: 0.9149\n",
      "Epoch 2/100\n",
      "400000/400000 - 5s - loss: 0.1442 - accuracy: 0.9297 - val_loss: 0.1216 - val_accuracy: 0.9421\n",
      "Epoch 3/100\n",
      "400000/400000 - 5s - loss: 0.1096 - accuracy: 0.9487 - val_loss: 0.1045 - val_accuracy: 0.9513\n",
      "Epoch 4/100\n",
      "400000/400000 - 5s - loss: 0.0969 - accuracy: 0.9544 - val_loss: 0.0966 - val_accuracy: 0.9535\n",
      "Epoch 5/100\n",
      "400000/400000 - 5s - loss: 0.0884 - accuracy: 0.9577 - val_loss: 0.0910 - val_accuracy: 0.9552\n",
      "Epoch 6/100\n",
      "400000/400000 - 5s - loss: 0.0815 - accuracy: 0.9603 - val_loss: 0.0810 - val_accuracy: 0.9600\n",
      "Epoch 7/100\n",
      "400000/400000 - 5s - loss: 0.0753 - accuracy: 0.9628 - val_loss: 0.0760 - val_accuracy: 0.9609\n",
      "Epoch 8/100\n",
      "400000/400000 - 5s - loss: 0.0699 - accuracy: 0.9649 - val_loss: 0.0735 - val_accuracy: 0.9619\n",
      "Epoch 9/100\n",
      "400000/400000 - 5s - loss: 0.0655 - accuracy: 0.9666 - val_loss: 0.0678 - val_accuracy: 0.9643\n",
      "Epoch 10/100\n",
      "400000/400000 - 5s - loss: 0.0622 - accuracy: 0.9679 - val_loss: 0.0655 - val_accuracy: 0.9663\n",
      "Epoch 11/100\n",
      "400000/400000 - 5s - loss: 0.0593 - accuracy: 0.9691 - val_loss: 0.0631 - val_accuracy: 0.9666\n",
      "Epoch 12/100\n",
      "400000/400000 - 5s - loss: 0.0572 - accuracy: 0.9699 - val_loss: 0.0618 - val_accuracy: 0.9669\n",
      "Epoch 13/100\n",
      "400000/400000 - 5s - loss: 0.0552 - accuracy: 0.9706 - val_loss: 0.0592 - val_accuracy: 0.9678\n",
      "Epoch 14/100\n",
      "400000/400000 - 6s - loss: 0.0537 - accuracy: 0.9711 - val_loss: 0.0588 - val_accuracy: 0.9676\n",
      "Epoch 15/100\n",
      "400000/400000 - 5s - loss: 0.0524 - accuracy: 0.9716 - val_loss: 0.0561 - val_accuracy: 0.9690\n",
      "Epoch 16/100\n",
      "400000/400000 - 5s - loss: 0.0513 - accuracy: 0.9721 - val_loss: 0.0542 - val_accuracy: 0.9697\n",
      "Epoch 17/100\n",
      "400000/400000 - 5s - loss: 0.0501 - accuracy: 0.9725 - val_loss: 0.0549 - val_accuracy: 0.9692\n",
      "Epoch 18/100\n",
      "400000/400000 - 4s - loss: 0.0493 - accuracy: 0.9726 - val_loss: 0.0531 - val_accuracy: 0.9702\n",
      "Epoch 19/100\n",
      "400000/400000 - 4s - loss: 0.0484 - accuracy: 0.9730 - val_loss: 0.0520 - val_accuracy: 0.9707\n",
      "Epoch 20/100\n",
      "400000/400000 - 4s - loss: 0.0478 - accuracy: 0.9732 - val_loss: 0.0520 - val_accuracy: 0.9700\n",
      "Epoch 21/100\n",
      "400000/400000 - 4s - loss: 0.0471 - accuracy: 0.9734 - val_loss: 0.0514 - val_accuracy: 0.9706\n",
      "Epoch 22/100\n",
      "400000/400000 - 4s - loss: 0.0468 - accuracy: 0.9733 - val_loss: 0.0521 - val_accuracy: 0.9703\n",
      "Epoch 23/100\n",
      "400000/400000 - 4s - loss: 0.0462 - accuracy: 0.9737 - val_loss: 0.0507 - val_accuracy: 0.9711\n",
      "Epoch 24/100\n",
      "400000/400000 - 4s - loss: 0.0456 - accuracy: 0.9739 - val_loss: 0.0502 - val_accuracy: 0.9710\n",
      "Epoch 25/100\n",
      "400000/400000 - 4s - loss: 0.0452 - accuracy: 0.9739 - val_loss: 0.0501 - val_accuracy: 0.9705\n",
      "Epoch 26/100\n",
      "400000/400000 - 4s - loss: 0.0449 - accuracy: 0.9741 - val_loss: 0.0498 - val_accuracy: 0.9712\n",
      "Epoch 27/100\n",
      "400000/400000 - 4s - loss: 0.0446 - accuracy: 0.9742 - val_loss: 0.0489 - val_accuracy: 0.9709\n",
      "Epoch 28/100\n",
      "400000/400000 - 4s - loss: 0.0444 - accuracy: 0.9742 - val_loss: 0.0490 - val_accuracy: 0.9718\n",
      "Epoch 29/100\n",
      "400000/400000 - 4s - loss: 0.0440 - accuracy: 0.9744 - val_loss: 0.0480 - val_accuracy: 0.9718\n",
      "Epoch 30/100\n",
      "400000/400000 - 4s - loss: 0.0438 - accuracy: 0.9745 - val_loss: 0.0491 - val_accuracy: 0.9711\n",
      "Epoch 31/100\n",
      "400000/400000 - 4s - loss: 0.0435 - accuracy: 0.9746 - val_loss: 0.0483 - val_accuracy: 0.9714\n",
      "Epoch 32/100\n",
      "400000/400000 - 4s - loss: 0.0432 - accuracy: 0.9747 - val_loss: 0.0475 - val_accuracy: 0.9719\n",
      "Epoch 33/100\n",
      "400000/400000 - 4s - loss: 0.0430 - accuracy: 0.9748 - val_loss: 0.0474 - val_accuracy: 0.9722\n",
      "Epoch 34/100\n",
      "400000/400000 - 4s - loss: 0.0428 - accuracy: 0.9748 - val_loss: 0.0474 - val_accuracy: 0.9729\n",
      "Epoch 35/100\n",
      "400000/400000 - 4s - loss: 0.0427 - accuracy: 0.9749 - val_loss: 0.0474 - val_accuracy: 0.9722\n",
      "Epoch 36/100\n",
      "400000/400000 - 4s - loss: 0.0425 - accuracy: 0.9749 - val_loss: 0.0472 - val_accuracy: 0.9718\n",
      "Epoch 37/100\n",
      "400000/400000 - 4s - loss: 0.0423 - accuracy: 0.9750 - val_loss: 0.0472 - val_accuracy: 0.9719\n",
      "Epoch 38/100\n",
      "400000/400000 - 4s - loss: 0.0422 - accuracy: 0.9751 - val_loss: 0.0470 - val_accuracy: 0.9718\n",
      "Epoch 39/100\n",
      "400000/400000 - 4s - loss: 0.0421 - accuracy: 0.9752 - val_loss: 0.0467 - val_accuracy: 0.9719\n",
      "Epoch 40/100\n",
      "400000/400000 - 4s - loss: 0.0421 - accuracy: 0.9752 - val_loss: 0.0469 - val_accuracy: 0.9723\n",
      "Epoch 41/100\n",
      "400000/400000 - 4s - loss: 0.0419 - accuracy: 0.9752 - val_loss: 0.0462 - val_accuracy: 0.9722\n",
      "Epoch 42/100\n",
      "400000/400000 - 4s - loss: 0.0418 - accuracy: 0.9753 - val_loss: 0.0464 - val_accuracy: 0.9725\n",
      "Epoch 43/100\n",
      "400000/400000 - 4s - loss: 0.0418 - accuracy: 0.9752 - val_loss: 0.0459 - val_accuracy: 0.9731\n",
      "Epoch 44/100\n",
      "400000/400000 - 4s - loss: 0.0416 - accuracy: 0.9754 - val_loss: 0.0465 - val_accuracy: 0.9720\n",
      "Epoch 45/100\n",
      "400000/400000 - 4s - loss: 0.0416 - accuracy: 0.9753 - val_loss: 0.0467 - val_accuracy: 0.9720\n",
      "Epoch 46/100\n",
      "400000/400000 - 4s - loss: 0.0415 - accuracy: 0.9755 - val_loss: 0.0463 - val_accuracy: 0.9733\n",
      "Epoch 47/100\n",
      "400000/400000 - 4s - loss: 0.0415 - accuracy: 0.9755 - val_loss: 0.0460 - val_accuracy: 0.9724\n",
      "Epoch 48/100\n",
      "400000/400000 - 4s - loss: 0.0414 - accuracy: 0.9755 - val_loss: 0.0466 - val_accuracy: 0.9725\n",
      "Epoch 49/100\n",
      "400000/400000 - 4s - loss: 0.0414 - accuracy: 0.9754 - val_loss: 0.0463 - val_accuracy: 0.9728\n",
      "Epoch 50/100\n",
      "400000/400000 - 4s - loss: 0.0413 - accuracy: 0.9755 - val_loss: 0.0460 - val_accuracy: 0.9727\n",
      "Epoch 51/100\n",
      "400000/400000 - 4s - loss: 0.0412 - accuracy: 0.9756 - val_loss: 0.0461 - val_accuracy: 0.9729\n",
      "Epoch 52/100\n",
      "400000/400000 - 4s - loss: 0.0413 - accuracy: 0.9756 - val_loss: 0.0464 - val_accuracy: 0.9726\n",
      "Epoch 53/100\n",
      "400000/400000 - 4s - loss: 0.0412 - accuracy: 0.9757 - val_loss: 0.0460 - val_accuracy: 0.9725\n",
      "Epoch 54/100\n",
      "400000/400000 - 4s - loss: 0.0410 - accuracy: 0.9756 - val_loss: 0.0457 - val_accuracy: 0.9728\n",
      "Epoch 55/100\n",
      "400000/400000 - 4s - loss: 0.0411 - accuracy: 0.9757 - val_loss: 0.0462 - val_accuracy: 0.9731\n",
      "Epoch 56/100\n",
      "400000/400000 - 4s - loss: 0.0412 - accuracy: 0.9756 - val_loss: 0.0460 - val_accuracy: 0.9726\n",
      "Epoch 57/100\n",
      "400000/400000 - 5s - loss: 0.0409 - accuracy: 0.9758 - val_loss: 0.0461 - val_accuracy: 0.9728\n",
      "Epoch 58/100\n",
      "400000/400000 - 5s - loss: 0.0411 - accuracy: 0.9757 - val_loss: 0.0460 - val_accuracy: 0.9726\n",
      "Epoch 59/100\n",
      "400000/400000 - 5s - loss: 0.0410 - accuracy: 0.9758 - val_loss: 0.0457 - val_accuracy: 0.9734\n",
      "Epoch 60/100\n",
      "400000/400000 - 5s - loss: 0.0409 - accuracy: 0.9758 - val_loss: 0.0461 - val_accuracy: 0.9727\n",
      "Epoch 61/100\n",
      "400000/400000 - 5s - loss: 0.0409 - accuracy: 0.9758 - val_loss: 0.0462 - val_accuracy: 0.9721\n",
      "Epoch 62/100\n",
      "400000/400000 - 5s - loss: 0.0407 - accuracy: 0.9760 - val_loss: 0.0460 - val_accuracy: 0.9729\n",
      "Epoch 63/100\n",
      "400000/400000 - 5s - loss: 0.0407 - accuracy: 0.9759 - val_loss: 0.0460 - val_accuracy: 0.9728\n",
      "Epoch 64/100\n",
      "400000/400000 - 5s - loss: 0.0408 - accuracy: 0.9759 - val_loss: 0.0458 - val_accuracy: 0.9733\n",
      "Epoch 65/100\n",
      "400000/400000 - 5s - loss: 0.0407 - accuracy: 0.9760 - val_loss: 0.0460 - val_accuracy: 0.9726\n",
      "Epoch 66/100\n",
      "400000/400000 - 5s - loss: 0.0406 - accuracy: 0.9761 - val_loss: 0.0460 - val_accuracy: 0.9727\n",
      "Epoch 67/100\n",
      "400000/400000 - 5s - loss: 0.0407 - accuracy: 0.9760 - val_loss: 0.0463 - val_accuracy: 0.9717\n",
      "Epoch 68/100\n",
      "400000/400000 - 5s - loss: 0.0405 - accuracy: 0.9761 - val_loss: 0.0464 - val_accuracy: 0.9720\n",
      "Epoch 69/100\n",
      "400000/400000 - 5s - loss: 0.0407 - accuracy: 0.9761 - val_loss: 0.0464 - val_accuracy: 0.9721\n",
      "Epoch 70/100\n",
      "400000/400000 - 5s - loss: 0.0406 - accuracy: 0.9761 - val_loss: 0.0456 - val_accuracy: 0.9726\n",
      "Epoch 71/100\n",
      "400000/400000 - 5s - loss: 0.0406 - accuracy: 0.9762 - val_loss: 0.0460 - val_accuracy: 0.9726\n",
      "Epoch 72/100\n",
      "400000/400000 - 5s - loss: 0.0403 - accuracy: 0.9763 - val_loss: 0.0458 - val_accuracy: 0.9725\n",
      "Epoch 73/100\n",
      "400000/400000 - 5s - loss: 0.0405 - accuracy: 0.9763 - val_loss: 0.0463 - val_accuracy: 0.9724\n",
      "Epoch 74/100\n",
      "400000/400000 - 5s - loss: 0.0406 - accuracy: 0.9762 - val_loss: 0.0460 - val_accuracy: 0.9726\n",
      "Epoch 75/100\n",
      "400000/400000 - 6s - loss: 0.0404 - accuracy: 0.9764 - val_loss: 0.0468 - val_accuracy: 0.9718\n",
      "Epoch 76/100\n",
      "400000/400000 - 5s - loss: 0.0402 - accuracy: 0.9765 - val_loss: 0.0461 - val_accuracy: 0.9724\n"
     ]
    },
    {
     "name": "stdout",
     "output_type": "stream",
     "text": [
      "Epoch 77/100\n",
      "400000/400000 - 5s - loss: 0.0403 - accuracy: 0.9764 - val_loss: 0.0462 - val_accuracy: 0.9724\n",
      "Epoch 78/100\n",
      "400000/400000 - 5s - loss: 0.0404 - accuracy: 0.9763 - val_loss: 0.0465 - val_accuracy: 0.9721\n",
      "Epoch 79/100\n",
      "400000/400000 - 5s - loss: 0.0402 - accuracy: 0.9765 - val_loss: 0.0462 - val_accuracy: 0.9722\n",
      "Epoch 80/100\n",
      "400000/400000 - 5s - loss: 0.0404 - accuracy: 0.9764 - val_loss: 0.0467 - val_accuracy: 0.9719\n",
      "Epoch 81/100\n",
      "400000/400000 - 5s - loss: 0.0403 - accuracy: 0.9765 - val_loss: 0.0465 - val_accuracy: 0.9721\n",
      "Epoch 82/100\n",
      "400000/400000 - 6s - loss: 0.0400 - accuracy: 0.9766 - val_loss: 0.0464 - val_accuracy: 0.9722\n",
      "Epoch 83/100\n",
      "400000/400000 - 6s - loss: 0.0402 - accuracy: 0.9766 - val_loss: 0.0471 - val_accuracy: 0.9714\n",
      "Epoch 84/100\n",
      "400000/400000 - 4s - loss: 0.0402 - accuracy: 0.9766 - val_loss: 0.0471 - val_accuracy: 0.9714\n",
      "Epoch 85/100\n",
      "400000/400000 - 5s - loss: 0.0401 - accuracy: 0.9766 - val_loss: 0.0466 - val_accuracy: 0.9722\n",
      "Epoch 86/100\n",
      "400000/400000 - 5s - loss: 0.0400 - accuracy: 0.9767 - val_loss: 0.0462 - val_accuracy: 0.9719\n",
      "Epoch 87/100\n",
      "400000/400000 - 5s - loss: 0.0402 - accuracy: 0.9766 - val_loss: 0.0465 - val_accuracy: 0.9718\n",
      "Epoch 88/100\n",
      "400000/400000 - 5s - loss: 0.0400 - accuracy: 0.9768 - val_loss: 0.0466 - val_accuracy: 0.9722\n",
      "Epoch 89/100\n",
      "400000/400000 - 5s - loss: 0.0399 - accuracy: 0.9768 - val_loss: 0.0478 - val_accuracy: 0.9720\n",
      "Epoch 90/100\n",
      "400000/400000 - 5s - loss: 0.0402 - accuracy: 0.9767 - val_loss: 0.0465 - val_accuracy: 0.9731\n",
      "Epoch 91/100\n",
      "400000/400000 - 5s - loss: 0.0398 - accuracy: 0.9769 - val_loss: 0.0466 - val_accuracy: 0.9724\n",
      "Epoch 92/100\n",
      "400000/400000 - 5s - loss: 0.0398 - accuracy: 0.9770 - val_loss: 0.0464 - val_accuracy: 0.9718\n",
      "Epoch 93/100\n",
      "400000/400000 - 5s - loss: 0.0399 - accuracy: 0.9769 - val_loss: 0.0469 - val_accuracy: 0.9720\n",
      "Epoch 94/100\n",
      "400000/400000 - 5s - loss: 0.0398 - accuracy: 0.9770 - val_loss: 0.0469 - val_accuracy: 0.9723\n",
      "Epoch 95/100\n",
      "400000/400000 - 5s - loss: 0.0397 - accuracy: 0.9770 - val_loss: 0.0471 - val_accuracy: 0.9715\n",
      "Epoch 96/100\n",
      "400000/400000 - 5s - loss: 0.0399 - accuracy: 0.9770 - val_loss: 0.0464 - val_accuracy: 0.9724\n",
      "Epoch 97/100\n",
      "400000/400000 - 5s - loss: 0.0397 - accuracy: 0.9771 - val_loss: 0.0467 - val_accuracy: 0.9722\n",
      "Epoch 98/100\n",
      "400000/400000 - 5s - loss: 0.0398 - accuracy: 0.9771 - val_loss: 0.0471 - val_accuracy: 0.9717\n",
      "Epoch 99/100\n",
      "400000/400000 - 5s - loss: 0.0396 - accuracy: 0.9772 - val_loss: 0.0470 - val_accuracy: 0.9721\n",
      "Epoch 100/100\n",
      "400000/400000 - 5s - loss: 0.0395 - accuracy: 0.9772 - val_loss: 0.0472 - val_accuracy: 0.9720\n"
     ]
    }
   ],
   "source": [
    "model = tf.keras.models.Sequential([\n",
    "    tf.keras.layers.Dense(150,input_shape = [24], activation = 'relu'),\n",
    "    tf.keras.layers.Dense(150, activation = 'relu'),\n",
    "    tf.keras.layers.Dense(150, activation = 'relu'),\n",
    "    tf.keras.layers.Dense(12, activation = 'sigmoid')\n",
    "])\n",
    "\n",
    "model.compile(optimizer = 'adam', loss = 'binary_crossentropy', metrics = ['accuracy'])\n",
    "\n",
    "history = model.fit(x_train, y_train, batch_size = 1024, epochs = 100, verbose = 2,validation_data = (x_test, y_test))\n"
   ]
  },
  {
   "cell_type": "code",
   "execution_count": 9,
   "metadata": {},
   "outputs": [
    {
     "data": {
      "text/plain": [
       "<matplotlib.legend.Legend at 0x2724592c448>"
      ]
     },
     "execution_count": 9,
     "metadata": {},
     "output_type": "execute_result"
    },
    {
     "data": {
      "image/png": "[encoded data removed]",
      "text/plain": [
       "<Figure size 432x288 with 1 Axes>"
      ]
     },
     "metadata": {
      "needs_background": "light"
     },
     "output_type": "display_data"
    }
   ],
   "source": [
    "import matplotlib.pyplot as plt\n",
    "plt.figure()\n",
    "acc = history.history['accuracy']\n",
    "loss = history.history['loss']\n",
    "val_acc = history.history['val_accuracy']\n",
    "val_loss = history.history['val_loss']\n",
    "\n",
    "epochs = range(len(acc))\n",
    "plt.plot(epochs, acc, 'r', label = 'Training accuracy')\n",
    "plt.plot(epochs, val_acc, 'b', label = 'Validating accuracy')\n",
    "plt.title('Training and Validating Accuracy')\n",
    "plt.legend()"
   ]
  },
  {
   "cell_type": "code",
   "execution_count": 8,
   "metadata": {},
   "outputs": [
    {
     "name": "stdout",
     "output_type": "stream",
     "text": [
      "5000/1 - 0s - loss: 0.0630 - accuracy: 0.9720\n"
     ]
    },
    {
     "data": {
      "text/plain": [
       "[0.04715186712741852, 0.9720002]"
      ]
     },
     "execution_count": 8,
     "metadata": {},
     "output_type": "execute_result"
    }
   ],
   "source": [
    "model.evaluate(x_test, y_test, verbose = 2)"
   ]
  },
  {
   "cell_type": "code",
   "execution_count": 10,
   "metadata": {},
   "outputs": [],
   "source": [
    "model.save('C:\\\\Users\\\\Wilfred\\\\Desktop\\\\weights\\\\Min_Max\\\\Min_Max_4_6_8_4_model.h5')"
   ]
  },
  {
   "cell_type": "code",
   "execution_count": null,
   "metadata": {},
   "outputs": [],
   "source": []
  }
 ],
 "metadata": {
  "kernelspec": {
   "display_name": "Python 3",
   "language": "python",
   "name": "python3"
  },
  "language_info": {
   "codemirror_mode": {
    "name": "ipython",
    "version": 3
   },
   "file_extension": ".py",
   "mimetype": "text/x-python",
   "name": "python",
   "nbconvert_exporter": "python",
   "pygments_lexer": "ipython3",
   "version": "3.7.5"
  }
 },
 "nbformat": 4,
 "nbformat_minor": 2
}
