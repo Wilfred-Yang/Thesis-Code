{
 "cells": [
  {
   "cell_type": "code",
   "execution_count": 1,
   "metadata": {},
   "outputs": [],
   "source": [
    "import tensorflow as tf\n",
    "import numpy as np\n",
    "import pickle"
   ]
  },
  {
   "cell_type": "code",
   "execution_count": 2,
   "metadata": {},
   "outputs": [
    {
     "name": "stdout",
     "output_type": "stream",
     "text": [
      "(151200, 24)\n"
     ]
    }
   ],
   "source": [
    "with open ('C:\\\\Users\\\\Wilfred\\\\Desktop\\\\Min-Max\\\\input_layer_4_6_7_4.pickle','rb') as file:\n",
    "    input_data = pickle.load(file)\n",
    "print(input_data.shape)\n",
    "\n",
    "x_train = input_data[:151200,:]\n",
    "#x_test = input_data[971320:, :]\n"
   ]
  },
  {
   "cell_type": "code",
   "execution_count": 3,
   "metadata": {},
   "outputs": [
    {
     "name": "stdout",
     "output_type": "stream",
     "text": [
      "(151200, 12)\n"
     ]
    }
   ],
   "source": [
    "with open ('C:\\\\Users\\\\Wilfred\\\\Desktop\\\\Min-Max\\\\output_layer_4_6_7_4.pickle','rb') as file:\n",
    "    output_data = pickle.load(file)\n",
    "output_data = np.transpose(output_data)\n",
    "y_train = output_data[:151200,:]\n",
    "#y_test = output_data[971320:, :]\n",
    "print(output_data.shape)"
   ]
  },
  {
   "cell_type": "code",
   "execution_count": 5,
   "metadata": {},
   "outputs": [
    {
     "name": "stdout",
     "output_type": "stream",
     "text": [
      "Train on 151200 samples\n",
      "Epoch 1/50\n",
      "151200/151200 - 2s - loss: 0.2343 - accuracy: 0.9015\n",
      "Epoch 2/50\n",
      "151200/151200 - 2s - loss: 0.1818 - accuracy: 0.9158\n",
      "Epoch 3/50\n",
      "151200/151200 - 2s - loss: 0.1675 - accuracy: 0.9188\n",
      "Epoch 4/50\n",
      "151200/151200 - 2s - loss: 0.1531 - accuracy: 0.9262\n",
      "Epoch 5/50\n",
      "151200/151200 - 2s - loss: 0.1359 - accuracy: 0.9375\n",
      "Epoch 6/50\n",
      "151200/151200 - 2s - loss: 0.1228 - accuracy: 0.9448\n",
      "Epoch 7/50\n",
      "151200/151200 - 2s - loss: 0.1144 - accuracy: 0.9484\n",
      "Epoch 8/50\n",
      "151200/151200 - 2s - loss: 0.1090 - accuracy: 0.9504\n",
      "Epoch 9/50\n",
      "151200/151200 - 2s - loss: 0.1043 - accuracy: 0.9523\n",
      "Epoch 10/50\n",
      "151200/151200 - 2s - loss: 0.1011 - accuracy: 0.9534\n",
      "Epoch 11/50\n",
      "151200/151200 - 2s - loss: 0.0983 - accuracy: 0.9542\n",
      "Epoch 12/50\n",
      "151200/151200 - 2s - loss: 0.0952 - accuracy: 0.9555\n",
      "Epoch 13/50\n",
      "151200/151200 - 2s - loss: 0.0929 - accuracy: 0.9562\n",
      "Epoch 14/50\n",
      "151200/151200 - 2s - loss: 0.0911 - accuracy: 0.9569\n",
      "Epoch 15/50\n",
      "151200/151200 - 2s - loss: 0.0891 - accuracy: 0.9576\n",
      "Epoch 16/50\n",
      "151200/151200 - 2s - loss: 0.0875 - accuracy: 0.9583\n",
      "Epoch 17/50\n",
      "151200/151200 - 2s - loss: 0.0864 - accuracy: 0.9586\n",
      "Epoch 18/50\n",
      "151200/151200 - 2s - loss: 0.0846 - accuracy: 0.9594\n",
      "Epoch 19/50\n",
      "151200/151200 - 2s - loss: 0.0833 - accuracy: 0.9599\n",
      "Epoch 20/50\n",
      "151200/151200 - 2s - loss: 0.0825 - accuracy: 0.9600\n",
      "Epoch 21/50\n",
      "151200/151200 - 2s - loss: 0.0811 - accuracy: 0.9605\n",
      "Epoch 22/50\n",
      "151200/151200 - 2s - loss: 0.0800 - accuracy: 0.9609\n",
      "Epoch 23/50\n",
      "151200/151200 - 2s - loss: 0.0793 - accuracy: 0.9610\n",
      "Epoch 24/50\n",
      "151200/151200 - 2s - loss: 0.0784 - accuracy: 0.9614\n",
      "Epoch 25/50\n",
      "151200/151200 - 2s - loss: 0.0776 - accuracy: 0.9616\n",
      "Epoch 26/50\n",
      "151200/151200 - 2s - loss: 0.0769 - accuracy: 0.9620\n",
      "Epoch 27/50\n",
      "151200/151200 - 2s - loss: 0.0764 - accuracy: 0.9621\n",
      "Epoch 28/50\n",
      "151200/151200 - 2s - loss: 0.0756 - accuracy: 0.9623\n",
      "Epoch 29/50\n",
      "151200/151200 - 2s - loss: 0.0748 - accuracy: 0.9628\n",
      "Epoch 30/50\n",
      "151200/151200 - 2s - loss: 0.0742 - accuracy: 0.9629\n",
      "Epoch 31/50\n",
      "151200/151200 - 2s - loss: 0.0741 - accuracy: 0.9628\n",
      "Epoch 32/50\n",
      "151200/151200 - 2s - loss: 0.0733 - accuracy: 0.9633\n",
      "Epoch 33/50\n",
      "151200/151200 - 2s - loss: 0.0730 - accuracy: 0.9633\n",
      "Epoch 34/50\n",
      "151200/151200 - 2s - loss: 0.0725 - accuracy: 0.9636\n",
      "Epoch 35/50\n",
      "151200/151200 - 2s - loss: 0.0721 - accuracy: 0.9637\n",
      "Epoch 36/50\n",
      "151200/151200 - 2s - loss: 0.0717 - accuracy: 0.9639\n",
      "Epoch 37/50\n",
      "151200/151200 - 2s - loss: 0.0713 - accuracy: 0.9640\n",
      "Epoch 38/50\n",
      "151200/151200 - 2s - loss: 0.0710 - accuracy: 0.9642\n",
      "Epoch 39/50\n",
      "151200/151200 - 2s - loss: 0.0708 - accuracy: 0.9641\n",
      "Epoch 40/50\n",
      "151200/151200 - 2s - loss: 0.0707 - accuracy: 0.9642\n",
      "Epoch 41/50\n",
      "151200/151200 - 2s - loss: 0.0702 - accuracy: 0.9644\n",
      "Epoch 42/50\n",
      "151200/151200 - 2s - loss: 0.0700 - accuracy: 0.9644\n",
      "Epoch 43/50\n",
      "151200/151200 - 2s - loss: 0.0698 - accuracy: 0.9644\n",
      "Epoch 44/50\n",
      "151200/151200 - 2s - loss: 0.0696 - accuracy: 0.9646\n",
      "Epoch 45/50\n",
      "151200/151200 - 2s - loss: 0.0695 - accuracy: 0.9645\n",
      "Epoch 46/50\n",
      "151200/151200 - 2s - loss: 0.0691 - accuracy: 0.9647\n",
      "Epoch 47/50\n",
      "151200/151200 - 2s - loss: 0.0689 - accuracy: 0.9648\n",
      "Epoch 48/50\n",
      "151200/151200 - 2s - loss: 0.0689 - accuracy: 0.9648\n",
      "Epoch 49/50\n",
      "151200/151200 - 2s - loss: 0.0689 - accuracy: 0.9648\n",
      "Epoch 50/50\n",
      "151200/151200 - 2s - loss: 0.0687 - accuracy: 0.9647\n"
     ]
    }
   ],
   "source": [
    "model = tf.keras.models.Sequential([\n",
    "    tf.keras.layers.Dense(150,input_shape = [24], activation = 'relu'),\n",
    "    tf.keras.layers.Dense(150, activation = 'relu'),\n",
    "    tf.keras.layers.Dense(150, activation = 'relu'),\n",
    "    tf.keras.layers.Dense(12, activation = 'sigmoid')\n",
    "])\n",
    "\n",
    "model.compile(optimizer = 'adam', loss = 'binary_crossentropy', metrics = ['accuracy'])\n",
    "\n",
    "history = model.fit(x_train, y_train, batch_size = 1024, epochs = 50, verbose = 2)\n"
   ]
  },
  {
   "cell_type": "code",
   "execution_count": 7,
   "metadata": {},
   "outputs": [
    {
     "data": {
      "text/plain": [
       "<matplotlib.legend.Legend at 0x163f6f7ea48>"
      ]
     },
     "execution_count": 7,
     "metadata": {},
     "output_type": "execute_result"
    },
    {
     "data": {
      "image/png": "[encoded data removed]",
      "text/plain": [
       "<Figure size 432x288 with 1 Axes>"
      ]
     },
     "metadata": {
      "needs_background": "light"
     },
     "output_type": "display_data"
    }
   ],
   "source": [
    "import matplotlib.pyplot as plt\n",
    "plt.figure()\n",
    "acc = history.history['accuracy']\n",
    "loss = history.history['loss']\n",
    "#val_acc = history.history['val_accuracy']\n",
    "#val_loss = history.history['val_loss']\n",
    "\n",
    "epochs = range(len(acc))\n",
    "plt.plot(epochs, acc, 'r', label = 'Training accuracy')\n",
    "#plt.plot(epochs, val_acc, 'b', label = 'Validating accuracy')\n",
    "plt.title('Training Accuracy')\n",
    "plt.legend()"
   ]
  },
  {
   "cell_type": "code",
   "execution_count": 8,
   "metadata": {},
   "outputs": [
    {
     "name": "stdout",
     "output_type": "stream",
     "text": [
      "5000/1 - 0s - loss: 0.0630 - accuracy: 0.9720\n"
     ]
    },
    {
     "data": {
      "text/plain": [
       "[0.04715186712741852, 0.9720002]"
      ]
     },
     "execution_count": 8,
     "metadata": {},
     "output_type": "execute_result"
    }
   ],
   "source": [
    "#model.evaluate(x_test, y_test, verbose = 2)"
   ]
  },
  {
   "cell_type": "code",
   "execution_count": 8,
   "metadata": {},
   "outputs": [],
   "source": [
    "model.save('C:\\\\Users\\\\Wilfred\\\\Desktop\\\\weights\\\\Min_Max\\\\Min_Max_4_6_7_4_model.h5')"
   ]
  },
  {
   "cell_type": "code",
   "execution_count": null,
   "metadata": {},
   "outputs": [],
   "source": []
  }
 ],
 "metadata": {
  "kernelspec": {
   "display_name": "Python 3",
   "language": "python",
   "name": "python3"
  },
  "language_info": {
   "codemirror_mode": {
    "name": "ipython",
    "version": 3
   },
   "file_extension": ".py",
   "mimetype": "text/x-python",
   "name": "python",
   "nbconvert_exporter": "python",
   "pygments_lexer": "ipython3",
   "version": "3.7.5"
  }
 },
 "nbformat": 4,
 "nbformat_minor": 2
}
