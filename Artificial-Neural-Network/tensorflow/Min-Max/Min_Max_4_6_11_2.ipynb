{
 "cells": [
  {
   "cell_type": "code",
   "execution_count": 1,
   "metadata": {},
   "outputs": [],
   "source": [
    "import tensorflow as tf"
   ]
  },
  {
   "cell_type": "code",
   "execution_count": 3,
   "metadata": {},
   "outputs": [],
   "source": [
    "import numpy as np\n",
    "import pickle"
   ]
  },
  {
   "cell_type": "code",
   "execution_count": 4,
   "metadata": {},
   "outputs": [
    {
     "name": "stdout",
     "output_type": "stream",
     "text": [
      "(105000, 24)\n"
     ]
    }
   ],
   "source": [
    "#C:\\Users\\Wilfred\\Desktop\\Min-Max\n",
    "with open ('C:\\\\Users\\\\Wilfred\\\\Desktop\\\\Min-Max\\\\input_layer_4_6_11_2.pickle','rb') as file:\n",
    "    input_data = pickle.load(file)\n",
    "print(input_data.shape)\n",
    "x_train = input_data[:100000,:]\n",
    "x_test = input_data[100000:,:]"
   ]
  },
  {
   "cell_type": "code",
   "execution_count": 21,
   "metadata": {},
   "outputs": [],
   "source": []
  },
  {
   "cell_type": "code",
   "execution_count": 5,
   "metadata": {},
   "outputs": [
    {
     "name": "stdout",
     "output_type": "stream",
     "text": [
      "(105000, 12)\n"
     ]
    }
   ],
   "source": [
    "with open ('C:\\\\Users\\\\Wilfred\\\\Desktop\\\\Min-Max\\\\output_layer_4_6_11_2.pickle','rb') as file:\n",
    "    output_data = pickle.load(file)\n",
    "output_data = np.transpose(output_data)\n",
    "y_train = output_data[:100000,:]\n",
    "y_test = output_data[100000:,:]\n",
    "print(output_data.shape)\n"
   ]
  },
  {
   "cell_type": "code",
   "execution_count": 5,
   "metadata": {},
   "outputs": [],
   "source": []
  },
  {
   "cell_type": "code",
   "execution_count": 6,
   "metadata": {},
   "outputs": [],
   "source": [
    "class mycallback(tf.keras.callbacks.Callback):\n",
    "    def on_epoch_end(self, epoch, logs = {}):\n",
    "        if(logs.get('acc')> 0.99):\n",
    "            print(\"Reached 99% accuracy so cancelling training!\")\n",
    "            self.model.stop_training = True"
   ]
  },
  {
   "cell_type": "code",
   "execution_count": 6,
   "metadata": {},
   "outputs": [
    {
     "name": "stdout",
     "output_type": "stream",
     "text": [
      "Train on 100000 samples, validate on 5000 samples\n",
      "Epoch 1/100\n",
      "100000/100000 - 2s - loss: 0.4139 - accuracy: 0.8350 - val_loss: 0.3490 - val_accuracy: 0.8568\n",
      "Epoch 2/100\n",
      "100000/100000 - 1s - loss: 0.3068 - accuracy: 0.8744 - val_loss: 0.2761 - val_accuracy: 0.8868\n",
      "Epoch 3/100\n",
      "100000/100000 - 1s - loss: 0.2603 - accuracy: 0.8924 - val_loss: 0.2486 - val_accuracy: 0.8962\n",
      "Epoch 4/100\n",
      "100000/100000 - 1s - loss: 0.2378 - accuracy: 0.9003 - val_loss: 0.2314 - val_accuracy: 0.9023\n",
      "Epoch 5/100\n",
      "100000/100000 - 1s - loss: 0.2226 - accuracy: 0.9060 - val_loss: 0.2210 - val_accuracy: 0.9054\n",
      "Epoch 6/100\n",
      "100000/100000 - 1s - loss: 0.2113 - accuracy: 0.9099 - val_loss: 0.2093 - val_accuracy: 0.9092\n",
      "Epoch 7/100\n",
      "100000/100000 - 1s - loss: 0.2038 - accuracy: 0.9124 - val_loss: 0.2023 - val_accuracy: 0.9123\n",
      "Epoch 8/100\n",
      "100000/100000 - 1s - loss: 0.1966 - accuracy: 0.9149 - val_loss: 0.1954 - val_accuracy: 0.9146\n",
      "Epoch 9/100\n",
      "100000/100000 - 1s - loss: 0.1924 - accuracy: 0.9161 - val_loss: 0.1928 - val_accuracy: 0.9148\n",
      "Epoch 10/100\n",
      "100000/100000 - 1s - loss: 0.1878 - accuracy: 0.9176 - val_loss: 0.1905 - val_accuracy: 0.9162\n",
      "Epoch 11/100\n",
      "100000/100000 - 1s - loss: 0.1847 - accuracy: 0.9184 - val_loss: 0.1873 - val_accuracy: 0.9163\n",
      "Epoch 12/100\n",
      "100000/100000 - 1s - loss: 0.1812 - accuracy: 0.9197 - val_loss: 0.1824 - val_accuracy: 0.9182\n",
      "Epoch 13/100\n",
      "100000/100000 - 1s - loss: 0.1779 - accuracy: 0.9208 - val_loss: 0.1797 - val_accuracy: 0.9195\n",
      "Epoch 14/100\n",
      "100000/100000 - 1s - loss: 0.1756 - accuracy: 0.9218 - val_loss: 0.1784 - val_accuracy: 0.9192\n",
      "Epoch 15/100\n",
      "100000/100000 - 1s - loss: 0.1730 - accuracy: 0.9224 - val_loss: 0.1749 - val_accuracy: 0.9208\n",
      "Epoch 16/100\n",
      "100000/100000 - 1s - loss: 0.1702 - accuracy: 0.9238 - val_loss: 0.1723 - val_accuracy: 0.9217\n",
      "Epoch 17/100\n",
      "100000/100000 - 1s - loss: 0.1670 - accuracy: 0.9247 - val_loss: 0.1686 - val_accuracy: 0.9238\n",
      "Epoch 18/100\n",
      "100000/100000 - 2s - loss: 0.1639 - accuracy: 0.9261 - val_loss: 0.1665 - val_accuracy: 0.9242\n",
      "Epoch 19/100\n",
      "100000/100000 - 2s - loss: 0.1614 - accuracy: 0.9268 - val_loss: 0.1643 - val_accuracy: 0.9252\n",
      "Epoch 20/100\n",
      "100000/100000 - 2s - loss: 0.1586 - accuracy: 0.9280 - val_loss: 0.1632 - val_accuracy: 0.9254\n",
      "Epoch 21/100\n",
      "100000/100000 - 2s - loss: 0.1547 - accuracy: 0.9296 - val_loss: 0.1593 - val_accuracy: 0.9278\n",
      "Epoch 22/100\n",
      "100000/100000 - 2s - loss: 0.1514 - accuracy: 0.9307 - val_loss: 0.1564 - val_accuracy: 0.9280\n",
      "Epoch 23/100\n",
      "100000/100000 - 1s - loss: 0.1489 - accuracy: 0.9316 - val_loss: 0.1524 - val_accuracy: 0.9297\n",
      "Epoch 24/100\n",
      "100000/100000 - 1s - loss: 0.1459 - accuracy: 0.9329 - val_loss: 0.1491 - val_accuracy: 0.9300\n",
      "Epoch 25/100\n",
      "100000/100000 - 1s - loss: 0.1428 - accuracy: 0.9340 - val_loss: 0.1481 - val_accuracy: 0.9311\n",
      "Epoch 26/100\n",
      "100000/100000 - 1s - loss: 0.1406 - accuracy: 0.9348 - val_loss: 0.1463 - val_accuracy: 0.9323\n",
      "Epoch 27/100\n",
      "100000/100000 - 1s - loss: 0.1369 - accuracy: 0.9362 - val_loss: 0.1412 - val_accuracy: 0.9340\n",
      "Epoch 28/100\n",
      "100000/100000 - 1s - loss: 0.1347 - accuracy: 0.9371 - val_loss: 0.1402 - val_accuracy: 0.9338\n",
      "Epoch 29/100\n",
      "100000/100000 - 1s - loss: 0.1320 - accuracy: 0.9381 - val_loss: 0.1380 - val_accuracy: 0.9351\n",
      "Epoch 30/100\n",
      "100000/100000 - 2s - loss: 0.1297 - accuracy: 0.9390 - val_loss: 0.1371 - val_accuracy: 0.9359\n",
      "Epoch 31/100\n",
      "100000/100000 - 1s - loss: 0.1276 - accuracy: 0.9397 - val_loss: 0.1371 - val_accuracy: 0.9352\n",
      "Epoch 32/100\n",
      "100000/100000 - 1s - loss: 0.1255 - accuracy: 0.9404 - val_loss: 0.1333 - val_accuracy: 0.9365\n",
      "Epoch 33/100\n",
      "100000/100000 - 2s - loss: 0.1232 - accuracy: 0.9413 - val_loss: 0.1305 - val_accuracy: 0.9378\n",
      "Epoch 34/100\n",
      "100000/100000 - 1s - loss: 0.1216 - accuracy: 0.9422 - val_loss: 0.1295 - val_accuracy: 0.9384\n",
      "Epoch 35/100\n",
      "100000/100000 - 2s - loss: 0.1197 - accuracy: 0.9427 - val_loss: 0.1247 - val_accuracy: 0.9404\n",
      "Epoch 36/100\n",
      "100000/100000 - 1s - loss: 0.1177 - accuracy: 0.9435 - val_loss: 0.1254 - val_accuracy: 0.9398\n",
      "Epoch 37/100\n",
      "100000/100000 - 2s - loss: 0.1153 - accuracy: 0.9446 - val_loss: 0.1226 - val_accuracy: 0.9410\n",
      "Epoch 38/100\n",
      "100000/100000 - 1s - loss: 0.1136 - accuracy: 0.9454 - val_loss: 0.1217 - val_accuracy: 0.9410\n",
      "Epoch 39/100\n",
      "100000/100000 - 1s - loss: 0.1121 - accuracy: 0.9461 - val_loss: 0.1207 - val_accuracy: 0.9415\n",
      "Epoch 40/100\n",
      "100000/100000 - 2s - loss: 0.1104 - accuracy: 0.9468 - val_loss: 0.1173 - val_accuracy: 0.9429\n",
      "Epoch 41/100\n",
      "100000/100000 - 2s - loss: 0.1090 - accuracy: 0.9475 - val_loss: 0.1228 - val_accuracy: 0.9410\n",
      "Epoch 42/100\n",
      "100000/100000 - 2s - loss: 0.1078 - accuracy: 0.9482 - val_loss: 0.1155 - val_accuracy: 0.9439\n",
      "Epoch 43/100\n",
      "100000/100000 - 2s - loss: 0.1056 - accuracy: 0.9493 - val_loss: 0.1186 - val_accuracy: 0.9418\n",
      "Epoch 44/100\n",
      "100000/100000 - 1s - loss: 0.1041 - accuracy: 0.9499 - val_loss: 0.1142 - val_accuracy: 0.9442\n",
      "Epoch 45/100\n",
      "100000/100000 - 2s - loss: 0.1024 - accuracy: 0.9509 - val_loss: 0.1121 - val_accuracy: 0.9447\n",
      "Epoch 46/100\n",
      "100000/100000 - 1s - loss: 0.1009 - accuracy: 0.9517 - val_loss: 0.1123 - val_accuracy: 0.9461\n",
      "Epoch 47/100\n",
      "100000/100000 - 2s - loss: 0.0996 - accuracy: 0.9522 - val_loss: 0.1089 - val_accuracy: 0.9465\n",
      "Epoch 48/100\n",
      "100000/100000 - 1s - loss: 0.0981 - accuracy: 0.9532 - val_loss: 0.1110 - val_accuracy: 0.9459\n",
      "Epoch 49/100\n",
      "100000/100000 - 1s - loss: 0.0971 - accuracy: 0.9536 - val_loss: 0.1059 - val_accuracy: 0.9488\n",
      "Epoch 50/100\n",
      "100000/100000 - 2s - loss: 0.0960 - accuracy: 0.9544 - val_loss: 0.1081 - val_accuracy: 0.9481\n",
      "Epoch 51/100\n",
      "100000/100000 - 2s - loss: 0.0951 - accuracy: 0.9548 - val_loss: 0.1070 - val_accuracy: 0.9487\n",
      "Epoch 52/100\n",
      "100000/100000 - 1s - loss: 0.0935 - accuracy: 0.9559 - val_loss: 0.1038 - val_accuracy: 0.9502\n",
      "Epoch 53/100\n",
      "100000/100000 - 2s - loss: 0.0919 - accuracy: 0.9567 - val_loss: 0.1030 - val_accuracy: 0.9508\n",
      "Epoch 54/100\n",
      "100000/100000 - 1s - loss: 0.0910 - accuracy: 0.9572 - val_loss: 0.0994 - val_accuracy: 0.9526\n",
      "Epoch 55/100\n",
      "100000/100000 - 2s - loss: 0.0895 - accuracy: 0.9582 - val_loss: 0.0999 - val_accuracy: 0.9517\n",
      "Epoch 56/100\n",
      "100000/100000 - 1s - loss: 0.0892 - accuracy: 0.9583 - val_loss: 0.0988 - val_accuracy: 0.9532\n",
      "Epoch 57/100\n",
      "100000/100000 - 2s - loss: 0.0879 - accuracy: 0.9588 - val_loss: 0.0991 - val_accuracy: 0.9528\n",
      "Epoch 58/100\n",
      "100000/100000 - 1s - loss: 0.0870 - accuracy: 0.9595 - val_loss: 0.0996 - val_accuracy: 0.9525\n",
      "Epoch 59/100\n",
      "100000/100000 - 1s - loss: 0.0857 - accuracy: 0.9603 - val_loss: 0.0960 - val_accuracy: 0.9538\n",
      "Epoch 60/100\n",
      "100000/100000 - 1s - loss: 0.0843 - accuracy: 0.9610 - val_loss: 0.0965 - val_accuracy: 0.9551\n",
      "Epoch 61/100\n",
      "100000/100000 - 1s - loss: 0.0844 - accuracy: 0.9610 - val_loss: 0.0965 - val_accuracy: 0.9542\n",
      "Epoch 62/100\n",
      "100000/100000 - 1s - loss: 0.0825 - accuracy: 0.9622 - val_loss: 0.0927 - val_accuracy: 0.9571\n",
      "Epoch 63/100\n",
      "100000/100000 - 1s - loss: 0.0818 - accuracy: 0.9626 - val_loss: 0.0936 - val_accuracy: 0.9555\n",
      "Epoch 64/100\n",
      "100000/100000 - 2s - loss: 0.0811 - accuracy: 0.9630 - val_loss: 0.0914 - val_accuracy: 0.9573\n",
      "Epoch 65/100\n",
      "100000/100000 - 1s - loss: 0.0797 - accuracy: 0.9638 - val_loss: 0.0945 - val_accuracy: 0.9567\n",
      "Epoch 66/100\n",
      "100000/100000 - 1s - loss: 0.0789 - accuracy: 0.9643 - val_loss: 0.0910 - val_accuracy: 0.9572\n",
      "Epoch 67/100\n",
      "100000/100000 - 1s - loss: 0.0781 - accuracy: 0.9645 - val_loss: 0.0928 - val_accuracy: 0.9578\n",
      "Epoch 68/100\n",
      "100000/100000 - 1s - loss: 0.0778 - accuracy: 0.9649 - val_loss: 0.0891 - val_accuracy: 0.9591\n",
      "Epoch 69/100\n",
      "100000/100000 - 1s - loss: 0.0761 - accuracy: 0.9657 - val_loss: 0.0886 - val_accuracy: 0.9595\n",
      "Epoch 70/100\n",
      "100000/100000 - 1s - loss: 0.0759 - accuracy: 0.9658 - val_loss: 0.0904 - val_accuracy: 0.9583\n",
      "Epoch 71/100\n",
      "100000/100000 - 1s - loss: 0.0750 - accuracy: 0.9664 - val_loss: 0.0865 - val_accuracy: 0.9607\n",
      "Epoch 72/100\n",
      "100000/100000 - 1s - loss: 0.0744 - accuracy: 0.9668 - val_loss: 0.0860 - val_accuracy: 0.9607\n",
      "Epoch 73/100\n",
      "100000/100000 - 1s - loss: 0.0735 - accuracy: 0.9671 - val_loss: 0.0852 - val_accuracy: 0.9616\n",
      "Epoch 74/100\n",
      "100000/100000 - 1s - loss: 0.0734 - accuracy: 0.9671 - val_loss: 0.0857 - val_accuracy: 0.9607\n",
      "Epoch 75/100\n",
      "100000/100000 - 1s - loss: 0.0717 - accuracy: 0.9682 - val_loss: 0.0861 - val_accuracy: 0.9605\n",
      "Epoch 76/100\n",
      "100000/100000 - 1s - loss: 0.0716 - accuracy: 0.9683 - val_loss: 0.0838 - val_accuracy: 0.9626\n"
     ]
    },
    {
     "name": "stdout",
     "output_type": "stream",
     "text": [
      "Epoch 77/100\n",
      "100000/100000 - 1s - loss: 0.0704 - accuracy: 0.9688 - val_loss: 0.0850 - val_accuracy: 0.9619\n",
      "Epoch 78/100\n",
      "100000/100000 - 1s - loss: 0.0702 - accuracy: 0.9690 - val_loss: 0.0850 - val_accuracy: 0.9606\n",
      "Epoch 79/100\n",
      "100000/100000 - 1s - loss: 0.0696 - accuracy: 0.9692 - val_loss: 0.0834 - val_accuracy: 0.9626\n",
      "Epoch 80/100\n",
      "100000/100000 - 1s - loss: 0.0692 - accuracy: 0.9694 - val_loss: 0.0815 - val_accuracy: 0.9633\n",
      "Epoch 81/100\n",
      "100000/100000 - 1s - loss: 0.0677 - accuracy: 0.9703 - val_loss: 0.0807 - val_accuracy: 0.9634\n",
      "Epoch 82/100\n",
      "100000/100000 - 2s - loss: 0.0673 - accuracy: 0.9705 - val_loss: 0.0805 - val_accuracy: 0.9642\n",
      "Epoch 83/100\n",
      "100000/100000 - 2s - loss: 0.0667 - accuracy: 0.9707 - val_loss: 0.0811 - val_accuracy: 0.9644\n",
      "Epoch 84/100\n",
      "100000/100000 - 2s - loss: 0.0662 - accuracy: 0.9711 - val_loss: 0.0783 - val_accuracy: 0.9650\n",
      "Epoch 85/100\n",
      "100000/100000 - 1s - loss: 0.0654 - accuracy: 0.9715 - val_loss: 0.0823 - val_accuracy: 0.9628\n",
      "Epoch 86/100\n",
      "100000/100000 - 1s - loss: 0.0657 - accuracy: 0.9713 - val_loss: 0.0793 - val_accuracy: 0.9649\n",
      "Epoch 87/100\n",
      "100000/100000 - 1s - loss: 0.0643 - accuracy: 0.9721 - val_loss: 0.0806 - val_accuracy: 0.9640\n",
      "Epoch 88/100\n",
      "100000/100000 - 1s - loss: 0.0639 - accuracy: 0.9725 - val_loss: 0.0772 - val_accuracy: 0.9653\n",
      "Epoch 89/100\n",
      "100000/100000 - 1s - loss: 0.0631 - accuracy: 0.9727 - val_loss: 0.0778 - val_accuracy: 0.9653\n",
      "Epoch 90/100\n",
      "100000/100000 - 2s - loss: 0.0624 - accuracy: 0.9731 - val_loss: 0.0776 - val_accuracy: 0.9657\n",
      "Epoch 91/100\n",
      "100000/100000 - 1s - loss: 0.0621 - accuracy: 0.9732 - val_loss: 0.0763 - val_accuracy: 0.9662\n",
      "Epoch 92/100\n",
      "100000/100000 - 1s - loss: 0.0629 - accuracy: 0.9727 - val_loss: 0.0767 - val_accuracy: 0.9663\n",
      "Epoch 93/100\n",
      "100000/100000 - 1s - loss: 0.0612 - accuracy: 0.9736 - val_loss: 0.0764 - val_accuracy: 0.9660\n",
      "Epoch 94/100\n",
      "100000/100000 - 1s - loss: 0.0608 - accuracy: 0.9738 - val_loss: 0.0755 - val_accuracy: 0.9668\n",
      "Epoch 95/100\n",
      "100000/100000 - 1s - loss: 0.0603 - accuracy: 0.9739 - val_loss: 0.0771 - val_accuracy: 0.9663\n",
      "Epoch 96/100\n",
      "100000/100000 - 1s - loss: 0.0602 - accuracy: 0.9740 - val_loss: 0.0774 - val_accuracy: 0.9663\n",
      "Epoch 97/100\n",
      "100000/100000 - 1s - loss: 0.0597 - accuracy: 0.9742 - val_loss: 0.0764 - val_accuracy: 0.9659\n",
      "Epoch 98/100\n",
      "100000/100000 - 1s - loss: 0.0593 - accuracy: 0.9745 - val_loss: 0.0737 - val_accuracy: 0.9675\n",
      "Epoch 99/100\n",
      "100000/100000 - 1s - loss: 0.0582 - accuracy: 0.9751 - val_loss: 0.0736 - val_accuracy: 0.9676\n",
      "Epoch 100/100\n",
      "100000/100000 - 1s - loss: 0.0585 - accuracy: 0.9749 - val_loss: 0.0767 - val_accuracy: 0.9670\n"
     ]
    }
   ],
   "source": [
    "#callbacks = mycallback()\n",
    "\n",
    "model = tf.keras.models.Sequential([\n",
    "    tf.keras.layers.Dense(150,input_shape = [24], activation = 'relu'),\n",
    "    tf.keras.layers.Dense(150, activation = 'relu'),\n",
    "    tf.keras.layers.Dense(150, activation = 'relu'),\n",
    "    tf.keras.layers.Dense(12, activation = 'sigmoid')\n",
    "])\n",
    "\n",
    "model.compile(optimizer = 'adam', loss = 'binary_crossentropy', metrics = ['accuracy'])\n",
    "\n",
    "history = model.fit(x_train, y_train, batch_size = 1024, epochs = 100, verbose = 2,validation_data = (x_test, y_test))\n"
   ]
  },
  {
   "cell_type": "code",
   "execution_count": 9,
   "metadata": {},
   "outputs": [
    {
     "data": {
      "image/png": "[encoded data removed]",
      "text/plain": [
       "<Figure size 432x288 with 1 Axes>"
      ]
     },
     "metadata": {
      "needs_background": "light"
     },
     "output_type": "display_data"
    }
   ],
   "source": [
    "import matplotlib.pyplot as plt\n",
    "plt.figure()\n",
    "acc = history.history['accuracy']\n",
    "loss = history.history['loss']\n",
    "val_acc = history.history['val_accuracy']\n",
    "val_loss = history.history['val_loss']\n",
    "\n",
    "epochs = range(len(acc))\n",
    "plt.plot(epochs, acc, 'r', label = 'Training accuracy')\n",
    "plt.plot(epochs, val_acc, 'b', label = 'Validating accuracy')\n",
    "plt.title('Training and Validating Accuracy')\n",
    "plt.legend()\n",
    "plt.show()\n"
   ]
  },
  {
   "cell_type": "code",
   "execution_count": 11,
   "metadata": {},
   "outputs": [],
   "source": [
    "model.save('C:\\\\Users\\\\Wilfred\\\\Desktop\\\\weights\\\\Min_Max\\\\Min_Max_4_6_11_2_model.h5')"
   ]
  },
  {
   "cell_type": "code",
   "execution_count": 10,
   "metadata": {},
   "outputs": [],
   "source": []
  },
  {
   "cell_type": "code",
   "execution_count": 34,
   "metadata": {},
   "outputs": [
    {
     "name": "stdout",
     "output_type": "stream",
     "text": [
      "2.0.0\n"
     ]
    }
   ],
   "source": [
    "print(tf.__version__)"
   ]
  },
  {
   "cell_type": "code",
   "execution_count": 14,
   "metadata": {},
   "outputs": [],
   "source": [
    "model.save_weights('C:\\\\Users\\\\Wilfred\\\\Desktop\\\\weights\\\\Min_Max\\\\4_6_11_2')"
   ]
  },
  {
   "cell_type": "code",
   "execution_count": 16,
   "metadata": {},
   "outputs": [
    {
     "name": "stdout",
     "output_type": "stream",
     "text": [
      "5000/1 - 0s - loss: 0.0792 - accuracy: 0.9635\n",
      "Restored model, accuracy: 96.35%\n"
     ]
    }
   ],
   "source": [
    "model.load_weights('C:\\\\Users\\\\Wilfred\\\\Desktop\\\\weights\\\\Min_Max\\\\4_6_11_2')\n",
    "loss,acc = model.evaluate(x_test,  y_test, verbose=2)\n",
    "print(\"Restored model, accuracy: {:5.2f}%\".format(100*acc))"
   ]
  },
  {
   "cell_type": "code",
   "execution_count": 22,
   "metadata": {},
   "outputs": [
    {
     "name": "stdout",
     "output_type": "stream",
     "text": [
      "Restored model, accuracy: 96.35%\n"
     ]
    }
   ],
   "source": [
    "print(\"Restored model, accuracy: {:.2f}%\".format(100*acc))"
   ]
  },
  {
   "cell_type": "code",
   "execution_count": 23,
   "metadata": {},
   "outputs": [
    {
     "name": "stdout",
     "output_type": "stream",
     "text": [
      "Restored model, accuracy: 96.4%\n"
     ]
    }
   ],
   "source": [
    "print(\"Restored model, accuracy: {:.1f}%\".format(100*acc))"
   ]
  },
  {
   "cell_type": "code",
   "execution_count": null,
   "metadata": {},
   "outputs": [],
   "source": []
  }
 ],
 "metadata": {
  "kernelspec": {
   "display_name": "Python 3",
   "language": "python",
   "name": "python3"
  },
  "language_info": {
   "codemirror_mode": {
    "name": "ipython",
    "version": 3
   },
   "file_extension": ".py",
   "mimetype": "text/x-python",
   "name": "python",
   "nbconvert_exporter": "python",
   "pygments_lexer": "ipython3",
   "version": "3.7.5"
  }
 },
 "nbformat": 4,
 "nbformat_minor": 2
}
