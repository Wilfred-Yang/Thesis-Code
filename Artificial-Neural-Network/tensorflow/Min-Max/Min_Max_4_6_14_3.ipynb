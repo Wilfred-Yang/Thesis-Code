{
 "cells": [
  {
   "cell_type": "code",
   "execution_count": 6,
   "metadata": {},
   "outputs": [],
   "source": [
    "import tensorflow as tf\n",
    "import numpy as np\n",
    "import pickle"
   ]
  },
  {
   "cell_type": "code",
   "execution_count": 7,
   "metadata": {},
   "outputs": [
    {
     "name": "stdout",
     "output_type": "stream",
     "text": [
      "(105000, 24)\n"
     ]
    }
   ],
   "source": [
    "with open ('C:\\\\Users\\\\Wilfred\\\\Desktop\\\\Min-Max\\\\input_layer_4_6_14_3.pickle','rb') as file:\n",
    "    input_data = pickle.load(file)\n",
    "print(input_data.shape)\n",
    "permutation = list(np.random.permutation(input_data.shape[0]))\n",
    "input_data = input_data[permutation, :]\n",
    "x_train = input_data[:100000,:]\n",
    "x_valid = input_data[100000:102500, :]\n",
    "x_test = input_data[102500:,:]\n",
    "\n"
   ]
  },
  {
   "cell_type": "code",
   "execution_count": 8,
   "metadata": {},
   "outputs": [
    {
     "name": "stdout",
     "output_type": "stream",
     "text": [
      "(105000, 12)\n"
     ]
    }
   ],
   "source": [
    "with open ('C:\\\\Users\\\\Wilfred\\\\Desktop\\\\Min-Max\\\\output_layer_4_6_14_3.pickle','rb') as file:\n",
    "    output_data = pickle.load(file)\n",
    "    \n",
    "output_data = np.transpose(output_data)\n",
    "output_data = output_data[permutation, :]\n",
    "y_train = output_data[:100000,:]\n",
    "y_valid = output_data[100000:102500, :]\n",
    "y_test = output_data[102500:,:]\n",
    "print(output_data.shape)"
   ]
  },
  {
   "cell_type": "code",
   "execution_count": 9,
   "metadata": {},
   "outputs": [
    {
     "name": "stdout",
     "output_type": "stream",
     "text": [
      "Train on 100000 samples, validate on 2500 samples\n",
      "Epoch 1/40\n",
      "100000/100000 - 5s - loss: 0.3222 - accuracy: 0.8668 - val_loss: 0.2190 - val_accuracy: 0.9057\n",
      "Epoch 2/40\n",
      "100000/100000 - 4s - loss: 0.2021 - accuracy: 0.9108 - val_loss: 0.1906 - val_accuracy: 0.9145\n",
      "Epoch 3/40\n",
      "100000/100000 - 4s - loss: 0.1845 - accuracy: 0.9164 - val_loss: 0.1786 - val_accuracy: 0.9192\n",
      "Epoch 4/40\n",
      "100000/100000 - 4s - loss: 0.1738 - accuracy: 0.9212 - val_loss: 0.1737 - val_accuracy: 0.9211\n",
      "Epoch 5/40\n",
      "100000/100000 - 4s - loss: 0.1667 - accuracy: 0.9242 - val_loss: 0.1696 - val_accuracy: 0.9223\n",
      "Epoch 6/40\n",
      "100000/100000 - 4s - loss: 0.1600 - accuracy: 0.9275 - val_loss: 0.1595 - val_accuracy: 0.9269\n",
      "Epoch 7/40\n",
      "100000/100000 - 5s - loss: 0.1510 - accuracy: 0.9315 - val_loss: 0.1509 - val_accuracy: 0.9312\n",
      "Epoch 8/40\n",
      "100000/100000 - 4s - loss: 0.1383 - accuracy: 0.9369 - val_loss: 0.1405 - val_accuracy: 0.9335\n",
      "Epoch 9/40\n",
      "100000/100000 - 4s - loss: 0.1244 - accuracy: 0.9418 - val_loss: 0.1244 - val_accuracy: 0.9389\n",
      "Epoch 10/40\n",
      "100000/100000 - 4s - loss: 0.1095 - accuracy: 0.9477 - val_loss: 0.1111 - val_accuracy: 0.9463\n",
      "Epoch 11/40\n",
      "100000/100000 - 4s - loss: 0.0998 - accuracy: 0.9523 - val_loss: 0.1005 - val_accuracy: 0.9519\n",
      "Epoch 12/40\n",
      "100000/100000 - 4s - loss: 0.0914 - accuracy: 0.9567 - val_loss: 0.0934 - val_accuracy: 0.9552\n",
      "Epoch 13/40\n",
      "100000/100000 - 4s - loss: 0.0846 - accuracy: 0.9603 - val_loss: 0.0874 - val_accuracy: 0.9588\n",
      "Epoch 14/40\n",
      "100000/100000 - 4s - loss: 0.0796 - accuracy: 0.9629 - val_loss: 0.0851 - val_accuracy: 0.9605\n",
      "Epoch 15/40\n",
      "100000/100000 - 4s - loss: 0.0739 - accuracy: 0.9658 - val_loss: 0.0799 - val_accuracy: 0.9631\n",
      "Epoch 16/40\n",
      "100000/100000 - 4s - loss: 0.0703 - accuracy: 0.9679 - val_loss: 0.0820 - val_accuracy: 0.9617\n",
      "Epoch 17/40\n",
      "100000/100000 - 4s - loss: 0.0657 - accuracy: 0.9703 - val_loss: 0.0724 - val_accuracy: 0.9677\n",
      "Epoch 18/40\n",
      "100000/100000 - 4s - loss: 0.0630 - accuracy: 0.9718 - val_loss: 0.0806 - val_accuracy: 0.9630\n",
      "Epoch 19/40\n",
      "100000/100000 - 4s - loss: 0.0594 - accuracy: 0.9735 - val_loss: 0.0694 - val_accuracy: 0.9695\n",
      "Epoch 20/40\n",
      "100000/100000 - 4s - loss: 0.0557 - accuracy: 0.9754 - val_loss: 0.0715 - val_accuracy: 0.9680\n",
      "Epoch 21/40\n",
      "100000/100000 - 4s - loss: 0.0549 - accuracy: 0.9757 - val_loss: 0.0629 - val_accuracy: 0.9717\n",
      "Epoch 22/40\n",
      "100000/100000 - 4s - loss: 0.0492 - accuracy: 0.9787 - val_loss: 0.0599 - val_accuracy: 0.9742\n",
      "Epoch 23/40\n",
      "100000/100000 - 4s - loss: 0.0462 - accuracy: 0.9801 - val_loss: 0.0583 - val_accuracy: 0.9752\n",
      "Epoch 24/40\n",
      "100000/100000 - 4s - loss: 0.0447 - accuracy: 0.9808 - val_loss: 0.0608 - val_accuracy: 0.9741\n",
      "Epoch 25/40\n",
      "100000/100000 - 4s - loss: 0.0444 - accuracy: 0.9809 - val_loss: 0.0545 - val_accuracy: 0.9758\n",
      "Epoch 26/40\n",
      "100000/100000 - 4s - loss: 0.0440 - accuracy: 0.9812 - val_loss: 0.0556 - val_accuracy: 0.9764\n",
      "Epoch 27/40\n",
      "100000/100000 - 4s - loss: 0.0392 - accuracy: 0.9834 - val_loss: 0.0528 - val_accuracy: 0.9779\n",
      "Epoch 28/40\n",
      "100000/100000 - 4s - loss: 0.0401 - accuracy: 0.9831 - val_loss: 0.0517 - val_accuracy: 0.9783\n",
      "Epoch 29/40\n",
      "100000/100000 - 4s - loss: 0.0365 - accuracy: 0.9847 - val_loss: 0.0541 - val_accuracy: 0.9778\n",
      "Epoch 30/40\n",
      "100000/100000 - 4s - loss: 0.0345 - accuracy: 0.9857 - val_loss: 0.0531 - val_accuracy: 0.9791\n",
      "Epoch 31/40\n",
      "100000/100000 - 4s - loss: 0.0337 - accuracy: 0.9860 - val_loss: 0.0510 - val_accuracy: 0.9801\n",
      "Epoch 32/40\n",
      "100000/100000 - 4s - loss: 0.0325 - accuracy: 0.9866 - val_loss: 0.0481 - val_accuracy: 0.9800\n",
      "Epoch 33/40\n",
      "100000/100000 - 4s - loss: 0.0328 - accuracy: 0.9866 - val_loss: 0.0488 - val_accuracy: 0.9802\n",
      "Epoch 34/40\n",
      "100000/100000 - 5s - loss: 0.0317 - accuracy: 0.9870 - val_loss: 0.0494 - val_accuracy: 0.9802\n",
      "Epoch 35/40\n",
      "100000/100000 - 5s - loss: 0.0298 - accuracy: 0.9878 - val_loss: 0.0524 - val_accuracy: 0.9804\n",
      "Epoch 36/40\n",
      "100000/100000 - 5s - loss: 0.0315 - accuracy: 0.9871 - val_loss: 0.0459 - val_accuracy: 0.9816\n",
      "Epoch 37/40\n",
      "100000/100000 - 4s - loss: 0.0289 - accuracy: 0.9883 - val_loss: 0.0443 - val_accuracy: 0.9824\n",
      "Epoch 38/40\n",
      "100000/100000 - 4s - loss: 0.0279 - accuracy: 0.9887 - val_loss: 0.0429 - val_accuracy: 0.9833\n",
      "Epoch 39/40\n",
      "100000/100000 - 4s - loss: 0.0262 - accuracy: 0.9894 - val_loss: 0.0442 - val_accuracy: 0.9831\n",
      "Epoch 40/40\n",
      "100000/100000 - 4s - loss: 0.0243 - accuracy: 0.9903 - val_loss: 0.0467 - val_accuracy: 0.9831\n"
     ]
    }
   ],
   "source": [
    "model = tf.keras.models.Sequential([\n",
    "    tf.keras.layers.Dense(300,input_shape = [24], activation = 'relu'),\n",
    "    tf.keras.layers.Dense(300, activation = 'relu'),\n",
    "    tf.keras.layers.Dense(300, activation = 'relu'),\n",
    "    tf.keras.layers.Dense(12, activation = 'sigmoid')\n",
    "])\n",
    "adam = tf.keras.optimizers.Adam(lr = 0.005)\n",
    "model.compile(optimizer = adam, loss = 'binary_crossentropy', metrics = ['accuracy'])\n",
    "\n",
    "history = model.fit(x_train, y_train, batch_size = 1024, epochs = 40, verbose = 2,validation_data = (x_valid, y_valid))\n"
   ]
  },
  {
   "cell_type": "code",
   "execution_count": 11,
   "metadata": {},
   "outputs": [
    {
     "data": {
      "image/png": "[encoded data removed]",
      "text/plain": [
       "<Figure size 432x288 with 1 Axes>"
      ]
     },
     "metadata": {
      "needs_background": "light"
     },
     "output_type": "display_data"
    }
   ],
   "source": [
    "import matplotlib.pyplot as plt\n",
    "plt.figure()\n",
    "acc = history.history['accuracy']\n",
    "loss = history.history['loss']\n",
    "val_acc = history.history['val_accuracy']\n",
    "val_loss = history.history['val_loss']\n",
    "\n",
    "epochs = range(len(acc))\n",
    "plt.plot(epochs, acc, 'r', label = 'Training accuracy')\n",
    "plt.plot(epochs, val_acc, 'b', label = 'Validating accuracy')\n",
    "plt.title('Training and Validating Accuracy')\n",
    "plt.legend()\n",
    "plt.show()"
   ]
  },
  {
   "cell_type": "code",
   "execution_count": 12,
   "metadata": {},
   "outputs": [
    {
     "name": "stdout",
     "output_type": "stream",
     "text": [
      "2500/1 - 0s - loss: 0.1717 - accuracy: 0.9825\n"
     ]
    },
    {
     "data": {
      "text/plain": [
       "[0.044852505588531495, 0.9824666]"
      ]
     },
     "execution_count": 12,
     "metadata": {},
     "output_type": "execute_result"
    }
   ],
   "source": [
    "model.evaluate(x_test, y_test, verbose = 2)"
   ]
  },
  {
   "cell_type": "code",
   "execution_count": 13,
   "metadata": {},
   "outputs": [],
   "source": [
    "model.save('C:\\\\Users\\\\Wilfred\\\\Desktop\\\\weights\\\\Min_Max\\\\Min_Max_4_6_14_3_model.h5')"
   ]
  },
  {
   "cell_type": "code",
   "execution_count": null,
   "metadata": {},
   "outputs": [],
   "source": []
  }
 ],
 "metadata": {
  "kernelspec": {
   "display_name": "Python 3",
   "language": "python",
   "name": "python3"
  },
  "language_info": {
   "codemirror_mode": {
    "name": "ipython",
    "version": 3
   },
   "file_extension": ".py",
   "mimetype": "text/x-python",
   "name": "python",
   "nbconvert_exporter": "python",
   "pygments_lexer": "ipython3",
   "version": "3.7.5"
  }
 },
 "nbformat": 4,
 "nbformat_minor": 2
}
