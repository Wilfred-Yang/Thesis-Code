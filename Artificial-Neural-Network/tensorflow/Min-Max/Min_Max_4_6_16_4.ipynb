{
 "cells": [
  {
   "cell_type": "code",
   "execution_count": 1,
   "metadata": {},
   "outputs": [],
   "source": [
    "import tensorflow as tf\n",
    "import numpy as np\n",
    "import pickle"
   ]
  },
  {
   "cell_type": "code",
   "execution_count": 2,
   "metadata": {},
   "outputs": [
    {
     "name": "stdout",
     "output_type": "stream",
     "text": [
      "(105000, 24)\n"
     ]
    }
   ],
   "source": [
    "with open ('C:\\\\Users\\\\Wilfred\\\\Desktop\\\\Min-Max\\\\input_layer_4_6_16_4.pickle','rb') as file:\n",
    "    input_data = pickle.load(file)\n",
    "print(input_data.shape)\n",
    "permutation = list(np.random.permutation(input_data.shape[0]))\n",
    "input_data = input_data[permutation, :]\n",
    "x_train = input_data[:100000,:]\n",
    "x_valid = input_data[100000:102500, :]\n",
    "x_test = input_data[102500:,:]\n",
    "\n"
   ]
  },
  {
   "cell_type": "code",
   "execution_count": 3,
   "metadata": {},
   "outputs": [
    {
     "name": "stdout",
     "output_type": "stream",
     "text": [
      "(105000, 12)\n"
     ]
    }
   ],
   "source": [
    "with open ('C:\\\\Users\\\\Wilfred\\\\Desktop\\\\Min-Max\\\\output_layer_4_6_16_4.pickle','rb') as file:\n",
    "    output_data = pickle.load(file)\n",
    "    \n",
    "output_data = np.transpose(output_data)\n",
    "output_data = output_data[permutation, :]\n",
    "y_train = output_data[:100000,:]\n",
    "y_valid = output_data[100000:102500, :]\n",
    "y_test = output_data[102500:,:]\n",
    "print(output_data.shape)"
   ]
  },
  {
   "cell_type": "code",
   "execution_count": 4,
   "metadata": {},
   "outputs": [
    {
     "name": "stdout",
     "output_type": "stream",
     "text": [
      "Train on 100000 samples, validate on 2500 samples\n",
      "Epoch 1/50\n",
      "100000/100000 - 4s - loss: 0.2600 - accuracy: 0.8905 - val_loss: 0.1910 - val_accuracy: 0.9136\n",
      "Epoch 2/50\n",
      "100000/100000 - 3s - loss: 0.1834 - accuracy: 0.9142 - val_loss: 0.1786 - val_accuracy: 0.9181\n",
      "Epoch 3/50\n",
      "100000/100000 - 3s - loss: 0.1698 - accuracy: 0.9203 - val_loss: 0.1688 - val_accuracy: 0.9221\n",
      "Epoch 4/50\n",
      "100000/100000 - 3s - loss: 0.1586 - accuracy: 0.9262 - val_loss: 0.1578 - val_accuracy: 0.9278\n",
      "Epoch 5/50\n",
      "100000/100000 - 3s - loss: 0.1482 - accuracy: 0.9319 - val_loss: 0.1474 - val_accuracy: 0.9324\n",
      "Epoch 6/50\n",
      "100000/100000 - 3s - loss: 0.1387 - accuracy: 0.9364 - val_loss: 0.1375 - val_accuracy: 0.9362\n",
      "Epoch 7/50\n",
      "100000/100000 - 4s - loss: 0.1287 - accuracy: 0.9409 - val_loss: 0.1275 - val_accuracy: 0.9420\n",
      "Epoch 8/50\n",
      "100000/100000 - 3s - loss: 0.1184 - accuracy: 0.9452 - val_loss: 0.1153 - val_accuracy: 0.9450\n",
      "Epoch 9/50\n",
      "100000/100000 - 3s - loss: 0.1090 - accuracy: 0.9486 - val_loss: 0.1115 - val_accuracy: 0.9465\n",
      "Epoch 10/50\n",
      "100000/100000 - 3s - loss: 0.0989 - accuracy: 0.9532 - val_loss: 0.0983 - val_accuracy: 0.9535\n",
      "Epoch 11/50\n",
      "100000/100000 - 3s - loss: 0.0921 - accuracy: 0.9565 - val_loss: 0.0935 - val_accuracy: 0.9550\n",
      "Epoch 12/50\n",
      "100000/100000 - 3s - loss: 0.0838 - accuracy: 0.9604 - val_loss: 0.0887 - val_accuracy: 0.9582\n",
      "Epoch 13/50\n",
      "100000/100000 - 3s - loss: 0.0784 - accuracy: 0.9632 - val_loss: 0.0808 - val_accuracy: 0.9627\n",
      "Epoch 14/50\n",
      "100000/100000 - 3s - loss: 0.0723 - accuracy: 0.9666 - val_loss: 0.0758 - val_accuracy: 0.9645\n",
      "Epoch 15/50\n",
      "100000/100000 - 3s - loss: 0.0671 - accuracy: 0.9694 - val_loss: 0.0748 - val_accuracy: 0.9656\n",
      "Epoch 16/50\n",
      "100000/100000 - 3s - loss: 0.0629 - accuracy: 0.9715 - val_loss: 0.0687 - val_accuracy: 0.9692\n",
      "Epoch 17/50\n",
      "100000/100000 - 3s - loss: 0.0582 - accuracy: 0.9738 - val_loss: 0.0669 - val_accuracy: 0.9681\n",
      "Epoch 18/50\n",
      "100000/100000 - 3s - loss: 0.0566 - accuracy: 0.9747 - val_loss: 0.0626 - val_accuracy: 0.9713\n",
      "Epoch 19/50\n",
      "100000/100000 - 3s - loss: 0.0531 - accuracy: 0.9766 - val_loss: 0.0612 - val_accuracy: 0.9728\n",
      "Epoch 20/50\n",
      "100000/100000 - 3s - loss: 0.0496 - accuracy: 0.9782 - val_loss: 0.0567 - val_accuracy: 0.9739\n",
      "Epoch 21/50\n",
      "100000/100000 - 3s - loss: 0.0483 - accuracy: 0.9788 - val_loss: 0.0579 - val_accuracy: 0.9747\n",
      "Epoch 22/50\n",
      "100000/100000 - 3s - loss: 0.0437 - accuracy: 0.9811 - val_loss: 0.0525 - val_accuracy: 0.9762\n",
      "Epoch 23/50\n",
      "100000/100000 - 3s - loss: 0.0420 - accuracy: 0.9819 - val_loss: 0.0535 - val_accuracy: 0.9765\n",
      "Epoch 24/50\n",
      "100000/100000 - 3s - loss: 0.0400 - accuracy: 0.9828 - val_loss: 0.0567 - val_accuracy: 0.9754\n",
      "Epoch 25/50\n",
      "100000/100000 - 3s - loss: 0.0387 - accuracy: 0.9836 - val_loss: 0.0538 - val_accuracy: 0.9766\n",
      "Epoch 26/50\n",
      "100000/100000 - 3s - loss: 0.0363 - accuracy: 0.9847 - val_loss: 0.0562 - val_accuracy: 0.9756\n",
      "Epoch 27/50\n",
      "100000/100000 - 3s - loss: 0.0353 - accuracy: 0.9851 - val_loss: 0.0471 - val_accuracy: 0.9801\n",
      "Epoch 28/50\n",
      "100000/100000 - 3s - loss: 0.0342 - accuracy: 0.9856 - val_loss: 0.0459 - val_accuracy: 0.9805\n",
      "Epoch 29/50\n",
      "100000/100000 - 3s - loss: 0.0322 - accuracy: 0.9867 - val_loss: 0.0454 - val_accuracy: 0.9806\n",
      "Epoch 30/50\n",
      "100000/100000 - 3s - loss: 0.0315 - accuracy: 0.9870 - val_loss: 0.0455 - val_accuracy: 0.9815\n",
      "Epoch 31/50\n",
      "100000/100000 - 3s - loss: 0.0301 - accuracy: 0.9875 - val_loss: 0.0463 - val_accuracy: 0.9812\n",
      "Epoch 32/50\n",
      "100000/100000 - 3s - loss: 0.0288 - accuracy: 0.9881 - val_loss: 0.0447 - val_accuracy: 0.9818\n",
      "Epoch 33/50\n",
      "100000/100000 - 3s - loss: 0.0290 - accuracy: 0.9880 - val_loss: 0.0519 - val_accuracy: 0.9792\n",
      "Epoch 34/50\n",
      "100000/100000 - 3s - loss: 0.0271 - accuracy: 0.9890 - val_loss: 0.0464 - val_accuracy: 0.9815\n",
      "Epoch 35/50\n",
      "100000/100000 - 3s - loss: 0.0252 - accuracy: 0.9897 - val_loss: 0.0445 - val_accuracy: 0.9819\n",
      "Epoch 36/50\n",
      "100000/100000 - 3s - loss: 0.0248 - accuracy: 0.9900 - val_loss: 0.0424 - val_accuracy: 0.9842\n",
      "Epoch 37/50\n",
      "100000/100000 - 3s - loss: 0.0226 - accuracy: 0.9910 - val_loss: 0.0390 - val_accuracy: 0.9850\n",
      "Epoch 38/50\n",
      "100000/100000 - 3s - loss: 0.0240 - accuracy: 0.9904 - val_loss: 0.0431 - val_accuracy: 0.9827\n",
      "Epoch 39/50\n",
      "100000/100000 - 3s - loss: 0.0225 - accuracy: 0.9910 - val_loss: 0.0411 - val_accuracy: 0.9850\n",
      "Epoch 40/50\n",
      "100000/100000 - 3s - loss: 0.0215 - accuracy: 0.9915 - val_loss: 0.0396 - val_accuracy: 0.9857\n",
      "Epoch 41/50\n",
      "100000/100000 - 3s - loss: 0.0209 - accuracy: 0.9917 - val_loss: 0.0406 - val_accuracy: 0.9856\n",
      "Epoch 42/50\n",
      "100000/100000 - 3s - loss: 0.0218 - accuracy: 0.9914 - val_loss: 0.0406 - val_accuracy: 0.9856\n",
      "Epoch 43/50\n",
      "100000/100000 - 3s - loss: 0.0212 - accuracy: 0.9917 - val_loss: 0.0396 - val_accuracy: 0.9863\n",
      "Epoch 44/50\n",
      "100000/100000 - 3s - loss: 0.0208 - accuracy: 0.9917 - val_loss: 0.0364 - val_accuracy: 0.9861\n",
      "Epoch 45/50\n",
      "100000/100000 - 3s - loss: 0.0202 - accuracy: 0.9920 - val_loss: 0.0407 - val_accuracy: 0.9858\n",
      "Epoch 46/50\n",
      "100000/100000 - 3s - loss: 0.0177 - accuracy: 0.9930 - val_loss: 0.0378 - val_accuracy: 0.9861\n",
      "Epoch 47/50\n",
      "100000/100000 - 3s - loss: 0.0180 - accuracy: 0.9930 - val_loss: 0.0412 - val_accuracy: 0.9851\n",
      "Epoch 48/50\n",
      "100000/100000 - 3s - loss: 0.0182 - accuracy: 0.9928 - val_loss: 0.0364 - val_accuracy: 0.9868\n",
      "Epoch 49/50\n",
      "100000/100000 - 3s - loss: 0.0175 - accuracy: 0.9931 - val_loss: 0.0364 - val_accuracy: 0.9860\n",
      "Epoch 50/50\n",
      "100000/100000 - 3s - loss: 0.0169 - accuracy: 0.9934 - val_loss: 0.0411 - val_accuracy: 0.9860\n"
     ]
    }
   ],
   "source": [
    "model = tf.keras.models.Sequential([\n",
    "    tf.keras.layers.Dense(300,input_shape = [24], activation = 'relu'),\n",
    "    tf.keras.layers.Dense(300, activation = 'relu'),\n",
    "    tf.keras.layers.Dense(300, activation = 'relu'),\n",
    "    tf.keras.layers.Dense(12, activation = 'sigmoid')\n",
    "])\n",
    "adam = tf.keras.optimizers.Adam(lr = 0.005)\n",
    "model.compile(optimizer = adam, loss = 'binary_crossentropy', metrics = ['accuracy'])\n",
    "\n",
    "history = model.fit(x_train, y_train, batch_size = 1024, epochs = 50, verbose = 2,validation_data = (x_valid, y_valid))\n"
   ]
  },
  {
   "cell_type": "code",
   "execution_count": 6,
   "metadata": {},
   "outputs": [
    {
     "data": {
      "image/png": "[encoded data removed]",
      "text/plain": [
       "<Figure size 432x288 with 1 Axes>"
      ]
     },
     "metadata": {
      "needs_background": "light"
     },
     "output_type": "display_data"
    }
   ],
   "source": [
    "import matplotlib.pyplot as plt\n",
    "plt.figure()\n",
    "acc = history.history['accuracy']\n",
    "loss = history.history['loss']\n",
    "val_acc = history.history['val_accuracy']\n",
    "val_loss = history.history['val_loss']\n",
    "\n",
    "epochs = range(len(acc))\n",
    "plt.plot(epochs, acc, 'r', label = 'Training accuracy')\n",
    "plt.plot(epochs, val_acc, 'b', label = 'Validating accuracy')\n",
    "plt.title('Training and Validating Accuracy')\n",
    "plt.legend()\n",
    "plt.show()"
   ]
  },
  {
   "cell_type": "code",
   "execution_count": 8,
   "metadata": {},
   "outputs": [],
   "source": [
    "predict = model.predict(x_test)"
   ]
  },
  {
   "cell_type": "code",
   "execution_count": 9,
   "metadata": {},
   "outputs": [
    {
     "name": "stdout",
     "output_type": "stream",
     "text": [
      "(2500, 12)\n"
     ]
    }
   ],
   "source": [
    "print(predict.shape)"
   ]
  },
  {
   "cell_type": "code",
   "execution_count": 7,
   "metadata": {},
   "outputs": [
    {
     "name": "stdout",
     "output_type": "stream",
     "text": [
      "2500/1 - 0s - loss: 0.0256 - accuracy: 0.9851\n"
     ]
    },
    {
     "data": {
      "text/plain": [
       "[0.046103379821032284, 0.98506653]"
      ]
     },
     "execution_count": 7,
     "metadata": {},
     "output_type": "execute_result"
    }
   ],
   "source": [
    "model.evaluate(x_test, y_test, verbose = 2)"
   ]
  },
  {
   "cell_type": "code",
   "execution_count": 8,
   "metadata": {},
   "outputs": [],
   "source": [
    "model.save('C:\\\\Users\\\\Wilfred\\\\Desktop\\\\weights\\\\Min_Max\\\\Min_Max_4_6_16_4_model.h5')"
   ]
  },
  {
   "cell_type": "code",
   "execution_count": null,
   "metadata": {},
   "outputs": [],
   "source": []
  }
 ],
 "metadata": {
  "kernelspec": {
   "display_name": "Python 3",
   "language": "python",
   "name": "python3"
  },
  "language_info": {
   "codemirror_mode": {
    "name": "ipython",
    "version": 3
   },
   "file_extension": ".py",
   "mimetype": "text/x-python",
   "name": "python",
   "nbconvert_exporter": "python",
   "pygments_lexer": "ipython3",
   "version": "3.7.5"
  }
 },
 "nbformat": 4,
 "nbformat_minor": 2
}
