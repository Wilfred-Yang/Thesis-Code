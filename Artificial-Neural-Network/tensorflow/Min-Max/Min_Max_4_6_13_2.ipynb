{
 "cells": [
  {
   "cell_type": "code",
   "execution_count": 1,
   "metadata": {},
   "outputs": [],
   "source": [
    "import tensorflow as tf\n",
    "import numpy as np\n",
    "import pickle"
   ]
  },
  {
   "cell_type": "code",
   "execution_count": 4,
   "metadata": {},
   "outputs": [
    {
     "name": "stdout",
     "output_type": "stream",
     "text": [
      "(105000, 24)\n"
     ]
    }
   ],
   "source": [
    "with open ('C:\\\\Users\\\\Wilfred\\\\Desktop\\\\Min-Max\\\\input_layer_4_6_13_2.pickle','rb') as file:\n",
    "    input_data = pickle.load(file)\n",
    "print(input_data.shape)\n",
    "\n",
    "x_train = input_data[:100000,:]\n",
    "x_valid = input_data[100000:102500, :]\n",
    "x_test = input_data[102500:,:]\n",
    "\n"
   ]
  },
  {
   "cell_type": "code",
   "execution_count": 5,
   "metadata": {},
   "outputs": [
    {
     "name": "stdout",
     "output_type": "stream",
     "text": [
      "(105000, 12)\n"
     ]
    }
   ],
   "source": [
    "with open ('C:\\\\Users\\\\Wilfred\\\\Desktop\\\\Min-Max\\\\output_layer_4_6_13_2.pickle','rb') as file:\n",
    "    output_data = pickle.load(file)\n",
    "output_data = np.transpose(output_data)\n",
    "y_train = output_data[:100000,:]\n",
    "y_valid = output_data[100000:102500, :]\n",
    "y_test = output_data[102500:,:]\n",
    "print(output_data.shape)"
   ]
  },
  {
   "cell_type": "code",
   "execution_count": 6,
   "metadata": {},
   "outputs": [
    {
     "name": "stdout",
     "output_type": "stream",
     "text": [
      "Train on 100000 samples, validate on 2500 samples\n",
      "Epoch 1/100\n",
      "100000/100000 - 5s - loss: 0.3809 - accuracy: 0.8452 - val_loss: 0.2710 - val_accuracy: 0.8852\n",
      "Epoch 2/100\n",
      "100000/100000 - 4s - loss: 0.2341 - accuracy: 0.8979 - val_loss: 0.2113 - val_accuracy: 0.9063\n",
      "Epoch 3/100\n",
      "100000/100000 - 4s - loss: 0.1942 - accuracy: 0.9129 - val_loss: 0.1854 - val_accuracy: 0.9161\n",
      "Epoch 4/100\n",
      "100000/100000 - 4s - loss: 0.1774 - accuracy: 0.9196 - val_loss: 0.1744 - val_accuracy: 0.9208\n",
      "Epoch 5/100\n",
      "100000/100000 - 3s - loss: 0.1694 - accuracy: 0.9230 - val_loss: 0.1688 - val_accuracy: 0.9231\n",
      "Epoch 6/100\n",
      "100000/100000 - 3s - loss: 0.1605 - accuracy: 0.9276 - val_loss: 0.1609 - val_accuracy: 0.9281\n",
      "Epoch 7/100\n",
      "100000/100000 - 3s - loss: 0.1511 - accuracy: 0.9320 - val_loss: 0.1471 - val_accuracy: 0.9332\n",
      "Epoch 8/100\n",
      "100000/100000 - 3s - loss: 0.1397 - accuracy: 0.9365 - val_loss: 0.1357 - val_accuracy: 0.9369\n",
      "Epoch 9/100\n",
      "100000/100000 - 4s - loss: 0.1266 - accuracy: 0.9413 - val_loss: 0.1225 - val_accuracy: 0.9416\n",
      "Epoch 10/100\n",
      "100000/100000 - 4s - loss: 0.1183 - accuracy: 0.9444 - val_loss: 0.1176 - val_accuracy: 0.9453\n",
      "Epoch 11/100\n",
      "100000/100000 - 4s - loss: 0.1087 - accuracy: 0.9486 - val_loss: 0.1084 - val_accuracy: 0.9488\n",
      "Epoch 12/100\n",
      "100000/100000 - 4s - loss: 0.1002 - accuracy: 0.9527 - val_loss: 0.1002 - val_accuracy: 0.9525\n",
      "Epoch 13/100\n",
      "100000/100000 - 4s - loss: 0.0948 - accuracy: 0.9556 - val_loss: 0.0987 - val_accuracy: 0.9541\n",
      "Epoch 14/100\n",
      "100000/100000 - 4s - loss: 0.0899 - accuracy: 0.9579 - val_loss: 0.0907 - val_accuracy: 0.9580\n",
      "Epoch 15/100\n",
      "100000/100000 - 5s - loss: 0.0847 - accuracy: 0.9608 - val_loss: 0.0978 - val_accuracy: 0.9542\n",
      "Epoch 16/100\n",
      "100000/100000 - 4s - loss: 0.0824 - accuracy: 0.9618 - val_loss: 0.0899 - val_accuracy: 0.9583\n",
      "Epoch 17/100\n",
      "100000/100000 - 4s - loss: 0.0764 - accuracy: 0.9649 - val_loss: 0.0818 - val_accuracy: 0.9617\n",
      "Epoch 18/100\n",
      "100000/100000 - 4s - loss: 0.0720 - accuracy: 0.9671 - val_loss: 0.0786 - val_accuracy: 0.9626\n",
      "Epoch 19/100\n",
      "100000/100000 - 4s - loss: 0.0690 - accuracy: 0.9688 - val_loss: 0.0736 - val_accuracy: 0.9652\n",
      "Epoch 20/100\n",
      "100000/100000 - 4s - loss: 0.0664 - accuracy: 0.9699 - val_loss: 0.0726 - val_accuracy: 0.9666\n",
      "Epoch 21/100\n",
      "100000/100000 - 4s - loss: 0.0633 - accuracy: 0.9715 - val_loss: 0.0714 - val_accuracy: 0.9667\n",
      "Epoch 22/100\n",
      "100000/100000 - 4s - loss: 0.0619 - accuracy: 0.9722 - val_loss: 0.0713 - val_accuracy: 0.9673\n",
      "Epoch 23/100\n",
      "100000/100000 - 4s - loss: 0.0581 - accuracy: 0.9742 - val_loss: 0.0663 - val_accuracy: 0.9692\n",
      "Epoch 24/100\n",
      "100000/100000 - 4s - loss: 0.0551 - accuracy: 0.9756 - val_loss: 0.0684 - val_accuracy: 0.9684\n",
      "Epoch 25/100\n",
      "100000/100000 - 4s - loss: 0.0530 - accuracy: 0.9767 - val_loss: 0.0609 - val_accuracy: 0.9726\n",
      "Epoch 26/100\n",
      "100000/100000 - 4s - loss: 0.0516 - accuracy: 0.9775 - val_loss: 0.0579 - val_accuracy: 0.9742\n",
      "Epoch 27/100\n",
      "100000/100000 - 4s - loss: 0.0477 - accuracy: 0.9793 - val_loss: 0.0552 - val_accuracy: 0.9747\n",
      "Epoch 28/100\n",
      "100000/100000 - 4s - loss: 0.0465 - accuracy: 0.9799 - val_loss: 0.0619 - val_accuracy: 0.9728\n",
      "Epoch 29/100\n",
      "100000/100000 - 4s - loss: 0.0442 - accuracy: 0.9811 - val_loss: 0.0597 - val_accuracy: 0.9728\n",
      "Epoch 30/100\n",
      "100000/100000 - 4s - loss: 0.0453 - accuracy: 0.9805 - val_loss: 0.0541 - val_accuracy: 0.9762\n",
      "Epoch 31/100\n",
      "100000/100000 - 4s - loss: 0.0427 - accuracy: 0.9818 - val_loss: 0.0548 - val_accuracy: 0.9772\n",
      "Epoch 32/100\n",
      "100000/100000 - 4s - loss: 0.0433 - accuracy: 0.9815 - val_loss: 0.0536 - val_accuracy: 0.9770\n",
      "Epoch 33/100\n",
      "100000/100000 - 4s - loss: 0.0404 - accuracy: 0.9829 - val_loss: 0.0561 - val_accuracy: 0.9763\n",
      "Epoch 34/100\n",
      "100000/100000 - 4s - loss: 0.0382 - accuracy: 0.9839 - val_loss: 0.0531 - val_accuracy: 0.9775\n",
      "Epoch 35/100\n",
      "100000/100000 - 4s - loss: 0.0380 - accuracy: 0.9841 - val_loss: 0.0491 - val_accuracy: 0.9798\n",
      "Epoch 36/100\n",
      "100000/100000 - 4s - loss: 0.0362 - accuracy: 0.9849 - val_loss: 0.0493 - val_accuracy: 0.9793\n",
      "Epoch 37/100\n",
      "100000/100000 - 4s - loss: 0.0367 - accuracy: 0.9847 - val_loss: 0.0555 - val_accuracy: 0.9770\n",
      "Epoch 38/100\n",
      "100000/100000 - 4s - loss: 0.0363 - accuracy: 0.9849 - val_loss: 0.0512 - val_accuracy: 0.9788\n",
      "Epoch 39/100\n",
      "100000/100000 - 4s - loss: 0.0335 - accuracy: 0.9862 - val_loss: 0.0488 - val_accuracy: 0.9807\n",
      "Epoch 40/100\n",
      "100000/100000 - 4s - loss: 0.0338 - accuracy: 0.9860 - val_loss: 0.0483 - val_accuracy: 0.9795\n",
      "Epoch 41/100\n",
      "100000/100000 - 4s - loss: 0.0340 - accuracy: 0.9861 - val_loss: 0.0502 - val_accuracy: 0.9795\n",
      "Epoch 42/100\n",
      "100000/100000 - 4s - loss: 0.0319 - accuracy: 0.9870 - val_loss: 0.0480 - val_accuracy: 0.9796\n",
      "Epoch 43/100\n",
      "100000/100000 - 4s - loss: 0.0312 - accuracy: 0.9873 - val_loss: 0.0434 - val_accuracy: 0.9825\n",
      "Epoch 44/100\n",
      "100000/100000 - 4s - loss: 0.0280 - accuracy: 0.9887 - val_loss: 0.0427 - val_accuracy: 0.9829\n",
      "Epoch 45/100\n",
      "100000/100000 - 4s - loss: 0.0323 - accuracy: 0.9870 - val_loss: 0.0461 - val_accuracy: 0.9821\n",
      "Epoch 46/100\n",
      "100000/100000 - 4s - loss: 0.0289 - accuracy: 0.9883 - val_loss: 0.0419 - val_accuracy: 0.9829\n",
      "Epoch 47/100\n",
      "100000/100000 - 4s - loss: 0.0275 - accuracy: 0.9890 - val_loss: 0.0472 - val_accuracy: 0.9811\n",
      "Epoch 48/100\n",
      "100000/100000 - 4s - loss: 0.0278 - accuracy: 0.9888 - val_loss: 0.0423 - val_accuracy: 0.9834\n",
      "Epoch 49/100\n",
      "100000/100000 - 4s - loss: 0.0294 - accuracy: 0.9882 - val_loss: 0.0476 - val_accuracy: 0.9815\n",
      "Epoch 50/100\n",
      "100000/100000 - 3s - loss: 0.0324 - accuracy: 0.9870 - val_loss: 0.0455 - val_accuracy: 0.9825\n",
      "Epoch 51/100\n",
      "100000/100000 - 3s - loss: 0.0249 - accuracy: 0.9901 - val_loss: 0.0456 - val_accuracy: 0.9830\n",
      "Epoch 52/100\n",
      "100000/100000 - 4s - loss: 0.0271 - accuracy: 0.9892 - val_loss: 0.0433 - val_accuracy: 0.9837\n",
      "Epoch 53/100\n",
      "100000/100000 - 4s - loss: 0.0252 - accuracy: 0.9901 - val_loss: 0.0434 - val_accuracy: 0.9849\n",
      "Epoch 54/100\n",
      "100000/100000 - 4s - loss: 0.0243 - accuracy: 0.9905 - val_loss: 0.0428 - val_accuracy: 0.9837\n",
      "Epoch 55/100\n",
      "100000/100000 - 4s - loss: 0.0271 - accuracy: 0.9894 - val_loss: 0.0452 - val_accuracy: 0.9837\n",
      "Epoch 56/100\n",
      "100000/100000 - 4s - loss: 0.0239 - accuracy: 0.9906 - val_loss: 0.0509 - val_accuracy: 0.9817\n",
      "Epoch 57/100\n",
      "100000/100000 - 3s - loss: 0.0267 - accuracy: 0.9896 - val_loss: 0.0433 - val_accuracy: 0.9845\n",
      "Epoch 58/100\n",
      "100000/100000 - 3s - loss: 0.0241 - accuracy: 0.9906 - val_loss: 0.0415 - val_accuracy: 0.9850\n",
      "Epoch 59/100\n",
      "100000/100000 - 3s - loss: 0.0207 - accuracy: 0.9920 - val_loss: 0.0429 - val_accuracy: 0.9849\n",
      "Epoch 60/100\n",
      "100000/100000 - 3s - loss: 0.0218 - accuracy: 0.9916 - val_loss: 0.0433 - val_accuracy: 0.9843\n",
      "Epoch 61/100\n",
      "100000/100000 - 4s - loss: 0.0235 - accuracy: 0.9909 - val_loss: 0.0480 - val_accuracy: 0.9824\n",
      "Epoch 62/100\n",
      "100000/100000 - 4s - loss: 0.0269 - accuracy: 0.9896 - val_loss: 0.0469 - val_accuracy: 0.9839\n",
      "Epoch 63/100\n",
      "100000/100000 - 4s - loss: 0.0245 - accuracy: 0.9905 - val_loss: 0.0387 - val_accuracy: 0.9860\n",
      "Epoch 64/100\n",
      "100000/100000 - 4s - loss: 0.0207 - accuracy: 0.9921 - val_loss: 0.0359 - val_accuracy: 0.9876\n",
      "Epoch 65/100\n",
      "100000/100000 - 4s - loss: 0.0229 - accuracy: 0.9913 - val_loss: 0.0458 - val_accuracy: 0.9849\n",
      "Epoch 66/100\n",
      "100000/100000 - 4s - loss: 0.0219 - accuracy: 0.9916 - val_loss: 0.0413 - val_accuracy: 0.9864\n",
      "Epoch 67/100\n",
      "100000/100000 - 3s - loss: 0.0193 - accuracy: 0.9926 - val_loss: 0.0443 - val_accuracy: 0.9843\n",
      "Epoch 68/100\n",
      "100000/100000 - 4s - loss: 0.0199 - accuracy: 0.9925 - val_loss: 0.0448 - val_accuracy: 0.9849\n",
      "Epoch 69/100\n",
      "100000/100000 - 4s - loss: 0.0203 - accuracy: 0.9922 - val_loss: 0.0481 - val_accuracy: 0.9842\n",
      "Epoch 70/100\n",
      "100000/100000 - 4s - loss: 0.0217 - accuracy: 0.9918 - val_loss: 0.0502 - val_accuracy: 0.9833\n",
      "Epoch 71/100\n",
      "100000/100000 - 4s - loss: 0.0239 - accuracy: 0.9910 - val_loss: 0.0452 - val_accuracy: 0.9845\n",
      "Epoch 72/100\n",
      "100000/100000 - 4s - loss: 0.0220 - accuracy: 0.9916 - val_loss: 0.0389 - val_accuracy: 0.9869\n",
      "Epoch 73/100\n",
      "100000/100000 - 3s - loss: 0.0190 - accuracy: 0.9929 - val_loss: 0.0396 - val_accuracy: 0.9865\n",
      "Epoch 74/100\n",
      "100000/100000 - 3s - loss: 0.0204 - accuracy: 0.9922 - val_loss: 0.0466 - val_accuracy: 0.9849\n",
      "Epoch 75/100\n",
      "100000/100000 - 3s - loss: 0.0192 - accuracy: 0.9928 - val_loss: 0.0339 - val_accuracy: 0.9887\n",
      "Epoch 76/100\n",
      "100000/100000 - 3s - loss: 0.0173 - accuracy: 0.9935 - val_loss: 0.0401 - val_accuracy: 0.9870\n"
     ]
    },
    {
     "name": "stdout",
     "output_type": "stream",
     "text": [
      "Epoch 77/100\n",
      "100000/100000 - 3s - loss: 0.0196 - accuracy: 0.9927 - val_loss: 0.0401 - val_accuracy: 0.9863\n",
      "Epoch 78/100\n",
      "100000/100000 - 3s - loss: 0.0189 - accuracy: 0.9929 - val_loss: 0.0470 - val_accuracy: 0.9851\n",
      "Epoch 79/100\n",
      "100000/100000 - 3s - loss: 0.0196 - accuracy: 0.9926 - val_loss: 0.0453 - val_accuracy: 0.9854\n",
      "Epoch 80/100\n",
      "100000/100000 - 3s - loss: 0.0200 - accuracy: 0.9925 - val_loss: 0.0340 - val_accuracy: 0.9881\n",
      "Epoch 81/100\n",
      "100000/100000 - 3s - loss: 0.0199 - accuracy: 0.9926 - val_loss: 0.0407 - val_accuracy: 0.9867\n",
      "Epoch 82/100\n",
      "100000/100000 - 3s - loss: 0.0199 - accuracy: 0.9926 - val_loss: 0.0452 - val_accuracy: 0.9854\n",
      "Epoch 83/100\n",
      "100000/100000 - 3s - loss: 0.0179 - accuracy: 0.9934 - val_loss: 0.0347 - val_accuracy: 0.9886\n",
      "Epoch 84/100\n",
      "100000/100000 - 3s - loss: 0.0162 - accuracy: 0.9939 - val_loss: 0.0409 - val_accuracy: 0.9861\n",
      "Epoch 85/100\n",
      "100000/100000 - 3s - loss: 0.0189 - accuracy: 0.9931 - val_loss: 0.0480 - val_accuracy: 0.9852\n",
      "Epoch 86/100\n",
      "100000/100000 - 3s - loss: 0.0242 - accuracy: 0.9913 - val_loss: 0.0429 - val_accuracy: 0.9874\n",
      "Epoch 87/100\n",
      "100000/100000 - 3s - loss: 0.0186 - accuracy: 0.9932 - val_loss: 0.0370 - val_accuracy: 0.9880\n",
      "Epoch 88/100\n",
      "100000/100000 - 3s - loss: 0.0129 - accuracy: 0.9953 - val_loss: 0.0347 - val_accuracy: 0.9897\n",
      "Epoch 89/100\n",
      "100000/100000 - 3s - loss: 0.0153 - accuracy: 0.9943 - val_loss: 0.0362 - val_accuracy: 0.9888\n",
      "Epoch 90/100\n",
      "100000/100000 - 3s - loss: 0.0155 - accuracy: 0.9943 - val_loss: 0.0424 - val_accuracy: 0.9868\n",
      "Epoch 91/100\n",
      "100000/100000 - 3s - loss: 0.0232 - accuracy: 0.9917 - val_loss: 0.0443 - val_accuracy: 0.9872\n",
      "Epoch 92/100\n",
      "100000/100000 - 3s - loss: 0.0193 - accuracy: 0.9929 - val_loss: 0.0412 - val_accuracy: 0.9867\n",
      "Epoch 93/100\n",
      "100000/100000 - 3s - loss: 0.0204 - accuracy: 0.9927 - val_loss: 0.0446 - val_accuracy: 0.9859\n",
      "Epoch 94/100\n",
      "100000/100000 - 3s - loss: 0.0163 - accuracy: 0.9940 - val_loss: 0.0348 - val_accuracy: 0.9897\n",
      "Epoch 95/100\n",
      "100000/100000 - 3s - loss: 0.0131 - accuracy: 0.9952 - val_loss: 0.0396 - val_accuracy: 0.9886\n",
      "Epoch 96/100\n",
      "100000/100000 - 3s - loss: 0.0144 - accuracy: 0.9947 - val_loss: 0.0393 - val_accuracy: 0.9876\n",
      "Epoch 97/100\n",
      "100000/100000 - 3s - loss: 0.0154 - accuracy: 0.9944 - val_loss: 0.0415 - val_accuracy: 0.9885\n",
      "Epoch 98/100\n",
      "100000/100000 - 3s - loss: 0.0152 - accuracy: 0.9945 - val_loss: 0.0443 - val_accuracy: 0.9870\n",
      "Epoch 99/100\n",
      "100000/100000 - 4s - loss: 0.0202 - accuracy: 0.9929 - val_loss: 0.0466 - val_accuracy: 0.9874\n",
      "Epoch 100/100\n",
      "100000/100000 - 4s - loss: 0.0181 - accuracy: 0.9936 - val_loss: 0.0405 - val_accuracy: 0.9880\n"
     ]
    }
   ],
   "source": [
    "model = tf.keras.models.Sequential([\n",
    "    tf.keras.layers.Dense(300,input_shape = [24], activation = 'relu'),\n",
    "    tf.keras.layers.Dense(300, activation = 'relu'),\n",
    "    tf.keras.layers.Dense(300, activation = 'relu'),\n",
    "    tf.keras.layers.Dense(12, activation = 'sigmoid')\n",
    "])\n",
    "adam = tf.keras.optimizers.Adam(lr = 0.005)\n",
    "model.compile(optimizer = adam, loss = 'binary_crossentropy', metrics = ['accuracy'])\n",
    "\n",
    "history = model.fit(x_train, y_train, batch_size = 1024, epochs = 100, verbose = 2,validation_data = (x_valid, y_valid))\n"
   ]
  },
  {
   "cell_type": "code",
   "execution_count": 8,
   "metadata": {},
   "outputs": [
    {
     "data": {
      "image/png": "[encoded data removed]",
      "text/plain": [
       "<Figure size 432x288 with 1 Axes>"
      ]
     },
     "metadata": {
      "needs_background": "light"
     },
     "output_type": "display_data"
    }
   ],
   "source": [
    "import matplotlib.pyplot as plt\n",
    "plt.figure()\n",
    "acc = history.history['accuracy']\n",
    "loss = history.history['loss']\n",
    "val_acc = history.history['val_accuracy']\n",
    "val_loss = history.history['val_loss']\n",
    "\n",
    "epochs = range(len(acc))\n",
    "plt.plot(epochs, acc, 'r', label = 'Training accuracy')\n",
    "plt.plot(epochs, val_acc, 'b', label = 'Validating accuracy')\n",
    "plt.title('Training and Validating Accuracy')\n",
    "plt.legend()\n",
    "plt.show()"
   ]
  },
  {
   "cell_type": "code",
   "execution_count": 9,
   "metadata": {},
   "outputs": [
    {
     "name": "stdout",
     "output_type": "stream",
     "text": [
      "2500/1 - 0s - loss: 0.0361 - accuracy: 0.9873\n"
     ]
    },
    {
     "data": {
      "text/plain": [
       "[0.05005541704893112, 0.9873]"
      ]
     },
     "execution_count": 9,
     "metadata": {},
     "output_type": "execute_result"
    }
   ],
   "source": [
    "model.evaluate(x_test, y_test, verbose = 2)"
   ]
  },
  {
   "cell_type": "code",
   "execution_count": 10,
   "metadata": {},
   "outputs": [],
   "source": [
    "model.save('C:\\\\Users\\\\Wilfred\\\\Desktop\\\\weights\\\\Min_Max\\\\Min_Max_4_6_13_2_model.h5')"
   ]
  },
  {
   "cell_type": "code",
   "execution_count": null,
   "metadata": {},
   "outputs": [],
   "source": []
  }
 ],
 "metadata": {
  "kernelspec": {
   "display_name": "Python 3",
   "language": "python",
   "name": "python3"
  },
  "language_info": {
   "codemirror_mode": {
    "name": "ipython",
    "version": 3
   },
   "file_extension": ".py",
   "mimetype": "text/x-python",
   "name": "python",
   "nbconvert_exporter": "python",
   "pygments_lexer": "ipython3",
   "version": "3.7.5"
  }
 },
 "nbformat": 4,
 "nbformat_minor": 2
}
