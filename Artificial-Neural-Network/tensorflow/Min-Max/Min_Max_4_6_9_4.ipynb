{
 "cells": [
  {
   "cell_type": "code",
   "execution_count": 1,
   "metadata": {},
   "outputs": [],
   "source": [
    "import tensorflow as tf\n",
    "import numpy as np\n",
    "import pickle"
   ]
  },
  {
   "cell_type": "code",
   "execution_count": 2,
   "metadata": {},
   "outputs": [
    {
     "name": "stdout",
     "output_type": "stream",
     "text": [
      "(105000, 24)\n"
     ]
    }
   ],
   "source": [
    "with open ('C:\\\\Users\\\\Wilfred\\\\Desktop\\\\Min-Max\\\\input_layer_4_6_9_4.pickle','rb') as file:\n",
    "    input_data = pickle.load(file)\n",
    "print(input_data.shape)\n",
    "x_train = input_data[:100000,:]\n",
    "x_test = input_data[100000:,:]"
   ]
  },
  {
   "cell_type": "code",
   "execution_count": 3,
   "metadata": {},
   "outputs": [
    {
     "name": "stdout",
     "output_type": "stream",
     "text": [
      "(12, 105000)\n"
     ]
    }
   ],
   "source": [
    "with open ('C:\\\\Users\\\\Wilfred\\\\Desktop\\\\Min-Max\\\\output_layer_4_6_9_4.pickle','rb') as file:\n",
    "    output_data = pickle.load(file)\n",
    "print(output_data.shape)\n",
    "output_data = np.transpose(output_data)\n",
    "y_train = output_data[:100000,:]\n",
    "y_test = output_data[100000:,:]"
   ]
  },
  {
   "cell_type": "code",
   "execution_count": 4,
   "metadata": {},
   "outputs": [
    {
     "name": "stdout",
     "output_type": "stream",
     "text": [
      "Train on 100000 samples, validate on 5000 samples\n",
      "Epoch 1/100\n",
      "100000/100000 - 3s - loss: 0.2623 - accuracy: 0.8957 - val_loss: 0.2118 - val_accuracy: 0.9149\n",
      "Epoch 2/100\n",
      "100000/100000 - 2s - loss: 0.2063 - accuracy: 0.9153 - val_loss: 0.2041 - val_accuracy: 0.9153\n",
      "Epoch 3/100\n",
      "100000/100000 - 1s - loss: 0.1981 - accuracy: 0.9155 - val_loss: 0.1940 - val_accuracy: 0.9151\n",
      "Epoch 4/100\n",
      "100000/100000 - 1s - loss: 0.1867 - accuracy: 0.9159 - val_loss: 0.1792 - val_accuracy: 0.9172\n",
      "Epoch 5/100\n",
      "100000/100000 - 1s - loss: 0.1693 - accuracy: 0.9200 - val_loss: 0.1612 - val_accuracy: 0.9228\n",
      "Epoch 6/100\n",
      "100000/100000 - 1s - loss: 0.1493 - accuracy: 0.9280 - val_loss: 0.1419 - val_accuracy: 0.9313\n",
      "Epoch 7/100\n",
      "100000/100000 - 1s - loss: 0.1339 - accuracy: 0.9359 - val_loss: 0.1329 - val_accuracy: 0.9361\n",
      "Epoch 8/100\n",
      "100000/100000 - 1s - loss: 0.1239 - accuracy: 0.9418 - val_loss: 0.1228 - val_accuracy: 0.9417\n",
      "Epoch 9/100\n",
      "100000/100000 - 1s - loss: 0.1179 - accuracy: 0.9454 - val_loss: 0.1198 - val_accuracy: 0.9440\n",
      "Epoch 10/100\n",
      "100000/100000 - 1s - loss: 0.1121 - accuracy: 0.9489 - val_loss: 0.1145 - val_accuracy: 0.9471\n",
      "Epoch 11/100\n",
      "100000/100000 - 1s - loss: 0.1088 - accuracy: 0.9506 - val_loss: 0.1145 - val_accuracy: 0.9470\n",
      "Epoch 12/100\n",
      "100000/100000 - 1s - loss: 0.1058 - accuracy: 0.9520 - val_loss: 0.1083 - val_accuracy: 0.9499\n",
      "Epoch 13/100\n",
      "100000/100000 - 1s - loss: 0.1024 - accuracy: 0.9536 - val_loss: 0.1083 - val_accuracy: 0.9509\n",
      "Epoch 14/100\n",
      "100000/100000 - 1s - loss: 0.0997 - accuracy: 0.9548 - val_loss: 0.1075 - val_accuracy: 0.9491\n",
      "Epoch 15/100\n",
      "100000/100000 - 1s - loss: 0.0974 - accuracy: 0.9558 - val_loss: 0.1015 - val_accuracy: 0.9537\n",
      "Epoch 16/100\n",
      "100000/100000 - 1s - loss: 0.0950 - accuracy: 0.9567 - val_loss: 0.1020 - val_accuracy: 0.9532\n",
      "Epoch 17/100\n",
      "100000/100000 - 1s - loss: 0.0930 - accuracy: 0.9577 - val_loss: 0.0975 - val_accuracy: 0.9553\n",
      "Epoch 18/100\n",
      "100000/100000 - 1s - loss: 0.0910 - accuracy: 0.9586 - val_loss: 0.0965 - val_accuracy: 0.9554\n",
      "Epoch 19/100\n",
      "100000/100000 - 1s - loss: 0.0893 - accuracy: 0.9594 - val_loss: 0.0936 - val_accuracy: 0.9563\n",
      "Epoch 20/100\n",
      "100000/100000 - 1s - loss: 0.0865 - accuracy: 0.9604 - val_loss: 0.0926 - val_accuracy: 0.9573\n",
      "Epoch 21/100\n",
      "100000/100000 - 1s - loss: 0.0850 - accuracy: 0.9611 - val_loss: 0.0942 - val_accuracy: 0.9564\n",
      "Epoch 22/100\n",
      "100000/100000 - 1s - loss: 0.0835 - accuracy: 0.9617 - val_loss: 0.0887 - val_accuracy: 0.9585\n",
      "Epoch 23/100\n",
      "100000/100000 - 1s - loss: 0.0822 - accuracy: 0.9621 - val_loss: 0.0870 - val_accuracy: 0.9586\n",
      "Epoch 24/100\n",
      "100000/100000 - 1s - loss: 0.0796 - accuracy: 0.9632 - val_loss: 0.0854 - val_accuracy: 0.9598\n",
      "Epoch 25/100\n",
      "100000/100000 - 1s - loss: 0.0783 - accuracy: 0.9638 - val_loss: 0.0830 - val_accuracy: 0.9608\n",
      "Epoch 26/100\n",
      "100000/100000 - 1s - loss: 0.0763 - accuracy: 0.9647 - val_loss: 0.0819 - val_accuracy: 0.9616\n",
      "Epoch 27/100\n",
      "100000/100000 - 1s - loss: 0.0751 - accuracy: 0.9650 - val_loss: 0.0817 - val_accuracy: 0.9614\n",
      "Epoch 28/100\n",
      "100000/100000 - 1s - loss: 0.0733 - accuracy: 0.9659 - val_loss: 0.0830 - val_accuracy: 0.9608\n",
      "Epoch 29/100\n",
      "100000/100000 - 1s - loss: 0.0724 - accuracy: 0.9661 - val_loss: 0.0792 - val_accuracy: 0.9619\n",
      "Epoch 30/100\n",
      "100000/100000 - 1s - loss: 0.0702 - accuracy: 0.9673 - val_loss: 0.0775 - val_accuracy: 0.9638\n",
      "Epoch 31/100\n",
      "100000/100000 - 1s - loss: 0.0693 - accuracy: 0.9675 - val_loss: 0.0770 - val_accuracy: 0.9637\n",
      "Epoch 32/100\n",
      "100000/100000 - 1s - loss: 0.0685 - accuracy: 0.9679 - val_loss: 0.0753 - val_accuracy: 0.9638\n",
      "Epoch 33/100\n",
      "100000/100000 - 1s - loss: 0.0671 - accuracy: 0.9684 - val_loss: 0.0746 - val_accuracy: 0.9647\n",
      "Epoch 34/100\n",
      "100000/100000 - 1s - loss: 0.0656 - accuracy: 0.9691 - val_loss: 0.0733 - val_accuracy: 0.9645\n",
      "Epoch 35/100\n",
      "100000/100000 - 1s - loss: 0.0642 - accuracy: 0.9700 - val_loss: 0.0713 - val_accuracy: 0.9664\n",
      "Epoch 36/100\n",
      "100000/100000 - 1s - loss: 0.0632 - accuracy: 0.9704 - val_loss: 0.0715 - val_accuracy: 0.9660\n",
      "Epoch 37/100\n",
      "100000/100000 - 1s - loss: 0.0618 - accuracy: 0.9710 - val_loss: 0.0715 - val_accuracy: 0.9662\n",
      "Epoch 38/100\n",
      "100000/100000 - 1s - loss: 0.0612 - accuracy: 0.9711 - val_loss: 0.0697 - val_accuracy: 0.9665\n",
      "Epoch 39/100\n",
      "100000/100000 - 1s - loss: 0.0605 - accuracy: 0.9716 - val_loss: 0.0700 - val_accuracy: 0.9662\n",
      "Epoch 40/100\n",
      "100000/100000 - 1s - loss: 0.0595 - accuracy: 0.9720 - val_loss: 0.0685 - val_accuracy: 0.9677\n",
      "Epoch 41/100\n",
      "100000/100000 - 1s - loss: 0.0588 - accuracy: 0.9723 - val_loss: 0.0667 - val_accuracy: 0.9681\n",
      "Epoch 42/100\n",
      "100000/100000 - 1s - loss: 0.0580 - accuracy: 0.9727 - val_loss: 0.0660 - val_accuracy: 0.9684\n",
      "Epoch 43/100\n",
      "100000/100000 - 1s - loss: 0.0567 - accuracy: 0.9733 - val_loss: 0.0671 - val_accuracy: 0.9679\n",
      "Epoch 44/100\n",
      "100000/100000 - 1s - loss: 0.0564 - accuracy: 0.9734 - val_loss: 0.0669 - val_accuracy: 0.9676\n",
      "Epoch 45/100\n",
      "100000/100000 - 1s - loss: 0.0556 - accuracy: 0.9737 - val_loss: 0.0650 - val_accuracy: 0.9690\n",
      "Epoch 46/100\n",
      "100000/100000 - 1s - loss: 0.0546 - accuracy: 0.9742 - val_loss: 0.0658 - val_accuracy: 0.9685\n",
      "Epoch 47/100\n",
      "100000/100000 - 1s - loss: 0.0542 - accuracy: 0.9743 - val_loss: 0.0635 - val_accuracy: 0.9697\n",
      "Epoch 48/100\n",
      "100000/100000 - 1s - loss: 0.0537 - accuracy: 0.9747 - val_loss: 0.0635 - val_accuracy: 0.9687\n",
      "Epoch 49/100\n",
      "100000/100000 - 1s - loss: 0.0526 - accuracy: 0.9751 - val_loss: 0.0638 - val_accuracy: 0.9697\n",
      "Epoch 50/100\n",
      "100000/100000 - 1s - loss: 0.0521 - accuracy: 0.9755 - val_loss: 0.0629 - val_accuracy: 0.9695\n",
      "Epoch 51/100\n",
      "100000/100000 - 1s - loss: 0.0517 - accuracy: 0.9755 - val_loss: 0.0619 - val_accuracy: 0.9704\n",
      "Epoch 52/100\n",
      "100000/100000 - 1s - loss: 0.0513 - accuracy: 0.9757 - val_loss: 0.0615 - val_accuracy: 0.9703\n",
      "Epoch 53/100\n",
      "100000/100000 - 1s - loss: 0.0503 - accuracy: 0.9760 - val_loss: 0.0614 - val_accuracy: 0.9704\n",
      "Epoch 54/100\n",
      "100000/100000 - 1s - loss: 0.0500 - accuracy: 0.9762 - val_loss: 0.0615 - val_accuracy: 0.9704\n",
      "Epoch 55/100\n",
      "100000/100000 - 1s - loss: 0.0498 - accuracy: 0.9761 - val_loss: 0.0600 - val_accuracy: 0.9707\n",
      "Epoch 56/100\n",
      "100000/100000 - 1s - loss: 0.0491 - accuracy: 0.9765 - val_loss: 0.0602 - val_accuracy: 0.9708\n",
      "Epoch 57/100\n",
      "100000/100000 - 1s - loss: 0.0488 - accuracy: 0.9768 - val_loss: 0.0586 - val_accuracy: 0.9722\n",
      "Epoch 58/100\n",
      "100000/100000 - 1s - loss: 0.0480 - accuracy: 0.9771 - val_loss: 0.0601 - val_accuracy: 0.9705\n",
      "Epoch 59/100\n",
      "100000/100000 - 1s - loss: 0.0478 - accuracy: 0.9772 - val_loss: 0.0604 - val_accuracy: 0.9715\n",
      "Epoch 60/100\n",
      "100000/100000 - 1s - loss: 0.0470 - accuracy: 0.9776 - val_loss: 0.0582 - val_accuracy: 0.9712\n",
      "Epoch 61/100\n",
      "100000/100000 - 1s - loss: 0.0469 - accuracy: 0.9774 - val_loss: 0.0584 - val_accuracy: 0.9710\n",
      "Epoch 62/100\n",
      "100000/100000 - 1s - loss: 0.0464 - accuracy: 0.9777 - val_loss: 0.0577 - val_accuracy: 0.9715\n",
      "Epoch 63/100\n",
      "100000/100000 - 1s - loss: 0.0459 - accuracy: 0.9780 - val_loss: 0.0582 - val_accuracy: 0.9712\n",
      "Epoch 64/100\n",
      "100000/100000 - 1s - loss: 0.0455 - accuracy: 0.9781 - val_loss: 0.0579 - val_accuracy: 0.9719\n",
      "Epoch 65/100\n",
      "100000/100000 - 1s - loss: 0.0448 - accuracy: 0.9784 - val_loss: 0.0567 - val_accuracy: 0.9725\n",
      "Epoch 66/100\n",
      "100000/100000 - 1s - loss: 0.0443 - accuracy: 0.9787 - val_loss: 0.0568 - val_accuracy: 0.9723\n",
      "Epoch 67/100\n",
      "100000/100000 - 1s - loss: 0.0441 - accuracy: 0.9788 - val_loss: 0.0575 - val_accuracy: 0.9726\n",
      "Epoch 68/100\n",
      "100000/100000 - 1s - loss: 0.0436 - accuracy: 0.9790 - val_loss: 0.0565 - val_accuracy: 0.9731\n",
      "Epoch 69/100\n",
      "100000/100000 - 1s - loss: 0.0433 - accuracy: 0.9790 - val_loss: 0.0562 - val_accuracy: 0.9727\n",
      "Epoch 70/100\n",
      "100000/100000 - 1s - loss: 0.0431 - accuracy: 0.9790 - val_loss: 0.0594 - val_accuracy: 0.9723\n",
      "Epoch 71/100\n",
      "100000/100000 - 1s - loss: 0.0428 - accuracy: 0.9793 - val_loss: 0.0590 - val_accuracy: 0.9714\n",
      "Epoch 72/100\n",
      "100000/100000 - 1s - loss: 0.0428 - accuracy: 0.9792 - val_loss: 0.0546 - val_accuracy: 0.9732\n",
      "Epoch 73/100\n",
      "100000/100000 - 1s - loss: 0.0422 - accuracy: 0.9795 - val_loss: 0.0562 - val_accuracy: 0.9728\n",
      "Epoch 74/100\n",
      "100000/100000 - 1s - loss: 0.0419 - accuracy: 0.9795 - val_loss: 0.0582 - val_accuracy: 0.9723\n",
      "Epoch 75/100\n",
      "100000/100000 - 1s - loss: 0.0419 - accuracy: 0.9795 - val_loss: 0.0552 - val_accuracy: 0.9729\n",
      "Epoch 76/100\n",
      "100000/100000 - 1s - loss: 0.0410 - accuracy: 0.9800 - val_loss: 0.0557 - val_accuracy: 0.9732\n"
     ]
    },
    {
     "name": "stdout",
     "output_type": "stream",
     "text": [
      "Epoch 77/100\n",
      "100000/100000 - 1s - loss: 0.0406 - accuracy: 0.9801 - val_loss: 0.0545 - val_accuracy: 0.9728\n",
      "Epoch 78/100\n",
      "100000/100000 - 1s - loss: 0.0406 - accuracy: 0.9802 - val_loss: 0.0544 - val_accuracy: 0.9736\n",
      "Epoch 79/100\n",
      "100000/100000 - 1s - loss: 0.0405 - accuracy: 0.9801 - val_loss: 0.0544 - val_accuracy: 0.9733\n",
      "Epoch 80/100\n",
      "100000/100000 - 1s - loss: 0.0400 - accuracy: 0.9804 - val_loss: 0.0536 - val_accuracy: 0.9735\n",
      "Epoch 81/100\n",
      "100000/100000 - 1s - loss: 0.0395 - accuracy: 0.9807 - val_loss: 0.0531 - val_accuracy: 0.9741\n",
      "Epoch 82/100\n",
      "100000/100000 - 1s - loss: 0.0395 - accuracy: 0.9807 - val_loss: 0.0538 - val_accuracy: 0.9729\n",
      "Epoch 83/100\n",
      "100000/100000 - 1s - loss: 0.0390 - accuracy: 0.9809 - val_loss: 0.0532 - val_accuracy: 0.9738\n",
      "Epoch 84/100\n",
      "100000/100000 - 1s - loss: 0.0389 - accuracy: 0.9809 - val_loss: 0.0534 - val_accuracy: 0.9738\n",
      "Epoch 85/100\n",
      "100000/100000 - 1s - loss: 0.0385 - accuracy: 0.9811 - val_loss: 0.0520 - val_accuracy: 0.9741\n",
      "Epoch 86/100\n",
      "100000/100000 - 1s - loss: 0.0382 - accuracy: 0.9811 - val_loss: 0.0530 - val_accuracy: 0.9741\n",
      "Epoch 87/100\n",
      "100000/100000 - 1s - loss: 0.0384 - accuracy: 0.9811 - val_loss: 0.0537 - val_accuracy: 0.9737\n",
      "Epoch 88/100\n",
      "100000/100000 - 1s - loss: 0.0377 - accuracy: 0.9814 - val_loss: 0.0522 - val_accuracy: 0.9738\n",
      "Epoch 89/100\n",
      "100000/100000 - 1s - loss: 0.0375 - accuracy: 0.9815 - val_loss: 0.0529 - val_accuracy: 0.9742\n",
      "Epoch 90/100\n",
      "100000/100000 - 1s - loss: 0.0373 - accuracy: 0.9816 - val_loss: 0.0526 - val_accuracy: 0.9739\n",
      "Epoch 91/100\n",
      "100000/100000 - 1s - loss: 0.0374 - accuracy: 0.9814 - val_loss: 0.0511 - val_accuracy: 0.9750\n",
      "Epoch 92/100\n",
      "100000/100000 - 1s - loss: 0.0369 - accuracy: 0.9818 - val_loss: 0.0531 - val_accuracy: 0.9737\n",
      "Epoch 93/100\n",
      "100000/100000 - 1s - loss: 0.0365 - accuracy: 0.9819 - val_loss: 0.0546 - val_accuracy: 0.9735\n",
      "Epoch 94/100\n",
      "100000/100000 - 1s - loss: 0.0364 - accuracy: 0.9819 - val_loss: 0.0513 - val_accuracy: 0.9746\n",
      "Epoch 95/100\n",
      "100000/100000 - 1s - loss: 0.0365 - accuracy: 0.9819 - val_loss: 0.0506 - val_accuracy: 0.9750\n",
      "Epoch 96/100\n",
      "100000/100000 - 1s - loss: 0.0362 - accuracy: 0.9820 - val_loss: 0.0517 - val_accuracy: 0.9745\n",
      "Epoch 97/100\n",
      "100000/100000 - 1s - loss: 0.0359 - accuracy: 0.9821 - val_loss: 0.0520 - val_accuracy: 0.9741\n",
      "Epoch 98/100\n",
      "100000/100000 - 1s - loss: 0.0355 - accuracy: 0.9823 - val_loss: 0.0509 - val_accuracy: 0.9750\n",
      "Epoch 99/100\n",
      "100000/100000 - 1s - loss: 0.0353 - accuracy: 0.9825 - val_loss: 0.0506 - val_accuracy: 0.9748\n",
      "Epoch 100/100\n",
      "100000/100000 - 1s - loss: 0.0353 - accuracy: 0.9825 - val_loss: 0.0509 - val_accuracy: 0.9746\n"
     ]
    }
   ],
   "source": [
    "model = tf.keras.models.Sequential([\n",
    "    tf.keras.layers.Dense(150,input_shape = [24], activation = 'relu'),\n",
    "    tf.keras.layers.Dense(150, activation = 'relu'),\n",
    "    tf.keras.layers.Dense(150, activation = 'relu'),\n",
    "    tf.keras.layers.Dense(12, activation = 'sigmoid')\n",
    "])\n",
    "\n",
    "model.compile(optimizer = 'adam', loss = 'binary_crossentropy', metrics = ['accuracy'])\n",
    "\n",
    "history = model.fit(x_train, y_train, batch_size = 1024, epochs = 100, verbose = 2,validation_data = (x_test, y_test))\n"
   ]
  },
  {
   "cell_type": "code",
   "execution_count": 6,
   "metadata": {},
   "outputs": [
    {
     "data": {
      "text/plain": [
       "<matplotlib.legend.Legend at 0x18108a75f88>"
      ]
     },
     "execution_count": 6,
     "metadata": {},
     "output_type": "execute_result"
    },
    {
     "data": {
      "image/png": "[encoded data removed]",
      "text/plain": [
       "<Figure size 432x288 with 1 Axes>"
      ]
     },
     "metadata": {
      "needs_background": "light"
     },
     "output_type": "display_data"
    }
   ],
   "source": [
    "import matplotlib.pyplot as plt\n",
    "plt.figure()\n",
    "acc = history.history['accuracy']\n",
    "loss = history.history['loss']\n",
    "val_acc = history.history['val_accuracy']\n",
    "val_loss = history.history['val_loss']\n",
    "\n",
    "epochs = range(len(acc))\n",
    "plt.plot(epochs, acc, 'r', label = 'Training accuracy')\n",
    "plt.plot(epochs, val_acc, 'b', label = 'Validating accuracy')\n",
    "plt.title('Training and Validating Accuracy')\n",
    "plt.legend()"
   ]
  },
  {
   "cell_type": "code",
   "execution_count": 7,
   "metadata": {},
   "outputs": [],
   "source": [
    "model.save('C:\\\\Users\\\\Wilfred\\\\Desktop\\\\weights\\\\Min_Max\\\\Min_Max_4_6_9_4_model.h5')"
   ]
  },
  {
   "cell_type": "code",
   "execution_count": null,
   "metadata": {},
   "outputs": [],
   "source": []
  }
 ],
 "metadata": {
  "kernelspec": {
   "display_name": "Python 3",
   "language": "python",
   "name": "python3"
  },
  "language_info": {
   "codemirror_mode": {
    "name": "ipython",
    "version": 3
   },
   "file_extension": ".py",
   "mimetype": "text/x-python",
   "name": "python",
   "nbconvert_exporter": "python",
   "pygments_lexer": "ipython3",
   "version": "3.7.5"
  }
 },
 "nbformat": 4,
 "nbformat_minor": 2
}
