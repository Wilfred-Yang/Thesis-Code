{
 "cells": [
  {
   "cell_type": "code",
   "execution_count": 1,
   "metadata": {},
   "outputs": [],
   "source": [
    "import tensorflow as tf\n",
    "import numpy as np\n",
    "import pickle"
   ]
  },
  {
   "cell_type": "code",
   "execution_count": 3,
   "metadata": {},
   "outputs": [
    {
     "name": "stdout",
     "output_type": "stream",
     "text": [
      "(105000, 24)\n"
     ]
    }
   ],
   "source": [
    "with open ('C:\\\\Users\\\\Wilfred\\\\Desktop\\\\Min-Max\\\\input_layer_4_6_16_2.pickle','rb') as file:\n",
    "    input_data = pickle.load(file)\n",
    "print(input_data.shape)\n",
    "permutation = list(np.random.permutation(input_data.shape[0]))\n",
    "input_data = input_data[permutation, :]\n",
    "x_train = input_data[:100000,:]\n",
    "x_valid = input_data[100000:102500, :]\n",
    "x_test = input_data[102500:,:]\n",
    "\n"
   ]
  },
  {
   "cell_type": "code",
   "execution_count": 4,
   "metadata": {},
   "outputs": [
    {
     "name": "stdout",
     "output_type": "stream",
     "text": [
      "(105000, 12)\n"
     ]
    }
   ],
   "source": [
    "with open ('C:\\\\Users\\\\Wilfred\\\\Desktop\\\\Min-Max\\\\output_layer_4_6_16_2.pickle','rb') as file:\n",
    "    output_data = pickle.load(file)\n",
    "    \n",
    "output_data = np.transpose(output_data)\n",
    "output_data = output_data[permutation, :]\n",
    "y_train = output_data[:100000,:]\n",
    "y_valid = output_data[100000:102500, :]\n",
    "y_test = output_data[102500:,:]\n",
    "print(output_data.shape)"
   ]
  },
  {
   "cell_type": "code",
   "execution_count": 5,
   "metadata": {},
   "outputs": [
    {
     "name": "stdout",
     "output_type": "stream",
     "text": [
      "Train on 100000 samples, validate on 2500 samples\n",
      "Epoch 1/50\n",
      "100000/100000 - 4s - loss: 0.3997 - accuracy: 0.8356 - val_loss: 0.3064 - val_accuracy: 0.8585\n",
      "Epoch 2/50\n",
      "100000/100000 - 3s - loss: 0.2536 - accuracy: 0.8837 - val_loss: 0.2187 - val_accuracy: 0.8978\n",
      "Epoch 3/50\n",
      "100000/100000 - 3s - loss: 0.1945 - accuracy: 0.9083 - val_loss: 0.1777 - val_accuracy: 0.9139\n",
      "Epoch 4/50\n",
      "100000/100000 - 3s - loss: 0.1691 - accuracy: 0.9187 - val_loss: 0.1633 - val_accuracy: 0.9211\n",
      "Epoch 5/50\n",
      "100000/100000 - 3s - loss: 0.1571 - accuracy: 0.9242 - val_loss: 0.1562 - val_accuracy: 0.9229\n",
      "Epoch 6/50\n",
      "100000/100000 - 3s - loss: 0.1507 - accuracy: 0.9278 - val_loss: 0.1510 - val_accuracy: 0.9259\n",
      "Epoch 7/50\n",
      "100000/100000 - 3s - loss: 0.1453 - accuracy: 0.9310 - val_loss: 0.1444 - val_accuracy: 0.9308\n",
      "Epoch 8/50\n",
      "100000/100000 - 3s - loss: 0.1413 - accuracy: 0.9336 - val_loss: 0.1413 - val_accuracy: 0.9327\n",
      "Epoch 9/50\n",
      "100000/100000 - 3s - loss: 0.1361 - accuracy: 0.9365 - val_loss: 0.1383 - val_accuracy: 0.9347\n",
      "Epoch 10/50\n",
      "100000/100000 - 3s - loss: 0.1292 - accuracy: 0.9402 - val_loss: 0.1257 - val_accuracy: 0.9408\n",
      "Epoch 11/50\n",
      "100000/100000 - 3s - loss: 0.1201 - accuracy: 0.9444 - val_loss: 0.1188 - val_accuracy: 0.9443\n",
      "Epoch 12/50\n",
      "100000/100000 - 3s - loss: 0.1108 - accuracy: 0.9485 - val_loss: 0.1074 - val_accuracy: 0.9507\n",
      "Epoch 13/50\n",
      "100000/100000 - 3s - loss: 0.1034 - accuracy: 0.9517 - val_loss: 0.1065 - val_accuracy: 0.9494\n",
      "Epoch 14/50\n",
      "100000/100000 - 3s - loss: 0.0970 - accuracy: 0.9547 - val_loss: 0.0971 - val_accuracy: 0.9547\n",
      "Epoch 15/50\n",
      "100000/100000 - 3s - loss: 0.0912 - accuracy: 0.9572 - val_loss: 0.0965 - val_accuracy: 0.9536\n",
      "Epoch 16/50\n",
      "100000/100000 - 3s - loss: 0.0867 - accuracy: 0.9595 - val_loss: 0.0934 - val_accuracy: 0.9567\n",
      "Epoch 17/50\n",
      "100000/100000 - 3s - loss: 0.0825 - accuracy: 0.9615 - val_loss: 0.0852 - val_accuracy: 0.9593\n",
      "Epoch 18/50\n",
      "100000/100000 - 3s - loss: 0.0779 - accuracy: 0.9637 - val_loss: 0.0856 - val_accuracy: 0.9594\n",
      "Epoch 19/50\n",
      "100000/100000 - 3s - loss: 0.0751 - accuracy: 0.9651 - val_loss: 0.0801 - val_accuracy: 0.9624\n",
      "Epoch 20/50\n",
      "100000/100000 - 3s - loss: 0.0740 - accuracy: 0.9655 - val_loss: 0.0753 - val_accuracy: 0.9643\n",
      "Epoch 21/50\n",
      "100000/100000 - 3s - loss: 0.0712 - accuracy: 0.9669 - val_loss: 0.0722 - val_accuracy: 0.9674\n",
      "Epoch 22/50\n",
      "100000/100000 - 3s - loss: 0.0687 - accuracy: 0.9681 - val_loss: 0.0793 - val_accuracy: 0.9631\n",
      "Epoch 23/50\n",
      "100000/100000 - 3s - loss: 0.0666 - accuracy: 0.9693 - val_loss: 0.0705 - val_accuracy: 0.9675\n",
      "Epoch 24/50\n",
      "100000/100000 - 3s - loss: 0.0635 - accuracy: 0.9709 - val_loss: 0.0753 - val_accuracy: 0.9652\n",
      "Epoch 25/50\n",
      "100000/100000 - 3s - loss: 0.0606 - accuracy: 0.9724 - val_loss: 0.0670 - val_accuracy: 0.9698\n",
      "Epoch 26/50\n",
      "100000/100000 - 3s - loss: 0.0583 - accuracy: 0.9736 - val_loss: 0.0664 - val_accuracy: 0.9693\n",
      "Epoch 27/50\n",
      "100000/100000 - 3s - loss: 0.0570 - accuracy: 0.9742 - val_loss: 0.0643 - val_accuracy: 0.9703\n",
      "Epoch 28/50\n",
      "100000/100000 - 3s - loss: 0.0546 - accuracy: 0.9754 - val_loss: 0.0648 - val_accuracy: 0.9711\n",
      "Epoch 29/50\n",
      "100000/100000 - 3s - loss: 0.0537 - accuracy: 0.9757 - val_loss: 0.0629 - val_accuracy: 0.9703\n",
      "Epoch 30/50\n",
      "100000/100000 - 3s - loss: 0.0525 - accuracy: 0.9765 - val_loss: 0.0628 - val_accuracy: 0.9717\n",
      "Epoch 31/50\n",
      "100000/100000 - 3s - loss: 0.0497 - accuracy: 0.9780 - val_loss: 0.0576 - val_accuracy: 0.9742\n",
      "Epoch 32/50\n",
      "100000/100000 - 3s - loss: 0.0496 - accuracy: 0.9779 - val_loss: 0.0572 - val_accuracy: 0.9741\n",
      "Epoch 33/50\n",
      "100000/100000 - 3s - loss: 0.0479 - accuracy: 0.9788 - val_loss: 0.0579 - val_accuracy: 0.9741\n",
      "Epoch 34/50\n",
      "100000/100000 - 3s - loss: 0.0465 - accuracy: 0.9795 - val_loss: 0.0556 - val_accuracy: 0.9753\n",
      "Epoch 35/50\n",
      "100000/100000 - 3s - loss: 0.0457 - accuracy: 0.9799 - val_loss: 0.0543 - val_accuracy: 0.9749\n",
      "Epoch 36/50\n",
      "100000/100000 - 3s - loss: 0.0446 - accuracy: 0.9804 - val_loss: 0.0547 - val_accuracy: 0.9753\n",
      "Epoch 37/50\n",
      "100000/100000 - 3s - loss: 0.0437 - accuracy: 0.9809 - val_loss: 0.0544 - val_accuracy: 0.9770\n",
      "Epoch 38/50\n",
      "100000/100000 - 3s - loss: 0.0428 - accuracy: 0.9814 - val_loss: 0.0552 - val_accuracy: 0.9759\n",
      "Epoch 39/50\n",
      "100000/100000 - 3s - loss: 0.0426 - accuracy: 0.9815 - val_loss: 0.0535 - val_accuracy: 0.9780\n",
      "Epoch 40/50\n",
      "100000/100000 - 3s - loss: 0.0425 - accuracy: 0.9815 - val_loss: 0.0506 - val_accuracy: 0.9782\n",
      "Epoch 41/50\n",
      "100000/100000 - 3s - loss: 0.0399 - accuracy: 0.9829 - val_loss: 0.0483 - val_accuracy: 0.9784\n",
      "Epoch 42/50\n",
      "100000/100000 - 3s - loss: 0.0379 - accuracy: 0.9838 - val_loss: 0.0485 - val_accuracy: 0.9789\n",
      "Epoch 43/50\n",
      "100000/100000 - 3s - loss: 0.0388 - accuracy: 0.9835 - val_loss: 0.0526 - val_accuracy: 0.9779\n",
      "Epoch 44/50\n",
      "100000/100000 - 3s - loss: 0.0388 - accuracy: 0.9832 - val_loss: 0.0481 - val_accuracy: 0.9795\n",
      "Epoch 45/50\n",
      "100000/100000 - 3s - loss: 0.0386 - accuracy: 0.9835 - val_loss: 0.0457 - val_accuracy: 0.9800\n",
      "Epoch 46/50\n",
      "100000/100000 - 3s - loss: 0.0367 - accuracy: 0.9842 - val_loss: 0.0477 - val_accuracy: 0.9793\n",
      "Epoch 47/50\n",
      "100000/100000 - 3s - loss: 0.0351 - accuracy: 0.9851 - val_loss: 0.0481 - val_accuracy: 0.9805\n",
      "Epoch 48/50\n",
      "100000/100000 - 3s - loss: 0.0367 - accuracy: 0.9843 - val_loss: 0.0494 - val_accuracy: 0.9791\n",
      "Epoch 49/50\n",
      "100000/100000 - 3s - loss: 0.0345 - accuracy: 0.9854 - val_loss: 0.0436 - val_accuracy: 0.9816\n",
      "Epoch 50/50\n",
      "100000/100000 - 3s - loss: 0.0347 - accuracy: 0.9853 - val_loss: 0.0475 - val_accuracy: 0.9797\n"
     ]
    }
   ],
   "source": [
    "model = tf.keras.models.Sequential([\n",
    "    tf.keras.layers.Dense(300,input_shape = [24], activation = 'relu'),\n",
    "    tf.keras.layers.Dense(300, activation = 'relu'),\n",
    "    tf.keras.layers.Dense(300, activation = 'relu'),\n",
    "    tf.keras.layers.Dense(12, activation = 'sigmoid')\n",
    "])\n",
    "adam = tf.keras.optimizers.Adam(lr = 0.005)\n",
    "model.compile(optimizer = adam, loss = 'binary_crossentropy', metrics = ['accuracy'])\n",
    "\n",
    "history = model.fit(x_train, y_train, batch_size = 1024, epochs = 50, verbose = 2,validation_data = (x_valid, y_valid))\n"
   ]
  },
  {
   "cell_type": "code",
   "execution_count": 7,
   "metadata": {},
   "outputs": [
    {
     "data": {
      "image/png": "[encoded data removed]",
      "text/plain": [
       "<Figure size 432x288 with 1 Axes>"
      ]
     },
     "metadata": {
      "needs_background": "light"
     },
     "output_type": "display_data"
    }
   ],
   "source": [
    "import matplotlib.pyplot as plt\n",
    "plt.figure()\n",
    "acc = history.history['accuracy']\n",
    "loss = history.history['loss']\n",
    "val_acc = history.history['val_accuracy']\n",
    "val_loss = history.history['val_loss']\n",
    "\n",
    "epochs = range(len(acc))\n",
    "plt.plot(epochs, acc, 'r', label = 'Training accuracy')\n",
    "plt.plot(epochs, val_acc, 'b', label = 'Validating accuracy')\n",
    "plt.title('Training and Validating Accuracy')\n",
    "plt.legend()\n",
    "plt.show()"
   ]
  },
  {
   "cell_type": "code",
   "execution_count": 8,
   "metadata": {},
   "outputs": [
    {
     "name": "stdout",
     "output_type": "stream",
     "text": [
      "2500/1 - 0s - loss: 0.0527 - accuracy: 0.9800\n"
     ]
    },
    {
     "data": {
      "text/plain": [
       "[0.049677631866931915, 0.9799667]"
      ]
     },
     "execution_count": 8,
     "metadata": {},
     "output_type": "execute_result"
    }
   ],
   "source": [
    "model.evaluate(x_test, y_test, verbose = 2)"
   ]
  },
  {
   "cell_type": "code",
   "execution_count": 9,
   "metadata": {},
   "outputs": [],
   "source": [
    "model.save('C:\\\\Users\\\\Wilfred\\\\Desktop\\\\weights\\\\Min_Max\\\\Min_Max_4_6_16_2_model.h5')"
   ]
  },
  {
   "cell_type": "code",
   "execution_count": null,
   "metadata": {},
   "outputs": [],
   "source": []
  }
 ],
 "metadata": {
  "kernelspec": {
   "display_name": "Python 3",
   "language": "python",
   "name": "python3"
  },
  "language_info": {
   "codemirror_mode": {
    "name": "ipython",
    "version": 3
   },
   "file_extension": ".py",
   "mimetype": "text/x-python",
   "name": "python",
   "nbconvert_exporter": "python",
   "pygments_lexer": "ipython3",
   "version": "3.7.5"
  }
 },
 "nbformat": 4,
 "nbformat_minor": 2
}
