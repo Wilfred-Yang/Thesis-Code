{
 "cells": [
  {
   "cell_type": "code",
   "execution_count": 1,
   "metadata": {},
   "outputs": [],
   "source": [
    "import tensorflow as tf\n",
    "import numpy as np\n",
    "import pickle"
   ]
  },
  {
   "cell_type": "code",
   "execution_count": 5,
   "metadata": {},
   "outputs": [
    {
     "name": "stdout",
     "output_type": "stream",
     "text": [
      "(105000, 24)\n"
     ]
    }
   ],
   "source": [
    "with open ('C:\\\\Users\\\\Wilfred\\\\Desktop\\\\Min-Max\\\\input_layer_4_6_9_2.pickle','rb') as file:\n",
    "    input_data = pickle.load(file)\n",
    "print(input_data.shape)\n",
    "x_train = input_data[:100000,:]\n",
    "x_test = input_data[100000:,:]"
   ]
  },
  {
   "cell_type": "code",
   "execution_count": 4,
   "metadata": {},
   "outputs": [
    {
     "name": "stdout",
     "output_type": "stream",
     "text": [
      "(12, 105000)\n"
     ]
    }
   ],
   "source": [
    "with open ('C:\\\\Users\\\\Wilfred\\\\Desktop\\\\Min-Max\\\\output_layer_4_6_9_2.pickle','rb') as file:\n",
    "    output_data = pickle.load(file)\n",
    "print(output_data.shape)\n",
    "output_data = np.transpose(output_data)\n",
    "y_train = output_data[:100000,:]\n",
    "y_test = output_data[100000:,:]"
   ]
  },
  {
   "cell_type": "code",
   "execution_count": 6,
   "metadata": {},
   "outputs": [
    {
     "name": "stdout",
     "output_type": "stream",
     "text": [
      "Train on 100000 samples, validate on 5000 samples\n",
      "Epoch 1/100\n",
      "100000/100000 - 2s - loss: 0.4011 - accuracy: 0.8375 - val_loss: 0.3206 - val_accuracy: 0.8715\n",
      "Epoch 2/100\n",
      "100000/100000 - 1s - loss: 0.2792 - accuracy: 0.8886 - val_loss: 0.2516 - val_accuracy: 0.9004\n",
      "Epoch 3/100\n",
      "100000/100000 - 1s - loss: 0.2412 - accuracy: 0.9034 - val_loss: 0.2321 - val_accuracy: 0.9071\n",
      "Epoch 4/100\n",
      "100000/100000 - 1s - loss: 0.2253 - accuracy: 0.9086 - val_loss: 0.2192 - val_accuracy: 0.9106\n",
      "Epoch 5/100\n",
      "100000/100000 - 1s - loss: 0.2139 - accuracy: 0.9119 - val_loss: 0.2099 - val_accuracy: 0.9130\n",
      "Epoch 6/100\n",
      "100000/100000 - 1s - loss: 0.2054 - accuracy: 0.9140 - val_loss: 0.2041 - val_accuracy: 0.9138\n",
      "Epoch 7/100\n",
      "100000/100000 - 1s - loss: 0.1986 - accuracy: 0.9154 - val_loss: 0.1964 - val_accuracy: 0.9160\n",
      "Epoch 8/100\n",
      "100000/100000 - 1s - loss: 0.1926 - accuracy: 0.9165 - val_loss: 0.1911 - val_accuracy: 0.9171\n",
      "Epoch 9/100\n",
      "100000/100000 - 1s - loss: 0.1874 - accuracy: 0.9175 - val_loss: 0.1866 - val_accuracy: 0.9177\n",
      "Epoch 10/100\n",
      "100000/100000 - 1s - loss: 0.1824 - accuracy: 0.9186 - val_loss: 0.1817 - val_accuracy: 0.9185\n",
      "Epoch 11/100\n",
      "100000/100000 - 1s - loss: 0.1777 - accuracy: 0.9200 - val_loss: 0.1777 - val_accuracy: 0.9194\n",
      "Epoch 12/100\n",
      "100000/100000 - 1s - loss: 0.1728 - accuracy: 0.9213 - val_loss: 0.1721 - val_accuracy: 0.9220\n",
      "Epoch 13/100\n",
      "100000/100000 - 1s - loss: 0.1677 - accuracy: 0.9231 - val_loss: 0.1691 - val_accuracy: 0.9220\n",
      "Epoch 14/100\n",
      "100000/100000 - 1s - loss: 0.1627 - accuracy: 0.9248 - val_loss: 0.1640 - val_accuracy: 0.9233\n",
      "Epoch 15/100\n",
      "100000/100000 - 1s - loss: 0.1570 - accuracy: 0.9268 - val_loss: 0.1579 - val_accuracy: 0.9257\n",
      "Epoch 16/100\n",
      "100000/100000 - 1s - loss: 0.1516 - accuracy: 0.9289 - val_loss: 0.1547 - val_accuracy: 0.9271\n",
      "Epoch 17/100\n",
      "100000/100000 - 1s - loss: 0.1467 - accuracy: 0.9307 - val_loss: 0.1470 - val_accuracy: 0.9300\n",
      "Epoch 18/100\n",
      "100000/100000 - 1s - loss: 0.1416 - accuracy: 0.9325 - val_loss: 0.1436 - val_accuracy: 0.9307\n",
      "Epoch 19/100\n",
      "100000/100000 - 2s - loss: 0.1368 - accuracy: 0.9348 - val_loss: 0.1393 - val_accuracy: 0.9326\n",
      "Epoch 20/100\n",
      "100000/100000 - 1s - loss: 0.1319 - accuracy: 0.9369 - val_loss: 0.1354 - val_accuracy: 0.9337\n",
      "Epoch 21/100\n",
      "100000/100000 - 1s - loss: 0.1279 - accuracy: 0.9384 - val_loss: 0.1303 - val_accuracy: 0.9366\n",
      "Epoch 22/100\n",
      "100000/100000 - 1s - loss: 0.1242 - accuracy: 0.9403 - val_loss: 0.1291 - val_accuracy: 0.9373\n",
      "Epoch 23/100\n",
      "100000/100000 - 1s - loss: 0.1210 - accuracy: 0.9419 - val_loss: 0.1259 - val_accuracy: 0.9383\n",
      "Epoch 24/100\n",
      "100000/100000 - 1s - loss: 0.1177 - accuracy: 0.9434 - val_loss: 0.1220 - val_accuracy: 0.9406\n",
      "Epoch 25/100\n",
      "100000/100000 - 1s - loss: 0.1147 - accuracy: 0.9452 - val_loss: 0.1192 - val_accuracy: 0.9414\n",
      "Epoch 26/100\n",
      "100000/100000 - 1s - loss: 0.1118 - accuracy: 0.9467 - val_loss: 0.1190 - val_accuracy: 0.9417\n",
      "Epoch 27/100\n",
      "100000/100000 - 1s - loss: 0.1095 - accuracy: 0.9481 - val_loss: 0.1161 - val_accuracy: 0.9433\n",
      "Epoch 28/100\n",
      "100000/100000 - 1s - loss: 0.1069 - accuracy: 0.9493 - val_loss: 0.1133 - val_accuracy: 0.9450\n",
      "Epoch 29/100\n",
      "100000/100000 - 1s - loss: 0.1044 - accuracy: 0.9509 - val_loss: 0.1111 - val_accuracy: 0.9461\n",
      "Epoch 30/100\n",
      "100000/100000 - 1s - loss: 0.1029 - accuracy: 0.9515 - val_loss: 0.1105 - val_accuracy: 0.9463\n",
      "Epoch 31/100\n",
      "100000/100000 - 1s - loss: 0.1007 - accuracy: 0.9528 - val_loss: 0.1084 - val_accuracy: 0.9493\n",
      "Epoch 32/100\n",
      "100000/100000 - 2s - loss: 0.0989 - accuracy: 0.9540 - val_loss: 0.1061 - val_accuracy: 0.9496\n",
      "Epoch 33/100\n",
      "100000/100000 - 2s - loss: 0.0964 - accuracy: 0.9553 - val_loss: 0.1037 - val_accuracy: 0.9505\n",
      "Epoch 34/100\n",
      "100000/100000 - 1s - loss: 0.0944 - accuracy: 0.9565 - val_loss: 0.1025 - val_accuracy: 0.9521\n",
      "Epoch 35/100\n",
      "100000/100000 - 2s - loss: 0.0923 - accuracy: 0.9577 - val_loss: 0.1016 - val_accuracy: 0.9527\n",
      "Epoch 36/100\n",
      "100000/100000 - 1s - loss: 0.0910 - accuracy: 0.9584 - val_loss: 0.1012 - val_accuracy: 0.9526\n",
      "Epoch 37/100\n",
      "100000/100000 - 1s - loss: 0.0902 - accuracy: 0.9588 - val_loss: 0.0997 - val_accuracy: 0.9524\n",
      "Epoch 38/100\n",
      "100000/100000 - 1s - loss: 0.0882 - accuracy: 0.9598 - val_loss: 0.0966 - val_accuracy: 0.9554\n",
      "Epoch 39/100\n",
      "100000/100000 - 1s - loss: 0.0866 - accuracy: 0.9608 - val_loss: 0.0949 - val_accuracy: 0.9561\n",
      "Epoch 40/100\n",
      "100000/100000 - 1s - loss: 0.0852 - accuracy: 0.9614 - val_loss: 0.0935 - val_accuracy: 0.9573\n",
      "Epoch 41/100\n",
      "100000/100000 - 1s - loss: 0.0837 - accuracy: 0.9622 - val_loss: 0.0927 - val_accuracy: 0.9577\n",
      "Epoch 42/100\n",
      "100000/100000 - 1s - loss: 0.0827 - accuracy: 0.9628 - val_loss: 0.0911 - val_accuracy: 0.9585\n",
      "Epoch 43/100\n",
      "100000/100000 - 2s - loss: 0.0809 - accuracy: 0.9638 - val_loss: 0.0897 - val_accuracy: 0.9590\n",
      "Epoch 44/100\n",
      "100000/100000 - 1s - loss: 0.0801 - accuracy: 0.9641 - val_loss: 0.0894 - val_accuracy: 0.9596\n",
      "Epoch 45/100\n",
      "100000/100000 - 1s - loss: 0.0788 - accuracy: 0.9648 - val_loss: 0.0882 - val_accuracy: 0.9605\n",
      "Epoch 46/100\n",
      "100000/100000 - 1s - loss: 0.0772 - accuracy: 0.9658 - val_loss: 0.0864 - val_accuracy: 0.9608\n",
      "Epoch 47/100\n",
      "100000/100000 - 1s - loss: 0.0759 - accuracy: 0.9663 - val_loss: 0.0860 - val_accuracy: 0.9614\n",
      "Epoch 48/100\n",
      "100000/100000 - 1s - loss: 0.0747 - accuracy: 0.9670 - val_loss: 0.0847 - val_accuracy: 0.9621\n",
      "Epoch 49/100\n",
      "100000/100000 - 1s - loss: 0.0736 - accuracy: 0.9675 - val_loss: 0.0835 - val_accuracy: 0.9626\n",
      "Epoch 50/100\n",
      "100000/100000 - 1s - loss: 0.0723 - accuracy: 0.9681 - val_loss: 0.0824 - val_accuracy: 0.9630\n",
      "Epoch 51/100\n",
      "100000/100000 - 1s - loss: 0.0717 - accuracy: 0.9684 - val_loss: 0.0811 - val_accuracy: 0.9643\n",
      "Epoch 52/100\n",
      "100000/100000 - 1s - loss: 0.0705 - accuracy: 0.9689 - val_loss: 0.0803 - val_accuracy: 0.9637\n",
      "Epoch 53/100\n",
      "100000/100000 - 1s - loss: 0.0697 - accuracy: 0.9693 - val_loss: 0.0797 - val_accuracy: 0.9646\n",
      "Epoch 54/100\n",
      "100000/100000 - 1s - loss: 0.0685 - accuracy: 0.9699 - val_loss: 0.0781 - val_accuracy: 0.9657\n",
      "Epoch 55/100\n",
      "100000/100000 - 1s - loss: 0.0683 - accuracy: 0.9700 - val_loss: 0.0795 - val_accuracy: 0.9646\n",
      "Epoch 56/100\n",
      "100000/100000 - 1s - loss: 0.0665 - accuracy: 0.9710 - val_loss: 0.0773 - val_accuracy: 0.9664\n",
      "Epoch 57/100\n",
      "100000/100000 - 1s - loss: 0.0656 - accuracy: 0.9713 - val_loss: 0.0754 - val_accuracy: 0.9666\n",
      "Epoch 58/100\n",
      "100000/100000 - 2s - loss: 0.0646 - accuracy: 0.9717 - val_loss: 0.0752 - val_accuracy: 0.9679\n",
      "Epoch 59/100\n",
      "100000/100000 - 2s - loss: 0.0639 - accuracy: 0.9720 - val_loss: 0.0741 - val_accuracy: 0.9679\n",
      "Epoch 60/100\n",
      "100000/100000 - 2s - loss: 0.0636 - accuracy: 0.9721 - val_loss: 0.0762 - val_accuracy: 0.9669\n",
      "Epoch 61/100\n",
      "100000/100000 - 1s - loss: 0.0628 - accuracy: 0.9726 - val_loss: 0.0737 - val_accuracy: 0.9672\n",
      "Epoch 62/100\n",
      "100000/100000 - 1s - loss: 0.0617 - accuracy: 0.9731 - val_loss: 0.0725 - val_accuracy: 0.9687\n",
      "Epoch 63/100\n",
      "100000/100000 - 1s - loss: 0.0609 - accuracy: 0.9733 - val_loss: 0.0717 - val_accuracy: 0.9689\n",
      "Epoch 64/100\n",
      "100000/100000 - 1s - loss: 0.0601 - accuracy: 0.9739 - val_loss: 0.0706 - val_accuracy: 0.9688\n",
      "Epoch 65/100\n",
      "100000/100000 - 1s - loss: 0.0593 - accuracy: 0.9741 - val_loss: 0.0735 - val_accuracy: 0.9683\n",
      "Epoch 66/100\n",
      "100000/100000 - 2s - loss: 0.0594 - accuracy: 0.9740 - val_loss: 0.0727 - val_accuracy: 0.9673\n",
      "Epoch 67/100\n",
      "100000/100000 - 1s - loss: 0.0590 - accuracy: 0.9742 - val_loss: 0.0699 - val_accuracy: 0.9693\n",
      "Epoch 68/100\n",
      "100000/100000 - 1s - loss: 0.0576 - accuracy: 0.9750 - val_loss: 0.0710 - val_accuracy: 0.9693\n",
      "Epoch 69/100\n",
      "100000/100000 - 1s - loss: 0.0570 - accuracy: 0.9752 - val_loss: 0.0706 - val_accuracy: 0.9690\n",
      "Epoch 70/100\n",
      "100000/100000 - 1s - loss: 0.0561 - accuracy: 0.9757 - val_loss: 0.0682 - val_accuracy: 0.9710\n",
      "Epoch 71/100\n",
      "100000/100000 - 1s - loss: 0.0553 - accuracy: 0.9759 - val_loss: 0.0687 - val_accuracy: 0.9703\n",
      "Epoch 72/100\n",
      "100000/100000 - 1s - loss: 0.0552 - accuracy: 0.9760 - val_loss: 0.0685 - val_accuracy: 0.9703\n",
      "Epoch 73/100\n",
      "100000/100000 - 1s - loss: 0.0547 - accuracy: 0.9763 - val_loss: 0.0678 - val_accuracy: 0.9705\n",
      "Epoch 74/100\n",
      "100000/100000 - 1s - loss: 0.0539 - accuracy: 0.9766 - val_loss: 0.0667 - val_accuracy: 0.9710\n",
      "Epoch 75/100\n",
      "100000/100000 - 2s - loss: 0.0536 - accuracy: 0.9768 - val_loss: 0.0672 - val_accuracy: 0.9709\n",
      "Epoch 76/100\n",
      "100000/100000 - 1s - loss: 0.0528 - accuracy: 0.9770 - val_loss: 0.0658 - val_accuracy: 0.9715\n"
     ]
    },
    {
     "name": "stdout",
     "output_type": "stream",
     "text": [
      "Epoch 77/100\n",
      "100000/100000 - 1s - loss: 0.0527 - accuracy: 0.9771 - val_loss: 0.0675 - val_accuracy: 0.9706\n",
      "Epoch 78/100\n",
      "100000/100000 - 1s - loss: 0.0527 - accuracy: 0.9769 - val_loss: 0.0663 - val_accuracy: 0.9709\n",
      "Epoch 79/100\n",
      "100000/100000 - 1s - loss: 0.0520 - accuracy: 0.9774 - val_loss: 0.0638 - val_accuracy: 0.9724\n",
      "Epoch 80/100\n",
      "100000/100000 - 1s - loss: 0.0512 - accuracy: 0.9777 - val_loss: 0.0651 - val_accuracy: 0.9716\n",
      "Epoch 81/100\n",
      "100000/100000 - 1s - loss: 0.0505 - accuracy: 0.9781 - val_loss: 0.0641 - val_accuracy: 0.9723\n",
      "Epoch 82/100\n",
      "100000/100000 - 1s - loss: 0.0498 - accuracy: 0.9784 - val_loss: 0.0642 - val_accuracy: 0.9717\n",
      "Epoch 83/100\n",
      "100000/100000 - 1s - loss: 0.0492 - accuracy: 0.9786 - val_loss: 0.0643 - val_accuracy: 0.9721\n",
      "Epoch 84/100\n",
      "100000/100000 - 1s - loss: 0.0490 - accuracy: 0.9787 - val_loss: 0.0638 - val_accuracy: 0.9716\n",
      "Epoch 85/100\n",
      "100000/100000 - 1s - loss: 0.0495 - accuracy: 0.9785 - val_loss: 0.0643 - val_accuracy: 0.9713\n",
      "Epoch 86/100\n",
      "100000/100000 - 1s - loss: 0.0484 - accuracy: 0.9790 - val_loss: 0.0633 - val_accuracy: 0.9719\n",
      "Epoch 87/100\n",
      "100000/100000 - 1s - loss: 0.0480 - accuracy: 0.9791 - val_loss: 0.0629 - val_accuracy: 0.9722\n",
      "Epoch 88/100\n",
      "100000/100000 - 1s - loss: 0.0481 - accuracy: 0.9791 - val_loss: 0.0624 - val_accuracy: 0.9726\n",
      "Epoch 89/100\n",
      "100000/100000 - 1s - loss: 0.0466 - accuracy: 0.9799 - val_loss: 0.0621 - val_accuracy: 0.9723\n",
      "Epoch 90/100\n",
      "100000/100000 - 2s - loss: 0.0467 - accuracy: 0.9798 - val_loss: 0.0613 - val_accuracy: 0.9728\n",
      "Epoch 91/100\n",
      "100000/100000 - 1s - loss: 0.0466 - accuracy: 0.9798 - val_loss: 0.0618 - val_accuracy: 0.9725\n",
      "Epoch 92/100\n",
      "100000/100000 - 1s - loss: 0.0458 - accuracy: 0.9801 - val_loss: 0.0616 - val_accuracy: 0.9731\n",
      "Epoch 93/100\n",
      "100000/100000 - 1s - loss: 0.0457 - accuracy: 0.9801 - val_loss: 0.0623 - val_accuracy: 0.9722\n",
      "Epoch 94/100\n",
      "100000/100000 - 1s - loss: 0.0450 - accuracy: 0.9805 - val_loss: 0.0617 - val_accuracy: 0.9733\n",
      "Epoch 95/100\n",
      "100000/100000 - 1s - loss: 0.0449 - accuracy: 0.9805 - val_loss: 0.0613 - val_accuracy: 0.9730\n",
      "Epoch 96/100\n",
      "100000/100000 - 1s - loss: 0.0444 - accuracy: 0.9807 - val_loss: 0.0615 - val_accuracy: 0.9729\n",
      "Epoch 97/100\n",
      "100000/100000 - 1s - loss: 0.0444 - accuracy: 0.9807 - val_loss: 0.0612 - val_accuracy: 0.9736\n",
      "Epoch 98/100\n",
      "100000/100000 - 1s - loss: 0.0437 - accuracy: 0.9810 - val_loss: 0.0602 - val_accuracy: 0.9733\n",
      "Epoch 99/100\n",
      "100000/100000 - 1s - loss: 0.0441 - accuracy: 0.9808 - val_loss: 0.0599 - val_accuracy: 0.9734\n",
      "Epoch 100/100\n",
      "100000/100000 - 1s - loss: 0.0428 - accuracy: 0.9813 - val_loss: 0.0601 - val_accuracy: 0.9733\n"
     ]
    }
   ],
   "source": [
    "model = tf.keras.models.Sequential([\n",
    "    tf.keras.layers.Dense(150,input_shape = [24], activation = 'relu'),\n",
    "    tf.keras.layers.Dense(150, activation = 'relu'),\n",
    "    tf.keras.layers.Dense(150, activation = 'relu'),\n",
    "    tf.keras.layers.Dense(12, activation = 'sigmoid')\n",
    "])\n",
    "\n",
    "model.compile(optimizer = 'adam', loss = 'binary_crossentropy', metrics = ['accuracy'])\n",
    "\n",
    "history = model.fit(x_train, y_train, batch_size = 1024, epochs = 100, verbose = 2,validation_data = (x_test, y_test))\n"
   ]
  },
  {
   "cell_type": "code",
   "execution_count": 8,
   "metadata": {},
   "outputs": [
    {
     "data": {
      "text/plain": [
       "<matplotlib.legend.Legend at 0x226d2f37e88>"
      ]
     },
     "execution_count": 8,
     "metadata": {},
     "output_type": "execute_result"
    },
    {
     "data": {
      "image/png": "[encoded data removed]",
      "text/plain": [
       "<Figure size 432x288 with 1 Axes>"
      ]
     },
     "metadata": {
      "needs_background": "light"
     },
     "output_type": "display_data"
    }
   ],
   "source": [
    "import matplotlib.pyplot as plt\n",
    "plt.figure()\n",
    "acc = history.history['accuracy']\n",
    "loss = history.history['loss']\n",
    "val_acc = history.history['val_accuracy']\n",
    "val_loss = history.history['val_loss']\n",
    "\n",
    "epochs = range(len(acc))\n",
    "plt.plot(epochs, acc, 'r', label = 'Training accuracy')\n",
    "plt.plot(epochs, val_acc, 'b', label = 'Validating accuracy')\n",
    "plt.title('Training and Validating Accuracy')\n",
    "plt.legend()"
   ]
  },
  {
   "cell_type": "code",
   "execution_count": 9,
   "metadata": {},
   "outputs": [],
   "source": [
    "model.save('C:\\\\Users\\\\Wilfred\\\\Desktop\\\\weights\\\\Min_Max\\\\Min_Max_4_6_9_2_model.h5')"
   ]
  },
  {
   "cell_type": "code",
   "execution_count": null,
   "metadata": {},
   "outputs": [],
   "source": []
  }
 ],
 "metadata": {
  "kernelspec": {
   "display_name": "Python 3",
   "language": "python",
   "name": "python3"
  },
  "language_info": {
   "codemirror_mode": {
    "name": "ipython",
    "version": 3
   },
   "file_extension": ".py",
   "mimetype": "text/x-python",
   "name": "python",
   "nbconvert_exporter": "python",
   "pygments_lexer": "ipython3",
   "version": "3.7.5"
  }
 },
 "nbformat": 4,
 "nbformat_minor": 2
}
