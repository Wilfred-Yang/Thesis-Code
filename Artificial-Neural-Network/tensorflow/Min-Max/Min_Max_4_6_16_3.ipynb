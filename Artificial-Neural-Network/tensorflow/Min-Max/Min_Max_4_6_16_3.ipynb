{
 "cells": [
  {
   "cell_type": "code",
   "execution_count": 1,
   "metadata": {},
   "outputs": [],
   "source": [
    "import tensorflow as tf\n",
    "import numpy as np\n",
    "import pickle"
   ]
  },
  {
   "cell_type": "code",
   "execution_count": 2,
   "metadata": {},
   "outputs": [
    {
     "name": "stdout",
     "output_type": "stream",
     "text": [
      "(105000, 24)\n"
     ]
    }
   ],
   "source": [
    "with open ('C:\\\\Users\\\\Wilfred\\\\Desktop\\\\Min-Max\\\\input_layer_4_6_16_3.pickle','rb') as file:\n",
    "    input_data = pickle.load(file)\n",
    "print(input_data.shape)\n",
    "permutation = list(np.random.permutation(input_data.shape[0]))\n",
    "input_data = input_data[permutation, :]\n",
    "x_train = input_data[:100000,:]\n",
    "x_valid = input_data[100000:102500, :]\n",
    "x_test = input_data[102500:,:]\n",
    "\n"
   ]
  },
  {
   "cell_type": "code",
   "execution_count": 3,
   "metadata": {},
   "outputs": [
    {
     "name": "stdout",
     "output_type": "stream",
     "text": [
      "(105000, 12)\n"
     ]
    }
   ],
   "source": [
    "with open ('C:\\\\Users\\\\Wilfred\\\\Desktop\\\\Min-Max\\\\output_layer_4_6_16_3.pickle','rb') as file:\n",
    "    output_data = pickle.load(file)\n",
    "    \n",
    "output_data = np.transpose(output_data)\n",
    "output_data = output_data[permutation, :]\n",
    "y_train = output_data[:100000,:]\n",
    "y_valid = output_data[100000:102500, :]\n",
    "y_test = output_data[102500:,:]\n",
    "print(output_data.shape)"
   ]
  },
  {
   "cell_type": "code",
   "execution_count": 4,
   "metadata": {},
   "outputs": [
    {
     "name": "stdout",
     "output_type": "stream",
     "text": [
      "Train on 100000 samples, validate on 2500 samples\n",
      "Epoch 1/50\n",
      "100000/100000 - 4s - loss: 0.3730 - accuracy: 0.8481 - val_loss: 0.2437 - val_accuracy: 0.8906\n",
      "Epoch 2/50\n",
      "100000/100000 - 4s - loss: 0.2092 - accuracy: 0.9036 - val_loss: 0.1888 - val_accuracy: 0.9108\n",
      "Epoch 3/50\n",
      "100000/100000 - 4s - loss: 0.1796 - accuracy: 0.9149 - val_loss: 0.1731 - val_accuracy: 0.9168\n",
      "Epoch 4/50\n",
      "100000/100000 - 4s - loss: 0.1676 - accuracy: 0.9196 - val_loss: 0.1636 - val_accuracy: 0.9215\n",
      "Epoch 5/50\n",
      "100000/100000 - 3s - loss: 0.1613 - accuracy: 0.9227 - val_loss: 0.1594 - val_accuracy: 0.9232\n",
      "Epoch 6/50\n",
      "100000/100000 - 4s - loss: 0.1566 - accuracy: 0.9255 - val_loss: 0.1552 - val_accuracy: 0.9255\n",
      "Epoch 7/50\n",
      "100000/100000 - 3s - loss: 0.1516 - accuracy: 0.9284 - val_loss: 0.1512 - val_accuracy: 0.9286\n",
      "Epoch 8/50\n",
      "100000/100000 - 3s - loss: 0.1473 - accuracy: 0.9311 - val_loss: 0.1502 - val_accuracy: 0.9307\n",
      "Epoch 9/50\n",
      "100000/100000 - 3s - loss: 0.1435 - accuracy: 0.9333 - val_loss: 0.1433 - val_accuracy: 0.9339\n",
      "Epoch 10/50\n",
      "100000/100000 - 3s - loss: 0.1376 - accuracy: 0.9369 - val_loss: 0.1364 - val_accuracy: 0.9366\n",
      "Epoch 11/50\n",
      "100000/100000 - 3s - loss: 0.1290 - accuracy: 0.9412 - val_loss: 0.1283 - val_accuracy: 0.9414\n",
      "Epoch 12/50\n",
      "100000/100000 - 3s - loss: 0.1201 - accuracy: 0.9451 - val_loss: 0.1222 - val_accuracy: 0.9447\n",
      "Epoch 13/50\n",
      "100000/100000 - 3s - loss: 0.1089 - accuracy: 0.9492 - val_loss: 0.1074 - val_accuracy: 0.9495\n",
      "Epoch 14/50\n",
      "100000/100000 - 3s - loss: 0.0998 - accuracy: 0.9530 - val_loss: 0.1018 - val_accuracy: 0.9499\n",
      "Epoch 15/50\n",
      "100000/100000 - 3s - loss: 0.0928 - accuracy: 0.9560 - val_loss: 0.0936 - val_accuracy: 0.9559\n",
      "Epoch 16/50\n",
      "100000/100000 - 3s - loss: 0.0863 - accuracy: 0.9592 - val_loss: 0.0873 - val_accuracy: 0.9590\n",
      "Epoch 17/50\n",
      "100000/100000 - 3s - loss: 0.0825 - accuracy: 0.9612 - val_loss: 0.0863 - val_accuracy: 0.9594\n",
      "Epoch 18/50\n",
      "100000/100000 - 3s - loss: 0.0789 - accuracy: 0.9633 - val_loss: 0.0792 - val_accuracy: 0.9629\n",
      "Epoch 19/50\n",
      "100000/100000 - 3s - loss: 0.0734 - accuracy: 0.9660 - val_loss: 0.0772 - val_accuracy: 0.9640\n",
      "Epoch 20/50\n",
      "100000/100000 - 3s - loss: 0.0710 - accuracy: 0.9673 - val_loss: 0.0790 - val_accuracy: 0.9630\n",
      "Epoch 21/50\n",
      "100000/100000 - 3s - loss: 0.0686 - accuracy: 0.9684 - val_loss: 0.0711 - val_accuracy: 0.9678\n",
      "Epoch 22/50\n",
      "100000/100000 - 3s - loss: 0.0648 - accuracy: 0.9705 - val_loss: 0.0748 - val_accuracy: 0.9649\n",
      "Epoch 23/50\n",
      "100000/100000 - 3s - loss: 0.0623 - accuracy: 0.9718 - val_loss: 0.0723 - val_accuracy: 0.9677\n",
      "Epoch 24/50\n",
      "100000/100000 - 3s - loss: 0.0592 - accuracy: 0.9734 - val_loss: 0.0665 - val_accuracy: 0.9704\n",
      "Epoch 25/50\n",
      "100000/100000 - 3s - loss: 0.0566 - accuracy: 0.9748 - val_loss: 0.0649 - val_accuracy: 0.9717\n",
      "Epoch 26/50\n",
      "100000/100000 - 3s - loss: 0.0542 - accuracy: 0.9760 - val_loss: 0.0623 - val_accuracy: 0.9712\n",
      "Epoch 27/50\n",
      "100000/100000 - 3s - loss: 0.0526 - accuracy: 0.9770 - val_loss: 0.0635 - val_accuracy: 0.9703\n",
      "Epoch 28/50\n",
      "100000/100000 - 3s - loss: 0.0494 - accuracy: 0.9784 - val_loss: 0.0587 - val_accuracy: 0.9737\n",
      "Epoch 29/50\n",
      "100000/100000 - 3s - loss: 0.0479 - accuracy: 0.9791 - val_loss: 0.0599 - val_accuracy: 0.9725\n",
      "Epoch 30/50\n",
      "100000/100000 - 3s - loss: 0.0464 - accuracy: 0.9799 - val_loss: 0.0573 - val_accuracy: 0.9745\n",
      "Epoch 31/50\n",
      "100000/100000 - 3s - loss: 0.0454 - accuracy: 0.9804 - val_loss: 0.0528 - val_accuracy: 0.9769\n",
      "Epoch 32/50\n",
      "100000/100000 - 3s - loss: 0.0453 - accuracy: 0.9804 - val_loss: 0.0577 - val_accuracy: 0.9746\n",
      "Epoch 33/50\n",
      "100000/100000 - 4s - loss: 0.0415 - accuracy: 0.9823 - val_loss: 0.0505 - val_accuracy: 0.9786\n",
      "Epoch 34/50\n",
      "100000/100000 - 4s - loss: 0.0403 - accuracy: 0.9829 - val_loss: 0.0519 - val_accuracy: 0.9783\n",
      "Epoch 35/50\n",
      "100000/100000 - 3s - loss: 0.0383 - accuracy: 0.9838 - val_loss: 0.0487 - val_accuracy: 0.9782\n",
      "Epoch 36/50\n",
      "100000/100000 - 4s - loss: 0.0378 - accuracy: 0.9840 - val_loss: 0.0494 - val_accuracy: 0.9788\n",
      "Epoch 37/50\n",
      "100000/100000 - 3s - loss: 0.0385 - accuracy: 0.9838 - val_loss: 0.0521 - val_accuracy: 0.9778\n",
      "Epoch 38/50\n",
      "100000/100000 - 3s - loss: 0.0376 - accuracy: 0.9841 - val_loss: 0.0495 - val_accuracy: 0.9791\n",
      "Epoch 39/50\n",
      "100000/100000 - 3s - loss: 0.0357 - accuracy: 0.9850 - val_loss: 0.0434 - val_accuracy: 0.9817\n",
      "Epoch 40/50\n",
      "100000/100000 - 3s - loss: 0.0338 - accuracy: 0.9859 - val_loss: 0.0425 - val_accuracy: 0.9816\n",
      "Epoch 41/50\n",
      "100000/100000 - 3s - loss: 0.0317 - accuracy: 0.9869 - val_loss: 0.0464 - val_accuracy: 0.9812\n",
      "Epoch 42/50\n",
      "100000/100000 - 3s - loss: 0.0323 - accuracy: 0.9867 - val_loss: 0.0468 - val_accuracy: 0.9791\n",
      "Epoch 43/50\n",
      "100000/100000 - 3s - loss: 0.0311 - accuracy: 0.9871 - val_loss: 0.0451 - val_accuracy: 0.9817\n",
      "Epoch 44/50\n",
      "100000/100000 - 3s - loss: 0.0299 - accuracy: 0.9878 - val_loss: 0.0409 - val_accuracy: 0.9832\n",
      "Epoch 45/50\n",
      "100000/100000 - 4s - loss: 0.0309 - accuracy: 0.9872 - val_loss: 0.0428 - val_accuracy: 0.9827\n",
      "Epoch 46/50\n",
      "100000/100000 - 3s - loss: 0.0295 - accuracy: 0.9879 - val_loss: 0.0414 - val_accuracy: 0.9830\n",
      "Epoch 47/50\n",
      "100000/100000 - 4s - loss: 0.0293 - accuracy: 0.9880 - val_loss: 0.0462 - val_accuracy: 0.9813\n",
      "Epoch 48/50\n",
      "100000/100000 - 3s - loss: 0.0287 - accuracy: 0.9883 - val_loss: 0.0406 - val_accuracy: 0.9832\n",
      "Epoch 49/50\n",
      "100000/100000 - 4s - loss: 0.0281 - accuracy: 0.9884 - val_loss: 0.0421 - val_accuracy: 0.9825\n",
      "Epoch 50/50\n",
      "100000/100000 - 3s - loss: 0.0265 - accuracy: 0.9892 - val_loss: 0.0405 - val_accuracy: 0.9834\n"
     ]
    }
   ],
   "source": [
    "model = tf.keras.models.Sequential([\n",
    "    tf.keras.layers.Dense(300,input_shape = [24], activation = 'relu'),\n",
    "    tf.keras.layers.Dense(300, activation = 'relu'),\n",
    "    tf.keras.layers.Dense(300, activation = 'relu'),\n",
    "    tf.keras.layers.Dense(12, activation = 'sigmoid')\n",
    "])\n",
    "adam = tf.keras.optimizers.Adam(lr = 0.005)\n",
    "model.compile(optimizer = adam, loss = 'binary_crossentropy', metrics = ['accuracy'])\n",
    "\n",
    "history = model.fit(x_train, y_train, batch_size = 1024, epochs = 50, verbose = 2,validation_data = (x_valid, y_valid))\n"
   ]
  },
  {
   "cell_type": "code",
   "execution_count": 6,
   "metadata": {},
   "outputs": [
    {
     "data": {
      "image/png": "[encoded data removed]",
      "text/plain": [
       "<Figure size 432x288 with 1 Axes>"
      ]
     },
     "metadata": {
      "needs_background": "light"
     },
     "output_type": "display_data"
    }
   ],
   "source": [
    "import matplotlib.pyplot as plt\n",
    "plt.figure()\n",
    "acc = history.history['accuracy']\n",
    "loss = history.history['loss']\n",
    "val_acc = history.history['val_accuracy']\n",
    "val_loss = history.history['val_loss']\n",
    "\n",
    "epochs = range(len(acc))\n",
    "plt.plot(epochs, acc, 'r', label = 'Training accuracy')\n",
    "plt.plot(epochs, val_acc, 'b', label = 'Validating accuracy')\n",
    "plt.title('Training and Validating Accuracy')\n",
    "plt.legend()\n",
    "plt.show()"
   ]
  },
  {
   "cell_type": "code",
   "execution_count": 8,
   "metadata": {},
   "outputs": [],
   "source": [
    "predict = model.predict(x_test)"
   ]
  },
  {
   "cell_type": "code",
   "execution_count": 9,
   "metadata": {},
   "outputs": [
    {
     "name": "stdout",
     "output_type": "stream",
     "text": [
      "(2500, 12)\n"
     ]
    }
   ],
   "source": [
    "print(predict.shape)"
   ]
  },
  {
   "cell_type": "code",
   "execution_count": 11,
   "metadata": {},
   "outputs": [
    {
     "name": "stdout",
     "output_type": "stream",
     "text": [
      "2500/1 - 0s - loss: 0.0358 - accuracy: 0.9842\n"
     ]
    },
    {
     "data": {
      "text/plain": [
       "[0.03929256339669228, 0.9842334]"
      ]
     },
     "execution_count": 11,
     "metadata": {},
     "output_type": "execute_result"
    }
   ],
   "source": [
    "model.evaluate(x_test, y_test, verbose = 2)"
   ]
  },
  {
   "cell_type": "code",
   "execution_count": 10,
   "metadata": {},
   "outputs": [],
   "source": [
    "model.save('C:\\\\Users\\\\Wilfred\\\\Desktop\\\\weights\\\\Min_Max\\\\Min_Max_4_6_16_3_model.h5')"
   ]
  },
  {
   "cell_type": "code",
   "execution_count": null,
   "metadata": {},
   "outputs": [],
   "source": []
  }
 ],
 "metadata": {
  "kernelspec": {
   "display_name": "Python 3",
   "language": "python",
   "name": "python3"
  },
  "language_info": {
   "codemirror_mode": {
    "name": "ipython",
    "version": 3
   },
   "file_extension": ".py",
   "mimetype": "text/x-python",
   "name": "python",
   "nbconvert_exporter": "python",
   "pygments_lexer": "ipython3",
   "version": "3.7.5"
  }
 },
 "nbformat": 4,
 "nbformat_minor": 2
}
