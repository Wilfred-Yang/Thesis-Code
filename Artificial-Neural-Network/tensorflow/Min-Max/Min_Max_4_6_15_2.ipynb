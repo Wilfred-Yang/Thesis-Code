{
 "cells": [
  {
   "cell_type": "code",
   "execution_count": 1,
   "metadata": {},
   "outputs": [],
   "source": [
    "import tensorflow as tf\n",
    "import numpy as np\n",
    "import pickle"
   ]
  },
  {
   "cell_type": "code",
   "execution_count": 2,
   "metadata": {},
   "outputs": [
    {
     "name": "stdout",
     "output_type": "stream",
     "text": [
      "(105000, 24)\n"
     ]
    }
   ],
   "source": [
    "with open ('C:\\\\Users\\\\Wilfred\\\\Desktop\\\\Min-Max\\\\input_layer_4_6_15_2.pickle','rb') as file:\n",
    "    input_data = pickle.load(file)\n",
    "print(input_data.shape)\n",
    "permutation = list(np.random.permutation(input_data.shape[0]))\n",
    "input_data = input_data[permutation, :]\n",
    "x_train = input_data[:100000,:]\n",
    "x_valid = input_data[100000:102500, :]\n",
    "x_test = input_data[102500:,:]\n",
    "\n"
   ]
  },
  {
   "cell_type": "code",
   "execution_count": 3,
   "metadata": {},
   "outputs": [
    {
     "name": "stdout",
     "output_type": "stream",
     "text": [
      "(105000, 12)\n"
     ]
    }
   ],
   "source": [
    "with open ('C:\\\\Users\\\\Wilfred\\\\Desktop\\\\Min-Max\\\\output_layer_4_6_15_2.pickle','rb') as file:\n",
    "    output_data = pickle.load(file)\n",
    "    \n",
    "output_data = np.transpose(output_data)\n",
    "output_data = output_data[permutation, :]\n",
    "y_train = output_data[:100000,:]\n",
    "y_valid = output_data[100000:102500, :]\n",
    "y_test = output_data[102500:,:]\n",
    "print(output_data.shape)"
   ]
  },
  {
   "cell_type": "code",
   "execution_count": 4,
   "metadata": {},
   "outputs": [
    {
     "name": "stdout",
     "output_type": "stream",
     "text": [
      "Train on 100000 samples, validate on 2500 samples\n",
      "Epoch 1/30\n",
      "100000/100000 - 5s - loss: 0.4154 - accuracy: 0.8345 - val_loss: 0.3098 - val_accuracy: 0.8614\n",
      "Epoch 2/30\n",
      "100000/100000 - 3s - loss: 0.2563 - accuracy: 0.8851 - val_loss: 0.2256 - val_accuracy: 0.8966\n",
      "Epoch 3/30\n",
      "100000/100000 - 4s - loss: 0.2039 - accuracy: 0.9059 - val_loss: 0.1951 - val_accuracy: 0.9097\n",
      "Epoch 4/30\n",
      "100000/100000 - 3s - loss: 0.1774 - accuracy: 0.9167 - val_loss: 0.1763 - val_accuracy: 0.9157\n",
      "Epoch 5/30\n",
      "100000/100000 - 3s - loss: 0.1655 - accuracy: 0.9219 - val_loss: 0.1617 - val_accuracy: 0.9244\n",
      "Epoch 6/30\n",
      "100000/100000 - 3s - loss: 0.1572 - accuracy: 0.9262 - val_loss: 0.1546 - val_accuracy: 0.9274\n",
      "Epoch 7/30\n",
      "100000/100000 - 3s - loss: 0.1516 - accuracy: 0.9296 - val_loss: 0.1507 - val_accuracy: 0.9306\n",
      "Epoch 8/30\n",
      "100000/100000 - 3s - loss: 0.1455 - accuracy: 0.9330 - val_loss: 0.1454 - val_accuracy: 0.9326\n",
      "Epoch 9/30\n",
      "100000/100000 - 3s - loss: 0.1388 - accuracy: 0.9368 - val_loss: 0.1386 - val_accuracy: 0.9366\n",
      "Epoch 10/30\n",
      "100000/100000 - 3s - loss: 0.1300 - accuracy: 0.9409 - val_loss: 0.1295 - val_accuracy: 0.9402\n",
      "Epoch 11/30\n",
      "100000/100000 - 3s - loss: 0.1217 - accuracy: 0.9441 - val_loss: 0.1239 - val_accuracy: 0.9433\n",
      "Epoch 12/30\n",
      "100000/100000 - 3s - loss: 0.1137 - accuracy: 0.9470 - val_loss: 0.1115 - val_accuracy: 0.9482\n",
      "Epoch 13/30\n",
      "100000/100000 - 3s - loss: 0.1054 - accuracy: 0.9506 - val_loss: 0.1052 - val_accuracy: 0.9507\n",
      "Epoch 14/30\n",
      "100000/100000 - 3s - loss: 0.0987 - accuracy: 0.9536 - val_loss: 0.0989 - val_accuracy: 0.9534\n",
      "Epoch 15/30\n",
      "100000/100000 - 3s - loss: 0.0931 - accuracy: 0.9560 - val_loss: 0.0994 - val_accuracy: 0.9532\n",
      "Epoch 16/30\n",
      "100000/100000 - 3s - loss: 0.0881 - accuracy: 0.9583 - val_loss: 0.0908 - val_accuracy: 0.9576\n",
      "Epoch 17/30\n",
      "100000/100000 - 3s - loss: 0.0840 - accuracy: 0.9602 - val_loss: 0.0851 - val_accuracy: 0.9611\n",
      "Epoch 18/30\n",
      "100000/100000 - 3s - loss: 0.0803 - accuracy: 0.9623 - val_loss: 0.0814 - val_accuracy: 0.9620\n",
      "Epoch 19/30\n",
      "100000/100000 - 3s - loss: 0.0778 - accuracy: 0.9635 - val_loss: 0.0826 - val_accuracy: 0.9615\n",
      "Epoch 20/30\n",
      "100000/100000 - 3s - loss: 0.0744 - accuracy: 0.9654 - val_loss: 0.0820 - val_accuracy: 0.9618\n",
      "Epoch 21/30\n",
      "100000/100000 - 3s - loss: 0.0704 - accuracy: 0.9673 - val_loss: 0.0720 - val_accuracy: 0.9655\n",
      "Epoch 22/30\n",
      "100000/100000 - 4s - loss: 0.0680 - accuracy: 0.9686 - val_loss: 0.0710 - val_accuracy: 0.9670\n",
      "Epoch 23/30\n",
      "100000/100000 - 4s - loss: 0.0664 - accuracy: 0.9694 - val_loss: 0.0738 - val_accuracy: 0.9656\n",
      "Epoch 24/30\n",
      "100000/100000 - 4s - loss: 0.0624 - accuracy: 0.9717 - val_loss: 0.0719 - val_accuracy: 0.9673\n",
      "Epoch 25/30\n",
      "100000/100000 - 4s - loss: 0.0622 - accuracy: 0.9716 - val_loss: 0.0660 - val_accuracy: 0.9695\n",
      "Epoch 26/30\n",
      "100000/100000 - 3s - loss: 0.0578 - accuracy: 0.9740 - val_loss: 0.0633 - val_accuracy: 0.9718\n",
      "Epoch 27/30\n",
      "100000/100000 - 3s - loss: 0.0565 - accuracy: 0.9746 - val_loss: 0.0606 - val_accuracy: 0.9723\n",
      "Epoch 28/30\n",
      "100000/100000 - 3s - loss: 0.0550 - accuracy: 0.9754 - val_loss: 0.0597 - val_accuracy: 0.9730\n",
      "Epoch 29/30\n",
      "100000/100000 - 3s - loss: 0.0542 - accuracy: 0.9757 - val_loss: 0.0596 - val_accuracy: 0.9732\n",
      "Epoch 30/30\n",
      "100000/100000 - 4s - loss: 0.0527 - accuracy: 0.9766 - val_loss: 0.0637 - val_accuracy: 0.9717\n"
     ]
    }
   ],
   "source": [
    "model = tf.keras.models.Sequential([\n",
    "    tf.keras.layers.Dense(300,input_shape = [24], activation = 'relu'),\n",
    "    tf.keras.layers.Dense(300, activation = 'relu'),\n",
    "    tf.keras.layers.Dense(300, activation = 'relu'),\n",
    "    tf.keras.layers.Dense(12, activation = 'sigmoid')\n",
    "])\n",
    "adam = tf.keras.optimizers.Adam(lr = 0.005)\n",
    "model.compile(optimizer = adam, loss = 'binary_crossentropy', metrics = ['accuracy'])\n",
    "\n",
    "history = model.fit(x_train, y_train, batch_size = 1024, epochs = 30, verbose = 2,validation_data = (x_valid, y_valid))\n"
   ]
  },
  {
   "cell_type": "code",
   "execution_count": 5,
   "metadata": {},
   "outputs": [
    {
     "data": {
      "text/plain": [
       "<Figure size 640x480 with 1 Axes>"
      ]
     },
     "metadata": {},
     "output_type": "display_data"
    }
   ],
   "source": [
    "import matplotlib.pyplot as plt\n",
    "plt.figure()\n",
    "acc = history.history['accuracy']\n",
    "loss = history.history['loss']\n",
    "val_acc = history.history['val_accuracy']\n",
    "val_loss = history.history['val_loss']\n",
    "\n",
    "epochs = range(len(acc))\n",
    "plt.plot(epochs, acc, 'r', label = 'Training accuracy')\n",
    "plt.plot(epochs, val_acc, 'b', label = 'Validating accuracy')\n",
    "plt.title('Training and Validating Accuracy')\n",
    "plt.legend()\n",
    "plt.show()"
   ]
  },
  {
   "cell_type": "code",
   "execution_count": 6,
   "metadata": {},
   "outputs": [
    {
     "name": "stdout",
     "output_type": "stream",
     "text": [
      "2500/1 - 0s - loss: 0.0451 - accuracy: 0.9716\n"
     ]
    },
    {
     "data": {
      "text/plain": [
       "[0.06318550928533077, 0.9715998]"
      ]
     },
     "execution_count": 6,
     "metadata": {},
     "output_type": "execute_result"
    }
   ],
   "source": [
    "model.evaluate(x_test, y_test, verbose = 2)"
   ]
  },
  {
   "cell_type": "code",
   "execution_count": 7,
   "metadata": {},
   "outputs": [],
   "source": [
    "model.save('C:\\\\Users\\\\Wilfred\\\\Desktop\\\\weights\\\\Min_Max\\\\Min_Max_4_6_15_2_model.h5')"
   ]
  },
  {
   "cell_type": "code",
   "execution_count": null,
   "metadata": {},
   "outputs": [],
   "source": []
  }
 ],
 "metadata": {
  "kernelspec": {
   "display_name": "Python 3",
   "language": "python",
   "name": "python3"
  },
  "language_info": {
   "codemirror_mode": {
    "name": "ipython",
    "version": 3
   },
   "file_extension": ".py",
   "mimetype": "text/x-python",
   "name": "python",
   "nbconvert_exporter": "python",
   "pygments_lexer": "ipython3",
   "version": "3.7.5"
  }
 },
 "nbformat": 4,
 "nbformat_minor": 2
}
