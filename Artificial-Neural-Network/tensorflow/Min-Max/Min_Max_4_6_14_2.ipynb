{
 "cells": [
  {
   "cell_type": "code",
   "execution_count": 1,
   "metadata": {},
   "outputs": [],
   "source": [
    "import tensorflow as tf\n",
    "import numpy as np\n",
    "import pickle"
   ]
  },
  {
   "cell_type": "code",
   "execution_count": 2,
   "metadata": {},
   "outputs": [
    {
     "name": "stdout",
     "output_type": "stream",
     "text": [
      "(105000, 24)\n"
     ]
    }
   ],
   "source": [
    "with open ('C:\\\\Users\\\\Wilfred\\\\Desktop\\\\Min-Max\\\\input_layer_4_6_14_2.pickle','rb') as file:\n",
    "    input_data = pickle.load(file)\n",
    "print(input_data.shape)\n",
    "\n",
    "x_train = input_data[:100000,:]\n",
    "x_valid = input_data[100000:102500, :]\n",
    "x_test = input_data[102500:,:]\n",
    "\n"
   ]
  },
  {
   "cell_type": "code",
   "execution_count": 3,
   "metadata": {},
   "outputs": [
    {
     "name": "stdout",
     "output_type": "stream",
     "text": [
      "(105000, 12)\n"
     ]
    }
   ],
   "source": [
    "with open ('C:\\\\Users\\\\Wilfred\\\\Desktop\\\\Min-Max\\\\output_layer_4_6_14_2.pickle','rb') as file:\n",
    "    output_data = pickle.load(file)\n",
    "output_data = np.transpose(output_data)\n",
    "y_train = output_data[:100000,:]\n",
    "y_valid = output_data[100000:102500, :]\n",
    "y_test = output_data[102500:,:]\n",
    "print(output_data.shape)"
   ]
  },
  {
   "cell_type": "code",
   "execution_count": 4,
   "metadata": {},
   "outputs": [
    {
     "name": "stdout",
     "output_type": "stream",
     "text": [
      "Train on 100000 samples, validate on 2500 samples\n",
      "Epoch 1/40\n",
      "100000/100000 - 5s - loss: 0.4161 - accuracy: 0.8362 - val_loss: 0.3099 - val_accuracy: 0.8642\n",
      "Epoch 2/40\n",
      "100000/100000 - 4s - loss: 0.2512 - accuracy: 0.8894 - val_loss: 0.2146 - val_accuracy: 0.9049\n",
      "Epoch 3/40\n",
      "100000/100000 - 3s - loss: 0.1977 - accuracy: 0.9102 - val_loss: 0.1896 - val_accuracy: 0.9131\n",
      "Epoch 4/40\n",
      "100000/100000 - 3s - loss: 0.1792 - accuracy: 0.9173 - val_loss: 0.1780 - val_accuracy: 0.9197\n",
      "Epoch 5/40\n",
      "100000/100000 - 3s - loss: 0.1679 - accuracy: 0.9225 - val_loss: 0.1689 - val_accuracy: 0.9228\n",
      "Epoch 6/40\n",
      "100000/100000 - 3s - loss: 0.1610 - accuracy: 0.9261 - val_loss: 0.1600 - val_accuracy: 0.9266\n",
      "Epoch 7/40\n",
      "100000/100000 - 3s - loss: 0.1538 - accuracy: 0.9298 - val_loss: 0.1544 - val_accuracy: 0.9293\n",
      "Epoch 8/40\n",
      "100000/100000 - 3s - loss: 0.1462 - accuracy: 0.9338 - val_loss: 0.1442 - val_accuracy: 0.9336\n",
      "Epoch 9/40\n",
      "100000/100000 - 3s - loss: 0.1340 - accuracy: 0.9388 - val_loss: 0.1345 - val_accuracy: 0.9383\n",
      "Epoch 10/40\n",
      "100000/100000 - 3s - loss: 0.1239 - accuracy: 0.9425 - val_loss: 0.1287 - val_accuracy: 0.9396\n",
      "Epoch 11/40\n",
      "100000/100000 - 3s - loss: 0.1141 - accuracy: 0.9463 - val_loss: 0.1182 - val_accuracy: 0.9450\n",
      "Epoch 12/40\n",
      "100000/100000 - 3s - loss: 0.1058 - accuracy: 0.9501 - val_loss: 0.1103 - val_accuracy: 0.9484\n",
      "Epoch 13/40\n",
      "100000/100000 - 3s - loss: 0.0986 - accuracy: 0.9534 - val_loss: 0.1023 - val_accuracy: 0.9507\n",
      "Epoch 14/40\n",
      "100000/100000 - 3s - loss: 0.0944 - accuracy: 0.9556 - val_loss: 0.1027 - val_accuracy: 0.9517\n",
      "Epoch 15/40\n",
      "100000/100000 - 3s - loss: 0.0904 - accuracy: 0.9576 - val_loss: 0.0964 - val_accuracy: 0.9544\n",
      "Epoch 16/40\n",
      "100000/100000 - 4s - loss: 0.0859 - accuracy: 0.9599 - val_loss: 0.0947 - val_accuracy: 0.9547\n",
      "Epoch 17/40\n",
      "100000/100000 - 4s - loss: 0.0813 - accuracy: 0.9622 - val_loss: 0.0891 - val_accuracy: 0.9586\n",
      "Epoch 18/40\n",
      "100000/100000 - 4s - loss: 0.0780 - accuracy: 0.9642 - val_loss: 0.0876 - val_accuracy: 0.9589\n",
      "Epoch 19/40\n",
      "100000/100000 - 4s - loss: 0.0757 - accuracy: 0.9653 - val_loss: 0.0847 - val_accuracy: 0.9625\n",
      "Epoch 20/40\n",
      "100000/100000 - 4s - loss: 0.0727 - accuracy: 0.9669 - val_loss: 0.0824 - val_accuracy: 0.9624\n",
      "Epoch 21/40\n",
      "100000/100000 - 3s - loss: 0.0686 - accuracy: 0.9690 - val_loss: 0.0772 - val_accuracy: 0.9665\n",
      "Epoch 22/40\n",
      "100000/100000 - 3s - loss: 0.0663 - accuracy: 0.9703 - val_loss: 0.0778 - val_accuracy: 0.9653\n",
      "Epoch 23/40\n",
      "100000/100000 - 4s - loss: 0.0632 - accuracy: 0.9716 - val_loss: 0.0739 - val_accuracy: 0.9666\n",
      "Epoch 24/40\n",
      "100000/100000 - 4s - loss: 0.0615 - accuracy: 0.9725 - val_loss: 0.0712 - val_accuracy: 0.9685\n",
      "Epoch 25/40\n",
      "100000/100000 - 4s - loss: 0.0603 - accuracy: 0.9734 - val_loss: 0.0708 - val_accuracy: 0.9684\n",
      "Epoch 26/40\n",
      "100000/100000 - 4s - loss: 0.0558 - accuracy: 0.9754 - val_loss: 0.0654 - val_accuracy: 0.9714\n",
      "Epoch 27/40\n",
      "100000/100000 - 4s - loss: 0.0543 - accuracy: 0.9762 - val_loss: 0.0659 - val_accuracy: 0.9715\n",
      "Epoch 28/40\n",
      "100000/100000 - 4s - loss: 0.0528 - accuracy: 0.9770 - val_loss: 0.0635 - val_accuracy: 0.9718\n",
      "Epoch 29/40\n",
      "100000/100000 - 4s - loss: 0.0502 - accuracy: 0.9783 - val_loss: 0.0615 - val_accuracy: 0.9730\n",
      "Epoch 30/40\n",
      "100000/100000 - 4s - loss: 0.0484 - accuracy: 0.9792 - val_loss: 0.0597 - val_accuracy: 0.9746\n",
      "Epoch 31/40\n",
      "100000/100000 - 4s - loss: 0.0481 - accuracy: 0.9794 - val_loss: 0.0605 - val_accuracy: 0.9748\n",
      "Epoch 32/40\n",
      "100000/100000 - 4s - loss: 0.0439 - accuracy: 0.9814 - val_loss: 0.0551 - val_accuracy: 0.9768\n",
      "Epoch 33/40\n",
      "100000/100000 - 4s - loss: 0.0451 - accuracy: 0.9808 - val_loss: 0.0582 - val_accuracy: 0.9752\n",
      "Epoch 34/40\n",
      "100000/100000 - 4s - loss: 0.0443 - accuracy: 0.9810 - val_loss: 0.0554 - val_accuracy: 0.9775\n",
      "Epoch 35/40\n",
      "100000/100000 - 4s - loss: 0.0425 - accuracy: 0.9820 - val_loss: 0.0524 - val_accuracy: 0.9789\n",
      "Epoch 36/40\n",
      "100000/100000 - 4s - loss: 0.0396 - accuracy: 0.9835 - val_loss: 0.0541 - val_accuracy: 0.9784\n",
      "Epoch 37/40\n",
      "100000/100000 - 4s - loss: 0.0394 - accuracy: 0.9835 - val_loss: 0.0567 - val_accuracy: 0.9764\n",
      "Epoch 38/40\n",
      "100000/100000 - 4s - loss: 0.0389 - accuracy: 0.9837 - val_loss: 0.0579 - val_accuracy: 0.9769\n",
      "Epoch 39/40\n",
      "100000/100000 - 4s - loss: 0.0391 - accuracy: 0.9838 - val_loss: 0.0516 - val_accuracy: 0.9797\n",
      "Epoch 40/40\n",
      "100000/100000 - 4s - loss: 0.0376 - accuracy: 0.9844 - val_loss: 0.0522 - val_accuracy: 0.9781\n"
     ]
    }
   ],
   "source": [
    "model = tf.keras.models.Sequential([\n",
    "    tf.keras.layers.Dense(300,input_shape = [24], activation = 'relu'),\n",
    "    tf.keras.layers.Dense(300, activation = 'relu'),\n",
    "    tf.keras.layers.Dense(300, activation = 'relu'),\n",
    "    tf.keras.layers.Dense(12, activation = 'sigmoid')\n",
    "])\n",
    "adam = tf.keras.optimizers.Adam(lr = 0.005)\n",
    "model.compile(optimizer = adam, loss = 'binary_crossentropy', metrics = ['accuracy'])\n",
    "\n",
    "history = model.fit(x_train, y_train, batch_size = 1024, epochs = 40, verbose = 2,validation_data = (x_valid, y_valid))\n"
   ]
  },
  {
   "cell_type": "code",
   "execution_count": 6,
   "metadata": {},
   "outputs": [
    {
     "data": {
      "image/png": "[encoded data removed]",
      "text/plain": [
       "<Figure size 432x288 with 1 Axes>"
      ]
     },
     "metadata": {
      "needs_background": "light"
     },
     "output_type": "display_data"
    }
   ],
   "source": [
    "import matplotlib.pyplot as plt\n",
    "plt.figure()\n",
    "acc = history.history['accuracy']\n",
    "loss = history.history['loss']\n",
    "val_acc = history.history['val_accuracy']\n",
    "val_loss = history.history['val_loss']\n",
    "\n",
    "epochs = range(len(acc))\n",
    "plt.plot(epochs, acc, 'r', label = 'Training accuracy')\n",
    "plt.plot(epochs, val_acc, 'b', label = 'Validating accuracy')\n",
    "plt.title('Training and Validating Accuracy')\n",
    "plt.legend()\n",
    "plt.show()"
   ]
  },
  {
   "cell_type": "code",
   "execution_count": 7,
   "metadata": {},
   "outputs": [
    {
     "name": "stdout",
     "output_type": "stream",
     "text": [
      "2500/1 - 0s - loss: 0.0788 - accuracy: 0.9802\n"
     ]
    },
    {
     "data": {
      "text/plain": [
       "[0.048626368880271914, 0.9802001]"
      ]
     },
     "execution_count": 7,
     "metadata": {},
     "output_type": "execute_result"
    }
   ],
   "source": [
    "model.evaluate(x_test, y_test, verbose = 2)"
   ]
  },
  {
   "cell_type": "code",
   "execution_count": 8,
   "metadata": {},
   "outputs": [],
   "source": [
    "model.save('C:\\\\Users\\\\Wilfred\\\\Desktop\\\\weights\\\\Min_Max\\\\Min_Max_4_6_14_2_model.h5')"
   ]
  },
  {
   "cell_type": "code",
   "execution_count": null,
   "metadata": {},
   "outputs": [],
   "source": []
  }
 ],
 "metadata": {
  "kernelspec": {
   "display_name": "Python 3",
   "language": "python",
   "name": "python3"
  },
  "language_info": {
   "codemirror_mode": {
    "name": "ipython",
    "version": 3
   },
   "file_extension": ".py",
   "mimetype": "text/x-python",
   "name": "python",
   "nbconvert_exporter": "python",
   "pygments_lexer": "ipython3",
   "version": "3.7.5"
  }
 },
 "nbformat": 4,
 "nbformat_minor": 2
}
