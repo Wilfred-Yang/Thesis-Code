{
 "cells": [
  {
   "cell_type": "code",
   "execution_count": 1,
   "metadata": {},
   "outputs": [],
   "source": [
    "import tensorflow as tf\n",
    "import numpy as np\n",
    "import pickle"
   ]
  },
  {
   "cell_type": "code",
   "execution_count": 2,
   "metadata": {},
   "outputs": [
    {
     "name": "stdout",
     "output_type": "stream",
     "text": [
      "(105000, 24)\n"
     ]
    }
   ],
   "source": [
    "with open ('C:\\\\Users\\\\Wilfred\\\\Desktop\\\\Min-Max\\\\input_layer_4_6_13_4.pickle','rb') as file:\n",
    "    input_data = pickle.load(file)\n",
    "print(input_data.shape)\n",
    "\n",
    "x_train = input_data[:100000,:]\n",
    "x_valid = input_data[100000:102500, :]\n",
    "x_test = input_data[102500:,:]\n",
    "\n"
   ]
  },
  {
   "cell_type": "code",
   "execution_count": 3,
   "metadata": {},
   "outputs": [
    {
     "name": "stdout",
     "output_type": "stream",
     "text": [
      "(105000, 12)\n"
     ]
    }
   ],
   "source": [
    "with open ('C:\\\\Users\\\\Wilfred\\\\Desktop\\\\Min-Max\\\\output_layer_4_6_13_4.pickle','rb') as file:\n",
    "    output_data = pickle.load(file)\n",
    "output_data = np.transpose(output_data)\n",
    "y_train = output_data[:100000,:]\n",
    "y_valid = output_data[100000:102500, :]\n",
    "y_test = output_data[102500:,:]\n",
    "print(output_data.shape)"
   ]
  },
  {
   "cell_type": "code",
   "execution_count": 4,
   "metadata": {},
   "outputs": [
    {
     "name": "stdout",
     "output_type": "stream",
     "text": [
      "Train on 100000 samples, validate on 2500 samples\n",
      "Epoch 1/50\n",
      "100000/100000 - 5s - loss: 0.2446 - accuracy: 0.9004 - val_loss: 0.2018 - val_accuracy: 0.9154\n",
      "Epoch 2/50\n",
      "100000/100000 - 4s - loss: 0.1935 - accuracy: 0.9158 - val_loss: 0.1859 - val_accuracy: 0.9174\n",
      "Epoch 3/50\n",
      "100000/100000 - 4s - loss: 0.1744 - accuracy: 0.9224 - val_loss: 0.1657 - val_accuracy: 0.9268\n",
      "Epoch 4/50\n",
      "100000/100000 - 4s - loss: 0.1526 - accuracy: 0.9311 - val_loss: 0.1462 - val_accuracy: 0.9324\n",
      "Epoch 5/50\n",
      "100000/100000 - 4s - loss: 0.1338 - accuracy: 0.9377 - val_loss: 0.1280 - val_accuracy: 0.9396\n",
      "Epoch 6/50\n",
      "100000/100000 - 4s - loss: 0.1174 - accuracy: 0.9442 - val_loss: 0.1177 - val_accuracy: 0.9442\n",
      "Epoch 7/50\n",
      "100000/100000 - 4s - loss: 0.1042 - accuracy: 0.9507 - val_loss: 0.1021 - val_accuracy: 0.9515\n",
      "Epoch 8/50\n",
      "100000/100000 - 4s - loss: 0.0948 - accuracy: 0.9555 - val_loss: 0.0939 - val_accuracy: 0.9562\n",
      "Epoch 9/50\n",
      "100000/100000 - 4s - loss: 0.0866 - accuracy: 0.9599 - val_loss: 0.0871 - val_accuracy: 0.9585\n",
      "Epoch 10/50\n",
      "100000/100000 - 4s - loss: 0.0794 - accuracy: 0.9637 - val_loss: 0.0850 - val_accuracy: 0.9616\n",
      "Epoch 11/50\n",
      "100000/100000 - 4s - loss: 0.0733 - accuracy: 0.9668 - val_loss: 0.0802 - val_accuracy: 0.9630\n",
      "Epoch 12/50\n",
      "100000/100000 - 4s - loss: 0.0672 - accuracy: 0.9700 - val_loss: 0.0741 - val_accuracy: 0.9673\n",
      "Epoch 13/50\n",
      "100000/100000 - 3s - loss: 0.0636 - accuracy: 0.9719 - val_loss: 0.0688 - val_accuracy: 0.9690\n",
      "Epoch 14/50\n",
      "100000/100000 - 3s - loss: 0.0588 - accuracy: 0.9743 - val_loss: 0.0673 - val_accuracy: 0.9694\n",
      "Epoch 15/50\n",
      "100000/100000 - 3s - loss: 0.0554 - accuracy: 0.9760 - val_loss: 0.0651 - val_accuracy: 0.9718\n",
      "Epoch 16/50\n",
      "100000/100000 - 4s - loss: 0.0510 - accuracy: 0.9782 - val_loss: 0.0614 - val_accuracy: 0.9729\n",
      "Epoch 17/50\n",
      "100000/100000 - 4s - loss: 0.0487 - accuracy: 0.9792 - val_loss: 0.0577 - val_accuracy: 0.9755\n",
      "Epoch 18/50\n",
      "100000/100000 - 4s - loss: 0.0454 - accuracy: 0.9808 - val_loss: 0.0540 - val_accuracy: 0.9770\n",
      "Epoch 19/50\n",
      "100000/100000 - 4s - loss: 0.0429 - accuracy: 0.9821 - val_loss: 0.0565 - val_accuracy: 0.9755\n",
      "Epoch 20/50\n",
      "100000/100000 - 4s - loss: 0.0408 - accuracy: 0.9830 - val_loss: 0.0516 - val_accuracy: 0.9786\n",
      "Epoch 21/50\n",
      "100000/100000 - 4s - loss: 0.0369 - accuracy: 0.9848 - val_loss: 0.0502 - val_accuracy: 0.9783\n",
      "Epoch 22/50\n",
      "100000/100000 - 4s - loss: 0.0349 - accuracy: 0.9857 - val_loss: 0.0494 - val_accuracy: 0.9789\n",
      "Epoch 23/50\n",
      "100000/100000 - 4s - loss: 0.0324 - accuracy: 0.9868 - val_loss: 0.0474 - val_accuracy: 0.9806\n",
      "Epoch 24/50\n",
      "100000/100000 - 4s - loss: 0.0310 - accuracy: 0.9874 - val_loss: 0.0462 - val_accuracy: 0.9811\n",
      "Epoch 25/50\n",
      "100000/100000 - 4s - loss: 0.0304 - accuracy: 0.9876 - val_loss: 0.0418 - val_accuracy: 0.9836\n",
      "Epoch 26/50\n",
      "100000/100000 - 4s - loss: 0.0289 - accuracy: 0.9883 - val_loss: 0.0442 - val_accuracy: 0.9827\n",
      "Epoch 27/50\n",
      "100000/100000 - 4s - loss: 0.0265 - accuracy: 0.9894 - val_loss: 0.0437 - val_accuracy: 0.9821\n",
      "Epoch 28/50\n",
      "100000/100000 - 4s - loss: 0.0265 - accuracy: 0.9895 - val_loss: 0.0428 - val_accuracy: 0.9824\n",
      "Epoch 29/50\n",
      "100000/100000 - 4s - loss: 0.0243 - accuracy: 0.9903 - val_loss: 0.0407 - val_accuracy: 0.9841\n",
      "Epoch 30/50\n",
      "100000/100000 - 4s - loss: 0.0218 - accuracy: 0.9914 - val_loss: 0.0404 - val_accuracy: 0.9853\n",
      "Epoch 31/50\n",
      "100000/100000 - 3s - loss: 0.0223 - accuracy: 0.9911 - val_loss: 0.0437 - val_accuracy: 0.9830\n",
      "Epoch 32/50\n",
      "100000/100000 - 3s - loss: 0.0218 - accuracy: 0.9914 - val_loss: 0.0392 - val_accuracy: 0.9844\n",
      "Epoch 33/50\n",
      "100000/100000 - 3s - loss: 0.0216 - accuracy: 0.9915 - val_loss: 0.0426 - val_accuracy: 0.9833\n",
      "Epoch 34/50\n",
      "100000/100000 - 3s - loss: 0.0203 - accuracy: 0.9920 - val_loss: 0.0406 - val_accuracy: 0.9851\n",
      "Epoch 35/50\n",
      "100000/100000 - 3s - loss: 0.0202 - accuracy: 0.9920 - val_loss: 0.0408 - val_accuracy: 0.9844\n",
      "Epoch 36/50\n",
      "100000/100000 - 3s - loss: 0.0197 - accuracy: 0.9924 - val_loss: 0.0456 - val_accuracy: 0.9834\n",
      "Epoch 37/50\n",
      "100000/100000 - 3s - loss: 0.0178 - accuracy: 0.9931 - val_loss: 0.0412 - val_accuracy: 0.9843\n",
      "Epoch 38/50\n",
      "100000/100000 - 3s - loss: 0.0180 - accuracy: 0.9930 - val_loss: 0.0399 - val_accuracy: 0.9851\n",
      "Epoch 39/50\n",
      "100000/100000 - 3s - loss: 0.0192 - accuracy: 0.9924 - val_loss: 0.0379 - val_accuracy: 0.9862\n",
      "Epoch 40/50\n",
      "100000/100000 - 3s - loss: 0.0159 - accuracy: 0.9939 - val_loss: 0.0362 - val_accuracy: 0.9875\n",
      "Epoch 41/50\n",
      "100000/100000 - 3s - loss: 0.0159 - accuracy: 0.9939 - val_loss: 0.0362 - val_accuracy: 0.9868\n",
      "Epoch 42/50\n",
      "100000/100000 - 3s - loss: 0.0161 - accuracy: 0.9938 - val_loss: 0.0423 - val_accuracy: 0.9868\n",
      "Epoch 43/50\n",
      "100000/100000 - 3s - loss: 0.0147 - accuracy: 0.9945 - val_loss: 0.0491 - val_accuracy: 0.9840\n",
      "Epoch 44/50\n",
      "100000/100000 - 3s - loss: 0.0169 - accuracy: 0.9936 - val_loss: 0.0398 - val_accuracy: 0.9868\n",
      "Epoch 45/50\n",
      "100000/100000 - 3s - loss: 0.0155 - accuracy: 0.9941 - val_loss: 0.0390 - val_accuracy: 0.9864\n",
      "Epoch 46/50\n",
      "100000/100000 - 3s - loss: 0.0160 - accuracy: 0.9939 - val_loss: 0.0423 - val_accuracy: 0.9864\n",
      "Epoch 47/50\n",
      "100000/100000 - 3s - loss: 0.0157 - accuracy: 0.9940 - val_loss: 0.0421 - val_accuracy: 0.9863\n",
      "Epoch 48/50\n",
      "100000/100000 - 3s - loss: 0.0158 - accuracy: 0.9940 - val_loss: 0.0418 - val_accuracy: 0.9872\n",
      "Epoch 49/50\n",
      "100000/100000 - 3s - loss: 0.0152 - accuracy: 0.9942 - val_loss: 0.0412 - val_accuracy: 0.9867\n",
      "Epoch 50/50\n",
      "100000/100000 - 3s - loss: 0.0136 - accuracy: 0.9949 - val_loss: 0.0446 - val_accuracy: 0.9865\n"
     ]
    }
   ],
   "source": [
    "model = tf.keras.models.Sequential([\n",
    "    tf.keras.layers.Dense(300,input_shape = [24], activation = 'relu'),\n",
    "    tf.keras.layers.Dense(300, activation = 'relu'),\n",
    "    tf.keras.layers.Dense(300, activation = 'relu'),\n",
    "    tf.keras.layers.Dense(12, activation = 'sigmoid')\n",
    "])\n",
    "adam = tf.keras.optimizers.Adam(lr = 0.005)\n",
    "model.compile(optimizer = adam, loss = 'binary_crossentropy', metrics = ['accuracy'])\n",
    "\n",
    "history = model.fit(x_train, y_train, batch_size = 1024, epochs = 50, verbose = 2,validation_data = (x_valid, y_valid))\n"
   ]
  },
  {
   "cell_type": "code",
   "execution_count": 6,
   "metadata": {},
   "outputs": [
    {
     "data": {
      "image/png": "[encoded data removed]",
      "text/plain": [
       "<Figure size 432x288 with 1 Axes>"
      ]
     },
     "metadata": {
      "needs_background": "light"
     },
     "output_type": "display_data"
    }
   ],
   "source": [
    "import matplotlib.pyplot as plt\n",
    "plt.figure()\n",
    "acc = history.history['accuracy']\n",
    "loss = history.history['loss']\n",
    "val_acc = history.history['val_accuracy']\n",
    "val_loss = history.history['val_loss']\n",
    "\n",
    "epochs = range(len(acc))\n",
    "plt.plot(epochs, acc, 'r', label = 'Training accuracy')\n",
    "plt.plot(epochs, val_acc, 'b', label = 'Validating accuracy')\n",
    "plt.title('Training and Validating Accuracy')\n",
    "plt.legend()\n",
    "plt.show()"
   ]
  },
  {
   "cell_type": "code",
   "execution_count": 7,
   "metadata": {},
   "outputs": [
    {
     "name": "stdout",
     "output_type": "stream",
     "text": [
      "2500/1 - 0s - loss: 0.0279 - accuracy: 0.9833\n"
     ]
    },
    {
     "data": {
      "text/plain": [
       "[0.055249177204445006, 0.9833333]"
      ]
     },
     "execution_count": 7,
     "metadata": {},
     "output_type": "execute_result"
    }
   ],
   "source": [
    "model.evaluate(x_test, y_test, verbose = 2)"
   ]
  },
  {
   "cell_type": "code",
   "execution_count": 8,
   "metadata": {},
   "outputs": [],
   "source": [
    "model.save('C:\\\\Users\\\\Wilfred\\\\Desktop\\\\weights\\\\Min_Max\\\\Min_Max_4_6_13_4_model.h5')"
   ]
  },
  {
   "cell_type": "code",
   "execution_count": null,
   "metadata": {},
   "outputs": [],
   "source": []
  }
 ],
 "metadata": {
  "kernelspec": {
   "display_name": "Python 3",
   "language": "python",
   "name": "python3"
  },
  "language_info": {
   "codemirror_mode": {
    "name": "ipython",
    "version": 3
   },
   "file_extension": ".py",
   "mimetype": "text/x-python",
   "name": "python",
   "nbconvert_exporter": "python",
   "pygments_lexer": "ipython3",
   "version": "3.7.5"
  }
 },
 "nbformat": 4,
 "nbformat_minor": 2
}
