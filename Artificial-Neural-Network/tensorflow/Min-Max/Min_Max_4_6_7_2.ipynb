{
 "cells": [
  {
   "cell_type": "code",
   "execution_count": 2,
   "metadata": {},
   "outputs": [],
   "source": [
    "import tensorflow as tf\n",
    "import numpy as np\n",
    "import pickle"
   ]
  },
  {
   "cell_type": "code",
   "execution_count": 7,
   "metadata": {},
   "outputs": [
    {
     "name": "stdout",
     "output_type": "stream",
     "text": [
      "(976320, 24)\n"
     ]
    }
   ],
   "source": [
    "with open ('C:\\\\Users\\\\Wilfred\\\\Desktop\\\\Min-Max\\\\input_layer_4_6_7_2.pickle','rb') as file:\n",
    "    input_data = pickle.load(file)\n",
    "print(input_data.shape)\n",
    "\n",
    "x_train = input_data[:971320,:]\n",
    "x_test = input_data[971320:, :]\n"
   ]
  },
  {
   "cell_type": "code",
   "execution_count": 8,
   "metadata": {},
   "outputs": [
    {
     "name": "stdout",
     "output_type": "stream",
     "text": [
      "(976320, 12)\n"
     ]
    }
   ],
   "source": [
    "with open ('C:\\\\Users\\\\Wilfred\\\\Desktop\\\\Min-Max\\\\output_layer_4_6_7_2.pickle','rb') as file:\n",
    "    output_data = pickle.load(file)\n",
    "output_data = np.transpose(output_data)\n",
    "y_train = output_data[:971320,:]\n",
    "y_test = output_data[971320:, :]\n",
    "print(output_data.shape)"
   ]
  },
  {
   "cell_type": "code",
   "execution_count": 9,
   "metadata": {},
   "outputs": [
    {
     "name": "stdout",
     "output_type": "stream",
     "text": [
      "Train on 971320 samples, validate on 5000 samples\n",
      "Epoch 1/20\n",
      "971320/971320 - 13s - loss: 0.2203 - accuracy: 0.9070 - val_loss: 0.2095 - val_accuracy: 0.9166\n",
      "Epoch 2/20\n",
      "971320/971320 - 13s - loss: 0.1626 - accuracy: 0.9236 - val_loss: 0.1757 - val_accuracy: 0.9255\n",
      "Epoch 3/20\n",
      "971320/971320 - 13s - loss: 0.1325 - accuracy: 0.9370 - val_loss: 0.1699 - val_accuracy: 0.9265\n",
      "Epoch 4/20\n",
      "971320/971320 - 13s - loss: 0.1121 - accuracy: 0.9471 - val_loss: 0.1570 - val_accuracy: 0.9327\n",
      "Epoch 5/20\n",
      "971320/971320 - 13s - loss: 0.0986 - accuracy: 0.9532 - val_loss: 0.1423 - val_accuracy: 0.9351\n",
      "Epoch 6/20\n",
      "971320/971320 - 13s - loss: 0.0894 - accuracy: 0.9569 - val_loss: 0.1349 - val_accuracy: 0.9407\n",
      "Epoch 7/20\n",
      "971320/971320 - 12s - loss: 0.0826 - accuracy: 0.9594 - val_loss: 0.1348 - val_accuracy: 0.9395\n",
      "Epoch 8/20\n",
      "971320/971320 - 10s - loss: 0.0774 - accuracy: 0.9613 - val_loss: 0.1380 - val_accuracy: 0.9412\n",
      "Epoch 9/20\n",
      "971320/971320 - 10s - loss: 0.0730 - accuracy: 0.9630 - val_loss: 0.1351 - val_accuracy: 0.9420\n",
      "Epoch 10/20\n",
      "971320/971320 - 12s - loss: 0.0694 - accuracy: 0.9642 - val_loss: 0.1394 - val_accuracy: 0.9409\n",
      "Epoch 11/20\n",
      "971320/971320 - 12s - loss: 0.0665 - accuracy: 0.9653 - val_loss: 0.1578 - val_accuracy: 0.9402\n",
      "Epoch 12/20\n",
      "971320/971320 - 11s - loss: 0.0641 - accuracy: 0.9661 - val_loss: 0.1580 - val_accuracy: 0.9419\n",
      "Epoch 13/20\n",
      "971320/971320 - 10s - loss: 0.0622 - accuracy: 0.9668 - val_loss: 0.1584 - val_accuracy: 0.9423\n",
      "Epoch 14/20\n",
      "971320/971320 - 10s - loss: 0.0610 - accuracy: 0.9672 - val_loss: 0.1624 - val_accuracy: 0.9428\n",
      "Epoch 15/20\n",
      "971320/971320 - 11s - loss: 0.0597 - accuracy: 0.9676 - val_loss: 0.1660 - val_accuracy: 0.9445\n",
      "Epoch 16/20\n",
      "971320/971320 - 11s - loss: 0.0589 - accuracy: 0.9679 - val_loss: 0.1707 - val_accuracy: 0.9424\n",
      "Epoch 17/20\n",
      "971320/971320 - 13s - loss: 0.0582 - accuracy: 0.9681 - val_loss: 0.2040 - val_accuracy: 0.9432\n",
      "Epoch 18/20\n",
      "971320/971320 - 13s - loss: 0.0577 - accuracy: 0.9683 - val_loss: 0.1856 - val_accuracy: 0.9444\n",
      "Epoch 19/20\n",
      "971320/971320 - 13s - loss: 0.0573 - accuracy: 0.9684 - val_loss: 0.1873 - val_accuracy: 0.9444\n",
      "Epoch 20/20\n",
      "971320/971320 - 13s - loss: 0.0570 - accuracy: 0.9685 - val_loss: 0.2106 - val_accuracy: 0.9434\n"
     ]
    }
   ],
   "source": [
    "model = tf.keras.models.Sequential([\n",
    "    tf.keras.layers.Dense(150,input_shape = [24], activation = 'relu'),\n",
    "    tf.keras.layers.Dense(150, activation = 'relu'),\n",
    "    tf.keras.layers.Dense(150, activation = 'relu'),\n",
    "    tf.keras.layers.Dense(12, activation = 'sigmoid')\n",
    "])\n",
    "\n",
    "model.compile(optimizer = 'adam', loss = 'binary_crossentropy', metrics = ['accuracy'])\n",
    "\n",
    "history = model.fit(x_train, y_train, batch_size = 1024, epochs = 20, verbose = 2,validation_data = (x_test, y_test))\n"
   ]
  },
  {
   "cell_type": "code",
   "execution_count": 11,
   "metadata": {},
   "outputs": [
    {
     "data": {
      "text/plain": [
       "<matplotlib.legend.Legend at 0x1a48855a988>"
      ]
     },
     "execution_count": 11,
     "metadata": {},
     "output_type": "execute_result"
    },
    {
     "data": {
      "image/png": "[encoded data removed]",
      "text/plain": [
       "<Figure size 432x288 with 1 Axes>"
      ]
     },
     "metadata": {
      "needs_background": "light"
     },
     "output_type": "display_data"
    }
   ],
   "source": [
    "import matplotlib.pyplot as plt\n",
    "plt.figure()\n",
    "acc = history.history['accuracy']\n",
    "loss = history.history['loss']\n",
    "val_acc = history.history['val_accuracy']\n",
    "val_loss = history.history['val_loss']\n",
    "\n",
    "epochs = range(len(acc))\n",
    "plt.plot(epochs, acc, 'r', label = 'Training accuracy')\n",
    "plt.plot(epochs, val_acc, 'b', label = 'Validating accuracy')\n",
    "plt.title('Training and Validating Accuracy')\n",
    "plt.legend()"
   ]
  },
  {
   "cell_type": "code",
   "execution_count": 8,
   "metadata": {},
   "outputs": [
    {
     "name": "stdout",
     "output_type": "stream",
     "text": [
      "5000/1 - 0s - loss: 0.0630 - accuracy: 0.9720\n"
     ]
    },
    {
     "data": {
      "text/plain": [
       "[0.04715186712741852, 0.9720002]"
      ]
     },
     "execution_count": 8,
     "metadata": {},
     "output_type": "execute_result"
    }
   ],
   "source": [
    "#model.evaluate(x_test, y_test, verbose = 2)"
   ]
  },
  {
   "cell_type": "code",
   "execution_count": 12,
   "metadata": {},
   "outputs": [],
   "source": [
    "model.save('C:\\\\Users\\\\Wilfred\\\\Desktop\\\\weights\\\\Min_Max\\\\Min_Max_4_6_7_2_model.h5')"
   ]
  },
  {
   "cell_type": "code",
   "execution_count": null,
   "metadata": {},
   "outputs": [],
   "source": []
  }
 ],
 "metadata": {
  "kernelspec": {
   "display_name": "Python 3",
   "language": "python",
   "name": "python3"
  },
  "language_info": {
   "codemirror_mode": {
    "name": "ipython",
    "version": 3
   },
   "file_extension": ".py",
   "mimetype": "text/x-python",
   "name": "python",
   "nbconvert_exporter": "python",
   "pygments_lexer": "ipython3",
   "version": "3.7.5"
  }
 },
 "nbformat": 4,
 "nbformat_minor": 2
}
