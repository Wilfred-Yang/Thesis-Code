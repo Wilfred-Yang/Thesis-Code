{
 "cells": [
  {
   "cell_type": "code",
   "execution_count": 1,
   "metadata": {},
   "outputs": [],
   "source": [
    "import tensorflow as tf\n",
    "import numpy as np\n",
    "import pickle"
   ]
  },
  {
   "cell_type": "code",
   "execution_count": 3,
   "metadata": {},
   "outputs": [
    {
     "name": "stdout",
     "output_type": "stream",
     "text": [
      "(12, 24)\n"
     ]
    }
   ],
   "source": [
    "with open ('C:\\\\Users\\\\Wilfred\\\\Desktop\\\\Min-Max\\\\input_layer_4_6_3_3.pickle','rb') as file:\n",
    "    input_data = pickle.load(file)\n",
    "print(input_data.shape)\n",
    "\n",
    "x_train = input_data[:12,:]\n",
    "#x_test = input_data[971320:, :]\n"
   ]
  },
  {
   "cell_type": "code",
   "execution_count": 4,
   "metadata": {},
   "outputs": [
    {
     "name": "stdout",
     "output_type": "stream",
     "text": [
      "(12, 12)\n"
     ]
    }
   ],
   "source": [
    "with open ('C:\\\\Users\\\\Wilfred\\\\Desktop\\\\Min-Max\\\\output_layer_4_6_3_3.pickle','rb') as file:\n",
    "    output_data = pickle.load(file)\n",
    "output_data = np.transpose(output_data)\n",
    "y_train = output_data[:12,:]\n",
    "#y_test = output_data[971320:, :]\n",
    "print(output_data.shape)"
   ]
  },
  {
   "cell_type": "code",
   "execution_count": 5,
   "metadata": {},
   "outputs": [
    {
     "name": "stdout",
     "output_type": "stream",
     "text": [
      "Train on 12 samples\n",
      "Epoch 1/50\n",
      "12/12 - 1s - loss: 0.6633 - accuracy: 0.5972\n",
      "Epoch 2/50\n",
      "12/12 - 0s - loss: 0.5764 - accuracy: 0.7222\n",
      "Epoch 3/50\n",
      "12/12 - 0s - loss: 0.4973 - accuracy: 0.8403\n",
      "Epoch 4/50\n",
      "12/12 - 0s - loss: 0.4282 - accuracy: 0.8542\n",
      "Epoch 5/50\n",
      "12/12 - 0s - loss: 0.3685 - accuracy: 0.8542\n",
      "Epoch 6/50\n",
      "12/12 - 0s - loss: 0.3211 - accuracy: 0.8611\n",
      "Epoch 7/50\n",
      "12/12 - 0s - loss: 0.2852 - accuracy: 0.8611\n",
      "Epoch 8/50\n",
      "12/12 - 0s - loss: 0.2571 - accuracy: 0.8611\n",
      "Epoch 9/50\n",
      "12/12 - 0s - loss: 0.2331 - accuracy: 0.8681\n",
      "Epoch 10/50\n",
      "12/12 - 0s - loss: 0.2101 - accuracy: 0.8889\n",
      "Epoch 11/50\n",
      "12/12 - 0s - loss: 0.1870 - accuracy: 0.9375\n",
      "Epoch 12/50\n",
      "12/12 - 0s - loss: 0.1644 - accuracy: 0.9444\n",
      "Epoch 13/50\n",
      "12/12 - 0s - loss: 0.1435 - accuracy: 0.9583\n",
      "Epoch 14/50\n",
      "12/12 - 0s - loss: 0.1258 - accuracy: 0.9444\n",
      "Epoch 15/50\n",
      "12/12 - 0s - loss: 0.1119 - accuracy: 0.9514\n",
      "Epoch 16/50\n",
      "12/12 - 0s - loss: 0.1013 - accuracy: 0.9653\n",
      "Epoch 17/50\n",
      "12/12 - 0s - loss: 0.0934 - accuracy: 0.9653\n",
      "Epoch 18/50\n",
      "12/12 - 0s - loss: 0.0874 - accuracy: 0.9792\n",
      "Epoch 19/50\n",
      "12/12 - 0s - loss: 0.0825 - accuracy: 0.9722\n",
      "Epoch 20/50\n",
      "12/12 - 0s - loss: 0.0782 - accuracy: 0.9792\n",
      "Epoch 21/50\n",
      "12/12 - 0s - loss: 0.0743 - accuracy: 0.9722\n",
      "Epoch 22/50\n",
      "12/12 - 0s - loss: 0.0702 - accuracy: 0.9722\n",
      "Epoch 23/50\n",
      "12/12 - 0s - loss: 0.0660 - accuracy: 0.9792\n",
      "Epoch 24/50\n",
      "12/12 - 0s - loss: 0.0618 - accuracy: 0.9861\n",
      "Epoch 25/50\n",
      "12/12 - 0s - loss: 0.0579 - accuracy: 1.0000\n",
      "Epoch 26/50\n",
      "12/12 - 0s - loss: 0.0545 - accuracy: 1.0000\n",
      "Epoch 27/50\n",
      "12/12 - 0s - loss: 0.0517 - accuracy: 1.0000\n",
      "Epoch 28/50\n",
      "12/12 - 0s - loss: 0.0491 - accuracy: 1.0000\n",
      "Epoch 29/50\n",
      "12/12 - 0s - loss: 0.0464 - accuracy: 1.0000\n",
      "Epoch 30/50\n",
      "12/12 - 0s - loss: 0.0436 - accuracy: 1.0000\n",
      "Epoch 31/50\n",
      "12/12 - 0s - loss: 0.0405 - accuracy: 1.0000\n",
      "Epoch 32/50\n",
      "12/12 - 0s - loss: 0.0375 - accuracy: 1.0000\n",
      "Epoch 33/50\n",
      "12/12 - 0s - loss: 0.0346 - accuracy: 1.0000\n",
      "Epoch 34/50\n",
      "12/12 - 0s - loss: 0.0321 - accuracy: 1.0000\n",
      "Epoch 35/50\n",
      "12/12 - 0s - loss: 0.0298 - accuracy: 1.0000\n",
      "Epoch 36/50\n",
      "12/12 - 0s - loss: 0.0276 - accuracy: 1.0000\n",
      "Epoch 37/50\n",
      "12/12 - 0s - loss: 0.0254 - accuracy: 1.0000\n",
      "Epoch 38/50\n",
      "12/12 - 0s - loss: 0.0233 - accuracy: 1.0000\n",
      "Epoch 39/50\n",
      "12/12 - 0s - loss: 0.0212 - accuracy: 1.0000\n",
      "Epoch 40/50\n",
      "12/12 - 0s - loss: 0.0194 - accuracy: 1.0000\n",
      "Epoch 41/50\n",
      "12/12 - 0s - loss: 0.0177 - accuracy: 1.0000\n",
      "Epoch 42/50\n",
      "12/12 - 0s - loss: 0.0161 - accuracy: 1.0000\n",
      "Epoch 43/50\n",
      "12/12 - 0s - loss: 0.0146 - accuracy: 1.0000\n",
      "Epoch 44/50\n",
      "12/12 - 0s - loss: 0.0132 - accuracy: 1.0000\n",
      "Epoch 45/50\n",
      "12/12 - 0s - loss: 0.0119 - accuracy: 1.0000\n",
      "Epoch 46/50\n",
      "12/12 - 0s - loss: 0.0107 - accuracy: 1.0000\n",
      "Epoch 47/50\n",
      "12/12 - 0s - loss: 0.0097 - accuracy: 1.0000\n",
      "Epoch 48/50\n",
      "12/12 - 0s - loss: 0.0087 - accuracy: 1.0000\n",
      "Epoch 49/50\n",
      "12/12 - 0s - loss: 0.0079 - accuracy: 1.0000\n",
      "Epoch 50/50\n",
      "12/12 - 0s - loss: 0.0072 - accuracy: 1.0000\n"
     ]
    }
   ],
   "source": [
    "model = tf.keras.models.Sequential([\n",
    "    tf.keras.layers.Dense(100,input_shape = [24], activation = 'relu'),\n",
    "    tf.keras.layers.Dense(100, activation = 'relu'),\n",
    "    tf.keras.layers.Dense(12, activation = 'sigmoid')\n",
    "])\n",
    "adam = tf.keras.optimizers.Adam(lr = 0.005)\n",
    "model.compile(optimizer = adam, loss = 'binary_crossentropy', metrics = ['accuracy'])\n",
    "\n",
    "history = model.fit(x_train, y_train, batch_size = 1024, epochs = 50, verbose = 2)\n"
   ]
  },
  {
   "cell_type": "code",
   "execution_count": 7,
   "metadata": {},
   "outputs": [
    {
     "data": {
      "text/plain": [
       "<matplotlib.legend.Legend at 0x2d1c5145a48>"
      ]
     },
     "execution_count": 7,
     "metadata": {},
     "output_type": "execute_result"
    },
    {
     "data": {
      "image/png": "[encoded data removed]",
      "text/plain": [
       "<Figure size 432x288 with 1 Axes>"
      ]
     },
     "metadata": {
      "needs_background": "light"
     },
     "output_type": "display_data"
    }
   ],
   "source": [
    "import matplotlib.pyplot as plt\n",
    "plt.figure()\n",
    "acc = history.history['accuracy']\n",
    "loss = history.history['loss']\n",
    "#val_acc = history.history['val_accuracy']\n",
    "#val_loss = history.history['val_loss']\n",
    "\n",
    "epochs = range(len(acc))\n",
    "plt.plot(epochs, acc, 'r', label = 'Training accuracy')\n",
    "#plt.plot(epochs, val_acc, 'b', label = 'Validating accuracy')\n",
    "plt.title('Training Accuracy')\n",
    "plt.legend()\n"
   ]
  },
  {
   "cell_type": "code",
   "execution_count": 8,
   "metadata": {},
   "outputs": [
    {
     "name": "stdout",
     "output_type": "stream",
     "text": [
      "5000/1 - 0s - loss: 0.0630 - accuracy: 0.9720\n"
     ]
    },
    {
     "data": {
      "text/plain": [
       "[0.04715186712741852, 0.9720002]"
      ]
     },
     "execution_count": 8,
     "metadata": {},
     "output_type": "execute_result"
    }
   ],
   "source": [
    "#model.evaluate(x_test, y_test, verbose = 2)"
   ]
  },
  {
   "cell_type": "code",
   "execution_count": 8,
   "metadata": {},
   "outputs": [],
   "source": [
    "model.save('C:\\\\Users\\\\Wilfred\\\\Desktop\\\\weights\\\\Min_Max\\\\Min_Max_4_6_3_3_model.h5')"
   ]
  },
  {
   "cell_type": "code",
   "execution_count": null,
   "metadata": {},
   "outputs": [],
   "source": []
  }
 ],
 "metadata": {
  "kernelspec": {
   "display_name": "Python 3",
   "language": "python",
   "name": "python3"
  },
  "language_info": {
   "codemirror_mode": {
    "name": "ipython",
    "version": 3
   },
   "file_extension": ".py",
   "mimetype": "text/x-python",
   "name": "python",
   "nbconvert_exporter": "python",
   "pygments_lexer": "ipython3",
   "version": "3.7.5"
  }
 },
 "nbformat": 4,
 "nbformat_minor": 2
}
