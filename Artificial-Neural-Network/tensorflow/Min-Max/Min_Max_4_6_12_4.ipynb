{
 "cells": [
  {
   "cell_type": "code",
   "execution_count": 1,
   "metadata": {},
   "outputs": [],
   "source": [
    "import tensorflow as tf\n",
    "import numpy as np\n",
    "import pickle"
   ]
  },
  {
   "cell_type": "code",
   "execution_count": 2,
   "metadata": {},
   "outputs": [
    {
     "name": "stdout",
     "output_type": "stream",
     "text": [
      "(105000, 24)\n"
     ]
    }
   ],
   "source": [
    "with open ('C:\\\\Users\\\\Wilfred\\\\Desktop\\\\Min-Max\\\\input_layer_4_6_12_4.pickle','rb') as file:\n",
    "    input_data = pickle.load(file)\n",
    "print(input_data.shape)\n",
    "\n",
    "x_train = input_data[:100000,:]\n",
    "x_test = input_data[100000:,:]\n"
   ]
  },
  {
   "cell_type": "code",
   "execution_count": 3,
   "metadata": {},
   "outputs": [
    {
     "name": "stdout",
     "output_type": "stream",
     "text": [
      "(105000, 12)\n"
     ]
    }
   ],
   "source": [
    "with open ('C:\\\\Users\\\\Wilfred\\\\Desktop\\\\Min-Max\\\\output_layer_4_6_12_4.pickle','rb') as file:\n",
    "    output_data = pickle.load(file)\n",
    "output_data = np.transpose(output_data)\n",
    "y_train = output_data[:100000,:]\n",
    "y_test = output_data[100000:,:]\n",
    "print(output_data.shape)"
   ]
  },
  {
   "cell_type": "code",
   "execution_count": 4,
   "metadata": {},
   "outputs": [
    {
     "name": "stdout",
     "output_type": "stream",
     "text": [
      "Train on 100000 samples, validate on 5000 samples\n",
      "Epoch 1/100\n",
      "100000/100000 - 6s - loss: 0.2409 - accuracy: 0.9033 - val_loss: 0.2048 - val_accuracy: 0.9159\n",
      "Epoch 2/100\n",
      "100000/100000 - 4s - loss: 0.1938 - accuracy: 0.9167 - val_loss: 0.1820 - val_accuracy: 0.9188\n",
      "Epoch 3/100\n",
      "100000/100000 - 4s - loss: 0.1704 - accuracy: 0.9236 - val_loss: 0.1583 - val_accuracy: 0.9274\n",
      "Epoch 4/100\n",
      "100000/100000 - 4s - loss: 0.1437 - accuracy: 0.9326 - val_loss: 0.1340 - val_accuracy: 0.9355\n",
      "Epoch 5/100\n",
      "100000/100000 - 4s - loss: 0.1225 - accuracy: 0.9415 - val_loss: 0.1168 - val_accuracy: 0.9440\n",
      "Epoch 6/100\n",
      "100000/100000 - 4s - loss: 0.1080 - accuracy: 0.9489 - val_loss: 0.1057 - val_accuracy: 0.9502\n",
      "Epoch 7/100\n",
      "100000/100000 - 4s - loss: 0.0968 - accuracy: 0.9550 - val_loss: 0.0974 - val_accuracy: 0.9539\n",
      "Epoch 8/100\n",
      "100000/100000 - 4s - loss: 0.0869 - accuracy: 0.9600 - val_loss: 0.0911 - val_accuracy: 0.9580\n",
      "Epoch 9/100\n",
      "100000/100000 - 4s - loss: 0.0786 - accuracy: 0.9644 - val_loss: 0.0822 - val_accuracy: 0.9626\n",
      "Epoch 10/100\n",
      "100000/100000 - 4s - loss: 0.0718 - accuracy: 0.9679 - val_loss: 0.0777 - val_accuracy: 0.9647\n",
      "Epoch 11/100\n",
      "100000/100000 - 4s - loss: 0.0655 - accuracy: 0.9710 - val_loss: 0.0761 - val_accuracy: 0.9664\n",
      "Epoch 12/100\n",
      "100000/100000 - 4s - loss: 0.0596 - accuracy: 0.9738 - val_loss: 0.0665 - val_accuracy: 0.9705\n",
      "Epoch 13/100\n",
      "100000/100000 - 4s - loss: 0.0556 - accuracy: 0.9757 - val_loss: 0.0622 - val_accuracy: 0.9737\n",
      "Epoch 14/100\n",
      "100000/100000 - 4s - loss: 0.0502 - accuracy: 0.9785 - val_loss: 0.0599 - val_accuracy: 0.9741\n",
      "Epoch 15/100\n",
      "100000/100000 - 4s - loss: 0.0475 - accuracy: 0.9796 - val_loss: 0.0576 - val_accuracy: 0.9757\n",
      "Epoch 16/100\n",
      "100000/100000 - 4s - loss: 0.0444 - accuracy: 0.9809 - val_loss: 0.0558 - val_accuracy: 0.9753\n",
      "Epoch 17/100\n",
      "100000/100000 - 4s - loss: 0.0409 - accuracy: 0.9826 - val_loss: 0.0523 - val_accuracy: 0.9780\n",
      "Epoch 18/100\n",
      "100000/100000 - 4s - loss: 0.0390 - accuracy: 0.9836 - val_loss: 0.0533 - val_accuracy: 0.9772\n",
      "Epoch 19/100\n",
      "100000/100000 - 4s - loss: 0.0370 - accuracy: 0.9844 - val_loss: 0.0506 - val_accuracy: 0.9787\n",
      "Epoch 20/100\n",
      "100000/100000 - 4s - loss: 0.0346 - accuracy: 0.9854 - val_loss: 0.0494 - val_accuracy: 0.9793\n",
      "Epoch 21/100\n",
      "100000/100000 - 4s - loss: 0.0324 - accuracy: 0.9864 - val_loss: 0.0472 - val_accuracy: 0.9811\n",
      "Epoch 22/100\n",
      "100000/100000 - 4s - loss: 0.0301 - accuracy: 0.9874 - val_loss: 0.0459 - val_accuracy: 0.9811\n",
      "Epoch 23/100\n",
      "100000/100000 - 4s - loss: 0.0290 - accuracy: 0.9879 - val_loss: 0.0496 - val_accuracy: 0.9799\n",
      "Epoch 24/100\n",
      "100000/100000 - 4s - loss: 0.0280 - accuracy: 0.9884 - val_loss: 0.0494 - val_accuracy: 0.9805\n",
      "Epoch 25/100\n",
      "100000/100000 - 4s - loss: 0.0263 - accuracy: 0.9891 - val_loss: 0.0423 - val_accuracy: 0.9834\n",
      "Epoch 26/100\n",
      "100000/100000 - 4s - loss: 0.0263 - accuracy: 0.9890 - val_loss: 0.0437 - val_accuracy: 0.9822\n",
      "Epoch 27/100\n",
      "100000/100000 - 4s - loss: 0.0236 - accuracy: 0.9903 - val_loss: 0.0411 - val_accuracy: 0.9833\n",
      "Epoch 28/100\n",
      "100000/100000 - 4s - loss: 0.0220 - accuracy: 0.9909 - val_loss: 0.0463 - val_accuracy: 0.9822\n",
      "Epoch 29/100\n",
      "100000/100000 - 4s - loss: 0.0227 - accuracy: 0.9906 - val_loss: 0.0424 - val_accuracy: 0.9843\n",
      "Epoch 30/100\n",
      "100000/100000 - 4s - loss: 0.0219 - accuracy: 0.9910 - val_loss: 0.0429 - val_accuracy: 0.9831\n",
      "Epoch 31/100\n",
      "100000/100000 - 4s - loss: 0.0211 - accuracy: 0.9913 - val_loss: 0.0400 - val_accuracy: 0.9848\n",
      "Epoch 32/100\n",
      "100000/100000 - 5s - loss: 0.0195 - accuracy: 0.9920 - val_loss: 0.0419 - val_accuracy: 0.9837\n",
      "Epoch 33/100\n",
      "100000/100000 - 5s - loss: 0.0203 - accuracy: 0.9916 - val_loss: 0.0433 - val_accuracy: 0.9833\n",
      "Epoch 34/100\n",
      "100000/100000 - 4s - loss: 0.0201 - accuracy: 0.9917 - val_loss: 0.0438 - val_accuracy: 0.9840\n",
      "Epoch 35/100\n",
      "100000/100000 - 4s - loss: 0.0184 - accuracy: 0.9925 - val_loss: 0.0436 - val_accuracy: 0.9842\n",
      "Epoch 36/100\n",
      "100000/100000 - 4s - loss: 0.0182 - accuracy: 0.9926 - val_loss: 0.0430 - val_accuracy: 0.9851\n",
      "Epoch 37/100\n",
      "100000/100000 - 4s - loss: 0.0186 - accuracy: 0.9925 - val_loss: 0.0443 - val_accuracy: 0.9842\n",
      "Epoch 38/100\n",
      "100000/100000 - 4s - loss: 0.0186 - accuracy: 0.9925 - val_loss: 0.0431 - val_accuracy: 0.9849\n",
      "Epoch 39/100\n",
      "100000/100000 - 4s - loss: 0.0162 - accuracy: 0.9935 - val_loss: 0.0470 - val_accuracy: 0.9842\n",
      "Epoch 40/100\n",
      "100000/100000 - 4s - loss: 0.0171 - accuracy: 0.9931 - val_loss: 0.0446 - val_accuracy: 0.9846\n",
      "Epoch 41/100\n",
      "100000/100000 - 5s - loss: 0.0155 - accuracy: 0.9937 - val_loss: 0.0444 - val_accuracy: 0.9856\n",
      "Epoch 42/100\n",
      "100000/100000 - 4s - loss: 0.0162 - accuracy: 0.9936 - val_loss: 0.0443 - val_accuracy: 0.9847\n",
      "Epoch 43/100\n",
      "100000/100000 - 5s - loss: 0.0159 - accuracy: 0.9936 - val_loss: 0.0436 - val_accuracy: 0.9855\n",
      "Epoch 44/100\n",
      "100000/100000 - 4s - loss: 0.0132 - accuracy: 0.9947 - val_loss: 0.0397 - val_accuracy: 0.9862\n",
      "Epoch 45/100\n",
      "100000/100000 - 4s - loss: 0.0129 - accuracy: 0.9949 - val_loss: 0.0444 - val_accuracy: 0.9860\n",
      "Epoch 46/100\n",
      "100000/100000 - 4s - loss: 0.0140 - accuracy: 0.9945 - val_loss: 0.0451 - val_accuracy: 0.9855\n",
      "Epoch 47/100\n",
      "100000/100000 - 4s - loss: 0.0150 - accuracy: 0.9942 - val_loss: 0.0537 - val_accuracy: 0.9831\n",
      "Epoch 48/100\n",
      "100000/100000 - 4s - loss: 0.0182 - accuracy: 0.9931 - val_loss: 0.0471 - val_accuracy: 0.9852\n",
      "Epoch 49/100\n",
      "100000/100000 - 4s - loss: 0.0151 - accuracy: 0.9943 - val_loss: 0.0431 - val_accuracy: 0.9861\n",
      "Epoch 50/100\n",
      "100000/100000 - 4s - loss: 0.0126 - accuracy: 0.9951 - val_loss: 0.0474 - val_accuracy: 0.9854\n",
      "Epoch 51/100\n",
      "100000/100000 - 4s - loss: 0.0121 - accuracy: 0.9953 - val_loss: 0.0480 - val_accuracy: 0.9857\n",
      "Epoch 52/100\n",
      "100000/100000 - 4s - loss: 0.0120 - accuracy: 0.9953 - val_loss: 0.0454 - val_accuracy: 0.9861\n",
      "Epoch 53/100\n",
      "100000/100000 - 4s - loss: 0.0123 - accuracy: 0.9952 - val_loss: 0.0448 - val_accuracy: 0.9866\n",
      "Epoch 54/100\n",
      "100000/100000 - 4s - loss: 0.0127 - accuracy: 0.9952 - val_loss: 0.0502 - val_accuracy: 0.9854\n",
      "Epoch 55/100\n",
      "100000/100000 - 4s - loss: 0.0123 - accuracy: 0.9954 - val_loss: 0.0536 - val_accuracy: 0.9849\n",
      "Epoch 56/100\n",
      "100000/100000 - 4s - loss: 0.0163 - accuracy: 0.9940 - val_loss: 0.0561 - val_accuracy: 0.9846\n",
      "Epoch 57/100\n",
      "100000/100000 - 4s - loss: 0.0154 - accuracy: 0.9942 - val_loss: 0.0528 - val_accuracy: 0.9857\n",
      "Epoch 58/100\n",
      "100000/100000 - 5s - loss: 0.0126 - accuracy: 0.9954 - val_loss: 0.0527 - val_accuracy: 0.9856\n",
      "Epoch 59/100\n",
      "100000/100000 - 4s - loss: 0.0118 - accuracy: 0.9955 - val_loss: 0.0467 - val_accuracy: 0.9873\n",
      "Epoch 60/100\n",
      "100000/100000 - 4s - loss: 0.0104 - accuracy: 0.9961 - val_loss: 0.0469 - val_accuracy: 0.9872\n",
      "Epoch 61/100\n",
      "100000/100000 - 4s - loss: 0.0093 - accuracy: 0.9965 - val_loss: 0.0491 - val_accuracy: 0.9873\n",
      "Epoch 62/100\n",
      "100000/100000 - 4s - loss: 0.0088 - accuracy: 0.9967 - val_loss: 0.0519 - val_accuracy: 0.9865\n",
      "Epoch 63/100\n",
      "100000/100000 - 4s - loss: 0.0101 - accuracy: 0.9963 - val_loss: 0.0524 - val_accuracy: 0.9865\n",
      "Epoch 64/100\n",
      "100000/100000 - 5s - loss: 0.0140 - accuracy: 0.9949 - val_loss: 0.0570 - val_accuracy: 0.9855\n",
      "Epoch 65/100\n",
      "100000/100000 - 4s - loss: 0.0149 - accuracy: 0.9946 - val_loss: 0.0543 - val_accuracy: 0.9858\n",
      "Epoch 66/100\n",
      "100000/100000 - 5s - loss: 0.0156 - accuracy: 0.9944 - val_loss: 0.0571 - val_accuracy: 0.9850\n",
      "Epoch 67/100\n",
      "100000/100000 - 4s - loss: 0.0119 - accuracy: 0.9956 - val_loss: 0.0508 - val_accuracy: 0.9867\n",
      "Epoch 68/100\n",
      "100000/100000 - 5s - loss: 0.0089 - accuracy: 0.9967 - val_loss: 0.0517 - val_accuracy: 0.9876\n",
      "Epoch 69/100\n",
      "100000/100000 - 4s - loss: 0.0092 - accuracy: 0.9967 - val_loss: 0.0554 - val_accuracy: 0.9864\n",
      "Epoch 70/100\n",
      "100000/100000 - 5s - loss: 0.0079 - accuracy: 0.9971 - val_loss: 0.0505 - val_accuracy: 0.9878\n",
      "Epoch 71/100\n",
      "100000/100000 - 5s - loss: 0.0081 - accuracy: 0.9971 - val_loss: 0.0595 - val_accuracy: 0.9862\n",
      "Epoch 72/100\n",
      "100000/100000 - 4s - loss: 0.0096 - accuracy: 0.9966 - val_loss: 0.0564 - val_accuracy: 0.9865\n",
      "Epoch 73/100\n",
      "100000/100000 - 4s - loss: 0.0094 - accuracy: 0.9965 - val_loss: 0.0579 - val_accuracy: 0.9868\n",
      "Epoch 74/100\n",
      "100000/100000 - 5s - loss: 0.0110 - accuracy: 0.9961 - val_loss: 0.0639 - val_accuracy: 0.9852\n",
      "Epoch 75/100\n",
      "100000/100000 - 5s - loss: 0.0163 - accuracy: 0.9946 - val_loss: 0.0635 - val_accuracy: 0.9847\n",
      "Epoch 76/100\n",
      "100000/100000 - 4s - loss: 0.0127 - accuracy: 0.9955 - val_loss: 0.0589 - val_accuracy: 0.9855\n"
     ]
    },
    {
     "name": "stdout",
     "output_type": "stream",
     "text": [
      "Epoch 77/100\n",
      "100000/100000 - 5s - loss: 0.0072 - accuracy: 0.9974 - val_loss: 0.0553 - val_accuracy: 0.9873\n",
      "Epoch 78/100\n",
      "100000/100000 - 5s - loss: 0.0058 - accuracy: 0.9979 - val_loss: 0.0571 - val_accuracy: 0.9878\n",
      "Epoch 79/100\n",
      "100000/100000 - 5s - loss: 0.0054 - accuracy: 0.9981 - val_loss: 0.0598 - val_accuracy: 0.9872\n",
      "Epoch 80/100\n",
      "100000/100000 - 4s - loss: 0.0090 - accuracy: 0.9968 - val_loss: 0.0648 - val_accuracy: 0.9862\n",
      "Epoch 81/100\n",
      "100000/100000 - 4s - loss: 0.0134 - accuracy: 0.9955 - val_loss: 0.0652 - val_accuracy: 0.9854\n",
      "Epoch 82/100\n",
      "100000/100000 - 4s - loss: 0.0128 - accuracy: 0.9956 - val_loss: 0.0576 - val_accuracy: 0.9869\n",
      "Epoch 83/100\n",
      "100000/100000 - 4s - loss: 0.0099 - accuracy: 0.9965 - val_loss: 0.0592 - val_accuracy: 0.9871\n",
      "Epoch 84/100\n",
      "100000/100000 - 4s - loss: 0.0097 - accuracy: 0.9967 - val_loss: 0.0590 - val_accuracy: 0.9876\n",
      "Epoch 85/100\n",
      "100000/100000 - 5s - loss: 0.0088 - accuracy: 0.9969 - val_loss: 0.0605 - val_accuracy: 0.9878\n",
      "Epoch 86/100\n",
      "100000/100000 - 4s - loss: 0.0092 - accuracy: 0.9967 - val_loss: 0.0621 - val_accuracy: 0.9873\n",
      "Epoch 87/100\n",
      "100000/100000 - 5s - loss: 0.0084 - accuracy: 0.9971 - val_loss: 0.0655 - val_accuracy: 0.9868\n",
      "Epoch 88/100\n",
      "100000/100000 - 5s - loss: 0.0096 - accuracy: 0.9967 - val_loss: 0.0640 - val_accuracy: 0.9858\n",
      "Epoch 89/100\n",
      "100000/100000 - 4s - loss: 0.0098 - accuracy: 0.9967 - val_loss: 0.0640 - val_accuracy: 0.9870\n",
      "Epoch 90/100\n",
      "100000/100000 - 5s - loss: 0.0097 - accuracy: 0.9966 - val_loss: 0.0635 - val_accuracy: 0.9868\n",
      "Epoch 91/100\n",
      "100000/100000 - 4s - loss: 0.0109 - accuracy: 0.9963 - val_loss: 0.0611 - val_accuracy: 0.9873\n",
      "Epoch 92/100\n",
      "100000/100000 - 4s - loss: 0.0087 - accuracy: 0.9969 - val_loss: 0.0601 - val_accuracy: 0.9875\n",
      "Epoch 93/100\n",
      "100000/100000 - 4s - loss: 0.0070 - accuracy: 0.9975 - val_loss: 0.0608 - val_accuracy: 0.9885\n",
      "Epoch 94/100\n",
      "100000/100000 - 4s - loss: 0.0064 - accuracy: 0.9978 - val_loss: 0.0681 - val_accuracy: 0.9869\n",
      "Epoch 95/100\n",
      "100000/100000 - 4s - loss: 0.0103 - accuracy: 0.9967 - val_loss: 0.0759 - val_accuracy: 0.9863\n",
      "Epoch 96/100\n",
      "100000/100000 - 4s - loss: 0.0120 - accuracy: 0.9961 - val_loss: 0.0660 - val_accuracy: 0.9862\n",
      "Epoch 97/100\n",
      "100000/100000 - 4s - loss: 0.0105 - accuracy: 0.9965 - val_loss: 0.0645 - val_accuracy: 0.9872\n",
      "Epoch 98/100\n",
      "100000/100000 - 4s - loss: 0.0096 - accuracy: 0.9968 - val_loss: 0.0733 - val_accuracy: 0.9864\n",
      "Epoch 99/100\n",
      "100000/100000 - 4s - loss: 0.0093 - accuracy: 0.9969 - val_loss: 0.0715 - val_accuracy: 0.9873\n",
      "Epoch 100/100\n",
      "100000/100000 - 4s - loss: 0.0061 - accuracy: 0.9979 - val_loss: 0.0644 - val_accuracy: 0.9888\n"
     ]
    }
   ],
   "source": [
    "model = tf.keras.models.Sequential([\n",
    "    tf.keras.layers.Dense(300,input_shape = [24], activation = 'relu'),\n",
    "    tf.keras.layers.Dense(300, activation = 'relu'),\n",
    "    tf.keras.layers.Dense(300, activation = 'relu'),\n",
    "    tf.keras.layers.Dense(12, activation = 'sigmoid')\n",
    "])\n",
    "adam = tf.keras.optimizers.Adam(lr = 0.005)\n",
    "model.compile(optimizer = adam, loss = 'binary_crossentropy', metrics = ['accuracy'])\n",
    "\n",
    "history = model.fit(x_train, y_train, batch_size = 1024, epochs = 100, verbose = 2,validation_data = (x_test, y_test))\n"
   ]
  },
  {
   "cell_type": "code",
   "execution_count": 6,
   "metadata": {},
   "outputs": [
    {
     "data": {
      "image/png": "[encoded data removed]",
      "text/plain": [
       "<Figure size 432x288 with 1 Axes>"
      ]
     },
     "metadata": {
      "needs_background": "light"
     },
     "output_type": "display_data"
    }
   ],
   "source": [
    "import matplotlib.pyplot as plt\n",
    "plt.figure()\n",
    "acc = history.history['accuracy']\n",
    "loss = history.history['loss']\n",
    "val_acc = history.history['val_accuracy']\n",
    "val_loss = history.history['val_loss']\n",
    "\n",
    "epochs = range(len(acc))\n",
    "plt.plot(epochs, acc, 'r', label = 'Training accuracy')\n",
    "plt.plot(epochs, val_acc, 'b', label = 'Validating accuracy')\n",
    "plt.title('Training and Validating Accuracy')\n",
    "plt.legend()\n",
    "plt.show()"
   ]
  },
  {
   "cell_type": "code",
   "execution_count": 8,
   "metadata": {},
   "outputs": [
    {
     "name": "stdout",
     "output_type": "stream",
     "text": [
      "5000/1 - 0s - loss: 0.0630 - accuracy: 0.9720\n"
     ]
    },
    {
     "data": {
      "text/plain": [
       "[0.04715186712741852, 0.9720002]"
      ]
     },
     "execution_count": 8,
     "metadata": {},
     "output_type": "execute_result"
    }
   ],
   "source": [
    "#model.evaluate(x_test, y_test, verbose = 2)"
   ]
  },
  {
   "cell_type": "code",
   "execution_count": 7,
   "metadata": {},
   "outputs": [],
   "source": [
    "model.save('C:\\\\Users\\\\Wilfred\\\\Desktop\\\\weights\\\\Min_Max\\\\Min_Max_4_6_12_4_model.h5')"
   ]
  },
  {
   "cell_type": "code",
   "execution_count": null,
   "metadata": {},
   "outputs": [],
   "source": []
  }
 ],
 "metadata": {
  "kernelspec": {
   "display_name": "Python 3",
   "language": "python",
   "name": "python3"
  },
  "language_info": {
   "codemirror_mode": {
    "name": "ipython",
    "version": 3
   },
   "file_extension": ".py",
   "mimetype": "text/x-python",
   "name": "python",
   "nbconvert_exporter": "python",
   "pygments_lexer": "ipython3",
   "version": "3.7.5"
  }
 },
 "nbformat": 4,
 "nbformat_minor": 2
}
