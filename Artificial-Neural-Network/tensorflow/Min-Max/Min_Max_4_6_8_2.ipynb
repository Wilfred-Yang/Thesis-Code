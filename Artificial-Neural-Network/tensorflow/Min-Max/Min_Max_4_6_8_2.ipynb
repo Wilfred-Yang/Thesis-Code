{
 "cells": [
  {
   "cell_type": "code",
   "execution_count": 1,
   "metadata": {},
   "outputs": [],
   "source": [
    "import tensorflow as tf\n",
    "import numpy as np\n",
    "import pickle"
   ]
  },
  {
   "cell_type": "code",
   "execution_count": 3,
   "metadata": {},
   "outputs": [
    {
     "name": "stdout",
     "output_type": "stream",
     "text": [
      "(205000, 24)\n"
     ]
    }
   ],
   "source": [
    "with open ('C:\\\\Users\\\\Wilfred\\\\Desktop\\\\Min-Max\\\\input_layer_4_6_8_2.pickle','rb') as file:\n",
    "    input_data = pickle.load(file)\n",
    "print(input_data.shape)\n",
    "x_train = input_data[:200000,:]\n",
    "x_test = input_data[200000:,:]"
   ]
  },
  {
   "cell_type": "code",
   "execution_count": 5,
   "metadata": {},
   "outputs": [
    {
     "name": "stdout",
     "output_type": "stream",
     "text": [
      "(205000, 12)\n"
     ]
    }
   ],
   "source": [
    "with open ('C:\\\\Users\\\\Wilfred\\\\Desktop\\\\Min-Max\\\\output_layer_4_6_8_2.pickle','rb') as file:\n",
    "    output_data = pickle.load(file)\n",
    "output_data = np.transpose(output_data)\n",
    "y_train = output_data[:200000,:]\n",
    "y_test = output_data[200000:,:]\n",
    "print(output_data.shape)"
   ]
  },
  {
   "cell_type": "code",
   "execution_count": 6,
   "metadata": {},
   "outputs": [
    {
     "name": "stdout",
     "output_type": "stream",
     "text": [
      "Train on 200000 samples, validate on 5000 samples\n",
      "Epoch 1/100\n",
      "200000/200000 - 4s - loss: 0.3235 - accuracy: 0.8686 - val_loss: 0.2429 - val_accuracy: 0.9034\n",
      "Epoch 2/100\n",
      "200000/200000 - 3s - loss: 0.2244 - accuracy: 0.9094 - val_loss: 0.2151 - val_accuracy: 0.9124\n",
      "Epoch 3/100\n",
      "200000/200000 - 3s - loss: 0.2047 - accuracy: 0.9142 - val_loss: 0.2003 - val_accuracy: 0.9153\n",
      "Epoch 4/100\n",
      "200000/200000 - 3s - loss: 0.1927 - accuracy: 0.9162 - val_loss: 0.1896 - val_accuracy: 0.9174\n",
      "Epoch 5/100\n",
      "200000/200000 - 3s - loss: 0.1828 - accuracy: 0.9179 - val_loss: 0.1803 - val_accuracy: 0.9186\n",
      "Epoch 6/100\n",
      "200000/200000 - 3s - loss: 0.1730 - accuracy: 0.9203 - val_loss: 0.1715 - val_accuracy: 0.9214\n",
      "Epoch 7/100\n",
      "200000/200000 - 3s - loss: 0.1624 - accuracy: 0.9236 - val_loss: 0.1612 - val_accuracy: 0.9243\n",
      "Epoch 8/100\n",
      "200000/200000 - 2s - loss: 0.1526 - accuracy: 0.9270 - val_loss: 0.1501 - val_accuracy: 0.9286\n",
      "Epoch 9/100\n",
      "200000/200000 - 2s - loss: 0.1429 - accuracy: 0.9313 - val_loss: 0.1427 - val_accuracy: 0.9316\n",
      "Epoch 10/100\n",
      "200000/200000 - 2s - loss: 0.1340 - accuracy: 0.9354 - val_loss: 0.1329 - val_accuracy: 0.9363\n",
      "Epoch 11/100\n",
      "200000/200000 - 2s - loss: 0.1270 - accuracy: 0.9390 - val_loss: 0.1263 - val_accuracy: 0.9389\n",
      "Epoch 12/100\n",
      "200000/200000 - 2s - loss: 0.1198 - accuracy: 0.9428 - val_loss: 0.1204 - val_accuracy: 0.9428\n",
      "Epoch 13/100\n",
      "200000/200000 - 2s - loss: 0.1138 - accuracy: 0.9460 - val_loss: 0.1139 - val_accuracy: 0.9457\n",
      "Epoch 14/100\n",
      "200000/200000 - 2s - loss: 0.1080 - accuracy: 0.9492 - val_loss: 0.1072 - val_accuracy: 0.9499\n",
      "Epoch 15/100\n",
      "200000/200000 - 2s - loss: 0.1031 - accuracy: 0.9518 - val_loss: 0.1044 - val_accuracy: 0.9515\n",
      "Epoch 16/100\n",
      "200000/200000 - 2s - loss: 0.0983 - accuracy: 0.9544 - val_loss: 0.0992 - val_accuracy: 0.9546\n",
      "Epoch 17/100\n",
      "200000/200000 - 2s - loss: 0.0944 - accuracy: 0.9564 - val_loss: 0.0942 - val_accuracy: 0.9559\n",
      "Epoch 18/100\n",
      "200000/200000 - 2s - loss: 0.0906 - accuracy: 0.9583 - val_loss: 0.0902 - val_accuracy: 0.9589\n",
      "Epoch 19/100\n",
      "200000/200000 - 2s - loss: 0.0876 - accuracy: 0.9599 - val_loss: 0.0895 - val_accuracy: 0.9593\n",
      "Epoch 20/100\n",
      "200000/200000 - 2s - loss: 0.0842 - accuracy: 0.9615 - val_loss: 0.0863 - val_accuracy: 0.9607\n",
      "Epoch 21/100\n",
      "200000/200000 - 2s - loss: 0.0813 - accuracy: 0.9630 - val_loss: 0.0831 - val_accuracy: 0.9627\n",
      "Epoch 22/100\n",
      "200000/200000 - 3s - loss: 0.0785 - accuracy: 0.9642 - val_loss: 0.0808 - val_accuracy: 0.9630\n",
      "Epoch 23/100\n",
      "200000/200000 - 3s - loss: 0.0759 - accuracy: 0.9655 - val_loss: 0.0785 - val_accuracy: 0.9637\n",
      "Epoch 24/100\n",
      "200000/200000 - 3s - loss: 0.0734 - accuracy: 0.9667 - val_loss: 0.0747 - val_accuracy: 0.9665\n",
      "Epoch 25/100\n",
      "200000/200000 - 3s - loss: 0.0711 - accuracy: 0.9679 - val_loss: 0.0730 - val_accuracy: 0.9673\n",
      "Epoch 26/100\n",
      "200000/200000 - 3s - loss: 0.0687 - accuracy: 0.9688 - val_loss: 0.0702 - val_accuracy: 0.9679\n",
      "Epoch 27/100\n",
      "200000/200000 - 3s - loss: 0.0665 - accuracy: 0.9696 - val_loss: 0.0691 - val_accuracy: 0.9689\n",
      "Epoch 28/100\n",
      "200000/200000 - 3s - loss: 0.0644 - accuracy: 0.9706 - val_loss: 0.0660 - val_accuracy: 0.9702\n",
      "Epoch 29/100\n",
      "200000/200000 - 3s - loss: 0.0625 - accuracy: 0.9714 - val_loss: 0.0657 - val_accuracy: 0.9692\n",
      "Epoch 30/100\n",
      "200000/200000 - 3s - loss: 0.0608 - accuracy: 0.9721 - val_loss: 0.0638 - val_accuracy: 0.9709\n",
      "Epoch 31/100\n",
      "200000/200000 - 3s - loss: 0.0590 - accuracy: 0.9729 - val_loss: 0.0611 - val_accuracy: 0.9719\n",
      "Epoch 32/100\n",
      "200000/200000 - 3s - loss: 0.0574 - accuracy: 0.9736 - val_loss: 0.0607 - val_accuracy: 0.9715\n",
      "Epoch 33/100\n",
      "200000/200000 - 2s - loss: 0.0556 - accuracy: 0.9744 - val_loss: 0.0579 - val_accuracy: 0.9730\n",
      "Epoch 34/100\n",
      "200000/200000 - 2s - loss: 0.0541 - accuracy: 0.9750 - val_loss: 0.0575 - val_accuracy: 0.9730\n",
      "Epoch 35/100\n",
      "200000/200000 - 2s - loss: 0.0531 - accuracy: 0.9752 - val_loss: 0.0565 - val_accuracy: 0.9735\n",
      "Epoch 36/100\n",
      "200000/200000 - 2s - loss: 0.0516 - accuracy: 0.9758 - val_loss: 0.0543 - val_accuracy: 0.9742\n",
      "Epoch 37/100\n",
      "200000/200000 - 2s - loss: 0.0505 - accuracy: 0.9762 - val_loss: 0.0553 - val_accuracy: 0.9740\n",
      "Epoch 38/100\n",
      "200000/200000 - 2s - loss: 0.0494 - accuracy: 0.9768 - val_loss: 0.0551 - val_accuracy: 0.9733\n",
      "Epoch 39/100\n",
      "200000/200000 - 2s - loss: 0.0485 - accuracy: 0.9771 - val_loss: 0.0524 - val_accuracy: 0.9749\n",
      "Epoch 40/100\n",
      "200000/200000 - 2s - loss: 0.0470 - accuracy: 0.9776 - val_loss: 0.0508 - val_accuracy: 0.9760\n",
      "Epoch 41/100\n",
      "200000/200000 - 3s - loss: 0.0464 - accuracy: 0.9778 - val_loss: 0.0548 - val_accuracy: 0.9735\n",
      "Epoch 42/100\n",
      "200000/200000 - 2s - loss: 0.0455 - accuracy: 0.9782 - val_loss: 0.0485 - val_accuracy: 0.9767\n",
      "Epoch 43/100\n",
      "200000/200000 - 3s - loss: 0.0447 - accuracy: 0.9784 - val_loss: 0.0477 - val_accuracy: 0.9763\n",
      "Epoch 44/100\n",
      "200000/200000 - 3s - loss: 0.0437 - accuracy: 0.9789 - val_loss: 0.0491 - val_accuracy: 0.9760\n",
      "Epoch 45/100\n",
      "200000/200000 - 3s - loss: 0.0432 - accuracy: 0.9791 - val_loss: 0.0467 - val_accuracy: 0.9768\n",
      "Epoch 46/100\n",
      "200000/200000 - 3s - loss: 0.0423 - accuracy: 0.9795 - val_loss: 0.0463 - val_accuracy: 0.9769\n",
      "Epoch 47/100\n",
      "200000/200000 - 3s - loss: 0.0420 - accuracy: 0.9795 - val_loss: 0.0476 - val_accuracy: 0.9766\n",
      "Epoch 48/100\n",
      "200000/200000 - 3s - loss: 0.0412 - accuracy: 0.9799 - val_loss: 0.0462 - val_accuracy: 0.9768\n",
      "Epoch 49/100\n",
      "200000/200000 - 3s - loss: 0.0403 - accuracy: 0.9802 - val_loss: 0.0465 - val_accuracy: 0.9768\n",
      "Epoch 50/100\n",
      "200000/200000 - 3s - loss: 0.0399 - accuracy: 0.9804 - val_loss: 0.0458 - val_accuracy: 0.9767\n",
      "Epoch 51/100\n",
      "200000/200000 - 3s - loss: 0.0393 - accuracy: 0.9805 - val_loss: 0.0437 - val_accuracy: 0.9783\n",
      "Epoch 52/100\n",
      "200000/200000 - 3s - loss: 0.0388 - accuracy: 0.9808 - val_loss: 0.0433 - val_accuracy: 0.9781\n",
      "Epoch 53/100\n",
      "200000/200000 - 3s - loss: 0.0382 - accuracy: 0.9810 - val_loss: 0.0430 - val_accuracy: 0.9785\n",
      "Epoch 54/100\n",
      "200000/200000 - 3s - loss: 0.0378 - accuracy: 0.9811 - val_loss: 0.0445 - val_accuracy: 0.9775\n",
      "Epoch 55/100\n",
      "200000/200000 - 3s - loss: 0.0373 - accuracy: 0.9814 - val_loss: 0.0420 - val_accuracy: 0.9787\n",
      "Epoch 56/100\n",
      "200000/200000 - 3s - loss: 0.0367 - accuracy: 0.9816 - val_loss: 0.0412 - val_accuracy: 0.9792\n",
      "Epoch 57/100\n",
      "200000/200000 - 3s - loss: 0.0363 - accuracy: 0.9818 - val_loss: 0.0419 - val_accuracy: 0.9786\n",
      "Epoch 58/100\n",
      "200000/200000 - 2s - loss: 0.0358 - accuracy: 0.9820 - val_loss: 0.0424 - val_accuracy: 0.9778\n",
      "Epoch 59/100\n",
      "200000/200000 - 3s - loss: 0.0356 - accuracy: 0.9819 - val_loss: 0.0402 - val_accuracy: 0.9795\n",
      "Epoch 60/100\n",
      "200000/200000 - 3s - loss: 0.0352 - accuracy: 0.9821 - val_loss: 0.0396 - val_accuracy: 0.9794\n",
      "Epoch 61/100\n",
      "200000/200000 - 2s - loss: 0.0347 - accuracy: 0.9823 - val_loss: 0.0405 - val_accuracy: 0.9793\n",
      "Epoch 62/100\n",
      "200000/200000 - 3s - loss: 0.0344 - accuracy: 0.9825 - val_loss: 0.0400 - val_accuracy: 0.9797\n",
      "Epoch 63/100\n",
      "200000/200000 - 2s - loss: 0.0342 - accuracy: 0.9825 - val_loss: 0.0400 - val_accuracy: 0.9797\n",
      "Epoch 64/100\n",
      "200000/200000 - 2s - loss: 0.0338 - accuracy: 0.9827 - val_loss: 0.0395 - val_accuracy: 0.9794\n",
      "Epoch 65/100\n",
      "200000/200000 - 3s - loss: 0.0334 - accuracy: 0.9828 - val_loss: 0.0403 - val_accuracy: 0.9791\n",
      "Epoch 66/100\n",
      "200000/200000 - 3s - loss: 0.0331 - accuracy: 0.9830 - val_loss: 0.0391 - val_accuracy: 0.9795\n",
      "Epoch 67/100\n",
      "200000/200000 - 3s - loss: 0.0328 - accuracy: 0.9830 - val_loss: 0.0379 - val_accuracy: 0.9803\n",
      "Epoch 68/100\n",
      "200000/200000 - 3s - loss: 0.0325 - accuracy: 0.9832 - val_loss: 0.0383 - val_accuracy: 0.9802\n",
      "Epoch 69/100\n",
      "200000/200000 - 3s - loss: 0.0322 - accuracy: 0.9833 - val_loss: 0.0386 - val_accuracy: 0.9797\n",
      "Epoch 70/100\n",
      "200000/200000 - 3s - loss: 0.0318 - accuracy: 0.9835 - val_loss: 0.0387 - val_accuracy: 0.9800\n",
      "Epoch 71/100\n",
      "200000/200000 - 3s - loss: 0.0318 - accuracy: 0.9834 - val_loss: 0.0378 - val_accuracy: 0.9803\n",
      "Epoch 72/100\n",
      "200000/200000 - 3s - loss: 0.0313 - accuracy: 0.9837 - val_loss: 0.0375 - val_accuracy: 0.9804\n",
      "Epoch 73/100\n",
      "200000/200000 - 3s - loss: 0.0313 - accuracy: 0.9836 - val_loss: 0.0361 - val_accuracy: 0.9806\n",
      "Epoch 74/100\n",
      "200000/200000 - 3s - loss: 0.0308 - accuracy: 0.9838 - val_loss: 0.0365 - val_accuracy: 0.9808\n",
      "Epoch 75/100\n",
      "200000/200000 - 3s - loss: 0.0306 - accuracy: 0.9840 - val_loss: 0.0368 - val_accuracy: 0.9804\n",
      "Epoch 76/100\n",
      "200000/200000 - 3s - loss: 0.0303 - accuracy: 0.9841 - val_loss: 0.0358 - val_accuracy: 0.9808\n"
     ]
    },
    {
     "name": "stdout",
     "output_type": "stream",
     "text": [
      "Epoch 77/100\n",
      "200000/200000 - 3s - loss: 0.0303 - accuracy: 0.9841 - val_loss: 0.0383 - val_accuracy: 0.9801\n",
      "Epoch 78/100\n",
      "200000/200000 - 3s - loss: 0.0301 - accuracy: 0.9842 - val_loss: 0.0357 - val_accuracy: 0.9807\n",
      "Epoch 79/100\n",
      "200000/200000 - 3s - loss: 0.0298 - accuracy: 0.9843 - val_loss: 0.0351 - val_accuracy: 0.9805\n",
      "Epoch 80/100\n",
      "200000/200000 - 3s - loss: 0.0297 - accuracy: 0.9843 - val_loss: 0.0368 - val_accuracy: 0.9804\n",
      "Epoch 81/100\n",
      "200000/200000 - 3s - loss: 0.0298 - accuracy: 0.9843 - val_loss: 0.0360 - val_accuracy: 0.9808\n",
      "Epoch 82/100\n",
      "200000/200000 - 3s - loss: 0.0295 - accuracy: 0.9843 - val_loss: 0.0354 - val_accuracy: 0.9813\n",
      "Epoch 83/100\n",
      "200000/200000 - 3s - loss: 0.0291 - accuracy: 0.9846 - val_loss: 0.0347 - val_accuracy: 0.9813\n",
      "Epoch 84/100\n",
      "200000/200000 - 3s - loss: 0.0291 - accuracy: 0.9846 - val_loss: 0.0358 - val_accuracy: 0.9807\n",
      "Epoch 85/100\n",
      "200000/200000 - 3s - loss: 0.0289 - accuracy: 0.9846 - val_loss: 0.0366 - val_accuracy: 0.9806\n",
      "Epoch 86/100\n",
      "200000/200000 - 3s - loss: 0.0287 - accuracy: 0.9848 - val_loss: 0.0349 - val_accuracy: 0.9808\n",
      "Epoch 87/100\n",
      "200000/200000 - 3s - loss: 0.0286 - accuracy: 0.9848 - val_loss: 0.0354 - val_accuracy: 0.9813\n",
      "Epoch 88/100\n",
      "200000/200000 - 3s - loss: 0.0286 - accuracy: 0.9849 - val_loss: 0.0352 - val_accuracy: 0.9806\n",
      "Epoch 89/100\n",
      "200000/200000 - 3s - loss: 0.0282 - accuracy: 0.9851 - val_loss: 0.0342 - val_accuracy: 0.9816\n",
      "Epoch 90/100\n",
      "200000/200000 - 3s - loss: 0.0279 - accuracy: 0.9851 - val_loss: 0.0333 - val_accuracy: 0.9820\n",
      "Epoch 91/100\n",
      "200000/200000 - 3s - loss: 0.0280 - accuracy: 0.9851 - val_loss: 0.0337 - val_accuracy: 0.9817\n",
      "Epoch 92/100\n",
      "200000/200000 - 3s - loss: 0.0280 - accuracy: 0.9851 - val_loss: 0.0351 - val_accuracy: 0.9810\n",
      "Epoch 93/100\n",
      "200000/200000 - 3s - loss: 0.0277 - accuracy: 0.9852 - val_loss: 0.0342 - val_accuracy: 0.9812\n",
      "Epoch 94/100\n",
      "200000/200000 - 3s - loss: 0.0276 - accuracy: 0.9852 - val_loss: 0.0335 - val_accuracy: 0.9815\n",
      "Epoch 95/100\n",
      "200000/200000 - 3s - loss: 0.0273 - accuracy: 0.9855 - val_loss: 0.0353 - val_accuracy: 0.9808\n",
      "Epoch 96/100\n",
      "200000/200000 - 3s - loss: 0.0276 - accuracy: 0.9852 - val_loss: 0.0338 - val_accuracy: 0.9821\n",
      "Epoch 97/100\n",
      "200000/200000 - 3s - loss: 0.0273 - accuracy: 0.9855 - val_loss: 0.0334 - val_accuracy: 0.9816\n",
      "Epoch 98/100\n",
      "200000/200000 - 3s - loss: 0.0269 - accuracy: 0.9856 - val_loss: 0.0332 - val_accuracy: 0.9817\n",
      "Epoch 99/100\n",
      "200000/200000 - 3s - loss: 0.0270 - accuracy: 0.9856 - val_loss: 0.0328 - val_accuracy: 0.9816\n",
      "Epoch 100/100\n",
      "200000/200000 - 3s - loss: 0.0267 - accuracy: 0.9857 - val_loss: 0.0326 - val_accuracy: 0.9821\n"
     ]
    }
   ],
   "source": [
    "model = tf.keras.models.Sequential([\n",
    "    tf.keras.layers.Dense(150,input_shape = [24], activation = 'relu'),\n",
    "    tf.keras.layers.Dense(150, activation = 'relu'),\n",
    "    tf.keras.layers.Dense(150, activation = 'relu'),\n",
    "    tf.keras.layers.Dense(12, activation = 'sigmoid')\n",
    "])\n",
    "\n",
    "model.compile(optimizer = 'adam', loss = 'binary_crossentropy', metrics = ['accuracy'])\n",
    "\n",
    "history = model.fit(x_train, y_train, batch_size = 1024, epochs = 100, verbose = 2,validation_data = (x_test, y_test))\n"
   ]
  },
  {
   "cell_type": "code",
   "execution_count": 8,
   "metadata": {},
   "outputs": [
    {
     "data": {
      "text/plain": [
       "<matplotlib.legend.Legend at 0x27d0f2ace88>"
      ]
     },
     "execution_count": 8,
     "metadata": {},
     "output_type": "execute_result"
    },
    {
     "data": {
      "image/png": "[encoded data removed]",
      "text/plain": [
       "<Figure size 432x288 with 1 Axes>"
      ]
     },
     "metadata": {
      "needs_background": "light"
     },
     "output_type": "display_data"
    }
   ],
   "source": [
    "import matplotlib.pyplot as plt\n",
    "plt.figure()\n",
    "acc = history.history['accuracy']\n",
    "loss = history.history['loss']\n",
    "val_acc = history.history['val_accuracy']\n",
    "val_loss = history.history['val_loss']\n",
    "\n",
    "epochs = range(len(acc))\n",
    "plt.plot(epochs, acc, 'r', label = 'Training accuracy')\n",
    "plt.plot(epochs, val_acc, 'b', label = 'Validating accuracy')\n",
    "plt.title('Training and Validating Accuracy')\n",
    "plt.legend()"
   ]
  },
  {
   "cell_type": "code",
   "execution_count": 9,
   "metadata": {},
   "outputs": [],
   "source": [
    "model.save('C:\\\\Users\\\\Wilfred\\\\Desktop\\\\weights\\\\Min_Max\\\\Min_Max_4_6_8_2_model.h5')"
   ]
  },
  {
   "cell_type": "code",
   "execution_count": null,
   "metadata": {},
   "outputs": [],
   "source": []
  }
 ],
 "metadata": {
  "kernelspec": {
   "display_name": "Python 3",
   "language": "python",
   "name": "python3"
  },
  "language_info": {
   "codemirror_mode": {
    "name": "ipython",
    "version": 3
   },
   "file_extension": ".py",
   "mimetype": "text/x-python",
   "name": "python",
   "nbconvert_exporter": "python",
   "pygments_lexer": "ipython3",
   "version": "3.7.5"
  }
 },
 "nbformat": 4,
 "nbformat_minor": 2
}
