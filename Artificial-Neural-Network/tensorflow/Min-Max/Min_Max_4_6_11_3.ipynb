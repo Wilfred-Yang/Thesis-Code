{
 "cells": [
  {
   "cell_type": "code",
   "execution_count": 1,
   "metadata": {},
   "outputs": [],
   "source": [
    "import tensorflow as tf\n",
    "import numpy as np\n",
    "import pickle"
   ]
  },
  {
   "cell_type": "code",
   "execution_count": 2,
   "metadata": {},
   "outputs": [
    {
     "name": "stdout",
     "output_type": "stream",
     "text": [
      "(105000, 24)\n"
     ]
    }
   ],
   "source": [
    "#C:\\Users\\Wilfred\\Desktop\\Min-Max\n",
    "with open ('C:\\\\Users\\\\Wilfred\\\\Desktop\\\\Min-Max\\\\input_layer_4_6_11_3.pickle','rb') as file:\n",
    "    input_data = pickle.load(file)\n",
    "print(input_data.shape)\n",
    "x_train = input_data[:100000,:]\n",
    "x_test = input_data[100000:,:]"
   ]
  },
  {
   "cell_type": "code",
   "execution_count": 3,
   "metadata": {},
   "outputs": [
    {
     "name": "stdout",
     "output_type": "stream",
     "text": [
      "(12, 105000)\n"
     ]
    }
   ],
   "source": [
    "with open ('C:\\\\Users\\\\Wilfred\\\\Desktop\\\\Min-Max\\\\output_layer_4_6_11_3.pickle','rb') as file:\n",
    "    output_data = pickle.load(file)\n",
    "print(output_data.shape)\n"
   ]
  },
  {
   "cell_type": "code",
   "execution_count": 4,
   "metadata": {},
   "outputs": [],
   "source": [
    "output_data = np.transpose(output_data)\n",
    "y_train = output_data[:100000,:]\n",
    "y_test = output_data[100000:,:]"
   ]
  },
  {
   "cell_type": "code",
   "execution_count": 5,
   "metadata": {},
   "outputs": [
    {
     "name": "stdout",
     "output_type": "stream",
     "text": [
      "Train on 100000 samples, validate on 5000 samples\n",
      "Epoch 1/100\n",
      "100000/100000 - 2s - loss: 0.3407 - accuracy: 0.8597 - val_loss: 0.2718 - val_accuracy: 0.8883\n",
      "Epoch 2/100\n",
      "100000/100000 - 1s - loss: 0.2475 - accuracy: 0.8996 - val_loss: 0.2287 - val_accuracy: 0.9069\n",
      "Epoch 3/100\n",
      "100000/100000 - 1s - loss: 0.2199 - accuracy: 0.9103 - val_loss: 0.2129 - val_accuracy: 0.9119\n",
      "Epoch 4/100\n",
      "100000/100000 - 1s - loss: 0.2087 - accuracy: 0.9135 - val_loss: 0.2057 - val_accuracy: 0.9136\n",
      "Epoch 5/100\n",
      "100000/100000 - 1s - loss: 0.2012 - accuracy: 0.9151 - val_loss: 0.1991 - val_accuracy: 0.9148\n",
      "Epoch 6/100\n",
      "100000/100000 - 1s - loss: 0.1960 - accuracy: 0.9159 - val_loss: 0.1948 - val_accuracy: 0.9154\n",
      "Epoch 7/100\n",
      "100000/100000 - 1s - loss: 0.1916 - accuracy: 0.9168 - val_loss: 0.1919 - val_accuracy: 0.9159\n",
      "Epoch 8/100\n",
      "100000/100000 - 1s - loss: 0.1870 - accuracy: 0.9182 - val_loss: 0.1869 - val_accuracy: 0.9171\n",
      "Epoch 9/100\n",
      "100000/100000 - 1s - loss: 0.1834 - accuracy: 0.9193 - val_loss: 0.1830 - val_accuracy: 0.9193\n",
      "Epoch 10/100\n",
      "100000/100000 - 1s - loss: 0.1786 - accuracy: 0.9212 - val_loss: 0.1793 - val_accuracy: 0.9202\n",
      "Epoch 11/100\n",
      "100000/100000 - 1s - loss: 0.1743 - accuracy: 0.9225 - val_loss: 0.1744 - val_accuracy: 0.9214\n",
      "Epoch 12/100\n",
      "100000/100000 - 1s - loss: 0.1688 - accuracy: 0.9247 - val_loss: 0.1691 - val_accuracy: 0.9244\n",
      "Epoch 13/100\n",
      "100000/100000 - 1s - loss: 0.1626 - accuracy: 0.9270 - val_loss: 0.1634 - val_accuracy: 0.9257\n",
      "Epoch 14/100\n",
      "100000/100000 - 1s - loss: 0.1572 - accuracy: 0.9287 - val_loss: 0.1580 - val_accuracy: 0.9284\n",
      "Epoch 15/100\n",
      "100000/100000 - 1s - loss: 0.1516 - accuracy: 0.9307 - val_loss: 0.1537 - val_accuracy: 0.9284\n",
      "Epoch 16/100\n",
      "100000/100000 - 1s - loss: 0.1462 - accuracy: 0.9327 - val_loss: 0.1483 - val_accuracy: 0.9306\n",
      "Epoch 17/100\n",
      "100000/100000 - 1s - loss: 0.1417 - accuracy: 0.9343 - val_loss: 0.1435 - val_accuracy: 0.9331\n",
      "Epoch 18/100\n",
      "100000/100000 - 1s - loss: 0.1374 - accuracy: 0.9358 - val_loss: 0.1396 - val_accuracy: 0.9341\n",
      "Epoch 19/100\n",
      "100000/100000 - 1s - loss: 0.1336 - accuracy: 0.9371 - val_loss: 0.1368 - val_accuracy: 0.9347\n",
      "Epoch 20/100\n",
      "100000/100000 - 1s - loss: 0.1296 - accuracy: 0.9389 - val_loss: 0.1347 - val_accuracy: 0.9355\n",
      "Epoch 21/100\n",
      "100000/100000 - 1s - loss: 0.1264 - accuracy: 0.9400 - val_loss: 0.1302 - val_accuracy: 0.9373\n",
      "Epoch 22/100\n",
      "100000/100000 - 1s - loss: 0.1236 - accuracy: 0.9413 - val_loss: 0.1301 - val_accuracy: 0.9377\n",
      "Epoch 23/100\n",
      "100000/100000 - 1s - loss: 0.1206 - accuracy: 0.9425 - val_loss: 0.1270 - val_accuracy: 0.9388\n",
      "Epoch 24/100\n",
      "100000/100000 - 1s - loss: 0.1181 - accuracy: 0.9438 - val_loss: 0.1245 - val_accuracy: 0.9400\n",
      "Epoch 25/100\n",
      "100000/100000 - 1s - loss: 0.1153 - accuracy: 0.9449 - val_loss: 0.1214 - val_accuracy: 0.9412\n",
      "Epoch 26/100\n",
      "100000/100000 - 1s - loss: 0.1132 - accuracy: 0.9459 - val_loss: 0.1193 - val_accuracy: 0.9427\n",
      "Epoch 27/100\n",
      "100000/100000 - 1s - loss: 0.1107 - accuracy: 0.9473 - val_loss: 0.1176 - val_accuracy: 0.9425\n",
      "Epoch 28/100\n",
      "100000/100000 - 1s - loss: 0.1085 - accuracy: 0.9483 - val_loss: 0.1180 - val_accuracy: 0.9434\n",
      "Epoch 29/100\n",
      "100000/100000 - 1s - loss: 0.1067 - accuracy: 0.9495 - val_loss: 0.1150 - val_accuracy: 0.9448\n",
      "Epoch 30/100\n",
      "100000/100000 - 1s - loss: 0.1047 - accuracy: 0.9504 - val_loss: 0.1121 - val_accuracy: 0.9455\n",
      "Epoch 31/100\n",
      "100000/100000 - 1s - loss: 0.1033 - accuracy: 0.9512 - val_loss: 0.1119 - val_accuracy: 0.9470\n",
      "Epoch 32/100\n",
      "100000/100000 - 1s - loss: 0.1016 - accuracy: 0.9520 - val_loss: 0.1093 - val_accuracy: 0.9467\n",
      "Epoch 33/100\n",
      "100000/100000 - 1s - loss: 0.0993 - accuracy: 0.9534 - val_loss: 0.1095 - val_accuracy: 0.9478\n",
      "Epoch 34/100\n",
      "100000/100000 - 1s - loss: 0.0982 - accuracy: 0.9539 - val_loss: 0.1071 - val_accuracy: 0.9481\n",
      "Epoch 35/100\n",
      "100000/100000 - 1s - loss: 0.0965 - accuracy: 0.9551 - val_loss: 0.1063 - val_accuracy: 0.9488\n",
      "Epoch 36/100\n",
      "100000/100000 - 2s - loss: 0.0950 - accuracy: 0.9557 - val_loss: 0.1057 - val_accuracy: 0.9498\n",
      "Epoch 37/100\n",
      "100000/100000 - 2s - loss: 0.0938 - accuracy: 0.9565 - val_loss: 0.1037 - val_accuracy: 0.9503\n",
      "Epoch 38/100\n",
      "100000/100000 - 1s - loss: 0.0921 - accuracy: 0.9574 - val_loss: 0.1022 - val_accuracy: 0.9518\n",
      "Epoch 39/100\n",
      "100000/100000 - 1s - loss: 0.0911 - accuracy: 0.9578 - val_loss: 0.1008 - val_accuracy: 0.9520\n",
      "Epoch 40/100\n",
      "100000/100000 - 1s - loss: 0.0897 - accuracy: 0.9587 - val_loss: 0.1007 - val_accuracy: 0.9527\n",
      "Epoch 41/100\n",
      "100000/100000 - 1s - loss: 0.0885 - accuracy: 0.9595 - val_loss: 0.0998 - val_accuracy: 0.9528\n",
      "Epoch 42/100\n",
      "100000/100000 - 1s - loss: 0.0873 - accuracy: 0.9601 - val_loss: 0.0980 - val_accuracy: 0.9526\n",
      "Epoch 43/100\n",
      "100000/100000 - 2s - loss: 0.0862 - accuracy: 0.9606 - val_loss: 0.0992 - val_accuracy: 0.9531\n",
      "Epoch 44/100\n",
      "100000/100000 - 1s - loss: 0.0851 - accuracy: 0.9610 - val_loss: 0.0969 - val_accuracy: 0.9545\n",
      "Epoch 45/100\n",
      "100000/100000 - 1s - loss: 0.0836 - accuracy: 0.9620 - val_loss: 0.0961 - val_accuracy: 0.9554\n",
      "Epoch 46/100\n",
      "100000/100000 - 1s - loss: 0.0825 - accuracy: 0.9626 - val_loss: 0.0954 - val_accuracy: 0.9558\n",
      "Epoch 47/100\n",
      "100000/100000 - 1s - loss: 0.0813 - accuracy: 0.9634 - val_loss: 0.0945 - val_accuracy: 0.9555\n",
      "Epoch 48/100\n",
      "100000/100000 - 1s - loss: 0.0806 - accuracy: 0.9637 - val_loss: 0.0931 - val_accuracy: 0.9567\n",
      "Epoch 49/100\n",
      "100000/100000 - 1s - loss: 0.0792 - accuracy: 0.9645 - val_loss: 0.0932 - val_accuracy: 0.9568\n",
      "Epoch 50/100\n",
      "100000/100000 - 2s - loss: 0.0783 - accuracy: 0.9650 - val_loss: 0.0917 - val_accuracy: 0.9576\n",
      "Epoch 51/100\n",
      "100000/100000 - 1s - loss: 0.0776 - accuracy: 0.9652 - val_loss: 0.0901 - val_accuracy: 0.9586\n",
      "Epoch 52/100\n",
      "100000/100000 - 1s - loss: 0.0762 - accuracy: 0.9662 - val_loss: 0.0906 - val_accuracy: 0.9580\n",
      "Epoch 53/100\n",
      "100000/100000 - 1s - loss: 0.0752 - accuracy: 0.9667 - val_loss: 0.0937 - val_accuracy: 0.9566\n",
      "Epoch 54/100\n",
      "100000/100000 - 1s - loss: 0.0747 - accuracy: 0.9669 - val_loss: 0.0895 - val_accuracy: 0.9589\n",
      "Epoch 55/100\n",
      "100000/100000 - 2s - loss: 0.0739 - accuracy: 0.9673 - val_loss: 0.0899 - val_accuracy: 0.9587\n",
      "Epoch 56/100\n",
      "100000/100000 - 2s - loss: 0.0728 - accuracy: 0.9679 - val_loss: 0.0893 - val_accuracy: 0.9590\n",
      "Epoch 57/100\n",
      "100000/100000 - 1s - loss: 0.0720 - accuracy: 0.9682 - val_loss: 0.0878 - val_accuracy: 0.9595\n",
      "Epoch 58/100\n",
      "100000/100000 - 1s - loss: 0.0711 - accuracy: 0.9688 - val_loss: 0.0871 - val_accuracy: 0.9610\n",
      "Epoch 59/100\n",
      "100000/100000 - 1s - loss: 0.0700 - accuracy: 0.9694 - val_loss: 0.0855 - val_accuracy: 0.9613\n",
      "Epoch 60/100\n",
      "100000/100000 - 1s - loss: 0.0697 - accuracy: 0.9695 - val_loss: 0.0872 - val_accuracy: 0.9603\n",
      "Epoch 61/100\n",
      "100000/100000 - 1s - loss: 0.0690 - accuracy: 0.9698 - val_loss: 0.0864 - val_accuracy: 0.9608\n",
      "Epoch 62/100\n",
      "100000/100000 - 1s - loss: 0.0678 - accuracy: 0.9705 - val_loss: 0.0846 - val_accuracy: 0.9610\n",
      "Epoch 63/100\n",
      "100000/100000 - 1s - loss: 0.0672 - accuracy: 0.9707 - val_loss: 0.0851 - val_accuracy: 0.9621\n",
      "Epoch 64/100\n",
      "100000/100000 - 1s - loss: 0.0668 - accuracy: 0.9710 - val_loss: 0.0844 - val_accuracy: 0.9622\n",
      "Epoch 65/100\n",
      "100000/100000 - 1s - loss: 0.0661 - accuracy: 0.9712 - val_loss: 0.0834 - val_accuracy: 0.9627\n",
      "Epoch 66/100\n",
      "100000/100000 - 1s - loss: 0.0649 - accuracy: 0.9719 - val_loss: 0.0822 - val_accuracy: 0.9631\n",
      "Epoch 67/100\n",
      "100000/100000 - 1s - loss: 0.0645 - accuracy: 0.9721 - val_loss: 0.0823 - val_accuracy: 0.9631\n",
      "Epoch 68/100\n",
      "100000/100000 - 1s - loss: 0.0639 - accuracy: 0.9723 - val_loss: 0.0821 - val_accuracy: 0.9631\n",
      "Epoch 69/100\n",
      "100000/100000 - 1s - loss: 0.0633 - accuracy: 0.9726 - val_loss: 0.0812 - val_accuracy: 0.9640\n",
      "Epoch 70/100\n",
      "100000/100000 - 1s - loss: 0.0623 - accuracy: 0.9733 - val_loss: 0.0819 - val_accuracy: 0.9630\n",
      "Epoch 71/100\n",
      "100000/100000 - 1s - loss: 0.0621 - accuracy: 0.9732 - val_loss: 0.0793 - val_accuracy: 0.9651\n",
      "Epoch 72/100\n",
      "100000/100000 - 1s - loss: 0.0614 - accuracy: 0.9736 - val_loss: 0.0801 - val_accuracy: 0.9644\n",
      "Epoch 73/100\n",
      "100000/100000 - 1s - loss: 0.0600 - accuracy: 0.9743 - val_loss: 0.0793 - val_accuracy: 0.9646\n",
      "Epoch 74/100\n",
      "100000/100000 - 1s - loss: 0.0603 - accuracy: 0.9741 - val_loss: 0.0790 - val_accuracy: 0.9659\n",
      "Epoch 75/100\n",
      "100000/100000 - 1s - loss: 0.0596 - accuracy: 0.9744 - val_loss: 0.0801 - val_accuracy: 0.9650\n",
      "Epoch 76/100\n",
      "100000/100000 - 2s - loss: 0.0591 - accuracy: 0.9747 - val_loss: 0.0778 - val_accuracy: 0.9662\n"
     ]
    },
    {
     "name": "stdout",
     "output_type": "stream",
     "text": [
      "Epoch 77/100\n",
      "100000/100000 - 1s - loss: 0.0581 - accuracy: 0.9752 - val_loss: 0.0785 - val_accuracy: 0.9655\n",
      "Epoch 78/100\n",
      "100000/100000 - 1s - loss: 0.0579 - accuracy: 0.9753 - val_loss: 0.0797 - val_accuracy: 0.9653\n",
      "Epoch 79/100\n",
      "100000/100000 - 1s - loss: 0.0573 - accuracy: 0.9754 - val_loss: 0.0769 - val_accuracy: 0.9660\n",
      "Epoch 80/100\n",
      "100000/100000 - 1s - loss: 0.0568 - accuracy: 0.9757 - val_loss: 0.0769 - val_accuracy: 0.9662\n",
      "Epoch 81/100\n",
      "100000/100000 - 1s - loss: 0.0564 - accuracy: 0.9759 - val_loss: 0.0761 - val_accuracy: 0.9671\n",
      "Epoch 82/100\n",
      "100000/100000 - 1s - loss: 0.0557 - accuracy: 0.9762 - val_loss: 0.0780 - val_accuracy: 0.9666\n",
      "Epoch 83/100\n",
      "100000/100000 - 1s - loss: 0.0554 - accuracy: 0.9764 - val_loss: 0.0766 - val_accuracy: 0.9680\n",
      "Epoch 84/100\n",
      "100000/100000 - 1s - loss: 0.0551 - accuracy: 0.9765 - val_loss: 0.0766 - val_accuracy: 0.9669\n",
      "Epoch 85/100\n",
      "100000/100000 - 1s - loss: 0.0545 - accuracy: 0.9768 - val_loss: 0.0758 - val_accuracy: 0.9676\n",
      "Epoch 86/100\n",
      "100000/100000 - 1s - loss: 0.0539 - accuracy: 0.9771 - val_loss: 0.0749 - val_accuracy: 0.9683\n",
      "Epoch 87/100\n",
      "100000/100000 - 1s - loss: 0.0535 - accuracy: 0.9773 - val_loss: 0.0765 - val_accuracy: 0.9672\n",
      "Epoch 88/100\n",
      "100000/100000 - 1s - loss: 0.0529 - accuracy: 0.9776 - val_loss: 0.0750 - val_accuracy: 0.9682\n",
      "Epoch 89/100\n",
      "100000/100000 - 1s - loss: 0.0529 - accuracy: 0.9776 - val_loss: 0.0738 - val_accuracy: 0.9686\n",
      "Epoch 90/100\n",
      "100000/100000 - 1s - loss: 0.0521 - accuracy: 0.9779 - val_loss: 0.0746 - val_accuracy: 0.9674\n",
      "Epoch 91/100\n",
      "100000/100000 - 1s - loss: 0.0519 - accuracy: 0.9781 - val_loss: 0.0737 - val_accuracy: 0.9688\n",
      "Epoch 92/100\n",
      "100000/100000 - 1s - loss: 0.0517 - accuracy: 0.9780 - val_loss: 0.0739 - val_accuracy: 0.9689\n",
      "Epoch 93/100\n",
      "100000/100000 - 1s - loss: 0.0513 - accuracy: 0.9783 - val_loss: 0.0742 - val_accuracy: 0.9682\n",
      "Epoch 94/100\n",
      "100000/100000 - 1s - loss: 0.0506 - accuracy: 0.9787 - val_loss: 0.0744 - val_accuracy: 0.9678\n",
      "Epoch 95/100\n",
      "100000/100000 - 1s - loss: 0.0505 - accuracy: 0.9788 - val_loss: 0.0766 - val_accuracy: 0.9676\n",
      "Epoch 96/100\n",
      "100000/100000 - 1s - loss: 0.0504 - accuracy: 0.9787 - val_loss: 0.0745 - val_accuracy: 0.9682\n",
      "Epoch 97/100\n",
      "100000/100000 - 1s - loss: 0.0495 - accuracy: 0.9792 - val_loss: 0.0721 - val_accuracy: 0.9696\n",
      "Epoch 98/100\n",
      "100000/100000 - 1s - loss: 0.0488 - accuracy: 0.9795 - val_loss: 0.0733 - val_accuracy: 0.9685\n",
      "Epoch 99/100\n",
      "100000/100000 - 1s - loss: 0.0490 - accuracy: 0.9792 - val_loss: 0.0714 - val_accuracy: 0.9704\n",
      "Epoch 100/100\n",
      "100000/100000 - 1s - loss: 0.0483 - accuracy: 0.9797 - val_loss: 0.0722 - val_accuracy: 0.9697\n"
     ]
    }
   ],
   "source": [
    "\n",
    "model = tf.keras.models.Sequential([\n",
    "    tf.keras.layers.Dense(150,input_shape = [24], activation = 'relu'),\n",
    "    tf.keras.layers.Dense(150, activation = 'relu'),\n",
    "    tf.keras.layers.Dense(150, activation = 'relu'),\n",
    "    tf.keras.layers.Dense(12, activation = 'sigmoid')\n",
    "])\n",
    "\n",
    "model.compile(optimizer = 'adam', loss = 'binary_crossentropy', metrics = ['accuracy'])\n",
    "\n",
    "history = model.fit(x_train, y_train, batch_size = 1024, epochs = 100, verbose = 2,validation_data = (x_test, y_test))\n"
   ]
  },
  {
   "cell_type": "code",
   "execution_count": 7,
   "metadata": {},
   "outputs": [
    {
     "data": {
      "text/plain": [
       "[]"
      ]
     },
     "execution_count": 7,
     "metadata": {},
     "output_type": "execute_result"
    },
    {
     "data": {
      "image/png": "[encoded data removed]",
      "text/plain": [
       "<Figure size 432x288 with 1 Axes>"
      ]
     },
     "metadata": {
      "needs_background": "light"
     },
     "output_type": "display_data"
    }
   ],
   "source": [
    "import matplotlib.pyplot as plt\n",
    "acc = history.history['accuracy']\n",
    "loss = history.history['loss']\n",
    "val_acc = history.history['val_accuracy']\n",
    "val_loss = history.history['val_loss']\n",
    "\n",
    "epochs = range(len(acc))\n",
    "plt.plot(epochs, acc, 'r', label = 'Training accuracy')\n",
    "plt.plot(epochs, val_acc, 'b', label = 'Validating accuracy')\n",
    "plt.title('Training and Validating Accuracy')\n",
    "plt.legend()\n",
    "plt.plot()\n"
   ]
  },
  {
   "cell_type": "code",
   "execution_count": null,
   "metadata": {},
   "outputs": [],
   "source": []
  },
  {
   "cell_type": "code",
   "execution_count": 8,
   "metadata": {},
   "outputs": [],
   "source": [
    "#model.save_weights('C:\\\\Users\\\\Wilfred\\\\Desktop\\\\weights\\\\Min_Max\\\\4_6_11_3')"
   ]
  },
  {
   "cell_type": "code",
   "execution_count": 9,
   "metadata": {},
   "outputs": [
    {
     "name": "stdout",
     "output_type": "stream",
     "text": [
      "5000/1 - 0s - loss: 0.0614 - accuracy: 0.9697\n",
      "Restored model, accuracy: 96.97%\n"
     ]
    }
   ],
   "source": [
    "#model.load_weights('C:\\\\Users\\\\Wilfred\\\\Desktop\\\\weights\\\\Min_Max\\\\4_6_11_3')\n",
    "#loss,acc = model.evaluate(x_test,  y_test, verbose=2)\n",
    "#print(\"Restored model, accuracy: {:5.2f}%\".format(100*acc))"
   ]
  },
  {
   "cell_type": "code",
   "execution_count": 10,
   "metadata": {},
   "outputs": [
    {
     "name": "stdout",
     "output_type": "stream",
     "text": [
      "WARNING:tensorflow:From C:\\Users\\Wilfred\\Anaconda3\\envs\\tf2.0b\\lib\\site-packages\\tensorflow_core\\python\\ops\\resource_variable_ops.py:1781: calling BaseResourceVariable.__init__ (from tensorflow.python.ops.resource_variable_ops) with constraint is deprecated and will be removed in a future version.\n",
      "Instructions for updating:\n",
      "If using Keras pass *_constraint arguments to layers.\n",
      "INFO:tensorflow:Assets written to: C:\\Users\\Wilfred\\Desktop\\weights\\Min_Max\\4_6_11_3\\assets\n"
     ]
    }
   ],
   "source": [
    "#model.save('C:\\\\Users\\\\Wilfred\\\\Desktop\\\\weights\\\\Min_Max\\\\4_6_11_3')"
   ]
  },
  {
   "cell_type": "code",
   "execution_count": 12,
   "metadata": {},
   "outputs": [
    {
     "data": {
      "text/plain": [
       "array([[0.0000000e+00, 0.0000000e+00, 0.0000000e+00, ..., 5.9604645e-08,\n",
       "        6.5776831e-01, 4.3205917e-03],\n",
       "       [0.0000000e+00, 0.0000000e+00, 0.0000000e+00, ..., 2.6822090e-07,\n",
       "        0.0000000e+00, 3.5971403e-05],\n",
       "       [5.3644180e-07, 0.0000000e+00, 9.9999988e-01, ..., 3.8444996e-06,\n",
       "        3.4084916e-04, 5.3346157e-06],\n",
       "       ...,\n",
       "       [0.0000000e+00, 0.0000000e+00, 0.0000000e+00, ..., 9.2211068e-03,\n",
       "        0.0000000e+00, 3.5107136e-05],\n",
       "       [0.0000000e+00, 0.0000000e+00, 0.0000000e+00, ..., 0.0000000e+00,\n",
       "        0.0000000e+00, 2.9802322e-08],\n",
       "       [0.0000000e+00, 1.0000000e+00, 0.0000000e+00, ..., 9.8642409e-03,\n",
       "        7.7126592e-01, 5.9398532e-02]], dtype=float32)"
      ]
     },
     "execution_count": 12,
     "metadata": {},
     "output_type": "execute_result"
    }
   ],
   "source": [
    "#model.predict(x_test)"
   ]
  },
  {
   "cell_type": "code",
   "execution_count": 15,
   "metadata": {},
   "outputs": [],
   "source": [
    "model.save('C:\\\\Users\\\\Wilfred\\\\Desktop\\\\weights\\\\Min_Max\\\\Min_Max_4_6_11_3_model.h5')"
   ]
  },
  {
   "cell_type": "code",
   "execution_count": null,
   "metadata": {},
   "outputs": [],
   "source": []
  }
 ],
 "metadata": {
  "kernelspec": {
   "display_name": "Python 3",
   "language": "python",
   "name": "python3"
  },
  "language_info": {
   "codemirror_mode": {
    "name": "ipython",
    "version": 3
   },
   "file_extension": ".py",
   "mimetype": "text/x-python",
   "name": "python",
   "nbconvert_exporter": "python",
   "pygments_lexer": "ipython3",
   "version": "3.7.5"
  }
 },
 "nbformat": 4,
 "nbformat_minor": 2
}
