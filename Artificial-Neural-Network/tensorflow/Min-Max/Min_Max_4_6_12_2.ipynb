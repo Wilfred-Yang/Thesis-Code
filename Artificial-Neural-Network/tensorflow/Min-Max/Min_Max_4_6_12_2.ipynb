{
 "cells": [
  {
   "cell_type": "code",
   "execution_count": 3,
   "metadata": {},
   "outputs": [],
   "source": [
    "import tensorflow as tf\n",
    "import numpy as np\n",
    "import pickle"
   ]
  },
  {
   "cell_type": "code",
   "execution_count": 4,
   "metadata": {},
   "outputs": [
    {
     "name": "stdout",
     "output_type": "stream",
     "text": [
      "(105000, 24)\n"
     ]
    }
   ],
   "source": [
    "with open ('C:\\\\Users\\\\Wilfred\\\\Desktop\\\\Min-Max\\\\input_layer_4_6_12_2.pickle','rb') as file:\n",
    "    input_data = pickle.load(file)\n",
    "print(input_data.shape)\n",
    "\n",
    "x_train = input_data[:100000,:]\n",
    "x_test = input_data[100000:,:]\n"
   ]
  },
  {
   "cell_type": "code",
   "execution_count": 5,
   "metadata": {},
   "outputs": [
    {
     "name": "stdout",
     "output_type": "stream",
     "text": [
      "(105000, 12)\n"
     ]
    }
   ],
   "source": [
    "with open ('C:\\\\Users\\\\Wilfred\\\\Desktop\\\\Min-Max\\\\output_layer_4_6_12_2.pickle','rb') as file:\n",
    "    output_data = pickle.load(file)\n",
    "output_data = np.transpose(output_data)\n",
    "y_train = output_data[:100000,:]\n",
    "y_test = output_data[100000:,:]\n",
    "print(output_data.shape)"
   ]
  },
  {
   "cell_type": "code",
   "execution_count": 6,
   "metadata": {},
   "outputs": [
    {
     "name": "stdout",
     "output_type": "stream",
     "text": [
      "Train on 100000 samples, validate on 5000 samples\n",
      "Epoch 1/100\n",
      "100000/100000 - 1s - loss: 0.4019 - accuracy: 0.8394 - val_loss: 0.3206 - val_accuracy: 0.8668\n",
      "Epoch 2/100\n",
      "100000/100000 - 1s - loss: 0.2756 - accuracy: 0.8845 - val_loss: 0.2471 - val_accuracy: 0.8967\n",
      "Epoch 3/100\n",
      "100000/100000 - 1s - loss: 0.2270 - accuracy: 0.9030 - val_loss: 0.2153 - val_accuracy: 0.9073\n",
      "Epoch 4/100\n",
      "100000/100000 - 1s - loss: 0.2040 - accuracy: 0.9112 - val_loss: 0.1989 - val_accuracy: 0.9135\n",
      "Epoch 5/100\n",
      "100000/100000 - 1s - loss: 0.1921 - accuracy: 0.9152 - val_loss: 0.1907 - val_accuracy: 0.9154\n",
      "Epoch 6/100\n",
      "100000/100000 - 1s - loss: 0.1863 - accuracy: 0.9168 - val_loss: 0.1881 - val_accuracy: 0.9161\n",
      "Epoch 7/100\n",
      "100000/100000 - 1s - loss: 0.1816 - accuracy: 0.9187 - val_loss: 0.1823 - val_accuracy: 0.9174\n",
      "Epoch 8/100\n",
      "100000/100000 - 1s - loss: 0.1773 - accuracy: 0.9202 - val_loss: 0.1778 - val_accuracy: 0.9195\n",
      "Epoch 9/100\n",
      "100000/100000 - 1s - loss: 0.1728 - accuracy: 0.9222 - val_loss: 0.1741 - val_accuracy: 0.9210\n",
      "Epoch 10/100\n",
      "100000/100000 - 1s - loss: 0.1674 - accuracy: 0.9246 - val_loss: 0.1676 - val_accuracy: 0.9246\n",
      "Epoch 11/100\n",
      "100000/100000 - 1s - loss: 0.1616 - accuracy: 0.9271 - val_loss: 0.1630 - val_accuracy: 0.9254\n",
      "Epoch 12/100\n",
      "100000/100000 - 1s - loss: 0.1551 - accuracy: 0.9297 - val_loss: 0.1564 - val_accuracy: 0.9277\n",
      "Epoch 13/100\n",
      "100000/100000 - 1s - loss: 0.1506 - accuracy: 0.9314 - val_loss: 0.1500 - val_accuracy: 0.9297\n",
      "Epoch 14/100\n",
      "100000/100000 - 1s - loss: 0.1441 - accuracy: 0.9341 - val_loss: 0.1452 - val_accuracy: 0.9326\n",
      "Epoch 15/100\n",
      "100000/100000 - 1s - loss: 0.1387 - accuracy: 0.9361 - val_loss: 0.1404 - val_accuracy: 0.9343\n",
      "Epoch 16/100\n",
      "100000/100000 - 1s - loss: 0.1341 - accuracy: 0.9380 - val_loss: 0.1408 - val_accuracy: 0.9350\n",
      "Epoch 17/100\n",
      "100000/100000 - 1s - loss: 0.1297 - accuracy: 0.9397 - val_loss: 0.1321 - val_accuracy: 0.9380\n",
      "Epoch 18/100\n",
      "100000/100000 - 1s - loss: 0.1252 - accuracy: 0.9414 - val_loss: 0.1297 - val_accuracy: 0.9387\n",
      "Epoch 19/100\n",
      "100000/100000 - 1s - loss: 0.1210 - accuracy: 0.9433 - val_loss: 0.1238 - val_accuracy: 0.9412\n",
      "Epoch 20/100\n",
      "100000/100000 - 1s - loss: 0.1180 - accuracy: 0.9445 - val_loss: 0.1210 - val_accuracy: 0.9436\n",
      "Epoch 21/100\n",
      "100000/100000 - 1s - loss: 0.1135 - accuracy: 0.9465 - val_loss: 0.1155 - val_accuracy: 0.9457\n",
      "Epoch 22/100\n",
      "100000/100000 - 1s - loss: 0.1106 - accuracy: 0.9477 - val_loss: 0.1151 - val_accuracy: 0.9449\n",
      "Epoch 23/100\n",
      "100000/100000 - 1s - loss: 0.1071 - accuracy: 0.9496 - val_loss: 0.1115 - val_accuracy: 0.9472\n",
      "Epoch 24/100\n",
      "100000/100000 - 1s - loss: 0.1039 - accuracy: 0.9512 - val_loss: 0.1067 - val_accuracy: 0.9494\n",
      "Epoch 25/100\n",
      "100000/100000 - 1s - loss: 0.1012 - accuracy: 0.9524 - val_loss: 0.1052 - val_accuracy: 0.9504\n",
      "Epoch 26/100\n",
      "100000/100000 - 1s - loss: 0.0988 - accuracy: 0.9539 - val_loss: 0.1039 - val_accuracy: 0.9501\n",
      "Epoch 27/100\n",
      "100000/100000 - 1s - loss: 0.0971 - accuracy: 0.9547 - val_loss: 0.1019 - val_accuracy: 0.9520\n",
      "Epoch 28/100\n",
      "100000/100000 - 1s - loss: 0.0949 - accuracy: 0.9559 - val_loss: 0.1000 - val_accuracy: 0.9531\n",
      "Epoch 29/100\n",
      "100000/100000 - 1s - loss: 0.0927 - accuracy: 0.9572 - val_loss: 0.0975 - val_accuracy: 0.9551\n",
      "Epoch 30/100\n",
      "100000/100000 - 1s - loss: 0.0917 - accuracy: 0.9575 - val_loss: 0.0978 - val_accuracy: 0.9550\n",
      "Epoch 31/100\n",
      "100000/100000 - 1s - loss: 0.0897 - accuracy: 0.9589 - val_loss: 0.0980 - val_accuracy: 0.9542\n",
      "Epoch 32/100\n",
      "100000/100000 - 1s - loss: 0.0888 - accuracy: 0.9591 - val_loss: 0.0926 - val_accuracy: 0.9578\n",
      "Epoch 33/100\n",
      "100000/100000 - 1s - loss: 0.0872 - accuracy: 0.9602 - val_loss: 0.0924 - val_accuracy: 0.9581\n",
      "Epoch 34/100\n",
      "100000/100000 - 1s - loss: 0.0857 - accuracy: 0.9609 - val_loss: 0.0914 - val_accuracy: 0.9581\n",
      "Epoch 35/100\n",
      "100000/100000 - 1s - loss: 0.0848 - accuracy: 0.9617 - val_loss: 0.0887 - val_accuracy: 0.9599\n",
      "Epoch 36/100\n",
      "100000/100000 - 1s - loss: 0.0835 - accuracy: 0.9621 - val_loss: 0.0880 - val_accuracy: 0.9607\n",
      "Epoch 37/100\n",
      "100000/100000 - 1s - loss: 0.0833 - accuracy: 0.9623 - val_loss: 0.0910 - val_accuracy: 0.9580\n",
      "Epoch 38/100\n",
      "100000/100000 - 1s - loss: 0.0822 - accuracy: 0.9628 - val_loss: 0.0864 - val_accuracy: 0.9615\n",
      "Epoch 39/100\n",
      "100000/100000 - 1s - loss: 0.0823 - accuracy: 0.9628 - val_loss: 0.0859 - val_accuracy: 0.9614\n",
      "Epoch 40/100\n",
      "100000/100000 - 1s - loss: 0.0796 - accuracy: 0.9643 - val_loss: 0.0850 - val_accuracy: 0.9618\n",
      "Epoch 41/100\n",
      "100000/100000 - 1s - loss: 0.0792 - accuracy: 0.9644 - val_loss: 0.0842 - val_accuracy: 0.9623\n",
      "Epoch 42/100\n",
      "100000/100000 - 1s - loss: 0.0783 - accuracy: 0.9651 - val_loss: 0.0837 - val_accuracy: 0.9627\n",
      "Epoch 43/100\n",
      "100000/100000 - 1s - loss: 0.0771 - accuracy: 0.9657 - val_loss: 0.0823 - val_accuracy: 0.9634\n",
      "Epoch 44/100\n",
      "100000/100000 - 1s - loss: 0.0776 - accuracy: 0.9653 - val_loss: 0.0847 - val_accuracy: 0.9619\n",
      "Epoch 45/100\n",
      "100000/100000 - 1s - loss: 0.0756 - accuracy: 0.9665 - val_loss: 0.0803 - val_accuracy: 0.9655\n",
      "Epoch 46/100\n",
      "100000/100000 - 1s - loss: 0.0756 - accuracy: 0.9664 - val_loss: 0.0808 - val_accuracy: 0.9639\n",
      "Epoch 47/100\n",
      "100000/100000 - 1s - loss: 0.0743 - accuracy: 0.9671 - val_loss: 0.0806 - val_accuracy: 0.9645\n",
      "Epoch 48/100\n",
      "100000/100000 - 1s - loss: 0.0745 - accuracy: 0.9672 - val_loss: 0.0807 - val_accuracy: 0.9640\n",
      "Epoch 49/100\n",
      "100000/100000 - 1s - loss: 0.0741 - accuracy: 0.9671 - val_loss: 0.0797 - val_accuracy: 0.9649\n",
      "Epoch 50/100\n",
      "100000/100000 - 1s - loss: 0.0732 - accuracy: 0.9676 - val_loss: 0.0786 - val_accuracy: 0.9659\n",
      "Epoch 51/100\n",
      "100000/100000 - 1s - loss: 0.0729 - accuracy: 0.9680 - val_loss: 0.0797 - val_accuracy: 0.9646\n",
      "Epoch 52/100\n",
      "100000/100000 - 1s - loss: 0.0720 - accuracy: 0.9682 - val_loss: 0.0771 - val_accuracy: 0.9654\n",
      "Epoch 53/100\n",
      "100000/100000 - 1s - loss: 0.0712 - accuracy: 0.9686 - val_loss: 0.0770 - val_accuracy: 0.9661\n",
      "Epoch 54/100\n",
      "100000/100000 - 1s - loss: 0.0713 - accuracy: 0.9687 - val_loss: 0.0769 - val_accuracy: 0.9664\n",
      "Epoch 55/100\n",
      "100000/100000 - 1s - loss: 0.0706 - accuracy: 0.9692 - val_loss: 0.0759 - val_accuracy: 0.9669\n",
      "Epoch 56/100\n",
      "100000/100000 - 1s - loss: 0.0703 - accuracy: 0.9693 - val_loss: 0.0787 - val_accuracy: 0.9650\n",
      "Epoch 57/100\n",
      "100000/100000 - 1s - loss: 0.0698 - accuracy: 0.9695 - val_loss: 0.0765 - val_accuracy: 0.9668\n",
      "Epoch 58/100\n",
      "100000/100000 - 1s - loss: 0.0684 - accuracy: 0.9702 - val_loss: 0.0751 - val_accuracy: 0.9675\n",
      "Epoch 59/100\n",
      "100000/100000 - 1s - loss: 0.0687 - accuracy: 0.9700 - val_loss: 0.0723 - val_accuracy: 0.9682\n",
      "Epoch 60/100\n",
      "100000/100000 - 1s - loss: 0.0682 - accuracy: 0.9702 - val_loss: 0.0764 - val_accuracy: 0.9664\n",
      "Epoch 61/100\n",
      "100000/100000 - 1s - loss: 0.0681 - accuracy: 0.9703 - val_loss: 0.0783 - val_accuracy: 0.9657\n",
      "Epoch 62/100\n",
      "100000/100000 - 1s - loss: 0.0674 - accuracy: 0.9708 - val_loss: 0.0741 - val_accuracy: 0.9673\n",
      "Epoch 63/100\n",
      "100000/100000 - 1s - loss: 0.0677 - accuracy: 0.9705 - val_loss: 0.0740 - val_accuracy: 0.9680\n",
      "Epoch 64/100\n",
      "100000/100000 - 1s - loss: 0.0666 - accuracy: 0.9711 - val_loss: 0.0777 - val_accuracy: 0.9664\n",
      "Epoch 65/100\n",
      "100000/100000 - 1s - loss: 0.0665 - accuracy: 0.9711 - val_loss: 0.0723 - val_accuracy: 0.9683\n",
      "Epoch 66/100\n",
      "100000/100000 - 1s - loss: 0.0657 - accuracy: 0.9715 - val_loss: 0.0748 - val_accuracy: 0.9672\n",
      "Epoch 67/100\n",
      "100000/100000 - 1s - loss: 0.0662 - accuracy: 0.9713 - val_loss: 0.0719 - val_accuracy: 0.9691\n",
      "Epoch 68/100\n",
      "100000/100000 - 1s - loss: 0.0645 - accuracy: 0.9721 - val_loss: 0.0729 - val_accuracy: 0.9679\n",
      "Epoch 69/100\n",
      "100000/100000 - 1s - loss: 0.0649 - accuracy: 0.9721 - val_loss: 0.0714 - val_accuracy: 0.9686\n",
      "Epoch 70/100\n",
      "100000/100000 - 1s - loss: 0.0645 - accuracy: 0.9721 - val_loss: 0.0700 - val_accuracy: 0.9695\n",
      "Epoch 71/100\n",
      "100000/100000 - 1s - loss: 0.0644 - accuracy: 0.9724 - val_loss: 0.0716 - val_accuracy: 0.9691\n",
      "Epoch 72/100\n",
      "100000/100000 - 1s - loss: 0.0644 - accuracy: 0.9722 - val_loss: 0.0707 - val_accuracy: 0.9681\n",
      "Epoch 73/100\n",
      "100000/100000 - 1s - loss: 0.0640 - accuracy: 0.9722 - val_loss: 0.0711 - val_accuracy: 0.9693\n",
      "Epoch 74/100\n",
      "100000/100000 - 1s - loss: 0.0634 - accuracy: 0.9726 - val_loss: 0.0705 - val_accuracy: 0.9704\n",
      "Epoch 75/100\n",
      "100000/100000 - 1s - loss: 0.0627 - accuracy: 0.9730 - val_loss: 0.0742 - val_accuracy: 0.9671\n",
      "Epoch 76/100\n",
      "100000/100000 - 1s - loss: 0.0628 - accuracy: 0.9732 - val_loss: 0.0736 - val_accuracy: 0.9679\n"
     ]
    },
    {
     "name": "stdout",
     "output_type": "stream",
     "text": [
      "Epoch 77/100\n",
      "100000/100000 - 1s - loss: 0.0633 - accuracy: 0.9728 - val_loss: 0.0716 - val_accuracy: 0.9681\n",
      "Epoch 78/100\n",
      "100000/100000 - 1s - loss: 0.0625 - accuracy: 0.9733 - val_loss: 0.0696 - val_accuracy: 0.9694\n",
      "Epoch 79/100\n",
      "100000/100000 - 1s - loss: 0.0623 - accuracy: 0.9735 - val_loss: 0.0723 - val_accuracy: 0.9686\n",
      "Epoch 80/100\n",
      "100000/100000 - 1s - loss: 0.0621 - accuracy: 0.9735 - val_loss: 0.0690 - val_accuracy: 0.9708\n",
      "Epoch 81/100\n",
      "100000/100000 - 1s - loss: 0.0611 - accuracy: 0.9739 - val_loss: 0.0682 - val_accuracy: 0.9709\n",
      "Epoch 82/100\n",
      "100000/100000 - 1s - loss: 0.0610 - accuracy: 0.9740 - val_loss: 0.0677 - val_accuracy: 0.9707\n",
      "Epoch 83/100\n",
      "100000/100000 - 1s - loss: 0.0604 - accuracy: 0.9741 - val_loss: 0.0669 - val_accuracy: 0.9712\n",
      "Epoch 84/100\n",
      "100000/100000 - 1s - loss: 0.0606 - accuracy: 0.9740 - val_loss: 0.0694 - val_accuracy: 0.9708\n",
      "Epoch 85/100\n",
      "100000/100000 - 1s - loss: 0.0610 - accuracy: 0.9740 - val_loss: 0.0700 - val_accuracy: 0.9705\n",
      "Epoch 86/100\n",
      "100000/100000 - 1s - loss: 0.0608 - accuracy: 0.9740 - val_loss: 0.0691 - val_accuracy: 0.9701\n",
      "Epoch 87/100\n",
      "100000/100000 - 1s - loss: 0.0601 - accuracy: 0.9742 - val_loss: 0.0687 - val_accuracy: 0.9704\n",
      "Epoch 88/100\n",
      "100000/100000 - 1s - loss: 0.0602 - accuracy: 0.9744 - val_loss: 0.0691 - val_accuracy: 0.9709\n",
      "Epoch 89/100\n",
      "100000/100000 - 1s - loss: 0.0604 - accuracy: 0.9744 - val_loss: 0.0663 - val_accuracy: 0.9715\n",
      "Epoch 90/100\n",
      "100000/100000 - 1s - loss: 0.0588 - accuracy: 0.9749 - val_loss: 0.0655 - val_accuracy: 0.9724\n",
      "Epoch 91/100\n",
      "100000/100000 - 1s - loss: 0.0591 - accuracy: 0.9748 - val_loss: 0.0701 - val_accuracy: 0.9691\n",
      "Epoch 92/100\n",
      "100000/100000 - 1s - loss: 0.0599 - accuracy: 0.9743 - val_loss: 0.0692 - val_accuracy: 0.9703\n",
      "Epoch 93/100\n",
      "100000/100000 - 1s - loss: 0.0588 - accuracy: 0.9750 - val_loss: 0.0683 - val_accuracy: 0.9707\n",
      "Epoch 94/100\n",
      "100000/100000 - 1s - loss: 0.0596 - accuracy: 0.9746 - val_loss: 0.0654 - val_accuracy: 0.9726\n",
      "Epoch 95/100\n",
      "100000/100000 - 1s - loss: 0.0579 - accuracy: 0.9755 - val_loss: 0.0637 - val_accuracy: 0.9733\n",
      "Epoch 96/100\n",
      "100000/100000 - 1s - loss: 0.0584 - accuracy: 0.9752 - val_loss: 0.0658 - val_accuracy: 0.9723\n",
      "Epoch 97/100\n",
      "100000/100000 - 1s - loss: 0.0581 - accuracy: 0.9754 - val_loss: 0.0644 - val_accuracy: 0.9730\n",
      "Epoch 98/100\n",
      "100000/100000 - 1s - loss: 0.0572 - accuracy: 0.9756 - val_loss: 0.0674 - val_accuracy: 0.9706\n",
      "Epoch 99/100\n",
      "100000/100000 - 1s - loss: 0.0575 - accuracy: 0.9756 - val_loss: 0.0657 - val_accuracy: 0.9720\n",
      "Epoch 100/100\n",
      "100000/100000 - 1s - loss: 0.0580 - accuracy: 0.9755 - val_loss: 0.0667 - val_accuracy: 0.9719\n"
     ]
    }
   ],
   "source": [
    "model = tf.keras.models.Sequential([\n",
    "    tf.keras.layers.Dense(100,input_shape = [24], activation = 'relu'),\n",
    "    tf.keras.layers.Dense(100, activation = 'relu'),\n",
    "    tf.keras.layers.Dense(12, activation = 'sigmoid')\n",
    "])\n",
    "adam = tf.keras.optimizers.Adam(lr = 0.005)\n",
    "model.compile(optimizer = adam, loss = 'binary_crossentropy', metrics = ['accuracy'])\n",
    "\n",
    "history = model.fit(x_train, y_train, batch_size = 1024, epochs = 100, verbose = 2,validation_data = (x_test, y_test))\n"
   ]
  },
  {
   "cell_type": "code",
   "execution_count": 8,
   "metadata": {},
   "outputs": [
    {
     "data": {
      "image/png": "[encoded data removed]",
      "text/plain": [
       "<Figure size 432x288 with 1 Axes>"
      ]
     },
     "metadata": {
      "needs_background": "light"
     },
     "output_type": "display_data"
    }
   ],
   "source": [
    "import matplotlib.pyplot as plt\n",
    "plt.figure()\n",
    "acc = history.history['accuracy']\n",
    "loss = history.history['loss']\n",
    "val_acc = history.history['val_accuracy']\n",
    "val_loss = history.history['val_loss']\n",
    "\n",
    "epochs = range(len(acc))\n",
    "plt.plot(epochs, acc, 'r', label = 'Training accuracy')\n",
    "plt.plot(epochs, val_acc, 'b', label = 'Validating accuracy')\n",
    "plt.title('Training and Validating Accuracy')\n",
    "plt.legend()\n",
    "plt.show()"
   ]
  },
  {
   "cell_type": "code",
   "execution_count": 8,
   "metadata": {},
   "outputs": [
    {
     "name": "stdout",
     "output_type": "stream",
     "text": [
      "5000/1 - 0s - loss: 0.0630 - accuracy: 0.9720\n"
     ]
    },
    {
     "data": {
      "text/plain": [
       "[0.04715186712741852, 0.9720002]"
      ]
     },
     "execution_count": 8,
     "metadata": {},
     "output_type": "execute_result"
    }
   ],
   "source": [
    "#model.evaluate(x_test, y_test, verbose = 2)"
   ]
  },
  {
   "cell_type": "code",
   "execution_count": 9,
   "metadata": {},
   "outputs": [],
   "source": [
    "model.save('C:\\\\Users\\\\Wilfred\\\\Desktop\\\\weights\\\\Min_Max\\\\Min_Max_4_6_12_2_model.h5')"
   ]
  },
  {
   "cell_type": "code",
   "execution_count": null,
   "metadata": {},
   "outputs": [],
   "source": []
  }
 ],
 "metadata": {
  "kernelspec": {
   "display_name": "Python 3",
   "language": "python",
   "name": "python3"
  },
  "language_info": {
   "codemirror_mode": {
    "name": "ipython",
    "version": 3
   },
   "file_extension": ".py",
   "mimetype": "text/x-python",
   "name": "python",
   "nbconvert_exporter": "python",
   "pygments_lexer": "ipython3",
   "version": "3.7.5"
  }
 },
 "nbformat": 4,
 "nbformat_minor": 2
}
