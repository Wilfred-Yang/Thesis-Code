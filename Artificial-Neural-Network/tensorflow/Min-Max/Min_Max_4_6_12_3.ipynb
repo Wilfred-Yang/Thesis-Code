{
 "cells": [
  {
   "cell_type": "code",
   "execution_count": 3,
   "metadata": {},
   "outputs": [],
   "source": [
    "import tensorflow as tf\n",
    "import numpy as np\n",
    "import pickle"
   ]
  },
  {
   "cell_type": "code",
   "execution_count": 4,
   "metadata": {},
   "outputs": [
    {
     "name": "stdout",
     "output_type": "stream",
     "text": [
      "(105000, 24)\n"
     ]
    }
   ],
   "source": [
    "with open ('C:\\\\Users\\\\Wilfred\\\\Desktop\\\\Min-Max\\\\input_layer_4_6_12_3.pickle','rb') as file:\n",
    "    input_data = pickle.load(file)\n",
    "print(input_data.shape)\n",
    "\n",
    "x_train = input_data[:100000,:]\n",
    "x_test = input_data[100000:,:]\n"
   ]
  },
  {
   "cell_type": "code",
   "execution_count": 5,
   "metadata": {},
   "outputs": [
    {
     "name": "stdout",
     "output_type": "stream",
     "text": [
      "(105000, 12)\n"
     ]
    }
   ],
   "source": [
    "with open ('C:\\\\Users\\\\Wilfred\\\\Desktop\\\\Min-Max\\\\output_layer_4_6_12_3.pickle','rb') as file:\n",
    "    output_data = pickle.load(file)\n",
    "output_data = np.transpose(output_data)\n",
    "y_train = output_data[:100000,:]\n",
    "y_test = output_data[100000:,:]\n",
    "print(output_data.shape)"
   ]
  },
  {
   "cell_type": "code",
   "execution_count": 6,
   "metadata": {},
   "outputs": [
    {
     "name": "stdout",
     "output_type": "stream",
     "text": [
      "Train on 100000 samples, validate on 5000 samples\n",
      "Epoch 1/100\n",
      "100000/100000 - 5s - loss: 0.2854 - accuracy: 0.8833 - val_loss: 0.2127 - val_accuracy: 0.9118\n",
      "Epoch 2/100\n",
      "100000/100000 - 4s - loss: 0.2029 - accuracy: 0.9140 - val_loss: 0.1965 - val_accuracy: 0.9154\n",
      "Epoch 3/100\n",
      "100000/100000 - 4s - loss: 0.1910 - accuracy: 0.9164 - val_loss: 0.1860 - val_accuracy: 0.9178\n",
      "Epoch 4/100\n",
      "100000/100000 - 4s - loss: 0.1804 - accuracy: 0.9201 - val_loss: 0.1790 - val_accuracy: 0.9210\n",
      "Epoch 5/100\n",
      "100000/100000 - 4s - loss: 0.1672 - accuracy: 0.9256 - val_loss: 0.1569 - val_accuracy: 0.9297\n",
      "Epoch 6/100\n",
      "100000/100000 - 4s - loss: 0.1449 - accuracy: 0.9334 - val_loss: 0.1371 - val_accuracy: 0.9353\n",
      "Epoch 7/100\n",
      "100000/100000 - 4s - loss: 0.1264 - accuracy: 0.9398 - val_loss: 0.1225 - val_accuracy: 0.9406\n",
      "Epoch 8/100\n",
      "100000/100000 - 4s - loss: 0.1118 - accuracy: 0.9462 - val_loss: 0.1092 - val_accuracy: 0.9477\n",
      "Epoch 9/100\n",
      "100000/100000 - 5s - loss: 0.1016 - accuracy: 0.9512 - val_loss: 0.1016 - val_accuracy: 0.9510\n",
      "Epoch 10/100\n",
      "100000/100000 - 3s - loss: 0.0924 - accuracy: 0.9563 - val_loss: 0.0955 - val_accuracy: 0.9556\n",
      "Epoch 11/100\n",
      "100000/100000 - 3s - loss: 0.0835 - accuracy: 0.9612 - val_loss: 0.0864 - val_accuracy: 0.9594\n",
      "Epoch 12/100\n",
      "100000/100000 - 3s - loss: 0.0768 - accuracy: 0.9650 - val_loss: 0.0809 - val_accuracy: 0.9632\n",
      "Epoch 13/100\n",
      "100000/100000 - 3s - loss: 0.0700 - accuracy: 0.9685 - val_loss: 0.0749 - val_accuracy: 0.9657\n",
      "Epoch 14/100\n",
      "100000/100000 - 3s - loss: 0.0654 - accuracy: 0.9710 - val_loss: 0.0690 - val_accuracy: 0.9696\n",
      "Epoch 15/100\n",
      "100000/100000 - 3s - loss: 0.0596 - accuracy: 0.9739 - val_loss: 0.0652 - val_accuracy: 0.9711\n",
      "Epoch 16/100\n",
      "100000/100000 - 3s - loss: 0.0560 - accuracy: 0.9758 - val_loss: 0.0618 - val_accuracy: 0.9728\n",
      "Epoch 17/100\n",
      "100000/100000 - 3s - loss: 0.0529 - accuracy: 0.9771 - val_loss: 0.0595 - val_accuracy: 0.9751\n",
      "Epoch 18/100\n",
      "100000/100000 - 3s - loss: 0.0484 - accuracy: 0.9793 - val_loss: 0.0535 - val_accuracy: 0.9766\n",
      "Epoch 19/100\n",
      "100000/100000 - 3s - loss: 0.0455 - accuracy: 0.9806 - val_loss: 0.0548 - val_accuracy: 0.9766\n",
      "Epoch 20/100\n",
      "100000/100000 - 3s - loss: 0.0429 - accuracy: 0.9819 - val_loss: 0.0533 - val_accuracy: 0.9769\n",
      "Epoch 21/100\n",
      "100000/100000 - 3s - loss: 0.0420 - accuracy: 0.9823 - val_loss: 0.0504 - val_accuracy: 0.9785\n",
      "Epoch 22/100\n",
      "100000/100000 - 3s - loss: 0.0379 - accuracy: 0.9843 - val_loss: 0.0468 - val_accuracy: 0.9807\n",
      "Epoch 23/100\n",
      "100000/100000 - 3s - loss: 0.0358 - accuracy: 0.9851 - val_loss: 0.0519 - val_accuracy: 0.9788\n",
      "Epoch 24/100\n",
      "100000/100000 - 3s - loss: 0.0343 - accuracy: 0.9859 - val_loss: 0.0459 - val_accuracy: 0.9814\n",
      "Epoch 25/100\n",
      "100000/100000 - 3s - loss: 0.0320 - accuracy: 0.9869 - val_loss: 0.0463 - val_accuracy: 0.9815\n",
      "Epoch 26/100\n",
      "100000/100000 - 3s - loss: 0.0327 - accuracy: 0.9866 - val_loss: 0.0464 - val_accuracy: 0.9816\n",
      "Epoch 27/100\n",
      "100000/100000 - 3s - loss: 0.0292 - accuracy: 0.9881 - val_loss: 0.0433 - val_accuracy: 0.9828\n",
      "Epoch 28/100\n",
      "100000/100000 - 3s - loss: 0.0277 - accuracy: 0.9888 - val_loss: 0.0490 - val_accuracy: 0.9809\n",
      "Epoch 29/100\n",
      "100000/100000 - 3s - loss: 0.0263 - accuracy: 0.9894 - val_loss: 0.0410 - val_accuracy: 0.9833\n",
      "Epoch 30/100\n",
      "100000/100000 - 3s - loss: 0.0268 - accuracy: 0.9891 - val_loss: 0.0408 - val_accuracy: 0.9847\n",
      "Epoch 31/100\n",
      "100000/100000 - 3s - loss: 0.0253 - accuracy: 0.9898 - val_loss: 0.0445 - val_accuracy: 0.9834\n",
      "Epoch 32/100\n",
      "100000/100000 - 3s - loss: 0.0234 - accuracy: 0.9907 - val_loss: 0.0409 - val_accuracy: 0.9847\n",
      "Epoch 33/100\n",
      "100000/100000 - 3s - loss: 0.0226 - accuracy: 0.9910 - val_loss: 0.0428 - val_accuracy: 0.9840\n",
      "Epoch 34/100\n",
      "100000/100000 - 3s - loss: 0.0216 - accuracy: 0.9915 - val_loss: 0.0390 - val_accuracy: 0.9853\n",
      "Epoch 35/100\n",
      "100000/100000 - 3s - loss: 0.0208 - accuracy: 0.9918 - val_loss: 0.0428 - val_accuracy: 0.9844\n",
      "Epoch 36/100\n",
      "100000/100000 - 3s - loss: 0.0219 - accuracy: 0.9914 - val_loss: 0.0405 - val_accuracy: 0.9852\n",
      "Epoch 37/100\n",
      "100000/100000 - 3s - loss: 0.0205 - accuracy: 0.9919 - val_loss: 0.0432 - val_accuracy: 0.9845\n",
      "Epoch 38/100\n",
      "100000/100000 - 4s - loss: 0.0204 - accuracy: 0.9920 - val_loss: 0.0463 - val_accuracy: 0.9835\n",
      "Epoch 39/100\n",
      "100000/100000 - 4s - loss: 0.0209 - accuracy: 0.9917 - val_loss: 0.0416 - val_accuracy: 0.9849\n",
      "Epoch 40/100\n",
      "100000/100000 - 5s - loss: 0.0190 - accuracy: 0.9926 - val_loss: 0.0403 - val_accuracy: 0.9863\n",
      "Epoch 41/100\n",
      "100000/100000 - 5s - loss: 0.0167 - accuracy: 0.9936 - val_loss: 0.0412 - val_accuracy: 0.9858\n",
      "Epoch 42/100\n",
      "100000/100000 - 5s - loss: 0.0193 - accuracy: 0.9926 - val_loss: 0.0376 - val_accuracy: 0.9875\n",
      "Epoch 43/100\n",
      "100000/100000 - 5s - loss: 0.0170 - accuracy: 0.9935 - val_loss: 0.0416 - val_accuracy: 0.9863\n",
      "Epoch 44/100\n",
      "100000/100000 - 4s - loss: 0.0183 - accuracy: 0.9929 - val_loss: 0.0462 - val_accuracy: 0.9852\n",
      "Epoch 45/100\n",
      "100000/100000 - 4s - loss: 0.0179 - accuracy: 0.9931 - val_loss: 0.0440 - val_accuracy: 0.9864\n",
      "Epoch 46/100\n",
      "100000/100000 - 4s - loss: 0.0183 - accuracy: 0.9930 - val_loss: 0.0452 - val_accuracy: 0.9855\n",
      "Epoch 47/100\n",
      "100000/100000 - 4s - loss: 0.0175 - accuracy: 0.9933 - val_loss: 0.0443 - val_accuracy: 0.9862\n",
      "Epoch 48/100\n",
      "100000/100000 - 4s - loss: 0.0152 - accuracy: 0.9942 - val_loss: 0.0389 - val_accuracy: 0.9882\n",
      "Epoch 49/100\n",
      "100000/100000 - 4s - loss: 0.0139 - accuracy: 0.9947 - val_loss: 0.0487 - val_accuracy: 0.9855\n",
      "Epoch 50/100\n",
      "100000/100000 - 4s - loss: 0.0152 - accuracy: 0.9943 - val_loss: 0.0425 - val_accuracy: 0.9872\n",
      "Epoch 51/100\n",
      "100000/100000 - 4s - loss: 0.0165 - accuracy: 0.9938 - val_loss: 0.0440 - val_accuracy: 0.9868\n",
      "Epoch 52/100\n",
      "100000/100000 - 5s - loss: 0.0137 - accuracy: 0.9947 - val_loss: 0.0435 - val_accuracy: 0.9871\n",
      "Epoch 53/100\n",
      "100000/100000 - 4s - loss: 0.0139 - accuracy: 0.9947 - val_loss: 0.0464 - val_accuracy: 0.9862\n",
      "Epoch 54/100\n",
      "100000/100000 - 4s - loss: 0.0163 - accuracy: 0.9939 - val_loss: 0.0435 - val_accuracy: 0.9871\n",
      "Epoch 55/100\n",
      "100000/100000 - 5s - loss: 0.0147 - accuracy: 0.9945 - val_loss: 0.0422 - val_accuracy: 0.9873\n",
      "Epoch 56/100\n",
      "100000/100000 - 5s - loss: 0.0132 - accuracy: 0.9951 - val_loss: 0.0490 - val_accuracy: 0.9867\n",
      "Epoch 57/100\n",
      "100000/100000 - 5s - loss: 0.0151 - accuracy: 0.9944 - val_loss: 0.0437 - val_accuracy: 0.9873\n",
      "Epoch 58/100\n",
      "100000/100000 - 4s - loss: 0.0180 - accuracy: 0.9934 - val_loss: 0.0471 - val_accuracy: 0.9860\n",
      "Epoch 59/100\n",
      "100000/100000 - 4s - loss: 0.0142 - accuracy: 0.9949 - val_loss: 0.0445 - val_accuracy: 0.9870\n",
      "Epoch 60/100\n",
      "100000/100000 - 5s - loss: 0.0139 - accuracy: 0.9949 - val_loss: 0.0463 - val_accuracy: 0.9882\n",
      "Epoch 61/100\n",
      "100000/100000 - 4s - loss: 0.0135 - accuracy: 0.9950 - val_loss: 0.0514 - val_accuracy: 0.9863\n",
      "Epoch 62/100\n",
      "100000/100000 - 4s - loss: 0.0112 - accuracy: 0.9958 - val_loss: 0.0475 - val_accuracy: 0.9874\n",
      "Epoch 63/100\n",
      "100000/100000 - 4s - loss: 0.0140 - accuracy: 0.9949 - val_loss: 0.0511 - val_accuracy: 0.9864\n",
      "Epoch 64/100\n",
      "100000/100000 - 4s - loss: 0.0133 - accuracy: 0.9951 - val_loss: 0.0452 - val_accuracy: 0.9879\n",
      "Epoch 65/100\n",
      "100000/100000 - 4s - loss: 0.0118 - accuracy: 0.9957 - val_loss: 0.0464 - val_accuracy: 0.9875\n",
      "Epoch 66/100\n",
      "100000/100000 - 4s - loss: 0.0116 - accuracy: 0.9958 - val_loss: 0.0483 - val_accuracy: 0.9879\n",
      "Epoch 67/100\n",
      "100000/100000 - 4s - loss: 0.0114 - accuracy: 0.9959 - val_loss: 0.0483 - val_accuracy: 0.9880\n",
      "Epoch 68/100\n",
      "100000/100000 - 4s - loss: 0.0139 - accuracy: 0.9950 - val_loss: 0.0452 - val_accuracy: 0.9881\n",
      "Epoch 69/100\n",
      "100000/100000 - 4s - loss: 0.0120 - accuracy: 0.9957 - val_loss: 0.0496 - val_accuracy: 0.9883\n",
      "Epoch 70/100\n",
      "100000/100000 - 4s - loss: 0.0137 - accuracy: 0.9952 - val_loss: 0.0538 - val_accuracy: 0.9866\n",
      "Epoch 71/100\n",
      "100000/100000 - 4s - loss: 0.0139 - accuracy: 0.9950 - val_loss: 0.0520 - val_accuracy: 0.9869\n",
      "Epoch 72/100\n",
      "100000/100000 - 4s - loss: 0.0122 - accuracy: 0.9956 - val_loss: 0.0515 - val_accuracy: 0.9874\n",
      "Epoch 73/100\n",
      "100000/100000 - 4s - loss: 0.0123 - accuracy: 0.9956 - val_loss: 0.0570 - val_accuracy: 0.9864\n",
      "Epoch 74/100\n",
      "100000/100000 - 4s - loss: 0.0146 - accuracy: 0.9949 - val_loss: 0.0549 - val_accuracy: 0.9873\n",
      "Epoch 75/100\n",
      "100000/100000 - 4s - loss: 0.0101 - accuracy: 0.9964 - val_loss: 0.0514 - val_accuracy: 0.9884\n",
      "Epoch 76/100\n",
      "100000/100000 - 4s - loss: 0.0090 - accuracy: 0.9968 - val_loss: 0.0526 - val_accuracy: 0.9887\n"
     ]
    },
    {
     "name": "stdout",
     "output_type": "stream",
     "text": [
      "Epoch 77/100\n",
      "100000/100000 - 3s - loss: 0.0091 - accuracy: 0.9967 - val_loss: 0.0517 - val_accuracy: 0.9886\n",
      "Epoch 78/100\n",
      "100000/100000 - 3s - loss: 0.0104 - accuracy: 0.9964 - val_loss: 0.0529 - val_accuracy: 0.9877\n",
      "Epoch 79/100\n",
      "100000/100000 - 3s - loss: 0.0106 - accuracy: 0.9963 - val_loss: 0.0549 - val_accuracy: 0.9883\n",
      "Epoch 80/100\n",
      "100000/100000 - 3s - loss: 0.0147 - accuracy: 0.9950 - val_loss: 0.0740 - val_accuracy: 0.9832\n",
      "Epoch 81/100\n",
      "100000/100000 - 3s - loss: 0.0223 - accuracy: 0.9926 - val_loss: 0.0506 - val_accuracy: 0.9877\n",
      "Epoch 82/100\n",
      "100000/100000 - 3s - loss: 0.0109 - accuracy: 0.9962 - val_loss: 0.0494 - val_accuracy: 0.9893\n",
      "Epoch 83/100\n",
      "100000/100000 - 3s - loss: 0.0069 - accuracy: 0.9976 - val_loss: 0.0471 - val_accuracy: 0.9898\n",
      "Epoch 84/100\n",
      "100000/100000 - 3s - loss: 0.0068 - accuracy: 0.9977 - val_loss: 0.0492 - val_accuracy: 0.9893\n",
      "Epoch 85/100\n",
      "100000/100000 - 3s - loss: 0.0089 - accuracy: 0.9968 - val_loss: 0.0601 - val_accuracy: 0.9874\n",
      "Epoch 86/100\n",
      "100000/100000 - 3s - loss: 0.0129 - accuracy: 0.9956 - val_loss: 0.0550 - val_accuracy: 0.9878\n",
      "Epoch 87/100\n",
      "100000/100000 - 3s - loss: 0.0131 - accuracy: 0.9955 - val_loss: 0.0548 - val_accuracy: 0.9878\n",
      "Epoch 88/100\n",
      "100000/100000 - 3s - loss: 0.0108 - accuracy: 0.9962 - val_loss: 0.0589 - val_accuracy: 0.9879\n",
      "Epoch 89/100\n",
      "100000/100000 - 3s - loss: 0.0093 - accuracy: 0.9967 - val_loss: 0.0551 - val_accuracy: 0.9882\n",
      "Epoch 90/100\n",
      "100000/100000 - 3s - loss: 0.0089 - accuracy: 0.9968 - val_loss: 0.0527 - val_accuracy: 0.9886\n",
      "Epoch 91/100\n",
      "100000/100000 - 3s - loss: 0.0096 - accuracy: 0.9966 - val_loss: 0.0519 - val_accuracy: 0.9890\n",
      "Epoch 92/100\n",
      "100000/100000 - 3s - loss: 0.0141 - accuracy: 0.9954 - val_loss: 0.0702 - val_accuracy: 0.9842\n",
      "Epoch 93/100\n",
      "100000/100000 - 3s - loss: 0.0158 - accuracy: 0.9948 - val_loss: 0.0514 - val_accuracy: 0.9889\n",
      "Epoch 94/100\n",
      "100000/100000 - 3s - loss: 0.0082 - accuracy: 0.9971 - val_loss: 0.0483 - val_accuracy: 0.9898\n",
      "Epoch 95/100\n",
      "100000/100000 - 3s - loss: 0.0073 - accuracy: 0.9975 - val_loss: 0.0553 - val_accuracy: 0.9886\n",
      "Epoch 96/100\n",
      "100000/100000 - 3s - loss: 0.0080 - accuracy: 0.9972 - val_loss: 0.0568 - val_accuracy: 0.9897\n",
      "Epoch 97/100\n",
      "100000/100000 - 3s - loss: 0.0074 - accuracy: 0.9975 - val_loss: 0.0653 - val_accuracy: 0.9873\n",
      "Epoch 98/100\n",
      "100000/100000 - 3s - loss: 0.0135 - accuracy: 0.9955 - val_loss: 0.0618 - val_accuracy: 0.9867\n",
      "Epoch 99/100\n",
      "100000/100000 - 4s - loss: 0.0151 - accuracy: 0.9951 - val_loss: 0.0575 - val_accuracy: 0.9881\n",
      "Epoch 100/100\n",
      "100000/100000 - 4s - loss: 0.0151 - accuracy: 0.9952 - val_loss: 0.0592 - val_accuracy: 0.9873\n"
     ]
    }
   ],
   "source": [
    "model = tf.keras.models.Sequential([\n",
    "    tf.keras.layers.Dense(300,input_shape = [24], activation = 'relu'),\n",
    "    tf.keras.layers.Dense(300, activation = 'relu'),\n",
    "    tf.keras.layers.Dense(300, activation = 'relu'),\n",
    "    tf.keras.layers.Dense(12, activation = 'sigmoid')\n",
    "])\n",
    "adam = tf.keras.optimizers.Adam(lr = 0.005)\n",
    "model.compile(optimizer = adam, loss = 'binary_crossentropy', metrics = ['accuracy'])\n",
    "\n",
    "history = model.fit(x_train, y_train, batch_size = 1024, epochs = 100, verbose = 2,validation_data = (x_test, y_test))\n"
   ]
  },
  {
   "cell_type": "code",
   "execution_count": 8,
   "metadata": {},
   "outputs": [
    {
     "data": {
      "image/png": "[encoded data removed]",
      "text/plain": [
       "<Figure size 432x288 with 1 Axes>"
      ]
     },
     "metadata": {
      "needs_background": "light"
     },
     "output_type": "display_data"
    }
   ],
   "source": [
    "import matplotlib.pyplot as plt\n",
    "plt.figure()\n",
    "acc = history.history['accuracy']\n",
    "loss = history.history['loss']\n",
    "val_acc = history.history['val_accuracy']\n",
    "val_loss = history.history['val_loss']\n",
    "\n",
    "epochs = range(len(acc))\n",
    "plt.plot(epochs, acc, 'r', label = 'Training accuracy')\n",
    "plt.plot(epochs, val_acc, 'b', label = 'Validating accuracy')\n",
    "plt.title('Training and Validating Accuracy')\n",
    "plt.legend()\n",
    "plt.show()"
   ]
  },
  {
   "cell_type": "code",
   "execution_count": 8,
   "metadata": {},
   "outputs": [
    {
     "name": "stdout",
     "output_type": "stream",
     "text": [
      "5000/1 - 0s - loss: 0.0630 - accuracy: 0.9720\n"
     ]
    },
    {
     "data": {
      "text/plain": [
       "[0.04715186712741852, 0.9720002]"
      ]
     },
     "execution_count": 8,
     "metadata": {},
     "output_type": "execute_result"
    }
   ],
   "source": [
    "#model.evaluate(x_test, y_test, verbose = 2)"
   ]
  },
  {
   "cell_type": "code",
   "execution_count": 9,
   "metadata": {},
   "outputs": [],
   "source": [
    "model.save('C:\\\\Users\\\\Wilfred\\\\Desktop\\\\weights\\\\Min_Max\\\\Min_Max_4_6_12_3_model.h5')"
   ]
  },
  {
   "cell_type": "code",
   "execution_count": null,
   "metadata": {},
   "outputs": [],
   "source": []
  }
 ],
 "metadata": {
  "kernelspec": {
   "display_name": "Python 3",
   "language": "python",
   "name": "python3"
  },
  "language_info": {
   "codemirror_mode": {
    "name": "ipython",
    "version": 3
   },
   "file_extension": ".py",
   "mimetype": "text/x-python",
   "name": "python",
   "nbconvert_exporter": "python",
   "pygments_lexer": "ipython3",
   "version": "3.7.5"
  }
 },
 "nbformat": 4,
 "nbformat_minor": 2
}
