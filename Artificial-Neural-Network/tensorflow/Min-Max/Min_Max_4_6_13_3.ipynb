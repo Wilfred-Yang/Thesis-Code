{
 "cells": [
  {
   "cell_type": "code",
   "execution_count": 1,
   "metadata": {},
   "outputs": [],
   "source": [
    "import tensorflow as tf\n",
    "import numpy as np\n",
    "import pickle"
   ]
  },
  {
   "cell_type": "code",
   "execution_count": 2,
   "metadata": {},
   "outputs": [
    {
     "name": "stdout",
     "output_type": "stream",
     "text": [
      "(105000, 24)\n"
     ]
    }
   ],
   "source": [
    "with open ('C:\\\\Users\\\\Wilfred\\\\Desktop\\\\Min-Max\\\\input_layer_4_6_13_3.pickle','rb') as file:\n",
    "    input_data = pickle.load(file)\n",
    "print(input_data.shape)\n",
    "\n",
    "x_train = input_data[:100000,:]\n",
    "x_valid = input_data[100000:102500, :]\n",
    "x_test = input_data[102500:,:]\n",
    "\n"
   ]
  },
  {
   "cell_type": "code",
   "execution_count": 3,
   "metadata": {},
   "outputs": [
    {
     "name": "stdout",
     "output_type": "stream",
     "text": [
      "(105000, 12)\n"
     ]
    }
   ],
   "source": [
    "with open ('C:\\\\Users\\\\Wilfred\\\\Desktop\\\\Min-Max\\\\output_layer_4_6_13_3.pickle','rb') as file:\n",
    "    output_data = pickle.load(file)\n",
    "output_data = np.transpose(output_data)\n",
    "y_train = output_data[:100000,:]\n",
    "y_valid = output_data[100000:102500, :]\n",
    "y_test = output_data[102500:,:]\n",
    "print(output_data.shape)"
   ]
  },
  {
   "cell_type": "code",
   "execution_count": 4,
   "metadata": {},
   "outputs": [
    {
     "name": "stdout",
     "output_type": "stream",
     "text": [
      "Train on 100000 samples, validate on 2500 samples\n",
      "Epoch 1/100\n",
      "100000/100000 - 5s - loss: 0.2991 - accuracy: 0.8774 - val_loss: 0.2150 - val_accuracy: 0.9091\n",
      "Epoch 2/100\n",
      "100000/100000 - 4s - loss: 0.2021 - accuracy: 0.9129 - val_loss: 0.1933 - val_accuracy: 0.9147\n",
      "Epoch 3/100\n",
      "100000/100000 - 4s - loss: 0.1872 - accuracy: 0.9167 - val_loss: 0.1859 - val_accuracy: 0.9172\n",
      "Epoch 4/100\n",
      "100000/100000 - 4s - loss: 0.1777 - accuracy: 0.9201 - val_loss: 0.1755 - val_accuracy: 0.9212\n",
      "Epoch 5/100\n",
      "100000/100000 - 4s - loss: 0.1657 - accuracy: 0.9257 - val_loss: 0.1630 - val_accuracy: 0.9266\n",
      "Epoch 6/100\n",
      "100000/100000 - 4s - loss: 0.1468 - accuracy: 0.9335 - val_loss: 0.1409 - val_accuracy: 0.9350\n",
      "Epoch 7/100\n",
      "100000/100000 - 4s - loss: 0.1267 - accuracy: 0.9407 - val_loss: 0.1267 - val_accuracy: 0.9388\n",
      "Epoch 8/100\n",
      "100000/100000 - 4s - loss: 0.1135 - accuracy: 0.9458 - val_loss: 0.1163 - val_accuracy: 0.9421\n",
      "Epoch 9/100\n",
      "100000/100000 - 4s - loss: 0.1033 - accuracy: 0.9504 - val_loss: 0.1057 - val_accuracy: 0.9484\n",
      "Epoch 10/100\n",
      "100000/100000 - 4s - loss: 0.0950 - accuracy: 0.9546 - val_loss: 0.1021 - val_accuracy: 0.9509\n",
      "Epoch 11/100\n",
      "100000/100000 - 4s - loss: 0.0866 - accuracy: 0.9590 - val_loss: 0.0899 - val_accuracy: 0.9577\n",
      "Epoch 12/100\n",
      "100000/100000 - 4s - loss: 0.0794 - accuracy: 0.9629 - val_loss: 0.0868 - val_accuracy: 0.9598\n",
      "Epoch 13/100\n",
      "100000/100000 - 4s - loss: 0.0749 - accuracy: 0.9653 - val_loss: 0.0856 - val_accuracy: 0.9612\n",
      "Epoch 14/100\n",
      "100000/100000 - 4s - loss: 0.0700 - accuracy: 0.9682 - val_loss: 0.0775 - val_accuracy: 0.9635\n",
      "Epoch 15/100\n",
      "100000/100000 - 4s - loss: 0.0643 - accuracy: 0.9711 - val_loss: 0.0737 - val_accuracy: 0.9658\n",
      "Epoch 16/100\n",
      "100000/100000 - 4s - loss: 0.0611 - accuracy: 0.9726 - val_loss: 0.0713 - val_accuracy: 0.9671\n",
      "Epoch 17/100\n",
      "100000/100000 - 4s - loss: 0.0574 - accuracy: 0.9746 - val_loss: 0.0683 - val_accuracy: 0.9696\n",
      "Epoch 18/100\n",
      "100000/100000 - 4s - loss: 0.0548 - accuracy: 0.9758 - val_loss: 0.0620 - val_accuracy: 0.9728\n",
      "Epoch 19/100\n",
      "100000/100000 - 4s - loss: 0.0530 - accuracy: 0.9768 - val_loss: 0.0622 - val_accuracy: 0.9733\n",
      "Epoch 20/100\n",
      "100000/100000 - 4s - loss: 0.0495 - accuracy: 0.9785 - val_loss: 0.0603 - val_accuracy: 0.9728\n",
      "Epoch 21/100\n",
      "100000/100000 - 4s - loss: 0.0484 - accuracy: 0.9791 - val_loss: 0.0597 - val_accuracy: 0.9744\n",
      "Epoch 22/100\n",
      "100000/100000 - 4s - loss: 0.0456 - accuracy: 0.9804 - val_loss: 0.0568 - val_accuracy: 0.9753\n",
      "Epoch 23/100\n",
      "100000/100000 - 4s - loss: 0.0437 - accuracy: 0.9812 - val_loss: 0.0565 - val_accuracy: 0.9763\n",
      "Epoch 24/100\n",
      "100000/100000 - 3s - loss: 0.0427 - accuracy: 0.9818 - val_loss: 0.0583 - val_accuracy: 0.9748\n",
      "Epoch 25/100\n",
      "100000/100000 - 3s - loss: 0.0389 - accuracy: 0.9835 - val_loss: 0.0543 - val_accuracy: 0.9763\n",
      "Epoch 26/100\n",
      "100000/100000 - 3s - loss: 0.0387 - accuracy: 0.9836 - val_loss: 0.0570 - val_accuracy: 0.9760\n",
      "Epoch 27/100\n",
      "100000/100000 - 3s - loss: 0.0371 - accuracy: 0.9843 - val_loss: 0.0511 - val_accuracy: 0.9787\n",
      "Epoch 28/100\n",
      "100000/100000 - 3s - loss: 0.0352 - accuracy: 0.9851 - val_loss: 0.0522 - val_accuracy: 0.9783\n",
      "Epoch 29/100\n",
      "100000/100000 - 3s - loss: 0.0323 - accuracy: 0.9866 - val_loss: 0.0516 - val_accuracy: 0.9797\n",
      "Epoch 30/100\n",
      "100000/100000 - 3s - loss: 0.0334 - accuracy: 0.9861 - val_loss: 0.0534 - val_accuracy: 0.9779\n",
      "Epoch 31/100\n",
      "100000/100000 - 3s - loss: 0.0323 - accuracy: 0.9866 - val_loss: 0.0476 - val_accuracy: 0.9811\n",
      "Epoch 32/100\n",
      "100000/100000 - 3s - loss: 0.0305 - accuracy: 0.9874 - val_loss: 0.0507 - val_accuracy: 0.9792\n",
      "Epoch 33/100\n",
      "100000/100000 - 3s - loss: 0.0293 - accuracy: 0.9880 - val_loss: 0.0570 - val_accuracy: 0.9786\n",
      "Epoch 34/100\n",
      "100000/100000 - 3s - loss: 0.0272 - accuracy: 0.9889 - val_loss: 0.0459 - val_accuracy: 0.9817\n",
      "Epoch 35/100\n",
      "100000/100000 - 3s - loss: 0.0270 - accuracy: 0.9890 - val_loss: 0.0506 - val_accuracy: 0.9803\n",
      "Epoch 36/100\n",
      "100000/100000 - 3s - loss: 0.0285 - accuracy: 0.9885 - val_loss: 0.0481 - val_accuracy: 0.9813\n",
      "Epoch 37/100\n",
      "100000/100000 - 3s - loss: 0.0260 - accuracy: 0.9895 - val_loss: 0.0484 - val_accuracy: 0.9818\n",
      "Epoch 38/100\n",
      "100000/100000 - 3s - loss: 0.0272 - accuracy: 0.9891 - val_loss: 0.0452 - val_accuracy: 0.9836\n",
      "Epoch 39/100\n",
      "100000/100000 - 3s - loss: 0.0242 - accuracy: 0.9902 - val_loss: 0.0476 - val_accuracy: 0.9819\n",
      "Epoch 40/100\n",
      "100000/100000 - 3s - loss: 0.0261 - accuracy: 0.9895 - val_loss: 0.0480 - val_accuracy: 0.9822\n",
      "Epoch 41/100\n",
      "100000/100000 - 3s - loss: 0.0238 - accuracy: 0.9905 - val_loss: 0.0516 - val_accuracy: 0.9818\n",
      "Epoch 42/100\n",
      "100000/100000 - 4s - loss: 0.0224 - accuracy: 0.9912 - val_loss: 0.0466 - val_accuracy: 0.9830\n",
      "Epoch 43/100\n",
      "100000/100000 - 4s - loss: 0.0231 - accuracy: 0.9909 - val_loss: 0.0537 - val_accuracy: 0.9809\n",
      "Epoch 44/100\n",
      "100000/100000 - 4s - loss: 0.0214 - accuracy: 0.9915 - val_loss: 0.0467 - val_accuracy: 0.9835\n",
      "Epoch 45/100\n",
      "100000/100000 - 4s - loss: 0.0201 - accuracy: 0.9920 - val_loss: 0.0504 - val_accuracy: 0.9832\n",
      "Epoch 46/100\n",
      "100000/100000 - 4s - loss: 0.0212 - accuracy: 0.9917 - val_loss: 0.0526 - val_accuracy: 0.9825\n",
      "Epoch 47/100\n",
      "100000/100000 - 4s - loss: 0.0216 - accuracy: 0.9916 - val_loss: 0.0520 - val_accuracy: 0.9833\n",
      "Epoch 48/100\n",
      "100000/100000 - 5s - loss: 0.0220 - accuracy: 0.9914 - val_loss: 0.0540 - val_accuracy: 0.9826\n",
      "Epoch 49/100\n",
      "100000/100000 - 4s - loss: 0.0203 - accuracy: 0.9922 - val_loss: 0.0510 - val_accuracy: 0.9829\n",
      "Epoch 50/100\n",
      "100000/100000 - 4s - loss: 0.0207 - accuracy: 0.9919 - val_loss: 0.0496 - val_accuracy: 0.9825\n",
      "Epoch 51/100\n",
      "100000/100000 - 4s - loss: 0.0169 - accuracy: 0.9935 - val_loss: 0.0464 - val_accuracy: 0.9847\n",
      "Epoch 52/100\n",
      "100000/100000 - 4s - loss: 0.0189 - accuracy: 0.9927 - val_loss: 0.0497 - val_accuracy: 0.9845\n",
      "Epoch 53/100\n",
      "100000/100000 - 4s - loss: 0.0198 - accuracy: 0.9924 - val_loss: 0.0505 - val_accuracy: 0.9841\n",
      "Epoch 54/100\n",
      "100000/100000 - 4s - loss: 0.0189 - accuracy: 0.9927 - val_loss: 0.0534 - val_accuracy: 0.9840\n",
      "Epoch 55/100\n",
      "100000/100000 - 4s - loss: 0.0179 - accuracy: 0.9931 - val_loss: 0.0512 - val_accuracy: 0.9842\n",
      "Epoch 56/100\n",
      "100000/100000 - 4s - loss: 0.0183 - accuracy: 0.9930 - val_loss: 0.0565 - val_accuracy: 0.9825\n",
      "Epoch 57/100\n",
      "100000/100000 - 4s - loss: 0.0161 - accuracy: 0.9938 - val_loss: 0.0551 - val_accuracy: 0.9834\n",
      "Epoch 58/100\n",
      "100000/100000 - 4s - loss: 0.0146 - accuracy: 0.9945 - val_loss: 0.0488 - val_accuracy: 0.9848\n",
      "Epoch 59/100\n",
      "100000/100000 - 4s - loss: 0.0153 - accuracy: 0.9941 - val_loss: 0.0541 - val_accuracy: 0.9853\n",
      "Epoch 60/100\n",
      "100000/100000 - 4s - loss: 0.0188 - accuracy: 0.9930 - val_loss: 0.0632 - val_accuracy: 0.9821\n",
      "Epoch 61/100\n",
      "100000/100000 - 4s - loss: 0.0203 - accuracy: 0.9924 - val_loss: 0.0518 - val_accuracy: 0.9851\n",
      "Epoch 62/100\n",
      "100000/100000 - 4s - loss: 0.0167 - accuracy: 0.9938 - val_loss: 0.0515 - val_accuracy: 0.9857\n",
      "Epoch 63/100\n",
      "100000/100000 - 4s - loss: 0.0146 - accuracy: 0.9945 - val_loss: 0.0507 - val_accuracy: 0.9855\n",
      "Epoch 64/100\n",
      "100000/100000 - 4s - loss: 0.0153 - accuracy: 0.9942 - val_loss: 0.0537 - val_accuracy: 0.9852\n",
      "Epoch 65/100\n",
      "100000/100000 - 5s - loss: 0.0151 - accuracy: 0.9943 - val_loss: 0.0522 - val_accuracy: 0.9855\n",
      "Epoch 66/100\n",
      "100000/100000 - 5s - loss: 0.0140 - accuracy: 0.9948 - val_loss: 0.0594 - val_accuracy: 0.9829\n",
      "Epoch 67/100\n",
      "100000/100000 - 5s - loss: 0.0169 - accuracy: 0.9938 - val_loss: 0.0528 - val_accuracy: 0.9852\n",
      "Epoch 68/100\n",
      "100000/100000 - 5s - loss: 0.0176 - accuracy: 0.9935 - val_loss: 0.0549 - val_accuracy: 0.9850\n",
      "Epoch 69/100\n",
      "100000/100000 - 5s - loss: 0.0166 - accuracy: 0.9939 - val_loss: 0.0506 - val_accuracy: 0.9860\n",
      "Epoch 70/100\n",
      "100000/100000 - 5s - loss: 0.0175 - accuracy: 0.9936 - val_loss: 0.0547 - val_accuracy: 0.9854\n",
      "Epoch 71/100\n",
      "100000/100000 - 4s - loss: 0.0129 - accuracy: 0.9952 - val_loss: 0.0497 - val_accuracy: 0.9871\n",
      "Epoch 72/100\n",
      "100000/100000 - 5s - loss: 0.0107 - accuracy: 0.9960 - val_loss: 0.0511 - val_accuracy: 0.9861\n",
      "Epoch 73/100\n",
      "100000/100000 - 4s - loss: 0.0128 - accuracy: 0.9953 - val_loss: 0.0542 - val_accuracy: 0.9857\n",
      "Epoch 74/100\n",
      "100000/100000 - 4s - loss: 0.0131 - accuracy: 0.9951 - val_loss: 0.0517 - val_accuracy: 0.9862\n",
      "Epoch 75/100\n",
      "100000/100000 - 4s - loss: 0.0128 - accuracy: 0.9953 - val_loss: 0.0607 - val_accuracy: 0.9845\n",
      "Epoch 76/100\n",
      "100000/100000 - 4s - loss: 0.0130 - accuracy: 0.9952 - val_loss: 0.0607 - val_accuracy: 0.9845\n"
     ]
    },
    {
     "name": "stdout",
     "output_type": "stream",
     "text": [
      "Epoch 77/100\n",
      "100000/100000 - 5s - loss: 0.0187 - accuracy: 0.9935 - val_loss: 0.0585 - val_accuracy: 0.9844\n",
      "Epoch 78/100\n",
      "100000/100000 - 4s - loss: 0.0157 - accuracy: 0.9943 - val_loss: 0.0527 - val_accuracy: 0.9862\n",
      "Epoch 79/100\n",
      "100000/100000 - 4s - loss: 0.0146 - accuracy: 0.9947 - val_loss: 0.0639 - val_accuracy: 0.9844\n",
      "Epoch 80/100\n",
      "100000/100000 - 5s - loss: 0.0134 - accuracy: 0.9952 - val_loss: 0.0515 - val_accuracy: 0.9872\n",
      "Epoch 81/100\n",
      "100000/100000 - 4s - loss: 0.0152 - accuracy: 0.9947 - val_loss: 0.0559 - val_accuracy: 0.9868\n",
      "Epoch 82/100\n",
      "100000/100000 - 4s - loss: 0.0136 - accuracy: 0.9952 - val_loss: 0.0555 - val_accuracy: 0.9865\n",
      "Epoch 83/100\n",
      "100000/100000 - 4s - loss: 0.0135 - accuracy: 0.9951 - val_loss: 0.0579 - val_accuracy: 0.9859\n",
      "Epoch 84/100\n",
      "100000/100000 - 4s - loss: 0.0105 - accuracy: 0.9962 - val_loss: 0.0527 - val_accuracy: 0.9877\n",
      "Epoch 85/100\n",
      "100000/100000 - 4s - loss: 0.0116 - accuracy: 0.9958 - val_loss: 0.0553 - val_accuracy: 0.9864\n",
      "Epoch 86/100\n",
      "100000/100000 - 4s - loss: 0.0169 - accuracy: 0.9942 - val_loss: 0.0546 - val_accuracy: 0.9858\n",
      "Epoch 87/100\n",
      "100000/100000 - 4s - loss: 0.0164 - accuracy: 0.9942 - val_loss: 0.0541 - val_accuracy: 0.9863\n",
      "Epoch 88/100\n",
      "100000/100000 - 5s - loss: 0.0139 - accuracy: 0.9950 - val_loss: 0.0540 - val_accuracy: 0.9870\n",
      "Epoch 89/100\n",
      "100000/100000 - 5s - loss: 0.0113 - accuracy: 0.9960 - val_loss: 0.0570 - val_accuracy: 0.9865\n",
      "Epoch 90/100\n",
      "100000/100000 - 4s - loss: 0.0124 - accuracy: 0.9955 - val_loss: 0.0565 - val_accuracy: 0.9866\n",
      "Epoch 91/100\n",
      "100000/100000 - 4s - loss: 0.0117 - accuracy: 0.9959 - val_loss: 0.0581 - val_accuracy: 0.9857\n",
      "Epoch 92/100\n",
      "100000/100000 - 4s - loss: 0.0102 - accuracy: 0.9964 - val_loss: 0.0522 - val_accuracy: 0.9876\n",
      "Epoch 93/100\n",
      "100000/100000 - 4s - loss: 0.0117 - accuracy: 0.9959 - val_loss: 0.0600 - val_accuracy: 0.9861\n",
      "Epoch 94/100\n",
      "100000/100000 - 4s - loss: 0.0161 - accuracy: 0.9945 - val_loss: 0.0585 - val_accuracy: 0.9867\n",
      "Epoch 95/100\n",
      "100000/100000 - 4s - loss: 0.0157 - accuracy: 0.9948 - val_loss: 0.0578 - val_accuracy: 0.9861\n",
      "Epoch 96/100\n",
      "100000/100000 - 4s - loss: 0.0137 - accuracy: 0.9953 - val_loss: 0.0590 - val_accuracy: 0.9865\n",
      "Epoch 97/100\n",
      "100000/100000 - 4s - loss: 0.0132 - accuracy: 0.9955 - val_loss: 0.0682 - val_accuracy: 0.9855\n",
      "Epoch 98/100\n",
      "100000/100000 - 4s - loss: 0.0101 - accuracy: 0.9964 - val_loss: 0.0533 - val_accuracy: 0.9886\n",
      "Epoch 99/100\n",
      "100000/100000 - 4s - loss: 0.0087 - accuracy: 0.9969 - val_loss: 0.0584 - val_accuracy: 0.9869\n",
      "Epoch 100/100\n",
      "100000/100000 - 4s - loss: 0.0099 - accuracy: 0.9965 - val_loss: 0.0551 - val_accuracy: 0.9876\n"
     ]
    }
   ],
   "source": [
    "model = tf.keras.models.Sequential([\n",
    "    tf.keras.layers.Dense(300,input_shape = [24], activation = 'relu'),\n",
    "    tf.keras.layers.Dense(300, activation = 'relu'),\n",
    "    tf.keras.layers.Dense(300, activation = 'relu'),\n",
    "    tf.keras.layers.Dense(12, activation = 'sigmoid')\n",
    "])\n",
    "adam = tf.keras.optimizers.Adam(lr = 0.005)\n",
    "model.compile(optimizer = adam, loss = 'binary_crossentropy', metrics = ['accuracy'])\n",
    "\n",
    "history = model.fit(x_train, y_train, batch_size = 1024, epochs = 100, verbose = 2,validation_data = (x_valid, y_valid))\n"
   ]
  },
  {
   "cell_type": "code",
   "execution_count": 7,
   "metadata": {},
   "outputs": [
    {
     "data": {
      "image/png": "[encoded data removed]",
      "text/plain": [
       "<Figure size 432x288 with 1 Axes>"
      ]
     },
     "metadata": {
      "needs_background": "light"
     },
     "output_type": "display_data"
    }
   ],
   "source": [
    "import matplotlib.pyplot as plt\n",
    "plt.figure()\n",
    "acc = history.history['accuracy']\n",
    "loss = history.history['loss']\n",
    "val_acc = history.history['val_accuracy']\n",
    "val_loss = history.history['val_loss']\n",
    "\n",
    "epochs = range(len(acc))\n",
    "plt.plot(epochs, acc, 'r', label = 'Training accuracy')\n",
    "plt.plot(epochs, val_acc, 'b', label = 'Validating accuracy')\n",
    "plt.title('Training and Validating Accuracy')\n",
    "plt.legend()\n",
    "plt.show()"
   ]
  },
  {
   "cell_type": "code",
   "execution_count": 5,
   "metadata": {},
   "outputs": [
    {
     "name": "stdout",
     "output_type": "stream",
     "text": [
      "2500/1 - 0s - loss: 0.0355 - accuracy: 0.9855\n"
     ]
    },
    {
     "data": {
      "text/plain": [
       "[0.07090053370000728, 0.9854667]"
      ]
     },
     "execution_count": 5,
     "metadata": {},
     "output_type": "execute_result"
    }
   ],
   "source": [
    "model.evaluate(x_test, y_test, verbose = 2)"
   ]
  },
  {
   "cell_type": "code",
   "execution_count": 8,
   "metadata": {},
   "outputs": [],
   "source": [
    "model.save('C:\\\\Users\\\\Wilfred\\\\Desktop\\\\weights\\\\Min_Max\\\\Min_Max_4_6_13_3_model.h5')"
   ]
  },
  {
   "cell_type": "code",
   "execution_count": null,
   "metadata": {},
   "outputs": [],
   "source": []
  }
 ],
 "metadata": {
  "kernelspec": {
   "display_name": "Python 3",
   "language": "python",
   "name": "python3"
  },
  "language_info": {
   "codemirror_mode": {
    "name": "ipython",
    "version": 3
   },
   "file_extension": ".py",
   "mimetype": "text/x-python",
   "name": "python",
   "nbconvert_exporter": "python",
   "pygments_lexer": "ipython3",
   "version": "3.7.5"
  }
 },
 "nbformat": 4,
 "nbformat_minor": 2
}
