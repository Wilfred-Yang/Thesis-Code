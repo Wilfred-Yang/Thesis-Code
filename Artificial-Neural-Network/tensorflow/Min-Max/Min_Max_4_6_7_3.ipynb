{
 "cells": [
  {
   "cell_type": "code",
   "execution_count": 1,
   "metadata": {},
   "outputs": [],
   "source": [
    "import tensorflow as tf\n",
    "import numpy as np\n",
    "import pickle"
   ]
  },
  {
   "cell_type": "code",
   "execution_count": 3,
   "metadata": {},
   "outputs": [
    {
     "name": "stdout",
     "output_type": "stream",
     "text": [
      "(453600, 24)\n"
     ]
    }
   ],
   "source": [
    "with open ('C:\\\\Users\\\\Wilfred\\\\Desktop\\\\Min-Max\\\\input_layer_4_6_7_3.pickle','rb') as file:\n",
    "    input_data = pickle.load(file)\n",
    "print(input_data.shape)\n",
    "\n",
    "x_train = input_data[:453600,:]\n",
    "#x_test = input_data[971320:, :]\n"
   ]
  },
  {
   "cell_type": "code",
   "execution_count": 4,
   "metadata": {},
   "outputs": [
    {
     "name": "stdout",
     "output_type": "stream",
     "text": [
      "(453600, 12)\n"
     ]
    }
   ],
   "source": [
    "with open ('C:\\\\Users\\\\Wilfred\\\\Desktop\\\\Min-Max\\\\output_layer_4_6_7_3.pickle','rb') as file:\n",
    "    output_data = pickle.load(file)\n",
    "output_data = np.transpose(output_data)\n",
    "y_train = output_data[:453600,:]\n",
    "#y_test = output_data[971320:, :]\n",
    "print(output_data.shape)"
   ]
  },
  {
   "cell_type": "code",
   "execution_count": 5,
   "metadata": {},
   "outputs": [
    {
     "name": "stdout",
     "output_type": "stream",
     "text": [
      "Train on 453600 samples\n",
      "Epoch 1/20\n",
      "453600/453600 - 6s - loss: 0.2215 - accuracy: 0.9065\n",
      "Epoch 2/20\n",
      "453600/453600 - 6s - loss: 0.1765 - accuracy: 0.9191\n",
      "Epoch 3/20\n",
      "453600/453600 - 6s - loss: 0.1519 - accuracy: 0.9281\n",
      "Epoch 4/20\n",
      "453600/453600 - 7s - loss: 0.1335 - accuracy: 0.9370\n",
      "Epoch 5/20\n",
      "453600/453600 - 8s - loss: 0.1197 - accuracy: 0.9438\n",
      "Epoch 6/20\n",
      "453600/453600 - 6s - loss: 0.1105 - accuracy: 0.9480\n",
      "Epoch 7/20\n",
      "453600/453600 - 6s - loss: 0.1037 - accuracy: 0.9507\n",
      "Epoch 8/20\n",
      "453600/453600 - 6s - loss: 0.0983 - accuracy: 0.9529\n",
      "Epoch 9/20\n",
      "453600/453600 - 5s - loss: 0.0935 - accuracy: 0.9548\n",
      "Epoch 10/20\n",
      "453600/453600 - 6s - loss: 0.0895 - accuracy: 0.9564\n",
      "Epoch 11/20\n",
      "453600/453600 - 7s - loss: 0.0861 - accuracy: 0.9577\n",
      "Epoch 12/20\n",
      "453600/453600 - 7s - loss: 0.0830 - accuracy: 0.9590\n",
      "Epoch 13/20\n",
      "453600/453600 - 6s - loss: 0.0806 - accuracy: 0.9599\n",
      "Epoch 14/20\n",
      "453600/453600 - 6s - loss: 0.0784 - accuracy: 0.9608\n",
      "Epoch 15/20\n",
      "453600/453600 - 6s - loss: 0.0763 - accuracy: 0.9616\n",
      "Epoch 16/20\n",
      "453600/453600 - 6s - loss: 0.0747 - accuracy: 0.9623\n",
      "Epoch 17/20\n",
      "453600/453600 - 7s - loss: 0.0734 - accuracy: 0.9627\n",
      "Epoch 18/20\n",
      "453600/453600 - 6s - loss: 0.0722 - accuracy: 0.9631\n",
      "Epoch 19/20\n",
      "453600/453600 - 6s - loss: 0.0709 - accuracy: 0.9637\n",
      "Epoch 20/20\n",
      "453600/453600 - 7s - loss: 0.0701 - accuracy: 0.9640\n"
     ]
    }
   ],
   "source": [
    "model = tf.keras.models.Sequential([\n",
    "    tf.keras.layers.Dense(150,input_shape = [24], activation = 'relu'),\n",
    "    tf.keras.layers.Dense(150, activation = 'relu'),\n",
    "    tf.keras.layers.Dense(150, activation = 'relu'),\n",
    "    tf.keras.layers.Dense(12, activation = 'sigmoid')\n",
    "])\n",
    "\n",
    "model.compile(optimizer = 'adam', loss = 'binary_crossentropy', metrics = ['accuracy'])\n",
    "\n",
    "history = model.fit(x_train, y_train, batch_size = 1024, epochs = 20, verbose = 2)\n"
   ]
  },
  {
   "cell_type": "code",
   "execution_count": 8,
   "metadata": {},
   "outputs": [
    {
     "data": {
      "text/plain": [
       "<matplotlib.legend.Legend at 0x2410dfd5748>"
      ]
     },
     "execution_count": 8,
     "metadata": {},
     "output_type": "execute_result"
    },
    {
     "data": {
      "image/png": "[encoded data removed]",
      "text/plain": [
       "<Figure size 432x288 with 1 Axes>"
      ]
     },
     "metadata": {
      "needs_background": "light"
     },
     "output_type": "display_data"
    }
   ],
   "source": [
    "import matplotlib.pyplot as plt\n",
    "plt.figure()\n",
    "acc = history.history['accuracy']\n",
    "loss = history.history['loss']\n",
    "#val_acc = history.history['val_accuracy']\n",
    "#val_loss = history.history['val_loss']\n",
    "\n",
    "epochs = range(len(acc))\n",
    "plt.plot(epochs, acc, 'r', label = 'Training accuracy')\n",
    "#plt.plot(epochs, val_acc, 'b', label = 'Validating accuracy')\n",
    "plt.title('Training Accuracy')\n",
    "plt.legend()"
   ]
  },
  {
   "cell_type": "code",
   "execution_count": 8,
   "metadata": {},
   "outputs": [
    {
     "name": "stdout",
     "output_type": "stream",
     "text": [
      "5000/1 - 0s - loss: 0.0630 - accuracy: 0.9720\n"
     ]
    },
    {
     "data": {
      "text/plain": [
       "[0.04715186712741852, 0.9720002]"
      ]
     },
     "execution_count": 8,
     "metadata": {},
     "output_type": "execute_result"
    }
   ],
   "source": [
    "#model.evaluate(x_test, y_test, verbose = 2)"
   ]
  },
  {
   "cell_type": "code",
   "execution_count": 9,
   "metadata": {},
   "outputs": [],
   "source": [
    "model.save('C:\\\\Users\\\\Wilfred\\\\Desktop\\\\weights\\\\Min_Max\\\\Min_Max_4_6_7_3_model.h5')"
   ]
  },
  {
   "cell_type": "code",
   "execution_count": null,
   "metadata": {},
   "outputs": [],
   "source": []
  }
 ],
 "metadata": {
  "kernelspec": {
   "display_name": "Python 3",
   "language": "python",
   "name": "python3"
  },
  "language_info": {
   "codemirror_mode": {
    "name": "ipython",
    "version": 3
   },
   "file_extension": ".py",
   "mimetype": "text/x-python",
   "name": "python",
   "nbconvert_exporter": "python",
   "pygments_lexer": "ipython3",
   "version": "3.7.5"
  }
 },
 "nbformat": 4,
 "nbformat_minor": 2
}
