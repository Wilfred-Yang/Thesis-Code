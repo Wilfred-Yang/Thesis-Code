{
 "cells": [
  {
   "cell_type": "code",
   "execution_count": 2,
   "metadata": {},
   "outputs": [],
   "source": [
    "import tensorflow as tf\n",
    "import numpy as np\n",
    "import pickle"
   ]
  },
  {
   "cell_type": "code",
   "execution_count": 4,
   "metadata": {},
   "outputs": [
    {
     "name": "stdout",
     "output_type": "stream",
     "text": [
      "(5775840, 24)\n"
     ]
    }
   ],
   "source": [
    "with open ('C:\\\\Users\\\\Wilfred\\\\Desktop\\\\Min-Max\\\\input_layer_4_6_8_3.pickle','rb') as file:\n",
    "    input_data = pickle.load(file)\n",
    "print(input_data.shape)\n",
    "x_train = input_data[:5765840,:]\n",
    "x_valid = input_data[5765840:5771840,:]\n",
    "x_test = input_data[5771840:, :]\n",
    "#(5775840, 24)"
   ]
  },
  {
   "cell_type": "code",
   "execution_count": 5,
   "metadata": {},
   "outputs": [
    {
     "name": "stdout",
     "output_type": "stream",
     "text": [
      "(5775840, 12)\n"
     ]
    }
   ],
   "source": [
    "with open ('C:\\\\Users\\\\Wilfred\\\\Desktop\\\\Min-Max\\\\output_layer_4_6_8_3.pickle','rb') as file:\n",
    "    output_data = pickle.load(file)\n",
    "output_data = np.transpose(output_data)\n",
    "y_train = output_data[:5765840,:]\n",
    "y_valid = output_data[5765840:5771840,:]\n",
    "y_test = output_data[5771840:,:]\n",
    "print(output_data.shape)"
   ]
  },
  {
   "cell_type": "code",
   "execution_count": 7,
   "metadata": {},
   "outputs": [
    {
     "name": "stdout",
     "output_type": "stream",
     "text": [
      "Train on 5765840 samples, validate on 6000 samples\n",
      "Epoch 1/10\n",
      "5765840/5765840 - 79s - loss: 0.1295 - accuracy: 0.9392 - val_loss: 0.2201 - val_accuracy: 0.8992\n",
      "Epoch 2/10\n",
      "5765840/5765840 - 74s - loss: 0.0685 - accuracy: 0.9644 - val_loss: 0.1956 - val_accuracy: 0.9153\n",
      "Epoch 3/10\n",
      "5765840/5765840 - 74s - loss: 0.0571 - accuracy: 0.9683 - val_loss: 0.1942 - val_accuracy: 0.9146\n",
      "Epoch 4/10\n",
      "5765840/5765840 - 84s - loss: 0.0545 - accuracy: 0.9690 - val_loss: 0.1900 - val_accuracy: 0.9167\n",
      "Epoch 5/10\n",
      "5765840/5765840 - 87s - loss: 0.0536 - accuracy: 0.9692 - val_loss: 0.1890 - val_accuracy: 0.9167\n",
      "Epoch 6/10\n",
      "5765840/5765840 - 85s - loss: 0.0532 - accuracy: 0.9693 - val_loss: 0.1885 - val_accuracy: 0.9166\n",
      "Epoch 7/10\n",
      "5765840/5765840 - 86s - loss: 0.0530 - accuracy: 0.9693 - val_loss: 0.1891 - val_accuracy: 0.9166\n",
      "Epoch 8/10\n",
      "5765840/5765840 - 81s - loss: 0.0529 - accuracy: 0.9693 - val_loss: 0.1887 - val_accuracy: 0.9166\n",
      "Epoch 9/10\n",
      "5765840/5765840 - 87s - loss: 0.0528 - accuracy: 0.9693 - val_loss: 0.1878 - val_accuracy: 0.9167\n",
      "Epoch 10/10\n",
      "5765840/5765840 - 70s - loss: 0.0528 - accuracy: 0.9693 - val_loss: 0.1888 - val_accuracy: 0.9162\n"
     ]
    }
   ],
   "source": [
    "model = tf.keras.models.Sequential([\n",
    "    tf.keras.layers.Dense(150,input_shape = [24], activation = 'relu'),\n",
    "    tf.keras.layers.Dense(150, activation = 'relu'),\n",
    "    tf.keras.layers.Dense(150, activation = 'relu'),\n",
    "    tf.keras.layers.Dense(12, activation = 'sigmoid')\n",
    "])\n",
    "\n",
    "model.compile(optimizer = 'adam', loss = 'binary_crossentropy', metrics = ['accuracy'])\n",
    "\n",
    "history = model.fit(x_train, y_train, batch_size = 1024, epochs = 10, verbose = 2,validation_data = (x_valid, y_valid))\n"
   ]
  },
  {
   "cell_type": "code",
   "execution_count": 9,
   "metadata": {},
   "outputs": [
    {
     "data": {
      "text/plain": [
       "<matplotlib.legend.Legend at 0x13e839c39c8>"
      ]
     },
     "execution_count": 9,
     "metadata": {},
     "output_type": "execute_result"
    },
    {
     "data": {
      "image/png": "[encoded data removed]",
      "text/plain": [
       "<Figure size 432x288 with 1 Axes>"
      ]
     },
     "metadata": {
      "needs_background": "light"
     },
     "output_type": "display_data"
    }
   ],
   "source": [
    "import matplotlib.pyplot as plt\n",
    "plt.figure()\n",
    "acc = history.history['accuracy']\n",
    "loss = history.history['loss']\n",
    "val_acc = history.history['val_accuracy']\n",
    "val_loss = history.history['val_loss']\n",
    "\n",
    "epochs = range(len(acc))\n",
    "plt.plot(epochs, acc, 'r', label = 'Training accuracy')\n",
    "plt.plot(epochs, val_acc, 'b', label = 'Validating accuracy')\n",
    "plt.title('Training and Validating Accuracy')\n",
    "plt.legend()"
   ]
  },
  {
   "cell_type": "code",
   "execution_count": 10,
   "metadata": {},
   "outputs": [
    {
     "name": "stdout",
     "output_type": "stream",
     "text": [
      "4000/1 - 0s - loss: 0.1875 - accuracy: 0.9167\n"
     ]
    },
    {
     "data": {
      "text/plain": [
       "[0.1880189619064331, 0.91666585]"
      ]
     },
     "execution_count": 10,
     "metadata": {},
     "output_type": "execute_result"
    }
   ],
   "source": [
    "model.evaluate(x_test, y_test, verbose = 2)"
   ]
  },
  {
   "cell_type": "code",
   "execution_count": 11,
   "metadata": {},
   "outputs": [],
   "source": [
    "model.save('C:\\\\Users\\\\Wilfred\\\\Desktop\\\\weights\\\\Min_Max\\\\Min_Max_4_6_8_3_model.h5')"
   ]
  },
  {
   "cell_type": "code",
   "execution_count": null,
   "metadata": {},
   "outputs": [],
   "source": []
  }
 ],
 "metadata": {
  "kernelspec": {
   "display_name": "Python 3",
   "language": "python",
   "name": "python3"
  },
  "language_info": {
   "codemirror_mode": {
    "name": "ipython",
    "version": 3
   },
   "file_extension": ".py",
   "mimetype": "text/x-python",
   "name": "python",
   "nbconvert_exporter": "python",
   "pygments_lexer": "ipython3",
   "version": "3.7.5"
  }
 },
 "nbformat": 4,
 "nbformat_minor": 2
}
