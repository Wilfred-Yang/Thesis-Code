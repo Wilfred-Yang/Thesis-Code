{
 "cells": [
  {
   "cell_type": "code",
   "execution_count": 1,
   "metadata": {},
   "outputs": [],
   "source": [
    "import tensorflow as tf\n",
    "import numpy as np\n",
    "import pickle"
   ]
  },
  {
   "cell_type": "code",
   "execution_count": 3,
   "metadata": {},
   "outputs": [
    {
     "name": "stdout",
     "output_type": "stream",
     "text": [
      "(72, 24)\n"
     ]
    }
   ],
   "source": [
    "with open ('C:\\\\Users\\\\Wilfred\\\\Desktop\\\\Min-Max\\\\input_layer_4_6_3_2.pickle','rb') as file:\n",
    "    input_data = pickle.load(file)\n",
    "print(input_data.shape)\n",
    "\n",
    "x_train = input_data[:72,:]\n",
    "#x_test = input_data[971320:, :]\n"
   ]
  },
  {
   "cell_type": "code",
   "execution_count": 4,
   "metadata": {},
   "outputs": [
    {
     "name": "stdout",
     "output_type": "stream",
     "text": [
      "(72, 12)\n"
     ]
    }
   ],
   "source": [
    "with open ('C:\\\\Users\\\\Wilfred\\\\Desktop\\\\Min-Max\\\\output_layer_4_6_3_2.pickle','rb') as file:\n",
    "    output_data = pickle.load(file)\n",
    "output_data = np.transpose(output_data)\n",
    "y_train = output_data[:72,:]\n",
    "#y_test = output_data[971320:, :]\n",
    "print(output_data.shape)"
   ]
  },
  {
   "cell_type": "code",
   "execution_count": 5,
   "metadata": {},
   "outputs": [
    {
     "name": "stdout",
     "output_type": "stream",
     "text": [
      "Train on 72 samples\n",
      "Epoch 1/100\n",
      "72/72 - 1s - loss: 0.7167 - accuracy: 0.4896\n",
      "Epoch 2/100\n",
      "72/72 - 0s - loss: 0.6304 - accuracy: 0.7060\n",
      "Epoch 3/100\n",
      "72/72 - 0s - loss: 0.5585 - accuracy: 0.8218\n",
      "Epoch 4/100\n",
      "72/72 - 0s - loss: 0.4977 - accuracy: 0.8403\n",
      "Epoch 5/100\n",
      "72/72 - 0s - loss: 0.4505 - accuracy: 0.8368\n",
      "Epoch 6/100\n",
      "72/72 - 0s - loss: 0.4206 - accuracy: 0.8368\n",
      "Epoch 7/100\n",
      "72/72 - 0s - loss: 0.4068 - accuracy: 0.8333\n",
      "Epoch 8/100\n",
      "72/72 - 0s - loss: 0.4010 - accuracy: 0.8333\n",
      "Epoch 9/100\n",
      "72/72 - 0s - loss: 0.3941 - accuracy: 0.8333\n",
      "Epoch 10/100\n",
      "72/72 - 0s - loss: 0.3815 - accuracy: 0.8333\n",
      "Epoch 11/100\n",
      "72/72 - 0s - loss: 0.3634 - accuracy: 0.8333\n",
      "Epoch 12/100\n",
      "72/72 - 0s - loss: 0.3430 - accuracy: 0.8368\n",
      "Epoch 13/100\n",
      "72/72 - 0s - loss: 0.3230 - accuracy: 0.8438\n",
      "Epoch 14/100\n",
      "72/72 - 0s - loss: 0.3049 - accuracy: 0.8611\n",
      "Epoch 15/100\n",
      "72/72 - 0s - loss: 0.2890 - accuracy: 0.8796\n",
      "Epoch 16/100\n",
      "72/72 - 0s - loss: 0.2750 - accuracy: 0.8993\n",
      "Epoch 17/100\n",
      "72/72 - 0s - loss: 0.2621 - accuracy: 0.9016\n",
      "Epoch 18/100\n",
      "72/72 - 0s - loss: 0.2497 - accuracy: 0.9190\n",
      "Epoch 19/100\n",
      "72/72 - 0s - loss: 0.2376 - accuracy: 0.9178\n",
      "Epoch 20/100\n",
      "72/72 - 0s - loss: 0.2257 - accuracy: 0.9213\n",
      "Epoch 21/100\n",
      "72/72 - 0s - loss: 0.2140 - accuracy: 0.9225\n",
      "Epoch 22/100\n",
      "72/72 - 0s - loss: 0.2027 - accuracy: 0.9225\n",
      "Epoch 23/100\n",
      "72/72 - 0s - loss: 0.1917 - accuracy: 0.9271\n",
      "Epoch 24/100\n",
      "72/72 - 0s - loss: 0.1815 - accuracy: 0.9271\n",
      "Epoch 25/100\n",
      "72/72 - 0s - loss: 0.1722 - accuracy: 0.9294\n",
      "Epoch 26/100\n",
      "72/72 - 0s - loss: 0.1640 - accuracy: 0.9306\n",
      "Epoch 27/100\n",
      "72/72 - 0s - loss: 0.1566 - accuracy: 0.9317\n",
      "Epoch 28/100\n",
      "72/72 - 0s - loss: 0.1500 - accuracy: 0.9329\n",
      "Epoch 29/100\n",
      "72/72 - 0s - loss: 0.1437 - accuracy: 0.9340\n",
      "Epoch 30/100\n",
      "72/72 - 0s - loss: 0.1378 - accuracy: 0.9329\n",
      "Epoch 31/100\n",
      "72/72 - 0s - loss: 0.1324 - accuracy: 0.9398\n",
      "Epoch 32/100\n",
      "72/72 - 0s - loss: 0.1276 - accuracy: 0.9421\n",
      "Epoch 33/100\n",
      "72/72 - 0s - loss: 0.1233 - accuracy: 0.9456\n",
      "Epoch 34/100\n",
      "72/72 - 0s - loss: 0.1193 - accuracy: 0.9468\n",
      "Epoch 35/100\n",
      "72/72 - 0s - loss: 0.1156 - accuracy: 0.9514\n",
      "Epoch 36/100\n",
      "72/72 - 0s - loss: 0.1122 - accuracy: 0.9514\n",
      "Epoch 37/100\n",
      "72/72 - 0s - loss: 0.1087 - accuracy: 0.9502\n",
      "Epoch 38/100\n",
      "72/72 - 0s - loss: 0.1054 - accuracy: 0.9491\n",
      "Epoch 39/100\n",
      "72/72 - 0s - loss: 0.1023 - accuracy: 0.9502\n",
      "Epoch 40/100\n",
      "72/72 - 0s - loss: 0.0995 - accuracy: 0.9502\n",
      "Epoch 41/100\n",
      "72/72 - 0s - loss: 0.0967 - accuracy: 0.9502\n",
      "Epoch 42/100\n",
      "72/72 - 0s - loss: 0.0938 - accuracy: 0.9502\n",
      "Epoch 43/100\n",
      "72/72 - 0s - loss: 0.0910 - accuracy: 0.9525\n",
      "Epoch 44/100\n",
      "72/72 - 0s - loss: 0.0882 - accuracy: 0.9537\n",
      "Epoch 45/100\n",
      "72/72 - 0s - loss: 0.0855 - accuracy: 0.9560\n",
      "Epoch 46/100\n",
      "72/72 - 0s - loss: 0.0828 - accuracy: 0.9606\n",
      "Epoch 47/100\n",
      "72/72 - 0s - loss: 0.0802 - accuracy: 0.9653\n",
      "Epoch 48/100\n",
      "72/72 - 0s - loss: 0.0777 - accuracy: 0.9699\n",
      "Epoch 49/100\n",
      "72/72 - 0s - loss: 0.0751 - accuracy: 0.9699\n",
      "Epoch 50/100\n",
      "72/72 - 0s - loss: 0.0725 - accuracy: 0.9711\n",
      "Epoch 51/100\n",
      "72/72 - 0s - loss: 0.0701 - accuracy: 0.9722\n",
      "Epoch 52/100\n",
      "72/72 - 0s - loss: 0.0676 - accuracy: 0.9757\n",
      "Epoch 53/100\n",
      "72/72 - 0s - loss: 0.0652 - accuracy: 0.9769\n",
      "Epoch 54/100\n",
      "72/72 - 0s - loss: 0.0628 - accuracy: 0.9803\n",
      "Epoch 55/100\n",
      "72/72 - 0s - loss: 0.0605 - accuracy: 0.9861\n",
      "Epoch 56/100\n",
      "72/72 - 0s - loss: 0.0583 - accuracy: 0.9861\n",
      "Epoch 57/100\n",
      "72/72 - 0s - loss: 0.0561 - accuracy: 0.9907\n",
      "Epoch 58/100\n",
      "72/72 - 0s - loss: 0.0539 - accuracy: 0.9907\n",
      "Epoch 59/100\n",
      "72/72 - 0s - loss: 0.0518 - accuracy: 0.9942\n",
      "Epoch 60/100\n",
      "72/72 - 0s - loss: 0.0497 - accuracy: 0.9942\n",
      "Epoch 61/100\n",
      "72/72 - 0s - loss: 0.0477 - accuracy: 0.9942\n",
      "Epoch 62/100\n",
      "72/72 - 0s - loss: 0.0457 - accuracy: 0.9954\n",
      "Epoch 63/100\n",
      "72/72 - 0s - loss: 0.0437 - accuracy: 0.9954\n",
      "Epoch 64/100\n",
      "72/72 - 0s - loss: 0.0419 - accuracy: 0.9965\n",
      "Epoch 65/100\n",
      "72/72 - 0s - loss: 0.0400 - accuracy: 0.9988\n",
      "Epoch 66/100\n",
      "72/72 - 0s - loss: 0.0383 - accuracy: 0.9988\n",
      "Epoch 67/100\n",
      "72/72 - 0s - loss: 0.0366 - accuracy: 1.0000\n",
      "Epoch 68/100\n",
      "72/72 - 0s - loss: 0.0349 - accuracy: 1.0000\n",
      "Epoch 69/100\n",
      "72/72 - 0s - loss: 0.0333 - accuracy: 1.0000\n",
      "Epoch 70/100\n",
      "72/72 - 0s - loss: 0.0317 - accuracy: 1.0000\n",
      "Epoch 71/100\n",
      "72/72 - 0s - loss: 0.0302 - accuracy: 1.0000\n",
      "Epoch 72/100\n",
      "72/72 - 0s - loss: 0.0287 - accuracy: 1.0000\n",
      "Epoch 73/100\n",
      "72/72 - 0s - loss: 0.0273 - accuracy: 1.0000\n",
      "Epoch 74/100\n",
      "72/72 - 0s - loss: 0.0259 - accuracy: 1.0000\n",
      "Epoch 75/100\n",
      "72/72 - 0s - loss: 0.0246 - accuracy: 1.0000\n",
      "Epoch 76/100\n",
      "72/72 - 0s - loss: 0.0234 - accuracy: 1.0000\n",
      "Epoch 77/100\n",
      "72/72 - 0s - loss: 0.0222 - accuracy: 1.0000\n",
      "Epoch 78/100\n",
      "72/72 - 0s - loss: 0.0211 - accuracy: 1.0000\n",
      "Epoch 79/100\n",
      "72/72 - 0s - loss: 0.0200 - accuracy: 1.0000\n",
      "Epoch 80/100\n",
      "72/72 - 0s - loss: 0.0189 - accuracy: 1.0000\n",
      "Epoch 81/100\n",
      "72/72 - 0s - loss: 0.0180 - accuracy: 1.0000\n",
      "Epoch 82/100\n",
      "72/72 - 0s - loss: 0.0170 - accuracy: 1.0000\n",
      "Epoch 83/100\n",
      "72/72 - 0s - loss: 0.0161 - accuracy: 1.0000\n",
      "Epoch 84/100\n",
      "72/72 - 0s - loss: 0.0153 - accuracy: 1.0000\n",
      "Epoch 85/100\n",
      "72/72 - 0s - loss: 0.0145 - accuracy: 1.0000\n",
      "Epoch 86/100\n",
      "72/72 - 0s - loss: 0.0137 - accuracy: 1.0000\n",
      "Epoch 87/100\n",
      "72/72 - 0s - loss: 0.0130 - accuracy: 1.0000\n",
      "Epoch 88/100\n",
      "72/72 - 0s - loss: 0.0123 - accuracy: 1.0000\n",
      "Epoch 89/100\n",
      "72/72 - 0s - loss: 0.0117 - accuracy: 1.0000\n",
      "Epoch 90/100\n",
      "72/72 - 0s - loss: 0.0111 - accuracy: 1.0000\n",
      "Epoch 91/100\n",
      "72/72 - 0s - loss: 0.0106 - accuracy: 1.0000\n",
      "Epoch 92/100\n",
      "72/72 - 0s - loss: 0.0100 - accuracy: 1.0000\n",
      "Epoch 93/100\n",
      "72/72 - 0s - loss: 0.0095 - accuracy: 1.0000\n",
      "Epoch 94/100\n",
      "72/72 - 0s - loss: 0.0091 - accuracy: 1.0000\n",
      "Epoch 95/100\n",
      "72/72 - 0s - loss: 0.0086 - accuracy: 1.0000\n",
      "Epoch 96/100\n",
      "72/72 - 0s - loss: 0.0082 - accuracy: 1.0000\n",
      "Epoch 97/100\n",
      "72/72 - 0s - loss: 0.0078 - accuracy: 1.0000\n",
      "Epoch 98/100\n",
      "72/72 - 0s - loss: 0.0075 - accuracy: 1.0000\n",
      "Epoch 99/100\n",
      "72/72 - 0s - loss: 0.0071 - accuracy: 1.0000\n",
      "Epoch 100/100\n",
      "72/72 - 0s - loss: 0.0068 - accuracy: 1.0000\n"
     ]
    }
   ],
   "source": [
    "model = tf.keras.models.Sequential([\n",
    "    tf.keras.layers.Dense(100,input_shape = [24], activation = 'relu'),\n",
    "    tf.keras.layers.Dense(100, activation = 'relu'),\n",
    "    tf.keras.layers.Dense(12, activation = 'sigmoid')\n",
    "])\n",
    "adam = tf.keras.optimizers.Adam(lr = 0.005)\n",
    "model.compile(optimizer = adam, loss = 'binary_crossentropy', metrics = ['accuracy'])\n",
    "\n",
    "history = model.fit(x_train, y_train, batch_size = 1024, epochs = 100, verbose = 2)\n"
   ]
  },
  {
   "cell_type": "code",
   "execution_count": 7,
   "metadata": {},
   "outputs": [
    {
     "data": {
      "text/plain": [
       "<matplotlib.legend.Legend at 0x2409fefce08>"
      ]
     },
     "execution_count": 7,
     "metadata": {},
     "output_type": "execute_result"
    },
    {
     "data": {
      "image/png": "[encoded data removed]",
      "text/plain": [
       "<Figure size 432x288 with 1 Axes>"
      ]
     },
     "metadata": {
      "needs_background": "light"
     },
     "output_type": "display_data"
    }
   ],
   "source": [
    "import matplotlib.pyplot as plt\n",
    "plt.figure()\n",
    "acc = history.history['accuracy']\n",
    "loss = history.history['loss']\n",
    "#val_acc = history.history['val_accuracy']\n",
    "#val_loss = history.history['val_loss']\n",
    "\n",
    "epochs = range(len(acc))\n",
    "plt.plot(epochs, acc, 'r', label = 'Training accuracy')\n",
    "#plt.plot(epochs, val_acc, 'b', label = 'Validating accuracy')\n",
    "plt.title('Training Accuracy')\n",
    "plt.legend()\n"
   ]
  },
  {
   "cell_type": "code",
   "execution_count": 8,
   "metadata": {},
   "outputs": [
    {
     "name": "stdout",
     "output_type": "stream",
     "text": [
      "5000/1 - 0s - loss: 0.0630 - accuracy: 0.9720\n"
     ]
    },
    {
     "data": {
      "text/plain": [
       "[0.04715186712741852, 0.9720002]"
      ]
     },
     "execution_count": 8,
     "metadata": {},
     "output_type": "execute_result"
    }
   ],
   "source": [
    "#model.evaluate(x_test, y_test, verbose = 2)"
   ]
  },
  {
   "cell_type": "code",
   "execution_count": 8,
   "metadata": {},
   "outputs": [],
   "source": [
    "model.save('C:\\\\Users\\\\Wilfred\\\\Desktop\\\\weights\\\\Min_Max\\\\Min_Max_4_6_3_2_model.h5')"
   ]
  },
  {
   "cell_type": "code",
   "execution_count": null,
   "metadata": {},
   "outputs": [],
   "source": []
  }
 ],
 "metadata": {
  "kernelspec": {
   "display_name": "Python 3",
   "language": "python",
   "name": "python3"
  },
  "language_info": {
   "codemirror_mode": {
    "name": "ipython",
    "version": 3
   },
   "file_extension": ".py",
   "mimetype": "text/x-python",
   "name": "python",
   "nbconvert_exporter": "python",
   "pygments_lexer": "ipython3",
   "version": "3.7.5"
  }
 },
 "nbformat": 4,
 "nbformat_minor": 2
}
