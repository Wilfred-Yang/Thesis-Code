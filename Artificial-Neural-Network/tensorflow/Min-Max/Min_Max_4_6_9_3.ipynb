{
 "cells": [
  {
   "cell_type": "code",
   "execution_count": 1,
   "metadata": {},
   "outputs": [],
   "source": [
    "import tensorflow as tf\n",
    "import numpy as np\n",
    "import pickle"
   ]
  },
  {
   "cell_type": "code",
   "execution_count": 2,
   "metadata": {},
   "outputs": [
    {
     "name": "stdout",
     "output_type": "stream",
     "text": [
      "(105000, 24)\n"
     ]
    }
   ],
   "source": [
    "with open ('C:\\\\Users\\\\Wilfred\\\\Desktop\\\\Min-Max\\\\input_layer_4_6_9_3.pickle','rb') as file:\n",
    "    input_data = pickle.load(file)\n",
    "print(input_data.shape)\n",
    "x_train = input_data[:100000,:]\n",
    "x_test = input_data[100000:,:]"
   ]
  },
  {
   "cell_type": "code",
   "execution_count": 3,
   "metadata": {},
   "outputs": [
    {
     "name": "stdout",
     "output_type": "stream",
     "text": [
      "(12, 105000)\n"
     ]
    }
   ],
   "source": [
    "with open ('C:\\\\Users\\\\Wilfred\\\\Desktop\\\\Min-Max\\\\output_layer_4_6_9_3.pickle','rb') as file:\n",
    "    output_data = pickle.load(file)\n",
    "print(output_data.shape)\n",
    "output_data = np.transpose(output_data)\n",
    "y_train = output_data[:100000,:]\n",
    "y_test = output_data[100000:,:]"
   ]
  },
  {
   "cell_type": "code",
   "execution_count": 4,
   "metadata": {},
   "outputs": [
    {
     "name": "stdout",
     "output_type": "stream",
     "text": [
      "Train on 100000 samples, validate on 5000 samples\n",
      "Epoch 1/100\n",
      "100000/100000 - 2s - loss: 0.3087 - accuracy: 0.8758 - val_loss: 0.2446 - val_accuracy: 0.9026\n",
      "Epoch 2/100\n",
      "100000/100000 - 2s - loss: 0.2302 - accuracy: 0.9077 - val_loss: 0.2199 - val_accuracy: 0.9111\n",
      "Epoch 3/100\n",
      "100000/100000 - 2s - loss: 0.2144 - accuracy: 0.9126 - val_loss: 0.2108 - val_accuracy: 0.9130\n",
      "Epoch 4/100\n",
      "100000/100000 - 1s - loss: 0.2063 - accuracy: 0.9144 - val_loss: 0.2044 - val_accuracy: 0.9149\n",
      "Epoch 5/100\n",
      "100000/100000 - 1s - loss: 0.1997 - accuracy: 0.9151 - val_loss: 0.1982 - val_accuracy: 0.9154\n",
      "Epoch 6/100\n",
      "100000/100000 - 1s - loss: 0.1935 - accuracy: 0.9159 - val_loss: 0.1929 - val_accuracy: 0.9153\n",
      "Epoch 7/100\n",
      "100000/100000 - 1s - loss: 0.1861 - accuracy: 0.9169 - val_loss: 0.1861 - val_accuracy: 0.9160\n",
      "Epoch 8/100\n",
      "100000/100000 - 1s - loss: 0.1790 - accuracy: 0.9185 - val_loss: 0.1793 - val_accuracy: 0.9175\n",
      "Epoch 9/100\n",
      "100000/100000 - 1s - loss: 0.1710 - accuracy: 0.9210 - val_loss: 0.1711 - val_accuracy: 0.9199\n",
      "Epoch 10/100\n",
      "100000/100000 - 1s - loss: 0.1632 - accuracy: 0.9239 - val_loss: 0.1641 - val_accuracy: 0.9231\n",
      "Epoch 11/100\n",
      "100000/100000 - 1s - loss: 0.1565 - accuracy: 0.9265 - val_loss: 0.1589 - val_accuracy: 0.9248\n",
      "Epoch 12/100\n",
      "100000/100000 - 2s - loss: 0.1502 - accuracy: 0.9291 - val_loss: 0.1518 - val_accuracy: 0.9277\n",
      "Epoch 13/100\n",
      "100000/100000 - 1s - loss: 0.1444 - accuracy: 0.9318 - val_loss: 0.1490 - val_accuracy: 0.9292\n",
      "Epoch 14/100\n",
      "100000/100000 - 2s - loss: 0.1398 - accuracy: 0.9341 - val_loss: 0.1438 - val_accuracy: 0.9318\n",
      "Epoch 15/100\n",
      "100000/100000 - 1s - loss: 0.1351 - accuracy: 0.9367 - val_loss: 0.1407 - val_accuracy: 0.9324\n",
      "Epoch 16/100\n",
      "100000/100000 - 1s - loss: 0.1314 - accuracy: 0.9384 - val_loss: 0.1359 - val_accuracy: 0.9356\n",
      "Epoch 17/100\n",
      "100000/100000 - 1s - loss: 0.1275 - accuracy: 0.9406 - val_loss: 0.1328 - val_accuracy: 0.9379\n",
      "Epoch 18/100\n",
      "100000/100000 - 2s - loss: 0.1244 - accuracy: 0.9422 - val_loss: 0.1293 - val_accuracy: 0.9392\n",
      "Epoch 19/100\n",
      "100000/100000 - 2s - loss: 0.1213 - accuracy: 0.9437 - val_loss: 0.1274 - val_accuracy: 0.9412\n",
      "Epoch 20/100\n",
      "100000/100000 - 1s - loss: 0.1176 - accuracy: 0.9458 - val_loss: 0.1240 - val_accuracy: 0.9422\n",
      "Epoch 21/100\n",
      "100000/100000 - 1s - loss: 0.1148 - accuracy: 0.9474 - val_loss: 0.1220 - val_accuracy: 0.9428\n",
      "Epoch 22/100\n",
      "100000/100000 - 1s - loss: 0.1125 - accuracy: 0.9482 - val_loss: 0.1207 - val_accuracy: 0.9446\n",
      "Epoch 23/100\n",
      "100000/100000 - 1s - loss: 0.1097 - accuracy: 0.9498 - val_loss: 0.1179 - val_accuracy: 0.9445\n",
      "Epoch 24/100\n",
      "100000/100000 - 1s - loss: 0.1077 - accuracy: 0.9507 - val_loss: 0.1162 - val_accuracy: 0.9459\n",
      "Epoch 25/100\n",
      "100000/100000 - 1s - loss: 0.1051 - accuracy: 0.9520 - val_loss: 0.1138 - val_accuracy: 0.9479\n",
      "Epoch 26/100\n",
      "100000/100000 - 1s - loss: 0.1030 - accuracy: 0.9531 - val_loss: 0.1118 - val_accuracy: 0.9484\n",
      "Epoch 27/100\n",
      "100000/100000 - 1s - loss: 0.1005 - accuracy: 0.9542 - val_loss: 0.1100 - val_accuracy: 0.9501\n",
      "Epoch 28/100\n",
      "100000/100000 - 1s - loss: 0.0987 - accuracy: 0.9552 - val_loss: 0.1083 - val_accuracy: 0.9510\n",
      "Epoch 29/100\n",
      "100000/100000 - 1s - loss: 0.0972 - accuracy: 0.9559 - val_loss: 0.1071 - val_accuracy: 0.9507\n",
      "Epoch 30/100\n",
      "100000/100000 - 1s - loss: 0.0957 - accuracy: 0.9566 - val_loss: 0.1087 - val_accuracy: 0.9493\n",
      "Epoch 31/100\n",
      "100000/100000 - 1s - loss: 0.0939 - accuracy: 0.9575 - val_loss: 0.1043 - val_accuracy: 0.9527\n",
      "Epoch 32/100\n",
      "100000/100000 - 1s - loss: 0.0923 - accuracy: 0.9584 - val_loss: 0.1035 - val_accuracy: 0.9532\n",
      "Epoch 33/100\n",
      "100000/100000 - 1s - loss: 0.0912 - accuracy: 0.9587 - val_loss: 0.1043 - val_accuracy: 0.9520\n",
      "Epoch 34/100\n",
      "100000/100000 - 1s - loss: 0.0900 - accuracy: 0.9594 - val_loss: 0.0999 - val_accuracy: 0.9546\n",
      "Epoch 35/100\n",
      "100000/100000 - 1s - loss: 0.0879 - accuracy: 0.9605 - val_loss: 0.0989 - val_accuracy: 0.9549\n",
      "Epoch 36/100\n",
      "100000/100000 - 1s - loss: 0.0865 - accuracy: 0.9611 - val_loss: 0.0986 - val_accuracy: 0.9549\n",
      "Epoch 37/100\n",
      "100000/100000 - 1s - loss: 0.0850 - accuracy: 0.9620 - val_loss: 0.0971 - val_accuracy: 0.9556\n",
      "Epoch 38/100\n",
      "100000/100000 - 1s - loss: 0.0839 - accuracy: 0.9624 - val_loss: 0.0955 - val_accuracy: 0.9563\n",
      "Epoch 39/100\n",
      "100000/100000 - 1s - loss: 0.0826 - accuracy: 0.9631 - val_loss: 0.0950 - val_accuracy: 0.9570\n",
      "Epoch 40/100\n",
      "100000/100000 - 1s - loss: 0.0816 - accuracy: 0.9635 - val_loss: 0.0962 - val_accuracy: 0.9560\n",
      "Epoch 41/100\n",
      "100000/100000 - 1s - loss: 0.0803 - accuracy: 0.9641 - val_loss: 0.0940 - val_accuracy: 0.9571\n",
      "Epoch 42/100\n",
      "100000/100000 - 1s - loss: 0.0791 - accuracy: 0.9646 - val_loss: 0.0921 - val_accuracy: 0.9584\n",
      "Epoch 43/100\n",
      "100000/100000 - 1s - loss: 0.0779 - accuracy: 0.9651 - val_loss: 0.0910 - val_accuracy: 0.9584\n",
      "Epoch 44/100\n",
      "100000/100000 - 1s - loss: 0.0772 - accuracy: 0.9656 - val_loss: 0.0915 - val_accuracy: 0.9580\n",
      "Epoch 45/100\n",
      "100000/100000 - 1s - loss: 0.0759 - accuracy: 0.9662 - val_loss: 0.0896 - val_accuracy: 0.9591\n",
      "Epoch 46/100\n",
      "100000/100000 - 1s - loss: 0.0748 - accuracy: 0.9666 - val_loss: 0.0889 - val_accuracy: 0.9600\n",
      "Epoch 47/100\n",
      "100000/100000 - 2s - loss: 0.0739 - accuracy: 0.9671 - val_loss: 0.0877 - val_accuracy: 0.9602\n",
      "Epoch 48/100\n",
      "100000/100000 - 2s - loss: 0.0724 - accuracy: 0.9678 - val_loss: 0.0873 - val_accuracy: 0.9603\n",
      "Epoch 49/100\n",
      "100000/100000 - 1s - loss: 0.0715 - accuracy: 0.9683 - val_loss: 0.0872 - val_accuracy: 0.9601\n",
      "Epoch 50/100\n",
      "100000/100000 - 1s - loss: 0.0708 - accuracy: 0.9685 - val_loss: 0.0856 - val_accuracy: 0.9611\n",
      "Epoch 51/100\n",
      "100000/100000 - 1s - loss: 0.0697 - accuracy: 0.9690 - val_loss: 0.0840 - val_accuracy: 0.9618\n",
      "Epoch 52/100\n",
      "100000/100000 - 1s - loss: 0.0691 - accuracy: 0.9691 - val_loss: 0.0832 - val_accuracy: 0.9629\n",
      "Epoch 53/100\n",
      "100000/100000 - 1s - loss: 0.0681 - accuracy: 0.9698 - val_loss: 0.0828 - val_accuracy: 0.9625\n",
      "Epoch 54/100\n",
      "100000/100000 - 1s - loss: 0.0672 - accuracy: 0.9703 - val_loss: 0.0819 - val_accuracy: 0.9627\n",
      "Epoch 55/100\n",
      "100000/100000 - 1s - loss: 0.0660 - accuracy: 0.9708 - val_loss: 0.0811 - val_accuracy: 0.9630\n",
      "Epoch 56/100\n",
      "100000/100000 - 1s - loss: 0.0653 - accuracy: 0.9709 - val_loss: 0.0816 - val_accuracy: 0.9629\n",
      "Epoch 57/100\n",
      "100000/100000 - 1s - loss: 0.0644 - accuracy: 0.9714 - val_loss: 0.0797 - val_accuracy: 0.9639\n",
      "Epoch 58/100\n",
      "100000/100000 - 1s - loss: 0.0639 - accuracy: 0.9717 - val_loss: 0.0799 - val_accuracy: 0.9633\n",
      "Epoch 59/100\n",
      "100000/100000 - 1s - loss: 0.0630 - accuracy: 0.9720 - val_loss: 0.0782 - val_accuracy: 0.9649\n",
      "Epoch 60/100\n",
      "100000/100000 - 1s - loss: 0.0621 - accuracy: 0.9724 - val_loss: 0.0780 - val_accuracy: 0.9647\n",
      "Epoch 61/100\n",
      "100000/100000 - 1s - loss: 0.0613 - accuracy: 0.9728 - val_loss: 0.0784 - val_accuracy: 0.9648\n",
      "Epoch 62/100\n",
      "100000/100000 - 1s - loss: 0.0605 - accuracy: 0.9732 - val_loss: 0.0758 - val_accuracy: 0.9663\n",
      "Epoch 63/100\n",
      "100000/100000 - 1s - loss: 0.0595 - accuracy: 0.9736 - val_loss: 0.0771 - val_accuracy: 0.9659\n",
      "Epoch 64/100\n",
      "100000/100000 - 1s - loss: 0.0590 - accuracy: 0.9739 - val_loss: 0.0760 - val_accuracy: 0.9656\n",
      "Epoch 65/100\n",
      "100000/100000 - 1s - loss: 0.0581 - accuracy: 0.9743 - val_loss: 0.0751 - val_accuracy: 0.9666\n",
      "Epoch 66/100\n",
      "100000/100000 - 1s - loss: 0.0577 - accuracy: 0.9744 - val_loss: 0.0751 - val_accuracy: 0.9661\n",
      "Epoch 67/100\n",
      "100000/100000 - 1s - loss: 0.0571 - accuracy: 0.9746 - val_loss: 0.0755 - val_accuracy: 0.9664\n",
      "Epoch 68/100\n",
      "100000/100000 - 1s - loss: 0.0558 - accuracy: 0.9752 - val_loss: 0.0727 - val_accuracy: 0.9672\n",
      "Epoch 69/100\n",
      "100000/100000 - 1s - loss: 0.0554 - accuracy: 0.9755 - val_loss: 0.0726 - val_accuracy: 0.9674\n",
      "Epoch 70/100\n",
      "100000/100000 - 1s - loss: 0.0550 - accuracy: 0.9756 - val_loss: 0.0756 - val_accuracy: 0.9663\n",
      "Epoch 71/100\n",
      "100000/100000 - 1s - loss: 0.0541 - accuracy: 0.9761 - val_loss: 0.0719 - val_accuracy: 0.9678\n",
      "Epoch 72/100\n",
      "100000/100000 - 1s - loss: 0.0533 - accuracy: 0.9763 - val_loss: 0.0721 - val_accuracy: 0.9678\n",
      "Epoch 73/100\n",
      "100000/100000 - 1s - loss: 0.0524 - accuracy: 0.9768 - val_loss: 0.0708 - val_accuracy: 0.9689\n",
      "Epoch 74/100\n",
      "100000/100000 - 1s - loss: 0.0521 - accuracy: 0.9769 - val_loss: 0.0711 - val_accuracy: 0.9678\n",
      "Epoch 75/100\n",
      "100000/100000 - 1s - loss: 0.0516 - accuracy: 0.9772 - val_loss: 0.0691 - val_accuracy: 0.9691\n",
      "Epoch 76/100\n",
      "100000/100000 - 1s - loss: 0.0508 - accuracy: 0.9775 - val_loss: 0.0682 - val_accuracy: 0.9694\n"
     ]
    },
    {
     "name": "stdout",
     "output_type": "stream",
     "text": [
      "Epoch 77/100\n",
      "100000/100000 - 1s - loss: 0.0503 - accuracy: 0.9777 - val_loss: 0.0698 - val_accuracy: 0.9689\n",
      "Epoch 78/100\n",
      "100000/100000 - 1s - loss: 0.0495 - accuracy: 0.9779 - val_loss: 0.0686 - val_accuracy: 0.9696\n",
      "Epoch 79/100\n",
      "100000/100000 - 1s - loss: 0.0491 - accuracy: 0.9783 - val_loss: 0.0692 - val_accuracy: 0.9690\n",
      "Epoch 80/100\n",
      "100000/100000 - 1s - loss: 0.0482 - accuracy: 0.9788 - val_loss: 0.0679 - val_accuracy: 0.9694\n",
      "Epoch 81/100\n",
      "100000/100000 - 1s - loss: 0.0480 - accuracy: 0.9787 - val_loss: 0.0668 - val_accuracy: 0.9698\n",
      "Epoch 82/100\n",
      "100000/100000 - 1s - loss: 0.0472 - accuracy: 0.9790 - val_loss: 0.0689 - val_accuracy: 0.9690\n",
      "Epoch 83/100\n",
      "100000/100000 - 1s - loss: 0.0469 - accuracy: 0.9793 - val_loss: 0.0659 - val_accuracy: 0.9706\n",
      "Epoch 84/100\n",
      "100000/100000 - 1s - loss: 0.0462 - accuracy: 0.9795 - val_loss: 0.0662 - val_accuracy: 0.9702\n",
      "Epoch 85/100\n",
      "100000/100000 - 1s - loss: 0.0457 - accuracy: 0.9797 - val_loss: 0.0660 - val_accuracy: 0.9704\n",
      "Epoch 86/100\n",
      "100000/100000 - 1s - loss: 0.0451 - accuracy: 0.9800 - val_loss: 0.0656 - val_accuracy: 0.9704\n",
      "Epoch 87/100\n",
      "100000/100000 - 1s - loss: 0.0450 - accuracy: 0.9801 - val_loss: 0.0644 - val_accuracy: 0.9715\n",
      "Epoch 88/100\n",
      "100000/100000 - 1s - loss: 0.0444 - accuracy: 0.9804 - val_loss: 0.0648 - val_accuracy: 0.9714\n",
      "Epoch 89/100\n",
      "100000/100000 - 1s - loss: 0.0436 - accuracy: 0.9807 - val_loss: 0.0648 - val_accuracy: 0.9715\n",
      "Epoch 90/100\n",
      "100000/100000 - 1s - loss: 0.0436 - accuracy: 0.9807 - val_loss: 0.0631 - val_accuracy: 0.9715\n",
      "Epoch 91/100\n",
      "100000/100000 - 1s - loss: 0.0430 - accuracy: 0.9808 - val_loss: 0.0637 - val_accuracy: 0.9716\n",
      "Epoch 92/100\n",
      "100000/100000 - 1s - loss: 0.0427 - accuracy: 0.9809 - val_loss: 0.0641 - val_accuracy: 0.9714\n",
      "Epoch 93/100\n",
      "100000/100000 - 1s - loss: 0.0420 - accuracy: 0.9813 - val_loss: 0.0637 - val_accuracy: 0.9718\n",
      "Epoch 94/100\n",
      "100000/100000 - 1s - loss: 0.0418 - accuracy: 0.9814 - val_loss: 0.0626 - val_accuracy: 0.9723\n",
      "Epoch 95/100\n",
      "100000/100000 - 1s - loss: 0.0414 - accuracy: 0.9816 - val_loss: 0.0648 - val_accuracy: 0.9708\n",
      "Epoch 96/100\n",
      "100000/100000 - 1s - loss: 0.0409 - accuracy: 0.9819 - val_loss: 0.0620 - val_accuracy: 0.9728\n",
      "Epoch 97/100\n",
      "100000/100000 - 1s - loss: 0.0407 - accuracy: 0.9819 - val_loss: 0.0621 - val_accuracy: 0.9722\n",
      "Epoch 98/100\n",
      "100000/100000 - 1s - loss: 0.0402 - accuracy: 0.9822 - val_loss: 0.0627 - val_accuracy: 0.9717\n",
      "Epoch 99/100\n",
      "100000/100000 - 1s - loss: 0.0398 - accuracy: 0.9822 - val_loss: 0.0619 - val_accuracy: 0.9726\n",
      "Epoch 100/100\n",
      "100000/100000 - 1s - loss: 0.0395 - accuracy: 0.9822 - val_loss: 0.0623 - val_accuracy: 0.9729\n"
     ]
    }
   ],
   "source": [
    "model = tf.keras.models.Sequential([\n",
    "    tf.keras.layers.Dense(150,input_shape = [24], activation = 'relu'),\n",
    "    tf.keras.layers.Dense(150, activation = 'relu'),\n",
    "    tf.keras.layers.Dense(150, activation = 'relu'),\n",
    "    tf.keras.layers.Dense(12, activation = 'sigmoid')\n",
    "])\n",
    "\n",
    "model.compile(optimizer = 'adam', loss = 'binary_crossentropy', metrics = ['accuracy'])\n",
    "\n",
    "history = model.fit(x_train, y_train, batch_size = 1024, epochs = 100, verbose = 2,validation_data = (x_test, y_test))\n"
   ]
  },
  {
   "cell_type": "code",
   "execution_count": 6,
   "metadata": {},
   "outputs": [
    {
     "data": {
      "text/plain": [
       "<matplotlib.legend.Legend at 0x2d7cf3ada48>"
      ]
     },
     "execution_count": 6,
     "metadata": {},
     "output_type": "execute_result"
    },
    {
     "data": {
      "image/png": "[encoded data removed]",
      "text/plain": [
       "<Figure size 432x288 with 1 Axes>"
      ]
     },
     "metadata": {
      "needs_background": "light"
     },
     "output_type": "display_data"
    }
   ],
   "source": [
    "import matplotlib.pyplot as plt\n",
    "plt.figure()\n",
    "acc = history.history['accuracy']\n",
    "loss = history.history['loss']\n",
    "val_acc = history.history['val_accuracy']\n",
    "val_loss = history.history['val_loss']\n",
    "\n",
    "epochs = range(len(acc))\n",
    "plt.plot(epochs, acc, 'r', label = 'Training accuracy')\n",
    "plt.plot(epochs, val_acc, 'b', label = 'Validating accuracy')\n",
    "plt.title('Training and Validating Accuracy')\n",
    "plt.legend()"
   ]
  },
  {
   "cell_type": "code",
   "execution_count": 7,
   "metadata": {},
   "outputs": [],
   "source": [
    "model.save('C:\\\\Users\\\\Wilfred\\\\Desktop\\\\weights\\\\Min_Max\\\\Min_Max_4_6_9_3_model.h5')"
   ]
  },
  {
   "cell_type": "code",
   "execution_count": null,
   "metadata": {},
   "outputs": [],
   "source": []
  }
 ],
 "metadata": {
  "kernelspec": {
   "display_name": "Python 3",
   "language": "python",
   "name": "python3"
  },
  "language_info": {
   "codemirror_mode": {
    "name": "ipython",
    "version": 3
   },
   "file_extension": ".py",
   "mimetype": "text/x-python",
   "name": "python",
   "nbconvert_exporter": "python",
   "pygments_lexer": "ipython3",
   "version": "3.7.5"
  }
 },
 "nbformat": 4,
 "nbformat_minor": 2
}
