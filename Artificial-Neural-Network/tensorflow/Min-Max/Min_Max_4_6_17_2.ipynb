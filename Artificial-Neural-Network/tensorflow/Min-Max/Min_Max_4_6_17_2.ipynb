{
 "cells": [
  {
   "cell_type": "code",
   "execution_count": 1,
   "metadata": {},
   "outputs": [],
   "source": [
    "import tensorflow as tf\n",
    "import numpy as np\n",
    "import pickle"
   ]
  },
  {
   "cell_type": "code",
   "execution_count": 2,
   "metadata": {},
   "outputs": [
    {
     "name": "stdout",
     "output_type": "stream",
     "text": [
      "(105000, 24)\n"
     ]
    }
   ],
   "source": [
    "with open ('C:\\\\Users\\\\Wilfred\\\\Desktop\\\\Min-Max\\\\input_layer_4_6_17_2.pickle','rb') as file:\n",
    "    input_data = pickle.load(file)\n",
    "print(input_data.shape)\n",
    "permutation = list(np.random.permutation(input_data.shape[0]))\n",
    "input_data = input_data[permutation, :]\n",
    "x_train = input_data[:100000,:]\n",
    "x_valid = input_data[100000:102500, :]\n",
    "x_test = input_data[102500:,:]\n",
    "\n"
   ]
  },
  {
   "cell_type": "code",
   "execution_count": 3,
   "metadata": {},
   "outputs": [
    {
     "name": "stdout",
     "output_type": "stream",
     "text": [
      "(105000, 12)\n"
     ]
    }
   ],
   "source": [
    "with open ('C:\\\\Users\\\\Wilfred\\\\Desktop\\\\Min-Max\\\\output_layer_4_6_17_2.pickle','rb') as file:\n",
    "    output_data = pickle.load(file)\n",
    "    \n",
    "output_data = np.transpose(output_data)\n",
    "output_data = output_data[permutation, :]\n",
    "y_train = output_data[:100000,:]\n",
    "y_valid = output_data[100000:102500, :]\n",
    "y_test = output_data[102500:,:]\n",
    "print(output_data.shape)"
   ]
  },
  {
   "cell_type": "code",
   "execution_count": 4,
   "metadata": {},
   "outputs": [
    {
     "name": "stdout",
     "output_type": "stream",
     "text": [
      "Train on 100000 samples, validate on 2500 samples\n",
      "Epoch 1/50\n",
      "100000/100000 - 4s - loss: 0.4146 - accuracy: 0.8354 - val_loss: 0.2947 - val_accuracy: 0.8641\n",
      "Epoch 2/50\n",
      "100000/100000 - 4s - loss: 0.2521 - accuracy: 0.8829 - val_loss: 0.2177 - val_accuracy: 0.8960\n",
      "Epoch 3/50\n",
      "100000/100000 - 3s - loss: 0.1926 - accuracy: 0.9085 - val_loss: 0.1758 - val_accuracy: 0.9148\n",
      "Epoch 4/50\n",
      "100000/100000 - 3s - loss: 0.1633 - accuracy: 0.9210 - val_loss: 0.1603 - val_accuracy: 0.9199\n",
      "Epoch 5/50\n",
      "100000/100000 - 3s - loss: 0.1497 - accuracy: 0.9272 - val_loss: 0.1459 - val_accuracy: 0.9275\n",
      "Epoch 6/50\n",
      "100000/100000 - 3s - loss: 0.1417 - accuracy: 0.9314 - val_loss: 0.1404 - val_accuracy: 0.9316\n",
      "Epoch 7/50\n",
      "100000/100000 - 3s - loss: 0.1365 - accuracy: 0.9342 - val_loss: 0.1343 - val_accuracy: 0.9342\n",
      "Epoch 8/50\n",
      "100000/100000 - 3s - loss: 0.1318 - accuracy: 0.9369 - val_loss: 0.1312 - val_accuracy: 0.9370\n",
      "Epoch 9/50\n",
      "100000/100000 - 3s - loss: 0.1283 - accuracy: 0.9392 - val_loss: 0.1264 - val_accuracy: 0.9394\n",
      "Epoch 10/50\n",
      "100000/100000 - 3s - loss: 0.1224 - accuracy: 0.9424 - val_loss: 0.1259 - val_accuracy: 0.9396\n",
      "Epoch 11/50\n",
      "100000/100000 - 3s - loss: 0.1183 - accuracy: 0.9446 - val_loss: 0.1205 - val_accuracy: 0.9428\n",
      "Epoch 12/50\n",
      "100000/100000 - 3s - loss: 0.1139 - accuracy: 0.9468 - val_loss: 0.1162 - val_accuracy: 0.9454\n",
      "Epoch 13/50\n",
      "100000/100000 - 3s - loss: 0.1083 - accuracy: 0.9494 - val_loss: 0.1115 - val_accuracy: 0.9486\n",
      "Epoch 14/50\n",
      "100000/100000 - 3s - loss: 0.1032 - accuracy: 0.9516 - val_loss: 0.1094 - val_accuracy: 0.9487\n",
      "Epoch 15/50\n",
      "100000/100000 - 3s - loss: 0.0976 - accuracy: 0.9541 - val_loss: 0.1005 - val_accuracy: 0.9528\n",
      "Epoch 16/50\n",
      "100000/100000 - 3s - loss: 0.0923 - accuracy: 0.9566 - val_loss: 0.0936 - val_accuracy: 0.9561\n",
      "Epoch 17/50\n",
      "100000/100000 - 3s - loss: 0.0860 - accuracy: 0.9594 - val_loss: 0.0917 - val_accuracy: 0.9562\n",
      "Epoch 18/50\n",
      "100000/100000 - 3s - loss: 0.0835 - accuracy: 0.9608 - val_loss: 0.0883 - val_accuracy: 0.9587\n",
      "Epoch 19/50\n",
      "100000/100000 - 3s - loss: 0.0770 - accuracy: 0.9635 - val_loss: 0.0885 - val_accuracy: 0.9584\n",
      "Epoch 20/50\n",
      "100000/100000 - 3s - loss: 0.0741 - accuracy: 0.9650 - val_loss: 0.0867 - val_accuracy: 0.9593\n",
      "Epoch 21/50\n",
      "100000/100000 - 3s - loss: 0.0723 - accuracy: 0.9659 - val_loss: 0.0813 - val_accuracy: 0.9616\n",
      "Epoch 22/50\n",
      "100000/100000 - 3s - loss: 0.0680 - accuracy: 0.9679 - val_loss: 0.0815 - val_accuracy: 0.9614\n",
      "Epoch 23/50\n",
      "100000/100000 - 3s - loss: 0.0657 - accuracy: 0.9690 - val_loss: 0.0781 - val_accuracy: 0.9634\n",
      "Epoch 24/50\n",
      "100000/100000 - 3s - loss: 0.0646 - accuracy: 0.9695 - val_loss: 0.0724 - val_accuracy: 0.9660\n",
      "Epoch 25/50\n",
      "100000/100000 - 3s - loss: 0.0609 - accuracy: 0.9714 - val_loss: 0.0703 - val_accuracy: 0.9668\n",
      "Epoch 26/50\n",
      "100000/100000 - 3s - loss: 0.0594 - accuracy: 0.9723 - val_loss: 0.0697 - val_accuracy: 0.9678\n",
      "Epoch 27/50\n",
      "100000/100000 - 3s - loss: 0.0581 - accuracy: 0.9730 - val_loss: 0.0712 - val_accuracy: 0.9671\n",
      "Epoch 28/50\n",
      "100000/100000 - 3s - loss: 0.0543 - accuracy: 0.9746 - val_loss: 0.0683 - val_accuracy: 0.9684\n",
      "Epoch 29/50\n",
      "100000/100000 - 3s - loss: 0.0530 - accuracy: 0.9754 - val_loss: 0.0657 - val_accuracy: 0.9697\n",
      "Epoch 30/50\n",
      "100000/100000 - 3s - loss: 0.0529 - accuracy: 0.9756 - val_loss: 0.0626 - val_accuracy: 0.9704\n",
      "Epoch 31/50\n",
      "100000/100000 - 3s - loss: 0.0500 - accuracy: 0.9772 - val_loss: 0.0642 - val_accuracy: 0.9706\n",
      "Epoch 32/50\n",
      "100000/100000 - 3s - loss: 0.0496 - accuracy: 0.9774 - val_loss: 0.0664 - val_accuracy: 0.9694\n",
      "Epoch 33/50\n",
      "100000/100000 - 3s - loss: 0.0489 - accuracy: 0.9778 - val_loss: 0.0599 - val_accuracy: 0.9721\n",
      "Epoch 34/50\n",
      "100000/100000 - 3s - loss: 0.0467 - accuracy: 0.9787 - val_loss: 0.0587 - val_accuracy: 0.9729\n",
      "Epoch 35/50\n",
      "100000/100000 - 3s - loss: 0.0462 - accuracy: 0.9792 - val_loss: 0.0605 - val_accuracy: 0.9725\n",
      "Epoch 36/50\n",
      "100000/100000 - 3s - loss: 0.0445 - accuracy: 0.9800 - val_loss: 0.0563 - val_accuracy: 0.9747\n",
      "Epoch 37/50\n",
      "100000/100000 - 3s - loss: 0.0434 - accuracy: 0.9807 - val_loss: 0.0557 - val_accuracy: 0.9748\n",
      "Epoch 38/50\n",
      "100000/100000 - 3s - loss: 0.0422 - accuracy: 0.9813 - val_loss: 0.0557 - val_accuracy: 0.9754\n",
      "Epoch 39/50\n",
      "100000/100000 - 3s - loss: 0.0421 - accuracy: 0.9813 - val_loss: 0.0548 - val_accuracy: 0.9755\n",
      "Epoch 40/50\n",
      "100000/100000 - 3s - loss: 0.0409 - accuracy: 0.9818 - val_loss: 0.0547 - val_accuracy: 0.9756\n",
      "Epoch 41/50\n",
      "100000/100000 - 3s - loss: 0.0404 - accuracy: 0.9821 - val_loss: 0.0516 - val_accuracy: 0.9766\n",
      "Epoch 42/50\n",
      "100000/100000 - 3s - loss: 0.0406 - accuracy: 0.9821 - val_loss: 0.0583 - val_accuracy: 0.9753\n",
      "Epoch 43/50\n",
      "100000/100000 - 3s - loss: 0.0399 - accuracy: 0.9823 - val_loss: 0.0508 - val_accuracy: 0.9775\n",
      "Epoch 44/50\n",
      "100000/100000 - 3s - loss: 0.0380 - accuracy: 0.9834 - val_loss: 0.0499 - val_accuracy: 0.9776\n",
      "Epoch 45/50\n",
      "100000/100000 - 3s - loss: 0.0394 - accuracy: 0.9827 - val_loss: 0.0494 - val_accuracy: 0.9784\n",
      "Epoch 46/50\n",
      "100000/100000 - 3s - loss: 0.0366 - accuracy: 0.9840 - val_loss: 0.0512 - val_accuracy: 0.9783\n",
      "Epoch 47/50\n",
      "100000/100000 - 3s - loss: 0.0342 - accuracy: 0.9852 - val_loss: 0.0510 - val_accuracy: 0.9777\n",
      "Epoch 48/50\n",
      "100000/100000 - 3s - loss: 0.0354 - accuracy: 0.9848 - val_loss: 0.0539 - val_accuracy: 0.9782\n",
      "Epoch 49/50\n",
      "100000/100000 - 3s - loss: 0.0355 - accuracy: 0.9846 - val_loss: 0.0486 - val_accuracy: 0.9798\n",
      "Epoch 50/50\n",
      "100000/100000 - 3s - loss: 0.0336 - accuracy: 0.9856 - val_loss: 0.0507 - val_accuracy: 0.9782\n"
     ]
    }
   ],
   "source": [
    "model = tf.keras.models.Sequential([\n",
    "    tf.keras.layers.Dense(300,input_shape = [24], activation = 'relu'),\n",
    "    tf.keras.layers.Dense(300, activation = 'relu'),\n",
    "    tf.keras.layers.Dense(300, activation = 'relu'),\n",
    "    tf.keras.layers.Dense(12, activation = 'sigmoid')\n",
    "])\n",
    "adam = tf.keras.optimizers.Adam(lr = 0.005)\n",
    "model.compile(optimizer = adam, loss = 'binary_crossentropy', metrics = ['accuracy'])\n",
    "\n",
    "history = model.fit(x_train, y_train, batch_size = 1024, epochs = 50, verbose = 2,validation_data = (x_valid, y_valid))\n"
   ]
  },
  {
   "cell_type": "code",
   "execution_count": 6,
   "metadata": {},
   "outputs": [
    {
     "data": {
      "image/png": "[encoded data removed]",
      "text/plain": [
       "<Figure size 432x288 with 1 Axes>"
      ]
     },
     "metadata": {
      "needs_background": "light"
     },
     "output_type": "display_data"
    }
   ],
   "source": [
    "import matplotlib.pyplot as plt\n",
    "plt.figure()\n",
    "acc = history.history['accuracy']\n",
    "loss = history.history['loss']\n",
    "val_acc = history.history['val_accuracy']\n",
    "val_loss = history.history['val_loss']\n",
    "\n",
    "epochs = range(len(acc))\n",
    "plt.plot(epochs, acc, 'r', label = 'Training accuracy')\n",
    "plt.plot(epochs, val_acc, 'b', label = 'Validating accuracy')\n",
    "plt.title('Training and Validating Accuracy')\n",
    "plt.legend()\n",
    "plt.show()"
   ]
  },
  {
   "cell_type": "code",
   "execution_count": 8,
   "metadata": {},
   "outputs": [],
   "source": [
    "predict = model.predict(x_test)"
   ]
  },
  {
   "cell_type": "code",
   "execution_count": 9,
   "metadata": {},
   "outputs": [
    {
     "name": "stdout",
     "output_type": "stream",
     "text": [
      "(2500, 12)\n"
     ]
    }
   ],
   "source": [
    "print(predict.shape)"
   ]
  },
  {
   "cell_type": "code",
   "execution_count": 7,
   "metadata": {},
   "outputs": [
    {
     "name": "stdout",
     "output_type": "stream",
     "text": [
      "2500/1 - 0s - loss: 0.0226 - accuracy: 0.9810\n"
     ]
    },
    {
     "data": {
      "text/plain": [
       "[0.044514328140765426, 0.9809665]"
      ]
     },
     "execution_count": 7,
     "metadata": {},
     "output_type": "execute_result"
    }
   ],
   "source": [
    "model.evaluate(x_test, y_test, verbose = 2)"
   ]
  },
  {
   "cell_type": "code",
   "execution_count": 8,
   "metadata": {},
   "outputs": [],
   "source": [
    "model.save('C:\\\\Users\\\\Wilfred\\\\Desktop\\\\weights\\\\Min_Max\\\\Min_Max_4_6_17_2_model.h5')"
   ]
  },
  {
   "cell_type": "code",
   "execution_count": null,
   "metadata": {},
   "outputs": [],
   "source": []
  }
 ],
 "metadata": {
  "kernelspec": {
   "display_name": "Python 3",
   "language": "python",
   "name": "python3"
  },
  "language_info": {
   "codemirror_mode": {
    "name": "ipython",
    "version": 3
   },
   "file_extension": ".py",
   "mimetype": "text/x-python",
   "name": "python",
   "nbconvert_exporter": "python",
   "pygments_lexer": "ipython3",
   "version": "3.7.5"
  }
 },
 "nbformat": 4,
 "nbformat_minor": 2
}
