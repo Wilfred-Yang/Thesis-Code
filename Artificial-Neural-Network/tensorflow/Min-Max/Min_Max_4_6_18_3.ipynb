{
 "cells": [
  {
   "cell_type": "code",
   "execution_count": 2,
   "metadata": {},
   "outputs": [],
   "source": [
    "import tensorflow as tf\n",
    "import numpy as np\n",
    "import pickle"
   ]
  },
  {
   "cell_type": "code",
   "execution_count": 3,
   "metadata": {},
   "outputs": [
    {
     "name": "stdout",
     "output_type": "stream",
     "text": [
      "(105000, 24)\n"
     ]
    }
   ],
   "source": [
    "with open ('C:\\\\Users\\\\Wilfred\\\\Desktop\\\\Min-Max\\\\input_layer_4_6_18_3.pickle','rb') as file:\n",
    "    input_data = pickle.load(file)\n",
    "print(input_data.shape)\n",
    "permutation = list(np.random.permutation(input_data.shape[0]))\n",
    "input_data = input_data[permutation, :]\n",
    "x_train = input_data[:100000,:]\n",
    "x_valid = input_data[100000:102500, :]\n",
    "x_test = input_data[102500:,:]\n",
    "\n"
   ]
  },
  {
   "cell_type": "code",
   "execution_count": 4,
   "metadata": {},
   "outputs": [
    {
     "name": "stdout",
     "output_type": "stream",
     "text": [
      "(105000, 12)\n"
     ]
    }
   ],
   "source": [
    "with open ('C:\\\\Users\\\\Wilfred\\\\Desktop\\\\Min-Max\\\\output_layer_4_6_18_3.pickle','rb') as file:\n",
    "    output_data = pickle.load(file)\n",
    "    \n",
    "output_data = np.transpose(output_data)\n",
    "output_data = output_data[permutation, :]\n",
    "y_train = output_data[:100000,:]\n",
    "y_valid = output_data[100000:102500, :]\n",
    "y_test = output_data[102500:,:]\n",
    "print(output_data.shape)"
   ]
  },
  {
   "cell_type": "code",
   "execution_count": 5,
   "metadata": {},
   "outputs": [
    {
     "name": "stdout",
     "output_type": "stream",
     "text": [
      "Train on 100000 samples, validate on 2500 samples\n",
      "Epoch 1/100\n",
      "100000/100000 - 3s - loss: 0.3221 - accuracy: 0.8561 - val_loss: 0.2345 - val_accuracy: 0.8882\n",
      "Epoch 2/100\n",
      "100000/100000 - 2s - loss: 0.2014 - accuracy: 0.9018 - val_loss: 0.1832 - val_accuracy: 0.9081\n",
      "Epoch 3/100\n",
      "100000/100000 - 2s - loss: 0.1681 - accuracy: 0.9160 - val_loss: 0.1596 - val_accuracy: 0.9196\n",
      "Epoch 4/100\n",
      "100000/100000 - 2s - loss: 0.1551 - accuracy: 0.9224 - val_loss: 0.1526 - val_accuracy: 0.9226\n",
      "Epoch 5/100\n",
      "100000/100000 - 2s - loss: 0.1453 - accuracy: 0.9278 - val_loss: 0.1483 - val_accuracy: 0.9251\n",
      "Epoch 6/100\n",
      "100000/100000 - 2s - loss: 0.1398 - accuracy: 0.9311 - val_loss: 0.1375 - val_accuracy: 0.9309\n",
      "Epoch 7/100\n",
      "100000/100000 - 2s - loss: 0.1351 - accuracy: 0.9337 - val_loss: 0.1365 - val_accuracy: 0.9320\n",
      "Epoch 8/100\n",
      "100000/100000 - 2s - loss: 0.1301 - accuracy: 0.9369 - val_loss: 0.1373 - val_accuracy: 0.9316\n",
      "Epoch 9/100\n",
      "100000/100000 - 2s - loss: 0.1273 - accuracy: 0.9386 - val_loss: 0.1271 - val_accuracy: 0.9373\n",
      "Epoch 10/100\n",
      "100000/100000 - 2s - loss: 0.1229 - accuracy: 0.9411 - val_loss: 0.1248 - val_accuracy: 0.9387\n",
      "Epoch 11/100\n",
      "100000/100000 - 2s - loss: 0.1198 - accuracy: 0.9428 - val_loss: 0.1283 - val_accuracy: 0.9371\n",
      "Epoch 12/100\n",
      "100000/100000 - 2s - loss: 0.1163 - accuracy: 0.9447 - val_loss: 0.1175 - val_accuracy: 0.9427\n",
      "Epoch 13/100\n",
      "100000/100000 - 2s - loss: 0.1112 - accuracy: 0.9473 - val_loss: 0.1158 - val_accuracy: 0.9438\n",
      "Epoch 14/100\n",
      "100000/100000 - 2s - loss: 0.1050 - accuracy: 0.9506 - val_loss: 0.1065 - val_accuracy: 0.9497\n",
      "Epoch 15/100\n",
      "100000/100000 - 2s - loss: 0.0988 - accuracy: 0.9533 - val_loss: 0.1017 - val_accuracy: 0.9516\n",
      "Epoch 16/100\n",
      "100000/100000 - 2s - loss: 0.0916 - accuracy: 0.9566 - val_loss: 0.0910 - val_accuracy: 0.9570\n",
      "Epoch 17/100\n",
      "100000/100000 - 2s - loss: 0.0860 - accuracy: 0.9594 - val_loss: 0.0885 - val_accuracy: 0.9580\n",
      "Epoch 18/100\n",
      "100000/100000 - 2s - loss: 0.0782 - accuracy: 0.9634 - val_loss: 0.0830 - val_accuracy: 0.9617\n",
      "Epoch 19/100\n",
      "100000/100000 - 2s - loss: 0.0727 - accuracy: 0.9659 - val_loss: 0.0813 - val_accuracy: 0.9620\n",
      "Epoch 20/100\n",
      "100000/100000 - 2s - loss: 0.0691 - accuracy: 0.9679 - val_loss: 0.0728 - val_accuracy: 0.9655\n",
      "Epoch 21/100\n",
      "100000/100000 - 2s - loss: 0.0636 - accuracy: 0.9706 - val_loss: 0.0711 - val_accuracy: 0.9682\n",
      "Epoch 22/100\n",
      "100000/100000 - 2s - loss: 0.0608 - accuracy: 0.9722 - val_loss: 0.0739 - val_accuracy: 0.9667\n",
      "Epoch 23/100\n",
      "100000/100000 - 2s - loss: 0.0575 - accuracy: 0.9736 - val_loss: 0.0669 - val_accuracy: 0.9709\n",
      "Epoch 24/100\n",
      "100000/100000 - 2s - loss: 0.0550 - accuracy: 0.9751 - val_loss: 0.0617 - val_accuracy: 0.9725\n",
      "Epoch 25/100\n",
      "100000/100000 - 2s - loss: 0.0504 - accuracy: 0.9772 - val_loss: 0.0623 - val_accuracy: 0.9727\n",
      "Epoch 26/100\n",
      "100000/100000 - 2s - loss: 0.0499 - accuracy: 0.9776 - val_loss: 0.0663 - val_accuracy: 0.9702\n",
      "Epoch 27/100\n",
      "100000/100000 - 2s - loss: 0.0472 - accuracy: 0.9788 - val_loss: 0.0566 - val_accuracy: 0.9755\n",
      "Epoch 28/100\n",
      "100000/100000 - 2s - loss: 0.0445 - accuracy: 0.9803 - val_loss: 0.0559 - val_accuracy: 0.9758\n",
      "Epoch 29/100\n",
      "100000/100000 - 2s - loss: 0.0434 - accuracy: 0.9808 - val_loss: 0.0571 - val_accuracy: 0.9746\n",
      "Epoch 30/100\n",
      "100000/100000 - 2s - loss: 0.0419 - accuracy: 0.9815 - val_loss: 0.0622 - val_accuracy: 0.9731\n",
      "Epoch 31/100\n",
      "100000/100000 - 2s - loss: 0.0399 - accuracy: 0.9825 - val_loss: 0.0564 - val_accuracy: 0.9763\n",
      "Epoch 32/100\n",
      "100000/100000 - 2s - loss: 0.0387 - accuracy: 0.9832 - val_loss: 0.0522 - val_accuracy: 0.9778\n",
      "Epoch 33/100\n",
      "100000/100000 - 2s - loss: 0.0385 - accuracy: 0.9832 - val_loss: 0.0511 - val_accuracy: 0.9774\n",
      "Epoch 34/100\n",
      "100000/100000 - 2s - loss: 0.0362 - accuracy: 0.9842 - val_loss: 0.0460 - val_accuracy: 0.9797\n",
      "Epoch 35/100\n",
      "100000/100000 - 2s - loss: 0.0365 - accuracy: 0.9841 - val_loss: 0.0498 - val_accuracy: 0.9788\n",
      "Epoch 36/100\n",
      "100000/100000 - 2s - loss: 0.0349 - accuracy: 0.9850 - val_loss: 0.0511 - val_accuracy: 0.9779\n",
      "Epoch 37/100\n",
      "100000/100000 - 2s - loss: 0.0335 - accuracy: 0.9855 - val_loss: 0.0491 - val_accuracy: 0.9801\n",
      "Epoch 38/100\n",
      "100000/100000 - 2s - loss: 0.0326 - accuracy: 0.9860 - val_loss: 0.0496 - val_accuracy: 0.9794\n",
      "Epoch 39/100\n",
      "100000/100000 - 2s - loss: 0.0306 - accuracy: 0.9870 - val_loss: 0.0463 - val_accuracy: 0.9808\n",
      "Epoch 40/100\n",
      "100000/100000 - 2s - loss: 0.0316 - accuracy: 0.9865 - val_loss: 0.0482 - val_accuracy: 0.9799\n",
      "Epoch 41/100\n",
      "100000/100000 - 2s - loss: 0.0307 - accuracy: 0.9870 - val_loss: 0.0476 - val_accuracy: 0.9796\n",
      "Epoch 42/100\n",
      "100000/100000 - 2s - loss: 0.0308 - accuracy: 0.9870 - val_loss: 0.0472 - val_accuracy: 0.9802\n",
      "Epoch 43/100\n",
      "100000/100000 - 2s - loss: 0.0274 - accuracy: 0.9884 - val_loss: 0.0436 - val_accuracy: 0.9824\n",
      "Epoch 44/100\n",
      "100000/100000 - 2s - loss: 0.0281 - accuracy: 0.9881 - val_loss: 0.0452 - val_accuracy: 0.9822\n",
      "Epoch 45/100\n",
      "100000/100000 - 2s - loss: 0.0266 - accuracy: 0.9888 - val_loss: 0.0414 - val_accuracy: 0.9834\n",
      "Epoch 46/100\n",
      "100000/100000 - 2s - loss: 0.0268 - accuracy: 0.9887 - val_loss: 0.0489 - val_accuracy: 0.9808\n",
      "Epoch 47/100\n",
      "100000/100000 - 2s - loss: 0.0261 - accuracy: 0.9890 - val_loss: 0.0423 - val_accuracy: 0.9826\n",
      "Epoch 48/100\n",
      "100000/100000 - 2s - loss: 0.0264 - accuracy: 0.9889 - val_loss: 0.0503 - val_accuracy: 0.9805\n",
      "Epoch 49/100\n",
      "100000/100000 - 2s - loss: 0.0283 - accuracy: 0.9882 - val_loss: 0.0409 - val_accuracy: 0.9824\n",
      "Epoch 50/100\n",
      "100000/100000 - 2s - loss: 0.0238 - accuracy: 0.9901 - val_loss: 0.0434 - val_accuracy: 0.9834\n",
      "Epoch 51/100\n",
      "100000/100000 - 2s - loss: 0.0239 - accuracy: 0.9901 - val_loss: 0.0395 - val_accuracy: 0.9832\n",
      "Epoch 52/100\n",
      "100000/100000 - 2s - loss: 0.0244 - accuracy: 0.9899 - val_loss: 0.0384 - val_accuracy: 0.9850\n",
      "Epoch 53/100\n",
      "100000/100000 - 2s - loss: 0.0227 - accuracy: 0.9907 - val_loss: 0.0375 - val_accuracy: 0.9852\n",
      "Epoch 54/100\n",
      "100000/100000 - 2s - loss: 0.0230 - accuracy: 0.9906 - val_loss: 0.0423 - val_accuracy: 0.9836\n",
      "Epoch 55/100\n",
      "100000/100000 - 2s - loss: 0.0227 - accuracy: 0.9907 - val_loss: 0.0358 - val_accuracy: 0.9856\n",
      "Epoch 56/100\n",
      "100000/100000 - 2s - loss: 0.0220 - accuracy: 0.9911 - val_loss: 0.0350 - val_accuracy: 0.9857\n",
      "Epoch 57/100\n",
      "100000/100000 - 2s - loss: 0.0225 - accuracy: 0.9908 - val_loss: 0.0351 - val_accuracy: 0.9862\n",
      "Epoch 58/100\n",
      "100000/100000 - 2s - loss: 0.0214 - accuracy: 0.9913 - val_loss: 0.0427 - val_accuracy: 0.9842\n",
      "Epoch 59/100\n",
      "100000/100000 - 2s - loss: 0.0207 - accuracy: 0.9916 - val_loss: 0.0371 - val_accuracy: 0.9858\n",
      "Epoch 60/100\n",
      "100000/100000 - 2s - loss: 0.0218 - accuracy: 0.9911 - val_loss: 0.0341 - val_accuracy: 0.9873\n",
      "Epoch 61/100\n",
      "100000/100000 - 2s - loss: 0.0221 - accuracy: 0.9910 - val_loss: 0.0415 - val_accuracy: 0.9851\n",
      "Epoch 62/100\n",
      "100000/100000 - 2s - loss: 0.0221 - accuracy: 0.9911 - val_loss: 0.0432 - val_accuracy: 0.9832\n",
      "Epoch 63/100\n",
      "100000/100000 - 2s - loss: 0.0194 - accuracy: 0.9922 - val_loss: 0.0463 - val_accuracy: 0.9835\n",
      "Epoch 64/100\n",
      "100000/100000 - 2s - loss: 0.0195 - accuracy: 0.9922 - val_loss: 0.0436 - val_accuracy: 0.9846\n",
      "Epoch 65/100\n",
      "100000/100000 - 2s - loss: 0.0222 - accuracy: 0.9911 - val_loss: 0.0427 - val_accuracy: 0.9844\n",
      "Epoch 66/100\n",
      "100000/100000 - 2s - loss: 0.0192 - accuracy: 0.9923 - val_loss: 0.0338 - val_accuracy: 0.9866\n",
      "Epoch 67/100\n",
      "100000/100000 - 2s - loss: 0.0195 - accuracy: 0.9922 - val_loss: 0.0438 - val_accuracy: 0.9839\n",
      "Epoch 68/100\n",
      "100000/100000 - 2s - loss: 0.0211 - accuracy: 0.9915 - val_loss: 0.0341 - val_accuracy: 0.9876\n",
      "Epoch 69/100\n",
      "100000/100000 - 2s - loss: 0.0168 - accuracy: 0.9933 - val_loss: 0.0338 - val_accuracy: 0.9872\n",
      "Epoch 70/100\n",
      "100000/100000 - 2s - loss: 0.0190 - accuracy: 0.9925 - val_loss: 0.0361 - val_accuracy: 0.9874\n",
      "Epoch 71/100\n",
      "100000/100000 - 2s - loss: 0.0162 - accuracy: 0.9936 - val_loss: 0.0360 - val_accuracy: 0.9871\n",
      "Epoch 72/100\n",
      "100000/100000 - 2s - loss: 0.0160 - accuracy: 0.9935 - val_loss: 0.0372 - val_accuracy: 0.9869\n",
      "Epoch 73/100\n",
      "100000/100000 - 2s - loss: 0.0165 - accuracy: 0.9935 - val_loss: 0.0383 - val_accuracy: 0.9854\n",
      "Epoch 74/100\n",
      "100000/100000 - 2s - loss: 0.0193 - accuracy: 0.9924 - val_loss: 0.0362 - val_accuracy: 0.9879\n",
      "Epoch 75/100\n",
      "100000/100000 - 2s - loss: 0.0160 - accuracy: 0.9937 - val_loss: 0.0377 - val_accuracy: 0.9866\n",
      "Epoch 76/100\n",
      "100000/100000 - 2s - loss: 0.0158 - accuracy: 0.9937 - val_loss: 0.0388 - val_accuracy: 0.9871\n"
     ]
    },
    {
     "name": "stdout",
     "output_type": "stream",
     "text": [
      "Epoch 77/100\n",
      "100000/100000 - 2s - loss: 0.0162 - accuracy: 0.9936 - val_loss: 0.0326 - val_accuracy: 0.9886\n",
      "Epoch 78/100\n",
      "100000/100000 - 2s - loss: 0.0173 - accuracy: 0.9932 - val_loss: 0.0375 - val_accuracy: 0.9873\n",
      "Epoch 79/100\n",
      "100000/100000 - 2s - loss: 0.0166 - accuracy: 0.9934 - val_loss: 0.0373 - val_accuracy: 0.9873\n",
      "Epoch 80/100\n",
      "100000/100000 - 2s - loss: 0.0166 - accuracy: 0.9935 - val_loss: 0.0365 - val_accuracy: 0.9872\n",
      "Epoch 81/100\n",
      "100000/100000 - 2s - loss: 0.0160 - accuracy: 0.9938 - val_loss: 0.0431 - val_accuracy: 0.9864\n",
      "Epoch 82/100\n",
      "100000/100000 - 2s - loss: 0.0166 - accuracy: 0.9935 - val_loss: 0.0393 - val_accuracy: 0.9868\n",
      "Epoch 83/100\n",
      "100000/100000 - 2s - loss: 0.0146 - accuracy: 0.9942 - val_loss: 0.0340 - val_accuracy: 0.9885\n",
      "Epoch 84/100\n",
      "100000/100000 - 2s - loss: 0.0128 - accuracy: 0.9950 - val_loss: 0.0337 - val_accuracy: 0.9882\n",
      "Epoch 85/100\n",
      "100000/100000 - 2s - loss: 0.0167 - accuracy: 0.9936 - val_loss: 0.0419 - val_accuracy: 0.9866\n",
      "Epoch 86/100\n",
      "100000/100000 - 2s - loss: 0.0186 - accuracy: 0.9928 - val_loss: 0.0346 - val_accuracy: 0.9876\n",
      "Epoch 87/100\n",
      "100000/100000 - 2s - loss: 0.0138 - accuracy: 0.9946 - val_loss: 0.0325 - val_accuracy: 0.9890\n",
      "Epoch 88/100\n",
      "100000/100000 - 2s - loss: 0.0152 - accuracy: 0.9941 - val_loss: 0.0306 - val_accuracy: 0.9889\n",
      "Epoch 89/100\n",
      "100000/100000 - 2s - loss: 0.0147 - accuracy: 0.9943 - val_loss: 0.0382 - val_accuracy: 0.9881\n",
      "Epoch 90/100\n",
      "100000/100000 - 2s - loss: 0.0142 - accuracy: 0.9946 - val_loss: 0.0384 - val_accuracy: 0.9873\n",
      "Epoch 91/100\n",
      "100000/100000 - 2s - loss: 0.0121 - accuracy: 0.9954 - val_loss: 0.0360 - val_accuracy: 0.9887\n",
      "Epoch 92/100\n",
      "100000/100000 - 2s - loss: 0.0129 - accuracy: 0.9950 - val_loss: 0.0424 - val_accuracy: 0.9871\n",
      "Epoch 93/100\n",
      "100000/100000 - 2s - loss: 0.0150 - accuracy: 0.9943 - val_loss: 0.0396 - val_accuracy: 0.9876\n",
      "Epoch 94/100\n",
      "100000/100000 - 2s - loss: 0.0146 - accuracy: 0.9944 - val_loss: 0.0399 - val_accuracy: 0.9874\n",
      "Epoch 95/100\n",
      "100000/100000 - 2s - loss: 0.0162 - accuracy: 0.9939 - val_loss: 0.0450 - val_accuracy: 0.9857\n",
      "Epoch 96/100\n",
      "100000/100000 - 2s - loss: 0.0171 - accuracy: 0.9935 - val_loss: 0.0416 - val_accuracy: 0.9854\n",
      "Epoch 97/100\n",
      "100000/100000 - 2s - loss: 0.0147 - accuracy: 0.9943 - val_loss: 0.0381 - val_accuracy: 0.9873\n",
      "Epoch 98/100\n",
      "100000/100000 - 2s - loss: 0.0126 - accuracy: 0.9952 - val_loss: 0.0363 - val_accuracy: 0.9889\n",
      "Epoch 99/100\n",
      "100000/100000 - 2s - loss: 0.0147 - accuracy: 0.9944 - val_loss: 0.0329 - val_accuracy: 0.9884\n",
      "Epoch 100/100\n",
      "100000/100000 - 2s - loss: 0.0132 - accuracy: 0.9949 - val_loss: 0.0329 - val_accuracy: 0.9891\n"
     ]
    }
   ],
   "source": [
    "model = tf.keras.models.Sequential([\n",
    "    tf.keras.layers.Dense(150,input_shape = [24], activation = 'relu'),\n",
    "    tf.keras.layers.Dense(150, activation = 'relu'),\n",
    "    tf.keras.layers.Dense(150, activation = 'relu'),\n",
    "    tf.keras.layers.Dense(150, activation = 'relu'),\n",
    "    tf.keras.layers.Dense(12, activation = 'sigmoid')\n",
    "])\n",
    "adam = tf.keras.optimizers.Adam(lr = 0.0035)\n",
    "model.compile(optimizer = adam, loss = 'binary_crossentropy', metrics = ['accuracy'])\n",
    "\n",
    "history = model.fit(x_train, y_train, batch_size = 1024, epochs = 100, verbose = 2,validation_data = (x_valid, y_valid))\n"
   ]
  },
  {
   "cell_type": "code",
   "execution_count": 6,
   "metadata": {},
   "outputs": [
    {
     "data": {
      "image/png": "[encoded data removed]",
      "text/plain": [
       "<Figure size 432x288 with 1 Axes>"
      ]
     },
     "metadata": {
      "needs_background": "light"
     },
     "output_type": "display_data"
    }
   ],
   "source": [
    "import matplotlib.pyplot as plt\n",
    "plt.figure()\n",
    "acc = history.history['accuracy']\n",
    "loss = history.history['loss']\n",
    "val_acc = history.history['val_accuracy']\n",
    "val_loss = history.history['val_loss']\n",
    "\n",
    "epochs = range(len(acc))\n",
    "plt.plot(epochs, acc, 'r', label = 'Training accuracy')\n",
    "plt.plot(epochs, val_acc, 'b', label = 'Validating accuracy')\n",
    "plt.title('Training and Validating Accuracy')\n",
    "plt.legend()\n",
    "plt.show()"
   ]
  },
  {
   "cell_type": "code",
   "execution_count": 8,
   "metadata": {},
   "outputs": [],
   "source": [
    "predict = model.predict(x_test)"
   ]
  },
  {
   "cell_type": "code",
   "execution_count": 9,
   "metadata": {},
   "outputs": [
    {
     "name": "stdout",
     "output_type": "stream",
     "text": [
      "(2500, 12)\n"
     ]
    }
   ],
   "source": [
    "print(predict.shape)"
   ]
  },
  {
   "cell_type": "code",
   "execution_count": 6,
   "metadata": {},
   "outputs": [
    {
     "name": "stdout",
     "output_type": "stream",
     "text": [
      "2500/1 - 0s - loss: 0.0172 - accuracy: 0.9886\n"
     ]
    },
    {
     "data": {
      "text/plain": [
       "[0.03421903380032163, 0.9885667]"
      ]
     },
     "execution_count": 6,
     "metadata": {},
     "output_type": "execute_result"
    }
   ],
   "source": [
    "model.evaluate(x_test, y_test, verbose = 2)"
   ]
  },
  {
   "cell_type": "code",
   "execution_count": 7,
   "metadata": {},
   "outputs": [],
   "source": [
    "model.save('C:\\\\Users\\\\Wilfred\\\\Desktop\\\\weights\\\\Min_Max\\\\Min_Max_4_6_18_3_model.h5')"
   ]
  },
  {
   "cell_type": "code",
   "execution_count": null,
   "metadata": {},
   "outputs": [],
   "source": []
  }
 ],
 "metadata": {
  "kernelspec": {
   "display_name": "Python 3",
   "language": "python",
   "name": "python3"
  },
  "language_info": {
   "codemirror_mode": {
    "name": "ipython",
    "version": 3
   },
   "file_extension": ".py",
   "mimetype": "text/x-python",
   "name": "python",
   "nbconvert_exporter": "python",
   "pygments_lexer": "ipython3",
   "version": "3.7.5"
  }
 },
 "nbformat": 4,
 "nbformat_minor": 2
}
