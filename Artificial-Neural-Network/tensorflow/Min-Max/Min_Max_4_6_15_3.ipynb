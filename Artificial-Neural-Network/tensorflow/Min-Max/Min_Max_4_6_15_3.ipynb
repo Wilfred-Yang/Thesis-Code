{
 "cells": [
  {
   "cell_type": "code",
   "execution_count": 3,
   "metadata": {},
   "outputs": [],
   "source": [
    "import tensorflow as tf\n",
    "import numpy as np\n",
    "import pickle"
   ]
  },
  {
   "cell_type": "code",
   "execution_count": 4,
   "metadata": {},
   "outputs": [
    {
     "name": "stdout",
     "output_type": "stream",
     "text": [
      "(105000, 24)\n"
     ]
    }
   ],
   "source": [
    "with open ('C:\\\\Users\\\\Wilfred\\\\Desktop\\\\Min-Max\\\\input_layer_4_6_15_3.pickle','rb') as file:\n",
    "    input_data = pickle.load(file)\n",
    "print(input_data.shape)\n",
    "permutation = list(np.random.permutation(input_data.shape[0]))\n",
    "input_data = input_data[permutation, :]\n",
    "x_train = input_data[:100000,:]\n",
    "x_valid = input_data[100000:102500, :]\n",
    "x_test = input_data[102500:,:]\n",
    "\n"
   ]
  },
  {
   "cell_type": "code",
   "execution_count": 5,
   "metadata": {},
   "outputs": [
    {
     "name": "stdout",
     "output_type": "stream",
     "text": [
      "(105000, 12)\n"
     ]
    }
   ],
   "source": [
    "with open ('C:\\\\Users\\\\Wilfred\\\\Desktop\\\\Min-Max\\\\output_layer_4_6_15_3.pickle','rb') as file:\n",
    "    output_data = pickle.load(file)\n",
    "    \n",
    "output_data = np.transpose(output_data)\n",
    "output_data = output_data[permutation, :]\n",
    "y_train = output_data[:100000,:]\n",
    "y_valid = output_data[100000:102500, :]\n",
    "y_test = output_data[102500:,:]\n",
    "print(output_data.shape)"
   ]
  },
  {
   "cell_type": "code",
   "execution_count": 6,
   "metadata": {},
   "outputs": [
    {
     "name": "stdout",
     "output_type": "stream",
     "text": [
      "Train on 100000 samples, validate on 2500 samples\n",
      "Epoch 1/50\n",
      "100000/100000 - 5s - loss: 0.3370 - accuracy: 0.8586 - val_loss: 0.2243 - val_accuracy: 0.9002\n",
      "Epoch 2/50\n",
      "100000/100000 - 4s - loss: 0.2002 - accuracy: 0.9090 - val_loss: 0.1890 - val_accuracy: 0.9132\n",
      "Epoch 3/50\n",
      "100000/100000 - 3s - loss: 0.1801 - accuracy: 0.9158 - val_loss: 0.1770 - val_accuracy: 0.9180\n",
      "Epoch 4/50\n",
      "100000/100000 - 3s - loss: 0.1701 - accuracy: 0.9204 - val_loss: 0.1712 - val_accuracy: 0.9208\n",
      "Epoch 5/50\n",
      "100000/100000 - 3s - loss: 0.1634 - accuracy: 0.9239 - val_loss: 0.1650 - val_accuracy: 0.9234\n",
      "Epoch 6/50\n",
      "100000/100000 - 3s - loss: 0.1563 - accuracy: 0.9274 - val_loss: 0.1566 - val_accuracy: 0.9274\n",
      "Epoch 7/50\n",
      "100000/100000 - 3s - loss: 0.1486 - accuracy: 0.9315 - val_loss: 0.1489 - val_accuracy: 0.9323\n",
      "Epoch 8/50\n",
      "100000/100000 - 3s - loss: 0.1385 - accuracy: 0.9367 - val_loss: 0.1379 - val_accuracy: 0.9369\n",
      "Epoch 9/50\n",
      "100000/100000 - 3s - loss: 0.1260 - accuracy: 0.9417 - val_loss: 0.1233 - val_accuracy: 0.9413\n",
      "Epoch 10/50\n",
      "100000/100000 - 3s - loss: 0.1111 - accuracy: 0.9476 - val_loss: 0.1081 - val_accuracy: 0.9493\n",
      "Epoch 11/50\n",
      "100000/100000 - 3s - loss: 0.1013 - accuracy: 0.9519 - val_loss: 0.1009 - val_accuracy: 0.9521\n",
      "Epoch 12/50\n",
      "100000/100000 - 3s - loss: 0.0909 - accuracy: 0.9571 - val_loss: 0.0895 - val_accuracy: 0.9588\n",
      "Epoch 13/50\n",
      "100000/100000 - 3s - loss: 0.0830 - accuracy: 0.9612 - val_loss: 0.0865 - val_accuracy: 0.9593\n",
      "Epoch 14/50\n",
      "100000/100000 - 3s - loss: 0.0763 - accuracy: 0.9647 - val_loss: 0.0836 - val_accuracy: 0.9613\n",
      "Epoch 15/50\n",
      "100000/100000 - 3s - loss: 0.0724 - accuracy: 0.9666 - val_loss: 0.0801 - val_accuracy: 0.9621\n",
      "Epoch 16/50\n",
      "100000/100000 - 3s - loss: 0.0672 - accuracy: 0.9693 - val_loss: 0.0849 - val_accuracy: 0.9599\n",
      "Epoch 17/50\n",
      "100000/100000 - 3s - loss: 0.0637 - accuracy: 0.9712 - val_loss: 0.0667 - val_accuracy: 0.9695\n",
      "Epoch 18/50\n",
      "100000/100000 - 3s - loss: 0.0584 - accuracy: 0.9739 - val_loss: 0.0626 - val_accuracy: 0.9723\n",
      "Epoch 19/50\n",
      "100000/100000 - 3s - loss: 0.0554 - accuracy: 0.9755 - val_loss: 0.0624 - val_accuracy: 0.9728\n",
      "Epoch 20/50\n",
      "100000/100000 - 3s - loss: 0.0521 - accuracy: 0.9771 - val_loss: 0.0613 - val_accuracy: 0.9729\n",
      "Epoch 21/50\n",
      "100000/100000 - 3s - loss: 0.0517 - accuracy: 0.9772 - val_loss: 0.0635 - val_accuracy: 0.9722\n",
      "Epoch 22/50\n",
      "100000/100000 - 3s - loss: 0.0482 - accuracy: 0.9790 - val_loss: 0.0552 - val_accuracy: 0.9759\n",
      "Epoch 23/50\n",
      "100000/100000 - 3s - loss: 0.0450 - accuracy: 0.9808 - val_loss: 0.0546 - val_accuracy: 0.9756\n",
      "Epoch 24/50\n",
      "100000/100000 - 3s - loss: 0.0435 - accuracy: 0.9813 - val_loss: 0.0521 - val_accuracy: 0.9774\n",
      "Epoch 25/50\n",
      "100000/100000 - 3s - loss: 0.0401 - accuracy: 0.9829 - val_loss: 0.0560 - val_accuracy: 0.9750\n",
      "Epoch 26/50\n",
      "100000/100000 - 3s - loss: 0.0413 - accuracy: 0.9824 - val_loss: 0.0591 - val_accuracy: 0.9751\n",
      "Epoch 27/50\n",
      "100000/100000 - 3s - loss: 0.0387 - accuracy: 0.9836 - val_loss: 0.0518 - val_accuracy: 0.9779\n",
      "Epoch 28/50\n",
      "100000/100000 - 3s - loss: 0.0370 - accuracy: 0.9843 - val_loss: 0.0500 - val_accuracy: 0.9795\n",
      "Epoch 29/50\n",
      "100000/100000 - 3s - loss: 0.0344 - accuracy: 0.9855 - val_loss: 0.0470 - val_accuracy: 0.9809\n",
      "Epoch 30/50\n",
      "100000/100000 - 4s - loss: 0.0353 - accuracy: 0.9852 - val_loss: 0.0496 - val_accuracy: 0.9793\n",
      "Epoch 31/50\n",
      "100000/100000 - 4s - loss: 0.0338 - accuracy: 0.9859 - val_loss: 0.0503 - val_accuracy: 0.9806\n",
      "Epoch 32/50\n",
      "100000/100000 - 4s - loss: 0.0335 - accuracy: 0.9862 - val_loss: 0.0474 - val_accuracy: 0.9798\n",
      "Epoch 33/50\n",
      "100000/100000 - 4s - loss: 0.0305 - accuracy: 0.9875 - val_loss: 0.0439 - val_accuracy: 0.9821\n",
      "Epoch 34/50\n",
      "100000/100000 - 4s - loss: 0.0300 - accuracy: 0.9876 - val_loss: 0.0460 - val_accuracy: 0.9816\n",
      "Epoch 35/50\n",
      "100000/100000 - 4s - loss: 0.0286 - accuracy: 0.9884 - val_loss: 0.0409 - val_accuracy: 0.9834\n",
      "Epoch 36/50\n",
      "100000/100000 - 4s - loss: 0.0282 - accuracy: 0.9885 - val_loss: 0.0430 - val_accuracy: 0.9831\n",
      "Epoch 37/50\n",
      "100000/100000 - 4s - loss: 0.0276 - accuracy: 0.9889 - val_loss: 0.0445 - val_accuracy: 0.9824\n",
      "Epoch 38/50\n",
      "100000/100000 - 4s - loss: 0.0295 - accuracy: 0.9880 - val_loss: 0.0414 - val_accuracy: 0.9837\n",
      "Epoch 39/50\n",
      "100000/100000 - 4s - loss: 0.0276 - accuracy: 0.9889 - val_loss: 0.0462 - val_accuracy: 0.9821\n",
      "Epoch 40/50\n",
      "100000/100000 - 4s - loss: 0.0265 - accuracy: 0.9893 - val_loss: 0.0445 - val_accuracy: 0.9835\n",
      "Epoch 41/50\n",
      "100000/100000 - 4s - loss: 0.0265 - accuracy: 0.9892 - val_loss: 0.0440 - val_accuracy: 0.9824\n",
      "Epoch 42/50\n",
      "100000/100000 - 4s - loss: 0.0262 - accuracy: 0.9894 - val_loss: 0.0461 - val_accuracy: 0.9823\n",
      "Epoch 43/50\n",
      "100000/100000 - 4s - loss: 0.0253 - accuracy: 0.9899 - val_loss: 0.0441 - val_accuracy: 0.9834\n",
      "Epoch 44/50\n",
      "100000/100000 - 4s - loss: 0.0221 - accuracy: 0.9913 - val_loss: 0.0376 - val_accuracy: 0.9854\n",
      "Epoch 45/50\n",
      "100000/100000 - 4s - loss: 0.0222 - accuracy: 0.9913 - val_loss: 0.0427 - val_accuracy: 0.9845\n",
      "Epoch 46/50\n",
      "100000/100000 - 4s - loss: 0.0202 - accuracy: 0.9921 - val_loss: 0.0389 - val_accuracy: 0.9849\n",
      "Epoch 47/50\n",
      "100000/100000 - 4s - loss: 0.0190 - accuracy: 0.9925 - val_loss: 0.0417 - val_accuracy: 0.9846\n",
      "Epoch 48/50\n",
      "100000/100000 - 4s - loss: 0.0241 - accuracy: 0.9907 - val_loss: 0.0427 - val_accuracy: 0.9842\n",
      "Epoch 49/50\n",
      "100000/100000 - 4s - loss: 0.0232 - accuracy: 0.9908 - val_loss: 0.0410 - val_accuracy: 0.9854\n",
      "Epoch 50/50\n",
      "100000/100000 - 4s - loss: 0.0185 - accuracy: 0.9928 - val_loss: 0.0404 - val_accuracy: 0.9850\n"
     ]
    }
   ],
   "source": [
    "model = tf.keras.models.Sequential([\n",
    "    tf.keras.layers.Dense(300,input_shape = [24], activation = 'relu'),\n",
    "    tf.keras.layers.Dense(300, activation = 'relu'),\n",
    "    tf.keras.layers.Dense(300, activation = 'relu'),\n",
    "    tf.keras.layers.Dense(12, activation = 'sigmoid')\n",
    "])\n",
    "adam = tf.keras.optimizers.Adam(lr = 0.005)\n",
    "model.compile(optimizer = adam, loss = 'binary_crossentropy', metrics = ['accuracy'])\n",
    "\n",
    "history = model.fit(x_train, y_train, batch_size = 1024, epochs = 50, verbose = 2,validation_data = (x_valid, y_valid))\n"
   ]
  },
  {
   "cell_type": "code",
   "execution_count": 5,
   "metadata": {},
   "outputs": [
    {
     "data": {
      "text/plain": [
       "<Figure size 640x480 with 1 Axes>"
      ]
     },
     "metadata": {},
     "output_type": "display_data"
    }
   ],
   "source": [
    "import matplotlib.pyplot as plt\n",
    "plt.figure()\n",
    "acc = history.history['accuracy']\n",
    "loss = history.history['loss']\n",
    "val_acc = history.history['val_accuracy']\n",
    "val_loss = history.history['val_loss']\n",
    "\n",
    "epochs = range(len(acc))\n",
    "plt.plot(epochs, acc, 'r', label = 'Training accuracy')\n",
    "plt.plot(epochs, val_acc, 'b', label = 'Validating accuracy')\n",
    "plt.title('Training and Validating Accuracy')\n",
    "plt.legend()\n",
    "plt.show()"
   ]
  },
  {
   "cell_type": "code",
   "execution_count": 7,
   "metadata": {},
   "outputs": [
    {
     "name": "stdout",
     "output_type": "stream",
     "text": [
      "2500/1 - 0s - loss: 0.0620 - accuracy: 0.9838\n"
     ]
    },
    {
     "data": {
      "text/plain": [
       "[0.04253454304933548, 0.9838334]"
      ]
     },
     "execution_count": 7,
     "metadata": {},
     "output_type": "execute_result"
    }
   ],
   "source": [
    "model.evaluate(x_test, y_test, verbose = 2)"
   ]
  },
  {
   "cell_type": "code",
   "execution_count": 8,
   "metadata": {},
   "outputs": [],
   "source": [
    "model.save('C:\\\\Users\\\\Wilfred\\\\Desktop\\\\weights\\\\Min_Max\\\\Min_Max_4_6_15_3_model.h5')"
   ]
  },
  {
   "cell_type": "code",
   "execution_count": null,
   "metadata": {},
   "outputs": [],
   "source": []
  }
 ],
 "metadata": {
  "kernelspec": {
   "display_name": "Python 3",
   "language": "python",
   "name": "python3"
  },
  "language_info": {
   "codemirror_mode": {
    "name": "ipython",
    "version": 3
   },
   "file_extension": ".py",
   "mimetype": "text/x-python",
   "name": "python",
   "nbconvert_exporter": "python",
   "pygments_lexer": "ipython3",
   "version": "3.7.5"
  }
 },
 "nbformat": 4,
 "nbformat_minor": 2
}
